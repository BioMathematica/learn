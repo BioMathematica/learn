{
 "cells": [
  {
   "cell_type": "markdown",
   "metadata": {},
   "source": [
    "# Investigate query runtime, join indexes, and complexity estimation\n",
    "\n",
    "By evaluating all join indexes"
   ]
  },
  {
   "cell_type": "code",
   "execution_count": 1,
   "metadata": {
    "collapsed": false
   },
   "outputs": [],
   "source": [
    "import json\n",
    "import random\n",
    "import time\n",
    "import bz2\n",
    "\n",
    "import numpy\n",
    "import pandas\n",
    "import py2neo\n",
    "\n",
    "import hetio.neo4j\n",
    "import hetio.readwrite"
   ]
  },
  {
   "cell_type": "markdown",
   "metadata": {},
   "source": [
    "## Set up and execute neo4j queries"
   ]
  },
  {
   "cell_type": "code",
   "execution_count": 2,
   "metadata": {
    "collapsed": true
   },
   "outputs": [],
   "source": [
    "args = {\n",
    "    'n_metapaths': 50,\n",
    "    'port': 7499,\n",
    "    'n_positives': 200\n",
    "}"
   ]
  },
  {
   "cell_type": "code",
   "execution_count": 3,
   "metadata": {
    "collapsed": false
   },
   "outputs": [],
   "source": [
    "# Load metagraph for the hetnet\n",
    "commit = '0f2ef740197dd2767cb0de80f57d9f47e2e91c7a'\n",
    "url = 'https://github.com/dhimmel/integrate/raw/{}/data/metagraph.json'.format(commit)\n",
    "metagraph = hetio.readwrite.read_metagraph(url)"
   ]
  },
  {
   "cell_type": "code",
   "execution_count": 4,
   "metadata": {
    "collapsed": false
   },
   "outputs": [],
   "source": [
    "# Read metapath information\n",
    "with open('../../all-features/data/metapaths.json') as fp:\n",
    "    metapaths = json.load(fp)\n",
    "\n",
    "# Randomly select a subset of metapaths\n",
    "random.seed(0)\n",
    "metapaths = random.sample(metapaths, args['n_metapaths'])\n",
    "abbrev_to_item = {item['abbreviation']: item for item in metapaths}\n",
    "metapaths = [metagraph.metapath_from_abbrev(metapath['abbreviation']) for metapath in metapaths]"
   ]
  },
  {
   "cell_type": "markdown",
   "metadata": {},
   "source": [
    "Note: it would be helpful to add no join hint: see what happens when you let neo4j decide."
   ]
  },
  {
   "cell_type": "code",
   "execution_count": 5,
   "metadata": {
    "collapsed": false
   },
   "outputs": [
    {
     "data": {
      "text/html": [
       "<div>\n",
       "<table border=\"1\" class=\"dataframe\">\n",
       "  <thead>\n",
       "    <tr style=\"text-align: right;\">\n",
       "      <th></th>\n",
       "      <th>metapath</th>\n",
       "      <th>join_index</th>\n",
       "      <th>complexity</th>\n",
       "      <th>optimal_index</th>\n",
       "      <th>midpoint_index</th>\n",
       "    </tr>\n",
       "  </thead>\n",
       "  <tbody>\n",
       "    <tr>\n",
       "      <th>0</th>\n",
       "      <td>CdGcGr&gt;GuD</td>\n",
       "      <td>0</td>\n",
       "      <td>4.812894</td>\n",
       "      <td>False</td>\n",
       "      <td>False</td>\n",
       "    </tr>\n",
       "    <tr>\n",
       "      <th>1</th>\n",
       "      <td>CdGcGr&gt;GuD</td>\n",
       "      <td>1</td>\n",
       "      <td>4.573193</td>\n",
       "      <td>False</td>\n",
       "      <td>False</td>\n",
       "    </tr>\n",
       "    <tr>\n",
       "      <th>2</th>\n",
       "      <td>CdGcGr&gt;GuD</td>\n",
       "      <td>2</td>\n",
       "      <td>3.812083</td>\n",
       "      <td>False</td>\n",
       "      <td>True</td>\n",
       "    </tr>\n",
       "  </tbody>\n",
       "</table>\n",
       "</div>"
      ],
      "text/plain": [
       "     metapath  join_index  complexity optimal_index midpoint_index\n",
       "0  CdGcGr>GuD           0    4.812894         False          False\n",
       "1  CdGcGr>GuD           1    4.573193         False          False\n",
       "2  CdGcGr>GuD           2    3.812083         False           True"
      ]
     },
     "execution_count": 5,
     "metadata": {},
     "output_type": "execute_result"
    }
   ],
   "source": [
    "# Create a dataframe of estimated complexity\n",
    "rows = list()\n",
    "for abbrev, item in abbrev_to_item.items():\n",
    "    for i, complexity, in enumerate(item['join_complexities']):\n",
    "        row = abbrev, i, complexity, i == item['optimal_join_index'], i == item['midpoint_index']\n",
    "        rows.append(row)\n",
    "\n",
    "index_df = pandas.DataFrame(rows, columns=['metapath', 'join_index', 'complexity', 'optimal_index', 'midpoint_index'])\n",
    "index_df.head(3)"
   ]
  },
  {
   "cell_type": "code",
   "execution_count": 6,
   "metadata": {
    "collapsed": false
   },
   "outputs": [],
   "source": [
    "# Create a dataframe of queries\n",
    "rows = list()\n",
    "for metapath in metapaths:\n",
    "    for i in range(len(metapath) + 1):\n",
    "        query = hetio.neo4j.construct_dwpc_query(metapath, join_hint=i)\n",
    "        rows.append((str(metapath), query, i))\n",
    "query_df = pandas.DataFrame(rows, columns=['metapath', 'query', 'join_index'])"
   ]
  },
  {
   "cell_type": "code",
   "execution_count": 7,
   "metadata": {
    "collapsed": false
   },
   "outputs": [],
   "source": [
    "# Connect to neo4j server\n",
    "uri = 'http://localhost:{}/db/data/'.format(args['port'])\n",
    "neo = py2neo.Graph(uri)"
   ]
  },
  {
   "cell_type": "code",
   "execution_count": 8,
   "metadata": {
    "collapsed": false
   },
   "outputs": [],
   "source": [
    "# Retreive network positives\n",
    "query ='''\n",
    "MATCH (c:Compound)-[:TREATS_CtD]->(d:Disease)\n",
    "RETURN d.name AS disease, c.name AS compound\n",
    "'''\n",
    "results = neo.cypher.execute(query)\n",
    "pair_df = pandas.DataFrame(results.records, columns=results.columns)\n",
    "pair_df = pair_df.sample(args['n_positives'], random_state=0)"
   ]
  },
  {
   "cell_type": "code",
   "execution_count": 9,
   "metadata": {
    "collapsed": false
   },
   "outputs": [
    {
     "data": {
      "text/html": [
       "<div>\n",
       "<table border=\"1\" class=\"dataframe\">\n",
       "  <thead>\n",
       "    <tr style=\"text-align: right;\">\n",
       "      <th></th>\n",
       "      <th>disease</th>\n",
       "      <th>compound</th>\n",
       "      <th>metapath</th>\n",
       "      <th>query</th>\n",
       "      <th>join_index</th>\n",
       "    </tr>\n",
       "  </thead>\n",
       "  <tbody>\n",
       "    <tr>\n",
       "      <th>0</th>\n",
       "      <td>epilepsy syndrome</td>\n",
       "      <td>Carbamazepine</td>\n",
       "      <td>CrCdGuCpD</td>\n",
       "      <td>MATCH path = (n0:Compound)-[:RESEMBLES_CrC]-(n...</td>\n",
       "      <td>0</td>\n",
       "    </tr>\n",
       "    <tr>\n",
       "      <th>1</th>\n",
       "      <td>epilepsy syndrome</td>\n",
       "      <td>Carbamazepine</td>\n",
       "      <td>CrCdGuCpD</td>\n",
       "      <td>MATCH path = (n0:Compound)-[:RESEMBLES_CrC]-(n...</td>\n",
       "      <td>1</td>\n",
       "    </tr>\n",
       "  </tbody>\n",
       "</table>\n",
       "</div>"
      ],
      "text/plain": [
       "             disease       compound   metapath  \\\n",
       "0  epilepsy syndrome  Carbamazepine  CrCdGuCpD   \n",
       "1  epilepsy syndrome  Carbamazepine  CrCdGuCpD   \n",
       "\n",
       "                                               query  join_index  \n",
       "0  MATCH path = (n0:Compound)-[:RESEMBLES_CrC]-(n...           0  \n",
       "1  MATCH path = (n0:Compound)-[:RESEMBLES_CrC]-(n...           1  "
      ]
     },
     "execution_count": 9,
     "metadata": {},
     "output_type": "execute_result"
    }
   ],
   "source": [
    "# Merge queries and pairs\n",
    "pair_df['dummy'] = 1\n",
    "query_df['dummy'] = 1\n",
    "query_df = pair_df.merge(query_df)\n",
    "del query_df['dummy']\n",
    "query_df.head(2)"
   ]
  },
  {
   "cell_type": "code",
   "execution_count": 10,
   "metadata": {
    "collapsed": false
   },
   "outputs": [
    {
     "data": {
      "text/plain": [
       "48800"
      ]
     },
     "execution_count": 10,
     "metadata": {},
     "output_type": "execute_result"
    }
   ],
   "source": [
    "# Number of queries\n",
    "len(query_df)"
   ]
  },
  {
   "cell_type": "code",
   "execution_count": 11,
   "metadata": {
    "collapsed": false
   },
   "outputs": [
    {
     "name": "stdout",
     "output_type": "stream",
     "text": []
    }
   ],
   "source": [
    "# Perform queries\n",
    "rows = list()\n",
    "for row in query_df.itertuples():\n",
    "    start = time.time()\n",
    "    result = neo.cypher.execute(row.query, source=row.compound, target=row.disease, w=0.4)\n",
    "    seconds = time.time() - start\n",
    "    row = list(row)[1:] + list(result.records[0]) + [seconds]\n",
    "    rows.append(row)\n",
    "    print('Completed {:.4%}'.format(len(rows) / len(query_df)), end='\\r')\n",
    "\n",
    "result_df = pandas.DataFrame(rows, columns= list(query_df.columns) + list(result.columns) + ['seconds'])"
   ]
  },
  {
   "cell_type": "code",
   "execution_count": 12,
   "metadata": {
    "collapsed": false
   },
   "outputs": [
    {
     "data": {
      "text/plain": [
       "48800"
      ]
     },
     "execution_count": 12,
     "metadata": {},
     "output_type": "execute_result"
    }
   ],
   "source": [
    "len(rows)"
   ]
  },
  {
   "cell_type": "code",
   "execution_count": 14,
   "metadata": {
    "collapsed": false
   },
   "outputs": [
    {
     "data": {
      "text/html": [
       "<div>\n",
       "<table border=\"1\" class=\"dataframe\">\n",
       "  <thead>\n",
       "    <tr style=\"text-align: right;\">\n",
       "      <th></th>\n",
       "      <th>disease</th>\n",
       "      <th>compound</th>\n",
       "      <th>metapath</th>\n",
       "      <th>query</th>\n",
       "      <th>join_index</th>\n",
       "      <th>PC</th>\n",
       "      <th>DWPC</th>\n",
       "      <th>seconds</th>\n",
       "    </tr>\n",
       "  </thead>\n",
       "  <tbody>\n",
       "    <tr>\n",
       "      <th>0</th>\n",
       "      <td>epilepsy syndrome</td>\n",
       "      <td>Carbamazepine</td>\n",
       "      <td>CrCdGuCpD</td>\n",
       "      <td>MATCH path = (n0:Compound)-[:RESEMBLES_CrC]-(n...</td>\n",
       "      <td>0</td>\n",
       "      <td>0</td>\n",
       "      <td>0.0</td>\n",
       "      <td>0.006906</td>\n",
       "    </tr>\n",
       "    <tr>\n",
       "      <th>1</th>\n",
       "      <td>epilepsy syndrome</td>\n",
       "      <td>Carbamazepine</td>\n",
       "      <td>CrCdGuCpD</td>\n",
       "      <td>MATCH path = (n0:Compound)-[:RESEMBLES_CrC]-(n...</td>\n",
       "      <td>1</td>\n",
       "      <td>0</td>\n",
       "      <td>0.0</td>\n",
       "      <td>0.006415</td>\n",
       "    </tr>\n",
       "  </tbody>\n",
       "</table>\n",
       "</div>"
      ],
      "text/plain": [
       "             disease       compound   metapath  \\\n",
       "0  epilepsy syndrome  Carbamazepine  CrCdGuCpD   \n",
       "1  epilepsy syndrome  Carbamazepine  CrCdGuCpD   \n",
       "\n",
       "                                               query  join_index  PC  DWPC  \\\n",
       "0  MATCH path = (n0:Compound)-[:RESEMBLES_CrC]-(n...           0   0   0.0   \n",
       "1  MATCH path = (n0:Compound)-[:RESEMBLES_CrC]-(n...           1   0   0.0   \n",
       "\n",
       "    seconds  \n",
       "0  0.006906  \n",
       "1  0.006415  "
      ]
     },
     "execution_count": 14,
     "metadata": {},
     "output_type": "execute_result"
    }
   ],
   "source": [
    "result_df.head(2)"
   ]
  },
  {
   "cell_type": "markdown",
   "metadata": {},
   "source": [
    "## Analyze query results"
   ]
  },
  {
   "cell_type": "code",
   "execution_count": 15,
   "metadata": {
    "collapsed": false,
    "scrolled": false
   },
   "outputs": [
    {
     "data": {
      "text/html": [
       "<div>\n",
       "<table border=\"1\" class=\"dataframe\">\n",
       "  <thead>\n",
       "    <tr style=\"text-align: right;\">\n",
       "      <th></th>\n",
       "      <th>disease</th>\n",
       "      <th>compound</th>\n",
       "      <th>metapath</th>\n",
       "      <th>join_index</th>\n",
       "      <th>PC</th>\n",
       "      <th>DWPC</th>\n",
       "      <th>seconds</th>\n",
       "      <th>complexity</th>\n",
       "      <th>optimal_index</th>\n",
       "      <th>midpoint_index</th>\n",
       "      <th>log_seconds</th>\n",
       "    </tr>\n",
       "  </thead>\n",
       "  <tbody>\n",
       "    <tr>\n",
       "      <th>21944</th>\n",
       "      <td>Alzheimer's disease</td>\n",
       "      <td>Galantamine</td>\n",
       "      <td>CbG&lt;rGr&gt;GaD</td>\n",
       "      <td>0</td>\n",
       "      <td>358</td>\n",
       "      <td>0.001389</td>\n",
       "      <td>0.150434</td>\n",
       "      <td>4.182732</td>\n",
       "      <td>False</td>\n",
       "      <td>False</td>\n",
       "      <td>-0.822655</td>\n",
       "    </tr>\n",
       "    <tr>\n",
       "      <th>22144</th>\n",
       "      <td>Alzheimer's disease</td>\n",
       "      <td>Galantamine</td>\n",
       "      <td>CbG&lt;rGr&gt;GaD</td>\n",
       "      <td>1</td>\n",
       "      <td>358</td>\n",
       "      <td>0.001389</td>\n",
       "      <td>8.675076</td>\n",
       "      <td>4.440559</td>\n",
       "      <td>False</td>\n",
       "      <td>False</td>\n",
       "      <td>0.938273</td>\n",
       "    </tr>\n",
       "    <tr>\n",
       "      <th>22344</th>\n",
       "      <td>Alzheimer's disease</td>\n",
       "      <td>Galantamine</td>\n",
       "      <td>CbG&lt;rGr&gt;GaD</td>\n",
       "      <td>2</td>\n",
       "      <td>358</td>\n",
       "      <td>0.001389</td>\n",
       "      <td>0.046207</td>\n",
       "      <td>3.236234</td>\n",
       "      <td>False</td>\n",
       "      <td>True</td>\n",
       "      <td>-1.335290</td>\n",
       "    </tr>\n",
       "  </tbody>\n",
       "</table>\n",
       "</div>"
      ],
      "text/plain": [
       "                   disease     compound     metapath  join_index   PC  \\\n",
       "21944  Alzheimer's disease  Galantamine  CbG<rGr>GaD           0  358   \n",
       "22144  Alzheimer's disease  Galantamine  CbG<rGr>GaD           1  358   \n",
       "22344  Alzheimer's disease  Galantamine  CbG<rGr>GaD           2  358   \n",
       "\n",
       "           DWPC   seconds  complexity optimal_index midpoint_index  \\\n",
       "21944  0.001389  0.150434    4.182732         False          False   \n",
       "22144  0.001389  8.675076    4.440559         False          False   \n",
       "22344  0.001389  0.046207    3.236234         False           True   \n",
       "\n",
       "       log_seconds  \n",
       "21944    -0.822655  \n",
       "22144     0.938273  \n",
       "22344    -1.335290  "
      ]
     },
     "execution_count": 15,
     "metadata": {},
     "output_type": "execute_result"
    }
   ],
   "source": [
    "complexity_df = result_df.merge(index_df).sort_values(['disease', 'compound', 'metapath', 'join_index'])\n",
    "del complexity_df['query']\n",
    "complexity_df.seconds = complexity_df.seconds.astype(float)\n",
    "complexity_df['log_seconds'] = numpy.log10(complexity_df.seconds)\n",
    "complexity_df.head(3)"
   ]
  },
  {
   "cell_type": "code",
   "execution_count": 24,
   "metadata": {
    "collapsed": true
   },
   "outputs": [],
   "source": [
    "with bz2.open('data/query-results.tsv.bz2', 'wt') as write_file:\n",
    "    complexity_df.to_csv(write_file, sep='\\t', index=False, float_format='%.5g')"
   ]
  },
  {
   "cell_type": "code",
   "execution_count": 17,
   "metadata": {
    "collapsed": false
   },
   "outputs": [
    {
     "data": {
      "text/plain": [
       "48800"
      ]
     },
     "execution_count": 17,
     "metadata": {},
     "output_type": "execute_result"
    }
   ],
   "source": [
    "len(complexity_df)"
   ]
  },
  {
   "cell_type": "code",
   "execution_count": 18,
   "metadata": {
    "collapsed": false,
    "scrolled": true
   },
   "outputs": [
    {
     "data": {
      "text/html": [
       "<div>\n",
       "<table border=\"1\" class=\"dataframe\">\n",
       "  <thead>\n",
       "    <tr style=\"text-align: right;\">\n",
       "      <th></th>\n",
       "      <th>disease</th>\n",
       "      <th>compound</th>\n",
       "      <th>metapath</th>\n",
       "      <th>optimal_is_best</th>\n",
       "      <th>midpoint_is_best</th>\n",
       "      <th>rank_of_fastest</th>\n",
       "      <th>min_seconds</th>\n",
       "      <th>delay_of_optimal</th>\n",
       "      <th>delay_of_midpoint</th>\n",
       "    </tr>\n",
       "  </thead>\n",
       "  <tbody>\n",
       "    <tr>\n",
       "      <th>0</th>\n",
       "      <td>Alzheimer's disease</td>\n",
       "      <td>Galantamine</td>\n",
       "      <td>CbG&lt;rGr&gt;GaD</td>\n",
       "      <td>0</td>\n",
       "      <td>1</td>\n",
       "      <td>2</td>\n",
       "      <td>0.046207</td>\n",
       "      <td>0.104974</td>\n",
       "      <td>0.000000</td>\n",
       "    </tr>\n",
       "    <tr>\n",
       "      <th>1</th>\n",
       "      <td>Alzheimer's disease</td>\n",
       "      <td>Galantamine</td>\n",
       "      <td>CbGcGbCpD</td>\n",
       "      <td>0</td>\n",
       "      <td>0</td>\n",
       "      <td>2</td>\n",
       "      <td>0.001874</td>\n",
       "      <td>0.002421</td>\n",
       "      <td>0.000175</td>\n",
       "    </tr>\n",
       "    <tr>\n",
       "      <th>2</th>\n",
       "      <td>Alzheimer's disease</td>\n",
       "      <td>Galantamine</td>\n",
       "      <td>CbGcGcGdD</td>\n",
       "      <td>0</td>\n",
       "      <td>0</td>\n",
       "      <td>2</td>\n",
       "      <td>0.022984</td>\n",
       "      <td>0.022924</td>\n",
       "      <td>0.029113</td>\n",
       "    </tr>\n",
       "    <tr>\n",
       "      <th>3</th>\n",
       "      <td>Alzheimer's disease</td>\n",
       "      <td>Galantamine</td>\n",
       "      <td>CbGcGiGdD</td>\n",
       "      <td>1</td>\n",
       "      <td>0</td>\n",
       "      <td>1</td>\n",
       "      <td>0.013181</td>\n",
       "      <td>0.000000</td>\n",
       "      <td>0.100678</td>\n",
       "    </tr>\n",
       "    <tr>\n",
       "      <th>4</th>\n",
       "      <td>Alzheimer's disease</td>\n",
       "      <td>Galantamine</td>\n",
       "      <td>CbGcGr&gt;GuD</td>\n",
       "      <td>1</td>\n",
       "      <td>0</td>\n",
       "      <td>1</td>\n",
       "      <td>0.029613</td>\n",
       "      <td>0.000000</td>\n",
       "      <td>0.135766</td>\n",
       "    </tr>\n",
       "  </tbody>\n",
       "</table>\n",
       "</div>"
      ],
      "text/plain": [
       "               disease     compound     metapath  optimal_is_best  \\\n",
       "0  Alzheimer's disease  Galantamine  CbG<rGr>GaD                0   \n",
       "1  Alzheimer's disease  Galantamine    CbGcGbCpD                0   \n",
       "2  Alzheimer's disease  Galantamine    CbGcGcGdD                0   \n",
       "3  Alzheimer's disease  Galantamine    CbGcGiGdD                1   \n",
       "4  Alzheimer's disease  Galantamine   CbGcGr>GuD                1   \n",
       "\n",
       "   midpoint_is_best  rank_of_fastest  min_seconds  delay_of_optimal  \\\n",
       "0                 1                2     0.046207          0.104974   \n",
       "1                 0                2     0.001874          0.002421   \n",
       "2                 0                2     0.022984          0.022924   \n",
       "3                 0                1     0.013181          0.000000   \n",
       "4                 0                1     0.029613          0.000000   \n",
       "\n",
       "   delay_of_midpoint  \n",
       "0           0.000000  \n",
       "1           0.000175  \n",
       "2           0.029113  \n",
       "3           0.100678  \n",
       "4           0.135766  "
      ]
     },
     "execution_count": 18,
     "metadata": {},
     "output_type": "execute_result"
    }
   ],
   "source": [
    "# Summarize by query\n",
    "def summary(df):\n",
    "    row = pandas.Series()\n",
    "    \n",
    "    df = df.sort_values('seconds')\n",
    "    row['optimal_is_best'] = df.optimal_index.iloc[0]\n",
    "    row['midpoint_is_best'] = df.midpoint_index.iloc[0]\n",
    "    \n",
    "    df = df.sort_values('complexity')\n",
    "    row['rank_of_fastest'] = 1 + numpy.argmin(list(df.seconds))\n",
    "    min_seconds = df.seconds.min()\n",
    "    row['min_seconds'] = min_seconds\n",
    "    row['delay_of_optimal'] = df.loc[df.optimal_index, 'seconds'].iloc[0] - min_seconds\n",
    "    row['delay_of_midpoint'] = df.loc[df.midpoint_index, 'seconds'].iloc[0] - min_seconds\n",
    "\n",
    "    return row\n",
    "\n",
    "query_summary_df = complexity_df.groupby(['disease', 'compound', 'metapath']).apply(summary).reset_index()\n",
    "for column in 'optimal_is_best', 'midpoint_is_best', 'rank_of_fastest':\n",
    "    query_summary_df[column] = query_summary_df[column].astype(int)\n",
    "query_summary_df.head()"
   ]
  },
  {
   "cell_type": "code",
   "execution_count": 19,
   "metadata": {
    "collapsed": false
   },
   "outputs": [
    {
     "data": {
      "text/plain": [
       "1    0.3723\n",
       "2    0.2432\n",
       "3    0.1855\n",
       "4    0.1317\n",
       "5    0.0673\n",
       "Name: rank_of_fastest, dtype: float64"
      ]
     },
     "execution_count": 19,
     "metadata": {},
     "output_type": "execute_result"
    }
   ],
   "source": [
    "# Percent of the time that each complexity rank (higher is harder) was fastest\n",
    "query_summary_df.rank_of_fastest.value_counts(normalize=True)"
   ]
  },
  {
   "cell_type": "code",
   "execution_count": 20,
   "metadata": {
    "collapsed": false
   },
   "outputs": [
    {
     "data": {
      "text/plain": [
       "optimal_is_best      0.372200\n",
       "midpoint_is_best     0.408500\n",
       "rank_of_fastest      2.278500\n",
       "min_seconds          0.617707\n",
       "delay_of_optimal     0.057719\n",
       "delay_of_midpoint    0.011089\n",
       "dtype: float64"
      ]
     },
     "execution_count": 20,
     "metadata": {},
     "output_type": "execute_result"
    }
   ],
   "source": [
    "# Mean of each column: Percentages for binary columns\n",
    "query_summary_df.mean()"
   ]
  },
  {
   "cell_type": "code",
   "execution_count": 21,
   "metadata": {
    "collapsed": false
   },
   "outputs": [
    {
     "data": {
      "text/html": [
       "<div>\n",
       "<table border=\"1\" class=\"dataframe\">\n",
       "  <thead>\n",
       "    <tr style=\"text-align: right;\">\n",
       "      <th></th>\n",
       "      <th>metapath</th>\n",
       "      <th>optimal_is_best</th>\n",
       "      <th>midpoint_is_best</th>\n",
       "      <th>rank_of_fastest</th>\n",
       "      <th>min_seconds</th>\n",
       "      <th>delay_of_optimal</th>\n",
       "      <th>delay_of_midpoint</th>\n",
       "    </tr>\n",
       "  </thead>\n",
       "  <tbody>\n",
       "    <tr>\n",
       "      <th>0</th>\n",
       "      <td>CbG&lt;rGr&gt;GaD</td>\n",
       "      <td>0.025</td>\n",
       "      <td>0.870</td>\n",
       "      <td>2.125</td>\n",
       "      <td>0.151339</td>\n",
       "      <td>1.096688</td>\n",
       "      <td>0.001552</td>\n",
       "    </tr>\n",
       "    <tr>\n",
       "      <th>1</th>\n",
       "      <td>CbGcGbCpD</td>\n",
       "      <td>0.155</td>\n",
       "      <td>0.260</td>\n",
       "      <td>2.640</td>\n",
       "      <td>0.001927</td>\n",
       "      <td>0.001558</td>\n",
       "      <td>0.000375</td>\n",
       "    </tr>\n",
       "    <tr>\n",
       "      <th>2</th>\n",
       "      <td>CbGcGcGdD</td>\n",
       "      <td>0.075</td>\n",
       "      <td>0.325</td>\n",
       "      <td>2.490</td>\n",
       "      <td>0.008136</td>\n",
       "      <td>0.022918</td>\n",
       "      <td>0.013493</td>\n",
       "    </tr>\n",
       "    <tr>\n",
       "      <th>3</th>\n",
       "      <td>CbGcGiGdD</td>\n",
       "      <td>0.490</td>\n",
       "      <td>0.235</td>\n",
       "      <td>2.255</td>\n",
       "      <td>0.005744</td>\n",
       "      <td>0.001127</td>\n",
       "      <td>0.034586</td>\n",
       "    </tr>\n",
       "    <tr>\n",
       "      <th>4</th>\n",
       "      <td>CbGcGr&gt;GuD</td>\n",
       "      <td>0.545</td>\n",
       "      <td>0.275</td>\n",
       "      <td>2.015</td>\n",
       "      <td>0.007687</td>\n",
       "      <td>0.001011</td>\n",
       "      <td>0.063892</td>\n",
       "    </tr>\n",
       "  </tbody>\n",
       "</table>\n",
       "</div>"
      ],
      "text/plain": [
       "      metapath  optimal_is_best  midpoint_is_best  rank_of_fastest  \\\n",
       "0  CbG<rGr>GaD            0.025             0.870            2.125   \n",
       "1    CbGcGbCpD            0.155             0.260            2.640   \n",
       "2    CbGcGcGdD            0.075             0.325            2.490   \n",
       "3    CbGcGiGdD            0.490             0.235            2.255   \n",
       "4   CbGcGr>GuD            0.545             0.275            2.015   \n",
       "\n",
       "   min_seconds  delay_of_optimal  delay_of_midpoint  \n",
       "0     0.151339          1.096688           0.001552  \n",
       "1     0.001927          0.001558           0.000375  \n",
       "2     0.008136          0.022918           0.013493  \n",
       "3     0.005744          0.001127           0.034586  \n",
       "4     0.007687          0.001011           0.063892  "
      ]
     },
     "execution_count": 21,
     "metadata": {},
     "output_type": "execute_result"
    }
   ],
   "source": [
    "metapath_summary_df = query_summary_df.groupby('metapath').mean().reset_index()\n",
    "metapath_summary_df.head()"
   ]
  },
  {
   "cell_type": "code",
   "execution_count": 23,
   "metadata": {
    "collapsed": false,
    "scrolled": true
   },
   "outputs": [
    {
     "data": {
      "text/html": [
       "<div>\n",
       "<table border=\"1\" class=\"dataframe\">\n",
       "  <thead>\n",
       "    <tr style=\"text-align: right;\">\n",
       "      <th></th>\n",
       "      <th>metapath</th>\n",
       "      <th>fastest_index</th>\n",
       "      <th>delay_of_optimal</th>\n",
       "      <th>delay_of_midpoint</th>\n",
       "    </tr>\n",
       "  </thead>\n",
       "  <tbody>\n",
       "    <tr>\n",
       "      <th>0</th>\n",
       "      <td>CbG&lt;rGr&gt;GaD</td>\n",
       "      <td>2</td>\n",
       "      <td>1.095136</td>\n",
       "      <td>0.000000</td>\n",
       "    </tr>\n",
       "    <tr>\n",
       "      <th>1</th>\n",
       "      <td>CbGcGbCpD</td>\n",
       "      <td>2</td>\n",
       "      <td>0.001184</td>\n",
       "      <td>0.000000</td>\n",
       "    </tr>\n",
       "    <tr>\n",
       "      <th>2</th>\n",
       "      <td>CbGcGcGdD</td>\n",
       "      <td>3</td>\n",
       "      <td>0.020069</td>\n",
       "      <td>0.010644</td>\n",
       "    </tr>\n",
       "    <tr>\n",
       "      <th>3</th>\n",
       "      <td>CbGcGiGdD</td>\n",
       "      <td>3</td>\n",
       "      <td>0.000000</td>\n",
       "      <td>0.033459</td>\n",
       "    </tr>\n",
       "    <tr>\n",
       "      <th>4</th>\n",
       "      <td>CbGcGr&gt;GuD</td>\n",
       "      <td>3</td>\n",
       "      <td>0.000000</td>\n",
       "      <td>0.062881</td>\n",
       "    </tr>\n",
       "  </tbody>\n",
       "</table>\n",
       "</div>"
      ],
      "text/plain": [
       "      metapath  fastest_index  delay_of_optimal  delay_of_midpoint\n",
       "0  CbG<rGr>GaD              2          1.095136           0.000000\n",
       "1    CbGcGbCpD              2          0.001184           0.000000\n",
       "2    CbGcGcGdD              3          0.020069           0.010644\n",
       "3    CbGcGiGdD              3          0.000000           0.033459\n",
       "4   CbGcGr>GuD              3          0.000000           0.062881"
      ]
     },
     "execution_count": 23,
     "metadata": {},
     "output_type": "execute_result"
    }
   ],
   "source": [
    "def summary(df):\n",
    "    row = pandas.Series()\n",
    "    best_time = df.seconds.min()\n",
    "    row['fastest_index'] = df.join_index.iloc[numpy.argmin(list(df.seconds))]\n",
    "    row['delay_of_optimal'] = df.loc[df.optimal_index, 'seconds'].iloc[0] - best_time\n",
    "    row['delay_of_midpoint'] = df.loc[df.midpoint_index, 'seconds'].iloc[0] - best_time\n",
    "    return row\n",
    "\n",
    "metapath_choice_df = complexity_df.groupby(\n",
    "    ['metapath', 'join_index', 'optimal_index', 'midpoint_index']\n",
    ").seconds.mean().reset_index().groupby('metapath').apply(summary).reset_index()\n",
    "metapath_choice_df.fastest_index = metapath_choice_df.fastest_index.astype(int)\n",
    "metapath_choice_df.head()"
   ]
  },
  {
   "cell_type": "code",
   "execution_count": 27,
   "metadata": {
    "collapsed": true
   },
   "outputs": [],
   "source": [
    "query_summary_df.to_csv('data/query-summaries.tsv', sep='\\t', index=False, float_format='%.4g')\n",
    "metapath_summary_df.to_csv('data/metapath-summaries.tsv', sep='\\t', index=False, float_format='%.4g')\n",
    "metapath_choice_df.to_csv('data/index-choice-by-metapath.tsv', sep='\\t', index=False, float_format='%.4g')"
   ]
  },
  {
   "cell_type": "code",
   "execution_count": 32,
   "metadata": {
    "collapsed": false
   },
   "outputs": [],
   "source": [
    "# import seaborn\n",
    "# %matplotlib inline\n",
    "# ax = seaborn.lmplot(x='complexity', y='log_seconds', data=complexity_df, lowess=True, row='metapath', hue='join_index')"
   ]
  }
 ],
 "metadata": {
  "kernelspec": {
   "display_name": "Python 3",
   "language": "python",
   "name": "python3"
  },
  "language_info": {
   "codemirror_mode": {
    "name": "ipython",
    "version": 3
   },
   "file_extension": ".py",
   "mimetype": "text/x-python",
   "name": "python",
   "nbconvert_exporter": "python",
   "pygments_lexer": "ipython3",
   "version": "3.5.1"
  }
 },
 "nbformat": 4,
 "nbformat_minor": 0
}
