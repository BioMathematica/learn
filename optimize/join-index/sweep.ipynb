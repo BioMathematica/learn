{
 "cells": [
  {
   "cell_type": "markdown",
   "metadata": {},
   "source": [
    "# Investigate query runtime, join indexes, and complexity estimation\n",
    "\n",
    "By evaluating all join indexes"
   ]
  },
  {
   "cell_type": "code",
   "execution_count": 1,
   "metadata": {
    "collapsed": false
   },
   "outputs": [],
   "source": [
    "import json\n",
    "import random\n",
    "import time\n",
    "import bz2\n",
    "\n",
    "import numpy\n",
    "import pandas\n",
    "import py2neo\n",
    "\n",
    "import hetio.neo4j\n",
    "import hetio.readwrite"
   ]
  },
  {
   "cell_type": "markdown",
   "metadata": {},
   "source": [
    "## Set up and execute neo4j queries"
   ]
  },
  {
   "cell_type": "code",
   "execution_count": 2,
   "metadata": {
    "collapsed": true
   },
   "outputs": [],
   "source": [
    "args = {\n",
    "    'n_metapaths': 75,\n",
    "    'port': 7500,\n",
    "    'n_positives': 150\n",
    "}"
   ]
  },
  {
   "cell_type": "code",
   "execution_count": 3,
   "metadata": {
    "collapsed": false
   },
   "outputs": [],
   "source": [
    "# Load metagraph for the hetnet\n",
    "commit = '1229536c6d2146c4cae97f045cf8cbdd272420f6'\n",
    "url = 'https://github.com/dhimmel/integrate/raw/{}/data/metagraph.json'.format(commit)\n",
    "metagraph = hetio.readwrite.read_metagraph(url)"
   ]
  },
  {
   "cell_type": "code",
   "execution_count": 4,
   "metadata": {
    "collapsed": false
   },
   "outputs": [],
   "source": [
    "# Read metapath information\n",
    "with open('../../all-features/data/metapaths.json') as fp:\n",
    "    metapaths = json.load(fp)\n",
    "\n",
    "# Randomly select a subset of metapaths\n",
    "random.seed(0)\n",
    "metapaths = random.sample(metapaths, args['n_metapaths'])\n",
    "abbrev_to_item = {item['abbreviation']: item for item in metapaths}\n",
    "metapaths = [metagraph.metapath_from_abbrev(metapath['abbreviation']) for metapath in metapaths]"
   ]
  },
  {
   "cell_type": "code",
   "execution_count": 5,
   "metadata": {
    "collapsed": false
   },
   "outputs": [
    {
     "data": {
      "text/html": [
       "<div>\n",
       "<table border=\"1\" class=\"dataframe\">\n",
       "  <thead>\n",
       "    <tr style=\"text-align: right;\">\n",
       "      <th></th>\n",
       "      <th>metapath</th>\n",
       "      <th>join_index</th>\n",
       "      <th>complexity</th>\n",
       "      <th>optimal_index</th>\n",
       "      <th>midpoint_index</th>\n",
       "    </tr>\n",
       "  </thead>\n",
       "  <tbody>\n",
       "    <tr>\n",
       "      <th>0</th>\n",
       "      <td>CbGbCuGuD</td>\n",
       "      <td>0</td>\n",
       "      <td>2.318345</td>\n",
       "      <td>False</td>\n",
       "      <td>False</td>\n",
       "    </tr>\n",
       "    <tr>\n",
       "      <th>1</th>\n",
       "      <td>CbGbCuGuD</td>\n",
       "      <td>1</td>\n",
       "      <td>2.584564</td>\n",
       "      <td>False</td>\n",
       "      <td>False</td>\n",
       "    </tr>\n",
       "  </tbody>\n",
       "</table>\n",
       "</div>"
      ],
      "text/plain": [
       "    metapath  join_index  complexity optimal_index midpoint_index\n",
       "0  CbGbCuGuD           0    2.318345         False          False\n",
       "1  CbGbCuGuD           1    2.584564         False          False"
      ]
     },
     "execution_count": 5,
     "metadata": {},
     "output_type": "execute_result"
    }
   ],
   "source": [
    "# Create a dataframe of estimated complexity\n",
    "rows = list()\n",
    "for abbrev, item in abbrev_to_item.items():\n",
    "    for i, complexity, in enumerate(item['join_complexities']):\n",
    "        row = abbrev, i, complexity, i == item['optimal_join_index'], i == item['midpoint_index']\n",
    "        rows.append(row)\n",
    "\n",
    "index_df = pandas.DataFrame(rows, columns=['metapath', 'join_index', 'complexity', 'optimal_index', 'midpoint_index'])\n",
    "index_df.head(2)"
   ]
  },
  {
   "cell_type": "code",
   "execution_count": 6,
   "metadata": {
    "collapsed": false
   },
   "outputs": [
    {
     "data": {
      "text/html": [
       "<div>\n",
       "<table border=\"1\" class=\"dataframe\">\n",
       "  <thead>\n",
       "    <tr style=\"text-align: right;\">\n",
       "      <th></th>\n",
       "      <th>metapath</th>\n",
       "      <th>query</th>\n",
       "      <th>join_index</th>\n",
       "    </tr>\n",
       "  </thead>\n",
       "  <tbody>\n",
       "    <tr>\n",
       "      <th>0</th>\n",
       "      <td>CrCdGuCpD</td>\n",
       "      <td>MATCH path = (n0:Compound)-[:RESEMBLES_CrC]-(n...</td>\n",
       "      <td>2</td>\n",
       "    </tr>\n",
       "    <tr>\n",
       "      <th>1</th>\n",
       "      <td>CrCdGuCpD</td>\n",
       "      <td>MATCH path = (n0:Compound)-[:RESEMBLES_CrC]-(n...</td>\n",
       "      <td>4</td>\n",
       "    </tr>\n",
       "  </tbody>\n",
       "</table>\n",
       "</div>"
      ],
      "text/plain": [
       "    metapath                                              query join_index\n",
       "0  CrCdGuCpD  MATCH path = (n0:Compound)-[:RESEMBLES_CrC]-(n...          2\n",
       "1  CrCdGuCpD  MATCH path = (n0:Compound)-[:RESEMBLES_CrC]-(n...          4"
      ]
     },
     "execution_count": 6,
     "metadata": {},
     "output_type": "execute_result"
    }
   ],
   "source": [
    "# Create a dataframe of queries\n",
    "rows = list()\n",
    "for metapath in metapaths:\n",
    "    indexes = [False] + list(range(len(metapath) + 1))\n",
    "    random.shuffle(indexes)\n",
    "    for i in indexes:\n",
    "        query = hetio.neo4j.construct_dwpc_query(metapath, join_hint=i)\n",
    "        rows.append((str(metapath), query, i))\n",
    "query_df = pandas.DataFrame(rows, columns=['metapath', 'query', 'join_index'])\n",
    "query_df.head(2)"
   ]
  },
  {
   "cell_type": "code",
   "execution_count": 7,
   "metadata": {
    "collapsed": false
   },
   "outputs": [],
   "source": [
    "# Connect to neo4j server\n",
    "uri = 'http://localhost:{}/db/data/'.format(args['port'])\n",
    "neo = py2neo.Graph(uri)"
   ]
  },
  {
   "cell_type": "code",
   "execution_count": 8,
   "metadata": {
    "collapsed": false
   },
   "outputs": [],
   "source": [
    "# Retreive network positives\n",
    "query ='''\n",
    "MATCH (c:Compound)-[:TREATS_CtD]->(d:Disease)\n",
    "RETURN d.name AS disease, c.name AS compound\n",
    "'''\n",
    "results = neo.cypher.execute(query)\n",
    "pair_df = pandas.DataFrame(results.records, columns=results.columns)\n",
    "pair_df = pair_df.sample(args['n_positives'], random_state=0)"
   ]
  },
  {
   "cell_type": "code",
   "execution_count": 9,
   "metadata": {
    "collapsed": false
   },
   "outputs": [
    {
     "data": {
      "text/html": [
       "<div>\n",
       "<table border=\"1\" class=\"dataframe\">\n",
       "  <thead>\n",
       "    <tr style=\"text-align: right;\">\n",
       "      <th></th>\n",
       "      <th>disease</th>\n",
       "      <th>compound</th>\n",
       "      <th>metapath</th>\n",
       "      <th>query</th>\n",
       "      <th>join_index</th>\n",
       "    </tr>\n",
       "  </thead>\n",
       "  <tbody>\n",
       "    <tr>\n",
       "      <th>0</th>\n",
       "      <td>type 2 diabetes mellitus</td>\n",
       "      <td>Losartan</td>\n",
       "      <td>CrCdGuCpD</td>\n",
       "      <td>MATCH path = (n0:Compound)-[:RESEMBLES_CrC]-(n...</td>\n",
       "      <td>2</td>\n",
       "    </tr>\n",
       "    <tr>\n",
       "      <th>1</th>\n",
       "      <td>type 2 diabetes mellitus</td>\n",
       "      <td>Losartan</td>\n",
       "      <td>CrCdGuCpD</td>\n",
       "      <td>MATCH path = (n0:Compound)-[:RESEMBLES_CrC]-(n...</td>\n",
       "      <td>4</td>\n",
       "    </tr>\n",
       "  </tbody>\n",
       "</table>\n",
       "</div>"
      ],
      "text/plain": [
       "                    disease  compound   metapath  \\\n",
       "0  type 2 diabetes mellitus  Losartan  CrCdGuCpD   \n",
       "1  type 2 diabetes mellitus  Losartan  CrCdGuCpD   \n",
       "\n",
       "                                               query join_index  \n",
       "0  MATCH path = (n0:Compound)-[:RESEMBLES_CrC]-(n...          2  \n",
       "1  MATCH path = (n0:Compound)-[:RESEMBLES_CrC]-(n...          4  "
      ]
     },
     "execution_count": 9,
     "metadata": {},
     "output_type": "execute_result"
    }
   ],
   "source": [
    "# Merge queries and pairs\n",
    "pair_df['dummy'] = 1\n",
    "query_df['dummy'] = 1\n",
    "query_df = pair_df.merge(query_df)\n",
    "del query_df['dummy']\n",
    "query_df.head(2)"
   ]
  },
  {
   "cell_type": "code",
   "execution_count": 10,
   "metadata": {
    "collapsed": false
   },
   "outputs": [
    {
     "data": {
      "text/plain": [
       "66600"
      ]
     },
     "execution_count": 10,
     "metadata": {},
     "output_type": "execute_result"
    }
   ],
   "source": [
    "# Number of queries\n",
    "len(query_df)"
   ]
  },
  {
   "cell_type": "code",
   "execution_count": 11,
   "metadata": {
    "collapsed": false
   },
   "outputs": [
    {
     "name": "stdout",
     "output_type": "stream",
     "text": [
      "CPU times: user 2min 25s, sys: 15.7 s, total: 2min 40s\n",
      "Wall time: 1d 3h 36min 32s\n"
     ]
    }
   ],
   "source": [
    "%%time\n",
    "\n",
    "# Perform queries\n",
    "rows = list()\n",
    "for row in query_df.itertuples():\n",
    "    start = time.time()\n",
    "    result = neo.cypher.execute(row.query, source=row.compound, target=row.disease, w=0.4)\n",
    "    seconds = time.time() - start\n",
    "    row = list(row)[1:] + list(result.records[0]) + [seconds]\n",
    "    rows.append(row)\n",
    "    print('Completed {:.4%}'.format(len(rows) / len(query_df)), end='\\r')\n",
    "\n",
    "result_df = pandas.DataFrame(rows, columns= list(query_df.columns) + list(result.columns) + ['seconds'])"
   ]
  },
  {
   "cell_type": "code",
   "execution_count": 12,
   "metadata": {
    "collapsed": false
   },
   "outputs": [
    {
     "data": {
      "text/plain": [
       "66600"
      ]
     },
     "execution_count": 12,
     "metadata": {},
     "output_type": "execute_result"
    }
   ],
   "source": [
    "len(rows)"
   ]
  },
  {
   "cell_type": "code",
   "execution_count": 13,
   "metadata": {
    "collapsed": false
   },
   "outputs": [
    {
     "data": {
      "text/html": [
       "<div>\n",
       "<table border=\"1\" class=\"dataframe\">\n",
       "  <thead>\n",
       "    <tr style=\"text-align: right;\">\n",
       "      <th></th>\n",
       "      <th>disease</th>\n",
       "      <th>compound</th>\n",
       "      <th>metapath</th>\n",
       "      <th>query</th>\n",
       "      <th>join_index</th>\n",
       "      <th>PC</th>\n",
       "      <th>DWPC</th>\n",
       "      <th>seconds</th>\n",
       "    </tr>\n",
       "  </thead>\n",
       "  <tbody>\n",
       "    <tr>\n",
       "      <th>0</th>\n",
       "      <td>type 2 diabetes mellitus</td>\n",
       "      <td>Losartan</td>\n",
       "      <td>CrCdGuCpD</td>\n",
       "      <td>MATCH path = (n0:Compound)-[:RESEMBLES_CrC]-(n...</td>\n",
       "      <td>2</td>\n",
       "      <td>0</td>\n",
       "      <td>0.0</td>\n",
       "      <td>0.076564</td>\n",
       "    </tr>\n",
       "    <tr>\n",
       "      <th>1</th>\n",
       "      <td>type 2 diabetes mellitus</td>\n",
       "      <td>Losartan</td>\n",
       "      <td>CrCdGuCpD</td>\n",
       "      <td>MATCH path = (n0:Compound)-[:RESEMBLES_CrC]-(n...</td>\n",
       "      <td>4</td>\n",
       "      <td>0</td>\n",
       "      <td>0.0</td>\n",
       "      <td>0.080810</td>\n",
       "    </tr>\n",
       "  </tbody>\n",
       "</table>\n",
       "</div>"
      ],
      "text/plain": [
       "                    disease  compound   metapath  \\\n",
       "0  type 2 diabetes mellitus  Losartan  CrCdGuCpD   \n",
       "1  type 2 diabetes mellitus  Losartan  CrCdGuCpD   \n",
       "\n",
       "                                               query join_index  PC  DWPC  \\\n",
       "0  MATCH path = (n0:Compound)-[:RESEMBLES_CrC]-(n...          2   0   0.0   \n",
       "1  MATCH path = (n0:Compound)-[:RESEMBLES_CrC]-(n...          4   0   0.0   \n",
       "\n",
       "    seconds  \n",
       "0  0.076564  \n",
       "1  0.080810  "
      ]
     },
     "execution_count": 13,
     "metadata": {},
     "output_type": "execute_result"
    }
   ],
   "source": [
    "result_df.head(2)"
   ]
  },
  {
   "cell_type": "markdown",
   "metadata": {},
   "source": [
    "## Analyze query results"
   ]
  },
  {
   "cell_type": "code",
   "execution_count": 14,
   "metadata": {
    "collapsed": false,
    "scrolled": false
   },
   "outputs": [
    {
     "data": {
      "text/html": [
       "<div>\n",
       "<table border=\"1\" class=\"dataframe\">\n",
       "  <thead>\n",
       "    <tr style=\"text-align: right;\">\n",
       "      <th></th>\n",
       "      <th>disease</th>\n",
       "      <th>compound</th>\n",
       "      <th>metapath</th>\n",
       "      <th>join_index</th>\n",
       "      <th>PC</th>\n",
       "      <th>DWPC</th>\n",
       "      <th>seconds</th>\n",
       "      <th>complexity</th>\n",
       "      <th>optimal_index</th>\n",
       "      <th>midpoint_index</th>\n",
       "      <th>log_seconds</th>\n",
       "    </tr>\n",
       "  </thead>\n",
       "  <tbody>\n",
       "    <tr>\n",
       "      <th>19950</th>\n",
       "      <td>Barrett's esophagus</td>\n",
       "      <td>Esomeprazole</td>\n",
       "      <td>CbG&lt;rGr&gt;GaD</td>\n",
       "      <td>0</td>\n",
       "      <td>0</td>\n",
       "      <td>0.0</td>\n",
       "      <td>0.001178</td>\n",
       "      <td>3.913263</td>\n",
       "      <td>False</td>\n",
       "      <td>False</td>\n",
       "      <td>-2.928933</td>\n",
       "    </tr>\n",
       "    <tr>\n",
       "      <th>19951</th>\n",
       "      <td>Barrett's esophagus</td>\n",
       "      <td>Esomeprazole</td>\n",
       "      <td>CbG&lt;rGr&gt;GaD</td>\n",
       "      <td>False</td>\n",
       "      <td>0</td>\n",
       "      <td>0.0</td>\n",
       "      <td>0.001522</td>\n",
       "      <td>3.913263</td>\n",
       "      <td>False</td>\n",
       "      <td>False</td>\n",
       "      <td>-2.817635</td>\n",
       "    </tr>\n",
       "    <tr>\n",
       "      <th>20175</th>\n",
       "      <td>Barrett's esophagus</td>\n",
       "      <td>Esomeprazole</td>\n",
       "      <td>CbG&lt;rGr&gt;GaD</td>\n",
       "      <td>1</td>\n",
       "      <td>0</td>\n",
       "      <td>0.0</td>\n",
       "      <td>0.198892</td>\n",
       "      <td>4.171191</td>\n",
       "      <td>False</td>\n",
       "      <td>False</td>\n",
       "      <td>-0.701383</td>\n",
       "    </tr>\n",
       "  </tbody>\n",
       "</table>\n",
       "</div>"
      ],
      "text/plain": [
       "                   disease      compound     metapath join_index  PC  DWPC  \\\n",
       "19950  Barrett's esophagus  Esomeprazole  CbG<rGr>GaD          0   0   0.0   \n",
       "19951  Barrett's esophagus  Esomeprazole  CbG<rGr>GaD      False   0   0.0   \n",
       "20175  Barrett's esophagus  Esomeprazole  CbG<rGr>GaD          1   0   0.0   \n",
       "\n",
       "        seconds  complexity optimal_index midpoint_index  log_seconds  \n",
       "19950  0.001178    3.913263         False          False    -2.928933  \n",
       "19951  0.001522    3.913263         False          False    -2.817635  \n",
       "20175  0.198892    4.171191         False          False    -0.701383  "
      ]
     },
     "execution_count": 14,
     "metadata": {},
     "output_type": "execute_result"
    }
   ],
   "source": [
    "complexity_df = result_df.merge(index_df).sort_values(['disease', 'compound', 'metapath', 'join_index'])\n",
    "del complexity_df['query']\n",
    "complexity_df.seconds = complexity_df.seconds.astype(float)\n",
    "complexity_df['log_seconds'] = numpy.log10(complexity_df.seconds)\n",
    "complexity_df.head(3)"
   ]
  },
  {
   "cell_type": "code",
   "execution_count": 15,
   "metadata": {
    "collapsed": true
   },
   "outputs": [],
   "source": [
    "with bz2.open('data/query-results.tsv.bz2', 'wt') as write_file:\n",
    "    complexity_df.to_csv(write_file, sep='\\t', index=False, float_format='%.5g')"
   ]
  },
  {
   "cell_type": "code",
   "execution_count": 16,
   "metadata": {
    "collapsed": false
   },
   "outputs": [
    {
     "data": {
      "text/plain": [
       "66600"
      ]
     },
     "execution_count": 16,
     "metadata": {},
     "output_type": "execute_result"
    }
   ],
   "source": [
    "len(complexity_df)"
   ]
  },
  {
   "cell_type": "code",
   "execution_count": 27,
   "metadata": {
    "collapsed": false,
    "scrolled": true
   },
   "outputs": [
    {
     "data": {
      "text/html": [
       "<div>\n",
       "<table border=\"1\" class=\"dataframe\">\n",
       "  <thead>\n",
       "    <tr style=\"text-align: right;\">\n",
       "      <th></th>\n",
       "      <th>disease</th>\n",
       "      <th>compound</th>\n",
       "      <th>metapath</th>\n",
       "      <th>optimal_is_best</th>\n",
       "      <th>midpoint_is_best</th>\n",
       "      <th>rank_of_fastest</th>\n",
       "      <th>min_seconds</th>\n",
       "      <th>delay_of_optimal</th>\n",
       "      <th>delay_of_midpoint</th>\n",
       "      <th>delay_of_nohint</th>\n",
       "    </tr>\n",
       "  </thead>\n",
       "  <tbody>\n",
       "    <tr>\n",
       "      <th>0</th>\n",
       "      <td>Barrett's esophagus</td>\n",
       "      <td>Esomeprazole</td>\n",
       "      <td>CbG&lt;rGr&gt;GaD</td>\n",
       "      <td>0</td>\n",
       "      <td>0</td>\n",
       "      <td>4</td>\n",
       "      <td>0.001178</td>\n",
       "      <td>0.000058</td>\n",
       "      <td>0.000185</td>\n",
       "      <td>0.000344</td>\n",
       "    </tr>\n",
       "    <tr>\n",
       "      <th>1</th>\n",
       "      <td>Barrett's esophagus</td>\n",
       "      <td>Esomeprazole</td>\n",
       "      <td>CbGaDlAlD</td>\n",
       "      <td>0</td>\n",
       "      <td>1</td>\n",
       "      <td>2</td>\n",
       "      <td>0.002339</td>\n",
       "      <td>0.000865</td>\n",
       "      <td>0.000000</td>\n",
       "      <td>0.020284</td>\n",
       "    </tr>\n",
       "    <tr>\n",
       "      <th>2</th>\n",
       "      <td>Barrett's esophagus</td>\n",
       "      <td>Esomeprazole</td>\n",
       "      <td>CbGbCuGuD</td>\n",
       "      <td>0</td>\n",
       "      <td>1</td>\n",
       "      <td>2</td>\n",
       "      <td>0.015859</td>\n",
       "      <td>0.085478</td>\n",
       "      <td>0.000000</td>\n",
       "      <td>0.076385</td>\n",
       "    </tr>\n",
       "    <tr>\n",
       "      <th>3</th>\n",
       "      <td>Barrett's esophagus</td>\n",
       "      <td>Esomeprazole</td>\n",
       "      <td>CbGcG&lt;rGaD</td>\n",
       "      <td>0</td>\n",
       "      <td>0</td>\n",
       "      <td>2</td>\n",
       "      <td>0.003073</td>\n",
       "      <td>0.004003</td>\n",
       "      <td>0.000934</td>\n",
       "      <td>0.008068</td>\n",
       "    </tr>\n",
       "    <tr>\n",
       "      <th>4</th>\n",
       "      <td>Barrett's esophagus</td>\n",
       "      <td>Esomeprazole</td>\n",
       "      <td>CbGcGbCpD</td>\n",
       "      <td>0</td>\n",
       "      <td>1</td>\n",
       "      <td>3</td>\n",
       "      <td>0.001308</td>\n",
       "      <td>0.001692</td>\n",
       "      <td>0.000000</td>\n",
       "      <td>0.000051</td>\n",
       "    </tr>\n",
       "  </tbody>\n",
       "</table>\n",
       "</div>"
      ],
      "text/plain": [
       "               disease      compound     metapath  optimal_is_best  \\\n",
       "0  Barrett's esophagus  Esomeprazole  CbG<rGr>GaD                0   \n",
       "1  Barrett's esophagus  Esomeprazole    CbGaDlAlD                0   \n",
       "2  Barrett's esophagus  Esomeprazole    CbGbCuGuD                0   \n",
       "3  Barrett's esophagus  Esomeprazole   CbGcG<rGaD                0   \n",
       "4  Barrett's esophagus  Esomeprazole    CbGcGbCpD                0   \n",
       "\n",
       "   midpoint_is_best  rank_of_fastest  min_seconds  delay_of_optimal  \\\n",
       "0                 0                4     0.001178          0.000058   \n",
       "1                 1                2     0.002339          0.000865   \n",
       "2                 1                2     0.015859          0.085478   \n",
       "3                 0                2     0.003073          0.004003   \n",
       "4                 1                3     0.001308          0.001692   \n",
       "\n",
       "   delay_of_midpoint  delay_of_nohint  \n",
       "0           0.000185         0.000344  \n",
       "1           0.000000         0.020284  \n",
       "2           0.000000         0.076385  \n",
       "3           0.000934         0.008068  \n",
       "4           0.000000         0.000051  "
      ]
     },
     "execution_count": 27,
     "metadata": {},
     "output_type": "execute_result"
    }
   ],
   "source": [
    "# Summarize by query\n",
    "def summary(df):\n",
    "    row = pandas.Series()\n",
    "    \n",
    "    no_hint = df.join_index.map(lambda x: x is False)\n",
    "    no_hint_seconds = df[no_hint].seconds.iloc[0]\n",
    "    df = df[-no_hint]\n",
    "    \n",
    "    df = df.sort_values('seconds')\n",
    "    row['optimal_is_best'] = df.optimal_index.iloc[0]\n",
    "    row['midpoint_is_best'] = df.midpoint_index.iloc[0]\n",
    "    \n",
    "    df = df.sort_values('complexity')\n",
    "    row['rank_of_fastest'] = 1 + numpy.argmin(list(df.seconds))\n",
    "    min_seconds = df.seconds.min()\n",
    "    row['min_seconds'] = min_seconds\n",
    "    row['delay_of_optimal'] = df.loc[df.optimal_index, 'seconds'].iloc[0] - min_seconds\n",
    "    row['delay_of_midpoint'] = df.loc[df.midpoint_index, 'seconds'].iloc[0] - min_seconds\n",
    "    row['delay_of_nohint'] = no_hint_seconds - min_seconds\n",
    "\n",
    "    return row\n",
    "\n",
    "query_summary_df = complexity_df.groupby(['disease', 'compound', 'metapath']).apply(summary).reset_index()\n",
    "for column in 'optimal_is_best', 'midpoint_is_best', 'rank_of_fastest':\n",
    "    query_summary_df[column] = query_summary_df[column].astype(int)\n",
    "query_summary_df.head()"
   ]
  },
  {
   "cell_type": "code",
   "execution_count": 28,
   "metadata": {
    "collapsed": false
   },
   "outputs": [
    {
     "data": {
      "text/plain": [
       "1    0.292622\n",
       "2    0.275378\n",
       "3    0.169867\n",
       "4    0.146933\n",
       "5    0.115200\n",
       "Name: rank_of_fastest, dtype: float64"
      ]
     },
     "execution_count": 28,
     "metadata": {},
     "output_type": "execute_result"
    }
   ],
   "source": [
    "# Percent of the time that each complexity rank (higher is harder) was fastest\n",
    "query_summary_df.rank_of_fastest.value_counts(normalize=True)"
   ]
  },
  {
   "cell_type": "code",
   "execution_count": 29,
   "metadata": {
    "collapsed": false
   },
   "outputs": [
    {
     "data": {
      "text/plain": [
       "optimal_is_best      0.292356\n",
       "midpoint_is_best     0.403289\n",
       "rank_of_fastest      2.516711\n",
       "min_seconds          0.222316\n",
       "delay_of_optimal     0.117095\n",
       "delay_of_midpoint    0.006333\n",
       "delay_of_nohint      0.434539\n",
       "dtype: float64"
      ]
     },
     "execution_count": 29,
     "metadata": {},
     "output_type": "execute_result"
    }
   ],
   "source": [
    "# Mean of each column: Percentages for binary columns\n",
    "query_summary_df.mean()"
   ]
  },
  {
   "cell_type": "code",
   "execution_count": 30,
   "metadata": {
    "collapsed": false
   },
   "outputs": [
    {
     "data": {
      "text/html": [
       "<div>\n",
       "<table border=\"1\" class=\"dataframe\">\n",
       "  <thead>\n",
       "    <tr style=\"text-align: right;\">\n",
       "      <th></th>\n",
       "      <th>metapath</th>\n",
       "      <th>optimal_is_best</th>\n",
       "      <th>midpoint_is_best</th>\n",
       "      <th>rank_of_fastest</th>\n",
       "      <th>min_seconds</th>\n",
       "      <th>delay_of_optimal</th>\n",
       "      <th>delay_of_midpoint</th>\n",
       "      <th>delay_of_nohint</th>\n",
       "    </tr>\n",
       "  </thead>\n",
       "  <tbody>\n",
       "    <tr>\n",
       "      <th>0</th>\n",
       "      <td>CbG&lt;rGr&gt;GaD</td>\n",
       "      <td>0.04</td>\n",
       "      <td>0.706667</td>\n",
       "      <td>2.273333</td>\n",
       "      <td>0.056948</td>\n",
       "      <td>0.343988</td>\n",
       "      <td>0.005611</td>\n",
       "      <td>0.33951</td>\n",
       "    </tr>\n",
       "    <tr>\n",
       "      <th>1</th>\n",
       "      <td>CbGaDlAlD</td>\n",
       "      <td>0.24</td>\n",
       "      <td>0.753333</td>\n",
       "      <td>1.773333</td>\n",
       "      <td>0.009452</td>\n",
       "      <td>0.002628</td>\n",
       "      <td>0.000652</td>\n",
       "      <td>0.08313</td>\n",
       "    </tr>\n",
       "  </tbody>\n",
       "</table>\n",
       "</div>"
      ],
      "text/plain": [
       "      metapath  optimal_is_best  midpoint_is_best  rank_of_fastest  \\\n",
       "0  CbG<rGr>GaD             0.04          0.706667         2.273333   \n",
       "1    CbGaDlAlD             0.24          0.753333         1.773333   \n",
       "\n",
       "   min_seconds  delay_of_optimal  delay_of_midpoint  delay_of_nohint  \n",
       "0     0.056948          0.343988           0.005611          0.33951  \n",
       "1     0.009452          0.002628           0.000652          0.08313  "
      ]
     },
     "execution_count": 30,
     "metadata": {},
     "output_type": "execute_result"
    }
   ],
   "source": [
    "metapath_summary_df = query_summary_df.groupby('metapath').mean().reset_index()\n",
    "metapath_summary_df.head(2)"
   ]
  },
  {
   "cell_type": "code",
   "execution_count": 43,
   "metadata": {
    "collapsed": false,
    "scrolled": true
   },
   "outputs": [
    {
     "data": {
      "text/html": [
       "<div>\n",
       "<table border=\"1\" class=\"dataframe\">\n",
       "  <thead>\n",
       "    <tr style=\"text-align: right;\">\n",
       "      <th></th>\n",
       "      <th>metapath</th>\n",
       "      <th>optimal_time</th>\n",
       "      <th>midpoint_time</th>\n",
       "      <th>no_hint_time</th>\n",
       "    </tr>\n",
       "  </thead>\n",
       "  <tbody>\n",
       "    <tr>\n",
       "      <th>0</th>\n",
       "      <td>CbG&lt;rGr&gt;GaD</td>\n",
       "      <td>0.400937</td>\n",
       "      <td>0.062559</td>\n",
       "      <td>0.397101</td>\n",
       "    </tr>\n",
       "    <tr>\n",
       "      <th>1</th>\n",
       "      <td>CbGaDlAlD</td>\n",
       "      <td>0.012080</td>\n",
       "      <td>0.010104</td>\n",
       "      <td>0.092532</td>\n",
       "    </tr>\n",
       "    <tr>\n",
       "      <th>2</th>\n",
       "      <td>CbGbCuGuD</td>\n",
       "      <td>0.140511</td>\n",
       "      <td>0.010958</td>\n",
       "      <td>0.140407</td>\n",
       "    </tr>\n",
       "    <tr>\n",
       "      <th>3</th>\n",
       "      <td>CbGcG&lt;rGaD</td>\n",
       "      <td>0.013109</td>\n",
       "      <td>0.028640</td>\n",
       "      <td>0.012834</td>\n",
       "    </tr>\n",
       "    <tr>\n",
       "      <th>4</th>\n",
       "      <td>CbGcGbCpD</td>\n",
       "      <td>0.002972</td>\n",
       "      <td>0.002147</td>\n",
       "      <td>0.003165</td>\n",
       "    </tr>\n",
       "  </tbody>\n",
       "</table>\n",
       "</div>"
      ],
      "text/plain": [
       "      metapath  optimal_time  midpoint_time  no_hint_time\n",
       "0  CbG<rGr>GaD      0.400937       0.062559      0.397101\n",
       "1    CbGaDlAlD      0.012080       0.010104      0.092532\n",
       "2    CbGbCuGuD      0.140511       0.010958      0.140407\n",
       "3   CbGcG<rGaD      0.013109       0.028640      0.012834\n",
       "4    CbGcGbCpD      0.002972       0.002147      0.003165"
      ]
     },
     "execution_count": 43,
     "metadata": {},
     "output_type": "execute_result"
    }
   ],
   "source": [
    "def summary(df):\n",
    "    row = pandas.Series()\n",
    "    best_time = df.seconds.min()\n",
    "    row['optimal_time'] = df.loc[df.optimal_index, 'seconds'].iloc[0]\n",
    "    row['midpoint_time']  = df.loc[df.midpoint_index, 'seconds'].iloc[0]\n",
    "    row['no_hint_time'] = df.loc[df.join_index == 'no_hint', 'seconds'].iloc[0]\n",
    "    return row\n",
    "\n",
    "metapath_choice_df = complexity_df.replace({'join_index': {False: 'no_hint'}}).groupby(\n",
    "    ['metapath', 'join_index', 'optimal_index', 'midpoint_index']\n",
    ").seconds.mean().reset_index().groupby('metapath').apply(summary).reset_index()\n",
    "metapath_choice_df.head()"
   ]
  },
  {
   "cell_type": "code",
   "execution_count": 44,
   "metadata": {
    "collapsed": false
   },
   "outputs": [
    {
     "data": {
      "text/plain": [
       "optimal_time     0.339411\n",
       "midpoint_time    0.228649\n",
       "no_hint_time     0.656398\n",
       "dtype: float64"
      ]
     },
     "execution_count": 44,
     "metadata": {},
     "output_type": "execute_result"
    }
   ],
   "source": [
    "metapath_choice_df.mean()"
   ]
  },
  {
   "cell_type": "code",
   "execution_count": 45,
   "metadata": {
    "collapsed": true
   },
   "outputs": [],
   "source": [
    "query_summary_df.to_csv('data/query-summaries.tsv', sep='\\t', index=False, float_format='%.4g')\n",
    "metapath_summary_df.to_csv('data/metapath-summaries.tsv', sep='\\t', index=False, float_format='%.4g')\n",
    "metapath_choice_df.to_csv('data/index-choice-by-metapath.tsv', sep='\\t', index=False, float_format='%.4g')"
   ]
  },
  {
   "cell_type": "code",
   "execution_count": null,
   "metadata": {
    "collapsed": false
   },
   "outputs": [],
   "source": [
    "# import seaborn\n",
    "# %matplotlib inline\n",
    "# ax = seaborn.lmplot(x='complexity', y='log_seconds', data=complexity_df, lowess=True, row='metapath', hue='join_index')"
   ]
  }
 ],
 "metadata": {
  "kernelspec": {
   "display_name": "Python 3",
   "language": "python",
   "name": "python3"
  },
  "language_info": {
   "codemirror_mode": {
    "name": "ipython",
    "version": 3
   },
   "file_extension": ".py",
   "mimetype": "text/x-python",
   "name": "python",
   "nbconvert_exporter": "python",
   "pygments_lexer": "ipython3",
   "version": "3.5.1"
  }
 },
 "nbformat": 4,
 "nbformat_minor": 0
}
