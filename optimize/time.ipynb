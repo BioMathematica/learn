{
 "cells": [
  {
   "cell_type": "markdown",
   "metadata": {},
   "source": [
    "# Predicting DWPC Query runtime ahead of time"
   ]
  },
  {
   "cell_type": "code",
   "execution_count": null,
   "metadata": {
    "collapsed": false
   },
   "outputs": [],
   "source": [
    "import json\n",
    "\n",
    "import matplotlib.pyplot\n",
    "import pandas\n",
    "import numpy\n",
    "import seaborn\n",
    "import mpld3\n",
    "\n",
    "%matplotlib inline"
   ]
  },
  {
   "cell_type": "code",
   "execution_count": null,
   "metadata": {
    "collapsed": false
   },
   "outputs": [],
   "source": [
    "path = 'all-features/data/metapaths.json'\n",
    "with open(path) as fp:\n",
    "    metapaths = json.load(fp)"
   ]
  },
  {
   "cell_type": "code",
   "execution_count": null,
   "metadata": {
    "collapsed": false
   },
   "outputs": [],
   "source": [
    "auroc_df = pandas.read_table('data/all-features/auroc.tsv')\n",
    "auroc_df.head(2)"
   ]
  },
  {
   "cell_type": "code",
   "execution_count": null,
   "metadata": {
    "collapsed": false
   },
   "outputs": [],
   "source": [
    "cols = ['sequential_complexity', 'optimal_join_complexity', 'midpoint_join_complexity']\n",
    "\n",
    "rows = [[\n",
    "        item['abbreviation'], \n",
    "        item['join_complexities'][item['midpoint_index']], \n",
    "        item['join_complexities'][item['optimal_join_index']],\n",
    "        item['join_complexities'][-1],\n",
    "        item['join_complexities'][0],\n",
    "    ] for item in metapaths]\n",
    "complexity_df = pandas.DataFrame(rows, columns=\n",
    "    ['metapath', 'midpoint_complexity', 'optimal_complexity', 'forward_complexity', 'backward_complexity'])\n",
    "complexity_df = auroc_df.merge(complexity_df)\n",
    "complexity_df['log10_seconds_per_query'] = numpy.log10(complexity_df['seconds_per_query'])"
   ]
  },
  {
   "cell_type": "code",
   "execution_count": null,
   "metadata": {
    "collapsed": false
   },
   "outputs": [],
   "source": [
    "complexity_df.head(2)"
   ]
  },
  {
   "cell_type": "code",
   "execution_count": null,
   "metadata": {
    "collapsed": false,
    "scrolled": true
   },
   "outputs": [],
   "source": [
    "complexity_df"
   ]
  },
  {
   "cell_type": "code",
   "execution_count": null,
   "metadata": {
    "collapsed": false
   },
   "outputs": [],
   "source": [
    "ax = seaborn.regplot('forward_complexity', 'backward_complexity', data=complexity_df,\n",
    "    lowess=True, scatter_kws={'alpha': 0.5}, line_kws={'color': 'black'}, ci=False)\n",
    "points = ax.collections[0]\n",
    "labels = complexity_df.metapath.tolist()\n",
    "tooltip = mpld3.plugins.PointLabelTooltip(points, labels)\n",
    "mpld3.plugins.connect(ax.figure, tooltip)\n",
    "mpld3.display()"
   ]
  },
  {
   "cell_type": "markdown",
   "metadata": {},
   "source": [
    "## sequential_complexity"
   ]
  },
  {
   "cell_type": "code",
   "execution_count": null,
   "metadata": {
    "collapsed": false
   },
   "outputs": [],
   "source": [
    "matplotlib.pyplot.figure(figsize=(10, 7))\n",
    "ax = seaborn.regplot('forward_complexity', 'log10_seconds_per_query', data=complexity_df,\n",
    "    lowess=True, scatter_kws={'alpha': 0.5}, line_kws={'color': 'black'}, ci=False)\n",
    "points = ax.collections[0]\n",
    "labels = complexity_df.metapath.tolist()\n",
    "tooltip = mpld3.plugins.PointLabelTooltip(points, labels)\n",
    "mpld3.plugins.connect(ax.figure, tooltip)\n",
    "mpld3.display()"
   ]
  },
  {
   "cell_type": "code",
   "execution_count": null,
   "metadata": {
    "collapsed": false
   },
   "outputs": [],
   "source": [
    "matplotlib.pyplot.figure(figsize=(10, 7))\n",
    "ax = seaborn.regplot('backward_complexity', 'log10_seconds_per_query', data=complexity_df,\n",
    "    lowess=True, scatter_kws={'alpha': 0.5}, line_kws={'color': 'black'}, ci=False)\n",
    "points = ax.collections[0]\n",
    "labels = complexity_df.metapath.tolist()\n",
    "tooltip = mpld3.plugins.PointLabelTooltip(points, labels)\n",
    "mpld3.plugins.connect(ax.figure, tooltip)\n",
    "mpld3.display()"
   ]
  },
  {
   "cell_type": "markdown",
   "metadata": {},
   "source": [
    "## optimal_join_complexity"
   ]
  },
  {
   "cell_type": "code",
   "execution_count": null,
   "metadata": {
    "collapsed": false
   },
   "outputs": [],
   "source": [
    "matplotlib.pyplot.figure(figsize=(10, 7))\n",
    "ax = seaborn.regplot('optimal_complexity', 'log10_seconds_per_query', data=complexity_df,\n",
    "    lowess=True, scatter_kws={'alpha': 0.5}, line_kws={'color': 'black'}, ci=False)\n",
    "points = ax.collections[0]\n",
    "labels = complexity_df.metapath.tolist()\n",
    "tooltip = mpld3.plugins.PointLabelTooltip(points, labels)\n",
    "mpld3.plugins.connect(ax.figure, tooltip)\n",
    "mpld3.display()"
   ]
  },
  {
   "cell_type": "markdown",
   "metadata": {},
   "source": [
    "## midpoint_join_complexity"
   ]
  },
  {
   "cell_type": "code",
   "execution_count": null,
   "metadata": {
    "collapsed": false
   },
   "outputs": [],
   "source": [
    "matplotlib.pyplot.figure(figsize=(10, 7))\n",
    "ax = seaborn.regplot('midpoint_complexity', 'log10_seconds_per_query', data=complexity_df,\n",
    "    lowess=True, scatter_kws={'alpha': 0.5}, line_kws={'color': 'black'}, ci=False)\n",
    "points = ax.collections[0]\n",
    "labels = complexity_df.metapath.tolist()\n",
    "tooltip = mpld3.plugins.PointLabelTooltip(points, labels)\n",
    "mpld3.plugins.connect(ax.figure, tooltip)\n",
    "mpld3.display()"
   ]
  },
  {
   "cell_type": "code",
   "execution_count": null,
   "metadata": {
    "collapsed": true
   },
   "outputs": [],
   "source": []
  }
 ],
 "metadata": {
  "kernelspec": {
   "display_name": "Python 3",
   "language": "python",
   "name": "python3"
  },
  "language_info": {
   "codemirror_mode": {
    "name": "ipython",
    "version": 3
   },
   "file_extension": ".py",
   "mimetype": "text/x-python",
   "name": "python",
   "nbconvert_exporter": "python",
   "pygments_lexer": "ipython3",
   "version": "3.5.1"
  }
 },
 "nbformat": 4,
 "nbformat_minor": 0
}
