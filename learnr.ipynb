{
 "cells": [
  {
   "cell_type": "code",
   "execution_count": 1,
   "metadata": {
    "collapsed": false
   },
   "outputs": [
    {
     "name": "stderr",
     "output_type": "stream",
     "text": [
      "Loading required package: Matrix\n",
      "Loading required package: foreach\n",
      "Loaded glmnet 2.0-2\n",
      "\n",
      "\n",
      "Attaching package: ‘tidyr’\n",
      "\n",
      "The following object is masked from ‘package:Matrix’:\n",
      "\n",
      "    expand\n",
      "\n"
     ]
    }
   ],
   "source": [
    "library(readr)\n",
    "library(glmnet)\n",
    "library(tidyr)\n",
    "library(dplyr, warn=F)\n",
    "library(glmnet)"
   ]
  },
  {
   "cell_type": "code",
   "execution_count": 2,
   "metadata": {
    "collapsed": true
   },
   "outputs": [],
   "source": [
    "part_df = readr::read_tsv('data/partition.tsv.gz')\n",
    "dwpc_df = readr::read_tsv('data/dwpc.tsv.gz')"
   ]
  },
  {
   "cell_type": "code",
   "execution_count": 3,
   "metadata": {
    "collapsed": false
   },
   "outputs": [
    {
     "name": "stderr",
     "output_type": "stream",
     "text": [
      "Joining by: c(\"compound_id\", \"disease_id\")\n"
     ]
    }
   ],
   "source": [
    "spread_df = part_df %>%\n",
    "  dplyr::inner_join(\n",
    "    dwpc_df %>%\n",
    "    dplyr::select(-path_count) %>%\n",
    "    tidyr::spread(key = metapath, value = dwpc)\n",
    "  )"
   ]
  },
  {
   "cell_type": "code",
   "execution_count": 4,
   "metadata": {
    "collapsed": true
   },
   "outputs": [],
   "source": [
    "x = spread_df %>%\n",
    "  dplyr::select(-(compound_id:percentile)) %>%\n",
    "  as.matrix()\n",
    "y = spread_df$indication"
   ]
  },
  {
   "cell_type": "code",
   "execution_count": 5,
   "metadata": {
    "collapsed": false
   },
   "outputs": [],
   "source": [
    "lasso = hetior::glmnet_train(x, y, alpha=1)"
   ]
  },
  {
   "cell_type": "code",
   "execution_count": 6,
   "metadata": {
    "collapsed": false
   },
   "outputs": [
    {
     "data": {
      "text/html": [
       "<table>\n",
       "<thead><tr><th></th><th scope=col>feature</th><th scope=col>coef</th><th scope=col>zcoef</th></tr></thead>\n",
       "<tbody>\n",
       "\t<tr><th scope=row>1</th><td>CcSEcCiD</td><td>32.69709</td><td>2.391688</td></tr>\n",
       "\t<tr><th scope=row>2</th><td>CiDiCiD</td><td>37.85164</td><td>2.290817</td></tr>\n",
       "\t<tr><th scope=row>3</th><td>CtGtCiD</td><td>15.25964</td><td>1.136177</td></tr>\n",
       "\t<tr><th scope=row>4</th><td>CsCsCiD</td><td>8.675185</td><td>0.7225817</td></tr>\n",
       "\t<tr><th scope=row>5</th><td>CtGaD</td><td>21.45194</td><td>0.6782444</td></tr>\n",
       "\t<tr><th scope=row>6</th><td>CiDaGaD</td><td>9.698123</td><td>0.4539967</td></tr>\n",
       "\t<tr><th scope=row>7</th><td>CiDsD</td><td>6.792177</td><td>0.4104101</td></tr>\n",
       "\t<tr><th scope=row>8</th><td>CsCiD</td><td>3.863816</td><td>0.346301</td></tr>\n",
       "\t<tr><th scope=row>9</th><td>CiDlAlD</td><td>6.443075</td><td>0.2873377</td></tr>\n",
       "\t<tr><th scope=row>10</th><td>CiDsDsD</td><td>2.607129</td><td>0.1275331</td></tr>\n",
       "\t<tr><th scope=row>11</th><td>CtGuAlD</td><td>27.36983</td><td>0.09990571</td></tr>\n",
       "\t<tr><th scope=row>12</th><td>CtGiGaD</td><td>6.938411</td><td>0.08658161</td></tr>\n",
       "\t<tr><th scope=row>13</th><td>CiDpSpD</td><td>1.922579</td><td>0.08528943</td></tr>\n",
       "\t<tr><th scope=row>14</th><td>CbGaD</td><td>2.722595</td><td>0.06992517</td></tr>\n",
       "\t<tr><th scope=row>15</th><td>CuGkd>GvD</td><td>21.20195</td><td>0.04455135</td></tr>\n",
       "\t<tr><th scope=row>16</th><td>CbGiGaD</td><td>0.005783908</td><td>6.346076e-05</td></tr>\n",
       "</tbody>\n",
       "</table>\n"
      ],
      "text/latex": [
       "\\begin{tabular}{r|lll}\n",
       "  & feature & coef & zcoef\\\\\n",
       "\\hline\n",
       "\t1 & CcSEcCiD & 32.69709 & 2.391688\\\\\n",
       "\t2 & CiDiCiD & 37.85164 & 2.290817\\\\\n",
       "\t3 & CtGtCiD & 15.25964 & 1.136177\\\\\n",
       "\t4 & CsCsCiD & 8.675185 & 0.7225817\\\\\n",
       "\t5 & CtGaD & 21.45194 & 0.6782444\\\\\n",
       "\t6 & CiDaGaD & 9.698123 & 0.4539967\\\\\n",
       "\t7 & CiDsD & 6.792177 & 0.4104101\\\\\n",
       "\t8 & CsCiD & 3.863816 & 0.346301\\\\\n",
       "\t9 & CiDlAlD & 6.443075 & 0.2873377\\\\\n",
       "\t10 & CiDsDsD & 2.607129 & 0.1275331\\\\\n",
       "\t11 & CtGuAlD & 27.36983 & 0.09990571\\\\\n",
       "\t12 & CtGiGaD & 6.938411 & 0.08658161\\\\\n",
       "\t13 & CiDpSpD & 1.922579 & 0.08528943\\\\\n",
       "\t14 & CbGaD & 2.722595 & 0.06992517\\\\\n",
       "\t15 & CuGkd>GvD & 21.20195 & 0.04455135\\\\\n",
       "\t16 & CbGiGaD & 0.005783908 & 6.346076e-05\\\\\n",
       "\\end{tabular}\n"
      ],
      "text/plain": [
       "     feature         coef        zcoef\n",
       "1   CcSEcCiD 32.697090456 2.391688e+00\n",
       "2    CiDiCiD 37.851636563 2.290817e+00\n",
       "3    CtGtCiD 15.259640300 1.136177e+00\n",
       "4    CsCsCiD  8.675184691 7.225817e-01\n",
       "5      CtGaD 21.451939359 6.782444e-01\n",
       "6    CiDaGaD  9.698122768 4.539967e-01\n",
       "7      CiDsD  6.792177428 4.104101e-01\n",
       "8      CsCiD  3.863816104 3.463010e-01\n",
       "9    CiDlAlD  6.443075186 2.873377e-01\n",
       "10   CiDsDsD  2.607129333 1.275331e-01\n",
       "11   CtGuAlD 27.369828494 9.990571e-02\n",
       "12   CtGiGaD  6.938410684 8.658161e-02\n",
       "13   CiDpSpD  1.922579190 8.528943e-02\n",
       "14     CbGaD  2.722595351 6.992517e-02\n",
       "15 CuGkd>GvD 21.201948423 4.455135e-02\n",
       "16   CbGiGaD  0.005783908 6.346076e-05"
      ]
     },
     "execution_count": 6,
     "metadata": {},
     "output_type": "execute_result"
    }
   ],
   "source": [
    "# Positive coefficients\n",
    "lasso$coef_df %>%\n",
    "  dplyr::arrange(desc(zcoef)) %>%\n",
    "  dplyr::filter(zcoef > 0)"
   ]
  },
  {
   "cell_type": "code",
   "execution_count": 7,
   "metadata": {
    "collapsed": false
   },
   "outputs": [
    {
     "data": {
      "text/html": [
       "<dl>\n",
       "\t<dt>$auroc</dt>\n",
       "\t\t<dd>0.966556878058769</dd>\n",
       "\t<dt>$auprc</dt>\n",
       "\t\t<dd>0.923606420871914</dd>\n",
       "</dl>\n"
      ],
      "text/latex": [
       "\\begin{description}\n",
       "\\item[\\$auroc] 0.966556878058769\n",
       "\\item[\\$auprc] 0.923606420871914\n",
       "\\end{description}\n"
      ],
      "text/markdown": [
       "$auroc\n",
       ":   0.966556878058769\n",
       "$auprc\n",
       ":   0.923606420871914\n",
       "\n",
       "\n"
      ],
      "text/plain": [
       "$auroc\n",
       "[1] 0.9665569\n",
       "\n",
       "$auprc\n",
       "[1] 0.9236064\n"
      ]
     },
     "execution_count": 7,
     "metadata": {},
     "output_type": "execute_result"
    }
   ],
   "source": [
    "lasso$vtm[c('auroc', 'auprc')]"
   ]
  },
  {
   "cell_type": "code",
   "execution_count": 9,
   "metadata": {
    "collapsed": false
   },
   "outputs": [],
   "source": [
    "pred_df = spread_df %>%\n",
    "  dplyr::select(compound_id:percentile)\n",
    "pred_df$y_pred = lasso$y_pred\n",
    "pred_df = pred_df %>%\n",
    "  dplyr::arrange(disease_name, desc(y_pred))\n",
    "pred_df %>% readr::write_csv('data/predictions.csv')"
   ]
  }
 ],
 "metadata": {
  "kernelspec": {
   "display_name": "R",
   "language": "R",
   "name": "ir"
  },
  "language_info": {
   "codemirror_mode": "r",
   "file_extension": ".r",
   "mimetype": "text/x-r-source",
   "name": "R",
   "pygments_lexer": "r",
   "version": "3.2.1"
  }
 },
 "nbformat": 4,
 "nbformat_minor": 0
}
