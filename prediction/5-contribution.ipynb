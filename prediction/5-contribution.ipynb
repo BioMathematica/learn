{
 "cells": [
  {
   "cell_type": "code",
   "execution_count": 15,
   "metadata": {
    "collapsed": true
   },
   "outputs": [],
   "source": [
    "import collections\n",
    "import json\n",
    "\n",
    "import pandas\n",
    "import numpy\n",
    "from matplotlib.backends.backend_pdf import PdfPages\n",
    "import matplotlib.pyplot\n",
    "import seaborn"
   ]
  },
  {
   "cell_type": "code",
   "execution_count": 16,
   "metadata": {
    "collapsed": false
   },
   "outputs": [
    {
     "name": "stderr",
     "output_type": "stream",
     "text": [
      "/home/dhimmels/anaconda3/lib/python3.5/site-packages/IPython/core/interactiveshell.py:2723: DtypeWarning: Columns (4) have mixed types. Specify dtype option on import or set low_memory=False.\n",
      "  interactivity=interactivity, compiler=compiler, result=result)\n"
     ]
    }
   ],
   "source": [
    "feature_df = pandas.read_table('features/transformed-features.tsv.bz2')\n",
    "untran_df = pandas.read_table('features/features.tsv.bz2')\n",
    "coef_df = pandas.read_table('model/coefficient.tsv')\n",
    "predict_df = pandas.read_table('predictions/probabilities.tsv', low_memory=False)"
   ]
  },
  {
   "cell_type": "code",
   "execution_count": 17,
   "metadata": {
    "collapsed": false
   },
   "outputs": [
    {
     "data": {
      "text/html": [
       "<div>\n",
       "<table border=\"1\" class=\"dataframe\">\n",
       "  <thead>\n",
       "    <tr style=\"text-align: right;\">\n",
       "      <th></th>\n",
       "      <th>feature</th>\n",
       "      <th>coef</th>\n",
       "      <th>zcoef</th>\n",
       "    </tr>\n",
       "  </thead>\n",
       "  <tbody>\n",
       "    <tr>\n",
       "      <th>37</th>\n",
       "      <td>dwpc_CbGdCrCtD</td>\n",
       "      <td>0.000694</td>\n",
       "      <td>0.001141</td>\n",
       "    </tr>\n",
       "    <tr>\n",
       "      <th>101</th>\n",
       "      <td>dwpc_CrCbGaD</td>\n",
       "      <td>0.002035</td>\n",
       "      <td>0.002283</td>\n",
       "    </tr>\n",
       "  </tbody>\n",
       "</table>\n",
       "</div>"
      ],
      "text/plain": [
       "            feature      coef     zcoef\n",
       "37   dwpc_CbGdCrCtD  0.000694  0.001141\n",
       "101    dwpc_CrCbGaD  0.002035  0.002283"
      ]
     },
     "execution_count": 17,
     "metadata": {},
     "output_type": "execute_result"
    }
   ],
   "source": [
    "drop = {'prior_logit', 'intercept'}\n",
    "coef_df = coef_df.query(\"feature not in @drop\")\n",
    "coef_df = coef_df.query(\"coef != 0\")\n",
    "coef_df = coef_df.sort_values('coef')\n",
    "features = list(coef_df.feature)\n",
    "subcoef_df = coef_df[(coef_df.feature.str.startswith('dwpc_')) & (coef_df.coef > 0)]\n",
    "subcoef_df.head(2)"
   ]
  },
  {
   "cell_type": "code",
   "execution_count": 18,
   "metadata": {
    "collapsed": false
   },
   "outputs": [],
   "source": [
    "coef_series = pandas.Series(data=coef_df.coef.tolist(), index=coef_df.feature)\n",
    "contrib_df = feature_df[coef_df.feature].mul(coef_series, axis='columns')\n",
    "contrib_df = feature_df[['compound_id', 'disease_id']].join(contrib_df)\n",
    "contrib_df = predict_df.merge(contrib_df)\n",
    "contrib_df = contrib_df.sort_values('prediction', ascending=False)"
   ]
  },
  {
   "cell_type": "code",
   "execution_count": 19,
   "metadata": {
    "collapsed": false
   },
   "outputs": [
    {
     "data": {
      "text/html": [
       "<div>\n",
       "<table border=\"1\" class=\"dataframe\">\n",
       "  <thead>\n",
       "    <tr style=\"text-align: right;\">\n",
       "      <th></th>\n",
       "      <th>compound_id</th>\n",
       "      <th>compound_name</th>\n",
       "      <th>disease_id</th>\n",
       "      <th>disease_name</th>\n",
       "      <th>category</th>\n",
       "      <th>status</th>\n",
       "      <th>prior_prob</th>\n",
       "      <th>prediction</th>\n",
       "      <th>training_prediction</th>\n",
       "      <th>compound_percentile</th>\n",
       "      <th>...</th>\n",
       "      <th>dwpc_CbGeAlD</th>\n",
       "      <th>dwpc_CbGpPWpGaD</th>\n",
       "      <th>dwpc_CpDpCtD</th>\n",
       "      <th>dwpc_CcSEcCtD</th>\n",
       "      <th>dwpc_CrCrCtD</th>\n",
       "      <th>dwpc_CtDrD</th>\n",
       "      <th>dwpc_CrCtD</th>\n",
       "      <th>dwpc_CiPCiCtD</th>\n",
       "      <th>dwpc_CbGaD</th>\n",
       "      <th>dwpc_CbGbCtD</th>\n",
       "    </tr>\n",
       "  </thead>\n",
       "  <tbody>\n",
       "    <tr>\n",
       "      <th>139518</th>\n",
       "      <td>DB00282</td>\n",
       "      <td>Pamidronate</td>\n",
       "      <td>DOID:11476</td>\n",
       "      <td>osteoporosis</td>\n",
       "      <td>DM</td>\n",
       "      <td>1</td>\n",
       "      <td>0.03893</td>\n",
       "      <td>0.886899</td>\n",
       "      <td>0.977108</td>\n",
       "      <td>1.0</td>\n",
       "      <td>...</td>\n",
       "      <td>0.052756</td>\n",
       "      <td>-0.024650</td>\n",
       "      <td>-0.005732</td>\n",
       "      <td>0.243191</td>\n",
       "      <td>1.143319</td>\n",
       "      <td>1.109366</td>\n",
       "      <td>1.689815</td>\n",
       "      <td>2.056862</td>\n",
       "      <td>1.023269</td>\n",
       "      <td>1.218499</td>\n",
       "    </tr>\n",
       "    <tr>\n",
       "      <th>138453</th>\n",
       "      <td>DB00630</td>\n",
       "      <td>Alendronate</td>\n",
       "      <td>DOID:11476</td>\n",
       "      <td>osteoporosis</td>\n",
       "      <td>DM</td>\n",
       "      <td>1</td>\n",
       "      <td>0.03893</td>\n",
       "      <td>0.884991</td>\n",
       "      <td>0.976682</td>\n",
       "      <td>1.0</td>\n",
       "      <td>...</td>\n",
       "      <td>0.044759</td>\n",
       "      <td>0.049125</td>\n",
       "      <td>-0.005732</td>\n",
       "      <td>0.241482</td>\n",
       "      <td>1.143319</td>\n",
       "      <td>1.109366</td>\n",
       "      <td>1.689815</td>\n",
       "      <td>2.056862</td>\n",
       "      <td>0.871453</td>\n",
       "      <td>1.253708</td>\n",
       "    </tr>\n",
       "  </tbody>\n",
       "</table>\n",
       "<p>2 rows × 44 columns</p>\n",
       "</div>"
      ],
      "text/plain": [
       "       compound_id compound_name  disease_id  disease_name category  status  \\\n",
       "139518     DB00282   Pamidronate  DOID:11476  osteoporosis       DM       1   \n",
       "138453     DB00630   Alendronate  DOID:11476  osteoporosis       DM       1   \n",
       "\n",
       "        prior_prob  prediction  training_prediction  compound_percentile  \\\n",
       "139518     0.03893    0.886899             0.977108                  1.0   \n",
       "138453     0.03893    0.884991             0.976682                  1.0   \n",
       "\n",
       "            ...       dwpc_CbGeAlD  dwpc_CbGpPWpGaD  dwpc_CpDpCtD  \\\n",
       "139518      ...           0.052756        -0.024650     -0.005732   \n",
       "138453      ...           0.044759         0.049125     -0.005732   \n",
       "\n",
       "        dwpc_CcSEcCtD  dwpc_CrCrCtD  dwpc_CtDrD  dwpc_CrCtD  dwpc_CiPCiCtD  \\\n",
       "139518       0.243191      1.143319    1.109366    1.689815       2.056862   \n",
       "138453       0.241482      1.143319    1.109366    1.689815       2.056862   \n",
       "\n",
       "        dwpc_CbGaD  dwpc_CbGbCtD  \n",
       "139518    1.023269      1.218499  \n",
       "138453    0.871453      1.253708  \n",
       "\n",
       "[2 rows x 44 columns]"
      ]
     },
     "execution_count": 19,
     "metadata": {},
     "output_type": "execute_result"
    }
   ],
   "source": [
    "contrib_df.head(2)"
   ]
  },
  {
   "cell_type": "code",
   "execution_count": 20,
   "metadata": {
    "collapsed": false
   },
   "outputs": [],
   "source": [
    "pdf = PdfPages('./figure/linear-predictor-plots.pdf')\n",
    "plot_df = contrib_df.groupby('status').head(10)\n",
    "for i, row in plot_df.iterrows():\n",
    "    matplotlib.pyplot.figure(figsize=(5, 7))\n",
    "    ax = seaborn.barplot(\n",
    "        x = list(row[list(coef_df.feature)]),\n",
    "        y = list(coef_df.feature),\n",
    "        hue = list(numpy.sign(coef_df.coef)))\n",
    "    ax.set_title('{}–{} · {:.2%} · {}'.format(row['compound_name'], row['disease_name'], row['prediction'], row['category']))\n",
    "    pdf.savefig(ax.figure, bbox_inches='tight')\n",
    "    matplotlib.pyplot.close()\n",
    "pdf.close()"
   ]
  },
  {
   "cell_type": "markdown",
   "metadata": {},
   "source": [
    "## Extra"
   ]
  },
  {
   "cell_type": "code",
   "execution_count": 21,
   "metadata": {
    "collapsed": false
   },
   "outputs": [
    {
     "data": {
      "text/html": [
       "<div>\n",
       "<table border=\"1\" class=\"dataframe\">\n",
       "  <thead>\n",
       "    <tr style=\"text-align: right;\">\n",
       "      <th></th>\n",
       "      <th>compound_id</th>\n",
       "      <th>compound_name</th>\n",
       "      <th>disease_id</th>\n",
       "      <th>disease_name</th>\n",
       "      <th>category</th>\n",
       "      <th>status</th>\n",
       "      <th>prior_prob</th>\n",
       "      <th>prediction</th>\n",
       "      <th>training_prediction</th>\n",
       "      <th>compound_percentile</th>\n",
       "      <th>...</th>\n",
       "      <th>dwpc_CbGeAlD</th>\n",
       "      <th>dwpc_CbGpPWpGaD</th>\n",
       "      <th>dwpc_CpDpCtD</th>\n",
       "      <th>dwpc_CcSEcCtD</th>\n",
       "      <th>dwpc_CrCrCtD</th>\n",
       "      <th>dwpc_CtDrD</th>\n",
       "      <th>dwpc_CrCtD</th>\n",
       "      <th>dwpc_CiPCiCtD</th>\n",
       "      <th>dwpc_CbGaD</th>\n",
       "      <th>dwpc_CbGbCtD</th>\n",
       "    </tr>\n",
       "  </thead>\n",
       "  <tbody>\n",
       "    <tr>\n",
       "      <th>12699</th>\n",
       "      <td>DB01262</td>\n",
       "      <td>Decitabine</td>\n",
       "      <td>DOID:2986</td>\n",
       "      <td>IgA glomerulonephritis</td>\n",
       "      <td>NaN</td>\n",
       "      <td>0</td>\n",
       "      <td>0.0</td>\n",
       "      <td>0.000210</td>\n",
       "      <td>NaN</td>\n",
       "      <td>0.007353</td>\n",
       "      <td>...</td>\n",
       "      <td>0.081643</td>\n",
       "      <td>0.842476</td>\n",
       "      <td>0.0</td>\n",
       "      <td>0.0</td>\n",
       "      <td>0.0</td>\n",
       "      <td>0.0</td>\n",
       "      <td>0.0</td>\n",
       "      <td>0.0</td>\n",
       "      <td>0.0</td>\n",
       "      <td>0.0</td>\n",
       "    </tr>\n",
       "    <tr>\n",
       "      <th>13576</th>\n",
       "      <td>DB00896</td>\n",
       "      <td>Rimexolone</td>\n",
       "      <td>DOID:2986</td>\n",
       "      <td>IgA glomerulonephritis</td>\n",
       "      <td>NaN</td>\n",
       "      <td>0</td>\n",
       "      <td>0.0</td>\n",
       "      <td>0.000217</td>\n",
       "      <td>NaN</td>\n",
       "      <td>0.007353</td>\n",
       "      <td>...</td>\n",
       "      <td>1.000000</td>\n",
       "      <td>0.000000</td>\n",
       "      <td>0.0</td>\n",
       "      <td>0.0</td>\n",
       "      <td>0.0</td>\n",
       "      <td>0.0</td>\n",
       "      <td>0.0</td>\n",
       "      <td>0.0</td>\n",
       "      <td>0.0</td>\n",
       "      <td>0.0</td>\n",
       "    </tr>\n",
       "  </tbody>\n",
       "</table>\n",
       "<p>2 rows × 26 columns</p>\n",
       "</div>"
      ],
      "text/plain": [
       "      compound_id compound_name disease_id            disease_name category  \\\n",
       "12699     DB01262    Decitabine  DOID:2986  IgA glomerulonephritis      NaN   \n",
       "13576     DB00896    Rimexolone  DOID:2986  IgA glomerulonephritis      NaN   \n",
       "\n",
       "       status  prior_prob  prediction  training_prediction  \\\n",
       "12699       0         0.0    0.000210                  NaN   \n",
       "13576       0         0.0    0.000217                  NaN   \n",
       "\n",
       "       compound_percentile      ...       dwpc_CbGeAlD  dwpc_CbGpPWpGaD  \\\n",
       "12699             0.007353      ...           0.081643         0.842476   \n",
       "13576             0.007353      ...           1.000000         0.000000   \n",
       "\n",
       "       dwpc_CpDpCtD  dwpc_CcSEcCtD  dwpc_CrCrCtD  dwpc_CtDrD  dwpc_CrCtD  \\\n",
       "12699           0.0            0.0           0.0         0.0         0.0   \n",
       "13576           0.0            0.0           0.0         0.0         0.0   \n",
       "\n",
       "       dwpc_CiPCiCtD  dwpc_CbGaD  dwpc_CbGbCtD  \n",
       "12699            0.0         0.0           0.0  \n",
       "13576            0.0         0.0           0.0  \n",
       "\n",
       "[2 rows x 26 columns]"
      ]
     },
     "execution_count": 21,
     "metadata": {},
     "output_type": "execute_result"
    }
   ],
   "source": [
    "# Estimate of percent contribution of each positive term with a positive coefficient\n",
    "pos_contrib_df = contrib_df[subcoef_df.feature].copy()\n",
    "pos_contrib_df[pos_contrib_df < 0] = 0\n",
    "observation_total = pos_contrib_df.sum(axis='columns')\n",
    "pos_contrib_df = pos_contrib_df.div(observation_total, axis='index')\n",
    "pos_contrib_df = predict_df.merge(contrib_df[['compound_id', 'disease_id']].join(pos_contrib_df))\n",
    "pos_contrib_df.sort_values('prediction', inplace=True, ascending=True)\n",
    "pos_contrib_df.head(2)"
   ]
  },
  {
   "cell_type": "code",
   "execution_count": 22,
   "metadata": {
    "collapsed": false
   },
   "outputs": [],
   "source": [
    "# Create a dictionary of (compound_id, disease_id, metapath) keys to lookup untransformed DWPCs\n",
    "dwpc_melt_df = pandas.melt(untran_df, id_vars=['compound_id', 'disease_id'],\n",
    "    value_vars=list(subcoef_df.feature), var_name='feature', value_name='dwpc')\n",
    "dwpc_melt_df.head()\n",
    "untran_dwpc_map = dict()\n",
    "for row in dwpc_melt_df.itertuples():\n",
    "    key = row.compound_id, row.disease_id, row.feature.split('_')[1]\n",
    "    untran_dwpc_map[key] = row.dwpc"
   ]
  },
  {
   "cell_type": "code",
   "execution_count": 23,
   "metadata": {
    "collapsed": false,
    "scrolled": true
   },
   "outputs": [
    {
     "data": {
      "text/plain": [
       "1070"
      ]
     },
     "execution_count": 23,
     "metadata": {},
     "output_type": "execute_result"
    }
   ],
   "source": [
    "obj = list()\n",
    "for i, row in pos_contrib_df.query(\"prediction > 0.05\").iterrows():\n",
    "    observation = collections.OrderedDict()\n",
    "    compound_id = row['compound_id']\n",
    "    disease_id = row['disease_id']\n",
    "    for key in ['compound_id', 'compound_name', 'disease_id', 'disease_name', 'category', 'status', 'prediction', 'training_prediction']:\n",
    "        observation[key] = row[key]\n",
    "    if pandas.isnull(observation['category']):\n",
    "        del observation['category']\n",
    "    contribs = collections.OrderedDict()\n",
    "    for key in subcoef_df.feature:\n",
    "        percent_contrib = row[key]\n",
    "        if percent_contrib == 0:\n",
    "            continue\n",
    "        temp, metapath = key.split('_', 1)\n",
    "        contribs[metapath] = percent_contrib\n",
    "    observation['metapath_contribution'] = contribs\n",
    "    obj.append(observation)\n",
    "len(obj)"
   ]
  },
  {
   "cell_type": "code",
   "execution_count": 24,
   "metadata": {
    "collapsed": true
   },
   "outputs": [],
   "source": [
    "with open('features/metapaths.json') as read_file:\n",
    "    metapaths = json.load(read_file)"
   ]
  },
  {
   "cell_type": "code",
   "execution_count": 25,
   "metadata": {
    "collapsed": false
   },
   "outputs": [],
   "source": [
    "metapath_to_query = dict()\n",
    "for metapath in metapaths:\n",
    "    dwpc_query = metapath['dwpc_query']\n",
    "    pdp_query = dwpc_query.split('RETURN')[0] + \\\n",
    "    '''\\\n",
    "    WITH\n",
    "    extract(n in nodes(path)| n.name) AS nodes,\n",
    "    sum(reduce(pdp = 1.0, d in degrees| pdp * d ^ -0.4)) / { dwpc } AS PDP_contribution\n",
    "    WITH\n",
    "    nodes,\n",
    "    PDP_contribution,\n",
    "    PDP_contribution * { metapath_contribution } AS prediction_contribution\n",
    "    WHERE prediction_contribution >= 0.005\n",
    "    RETURN nodes, prediction_contribution, PDP_contribution\n",
    "    ORDER BY prediction_contribution\n",
    "    '''\n",
    "    metapath_to_query[metapath['abbreviation']] = pdp_query"
   ]
  },
  {
   "cell_type": "code",
   "execution_count": 26,
   "metadata": {
    "collapsed": false
   },
   "outputs": [],
   "source": [
    "import py2neo\n",
    "neo = py2neo.Graph('http://localhost:7500/db/data/')"
   ]
  },
  {
   "cell_type": "code",
   "execution_count": 27,
   "metadata": {
    "collapsed": false
   },
   "outputs": [],
   "source": [
    "ms_obj = [elem for elem in obj if elem['disease_name'] == 'multiple sclerosis']"
   ]
  },
  {
   "cell_type": "code",
   "execution_count": 28,
   "metadata": {
    "collapsed": false
   },
   "outputs": [],
   "source": [
    "path_dfs = list()\n",
    "for elem in ms_obj[:15]:\n",
    "    dfs = list()\n",
    "    c_id = elem['compound_id']\n",
    "    d_id = elem['disease_id']\n",
    "    for metapath, contribution in elem['metapath_contribution'].items():\n",
    "        untran_dwpc = untran_dwpc_map[(c_id, d_id, metapath)]\n",
    "        pdp_query = metapath_to_query[metapath]\n",
    "        results = neo.cypher.execute(pdp_query, source=c_id, target=d_id, n = 10,\n",
    "                                    dwpc=untran_dwpc,\n",
    "                                    metapath_contribution=elem['metapath_contribution'][metapath]\n",
    "                                    )\n",
    "        df = pandas.DataFrame(results.records, columns=results.columns)\n",
    "        #df['PDP_contribution'] = df['PDP'] / untran_dwpc\n",
    "        #df['prediction_contribution'] = df['PDP_contribution'] * \n",
    "        df['nodes'] = df['nodes'].map(lambda x: '—'.join(x))\n",
    "        df['metapath'] = metapath\n",
    "        df['compound_id'] = c_id\n",
    "        df['disease_id'] = d_id\n",
    "        #del df['PDP']\n",
    "        dfs.append(df)\n",
    "    path_dfs.append(pandas.concat(dfs).sort_values('prediction_contribution', ascending=False))\n",
    "\n",
    "path_df = pandas.concat(path_dfs)"
   ]
  },
  {
   "cell_type": "code",
   "execution_count": 29,
   "metadata": {
    "collapsed": false
   },
   "outputs": [],
   "source": [
    "path_df.to_csv('./predictions/paths.tsv', sep='\\t', index=False)"
   ]
  },
  {
   "cell_type": "code",
   "execution_count": null,
   "metadata": {
    "collapsed": true
   },
   "outputs": [],
   "source": []
  }
 ],
 "metadata": {
  "kernelspec": {
   "display_name": "Python 3",
   "language": "python",
   "name": "python3"
  },
  "language_info": {
   "codemirror_mode": {
    "name": "ipython",
    "version": 3
   },
   "file_extension": ".py",
   "mimetype": "text/x-python",
   "name": "python",
   "nbconvert_exporter": "python",
   "pygments_lexer": "ipython3",
   "version": "3.5.1"
  }
 },
 "nbformat": 4,
 "nbformat_minor": 0
}
