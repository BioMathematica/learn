{
 "cells": [
  {
   "cell_type": "code",
   "execution_count": 49,
   "metadata": {
    "collapsed": true
   },
   "outputs": [],
   "source": [
    "import collections\n",
    "import json\n",
    "\n",
    "import pandas\n",
    "import numpy\n",
    "from matplotlib.backends.backend_pdf import PdfPages\n",
    "import matplotlib.pyplot"
   ]
  },
  {
   "cell_type": "code",
   "execution_count": 119,
   "metadata": {
    "collapsed": true
   },
   "outputs": [],
   "source": [
    "feature_df = pandas.read_table('features/transformed-features.tsv.bz2')\n",
    "untran_df = pandas.read_table('features/features.tsv.bz2')\n",
    "coef_df = pandas.read_table('model/coefficient.tsv')\n",
    "predict_df = pandas.read_table('predictions/probabilities.tsv')"
   ]
  },
  {
   "cell_type": "code",
   "execution_count": 17,
   "metadata": {
    "collapsed": false
   },
   "outputs": [
    {
     "data": {
      "text/html": [
       "<div>\n",
       "<table border=\"1\" class=\"dataframe\">\n",
       "  <thead>\n",
       "    <tr style=\"text-align: right;\">\n",
       "      <th></th>\n",
       "      <th>feature</th>\n",
       "      <th>coef</th>\n",
       "      <th>zcoef</th>\n",
       "    </tr>\n",
       "  </thead>\n",
       "  <tbody>\n",
       "    <tr>\n",
       "      <th>41</th>\n",
       "      <td>dwpc_CbGuDtCpD</td>\n",
       "      <td>0.000345</td>\n",
       "      <td>0.000441</td>\n",
       "    </tr>\n",
       "    <tr>\n",
       "      <th>112</th>\n",
       "      <td>dwpc_CuGr&gt;GcGdD</td>\n",
       "      <td>0.001188</td>\n",
       "      <td>0.001769</td>\n",
       "    </tr>\n",
       "  </tbody>\n",
       "</table>\n",
       "</div>"
      ],
      "text/plain": [
       "             feature      coef     zcoef\n",
       "41    dwpc_CbGuDtCpD  0.000345  0.000441\n",
       "112  dwpc_CuGr>GcGdD  0.001188  0.001769"
      ]
     },
     "execution_count": 17,
     "metadata": {},
     "output_type": "execute_result"
    }
   ],
   "source": [
    "drop = {'prior_logit', 'intercept'}\n",
    "coef_df = coef_df.query(\"feature not in @drop\")\n",
    "coef_df = coef_df.query(\"coef != 0\")\n",
    "coef_df = coef_df.sort_values('coef')\n",
    "features = list(coef_df.feature)\n",
    "subcoef_df = coef_df[(coef_df.feature.str.startswith('dwpc_')) & (coef_df.coef > 0)]\n",
    "subcoef_df.head(2)"
   ]
  },
  {
   "cell_type": "code",
   "execution_count": 5,
   "metadata": {
    "collapsed": false
   },
   "outputs": [],
   "source": [
    "coef_series = pandas.Series(data=coef_df.coef.tolist(), index=coef_df.feature)\n",
    "contrib_df = feature_df[coef_df.feature].mul(coef_series, axis='columns')\n",
    "contrib_df = feature_df[['compound_id', 'disease_id']].join(contrib_df)\n",
    "contrib_df = predict_df.merge(contrib_df)\n",
    "contrib_df = contrib_df.sort_values('prediction', ascending=False)"
   ]
  },
  {
   "cell_type": "code",
   "execution_count": 6,
   "metadata": {
    "collapsed": false
   },
   "outputs": [
    {
     "data": {
      "text/html": [
       "<div>\n",
       "<table border=\"1\" class=\"dataframe\">\n",
       "  <thead>\n",
       "    <tr style=\"text-align: right;\">\n",
       "      <th></th>\n",
       "      <th>compound_id</th>\n",
       "      <th>compound_name</th>\n",
       "      <th>disease_id</th>\n",
       "      <th>disease_name</th>\n",
       "      <th>category</th>\n",
       "      <th>status</th>\n",
       "      <th>prediction</th>\n",
       "      <th>training_prediction</th>\n",
       "      <th>dwpc_CtDaGiGaD</th>\n",
       "      <th>dwpc_CtDaGaDrD</th>\n",
       "      <th>...</th>\n",
       "      <th>dwpc_CtDrDrDrD</th>\n",
       "      <th>degree_DrD</th>\n",
       "      <th>dwpc_CbGaDrDrD</th>\n",
       "      <th>dwpc_CbGuAlDrD</th>\n",
       "      <th>dwpc_CtDtCtD</th>\n",
       "      <th>dwpc_CbGpPWpGaD</th>\n",
       "      <th>dwpc_CtDrDrD</th>\n",
       "      <th>dwpc_CtDaGaD</th>\n",
       "      <th>degree_DaG</th>\n",
       "      <th>degree_CtD</th>\n",
       "    </tr>\n",
       "  </thead>\n",
       "  <tbody>\n",
       "    <tr>\n",
       "      <th>91496</th>\n",
       "      <td>DB00808</td>\n",
       "      <td>Indapamide</td>\n",
       "      <td>DOID:10763</td>\n",
       "      <td>hypertension</td>\n",
       "      <td>DM</td>\n",
       "      <td>1</td>\n",
       "      <td>0.994276</td>\n",
       "      <td>0.999878</td>\n",
       "      <td>0.519654</td>\n",
       "      <td>0.27547</td>\n",
       "      <td>...</td>\n",
       "      <td>-0.050888</td>\n",
       "      <td>0.014677</td>\n",
       "      <td>0.138279</td>\n",
       "      <td>0.284136</td>\n",
       "      <td>-0.041448</td>\n",
       "      <td>0.594393</td>\n",
       "      <td>-0.119877</td>\n",
       "      <td>-0.259058</td>\n",
       "      <td>2.255991</td>\n",
       "      <td>1.862382</td>\n",
       "    </tr>\n",
       "    <tr>\n",
       "      <th>90882</th>\n",
       "      <td>DB00542</td>\n",
       "      <td>Benazepril</td>\n",
       "      <td>DOID:10763</td>\n",
       "      <td>hypertension</td>\n",
       "      <td>DM</td>\n",
       "      <td>1</td>\n",
       "      <td>0.993767</td>\n",
       "      <td>0.999867</td>\n",
       "      <td>0.519654</td>\n",
       "      <td>0.27547</td>\n",
       "      <td>...</td>\n",
       "      <td>-0.050888</td>\n",
       "      <td>0.014677</td>\n",
       "      <td>0.456586</td>\n",
       "      <td>0.136071</td>\n",
       "      <td>-0.041448</td>\n",
       "      <td>0.539915</td>\n",
       "      <td>-0.119877</td>\n",
       "      <td>-0.259058</td>\n",
       "      <td>2.255991</td>\n",
       "      <td>1.862382</td>\n",
       "    </tr>\n",
       "  </tbody>\n",
       "</table>\n",
       "<p>2 rows × 94 columns</p>\n",
       "</div>"
      ],
      "text/plain": [
       "      compound_id compound_name  disease_id  disease_name category  status  \\\n",
       "91496     DB00808    Indapamide  DOID:10763  hypertension       DM       1   \n",
       "90882     DB00542    Benazepril  DOID:10763  hypertension       DM       1   \n",
       "\n",
       "       prediction  training_prediction  dwpc_CtDaGiGaD  dwpc_CtDaGaDrD  \\\n",
       "91496    0.994276             0.999878        0.519654         0.27547   \n",
       "90882    0.993767             0.999867        0.519654         0.27547   \n",
       "\n",
       "          ...      dwpc_CtDrDrDrD  degree_DrD  dwpc_CbGaDrDrD  dwpc_CbGuAlDrD  \\\n",
       "91496     ...           -0.050888    0.014677        0.138279        0.284136   \n",
       "90882     ...           -0.050888    0.014677        0.456586        0.136071   \n",
       "\n",
       "       dwpc_CtDtCtD  dwpc_CbGpPWpGaD  dwpc_CtDrDrD  dwpc_CtDaGaD  degree_DaG  \\\n",
       "91496     -0.041448         0.594393     -0.119877     -0.259058    2.255991   \n",
       "90882     -0.041448         0.539915     -0.119877     -0.259058    2.255991   \n",
       "\n",
       "       degree_CtD  \n",
       "91496    1.862382  \n",
       "90882    1.862382  \n",
       "\n",
       "[2 rows x 94 columns]"
      ]
     },
     "execution_count": 6,
     "metadata": {},
     "output_type": "execute_result"
    }
   ],
   "source": [
    "contrib_df.head(2)"
   ]
  },
  {
   "cell_type": "code",
   "execution_count": 108,
   "metadata": {
    "collapsed": false
   },
   "outputs": [],
   "source": [
    "pdf = PdfPages('./figure/linear-predictor-plots.pdf')\n",
    "plot_df = contrib_df.groupby('status').head(10)\n",
    "for i, row in plot_df.iterrows():\n",
    "    matplotlib.pyplot.figure(figsize=(5, 15))\n",
    "    ax = seaborn.barplot(\n",
    "        x = list(row[list(coef_df.feature)]),\n",
    "        y = list(coef_df.feature),\n",
    "        hue = list(numpy.sign(coef_df.coef)))\n",
    "    ax.set_title('{}–{} · {:.2%} · {}'.format(row['compound_name'], row['disease_name'], row['prediction'], row['category']))\n",
    "    pdf.savefig(ax.figure, bbox_inches='tight')\n",
    "    matplotlib.pyplot.close()\n",
    "pdf.close()"
   ]
  },
  {
   "cell_type": "markdown",
   "metadata": {},
   "source": [
    "## Extra"
   ]
  },
  {
   "cell_type": "code",
   "execution_count": 181,
   "metadata": {
    "collapsed": false
   },
   "outputs": [
    {
     "data": {
      "text/html": [
       "<div>\n",
       "<table border=\"1\" class=\"dataframe\">\n",
       "  <thead>\n",
       "    <tr style=\"text-align: right;\">\n",
       "      <th></th>\n",
       "      <th>compound_id</th>\n",
       "      <th>compound_name</th>\n",
       "      <th>disease_id</th>\n",
       "      <th>disease_name</th>\n",
       "      <th>category</th>\n",
       "      <th>status</th>\n",
       "      <th>prediction</th>\n",
       "      <th>training_prediction</th>\n",
       "      <th>compound_rank</th>\n",
       "      <th>disease_rank</th>\n",
       "      <th>...</th>\n",
       "      <th>dwpc_CrCrCtD</th>\n",
       "      <th>dwpc_CtDrD</th>\n",
       "      <th>dwpc_CbGbCtD</th>\n",
       "      <th>dwpc_CtDrDrDrD</th>\n",
       "      <th>dwpc_CbGaDrDrD</th>\n",
       "      <th>dwpc_CbGuAlDrD</th>\n",
       "      <th>dwpc_CtDtCtD</th>\n",
       "      <th>dwpc_CbGpPWpGaD</th>\n",
       "      <th>dwpc_CtDrDrD</th>\n",
       "      <th>dwpc_CtDaGaD</th>\n",
       "    </tr>\n",
       "  </thead>\n",
       "  <tbody>\n",
       "    <tr>\n",
       "      <th>160686</th>\n",
       "      <td>DB00424</td>\n",
       "      <td>Hyoscyamine</td>\n",
       "      <td>DOID:8893</td>\n",
       "      <td>psoriasis</td>\n",
       "      <td>NaN</td>\n",
       "      <td>0</td>\n",
       "      <td>7.345773e-08</td>\n",
       "      <td>6.965431e-07</td>\n",
       "      <td>136</td>\n",
       "      <td>1538.0</td>\n",
       "      <td>...</td>\n",
       "      <td>0.0</td>\n",
       "      <td>0.0</td>\n",
       "      <td>0.00000</td>\n",
       "      <td>0.0</td>\n",
       "      <td>0.000000</td>\n",
       "      <td>0.0</td>\n",
       "      <td>0.0</td>\n",
       "      <td>0.0</td>\n",
       "      <td>0.0</td>\n",
       "      <td>0.554422</td>\n",
       "    </tr>\n",
       "    <tr>\n",
       "      <th>139690</th>\n",
       "      <td>DB00740</td>\n",
       "      <td>Riluzole</td>\n",
       "      <td>DOID:11476</td>\n",
       "      <td>osteoporosis</td>\n",
       "      <td>NaN</td>\n",
       "      <td>0</td>\n",
       "      <td>1.073588e-07</td>\n",
       "      <td>6.728824e-07</td>\n",
       "      <td>136</td>\n",
       "      <td>1538.0</td>\n",
       "      <td>...</td>\n",
       "      <td>0.0</td>\n",
       "      <td>0.0</td>\n",
       "      <td>0.16051</td>\n",
       "      <td>0.0</td>\n",
       "      <td>0.023517</td>\n",
       "      <td>0.0</td>\n",
       "      <td>0.0</td>\n",
       "      <td>0.0</td>\n",
       "      <td>0.0</td>\n",
       "      <td>0.247909</td>\n",
       "    </tr>\n",
       "  </tbody>\n",
       "</table>\n",
       "<p>2 rows × 47 columns</p>\n",
       "</div>"
      ],
      "text/plain": [
       "       compound_id compound_name  disease_id  disease_name category  status  \\\n",
       "160686     DB00424   Hyoscyamine   DOID:8893     psoriasis      NaN       0   \n",
       "139690     DB00740      Riluzole  DOID:11476  osteoporosis      NaN       0   \n",
       "\n",
       "          prediction  training_prediction  compound_rank  disease_rank  \\\n",
       "160686  7.345773e-08         6.965431e-07            136        1538.0   \n",
       "139690  1.073588e-07         6.728824e-07            136        1538.0   \n",
       "\n",
       "            ...       dwpc_CrCrCtD  dwpc_CtDrD  dwpc_CbGbCtD  dwpc_CtDrDrDrD  \\\n",
       "160686      ...                0.0         0.0       0.00000             0.0   \n",
       "139690      ...                0.0         0.0       0.16051             0.0   \n",
       "\n",
       "        dwpc_CbGaDrDrD  dwpc_CbGuAlDrD  dwpc_CtDtCtD  dwpc_CbGpPWpGaD  \\\n",
       "160686        0.000000             0.0           0.0              0.0   \n",
       "139690        0.023517             0.0           0.0              0.0   \n",
       "\n",
       "        dwpc_CtDrDrD  dwpc_CtDaGaD  \n",
       "160686           0.0      0.554422  \n",
       "139690           0.0      0.247909  \n",
       "\n",
       "[2 rows x 47 columns]"
      ]
     },
     "execution_count": 181,
     "metadata": {},
     "output_type": "execute_result"
    }
   ],
   "source": [
    "# Estimate of percent contribution of each positive term with a positive coefficient\n",
    "pos_contrib_df = contrib_df[subcoef_df.feature].copy()\n",
    "pos_contrib_df[pos_contrib_df < 0] = 0\n",
    "observation_total = pos_contrib_df.sum(axis='columns')\n",
    "pos_contrib_df = pos_contrib_df.div(observation_total, axis='index')\n",
    "pos_contrib_df = predict_df.merge(contrib_df[['compound_id', 'disease_id']].join(pos_contrib_df))\n",
    "pos_contrib_df.sort_values('prediction', inplace=True, ascending=True)\n",
    "pos_contrib_df.head(2)"
   ]
  },
  {
   "cell_type": "code",
   "execution_count": 182,
   "metadata": {
    "collapsed": false
   },
   "outputs": [],
   "source": [
    "# Create a dictionary of (compound_id, disease_id, metapath) keys to lookup untransformed DWPCs\n",
    "dwpc_melt_df = pandas.melt(untran_df, id_vars=['compound_id', 'disease_id'],\n",
    "    value_vars=list(subcoef_df.feature), var_name='feature', value_name='dwpc')\n",
    "dwpc_melt_df.head()\n",
    "untran_dwpc_map = dict()\n",
    "for row in dwpc_melt_df.itertuples():\n",
    "    key = row.compound_id, row.disease_id, row.feature.split('_')[1]\n",
    "    untran_dwpc_map[key] = row.dwpc"
   ]
  },
  {
   "cell_type": "code",
   "execution_count": 183,
   "metadata": {
    "collapsed": false,
    "scrolled": true
   },
   "outputs": [
    {
     "data": {
      "text/plain": [
       "11734"
      ]
     },
     "execution_count": 183,
     "metadata": {},
     "output_type": "execute_result"
    }
   ],
   "source": [
    "obj = list()\n",
    "for i, row in pos_contrib_df.query(\"prediction > 0.05\").iterrows():\n",
    "    observation = collections.OrderedDict()\n",
    "    compound_id = row['compound_id']\n",
    "    disease_id = row['disease_id']\n",
    "    for key in ['compound_id', 'compound_name', 'disease_id', 'disease_name', 'category', 'status', 'prediction', 'training_prediction']:\n",
    "        observation[key] = row[key]\n",
    "    if pandas.isnull(observation['category']):\n",
    "        del observation['category']\n",
    "    contribs = collections.OrderedDict()\n",
    "    for key in subcoef_df.feature:\n",
    "        percent_contrib = row[key]\n",
    "        if percent_contrib == 0:\n",
    "            continue\n",
    "        temp, metapath = key.split('_', 1)\n",
    "        contribs[metapath] = percent_contrib\n",
    "    observation['metapath_contribution'] = contribs\n",
    "    obj.append(observation)\n",
    "len(obj)"
   ]
  },
  {
   "cell_type": "code",
   "execution_count": 184,
   "metadata": {
    "collapsed": true
   },
   "outputs": [],
   "source": [
    "with open('features/metapaths.json') as read_file:\n",
    "    metapaths = json.load(read_file)"
   ]
  },
  {
   "cell_type": "code",
   "execution_count": 185,
   "metadata": {
    "collapsed": false
   },
   "outputs": [],
   "source": [
    "metapath_to_query = dict()\n",
    "for metapath in metapaths:\n",
    "    dwpc_query = metapath['dwpc_query']\n",
    "    pdp_query = dwpc_query.split('RETURN')[0] + \\\n",
    "    '''\\\n",
    "    WITH\n",
    "    extract(n in nodes(path)| n.name) AS nodes,\n",
    "    sum(reduce(pdp = 1.0, d in degrees| pdp * d ^ -0.4)) / { dwpc } AS PDP_contribution\n",
    "    WITH\n",
    "    nodes,\n",
    "    PDP_contribution,\n",
    "    PDP_contribution * { metapath_contribution } AS prediction_contribution\n",
    "    WHERE prediction_contribution >= 0.005\n",
    "    RETURN nodes, prediction_contribution, PDP_contribution\n",
    "    ORDER BY prediction_contribution\n",
    "    '''\n",
    "    metapath_to_query[metapath['abbreviation']] = pdp_query"
   ]
  },
  {
   "cell_type": "code",
   "execution_count": 186,
   "metadata": {
    "collapsed": false
   },
   "outputs": [],
   "source": [
    "import py2neo\n",
    "neo = py2neo.Graph('http://localhost:7500/db/data/')"
   ]
  },
  {
   "cell_type": "code",
   "execution_count": 187,
   "metadata": {
    "collapsed": false
   },
   "outputs": [],
   "source": [
    "ms_obj = [elem for elem in obj if elem['disease_name'] == 'multiple sclerosis']"
   ]
  },
  {
   "cell_type": "code",
   "execution_count": 188,
   "metadata": {
    "collapsed": false
   },
   "outputs": [],
   "source": [
    "path_dfs = list()\n",
    "for elem in ms_obj[:15]:\n",
    "    dfs = list()\n",
    "    c_id = elem['compound_id']\n",
    "    d_id = elem['disease_id']\n",
    "    for metapath, contribution in elem['metapath_contribution'].items():\n",
    "        untran_dwpc = untran_dwpc_map[(c_id, d_id, metapath)]\n",
    "        pdp_query = metapath_to_query[metapath]\n",
    "        results = neo.cypher.execute(pdp_query, source=c_id, target=d_id, n = 10,\n",
    "                                    dwpc=untran_dwpc,\n",
    "                                    metapath_contribution=elem['metapath_contribution'][metapath]\n",
    "                                    )\n",
    "        df = pandas.DataFrame(results.records, columns=results.columns)\n",
    "        #df['PDP_contribution'] = df['PDP'] / untran_dwpc\n",
    "        #df['prediction_contribution'] = df['PDP_contribution'] * \n",
    "        df['nodes'] = df['nodes'].map(lambda x: '—'.join(x))\n",
    "        df['metapath'] = metapath\n",
    "        df['compound_id'] = c_id\n",
    "        df['disease_id'] = d_id\n",
    "        #del df['PDP']\n",
    "        dfs.append(df)\n",
    "    path_dfs.append(pandas.concat(dfs).sort_values('prediction_contribution', ascending=False))\n",
    "\n",
    "path_df = pandas.concat(path_dfs)"
   ]
  },
  {
   "cell_type": "code",
   "execution_count": 189,
   "metadata": {
    "collapsed": false
   },
   "outputs": [],
   "source": [
    "path_df.to_csv('./predictions/paths.tsv', sep='\\t', index=False)"
   ]
  },
  {
   "cell_type": "code",
   "execution_count": null,
   "metadata": {
    "collapsed": true
   },
   "outputs": [],
   "source": []
  }
 ],
 "metadata": {
  "kernelspec": {
   "display_name": "Python 3",
   "language": "python",
   "name": "python3"
  },
  "language_info": {
   "codemirror_mode": {
    "name": "ipython",
    "version": 3
   },
   "file_extension": ".py",
   "mimetype": "text/x-python",
   "name": "python",
   "nbconvert_exporter": "python",
   "pygments_lexer": "ipython3",
   "version": "3.5.1"
  }
 },
 "nbformat": 4,
 "nbformat_minor": 0
}
