{
 "cells": [
  {
   "cell_type": "code",
   "execution_count": 49,
   "metadata": {
    "collapsed": true
   },
   "outputs": [],
   "source": [
    "import collections\n",
    "\n",
    "import pandas\n",
    "import numpy\n",
    "from matplotlib.backends.backend_pdf import PdfPages\n",
    "import matplotlib.pyplot"
   ]
  },
  {
   "cell_type": "code",
   "execution_count": 2,
   "metadata": {
    "collapsed": true
   },
   "outputs": [],
   "source": [
    "feature_df = pandas.read_table('features/transformed-features.tsv.bz2')\n",
    "coef_df = pandas.read_table('model/coefficient.tsv')\n",
    "predict_df = pandas.read_table('predictions/probabilities.tsv')"
   ]
  },
  {
   "cell_type": "code",
   "execution_count": 17,
   "metadata": {
    "collapsed": false
   },
   "outputs": [
    {
     "data": {
      "text/html": [
       "<div>\n",
       "<table border=\"1\" class=\"dataframe\">\n",
       "  <thead>\n",
       "    <tr style=\"text-align: right;\">\n",
       "      <th></th>\n",
       "      <th>feature</th>\n",
       "      <th>coef</th>\n",
       "      <th>zcoef</th>\n",
       "    </tr>\n",
       "  </thead>\n",
       "  <tbody>\n",
       "    <tr>\n",
       "      <th>41</th>\n",
       "      <td>dwpc_CbGuDtCpD</td>\n",
       "      <td>0.000345</td>\n",
       "      <td>0.000441</td>\n",
       "    </tr>\n",
       "    <tr>\n",
       "      <th>112</th>\n",
       "      <td>dwpc_CuGr&gt;GcGdD</td>\n",
       "      <td>0.001188</td>\n",
       "      <td>0.001769</td>\n",
       "    </tr>\n",
       "  </tbody>\n",
       "</table>\n",
       "</div>"
      ],
      "text/plain": [
       "             feature      coef     zcoef\n",
       "41    dwpc_CbGuDtCpD  0.000345  0.000441\n",
       "112  dwpc_CuGr>GcGdD  0.001188  0.001769"
      ]
     },
     "execution_count": 17,
     "metadata": {},
     "output_type": "execute_result"
    }
   ],
   "source": [
    "drop = {'prior_logit', 'intercept'}\n",
    "coef_df = coef_df.query(\"feature not in @drop\")\n",
    "coef_df = coef_df.query(\"coef != 0\")\n",
    "coef_df = coef_df.sort_values('coef')\n",
    "features = list(coef_df.feature)\n",
    "subcoef_df = coef_df[(coef_df.feature.str.startswith('dwpc_')) & (coef_df.coef > 0)]\n",
    "subcoef_df.head(2)"
   ]
  },
  {
   "cell_type": "code",
   "execution_count": 5,
   "metadata": {
    "collapsed": false
   },
   "outputs": [],
   "source": [
    "coef_series = pandas.Series(data=coef_df.coef.tolist(), index=coef_df.feature)\n",
    "contrib_df = feature_df[coef_df.feature].mul(coef_series, axis='columns')\n",
    "contrib_df = feature_df[['compound_id', 'disease_id']].join(contrib_df)\n",
    "contrib_df = predict_df.merge(contrib_df)\n",
    "contrib_df = contrib_df.sort_values('prediction', ascending=False)"
   ]
  },
  {
   "cell_type": "code",
   "execution_count": 6,
   "metadata": {
    "collapsed": false
   },
   "outputs": [
    {
     "data": {
      "text/html": [
       "<div>\n",
       "<table border=\"1\" class=\"dataframe\">\n",
       "  <thead>\n",
       "    <tr style=\"text-align: right;\">\n",
       "      <th></th>\n",
       "      <th>compound_id</th>\n",
       "      <th>compound_name</th>\n",
       "      <th>disease_id</th>\n",
       "      <th>disease_name</th>\n",
       "      <th>category</th>\n",
       "      <th>status</th>\n",
       "      <th>prediction</th>\n",
       "      <th>training_prediction</th>\n",
       "      <th>dwpc_CtDaGiGaD</th>\n",
       "      <th>dwpc_CtDaGaDrD</th>\n",
       "      <th>...</th>\n",
       "      <th>dwpc_CtDrDrDrD</th>\n",
       "      <th>degree_DrD</th>\n",
       "      <th>dwpc_CbGaDrDrD</th>\n",
       "      <th>dwpc_CbGuAlDrD</th>\n",
       "      <th>dwpc_CtDtCtD</th>\n",
       "      <th>dwpc_CbGpPWpGaD</th>\n",
       "      <th>dwpc_CtDrDrD</th>\n",
       "      <th>dwpc_CtDaGaD</th>\n",
       "      <th>degree_DaG</th>\n",
       "      <th>degree_CtD</th>\n",
       "    </tr>\n",
       "  </thead>\n",
       "  <tbody>\n",
       "    <tr>\n",
       "      <th>91496</th>\n",
       "      <td>DB00808</td>\n",
       "      <td>Indapamide</td>\n",
       "      <td>DOID:10763</td>\n",
       "      <td>hypertension</td>\n",
       "      <td>DM</td>\n",
       "      <td>1</td>\n",
       "      <td>0.994276</td>\n",
       "      <td>0.999878</td>\n",
       "      <td>0.519654</td>\n",
       "      <td>0.27547</td>\n",
       "      <td>...</td>\n",
       "      <td>-0.050888</td>\n",
       "      <td>0.014677</td>\n",
       "      <td>0.138279</td>\n",
       "      <td>0.284136</td>\n",
       "      <td>-0.041448</td>\n",
       "      <td>0.594393</td>\n",
       "      <td>-0.119877</td>\n",
       "      <td>-0.259058</td>\n",
       "      <td>2.255991</td>\n",
       "      <td>1.862382</td>\n",
       "    </tr>\n",
       "    <tr>\n",
       "      <th>90882</th>\n",
       "      <td>DB00542</td>\n",
       "      <td>Benazepril</td>\n",
       "      <td>DOID:10763</td>\n",
       "      <td>hypertension</td>\n",
       "      <td>DM</td>\n",
       "      <td>1</td>\n",
       "      <td>0.993767</td>\n",
       "      <td>0.999867</td>\n",
       "      <td>0.519654</td>\n",
       "      <td>0.27547</td>\n",
       "      <td>...</td>\n",
       "      <td>-0.050888</td>\n",
       "      <td>0.014677</td>\n",
       "      <td>0.456586</td>\n",
       "      <td>0.136071</td>\n",
       "      <td>-0.041448</td>\n",
       "      <td>0.539915</td>\n",
       "      <td>-0.119877</td>\n",
       "      <td>-0.259058</td>\n",
       "      <td>2.255991</td>\n",
       "      <td>1.862382</td>\n",
       "    </tr>\n",
       "  </tbody>\n",
       "</table>\n",
       "<p>2 rows × 94 columns</p>\n",
       "</div>"
      ],
      "text/plain": [
       "      compound_id compound_name  disease_id  disease_name category  status  \\\n",
       "91496     DB00808    Indapamide  DOID:10763  hypertension       DM       1   \n",
       "90882     DB00542    Benazepril  DOID:10763  hypertension       DM       1   \n",
       "\n",
       "       prediction  training_prediction  dwpc_CtDaGiGaD  dwpc_CtDaGaDrD  \\\n",
       "91496    0.994276             0.999878        0.519654         0.27547   \n",
       "90882    0.993767             0.999867        0.519654         0.27547   \n",
       "\n",
       "          ...      dwpc_CtDrDrDrD  degree_DrD  dwpc_CbGaDrDrD  dwpc_CbGuAlDrD  \\\n",
       "91496     ...           -0.050888    0.014677        0.138279        0.284136   \n",
       "90882     ...           -0.050888    0.014677        0.456586        0.136071   \n",
       "\n",
       "       dwpc_CtDtCtD  dwpc_CbGpPWpGaD  dwpc_CtDrDrD  dwpc_CtDaGaD  degree_DaG  \\\n",
       "91496     -0.041448         0.594393     -0.119877     -0.259058    2.255991   \n",
       "90882     -0.041448         0.539915     -0.119877     -0.259058    2.255991   \n",
       "\n",
       "       degree_CtD  \n",
       "91496    1.862382  \n",
       "90882    1.862382  \n",
       "\n",
       "[2 rows x 94 columns]"
      ]
     },
     "execution_count": 6,
     "metadata": {},
     "output_type": "execute_result"
    }
   ],
   "source": [
    "contrib_df.head(2)"
   ]
  },
  {
   "cell_type": "code",
   "execution_count": 108,
   "metadata": {
    "collapsed": false
   },
   "outputs": [],
   "source": [
    "pdf = PdfPages('./figure/linear-predictor-plots.pdf')\n",
    "plot_df = contrib_df.groupby('status').head(10)\n",
    "for i, row in plot_df.iterrows():\n",
    "    matplotlib.pyplot.figure(figsize=(5, 15))\n",
    "    ax = seaborn.barplot(\n",
    "        x = list(row[list(coef_df.feature)]),\n",
    "        y = list(coef_df.feature),\n",
    "        hue = list(numpy.sign(coef_df.coef)))\n",
    "    ax.set_title('{}–{} · {:.2%} · {}'.format(row['compound_name'], row['disease_name'], row['prediction'], row['category']))\n",
    "    pdf.savefig(ax.figure, bbox_inches='tight')\n",
    "    matplotlib.pyplot.close()\n",
    "pdf.close()"
   ]
  },
  {
   "cell_type": "markdown",
   "metadata": {},
   "source": [
    "## Extra"
   ]
  },
  {
   "cell_type": "code",
   "execution_count": 48,
   "metadata": {
    "collapsed": false
   },
   "outputs": [
    {
     "data": {
      "text/html": [
       "<div>\n",
       "<table border=\"1\" class=\"dataframe\">\n",
       "  <thead>\n",
       "    <tr style=\"text-align: right;\">\n",
       "      <th></th>\n",
       "      <th>compound_id</th>\n",
       "      <th>compound_name</th>\n",
       "      <th>disease_id</th>\n",
       "      <th>disease_name</th>\n",
       "      <th>category</th>\n",
       "      <th>status</th>\n",
       "      <th>prediction</th>\n",
       "      <th>training_prediction</th>\n",
       "      <th>dwpc_CbGuDtCpD</th>\n",
       "      <th>dwpc_CuGr&gt;GcGdD</th>\n",
       "      <th>...</th>\n",
       "      <th>dwpc_CrCrCtD</th>\n",
       "      <th>dwpc_CtDrD</th>\n",
       "      <th>dwpc_CbGbCtD</th>\n",
       "      <th>dwpc_CtDrDrDrD</th>\n",
       "      <th>dwpc_CbGaDrDrD</th>\n",
       "      <th>dwpc_CbGuAlDrD</th>\n",
       "      <th>dwpc_CtDtCtD</th>\n",
       "      <th>dwpc_CbGpPWpGaD</th>\n",
       "      <th>dwpc_CtDrDrD</th>\n",
       "      <th>dwpc_CtDaGaD</th>\n",
       "    </tr>\n",
       "  </thead>\n",
       "  <tbody>\n",
       "    <tr>\n",
       "      <th>0</th>\n",
       "      <td>DB01048</td>\n",
       "      <td>Abacavir</td>\n",
       "      <td>DOID:10652</td>\n",
       "      <td>Alzheimer's disease</td>\n",
       "      <td>NaN</td>\n",
       "      <td>0</td>\n",
       "      <td>0.000338</td>\n",
       "      <td>0.000457</td>\n",
       "      <td>0.0</td>\n",
       "      <td>0.0</td>\n",
       "      <td>...</td>\n",
       "      <td>0.0</td>\n",
       "      <td>0.0</td>\n",
       "      <td>0.000000</td>\n",
       "      <td>0.0</td>\n",
       "      <td>0.0</td>\n",
       "      <td>0.0</td>\n",
       "      <td>0.0</td>\n",
       "      <td>0.119108</td>\n",
       "      <td>0.0</td>\n",
       "      <td>0.270698</td>\n",
       "    </tr>\n",
       "    <tr>\n",
       "      <th>1</th>\n",
       "      <td>DB05812</td>\n",
       "      <td>Abiraterone</td>\n",
       "      <td>DOID:10652</td>\n",
       "      <td>Alzheimer's disease</td>\n",
       "      <td>NaN</td>\n",
       "      <td>0</td>\n",
       "      <td>0.000106</td>\n",
       "      <td>0.000144</td>\n",
       "      <td>0.0</td>\n",
       "      <td>0.0</td>\n",
       "      <td>...</td>\n",
       "      <td>0.0</td>\n",
       "      <td>0.0</td>\n",
       "      <td>0.063159</td>\n",
       "      <td>0.0</td>\n",
       "      <td>0.0</td>\n",
       "      <td>0.0</td>\n",
       "      <td>0.0</td>\n",
       "      <td>0.082451</td>\n",
       "      <td>0.0</td>\n",
       "      <td>0.519200</td>\n",
       "    </tr>\n",
       "  </tbody>\n",
       "</table>\n",
       "<p>2 rows × 45 columns</p>\n",
       "</div>"
      ],
      "text/plain": [
       "  compound_id compound_name  disease_id         disease_name category  status  \\\n",
       "0     DB01048      Abacavir  DOID:10652  Alzheimer's disease      NaN       0   \n",
       "1     DB05812   Abiraterone  DOID:10652  Alzheimer's disease      NaN       0   \n",
       "\n",
       "   prediction  training_prediction  dwpc_CbGuDtCpD  dwpc_CuGr>GcGdD  \\\n",
       "0    0.000338             0.000457             0.0              0.0   \n",
       "1    0.000106             0.000144             0.0              0.0   \n",
       "\n",
       "       ...       dwpc_CrCrCtD  dwpc_CtDrD  dwpc_CbGbCtD  dwpc_CtDrDrDrD  \\\n",
       "0      ...                0.0         0.0      0.000000             0.0   \n",
       "1      ...                0.0         0.0      0.063159             0.0   \n",
       "\n",
       "   dwpc_CbGaDrDrD  dwpc_CbGuAlDrD  dwpc_CtDtCtD  dwpc_CbGpPWpGaD  \\\n",
       "0             0.0             0.0           0.0         0.119108   \n",
       "1             0.0             0.0           0.0         0.082451   \n",
       "\n",
       "   dwpc_CtDrDrD  dwpc_CtDaGaD  \n",
       "0           0.0      0.270698  \n",
       "1           0.0      0.519200  \n",
       "\n",
       "[2 rows x 45 columns]"
      ]
     },
     "execution_count": 48,
     "metadata": {},
     "output_type": "execute_result"
    }
   ],
   "source": [
    "# Estimate of percent contribution of each positive term with a positive coefficient\n",
    "pos_contrib_df = contrib_df[subcoef_df.feature].copy()\n",
    "pos_contrib_df[pos_contrib_df < 0] = 0\n",
    "observation_total = pos_contrib_df.sum(axis='columns')\n",
    "pos_contrib_df = pos_contrib_df.div(observation_total, axis='index')\n",
    "pos_contrib_df = predict_df.merge(contrib_df[['compound_id', 'disease_id']].join(pos_contrib_df))\n",
    "#pos_contrib_df.reset_index(inplace=True)\n",
    "pos_contrib_df.head(2)"
   ]
  },
  {
   "cell_type": "code",
   "execution_count": 66,
   "metadata": {
    "collapsed": false,
    "scrolled": true
   },
   "outputs": [
    {
     "data": {
      "text/plain": [
       "140"
      ]
     },
     "execution_count": 66,
     "metadata": {},
     "output_type": "execute_result"
    }
   ],
   "source": [
    "obj = list()\n",
    "for i, row in pos_contrib_df.query(\"prediction > 0.9\").iterrows():\n",
    "    observation = collections.OrderedDict()\n",
    "    for key in ['compound_id', 'compound_name', 'disease_id', 'disease_name', 'category', 'status', 'prediction', 'training_prediction']:\n",
    "        observation[key] = row[key]\n",
    "    if pandas.isnull(observation['category']):\n",
    "        del observation['category']\n",
    "    contribs = collections.OrderedDict()\n",
    "    for key in subcoef_df.feature:\n",
    "        percent_contrib = row[key]\n",
    "        if percent_contrib == 0:\n",
    "            continue\n",
    "        temp, metapath = key.split('_', 1)\n",
    "        contribs[metapath] = percent_contrib\n",
    "    observation['metapath_contribution'] = contribs\n",
    "    obj.append(observation)\n",
    "\n",
    "len(obj)"
   ]
  },
  {
   "cell_type": "code",
   "execution_count": 71,
   "metadata": {
    "collapsed": true
   },
   "outputs": [],
   "source": [
    "import json\n",
    "with open('features/metapaths.json') as read_file:\n",
    "    metapaths = json.load(read_file)"
   ]
  },
  {
   "cell_type": "code",
   "execution_count": 82,
   "metadata": {
    "collapsed": false
   },
   "outputs": [
    {
     "name": "stdout",
     "output_type": "stream",
     "text": [
      "MATCH path = (n0:Compound)-[:BINDS_CbG]-(n1)-[:ASSOCIATES_DaG]-(n2:Disease)\n",
      "USING JOIN ON n1\n",
      "WHERE n0.identifier = { source }\n",
      "AND n2.identifier = { target }\n",
      "WITH\n",
      "[\n",
      "size((n0)-[:BINDS_CbG]-()),\n",
      "size(()-[:BINDS_CbG]-(n1)),\n",
      "size((n1)-[:ASSOCIATES_DaG]-()),\n",
      "size(()-[:ASSOCIATES_DaG]-(n2))\n",
      "] AS degrees, path\n",
      "RETURN\n",
      "path,\n",
      "extract(n in nodes(path)| n.name) AS nodes,\n",
      "sum(reduce(pdp = 1.0, d in degrees| pdp * d ^ -0.4)) AS PDP\n",
      "ORDER BY PDP DESC\n",
      "LIMIT 10\n",
      "\n"
     ]
    }
   ],
   "source": [
    "dwpc_query = metapaths[0]['dwpc_query']\n",
    "#print(dwpc_query)\n",
    "\n",
    "\n",
    "pdp_query = dwpc_query.split('RETURN')[0] + \\\n",
    "'''\\\n",
    "RETURN\n",
    "path,\n",
    "extract(n in nodes(path)| n.name) AS nodes,\n",
    "sum(reduce(pdp = 1.0, d in degrees| pdp * d ^ -0.4)) AS PDP\n",
    "ORDER BY PDP DESC\n",
    "LIMIT 10\n",
    "'''\n",
    "print(pdp_query)"
   ]
  },
  {
   "cell_type": "code",
   "execution_count": null,
   "metadata": {
    "collapsed": true
   },
   "outputs": [],
   "source": []
  },
  {
   "cell_type": "code",
   "execution_count": 67,
   "metadata": {
    "collapsed": false
   },
   "outputs": [
    {
     "data": {
      "text/plain": [
       "OrderedDict([('compound_id', 'DB00989'),\n",
       "             ('compound_name', 'Rivastigmine'),\n",
       "             ('disease_id', 'DOID:10652'),\n",
       "             ('disease_name', \"Alzheimer's disease\"),\n",
       "             ('category', 'DM'),\n",
       "             ('status', 1),\n",
       "             ('prediction', 0.9388435949349259),\n",
       "             ('training_prediction', 0.9540225686110021),\n",
       "             ('metapath_contribution',\n",
       "              OrderedDict([('CuGr>GcGdD', 0.0008063398878026225),\n",
       "                           ('CpDrDpCpD', 0.07954357919270055),\n",
       "                           ('CuGuCbGaD', 0.026080198243017737),\n",
       "                           ('CcSEcCtDrD', 0.010136021196934407),\n",
       "                           ('CpDrDrD', 0.09949245802807377),\n",
       "                           ('CpDpCtD', 0.2373102065580917),\n",
       "                           ('CuGcG<rGdD', 0.04366408280880132),\n",
       "                           ('CbGaDdGdD', 0.04505382820710357),\n",
       "                           ('CbGaD', 0.08524214538445365),\n",
       "                           ('CbGbCdGaD', 0.030570372292319674),\n",
       "                           ('CcSEcCtD', 0.08027287134055675),\n",
       "                           ('CrCbGaD', 0.08398825163458466),\n",
       "                           ('CbGbCtD', 0.10157059367078408),\n",
       "                           ('CbGaDrDrD', 0.00753864807416834),\n",
       "                           ('CbGuAlDrD', 0.01808926914168785),\n",
       "                           ('CbGpPWpGaD', 0.050641134338919515)]))])"
      ]
     },
     "execution_count": 67,
     "metadata": {},
     "output_type": "execute_result"
    }
   ],
   "source": [
    "obj[1]"
   ]
  },
  {
   "cell_type": "code",
   "execution_count": null,
   "metadata": {
    "collapsed": true
   },
   "outputs": [],
   "source": []
  },
  {
   "cell_type": "code",
   "execution_count": 22,
   "metadata": {
    "collapsed": false,
    "scrolled": true
   },
   "outputs": [
    {
     "data": {
      "text/html": [
       "<div>\n",
       "<table border=\"1\" class=\"dataframe\">\n",
       "  <thead>\n",
       "    <tr style=\"text-align: right;\">\n",
       "      <th></th>\n",
       "      <th>compound_id</th>\n",
       "      <th>compound_name</th>\n",
       "      <th>disease_id</th>\n",
       "      <th>disease_name</th>\n",
       "      <th>category</th>\n",
       "      <th>status</th>\n",
       "      <th>prediction</th>\n",
       "      <th>training_prediction</th>\n",
       "      <th>dwpc_CtDaGiGaD</th>\n",
       "      <th>dwpc_CtDaGaDrD</th>\n",
       "      <th>...</th>\n",
       "      <th>dwpc_CtDrDrDrD</th>\n",
       "      <th>degree_DrD</th>\n",
       "      <th>dwpc_CbGaDrDrD</th>\n",
       "      <th>dwpc_CbGuAlDrD</th>\n",
       "      <th>dwpc_CtDtCtD</th>\n",
       "      <th>dwpc_CbGpPWpGaD</th>\n",
       "      <th>dwpc_CtDrDrD</th>\n",
       "      <th>dwpc_CtDaGaD</th>\n",
       "      <th>degree_DaG</th>\n",
       "      <th>degree_CtD</th>\n",
       "    </tr>\n",
       "  </thead>\n",
       "  <tbody>\n",
       "    <tr>\n",
       "      <th>125177</th>\n",
       "      <td>DB08868</td>\n",
       "      <td>Fingolimod</td>\n",
       "      <td>DOID:2377</td>\n",
       "      <td>multiple sclerosis</td>\n",
       "      <td>DM</td>\n",
       "      <td>1</td>\n",
       "      <td>0.739045</td>\n",
       "      <td>0.924559</td>\n",
       "      <td>0.519654</td>\n",
       "      <td>0.275470</td>\n",
       "      <td>...</td>\n",
       "      <td>-0.050888</td>\n",
       "      <td>-0.283016</td>\n",
       "      <td>0.016686</td>\n",
       "      <td>0.161171</td>\n",
       "      <td>-0.041448</td>\n",
       "      <td>0.771636</td>\n",
       "      <td>-0.119877</td>\n",
       "      <td>-0.259058</td>\n",
       "      <td>1.203603</td>\n",
       "      <td>1.862382</td>\n",
       "    </tr>\n",
       "    <tr>\n",
       "      <th>125247</th>\n",
       "      <td>DB05260</td>\n",
       "      <td>Gallium nitrate</td>\n",
       "      <td>DOID:2377</td>\n",
       "      <td>multiple sclerosis</td>\n",
       "      <td>NaN</td>\n",
       "      <td>0</td>\n",
       "      <td>0.192758</td>\n",
       "      <td>NaN</td>\n",
       "      <td>0.519654</td>\n",
       "      <td>0.275470</td>\n",
       "      <td>...</td>\n",
       "      <td>-0.050888</td>\n",
       "      <td>-0.283016</td>\n",
       "      <td>0.375696</td>\n",
       "      <td>0.223954</td>\n",
       "      <td>-0.041448</td>\n",
       "      <td>0.669331</td>\n",
       "      <td>-0.119877</td>\n",
       "      <td>-0.259058</td>\n",
       "      <td>1.203603</td>\n",
       "      <td>-0.977233</td>\n",
       "    </tr>\n",
       "    <tr>\n",
       "      <th>125467</th>\n",
       "      <td>DB04835</td>\n",
       "      <td>Maraviroc</td>\n",
       "      <td>DOID:2377</td>\n",
       "      <td>multiple sclerosis</td>\n",
       "      <td>NaN</td>\n",
       "      <td>0</td>\n",
       "      <td>0.156203</td>\n",
       "      <td>NaN</td>\n",
       "      <td>0.519654</td>\n",
       "      <td>0.275470</td>\n",
       "      <td>...</td>\n",
       "      <td>-0.050888</td>\n",
       "      <td>-0.283016</td>\n",
       "      <td>0.287331</td>\n",
       "      <td>-0.199273</td>\n",
       "      <td>-0.041448</td>\n",
       "      <td>0.513572</td>\n",
       "      <td>-0.119877</td>\n",
       "      <td>-0.259058</td>\n",
       "      <td>1.203603</td>\n",
       "      <td>-0.977233</td>\n",
       "    </tr>\n",
       "    <tr>\n",
       "      <th>125187</th>\n",
       "      <td>DB01073</td>\n",
       "      <td>Fludarabine</td>\n",
       "      <td>DOID:2377</td>\n",
       "      <td>multiple sclerosis</td>\n",
       "      <td>NaN</td>\n",
       "      <td>0</td>\n",
       "      <td>0.107412</td>\n",
       "      <td>0.535384</td>\n",
       "      <td>-2.984677</td>\n",
       "      <td>0.003628</td>\n",
       "      <td>...</td>\n",
       "      <td>-0.050888</td>\n",
       "      <td>-0.283016</td>\n",
       "      <td>-0.154246</td>\n",
       "      <td>-0.097760</td>\n",
       "      <td>1.482321</td>\n",
       "      <td>0.091307</td>\n",
       "      <td>-0.119877</td>\n",
       "      <td>1.435939</td>\n",
       "      <td>1.203603</td>\n",
       "      <td>3.673735</td>\n",
       "    </tr>\n",
       "    <tr>\n",
       "      <th>124635</th>\n",
       "      <td>DB00288</td>\n",
       "      <td>Amcinonide</td>\n",
       "      <td>DOID:2377</td>\n",
       "      <td>multiple sclerosis</td>\n",
       "      <td>NaN</td>\n",
       "      <td>0</td>\n",
       "      <td>0.094903</td>\n",
       "      <td>NaN</td>\n",
       "      <td>0.519654</td>\n",
       "      <td>0.275470</td>\n",
       "      <td>...</td>\n",
       "      <td>-0.050888</td>\n",
       "      <td>-0.283016</td>\n",
       "      <td>-0.154246</td>\n",
       "      <td>-0.199273</td>\n",
       "      <td>-0.041448</td>\n",
       "      <td>0.269062</td>\n",
       "      <td>-0.119877</td>\n",
       "      <td>-0.259058</td>\n",
       "      <td>1.203603</td>\n",
       "      <td>-0.977233</td>\n",
       "    </tr>\n",
       "  </tbody>\n",
       "</table>\n",
       "<p>5 rows × 94 columns</p>\n",
       "</div>"
      ],
      "text/plain": [
       "       compound_id    compound_name disease_id        disease_name category  \\\n",
       "125177     DB08868       Fingolimod  DOID:2377  multiple sclerosis       DM   \n",
       "125247     DB05260  Gallium nitrate  DOID:2377  multiple sclerosis      NaN   \n",
       "125467     DB04835        Maraviroc  DOID:2377  multiple sclerosis      NaN   \n",
       "125187     DB01073      Fludarabine  DOID:2377  multiple sclerosis      NaN   \n",
       "124635     DB00288       Amcinonide  DOID:2377  multiple sclerosis      NaN   \n",
       "\n",
       "        status  prediction  training_prediction  dwpc_CtDaGiGaD  \\\n",
       "125177       1    0.739045             0.924559        0.519654   \n",
       "125247       0    0.192758                  NaN        0.519654   \n",
       "125467       0    0.156203                  NaN        0.519654   \n",
       "125187       0    0.107412             0.535384       -2.984677   \n",
       "124635       0    0.094903                  NaN        0.519654   \n",
       "\n",
       "        dwpc_CtDaGaDrD     ...      dwpc_CtDrDrDrD  degree_DrD  \\\n",
       "125177        0.275470     ...           -0.050888   -0.283016   \n",
       "125247        0.275470     ...           -0.050888   -0.283016   \n",
       "125467        0.275470     ...           -0.050888   -0.283016   \n",
       "125187        0.003628     ...           -0.050888   -0.283016   \n",
       "124635        0.275470     ...           -0.050888   -0.283016   \n",
       "\n",
       "        dwpc_CbGaDrDrD  dwpc_CbGuAlDrD  dwpc_CtDtCtD  dwpc_CbGpPWpGaD  \\\n",
       "125177        0.016686        0.161171     -0.041448         0.771636   \n",
       "125247        0.375696        0.223954     -0.041448         0.669331   \n",
       "125467        0.287331       -0.199273     -0.041448         0.513572   \n",
       "125187       -0.154246       -0.097760      1.482321         0.091307   \n",
       "124635       -0.154246       -0.199273     -0.041448         0.269062   \n",
       "\n",
       "        dwpc_CtDrDrD  dwpc_CtDaGaD  degree_DaG  degree_CtD  \n",
       "125177     -0.119877     -0.259058    1.203603    1.862382  \n",
       "125247     -0.119877     -0.259058    1.203603   -0.977233  \n",
       "125467     -0.119877     -0.259058    1.203603   -0.977233  \n",
       "125187     -0.119877      1.435939    1.203603    3.673735  \n",
       "124635     -0.119877     -0.259058    1.203603   -0.977233  \n",
       "\n",
       "[5 rows x 94 columns]"
      ]
     },
     "execution_count": 22,
     "metadata": {},
     "output_type": "execute_result"
    }
   ],
   "source": [
    "contrib_df.query(\"disease_name == 'multiple sclerosis'\").head(5)"
   ]
  },
  {
   "cell_type": "code",
   "execution_count": 8,
   "metadata": {
    "collapsed": true
   },
   "outputs": [],
   "source": [
    "import seaborn\n",
    "import matplotlib.pyplot\n",
    "%matplotlib inline"
   ]
  },
  {
   "cell_type": "code",
   "execution_count": 23,
   "metadata": {
    "collapsed": false
   },
   "outputs": [
    {
     "data": {
      "text/plain": [
       "<matplotlib.axes._subplots.AxesSubplot at 0x7fcefc5b7ef0>"
      ]
     },
     "execution_count": 23,
     "metadata": {},
     "output_type": "execute_result"
    },
    {
     "data": {
      "image/png": "[encoded data removed]",
      "text/plain": [
       "<matplotlib.figure.Figure at 0x7fcefc55c898>"
      ]
     },
     "metadata": {},
     "output_type": "display_data"
    }
   ],
   "source": [
    "matplotlib.pyplot.figure(figsize=(5, 15))\n",
    "seaborn.barplot(x = contrib_df.loc[125187, list(subcoef_df.feature)], y = list(subcoef_df.feature), hue = subcoef_df.coef > 0)"
   ]
  },
  {
   "cell_type": "code",
   "execution_count": null,
   "metadata": {
    "collapsed": false
   },
   "outputs": [],
   "source": [
    "# matplotlib.pyplot.figure(figsize=(5, 15))\n",
    "# seaborn.barplot(x = contrib_df.loc[125177, dwpcs], y = dwpcs, hue = coef_df.query(\"feature in @dwpcs\").coef > 0)"
   ]
  },
  {
   "cell_type": "code",
   "execution_count": 69,
   "metadata": {
    "collapsed": false
   },
   "outputs": [],
   "source": [
    "# matplotlib.pyplot.figure(figsize=(5, 15))\n",
    "# seaborn.barplot(x = contrib_df.iloc[10000, :], y = contrib_df.columns, hue = coef_df.coef > 0)"
   ]
  },
  {
   "cell_type": "code",
   "execution_count": null,
   "metadata": {
    "collapsed": true
   },
   "outputs": [],
   "source": [
    "# For positive coefficients"
   ]
  },
  {
   "cell_type": "code",
   "execution_count": 24,
   "metadata": {
    "collapsed": false
   },
   "outputs": [
    {
     "name": "stdout",
     "output_type": "stream",
     "text": [
      "MATCH path = (n0:Compound)-[:TREATS_CtD]-(n1)-[:ASSOCIATES_DaG]-(n2)-[:ASSOCIATES_DaG]-(n3:Disease)\n",
      "USING JOIN ON n1\n",
      "WHERE n0.identifier = { source }\n",
      "AND n3.identifier = { target }\n",
      "AND n1 <> n3\n",
      "WITH\n",
      "[\n",
      "size((n0)-[:TREATS_CtD]-()),\n",
      "size(()-[:TREATS_CtD]-(n1)),\n",
      "size((n1)-[:ASSOCIATES_DaG]-()),\n",
      "size(()-[:ASSOCIATES_DaG]-(n2)),\n",
      "size((n2)-[:ASSOCIATES_DaG]-()),\n",
      "size(()-[:ASSOCIATES_DaG]-(n3))\n",
      "] AS degrees, path\n",
      "RETURN\n",
      "count(path) AS PC,\n",
      "sum(reduce(pdp = 1.0, d in degrees| pdp * d ^ -{ w })) AS DWPC\n"
     ]
    }
   ],
   "source": [
    "print(\"MATCH path = (n0:Compound)-[:TREATS_CtD]-(n1)-[:ASSOCIATES_DaG]-(n2)-[:ASSOCIATES_DaG]-(n3:Disease)\\nUSING JOIN ON n1\\nWHERE n0.identifier = { source }\\nAND n3.identifier = { target }\\nAND n1 <> n3\\nWITH\\n[\\nsize((n0)-[:TREATS_CtD]-()),\\nsize(()-[:TREATS_CtD]-(n1)),\\nsize((n1)-[:ASSOCIATES_DaG]-()),\\nsize(()-[:ASSOCIATES_DaG]-(n2)),\\nsize((n2)-[:ASSOCIATES_DaG]-()),\\nsize(()-[:ASSOCIATES_DaG]-(n3))\\n] AS degrees, path\\nRETURN\\ncount(path) AS PC,\\nsum(reduce(pdp = 1.0, d in degrees| pdp * d ^ -{ w })) AS DWPC\")"
   ]
  },
  {
   "cell_type": "code",
   "execution_count": null,
   "metadata": {
    "collapsed": true
   },
   "outputs": [],
   "source": []
  }
 ],
 "metadata": {
  "kernelspec": {
   "display_name": "Python 3",
   "language": "python",
   "name": "python3"
  },
  "language_info": {
   "codemirror_mode": {
    "name": "ipython",
    "version": 3
   },
   "file_extension": ".py",
   "mimetype": "text/x-python",
   "name": "python",
   "nbconvert_exporter": "python",
   "pygments_lexer": "ipython3",
   "version": "3.5.1"
  }
 },
 "nbformat": 4,
 "nbformat_minor": 0
}
