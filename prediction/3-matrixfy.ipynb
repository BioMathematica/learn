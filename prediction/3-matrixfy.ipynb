{
 "cells": [
  {
   "cell_type": "markdown",
   "metadata": {},
   "source": [
    "# Convert features into a matrix"
   ]
  },
  {
   "cell_type": "code",
   "execution_count": 1,
   "metadata": {
    "collapsed": true
   },
   "outputs": [],
   "source": [
    "import bz2\n",
    "\n",
    "import pandas\n",
    "import numpy\n",
    "from scipy.special import logit"
   ]
  },
  {
   "cell_type": "code",
   "execution_count": 2,
   "metadata": {
    "collapsed": false
   },
   "outputs": [
    {
     "data": {
      "text/html": [
       "<div>\n",
       "<table border=\"1\" class=\"dataframe\">\n",
       "  <thead>\n",
       "    <tr style=\"text-align: right;\">\n",
       "      <th></th>\n",
       "      <th>compound_id</th>\n",
       "      <th>compound_name</th>\n",
       "      <th>disease_id</th>\n",
       "      <th>disease_name</th>\n",
       "      <th>category</th>\n",
       "      <th>status</th>\n",
       "    </tr>\n",
       "  </thead>\n",
       "  <tbody>\n",
       "    <tr>\n",
       "      <th>0</th>\n",
       "      <td>DB01048</td>\n",
       "      <td>Abacavir</td>\n",
       "      <td>DOID:10652</td>\n",
       "      <td>Alzheimer's disease</td>\n",
       "      <td>NaN</td>\n",
       "      <td>0</td>\n",
       "    </tr>\n",
       "    <tr>\n",
       "      <th>1</th>\n",
       "      <td>DB01048</td>\n",
       "      <td>Abacavir</td>\n",
       "      <td>DOID:9206</td>\n",
       "      <td>Barrett's esophagus</td>\n",
       "      <td>NaN</td>\n",
       "      <td>0</td>\n",
       "    </tr>\n",
       "  </tbody>\n",
       "</table>\n",
       "</div>"
      ],
      "text/plain": [
       "  compound_id compound_name  disease_id         disease_name category  status\n",
       "0     DB01048      Abacavir  DOID:10652  Alzheimer's disease      NaN       0\n",
       "1     DB01048      Abacavir   DOID:9206  Barrett's esophagus      NaN       0"
      ]
     },
     "execution_count": 2,
     "metadata": {},
     "output_type": "execute_result"
    }
   ],
   "source": [
    "# Read compound-disease pairs (observations)\n",
    "pair_df = pandas.read_table('features/compound-disease-pairs.tsv.bz2')\n",
    "pair_df.head(2)"
   ]
  },
  {
   "cell_type": "code",
   "execution_count": 3,
   "metadata": {
    "collapsed": false
   },
   "outputs": [
    {
     "data": {
      "text/html": [
       "<div>\n",
       "<table border=\"1\" class=\"dataframe\">\n",
       "  <thead>\n",
       "    <tr style=\"text-align: right;\">\n",
       "      <th></th>\n",
       "      <th>compound_id</th>\n",
       "      <th>disease_id</th>\n",
       "      <th>prior_prob</th>\n",
       "    </tr>\n",
       "  </thead>\n",
       "  <tbody>\n",
       "    <tr>\n",
       "      <th>209166</th>\n",
       "      <td>DB01624</td>\n",
       "      <td>DOID:12306</td>\n",
       "      <td>0.0</td>\n",
       "    </tr>\n",
       "    <tr>\n",
       "      <th>209167</th>\n",
       "      <td>DB01624</td>\n",
       "      <td>DOID:1245</td>\n",
       "      <td>0.0</td>\n",
       "    </tr>\n",
       "  </tbody>\n",
       "</table>\n",
       "</div>"
      ],
      "text/plain": [
       "       compound_id  disease_id  prior_prob\n",
       "209166     DB01624  DOID:12306         0.0\n",
       "209167     DB01624   DOID:1245         0.0"
      ]
     },
     "execution_count": 3,
     "metadata": {},
     "output_type": "execute_result"
    }
   ],
   "source": [
    "# Read prior probabilities\n",
    "prior_df = pandas.read_table('../all-features/data/matrix/prior.tsv')\n",
    "prior_df.tail(2)"
   ]
  },
  {
   "cell_type": "code",
   "execution_count": 4,
   "metadata": {
    "collapsed": false
   },
   "outputs": [
    {
     "data": {
      "text/html": [
       "<div>\n",
       "<table border=\"1\" class=\"dataframe\">\n",
       "  <thead>\n",
       "    <tr style=\"text-align: right;\">\n",
       "      <th></th>\n",
       "      <th>disease_id</th>\n",
       "      <th>degree_DaG</th>\n",
       "      <th>degree_DdG</th>\n",
       "      <th>degree_DlA</th>\n",
       "      <th>degree_DpC</th>\n",
       "      <th>degree_DpS</th>\n",
       "      <th>degree_DrD</th>\n",
       "      <th>degree_DtC</th>\n",
       "      <th>degree_DuG</th>\n",
       "    </tr>\n",
       "  </thead>\n",
       "  <tbody>\n",
       "    <tr>\n",
       "      <th>0</th>\n",
       "      <td>DOID:0050156</td>\n",
       "      <td>18</td>\n",
       "      <td>250</td>\n",
       "      <td>4</td>\n",
       "      <td>1</td>\n",
       "      <td>8</td>\n",
       "      <td>2</td>\n",
       "      <td>0</td>\n",
       "      <td>250</td>\n",
       "    </tr>\n",
       "    <tr>\n",
       "      <th>1</th>\n",
       "      <td>DOID:0050425</td>\n",
       "      <td>12</td>\n",
       "      <td>0</td>\n",
       "      <td>16</td>\n",
       "      <td>10</td>\n",
       "      <td>21</td>\n",
       "      <td>6</td>\n",
       "      <td>0</td>\n",
       "      <td>0</td>\n",
       "    </tr>\n",
       "  </tbody>\n",
       "</table>\n",
       "</div>"
      ],
      "text/plain": [
       "     disease_id  degree_DaG  degree_DdG  degree_DlA  degree_DpC  degree_DpS  \\\n",
       "0  DOID:0050156          18         250           4           1           8   \n",
       "1  DOID:0050425          12           0          16          10          21   \n",
       "\n",
       "   degree_DrD  degree_DtC  degree_DuG  \n",
       "0           2           0         250  \n",
       "1           6           0           0  "
      ]
     },
     "execution_count": 4,
     "metadata": {},
     "output_type": "execute_result"
    }
   ],
   "source": [
    "# Read degree features\n",
    "compound_degree_df = pandas.read_table('../all-features/data/matrix/compound_degree.tsv')\n",
    "disease_degree_df = pandas.read_table('../all-features/data/matrix/disease_degree.tsv')\n",
    "\n",
    "for df in compound_degree_df, disease_degree_df:\n",
    "    df.rename(columns={k: 'degree_' + k for k in df.columns[1:]}, inplace=True)\n",
    "\n",
    "disease_degree_df.head(2)"
   ]
  },
  {
   "cell_type": "code",
   "execution_count": 5,
   "metadata": {
    "collapsed": false
   },
   "outputs": [
    {
     "data": {
      "text/html": [
       "<div>\n",
       "<table border=\"1\" class=\"dataframe\">\n",
       "  <thead>\n",
       "    <tr style=\"text-align: right;\">\n",
       "      <th></th>\n",
       "      <th>hetnet</th>\n",
       "      <th>compound_id</th>\n",
       "      <th>disease_id</th>\n",
       "      <th>metapath</th>\n",
       "      <th>PC</th>\n",
       "      <th>w</th>\n",
       "      <th>DWPC</th>\n",
       "      <th>seconds</th>\n",
       "    </tr>\n",
       "  </thead>\n",
       "  <tbody>\n",
       "    <tr>\n",
       "      <th>0</th>\n",
       "      <td>hetio-ind</td>\n",
       "      <td>DB01048</td>\n",
       "      <td>DOID:10652</td>\n",
       "      <td>CpDpCtD</td>\n",
       "      <td>0</td>\n",
       "      <td>0.4</td>\n",
       "      <td>0.0</td>\n",
       "      <td>0.06404</td>\n",
       "    </tr>\n",
       "    <tr>\n",
       "      <th>1</th>\n",
       "      <td>hetio-ind</td>\n",
       "      <td>DB01048</td>\n",
       "      <td>DOID:14330</td>\n",
       "      <td>CpDpCtD</td>\n",
       "      <td>0</td>\n",
       "      <td>0.4</td>\n",
       "      <td>0.0</td>\n",
       "      <td>0.01049</td>\n",
       "    </tr>\n",
       "  </tbody>\n",
       "</table>\n",
       "</div>"
      ],
      "text/plain": [
       "      hetnet compound_id  disease_id metapath  PC    w  DWPC  seconds\n",
       "0  hetio-ind     DB01048  DOID:10652  CpDpCtD   0  0.4   0.0  0.06404\n",
       "1  hetio-ind     DB01048  DOID:14330  CpDpCtD   0  0.4   0.0  0.01049"
      ]
     },
     "execution_count": 5,
     "metadata": {},
     "output_type": "execute_result"
    }
   ],
   "source": [
    "# Read DWPCs\n",
    "dwpc_df = pandas.read_table('features/dwpc.tsv.bz2')\n",
    "dwpc_df.head(2)"
   ]
  },
  {
   "cell_type": "code",
   "execution_count": 6,
   "metadata": {
    "collapsed": false
   },
   "outputs": [
    {
     "data": {
      "text/html": [
       "<div>\n",
       "<table border=\"1\" class=\"dataframe\">\n",
       "  <thead>\n",
       "    <tr style=\"text-align: right;\">\n",
       "      <th></th>\n",
       "      <th>compound_id</th>\n",
       "      <th>disease_id</th>\n",
       "      <th>dwpc_CbG&lt;rG&lt;rGaD</th>\n",
       "      <th>dwpc_CbG&lt;rGaD</th>\n",
       "      <th>dwpc_CbG&lt;rGaDrD</th>\n",
       "      <th>dwpc_CbG&lt;rGcGaD</th>\n",
       "      <th>dwpc_CbG&lt;rGeAlD</th>\n",
       "      <th>dwpc_CbG&lt;rGiGaD</th>\n",
       "      <th>dwpc_CbG&lt;rGr&gt;GaD</th>\n",
       "      <th>dwpc_CbGaD</th>\n",
       "      <th>...</th>\n",
       "      <th>dwpc_CuGaDuGaD</th>\n",
       "      <th>dwpc_CuGcG&lt;rGaD</th>\n",
       "      <th>dwpc_CuGcGiGaD</th>\n",
       "      <th>dwpc_CuGdDpSpD</th>\n",
       "      <th>dwpc_CuGr&gt;GbCtD</th>\n",
       "      <th>dwpc_CuGuCrCtD</th>\n",
       "      <th>dwpc_CuGuCtD</th>\n",
       "      <th>dwpc_CuGuCtDrD</th>\n",
       "      <th>dwpc_CuGuCuGaD</th>\n",
       "      <th>dwpc_CuGuDuGaD</th>\n",
       "    </tr>\n",
       "  </thead>\n",
       "  <tbody>\n",
       "    <tr>\n",
       "      <th>0</th>\n",
       "      <td>DB00014</td>\n",
       "      <td>DOID:0050156</td>\n",
       "      <td>0.0</td>\n",
       "      <td>0.0</td>\n",
       "      <td>0.0</td>\n",
       "      <td>0.0</td>\n",
       "      <td>0.0</td>\n",
       "      <td>0.0</td>\n",
       "      <td>0.0</td>\n",
       "      <td>0.0</td>\n",
       "      <td>...</td>\n",
       "      <td>0.0</td>\n",
       "      <td>0.000000</td>\n",
       "      <td>0.0</td>\n",
       "      <td>0.0</td>\n",
       "      <td>0.0</td>\n",
       "      <td>0.0</td>\n",
       "      <td>0.0</td>\n",
       "      <td>0.001531</td>\n",
       "      <td>0.000289</td>\n",
       "      <td>0.000216</td>\n",
       "    </tr>\n",
       "    <tr>\n",
       "      <th>1</th>\n",
       "      <td>DB00014</td>\n",
       "      <td>DOID:0050425</td>\n",
       "      <td>0.0</td>\n",
       "      <td>0.0</td>\n",
       "      <td>0.0</td>\n",
       "      <td>0.0</td>\n",
       "      <td>0.0</td>\n",
       "      <td>0.0</td>\n",
       "      <td>0.0</td>\n",
       "      <td>0.0</td>\n",
       "      <td>...</td>\n",
       "      <td>0.0</td>\n",
       "      <td>0.000277</td>\n",
       "      <td>0.0</td>\n",
       "      <td>0.0</td>\n",
       "      <td>0.0</td>\n",
       "      <td>0.0</td>\n",
       "      <td>0.0</td>\n",
       "      <td>0.000000</td>\n",
       "      <td>0.000973</td>\n",
       "      <td>0.000000</td>\n",
       "    </tr>\n",
       "  </tbody>\n",
       "</table>\n",
       "<p>2 rows × 144 columns</p>\n",
       "</div>"
      ],
      "text/plain": [
       "  compound_id    disease_id  dwpc_CbG<rG<rGaD  dwpc_CbG<rGaD  dwpc_CbG<rGaDrD  \\\n",
       "0     DB00014  DOID:0050156               0.0            0.0              0.0   \n",
       "1     DB00014  DOID:0050425               0.0            0.0              0.0   \n",
       "\n",
       "   dwpc_CbG<rGcGaD  dwpc_CbG<rGeAlD  dwpc_CbG<rGiGaD  dwpc_CbG<rGr>GaD  \\\n",
       "0              0.0              0.0              0.0               0.0   \n",
       "1              0.0              0.0              0.0               0.0   \n",
       "\n",
       "   dwpc_CbGaD       ...        dwpc_CuGaDuGaD  dwpc_CuGcG<rGaD  \\\n",
       "0         0.0       ...                   0.0         0.000000   \n",
       "1         0.0       ...                   0.0         0.000277   \n",
       "\n",
       "   dwpc_CuGcGiGaD  dwpc_CuGdDpSpD  dwpc_CuGr>GbCtD  dwpc_CuGuCrCtD  \\\n",
       "0             0.0             0.0              0.0             0.0   \n",
       "1             0.0             0.0              0.0             0.0   \n",
       "\n",
       "   dwpc_CuGuCtD  dwpc_CuGuCtDrD  dwpc_CuGuCuGaD  dwpc_CuGuDuGaD  \n",
       "0           0.0        0.001531        0.000289        0.000216  \n",
       "1           0.0        0.000000        0.000973        0.000000  \n",
       "\n",
       "[2 rows x 144 columns]"
      ]
     },
     "execution_count": 6,
     "metadata": {},
     "output_type": "execute_result"
    }
   ],
   "source": [
    "dwpc_mat_df = dwpc_df.pivot_table(values = 'DWPC', index=['compound_id', 'disease_id'], columns = 'metapath')\n",
    "dwpc_mat_df.columns = 'dwpc_' + dwpc_mat_df.columns\n",
    "dwpc_mat_df = dwpc_mat_df.reset_index()\n",
    "dwpc_mat_df.head(2)"
   ]
  },
  {
   "cell_type": "markdown",
   "metadata": {},
   "source": [
    "### Combine all observation-by-feature matrixes"
   ]
  },
  {
   "cell_type": "code",
   "execution_count": 7,
   "metadata": {
    "collapsed": true
   },
   "outputs": [],
   "source": [
    "feature_mat_df = pair_df.merge(prior_df).merge(compound_degree_df).merge(disease_degree_df).merge(dwpc_mat_df)"
   ]
  },
  {
   "cell_type": "code",
   "execution_count": 8,
   "metadata": {
    "collapsed": false
   },
   "outputs": [
    {
     "data": {
      "text/html": [
       "<div>\n",
       "<table border=\"1\" class=\"dataframe\">\n",
       "  <thead>\n",
       "    <tr style=\"text-align: right;\">\n",
       "      <th></th>\n",
       "      <th>compound_id</th>\n",
       "      <th>compound_name</th>\n",
       "      <th>disease_id</th>\n",
       "      <th>disease_name</th>\n",
       "      <th>category</th>\n",
       "      <th>status</th>\n",
       "      <th>prior_prob</th>\n",
       "      <th>degree_CbG</th>\n",
       "      <th>degree_CcSE</th>\n",
       "      <th>degree_CdG</th>\n",
       "      <th>...</th>\n",
       "      <th>dwpc_CuGaDuGaD</th>\n",
       "      <th>dwpc_CuGcG&lt;rGaD</th>\n",
       "      <th>dwpc_CuGcGiGaD</th>\n",
       "      <th>dwpc_CuGdDpSpD</th>\n",
       "      <th>dwpc_CuGr&gt;GbCtD</th>\n",
       "      <th>dwpc_CuGuCrCtD</th>\n",
       "      <th>dwpc_CuGuCtD</th>\n",
       "      <th>dwpc_CuGuCtDrD</th>\n",
       "      <th>dwpc_CuGuCuGaD</th>\n",
       "      <th>dwpc_CuGuDuGaD</th>\n",
       "    </tr>\n",
       "  </thead>\n",
       "  <tbody>\n",
       "    <tr>\n",
       "      <th>0</th>\n",
       "      <td>DB01048</td>\n",
       "      <td>Abacavir</td>\n",
       "      <td>DOID:10652</td>\n",
       "      <td>Alzheimer's disease</td>\n",
       "      <td>NaN</td>\n",
       "      <td>0</td>\n",
       "      <td>0.004753</td>\n",
       "      <td>3</td>\n",
       "      <td>136</td>\n",
       "      <td>0</td>\n",
       "      <td>...</td>\n",
       "      <td>0.0</td>\n",
       "      <td>0.0</td>\n",
       "      <td>0.0</td>\n",
       "      <td>0.0</td>\n",
       "      <td>0.0</td>\n",
       "      <td>0.0</td>\n",
       "      <td>0.0</td>\n",
       "      <td>0.0</td>\n",
       "      <td>0.0</td>\n",
       "      <td>0.0</td>\n",
       "    </tr>\n",
       "    <tr>\n",
       "      <th>1</th>\n",
       "      <td>DB05812</td>\n",
       "      <td>Abiraterone</td>\n",
       "      <td>DOID:10652</td>\n",
       "      <td>Alzheimer's disease</td>\n",
       "      <td>NaN</td>\n",
       "      <td>0</td>\n",
       "      <td>0.004753</td>\n",
       "      <td>8</td>\n",
       "      <td>71</td>\n",
       "      <td>0</td>\n",
       "      <td>...</td>\n",
       "      <td>0.0</td>\n",
       "      <td>0.0</td>\n",
       "      <td>0.0</td>\n",
       "      <td>0.0</td>\n",
       "      <td>0.0</td>\n",
       "      <td>0.0</td>\n",
       "      <td>0.0</td>\n",
       "      <td>0.0</td>\n",
       "      <td>0.0</td>\n",
       "      <td>0.0</td>\n",
       "    </tr>\n",
       "  </tbody>\n",
       "</table>\n",
       "<p>2 rows × 165 columns</p>\n",
       "</div>"
      ],
      "text/plain": [
       "  compound_id compound_name  disease_id         disease_name category  status  \\\n",
       "0     DB01048      Abacavir  DOID:10652  Alzheimer's disease      NaN       0   \n",
       "1     DB05812   Abiraterone  DOID:10652  Alzheimer's disease      NaN       0   \n",
       "\n",
       "   prior_prob  degree_CbG  degree_CcSE  degree_CdG       ...        \\\n",
       "0    0.004753           3          136           0       ...         \n",
       "1    0.004753           8           71           0       ...         \n",
       "\n",
       "   dwpc_CuGaDuGaD  dwpc_CuGcG<rGaD  dwpc_CuGcGiGaD  dwpc_CuGdDpSpD  \\\n",
       "0             0.0              0.0             0.0             0.0   \n",
       "1             0.0              0.0             0.0             0.0   \n",
       "\n",
       "   dwpc_CuGr>GbCtD  dwpc_CuGuCrCtD  dwpc_CuGuCtD  dwpc_CuGuCtDrD  \\\n",
       "0              0.0             0.0           0.0             0.0   \n",
       "1              0.0             0.0           0.0             0.0   \n",
       "\n",
       "   dwpc_CuGuCuGaD  dwpc_CuGuDuGaD  \n",
       "0             0.0             0.0  \n",
       "1             0.0             0.0  \n",
       "\n",
       "[2 rows x 165 columns]"
      ]
     },
     "execution_count": 8,
     "metadata": {},
     "output_type": "execute_result"
    }
   ],
   "source": [
    "feature_mat_df.head(2)"
   ]
  },
  {
   "cell_type": "code",
   "execution_count": 9,
   "metadata": {
    "collapsed": false
   },
   "outputs": [
    {
     "data": {
      "text/plain": [
       "(209168, 165)"
      ]
     },
     "execution_count": 9,
     "metadata": {},
     "output_type": "execute_result"
    }
   ],
   "source": [
    "feature_mat_df.shape"
   ]
  },
  {
   "cell_type": "code",
   "execution_count": 10,
   "metadata": {
    "collapsed": true
   },
   "outputs": [],
   "source": [
    "with bz2.open('features/features.tsv.bz2', 'wt') as write_file:\n",
    "    feature_mat_df.to_csv(write_file, sep='\\t', index=False, float_format='%.4g')"
   ]
  },
  {
   "cell_type": "markdown",
   "metadata": {},
   "source": [
    "## Transform"
   ]
  },
  {
   "cell_type": "code",
   "execution_count": 11,
   "metadata": {
    "collapsed": false
   },
   "outputs": [
    {
     "data": {
      "text/html": [
       "<div>\n",
       "<table border=\"1\" class=\"dataframe\">\n",
       "  <thead>\n",
       "    <tr style=\"text-align: right;\">\n",
       "      <th></th>\n",
       "      <th>compound_id</th>\n",
       "      <th>compound_name</th>\n",
       "      <th>disease_id</th>\n",
       "      <th>disease_name</th>\n",
       "      <th>category</th>\n",
       "      <th>status</th>\n",
       "      <th>prior_prob</th>\n",
       "      <th>prior_logit</th>\n",
       "      <th>degree_CbG</th>\n",
       "      <th>degree_CcSE</th>\n",
       "      <th>...</th>\n",
       "      <th>dwpc_CuGaDuGaD</th>\n",
       "      <th>dwpc_CuGcG&lt;rGaD</th>\n",
       "      <th>dwpc_CuGcGiGaD</th>\n",
       "      <th>dwpc_CuGdDpSpD</th>\n",
       "      <th>dwpc_CuGr&gt;GbCtD</th>\n",
       "      <th>dwpc_CuGuCrCtD</th>\n",
       "      <th>dwpc_CuGuCtD</th>\n",
       "      <th>dwpc_CuGuCtDrD</th>\n",
       "      <th>dwpc_CuGuCuGaD</th>\n",
       "      <th>dwpc_CuGuDuGaD</th>\n",
       "    </tr>\n",
       "  </thead>\n",
       "  <tbody>\n",
       "    <tr>\n",
       "      <th>0</th>\n",
       "      <td>DB01048</td>\n",
       "      <td>Abacavir</td>\n",
       "      <td>DOID:10652</td>\n",
       "      <td>Alzheimer's disease</td>\n",
       "      <td>NaN</td>\n",
       "      <td>0</td>\n",
       "      <td>0.004753</td>\n",
       "      <td>-5.3443</td>\n",
       "      <td>-0.295458</td>\n",
       "      <td>0.814594</td>\n",
       "      <td>...</td>\n",
       "      <td>-0.502775</td>\n",
       "      <td>-0.421062</td>\n",
       "      <td>-0.458137</td>\n",
       "      <td>-0.53992</td>\n",
       "      <td>-0.357021</td>\n",
       "      <td>-0.384854</td>\n",
       "      <td>-0.375</td>\n",
       "      <td>-0.564218</td>\n",
       "      <td>-0.555543</td>\n",
       "      <td>-0.495207</td>\n",
       "    </tr>\n",
       "    <tr>\n",
       "      <th>1</th>\n",
       "      <td>DB05812</td>\n",
       "      <td>Abiraterone</td>\n",
       "      <td>DOID:10652</td>\n",
       "      <td>Alzheimer's disease</td>\n",
       "      <td>NaN</td>\n",
       "      <td>0</td>\n",
       "      <td>0.004753</td>\n",
       "      <td>-5.3443</td>\n",
       "      <td>0.549549</td>\n",
       "      <td>0.555388</td>\n",
       "      <td>...</td>\n",
       "      <td>-0.502775</td>\n",
       "      <td>-0.421062</td>\n",
       "      <td>-0.458137</td>\n",
       "      <td>-0.53992</td>\n",
       "      <td>-0.357021</td>\n",
       "      <td>-0.384854</td>\n",
       "      <td>-0.375</td>\n",
       "      <td>-0.564218</td>\n",
       "      <td>-0.555543</td>\n",
       "      <td>-0.495207</td>\n",
       "    </tr>\n",
       "    <tr>\n",
       "      <th>2</th>\n",
       "      <td>DB00659</td>\n",
       "      <td>Acamprosate</td>\n",
       "      <td>DOID:10652</td>\n",
       "      <td>Alzheimer's disease</td>\n",
       "      <td>NaN</td>\n",
       "      <td>0</td>\n",
       "      <td>0.004753</td>\n",
       "      <td>-5.3443</td>\n",
       "      <td>0.905283</td>\n",
       "      <td>1.022400</td>\n",
       "      <td>...</td>\n",
       "      <td>-0.502775</td>\n",
       "      <td>-0.421062</td>\n",
       "      <td>-0.458137</td>\n",
       "      <td>-0.53992</td>\n",
       "      <td>-0.357021</td>\n",
       "      <td>-0.384854</td>\n",
       "      <td>-0.375</td>\n",
       "      <td>-0.564218</td>\n",
       "      <td>-0.555543</td>\n",
       "      <td>-0.495207</td>\n",
       "    </tr>\n",
       "  </tbody>\n",
       "</table>\n",
       "<p>3 rows × 166 columns</p>\n",
       "</div>"
      ],
      "text/plain": [
       "  compound_id compound_name  disease_id         disease_name category  status  \\\n",
       "0     DB01048      Abacavir  DOID:10652  Alzheimer's disease      NaN       0   \n",
       "1     DB05812   Abiraterone  DOID:10652  Alzheimer's disease      NaN       0   \n",
       "2     DB00659   Acamprosate  DOID:10652  Alzheimer's disease      NaN       0   \n",
       "\n",
       "   prior_prob  prior_logit  degree_CbG  degree_CcSE       ...        \\\n",
       "0    0.004753      -5.3443   -0.295458     0.814594       ...         \n",
       "1    0.004753      -5.3443    0.549549     0.555388       ...         \n",
       "2    0.004753      -5.3443    0.905283     1.022400       ...         \n",
       "\n",
       "   dwpc_CuGaDuGaD  dwpc_CuGcG<rGaD  dwpc_CuGcGiGaD  dwpc_CuGdDpSpD  \\\n",
       "0       -0.502775        -0.421062       -0.458137        -0.53992   \n",
       "1       -0.502775        -0.421062       -0.458137        -0.53992   \n",
       "2       -0.502775        -0.421062       -0.458137        -0.53992   \n",
       "\n",
       "   dwpc_CuGr>GbCtD  dwpc_CuGuCrCtD  dwpc_CuGuCtD  dwpc_CuGuCtDrD  \\\n",
       "0        -0.357021       -0.384854        -0.375       -0.564218   \n",
       "1        -0.357021       -0.384854        -0.375       -0.564218   \n",
       "2        -0.357021       -0.384854        -0.375       -0.564218   \n",
       "\n",
       "   dwpc_CuGuCuGaD  dwpc_CuGuDuGaD  \n",
       "0       -0.555543       -0.495207  \n",
       "1       -0.555543       -0.495207  \n",
       "2       -0.555543       -0.495207  \n",
       "\n",
       "[3 rows x 166 columns]"
      ]
     },
     "execution_count": 11,
     "metadata": {},
     "output_type": "execute_result"
    }
   ],
   "source": [
    "trans_df = feature_mat_df.copy()\n",
    "degree_features = list(trans_df.columns[trans_df.columns.str.startswith('degree_')])\n",
    "dwpc_features = list(trans_df.columns[trans_df.columns.str.startswith('dwpc_')])\n",
    "\n",
    "# Transform prior\n",
    "trans_df.insert(7, 'prior_logit', logit(trans_df.prior_prob))\n",
    "\n",
    "# Transform degree features\n",
    "for feature in degree_features:\n",
    "    trans_df[feature] = numpy.arcsinh(trans_df[feature])\n",
    "\n",
    "# Transform DWPC features\n",
    "for feature in dwpc_features:\n",
    "    x = trans_df[feature]\n",
    "    trans_df[feature] = numpy.arcsinh(x / x.mean())\n",
    "\n",
    "# Standardize all features besides the prior\n",
    "for feature in degree_features + dwpc_features:\n",
    "    x = trans_df[feature]\n",
    "    trans_df[feature] = (x - x.mean()) / x.std()\n",
    "\n",
    "trans_df.head(3)"
   ]
  },
  {
   "cell_type": "code",
   "execution_count": 12,
   "metadata": {
    "collapsed": false
   },
   "outputs": [],
   "source": [
    "with bz2.open('features/transformed-features.tsv.bz2', 'wt') as write_file:\n",
    "    trans_df.to_csv(write_file, sep='\\t', index=False, float_format='%.4g')"
   ]
  }
 ],
 "metadata": {
  "kernelspec": {
   "display_name": "Python 3",
   "language": "python",
   "name": "python3"
  },
  "language_info": {
   "codemirror_mode": {
    "name": "ipython",
    "version": 3
   },
   "file_extension": ".py",
   "mimetype": "text/x-python",
   "name": "python",
   "nbconvert_exporter": "python",
   "pygments_lexer": "ipython3",
   "version": "3.5.1"
  }
 },
 "nbformat": 4,
 "nbformat_minor": 0
}
