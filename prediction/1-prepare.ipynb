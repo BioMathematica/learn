{
 "cells": [
  {
   "cell_type": "markdown",
   "metadata": {},
   "source": [
    "# Prepare the selected metapaths for feature computation for all compound-disease pairs"
   ]
  },
  {
   "cell_type": "code",
   "execution_count": 1,
   "metadata": {
    "collapsed": false
   },
   "outputs": [],
   "source": [
    "import json\n",
    "import itertools\n",
    "import bz2\n",
    "import configparser\n",
    "\n",
    "import pandas\n",
    "from statsmodels.sandbox.stats.multicomp import multipletests"
   ]
  },
  {
   "cell_type": "markdown",
   "metadata": {},
   "source": [
    "## Read node info"
   ]
  },
  {
   "cell_type": "code",
   "execution_count": 2,
   "metadata": {
    "collapsed": false
   },
   "outputs": [
    {
     "data": {
      "text/plain": [
       "(1538, 136)"
      ]
     },
     "execution_count": 2,
     "metadata": {},
     "output_type": "execute_result"
    }
   ],
   "source": [
    "# Read compound and disease degrees\n",
    "compound_df = pandas.read_table('../summary/compounds.tsv')\n",
    "disease_df = pandas.read_table('../summary/diseases.tsv')\n",
    "len(compound_df), len(disease_df)"
   ]
  },
  {
   "cell_type": "code",
   "execution_count": 3,
   "metadata": {
    "collapsed": false
   },
   "outputs": [
    {
     "data": {
      "text/html": [
       "<div>\n",
       "<table border=\"1\" class=\"dataframe\">\n",
       "  <thead>\n",
       "    <tr style=\"text-align: right;\">\n",
       "      <th></th>\n",
       "      <th>compound_id</th>\n",
       "      <th>disease_id</th>\n",
       "      <th>category</th>\n",
       "    </tr>\n",
       "  </thead>\n",
       "  <tbody>\n",
       "    <tr>\n",
       "      <th>0</th>\n",
       "      <td>DB00843</td>\n",
       "      <td>DOID:10652</td>\n",
       "      <td>DM</td>\n",
       "    </tr>\n",
       "    <tr>\n",
       "      <th>1</th>\n",
       "      <td>DB00674</td>\n",
       "      <td>DOID:10652</td>\n",
       "      <td>DM</td>\n",
       "    </tr>\n",
       "  </tbody>\n",
       "</table>\n",
       "</div>"
      ],
      "text/plain": [
       "  compound_id  disease_id category\n",
       "0     DB00843  DOID:10652       DM\n",
       "1     DB00674  DOID:10652       DM"
      ]
     },
     "execution_count": 3,
     "metadata": {},
     "output_type": "execute_result"
    }
   ],
   "source": [
    "config = configparser.ConfigParser()\n",
    "config.read('../config.ini')\n",
    "commit = config['hetnet']['pharmacotherapydb_commit']\n",
    "url = 'https://github.com/dhimmel/indications/blob/{}/catalog/indications.tsv?raw=true'.format(commit)\n",
    "indication_df = pandas.read_table(url)\n",
    "indication_df = indication_df.rename(columns={'doid_id': 'disease_id', 'drugbank_id': 'compound_id'})[['compound_id', 'disease_id', 'category']]\n",
    "indication_df.head(2)"
   ]
  },
  {
   "cell_type": "code",
   "execution_count": 4,
   "metadata": {
    "collapsed": false
   },
   "outputs": [
    {
     "data": {
      "text/html": [
       "<div>\n",
       "<table border=\"1\" class=\"dataframe\">\n",
       "  <thead>\n",
       "    <tr style=\"text-align: right;\">\n",
       "      <th></th>\n",
       "      <th>compound_id</th>\n",
       "      <th>compound_name</th>\n",
       "      <th>disease_id</th>\n",
       "      <th>disease_name</th>\n",
       "      <th>category</th>\n",
       "      <th>status</th>\n",
       "    </tr>\n",
       "  </thead>\n",
       "  <tbody>\n",
       "    <tr>\n",
       "      <th>0</th>\n",
       "      <td>DB01048</td>\n",
       "      <td>Abacavir</td>\n",
       "      <td>DOID:10652</td>\n",
       "      <td>Alzheimer's disease</td>\n",
       "      <td>NaN</td>\n",
       "      <td>0</td>\n",
       "    </tr>\n",
       "    <tr>\n",
       "      <th>1</th>\n",
       "      <td>DB01048</td>\n",
       "      <td>Abacavir</td>\n",
       "      <td>DOID:9206</td>\n",
       "      <td>Barrett's esophagus</td>\n",
       "      <td>NaN</td>\n",
       "      <td>0</td>\n",
       "    </tr>\n",
       "  </tbody>\n",
       "</table>\n",
       "</div>"
      ],
      "text/plain": [
       "  compound_id compound_name  disease_id         disease_name category  status\n",
       "0     DB01048      Abacavir  DOID:10652  Alzheimer's disease      NaN       0\n",
       "1     DB01048      Abacavir   DOID:9206  Barrett's esophagus      NaN       0"
      ]
     },
     "execution_count": 4,
     "metadata": {},
     "output_type": "execute_result"
    }
   ],
   "source": [
    "rows = list()\n",
    "for c, d in itertools.product(compound_df.itertuples(), disease_df.itertuples()):\n",
    "    row = c.compound_id, c.compound_name, d.disease_id, d.disease_name\n",
    "    rows.append(row)\n",
    "pair_df = pandas.DataFrame(rows, columns=['compound_id', 'compound_name', 'disease_id', 'disease_name'])\n",
    "pair_df = pair_df.merge(indication_df, how='left')\n",
    "pair_df['status'] = (pair_df.category == 'DM').astype(int)\n",
    "pair_df.head(2)"
   ]
  },
  {
   "cell_type": "code",
   "execution_count": 5,
   "metadata": {
    "collapsed": false
   },
   "outputs": [
    {
     "data": {
      "text/plain": [
       "0    208413\n",
       "1       755\n",
       "Name: status, dtype: int64"
      ]
     },
     "execution_count": 5,
     "metadata": {},
     "output_type": "execute_result"
    }
   ],
   "source": [
    "pair_df['status'].value_counts()"
   ]
  },
  {
   "cell_type": "code",
   "execution_count": 6,
   "metadata": {
    "collapsed": false
   },
   "outputs": [
    {
     "data": {
      "text/plain": [
       "209168"
      ]
     },
     "execution_count": 6,
     "metadata": {},
     "output_type": "execute_result"
    }
   ],
   "source": [
    "len(pair_df)"
   ]
  },
  {
   "cell_type": "code",
   "execution_count": 7,
   "metadata": {
    "collapsed": true
   },
   "outputs": [],
   "source": [
    "with bz2.open('features/compound-disease-pairs.tsv.bz2', 'wt') as write_file:\n",
    "    pair_df.to_csv(write_file, sep='\\t', index=False)"
   ]
  },
  {
   "cell_type": "markdown",
   "metadata": {},
   "source": [
    "## Select metapaths"
   ]
  },
  {
   "cell_type": "code",
   "execution_count": 8,
   "metadata": {
    "collapsed": false
   },
   "outputs": [
    {
     "data": {
      "text/html": [
       "<div>\n",
       "<table border=\"1\" class=\"dataframe\">\n",
       "  <thead>\n",
       "    <tr style=\"text-align: right;\">\n",
       "      <th></th>\n",
       "      <th>metapath</th>\n",
       "      <th>dwpc_auroc</th>\n",
       "      <th>pdwpc_auroc</th>\n",
       "      <th>rdwpc_auroc</th>\n",
       "      <th>nonzero</th>\n",
       "      <th>pdwpc_primary_auroc</th>\n",
       "      <th>delta_auroc</th>\n",
       "      <th>pval_delta_auroc</th>\n",
       "      <th>fdr_delta_auroc</th>\n",
       "    </tr>\n",
       "  </thead>\n",
       "  <tbody>\n",
       "    <tr>\n",
       "      <th>0</th>\n",
       "      <td>CbG&lt;rG&lt;rGaD</td>\n",
       "      <td>0.63605</td>\n",
       "      <td>0.61395</td>\n",
       "      <td>0.57445</td>\n",
       "      <td>0.84662</td>\n",
       "      <td>0.56577</td>\n",
       "      <td>0.070275</td>\n",
       "      <td>0.000020</td>\n",
       "      <td>0.000464</td>\n",
       "    </tr>\n",
       "    <tr>\n",
       "      <th>1</th>\n",
       "      <td>CbG&lt;rG&lt;rGdD</td>\n",
       "      <td>0.58014</td>\n",
       "      <td>0.57085</td>\n",
       "      <td>0.53670</td>\n",
       "      <td>0.38146</td>\n",
       "      <td>0.54954</td>\n",
       "      <td>0.030600</td>\n",
       "      <td>0.000103</td>\n",
       "      <td>0.001179</td>\n",
       "    </tr>\n",
       "  </tbody>\n",
       "</table>\n",
       "</div>"
      ],
      "text/plain": [
       "      metapath  dwpc_auroc  pdwpc_auroc  rdwpc_auroc  nonzero  \\\n",
       "0  CbG<rG<rGaD     0.63605      0.61395      0.57445  0.84662   \n",
       "1  CbG<rG<rGdD     0.58014      0.57085      0.53670  0.38146   \n",
       "\n",
       "   pdwpc_primary_auroc  delta_auroc  pval_delta_auroc  fdr_delta_auroc  \n",
       "0              0.56577     0.070275          0.000020         0.000464  \n",
       "1              0.54954     0.030600          0.000103         0.001179  "
      ]
     },
     "execution_count": 8,
     "metadata": {},
     "output_type": "execute_result"
    }
   ],
   "source": [
    "auroc_df = pandas.read_table('../all-features/data/feature-performance/auroc.tsv')\n",
    "reject, pvals_corrected, alphacSidak, alphacBonf = multipletests(auroc_df.pval_delta_auroc, method='fdr_bh')\n",
    "auroc_df['fdr_delta_auroc'] = pvals_corrected\n",
    "auroc_df.head(2)"
   ]
  },
  {
   "cell_type": "code",
   "execution_count": 9,
   "metadata": {
    "collapsed": false
   },
   "outputs": [
    {
     "data": {
      "text/html": [
       "<div>\n",
       "<table border=\"1\" class=\"dataframe\">\n",
       "  <thead>\n",
       "    <tr style=\"text-align: right;\">\n",
       "      <th></th>\n",
       "      <th>metapath</th>\n",
       "      <th>dwpc_auroc</th>\n",
       "      <th>pdwpc_auroc</th>\n",
       "      <th>rdwpc_auroc</th>\n",
       "      <th>nonzero</th>\n",
       "      <th>pdwpc_primary_auroc</th>\n",
       "      <th>delta_auroc</th>\n",
       "      <th>pval_delta_auroc</th>\n",
       "      <th>fdr_delta_auroc</th>\n",
       "      <th>feature</th>\n",
       "    </tr>\n",
       "  </thead>\n",
       "  <tbody>\n",
       "    <tr>\n",
       "      <th>0</th>\n",
       "      <td>CbG&lt;rG&lt;rGaD</td>\n",
       "      <td>0.63605</td>\n",
       "      <td>0.61395</td>\n",
       "      <td>0.57445</td>\n",
       "      <td>0.84662</td>\n",
       "      <td>0.56577</td>\n",
       "      <td>0.070275</td>\n",
       "      <td>0.00002</td>\n",
       "      <td>0.000464</td>\n",
       "      <td>dwpc_CbG&lt;rG&lt;rGaD</td>\n",
       "    </tr>\n",
       "    <tr>\n",
       "      <th>3</th>\n",
       "      <td>CbG&lt;rGaD</td>\n",
       "      <td>0.60329</td>\n",
       "      <td>0.60045</td>\n",
       "      <td>0.55514</td>\n",
       "      <td>0.47205</td>\n",
       "      <td>0.56593</td>\n",
       "      <td>0.037355</td>\n",
       "      <td>0.00063</td>\n",
       "      <td>0.003219</td>\n",
       "      <td>dwpc_CbG&lt;rGaD</td>\n",
       "    </tr>\n",
       "  </tbody>\n",
       "</table>\n",
       "</div>"
      ],
      "text/plain": [
       "      metapath  dwpc_auroc  pdwpc_auroc  rdwpc_auroc  nonzero  \\\n",
       "0  CbG<rG<rGaD     0.63605      0.61395      0.57445  0.84662   \n",
       "3     CbG<rGaD     0.60329      0.60045      0.55514  0.47205   \n",
       "\n",
       "   pdwpc_primary_auroc  delta_auroc  pval_delta_auroc  fdr_delta_auroc  \\\n",
       "0              0.56577     0.070275           0.00002         0.000464   \n",
       "3              0.56593     0.037355           0.00063         0.003219   \n",
       "\n",
       "            feature  \n",
       "0  dwpc_CbG<rG<rGaD  \n",
       "3     dwpc_CbG<rGaD  "
      ]
     },
     "execution_count": 9,
     "metadata": {},
     "output_type": "execute_result"
    }
   ],
   "source": [
    "whitelist_df = auroc_df.query(\n",
    "    \"rdwpc_auroc > 0.55\"\n",
    "    \" and delta_auroc > 0\"\n",
    "    \" and fdr_delta_auroc < 0.05\"\n",
    "    \" and pdwpc_primary_auroc > 0.5\"\n",
    ").copy()\n",
    "whitelist_df['feature'] = 'dwpc_' + whitelist_df['metapath']\n",
    "whitelist_df.head(2)"
   ]
  },
  {
   "cell_type": "code",
   "execution_count": 10,
   "metadata": {
    "collapsed": false
   },
   "outputs": [
    {
     "data": {
      "text/plain": [
       "142"
      ]
     },
     "execution_count": 10,
     "metadata": {},
     "output_type": "execute_result"
    }
   ],
   "source": [
    "metapaths = set(whitelist_df.metapath)\n",
    "len(metapaths)"
   ]
  },
  {
   "cell_type": "markdown",
   "metadata": {},
   "source": [
    "## Metaedges in chosen metapaths"
   ]
  },
  {
   "cell_type": "code",
   "execution_count": 11,
   "metadata": {
    "collapsed": false,
    "scrolled": false
   },
   "outputs": [],
   "source": [
    "m2m_df = pandas.read_table('../all-features/data/metaedge-in-metapath.tsv')\n",
    "m2m_df = m2m_df.query(\"metapath in @metapaths\")"
   ]
  },
  {
   "cell_type": "code",
   "execution_count": 12,
   "metadata": {
    "collapsed": false
   },
   "outputs": [
    {
     "data": {
      "text/html": [
       "<div>\n",
       "<table border=\"1\" class=\"dataframe\">\n",
       "  <thead>\n",
       "    <tr style=\"text-align: right;\">\n",
       "      <th></th>\n",
       "      <th>index</th>\n",
       "      <th>metaedge</th>\n",
       "    </tr>\n",
       "  </thead>\n",
       "  <tbody>\n",
       "    <tr>\n",
       "      <th>0</th>\n",
       "      <td>Disease - associates - Gene</td>\n",
       "      <td>88</td>\n",
       "    </tr>\n",
       "    <tr>\n",
       "      <th>1</th>\n",
       "      <td>Compound - binds - Gene</td>\n",
       "      <td>80</td>\n",
       "    </tr>\n",
       "    <tr>\n",
       "      <th>2</th>\n",
       "      <td>Compound - treats - Disease</td>\n",
       "      <td>57</td>\n",
       "    </tr>\n",
       "    <tr>\n",
       "      <th>3</th>\n",
       "      <td>Compound - resembles - Compound</td>\n",
       "      <td>51</td>\n",
       "    </tr>\n",
       "    <tr>\n",
       "      <th>4</th>\n",
       "      <td>Compound - downregulates - Gene</td>\n",
       "      <td>39</td>\n",
       "    </tr>\n",
       "    <tr>\n",
       "      <th>5</th>\n",
       "      <td>Compound - upregulates - Gene</td>\n",
       "      <td>34</td>\n",
       "    </tr>\n",
       "    <tr>\n",
       "      <th>6</th>\n",
       "      <td>Gene &gt; regulates &gt; Gene</td>\n",
       "      <td>28</td>\n",
       "    </tr>\n",
       "    <tr>\n",
       "      <th>7</th>\n",
       "      <td>Disease - resembles - Disease</td>\n",
       "      <td>28</td>\n",
       "    </tr>\n",
       "    <tr>\n",
       "      <th>8</th>\n",
       "      <td>Gene - interacts - Gene</td>\n",
       "      <td>18</td>\n",
       "    </tr>\n",
       "    <tr>\n",
       "      <th>9</th>\n",
       "      <td>Disease - localizes - Anatomy</td>\n",
       "      <td>16</td>\n",
       "    </tr>\n",
       "    <tr>\n",
       "      <th>10</th>\n",
       "      <td>Disease - upregulates - Gene</td>\n",
       "      <td>14</td>\n",
       "    </tr>\n",
       "    <tr>\n",
       "      <th>11</th>\n",
       "      <td>Pharmacologic Class - includes - Compound</td>\n",
       "      <td>14</td>\n",
       "    </tr>\n",
       "    <tr>\n",
       "      <th>12</th>\n",
       "      <td>Disease - presents - Symptom</td>\n",
       "      <td>12</td>\n",
       "    </tr>\n",
       "    <tr>\n",
       "      <th>13</th>\n",
       "      <td>Compound - causes - Side Effect</td>\n",
       "      <td>12</td>\n",
       "    </tr>\n",
       "    <tr>\n",
       "      <th>14</th>\n",
       "      <td>Anatomy - expresses - Gene</td>\n",
       "      <td>10</td>\n",
       "    </tr>\n",
       "    <tr>\n",
       "      <th>15</th>\n",
       "      <td>Disease - downregulates - Gene</td>\n",
       "      <td>9</td>\n",
       "    </tr>\n",
       "    <tr>\n",
       "      <th>16</th>\n",
       "      <td>Anatomy - upregulates - Gene</td>\n",
       "      <td>8</td>\n",
       "    </tr>\n",
       "    <tr>\n",
       "      <th>17</th>\n",
       "      <td>Compound - palliates - Disease</td>\n",
       "      <td>8</td>\n",
       "    </tr>\n",
       "    <tr>\n",
       "      <th>18</th>\n",
       "      <td>Gene - covaries - Gene</td>\n",
       "      <td>7</td>\n",
       "    </tr>\n",
       "    <tr>\n",
       "      <th>19</th>\n",
       "      <td>Anatomy - downregulates - Gene</td>\n",
       "      <td>2</td>\n",
       "    </tr>\n",
       "    <tr>\n",
       "      <th>20</th>\n",
       "      <td>Gene - participates - Biological Process</td>\n",
       "      <td>2</td>\n",
       "    </tr>\n",
       "    <tr>\n",
       "      <th>21</th>\n",
       "      <td>Gene - participates - Molecular Function</td>\n",
       "      <td>2</td>\n",
       "    </tr>\n",
       "    <tr>\n",
       "      <th>22</th>\n",
       "      <td>Gene - participates - Pathway</td>\n",
       "      <td>2</td>\n",
       "    </tr>\n",
       "  </tbody>\n",
       "</table>\n",
       "</div>"
      ],
      "text/plain": [
       "                                        index  metaedge\n",
       "0                 Disease - associates - Gene        88\n",
       "1                     Compound - binds - Gene        80\n",
       "2                 Compound - treats - Disease        57\n",
       "3             Compound - resembles - Compound        51\n",
       "4             Compound - downregulates - Gene        39\n",
       "5               Compound - upregulates - Gene        34\n",
       "6                     Gene > regulates > Gene        28\n",
       "7               Disease - resembles - Disease        28\n",
       "8                     Gene - interacts - Gene        18\n",
       "9               Disease - localizes - Anatomy        16\n",
       "10               Disease - upregulates - Gene        14\n",
       "11  Pharmacologic Class - includes - Compound        14\n",
       "12               Disease - presents - Symptom        12\n",
       "13            Compound - causes - Side Effect        12\n",
       "14                 Anatomy - expresses - Gene        10\n",
       "15             Disease - downregulates - Gene         9\n",
       "16               Anatomy - upregulates - Gene         8\n",
       "17             Compound - palliates - Disease         8\n",
       "18                     Gene - covaries - Gene         7\n",
       "19             Anatomy - downregulates - Gene         2\n",
       "20   Gene - participates - Biological Process         2\n",
       "21   Gene - participates - Molecular Function         2\n",
       "22              Gene - participates - Pathway         2"
      ]
     },
     "execution_count": 12,
     "metadata": {},
     "output_type": "execute_result"
    }
   ],
   "source": [
    "# Counting multiple occurrences in the same metapath\n",
    "m2m_df.metaedge.value_counts().reset_index()"
   ]
  },
  {
   "cell_type": "code",
   "execution_count": 13,
   "metadata": {
    "collapsed": false
   },
   "outputs": [
    {
     "data": {
      "text/html": [
       "<div>\n",
       "<table border=\"1\" class=\"dataframe\">\n",
       "  <thead>\n",
       "    <tr style=\"text-align: right;\">\n",
       "      <th></th>\n",
       "      <th>index</th>\n",
       "      <th>metaedge</th>\n",
       "    </tr>\n",
       "  </thead>\n",
       "  <tbody>\n",
       "    <tr>\n",
       "      <th>0</th>\n",
       "      <td>Disease - associates - Gene</td>\n",
       "      <td>88</td>\n",
       "    </tr>\n",
       "    <tr>\n",
       "      <th>1</th>\n",
       "      <td>Compound - binds - Gene</td>\n",
       "      <td>80</td>\n",
       "    </tr>\n",
       "    <tr>\n",
       "      <th>2</th>\n",
       "      <td>Compound - treats - Disease</td>\n",
       "      <td>57</td>\n",
       "    </tr>\n",
       "    <tr>\n",
       "      <th>3</th>\n",
       "      <td>Compound - resembles - Compound</td>\n",
       "      <td>51</td>\n",
       "    </tr>\n",
       "    <tr>\n",
       "      <th>4</th>\n",
       "      <td>Compound - downregulates - Gene</td>\n",
       "      <td>39</td>\n",
       "    </tr>\n",
       "    <tr>\n",
       "      <th>5</th>\n",
       "      <td>Compound - upregulates - Gene</td>\n",
       "      <td>34</td>\n",
       "    </tr>\n",
       "    <tr>\n",
       "      <th>6</th>\n",
       "      <td>Gene &gt; regulates &gt; Gene</td>\n",
       "      <td>28</td>\n",
       "    </tr>\n",
       "    <tr>\n",
       "      <th>7</th>\n",
       "      <td>Disease - resembles - Disease</td>\n",
       "      <td>28</td>\n",
       "    </tr>\n",
       "    <tr>\n",
       "      <th>8</th>\n",
       "      <td>Gene - interacts - Gene</td>\n",
       "      <td>18</td>\n",
       "    </tr>\n",
       "    <tr>\n",
       "      <th>9</th>\n",
       "      <td>Disease - localizes - Anatomy</td>\n",
       "      <td>16</td>\n",
       "    </tr>\n",
       "    <tr>\n",
       "      <th>10</th>\n",
       "      <td>Disease - upregulates - Gene</td>\n",
       "      <td>14</td>\n",
       "    </tr>\n",
       "    <tr>\n",
       "      <th>11</th>\n",
       "      <td>Pharmacologic Class - includes - Compound</td>\n",
       "      <td>14</td>\n",
       "    </tr>\n",
       "    <tr>\n",
       "      <th>12</th>\n",
       "      <td>Disease - presents - Symptom</td>\n",
       "      <td>12</td>\n",
       "    </tr>\n",
       "    <tr>\n",
       "      <th>13</th>\n",
       "      <td>Compound - causes - Side Effect</td>\n",
       "      <td>12</td>\n",
       "    </tr>\n",
       "    <tr>\n",
       "      <th>14</th>\n",
       "      <td>Anatomy - expresses - Gene</td>\n",
       "      <td>10</td>\n",
       "    </tr>\n",
       "    <tr>\n",
       "      <th>15</th>\n",
       "      <td>Disease - downregulates - Gene</td>\n",
       "      <td>9</td>\n",
       "    </tr>\n",
       "    <tr>\n",
       "      <th>16</th>\n",
       "      <td>Anatomy - upregulates - Gene</td>\n",
       "      <td>8</td>\n",
       "    </tr>\n",
       "    <tr>\n",
       "      <th>17</th>\n",
       "      <td>Compound - palliates - Disease</td>\n",
       "      <td>8</td>\n",
       "    </tr>\n",
       "    <tr>\n",
       "      <th>18</th>\n",
       "      <td>Gene - covaries - Gene</td>\n",
       "      <td>7</td>\n",
       "    </tr>\n",
       "    <tr>\n",
       "      <th>19</th>\n",
       "      <td>Anatomy - downregulates - Gene</td>\n",
       "      <td>2</td>\n",
       "    </tr>\n",
       "    <tr>\n",
       "      <th>20</th>\n",
       "      <td>Gene - participates - Biological Process</td>\n",
       "      <td>2</td>\n",
       "    </tr>\n",
       "    <tr>\n",
       "      <th>21</th>\n",
       "      <td>Gene - participates - Molecular Function</td>\n",
       "      <td>2</td>\n",
       "    </tr>\n",
       "    <tr>\n",
       "      <th>22</th>\n",
       "      <td>Gene - participates - Pathway</td>\n",
       "      <td>2</td>\n",
       "    </tr>\n",
       "  </tbody>\n",
       "</table>\n",
       "</div>"
      ],
      "text/plain": [
       "                                        index  metaedge\n",
       "0                 Disease - associates - Gene        88\n",
       "1                     Compound - binds - Gene        80\n",
       "2                 Compound - treats - Disease        57\n",
       "3             Compound - resembles - Compound        51\n",
       "4             Compound - downregulates - Gene        39\n",
       "5               Compound - upregulates - Gene        34\n",
       "6                     Gene > regulates > Gene        28\n",
       "7               Disease - resembles - Disease        28\n",
       "8                     Gene - interacts - Gene        18\n",
       "9               Disease - localizes - Anatomy        16\n",
       "10               Disease - upregulates - Gene        14\n",
       "11  Pharmacologic Class - includes - Compound        14\n",
       "12               Disease - presents - Symptom        12\n",
       "13            Compound - causes - Side Effect        12\n",
       "14                 Anatomy - expresses - Gene        10\n",
       "15             Disease - downregulates - Gene         9\n",
       "16               Anatomy - upregulates - Gene         8\n",
       "17             Compound - palliates - Disease         8\n",
       "18                     Gene - covaries - Gene         7\n",
       "19             Anatomy - downregulates - Gene         2\n",
       "20   Gene - participates - Biological Process         2\n",
       "21   Gene - participates - Molecular Function         2\n",
       "22              Gene - participates - Pathway         2"
      ]
     },
     "execution_count": 13,
     "metadata": {},
     "output_type": "execute_result"
    }
   ],
   "source": [
    "# Counting only one metaedge occurrence per metapath\n",
    "m2m_df.drop_duplicates().metaedge.value_counts().reset_index()"
   ]
  },
  {
   "cell_type": "code",
   "execution_count": 14,
   "metadata": {
    "collapsed": false
   },
   "outputs": [
    {
     "data": {
      "text/plain": [
       "23"
      ]
     },
     "execution_count": 14,
     "metadata": {},
     "output_type": "execute_result"
    }
   ],
   "source": [
    "# Number of included metaedges\n",
    "m2m_df.metaedge.nunique()"
   ]
  },
  {
   "cell_type": "code",
   "execution_count": 15,
   "metadata": {
    "collapsed": false
   },
   "outputs": [],
   "source": [
    "with open('../all-features/data/metapaths.json') as read_file:\n",
    "    metapath_obj = json.load(read_file)\n",
    "metapath_obj = [x for x in metapath_obj if x['abbreviation'] in metapaths]\n",
    "with open('features/metapaths.json', 'wt') as write_file:\n",
    "    metapath_obj = json.dump(metapath_obj, write_file, indent=2, sort_keys=True)"
   ]
  }
 ],
 "metadata": {
  "kernelspec": {
   "display_name": "Python 3",
   "language": "python",
   "name": "python3"
  },
  "language_info": {
   "codemirror_mode": {
    "name": "ipython",
    "version": 3
   },
   "file_extension": ".py",
   "mimetype": "text/x-python",
   "name": "python",
   "nbconvert_exporter": "python",
   "pygments_lexer": "ipython3",
   "version": "3.5.1"
  }
 },
 "nbformat": 4,
 "nbformat_minor": 0
}
