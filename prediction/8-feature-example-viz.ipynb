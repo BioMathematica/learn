{
 "cells": [
  {
   "cell_type": "markdown",
   "metadata": {},
   "source": [
    "# Visualize subset of the feature matrix"
   ]
  },
  {
   "cell_type": "code",
   "execution_count": 1,
   "metadata": {
    "collapsed": false
   },
   "outputs": [],
   "source": [
    "import pandas\n",
    "import matplotlib.pyplot as plt\n",
    "import seaborn\n",
    "%matplotlib inline"
   ]
  },
  {
   "cell_type": "code",
   "execution_count": 2,
   "metadata": {
    "collapsed": false
   },
   "outputs": [],
   "source": [
    "feature_df = pandas.read_table('features/transformed-features.tsv.bz2', low_memory=False)"
   ]
  },
  {
   "cell_type": "code",
   "execution_count": 3,
   "metadata": {
    "collapsed": false
   },
   "outputs": [
    {
     "data": {
      "text/html": [
       "<div>\n",
       "<table border=\"1\" class=\"dataframe\">\n",
       "  <thead>\n",
       "    <tr style=\"text-align: right;\">\n",
       "      <th></th>\n",
       "      <th>compound_id</th>\n",
       "      <th>compound_name</th>\n",
       "      <th>disease_id</th>\n",
       "      <th>disease_name</th>\n",
       "      <th>category</th>\n",
       "      <th>status</th>\n",
       "      <th>prior_prob</th>\n",
       "      <th>prior_logit</th>\n",
       "      <th>degree_CbG</th>\n",
       "      <th>degree_CcSE</th>\n",
       "      <th>...</th>\n",
       "      <th>dwpc_CuGaDuGaD</th>\n",
       "      <th>dwpc_CuGcG&lt;rGaD</th>\n",
       "      <th>dwpc_CuGcGiGaD</th>\n",
       "      <th>dwpc_CuGdDpSpD</th>\n",
       "      <th>dwpc_CuGr&gt;GbCtD</th>\n",
       "      <th>dwpc_CuGuCrCtD</th>\n",
       "      <th>dwpc_CuGuCtD</th>\n",
       "      <th>dwpc_CuGuCtDrD</th>\n",
       "      <th>dwpc_CuGuCuGaD</th>\n",
       "      <th>dwpc_CuGuDuGaD</th>\n",
       "    </tr>\n",
       "  </thead>\n",
       "  <tbody>\n",
       "    <tr>\n",
       "      <th>0</th>\n",
       "      <td>DB01048</td>\n",
       "      <td>Abacavir</td>\n",
       "      <td>DOID:10652</td>\n",
       "      <td>Alzheimer's disease</td>\n",
       "      <td>NaN</td>\n",
       "      <td>0</td>\n",
       "      <td>0.004753</td>\n",
       "      <td>-5.344</td>\n",
       "      <td>-0.2955</td>\n",
       "      <td>0.8146</td>\n",
       "      <td>...</td>\n",
       "      <td>-0.5028</td>\n",
       "      <td>-0.4211</td>\n",
       "      <td>-0.4581</td>\n",
       "      <td>-0.5399</td>\n",
       "      <td>-0.357</td>\n",
       "      <td>-0.3849</td>\n",
       "      <td>-0.375</td>\n",
       "      <td>-0.5642</td>\n",
       "      <td>-0.5555</td>\n",
       "      <td>-0.4952</td>\n",
       "    </tr>\n",
       "    <tr>\n",
       "      <th>1</th>\n",
       "      <td>DB05812</td>\n",
       "      <td>Abiraterone</td>\n",
       "      <td>DOID:10652</td>\n",
       "      <td>Alzheimer's disease</td>\n",
       "      <td>NaN</td>\n",
       "      <td>0</td>\n",
       "      <td>0.004753</td>\n",
       "      <td>-5.344</td>\n",
       "      <td>0.5495</td>\n",
       "      <td>0.5554</td>\n",
       "      <td>...</td>\n",
       "      <td>-0.5028</td>\n",
       "      <td>-0.4211</td>\n",
       "      <td>-0.4581</td>\n",
       "      <td>-0.5399</td>\n",
       "      <td>-0.357</td>\n",
       "      <td>-0.3849</td>\n",
       "      <td>-0.375</td>\n",
       "      <td>-0.5642</td>\n",
       "      <td>-0.5555</td>\n",
       "      <td>-0.4952</td>\n",
       "    </tr>\n",
       "  </tbody>\n",
       "</table>\n",
       "<p>2 rows × 166 columns</p>\n",
       "</div>"
      ],
      "text/plain": [
       "  compound_id compound_name  disease_id         disease_name category  status  \\\n",
       "0     DB01048      Abacavir  DOID:10652  Alzheimer's disease      NaN       0   \n",
       "1     DB05812   Abiraterone  DOID:10652  Alzheimer's disease      NaN       0   \n",
       "\n",
       "   prior_prob  prior_logit  degree_CbG  degree_CcSE       ...        \\\n",
       "0    0.004753       -5.344     -0.2955       0.8146       ...         \n",
       "1    0.004753       -5.344      0.5495       0.5554       ...         \n",
       "\n",
       "   dwpc_CuGaDuGaD  dwpc_CuGcG<rGaD  dwpc_CuGcGiGaD  dwpc_CuGdDpSpD  \\\n",
       "0         -0.5028          -0.4211         -0.4581         -0.5399   \n",
       "1         -0.5028          -0.4211         -0.4581         -0.5399   \n",
       "\n",
       "   dwpc_CuGr>GbCtD  dwpc_CuGuCrCtD  dwpc_CuGuCtD  dwpc_CuGuCtDrD  \\\n",
       "0           -0.357         -0.3849        -0.375         -0.5642   \n",
       "1           -0.357         -0.3849        -0.375         -0.5642   \n",
       "\n",
       "   dwpc_CuGuCuGaD  dwpc_CuGuDuGaD  \n",
       "0         -0.5555         -0.4952  \n",
       "1         -0.5555         -0.4952  \n",
       "\n",
       "[2 rows x 166 columns]"
      ]
     },
     "execution_count": 3,
     "metadata": {},
     "output_type": "execute_result"
    }
   ],
   "source": [
    "feature_df.head(2)"
   ]
  },
  {
   "cell_type": "code",
   "execution_count": 4,
   "metadata": {
    "collapsed": true
   },
   "outputs": [],
   "source": [
    "feature_df = feature_df.query(\"prior_prob > 0\")"
   ]
  },
  {
   "cell_type": "code",
   "execution_count": 5,
   "metadata": {
    "collapsed": false
   },
   "outputs": [],
   "source": [
    "metapaths = [\n",
    "    'CbGaD',\n",
    "    'CbGiGaD',\n",
    "    'CbGpPWpGaD',\n",
    "    'CbGeAlD',\n",
    "    'CcSEcCtD',\n",
    "    'CuGuCtD',\n",
    "    'CdGdCtD',\n",
    "]\n",
    "\n",
    "features = ['dwpc_' + metapath for metapath in metapaths]\n",
    "renamer = {'dwpc_' + metapath: metapath for metapath in metapaths}"
   ]
  },
  {
   "cell_type": "code",
   "execution_count": 6,
   "metadata": {
    "collapsed": false
   },
   "outputs": [
    {
     "data": {
      "text/html": [
       "<div>\n",
       "<table border=\"1\" class=\"dataframe\">\n",
       "  <thead>\n",
       "    <tr style=\"text-align: right;\">\n",
       "      <th></th>\n",
       "      <th>status</th>\n",
       "      <th>prior_logit</th>\n",
       "      <th>CbGaD</th>\n",
       "      <th>CbGiGaD</th>\n",
       "      <th>CbGpPWpGaD</th>\n",
       "      <th>CbGeAlD</th>\n",
       "      <th>CcSEcCtD</th>\n",
       "      <th>CuGuCtD</th>\n",
       "      <th>CdGdCtD</th>\n",
       "    </tr>\n",
       "    <tr>\n",
       "      <th>name</th>\n",
       "      <th></th>\n",
       "      <th></th>\n",
       "      <th></th>\n",
       "      <th></th>\n",
       "      <th></th>\n",
       "      <th></th>\n",
       "      <th></th>\n",
       "      <th></th>\n",
       "      <th></th>\n",
       "    </tr>\n",
       "  </thead>\n",
       "  <tbody>\n",
       "    <tr>\n",
       "      <th>Calcitriol–dilated cardiomyopathy</th>\n",
       "      <td>0</td>\n",
       "      <td>-4.911</td>\n",
       "      <td>-0.358</td>\n",
       "      <td>1.5360</td>\n",
       "      <td>-0.2313</td>\n",
       "      <td>-0.71350</td>\n",
       "      <td>0.75460</td>\n",
       "      <td>-0.375</td>\n",
       "      <td>1.1030</td>\n",
       "    </tr>\n",
       "    <tr>\n",
       "      <th>Nilutamide–metabolic syndrome X</th>\n",
       "      <td>0</td>\n",
       "      <td>-6.757</td>\n",
       "      <td>-0.358</td>\n",
       "      <td>0.6863</td>\n",
       "      <td>0.7708</td>\n",
       "      <td>0.02763</td>\n",
       "      <td>0.01044</td>\n",
       "      <td>-0.375</td>\n",
       "      <td>-0.4084</td>\n",
       "    </tr>\n",
       "  </tbody>\n",
       "</table>\n",
       "</div>"
      ],
      "text/plain": [
       "                                   status  prior_logit  CbGaD  CbGiGaD  \\\n",
       "name                                                                     \n",
       "Calcitriol–dilated cardiomyopathy       0       -4.911 -0.358   1.5360   \n",
       "Nilutamide–metabolic syndrome X         0       -6.757 -0.358   0.6863   \n",
       "\n",
       "                                   CbGpPWpGaD  CbGeAlD  CcSEcCtD  CuGuCtD  \\\n",
       "name                                                                        \n",
       "Calcitriol–dilated cardiomyopathy     -0.2313 -0.71350   0.75460   -0.375   \n",
       "Nilutamide–metabolic syndrome X        0.7708  0.02763   0.01044   -0.375   \n",
       "\n",
       "                                   CdGdCtD  \n",
       "name                                        \n",
       "Calcitriol–dilated cardiomyopathy   1.1030  \n",
       "Nilutamide–metabolic syndrome X    -0.4084  "
      ]
     },
     "execution_count": 6,
     "metadata": {},
     "output_type": "execute_result"
    }
   ],
   "source": [
    "subset_df = (feature_df\n",
    "    .assign(name = feature_df.compound_name + '–' + feature_df.disease_name)\n",
    "    .groupby('status')\n",
    "    .apply(lambda df: df.sample(n=6, random_state=8))\n",
    "    .set_index(['name'])\n",
    "    [['status', 'prior_logit'] + features]\n",
    "    .rename(columns=renamer)\n",
    ")\n",
    "subset_df.head(2)"
   ]
  },
  {
   "cell_type": "code",
   "execution_count": 7,
   "metadata": {
    "collapsed": false
   },
   "outputs": [
    {
     "data": {
      "image/png": "[encoded data removed]",
      "text/plain": [
       "<matplotlib.figure.Figure at 0x7f605cd137f0>"
      ]
     },
     "metadata": {},
     "output_type": "display_data"
    }
   ],
   "source": [
    "status_colors = subset_df.status.map({0: '#ECF0F1', 1: '#66A58B'})\n",
    "heatmap_df = subset_df.drop(['status', 'prior_logit'], axis=1)\n",
    "grid = seaborn.clustermap(heatmap_df, row_cluster=False,\n",
    "    col_cluster=False, row_colors=status_colors, figsize=(4, 5),\n",
    "    linewidths=1)\n",
    "grid.cax.set_visible(False)\n",
    "plt.setp(grid.ax_heatmap.get_yticklabels(), rotation=0);\n",
    "grid.ax_heatmap.set_ylabel(\"\");"
   ]
  },
  {
   "cell_type": "code",
   "execution_count": 8,
   "metadata": {
    "collapsed": false
   },
   "outputs": [],
   "source": [
    "grid.savefig('figure/example-feature-matrix.svg', bbox_inches='tight', transparent=True)"
   ]
  },
  {
   "cell_type": "code",
   "execution_count": 9,
   "metadata": {
    "collapsed": true
   },
   "outputs": [],
   "source": [
    "# Convert to PNG and trim whitespace\n",
    "! convert -density 300 figure/example-feature-matrix.svg -trim +repage figure/example-feature-matrix.png"
   ]
  }
 ],
 "metadata": {
  "kernelspec": {
   "display_name": "Python 3",
   "language": "python",
   "name": "python3"
  },
  "language_info": {
   "codemirror_mode": {
    "name": "ipython",
    "version": 3
   },
   "file_extension": ".py",
   "mimetype": "text/x-python",
   "name": "python",
   "nbconvert_exporter": "python",
   "pygments_lexer": "ipython3",
   "version": "3.5.1"
  }
 },
 "nbformat": 4,
 "nbformat_minor": 2
}
