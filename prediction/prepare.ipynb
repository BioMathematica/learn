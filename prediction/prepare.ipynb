{
 "cells": [
  {
   "cell_type": "markdown",
   "metadata": {},
   "source": [
    "# Prepare the selected metapaths for feature computation for all compound-disease pairs"
   ]
  },
  {
   "cell_type": "code",
   "execution_count": 1,
   "metadata": {
    "collapsed": false
   },
   "outputs": [],
   "source": [
    "import json\n",
    "import itertools\n",
    "import configparser\n",
    "import bz2\n",
    "\n",
    "import pandas\n",
    "import py2neo"
   ]
  },
  {
   "cell_type": "code",
   "execution_count": 2,
   "metadata": {
    "collapsed": false
   },
   "outputs": [],
   "source": [
    "config = configparser.ConfigParser()\n",
    "config.read('../config.ini')\n",
    "commit = config['hetnet']['integrate_commit']"
   ]
  },
  {
   "cell_type": "markdown",
   "metadata": {},
   "source": [
    "## Read indications"
   ]
  },
  {
   "cell_type": "code",
   "execution_count": 3,
   "metadata": {
    "collapsed": false
   },
   "outputs": [
    {
     "data": {
      "text/plain": [
       "<Graph uri='http://localhost:7500/db/data/'>"
      ]
     },
     "execution_count": 3,
     "metadata": {},
     "output_type": "execute_result"
    }
   ],
   "source": [
    "with open('../all-features/servers.json') as read_file:\n",
    "    instances = json.load(read_file)\n",
    "\n",
    "for instance in instances:\n",
    "    if instance['name'] == 'hetio-ind':\n",
    "        uri = 'http://localhost:{}/db/data/'.format(instance['port'])    \n",
    "        neo = py2neo.Graph(uri)\n",
    "        break\n",
    "neo"
   ]
  },
  {
   "cell_type": "code",
   "execution_count": 4,
   "metadata": {
    "collapsed": false
   },
   "outputs": [
    {
     "data": {
      "text/html": [
       "<div>\n",
       "<table border=\"1\" class=\"dataframe\">\n",
       "  <thead>\n",
       "    <tr style=\"text-align: right;\">\n",
       "      <th></th>\n",
       "      <th>compound_id</th>\n",
       "      <th>disease_id</th>\n",
       "      <th>rel_type</th>\n",
       "    </tr>\n",
       "  </thead>\n",
       "  <tbody>\n",
       "    <tr>\n",
       "      <th>0</th>\n",
       "      <td>DB00014</td>\n",
       "      <td>DOID:10283</td>\n",
       "      <td>TREATS_CtD</td>\n",
       "    </tr>\n",
       "    <tr>\n",
       "      <th>1</th>\n",
       "      <td>DB00014</td>\n",
       "      <td>DOID:1612</td>\n",
       "      <td>TREATS_CtD</td>\n",
       "    </tr>\n",
       "  </tbody>\n",
       "</table>\n",
       "</div>"
      ],
      "text/plain": [
       "  compound_id  disease_id    rel_type\n",
       "0     DB00014  DOID:10283  TREATS_CtD\n",
       "1     DB00014   DOID:1612  TREATS_CtD"
      ]
     },
     "execution_count": 4,
     "metadata": {},
     "output_type": "execute_result"
    }
   ],
   "source": [
    "def to_df(record_list):\n",
    "    \"\"\"Convert a py2neo RecordList to a dataframe\"\"\"\n",
    "    return pandas.DataFrame(record_list.records, columns = record_list.columns)\n",
    "\n",
    "indication_query = '''\n",
    "MATCH (compound:Compound)-[rel]->(disease:Disease)\n",
    "RETURN\n",
    "  compound.identifier AS compound_id,\n",
    "  disease.identifier AS disease_id,\n",
    "  type(rel) AS rel_type\n",
    "ORDER BY\n",
    "  compound_id, rel_type, disease_id\n",
    "'''\n",
    "indication_df = to_df(neo.cypher.execute(indication_query))\n",
    "indication_df.head(2)"
   ]
  },
  {
   "cell_type": "markdown",
   "metadata": {},
   "source": [
    "## Read node info"
   ]
  },
  {
   "cell_type": "code",
   "execution_count": 5,
   "metadata": {
    "collapsed": true
   },
   "outputs": [],
   "source": [
    "# Read compound and disease degrees\n",
    "compound_df = pandas.read_table('../summary/compounds.tsv')\n",
    "compound_df = compound_df.iloc[:, :2]\n",
    "disease_df = pandas.read_table('../summary/diseases.tsv')\n",
    "disease_df = disease_df.iloc[:, :2]"
   ]
  },
  {
   "cell_type": "code",
   "execution_count": 22,
   "metadata": {
    "collapsed": true
   },
   "outputs": [],
   "source": [
    "compound_df.merge(disease_df.merge(indication_df)).to_csv('../summary/indications.tsv', sep='\\t', index=False)"
   ]
  },
  {
   "cell_type": "code",
   "execution_count": 6,
   "metadata": {
    "collapsed": false
   },
   "outputs": [
    {
     "data": {
      "text/plain": [
       "(1538, 136)"
      ]
     },
     "execution_count": 6,
     "metadata": {},
     "output_type": "execute_result"
    }
   ],
   "source": [
    "len(compound_df), len(disease_df)"
   ]
  },
  {
   "cell_type": "code",
   "execution_count": 7,
   "metadata": {
    "collapsed": false
   },
   "outputs": [
    {
     "data": {
      "text/html": [
       "<div>\n",
       "<table border=\"1\" class=\"dataframe\">\n",
       "  <thead>\n",
       "    <tr style=\"text-align: right;\">\n",
       "      <th></th>\n",
       "      <th>compound_id</th>\n",
       "      <th>compound_name</th>\n",
       "      <th>disease_id</th>\n",
       "      <th>disease_name</th>\n",
       "      <th>rel_type</th>\n",
       "    </tr>\n",
       "  </thead>\n",
       "  <tbody>\n",
       "    <tr>\n",
       "      <th>0</th>\n",
       "      <td>DB01048</td>\n",
       "      <td>Abacavir</td>\n",
       "      <td>DOID:10652</td>\n",
       "      <td>Alzheimer's disease</td>\n",
       "      <td>NaN</td>\n",
       "    </tr>\n",
       "    <tr>\n",
       "      <th>1</th>\n",
       "      <td>DB01048</td>\n",
       "      <td>Abacavir</td>\n",
       "      <td>DOID:9206</td>\n",
       "      <td>Barrett's esophagus</td>\n",
       "      <td>NaN</td>\n",
       "    </tr>\n",
       "  </tbody>\n",
       "</table>\n",
       "</div>"
      ],
      "text/plain": [
       "  compound_id compound_name  disease_id         disease_name rel_type\n",
       "0     DB01048      Abacavir  DOID:10652  Alzheimer's disease      NaN\n",
       "1     DB01048      Abacavir   DOID:9206  Barrett's esophagus      NaN"
      ]
     },
     "execution_count": 7,
     "metadata": {},
     "output_type": "execute_result"
    }
   ],
   "source": [
    "rows = list(itertools.product(compound_df.compound_id, disease_df.disease_id))\n",
    "pair_df = pandas.DataFrame(rows, columns=['compound_id', 'disease_id'])\n",
    "pair_df = pair_df.merge(indication_df, how='left')\n",
    "pair_df = compound_df.merge(disease_df.merge(pair_df))\n",
    "pair_df.head(2)"
   ]
  },
  {
   "cell_type": "code",
   "execution_count": 8,
   "metadata": {
    "collapsed": false
   },
   "outputs": [
    {
     "data": {
      "text/plain": [
       "209168"
      ]
     },
     "execution_count": 8,
     "metadata": {},
     "output_type": "execute_result"
    }
   ],
   "source": [
    "len(pair_df)"
   ]
  },
  {
   "cell_type": "code",
   "execution_count": 9,
   "metadata": {
    "collapsed": true
   },
   "outputs": [],
   "source": [
    "with bz2.open('features/compound-disease-pairs.tsv.bz2', 'wt') as write_file:\n",
    "    pair_df.to_csv(write_file, sep='\\t', index=False)"
   ]
  },
  {
   "cell_type": "markdown",
   "metadata": {},
   "source": [
    "# Compute degree features"
   ]
  },
  {
   "cell_type": "code",
   "execution_count": 10,
   "metadata": {
    "collapsed": true
   },
   "outputs": [],
   "source": [
    "url = 'https://github.com/dhimmel/integrate/raw/{}/data/summary/degrees.xlsx'.format(commit)\n",
    "disease_degree_df = pandas.read_excel(url, sheetname='Disease')\n",
    "disease_degree_df = disease_degree_df.rename(columns={'node_id': 'disease_id'}).drop('node_name', axis='columns')\n",
    "compound_degree_df = pandas.read_excel(url, sheetname='Compound')\n",
    "compound_degree_df = compound_degree_df.rename(columns={'node_id': 'compound_id'}).drop('node_name', axis='columns')\n",
    "\n",
    "url = 'https://github.com/dhimmel/integrate/raw/{}/data/summary/metaedge-styles.tsv'.format(commit)\n",
    "metaedge_style_df = pandas.read_table(url)\n",
    "metaedge_to_abbreviation = dict(zip(metaedge_style_df.metaedge, metaedge_style_df.abbreviation))"
   ]
  },
  {
   "cell_type": "code",
   "execution_count": 11,
   "metadata": {
    "collapsed": false
   },
   "outputs": [
    {
     "data": {
      "text/html": [
       "<div>\n",
       "<table border=\"1\" class=\"dataframe\">\n",
       "  <thead>\n",
       "    <tr style=\"text-align: right;\">\n",
       "      <th></th>\n",
       "      <th>compound_id</th>\n",
       "      <th>disease_id</th>\n",
       "      <th>CbG</th>\n",
       "      <th>CcSE</th>\n",
       "      <th>CdG</th>\n",
       "      <th>CiPC</th>\n",
       "      <th>CpD</th>\n",
       "      <th>CrC</th>\n",
       "      <th>CtD</th>\n",
       "      <th>CuG</th>\n",
       "      <th>DaG</th>\n",
       "      <th>DdG</th>\n",
       "      <th>DlA</th>\n",
       "      <th>DpC</th>\n",
       "      <th>DpS</th>\n",
       "      <th>DrD</th>\n",
       "      <th>DtC</th>\n",
       "      <th>DuG</th>\n",
       "    </tr>\n",
       "  </thead>\n",
       "  <tbody>\n",
       "    <tr>\n",
       "      <th>209166</th>\n",
       "      <td>DB01198</td>\n",
       "      <td>DOID:1245</td>\n",
       "      <td>14</td>\n",
       "      <td>259</td>\n",
       "      <td>4</td>\n",
       "      <td>0</td>\n",
       "      <td>2</td>\n",
       "      <td>1</td>\n",
       "      <td>0</td>\n",
       "      <td>4</td>\n",
       "      <td>6</td>\n",
       "      <td>0</td>\n",
       "      <td>14</td>\n",
       "      <td>0</td>\n",
       "      <td>8</td>\n",
       "      <td>13</td>\n",
       "      <td>0</td>\n",
       "      <td>0</td>\n",
       "    </tr>\n",
       "    <tr>\n",
       "      <th>209167</th>\n",
       "      <td>DB01624</td>\n",
       "      <td>DOID:1245</td>\n",
       "      <td>9</td>\n",
       "      <td>189</td>\n",
       "      <td>0</td>\n",
       "      <td>0</td>\n",
       "      <td>0</td>\n",
       "      <td>23</td>\n",
       "      <td>0</td>\n",
       "      <td>3</td>\n",
       "      <td>6</td>\n",
       "      <td>0</td>\n",
       "      <td>14</td>\n",
       "      <td>0</td>\n",
       "      <td>8</td>\n",
       "      <td>13</td>\n",
       "      <td>0</td>\n",
       "      <td>0</td>\n",
       "    </tr>\n",
       "  </tbody>\n",
       "</table>\n",
       "</div>"
      ],
      "text/plain": [
       "       compound_id disease_id  CbG  CcSE  CdG  CiPC  CpD  CrC  CtD  CuG  DaG  \\\n",
       "209166     DB01198  DOID:1245   14   259    4     0    2    1    0    4    6   \n",
       "209167     DB01624  DOID:1245    9   189    0     0    0   23    0    3    6   \n",
       "\n",
       "        DdG  DlA  DpC  DpS  DrD  DtC  DuG  \n",
       "209166    0   14    0    8   13    0    0  \n",
       "209167    0   14    0    8   13    0    0  "
      ]
     },
     "execution_count": 11,
     "metadata": {},
     "output_type": "execute_result"
    }
   ],
   "source": [
    "degree_df = pair_df[['compound_id', 'disease_id']].merge(compound_degree_df).merge(disease_degree_df)\n",
    "degree_df = degree_df.rename(columns = metaedge_to_abbreviation)\n",
    "degree_df.tail(2)"
   ]
  },
  {
   "cell_type": "code",
   "execution_count": 12,
   "metadata": {
    "collapsed": true
   },
   "outputs": [],
   "source": [
    "with bz2.open('features/degrees.tsv.bz2', 'wt') as write_file:\n",
    "    degree_df.to_csv(write_file, sep='\\t', index=False)"
   ]
  },
  {
   "cell_type": "markdown",
   "metadata": {},
   "source": [
    "## Select metapaths"
   ]
  },
  {
   "cell_type": "code",
   "execution_count": 25,
   "metadata": {
    "collapsed": false
   },
   "outputs": [
    {
     "data": {
      "text/plain": [
       "(42, 37)"
      ]
     },
     "execution_count": 25,
     "metadata": {},
     "output_type": "execute_result"
    }
   ],
   "source": [
    "n_runs = 50\n",
    "path = '../all-features/selection/sweep-features.tsv'\n",
    "feature_df = pandas.read_table(path)\n",
    "feature_df = feature_df.query(\"perm_affected / @n_runs >= 0.4\")\n",
    "feature_df.to_csv('features/selected-features.tsv', sep='\\t', index=False, float_format='%.3g')\n",
    "metapath_df = feature_df.query(\"feature_type == 'DWPC'\")\n",
    "#feature_df = feature_df.rename(columns={'feature': 'metapath'})\n",
    "len(feature_df), len(metapath_df)"
   ]
  },
  {
   "cell_type": "code",
   "execution_count": 14,
   "metadata": {
    "collapsed": false
   },
   "outputs": [
    {
     "data": {
      "text/html": [
       "<div>\n",
       "<table border=\"1\" class=\"dataframe\">\n",
       "  <thead>\n",
       "    <tr style=\"text-align: right;\">\n",
       "      <th></th>\n",
       "      <th>feature</th>\n",
       "      <th>all_features</th>\n",
       "      <th>perm_affected</th>\n",
       "      <th>total</th>\n",
       "      <th>feature_type</th>\n",
       "      <th>nonzero</th>\n",
       "      <th>auroc</th>\n",
       "      <th>auroc_permuted</th>\n",
       "      <th>delta_auroc</th>\n",
       "      <th>pval_auroc</th>\n",
       "      <th>fdr_pval_auroc</th>\n",
       "    </tr>\n",
       "  </thead>\n",
       "  <tbody>\n",
       "    <tr>\n",
       "      <th>0</th>\n",
       "      <td>CbGaD</td>\n",
       "      <td>50</td>\n",
       "      <td>50</td>\n",
       "      <td>100</td>\n",
       "      <td>DWPC</td>\n",
       "      <td>0.23311</td>\n",
       "      <td>0.75173</td>\n",
       "      <td>0.64228</td>\n",
       "      <td>0.10944</td>\n",
       "      <td>0.000008</td>\n",
       "      <td>0.001514</td>\n",
       "    </tr>\n",
       "    <tr>\n",
       "      <th>3</th>\n",
       "      <td>CbGbCtD</td>\n",
       "      <td>50</td>\n",
       "      <td>50</td>\n",
       "      <td>100</td>\n",
       "      <td>DWPC</td>\n",
       "      <td>0.42490</td>\n",
       "      <td>0.92877</td>\n",
       "      <td>0.82564</td>\n",
       "      <td>0.10313</td>\n",
       "      <td>0.000195</td>\n",
       "      <td>0.008901</td>\n",
       "    </tr>\n",
       "  </tbody>\n",
       "</table>\n",
       "</div>"
      ],
      "text/plain": [
       "   feature  all_features  perm_affected  total feature_type  nonzero    auroc  \\\n",
       "0    CbGaD            50             50    100         DWPC  0.23311  0.75173   \n",
       "3  CbGbCtD            50             50    100         DWPC  0.42490  0.92877   \n",
       "\n",
       "   auroc_permuted  delta_auroc  pval_auroc  fdr_pval_auroc  \n",
       "0         0.64228      0.10944    0.000008        0.001514  \n",
       "3         0.82564      0.10313    0.000195        0.008901  "
      ]
     },
     "execution_count": 14,
     "metadata": {},
     "output_type": "execute_result"
    }
   ],
   "source": [
    "metapaths = set(metapath_df.feature)\n",
    "metapath_df.head(2)"
   ]
  },
  {
   "cell_type": "markdown",
   "metadata": {},
   "source": [
    "## Metaedges in chosen metapaths"
   ]
  },
  {
   "cell_type": "code",
   "execution_count": 15,
   "metadata": {
    "collapsed": false,
    "scrolled": false
   },
   "outputs": [],
   "source": [
    "m2m_df = pandas.read_table('../all-features/data/metaedge-in-metapath.tsv')\n",
    "m2m_df = m2m_df.query(\"metapath in @metapaths\")"
   ]
  },
  {
   "cell_type": "code",
   "execution_count": 16,
   "metadata": {
    "collapsed": false
   },
   "outputs": [
    {
     "data": {
      "text/html": [
       "<div>\n",
       "<table border=\"1\" class=\"dataframe\">\n",
       "  <thead>\n",
       "    <tr style=\"text-align: right;\">\n",
       "      <th></th>\n",
       "      <th>index</th>\n",
       "      <th>metaedge</th>\n",
       "    </tr>\n",
       "  </thead>\n",
       "  <tbody>\n",
       "    <tr>\n",
       "      <th>0</th>\n",
       "      <td>Compound - treats - Disease</td>\n",
       "      <td>29</td>\n",
       "    </tr>\n",
       "    <tr>\n",
       "      <th>1</th>\n",
       "      <td>Compound - resembles - Compound</td>\n",
       "      <td>15</td>\n",
       "    </tr>\n",
       "    <tr>\n",
       "      <th>2</th>\n",
       "      <td>Compound - palliates - Disease</td>\n",
       "      <td>14</td>\n",
       "    </tr>\n",
       "    <tr>\n",
       "      <th>3</th>\n",
       "      <td>Compound - binds - Gene</td>\n",
       "      <td>12</td>\n",
       "    </tr>\n",
       "    <tr>\n",
       "      <th>4</th>\n",
       "      <td>Disease - associates - Gene</td>\n",
       "      <td>11</td>\n",
       "    </tr>\n",
       "    <tr>\n",
       "      <th>5</th>\n",
       "      <td>Disease - resembles - Disease</td>\n",
       "      <td>7</td>\n",
       "    </tr>\n",
       "    <tr>\n",
       "      <th>6</th>\n",
       "      <td>Compound - causes - Side Effect</td>\n",
       "      <td>6</td>\n",
       "    </tr>\n",
       "    <tr>\n",
       "      <th>7</th>\n",
       "      <td>Disease - downregulates - Gene</td>\n",
       "      <td>6</td>\n",
       "    </tr>\n",
       "    <tr>\n",
       "      <th>8</th>\n",
       "      <td>Pharmacologic Class - includes - Compound</td>\n",
       "      <td>6</td>\n",
       "    </tr>\n",
       "    <tr>\n",
       "      <th>9</th>\n",
       "      <td>Compound - downregulates - Gene</td>\n",
       "      <td>6</td>\n",
       "    </tr>\n",
       "    <tr>\n",
       "      <th>10</th>\n",
       "      <td>Disease - localizes - Anatomy</td>\n",
       "      <td>4</td>\n",
       "    </tr>\n",
       "    <tr>\n",
       "      <th>11</th>\n",
       "      <td>Compound - upregulates - Gene</td>\n",
       "      <td>4</td>\n",
       "    </tr>\n",
       "    <tr>\n",
       "      <th>12</th>\n",
       "      <td>Disease - upregulates - Gene</td>\n",
       "      <td>3</td>\n",
       "    </tr>\n",
       "    <tr>\n",
       "      <th>13</th>\n",
       "      <td>Gene - covaries - Gene</td>\n",
       "      <td>3</td>\n",
       "    </tr>\n",
       "    <tr>\n",
       "      <th>14</th>\n",
       "      <td>Gene - participates - Cellular Component</td>\n",
       "      <td>2</td>\n",
       "    </tr>\n",
       "    <tr>\n",
       "      <th>15</th>\n",
       "      <td>Anatomy - upregulates - Gene</td>\n",
       "      <td>1</td>\n",
       "    </tr>\n",
       "    <tr>\n",
       "      <th>16</th>\n",
       "      <td>Gene - interacts - Gene</td>\n",
       "      <td>1</td>\n",
       "    </tr>\n",
       "    <tr>\n",
       "      <th>17</th>\n",
       "      <td>Anatomy - downregulates - Gene</td>\n",
       "      <td>1</td>\n",
       "    </tr>\n",
       "  </tbody>\n",
       "</table>\n",
       "</div>"
      ],
      "text/plain": [
       "                                        index  metaedge\n",
       "0                 Compound - treats - Disease        29\n",
       "1             Compound - resembles - Compound        15\n",
       "2              Compound - palliates - Disease        14\n",
       "3                     Compound - binds - Gene        12\n",
       "4                 Disease - associates - Gene        11\n",
       "5               Disease - resembles - Disease         7\n",
       "6             Compound - causes - Side Effect         6\n",
       "7              Disease - downregulates - Gene         6\n",
       "8   Pharmacologic Class - includes - Compound         6\n",
       "9             Compound - downregulates - Gene         6\n",
       "10              Disease - localizes - Anatomy         4\n",
       "11              Compound - upregulates - Gene         4\n",
       "12               Disease - upregulates - Gene         3\n",
       "13                     Gene - covaries - Gene         3\n",
       "14   Gene - participates - Cellular Component         2\n",
       "15               Anatomy - upregulates - Gene         1\n",
       "16                    Gene - interacts - Gene         1\n",
       "17             Anatomy - downregulates - Gene         1"
      ]
     },
     "execution_count": 16,
     "metadata": {},
     "output_type": "execute_result"
    }
   ],
   "source": [
    "# Counting multiple occurrences in the same metapath\n",
    "m2m_df.metaedge.value_counts().reset_index()"
   ]
  },
  {
   "cell_type": "code",
   "execution_count": 17,
   "metadata": {
    "collapsed": false
   },
   "outputs": [
    {
     "data": {
      "text/html": [
       "<div>\n",
       "<table border=\"1\" class=\"dataframe\">\n",
       "  <thead>\n",
       "    <tr style=\"text-align: right;\">\n",
       "      <th></th>\n",
       "      <th>index</th>\n",
       "      <th>metaedge</th>\n",
       "    </tr>\n",
       "  </thead>\n",
       "  <tbody>\n",
       "    <tr>\n",
       "      <th>0</th>\n",
       "      <td>Compound - treats - Disease</td>\n",
       "      <td>23</td>\n",
       "    </tr>\n",
       "    <tr>\n",
       "      <th>1</th>\n",
       "      <td>Compound - resembles - Compound</td>\n",
       "      <td>12</td>\n",
       "    </tr>\n",
       "    <tr>\n",
       "      <th>2</th>\n",
       "      <td>Disease - associates - Gene</td>\n",
       "      <td>10</td>\n",
       "    </tr>\n",
       "    <tr>\n",
       "      <th>3</th>\n",
       "      <td>Compound - palliates - Disease</td>\n",
       "      <td>10</td>\n",
       "    </tr>\n",
       "    <tr>\n",
       "      <th>4</th>\n",
       "      <td>Compound - binds - Gene</td>\n",
       "      <td>10</td>\n",
       "    </tr>\n",
       "    <tr>\n",
       "      <th>5</th>\n",
       "      <td>Disease - resembles - Disease</td>\n",
       "      <td>6</td>\n",
       "    </tr>\n",
       "    <tr>\n",
       "      <th>6</th>\n",
       "      <td>Disease - downregulates - Gene</td>\n",
       "      <td>5</td>\n",
       "    </tr>\n",
       "    <tr>\n",
       "      <th>7</th>\n",
       "      <td>Compound - downregulates - Gene</td>\n",
       "      <td>5</td>\n",
       "    </tr>\n",
       "    <tr>\n",
       "      <th>8</th>\n",
       "      <td>Compound - upregulates - Gene</td>\n",
       "      <td>4</td>\n",
       "    </tr>\n",
       "    <tr>\n",
       "      <th>9</th>\n",
       "      <td>Compound - causes - Side Effect</td>\n",
       "      <td>3</td>\n",
       "    </tr>\n",
       "    <tr>\n",
       "      <th>10</th>\n",
       "      <td>Disease - upregulates - Gene</td>\n",
       "      <td>3</td>\n",
       "    </tr>\n",
       "    <tr>\n",
       "      <th>11</th>\n",
       "      <td>Gene - covaries - Gene</td>\n",
       "      <td>3</td>\n",
       "    </tr>\n",
       "    <tr>\n",
       "      <th>12</th>\n",
       "      <td>Disease - localizes - Anatomy</td>\n",
       "      <td>3</td>\n",
       "    </tr>\n",
       "    <tr>\n",
       "      <th>13</th>\n",
       "      <td>Pharmacologic Class - includes - Compound</td>\n",
       "      <td>3</td>\n",
       "    </tr>\n",
       "    <tr>\n",
       "      <th>14</th>\n",
       "      <td>Anatomy - upregulates - Gene</td>\n",
       "      <td>1</td>\n",
       "    </tr>\n",
       "    <tr>\n",
       "      <th>15</th>\n",
       "      <td>Gene - participates - Cellular Component</td>\n",
       "      <td>1</td>\n",
       "    </tr>\n",
       "    <tr>\n",
       "      <th>16</th>\n",
       "      <td>Gene - interacts - Gene</td>\n",
       "      <td>1</td>\n",
       "    </tr>\n",
       "    <tr>\n",
       "      <th>17</th>\n",
       "      <td>Anatomy - downregulates - Gene</td>\n",
       "      <td>1</td>\n",
       "    </tr>\n",
       "  </tbody>\n",
       "</table>\n",
       "</div>"
      ],
      "text/plain": [
       "                                        index  metaedge\n",
       "0                 Compound - treats - Disease        23\n",
       "1             Compound - resembles - Compound        12\n",
       "2                 Disease - associates - Gene        10\n",
       "3              Compound - palliates - Disease        10\n",
       "4                     Compound - binds - Gene        10\n",
       "5               Disease - resembles - Disease         6\n",
       "6              Disease - downregulates - Gene         5\n",
       "7             Compound - downregulates - Gene         5\n",
       "8               Compound - upregulates - Gene         4\n",
       "9             Compound - causes - Side Effect         3\n",
       "10               Disease - upregulates - Gene         3\n",
       "11                     Gene - covaries - Gene         3\n",
       "12              Disease - localizes - Anatomy         3\n",
       "13  Pharmacologic Class - includes - Compound         3\n",
       "14               Anatomy - upregulates - Gene         1\n",
       "15   Gene - participates - Cellular Component         1\n",
       "16                    Gene - interacts - Gene         1\n",
       "17             Anatomy - downregulates - Gene         1"
      ]
     },
     "execution_count": 17,
     "metadata": {},
     "output_type": "execute_result"
    }
   ],
   "source": [
    "# Counting only one metaedge occurrence per metapath\n",
    "m2m_df.drop_duplicates().metaedge.value_counts().reset_index()"
   ]
  },
  {
   "cell_type": "code",
   "execution_count": 18,
   "metadata": {
    "collapsed": false
   },
   "outputs": [
    {
     "data": {
      "text/plain": [
       "18"
      ]
     },
     "execution_count": 18,
     "metadata": {},
     "output_type": "execute_result"
    }
   ],
   "source": [
    "# Number of included metaedges\n",
    "m2m_df.metaedge.nunique()"
   ]
  },
  {
   "cell_type": "code",
   "execution_count": 19,
   "metadata": {
    "collapsed": false
   },
   "outputs": [],
   "source": [
    "with open('../all-features/data/metapaths.json') as read_file:\n",
    "    metapath_obj = json.load(read_file)\n",
    "metapath_obj = [x for x in metapath_obj if x['abbreviation'] in metapaths]\n",
    "with open('features/metapaths.json', 'wt') as write_file:\n",
    "    metapath_obj = json.dump(metapath_obj, write_file, indent=2)"
   ]
  }
 ],
 "metadata": {
  "kernelspec": {
   "display_name": "Python 3",
   "language": "python",
   "name": "python3"
  },
  "language_info": {
   "codemirror_mode": {
    "name": "ipython",
    "version": 3
   },
   "file_extension": ".py",
   "mimetype": "text/x-python",
   "name": "python",
   "nbconvert_exporter": "python",
   "pygments_lexer": "ipython3",
   "version": "3.5.1"
  }
 },
 "nbformat": 4,
 "nbformat_minor": 0
}
