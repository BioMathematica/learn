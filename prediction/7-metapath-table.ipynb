{
 "cells": [
  {
   "cell_type": "markdown",
   "metadata": {},
   "source": [
    "# Create a table summarizing metapath performance"
   ]
  },
  {
   "cell_type": "code",
   "execution_count": 1,
   "metadata": {
    "collapsed": true
   },
   "outputs": [],
   "source": [
    "import configparser\n",
    "import collections\n",
    "import os\n",
    "\n",
    "import pandas\n",
    "import numpy\n",
    "\n",
    "import hetio.readwrite"
   ]
  },
  {
   "cell_type": "code",
   "execution_count": 2,
   "metadata": {
    "collapsed": false
   },
   "outputs": [
    {
     "data": {
      "text/html": [
       "<div>\n",
       "<table border=\"1\" class=\"dataframe\">\n",
       "  <thead>\n",
       "    <tr style=\"text-align: right;\">\n",
       "      <th></th>\n",
       "      <th>metapath</th>\n",
       "      <th>length</th>\n",
       "    </tr>\n",
       "  </thead>\n",
       "  <tbody>\n",
       "    <tr>\n",
       "      <th>0</th>\n",
       "      <td>CbGaD</td>\n",
       "      <td>2</td>\n",
       "    </tr>\n",
       "    <tr>\n",
       "      <th>1</th>\n",
       "      <td>CbGdD</td>\n",
       "      <td>2</td>\n",
       "    </tr>\n",
       "  </tbody>\n",
       "</table>\n",
       "</div>"
      ],
      "text/plain": [
       "  metapath  length\n",
       "0    CbGaD       2\n",
       "1    CbGdD       2"
      ]
     },
     "execution_count": 2,
     "metadata": {},
     "output_type": "execute_result"
    }
   ],
   "source": [
    "metapath_df = (\n",
    "    pandas.read_table('../all-features/data/metapaths.tsv')\n",
    "    .rename(columns={'abbreviation': 'metapath'})\n",
    "    [['metapath', 'length']]\n",
    ")\n",
    "metapath_df.head(2)"
   ]
  },
  {
   "cell_type": "code",
   "execution_count": 3,
   "metadata": {
    "collapsed": false
   },
   "outputs": [
    {
     "data": {
      "text/html": [
       "<div>\n",
       "<table border=\"1\" class=\"dataframe\">\n",
       "  <thead>\n",
       "    <tr style=\"text-align: right;\">\n",
       "      <th></th>\n",
       "      <th>metapath</th>\n",
       "      <th>length</th>\n",
       "      <th>delta_auroc</th>\n",
       "      <th>mlog10_pval_delta_auroc</th>\n",
       "    </tr>\n",
       "  </thead>\n",
       "  <tbody>\n",
       "    <tr>\n",
       "      <th>0</th>\n",
       "      <td>CbGaD</td>\n",
       "      <td>2</td>\n",
       "      <td>0.145300</td>\n",
       "      <td>6.213675</td>\n",
       "    </tr>\n",
       "    <tr>\n",
       "      <th>1</th>\n",
       "      <td>CbGdD</td>\n",
       "      <td>2</td>\n",
       "      <td>-0.003001</td>\n",
       "      <td>1.526966</td>\n",
       "    </tr>\n",
       "  </tbody>\n",
       "</table>\n",
       "</div>"
      ],
      "text/plain": [
       "  metapath  length  delta_auroc  mlog10_pval_delta_auroc\n",
       "0    CbGaD       2     0.145300                 6.213675\n",
       "1    CbGdD       2    -0.003001                 1.526966"
      ]
     },
     "execution_count": 3,
     "metadata": {},
     "output_type": "execute_result"
    }
   ],
   "source": [
    "auroc_df = pandas.read_table('../all-features/data/feature-performance/auroc.tsv')\n",
    "auroc_df['mlog10_pval_delta_auroc'] = -numpy.log10(auroc_df['pval_delta_auroc'])\n",
    "auroc_df = auroc_df[['metapath', 'delta_auroc', 'mlog10_pval_delta_auroc']]\n",
    "metapath_df = metapath_df.merge(auroc_df)\n",
    "metapath_df.head(2)"
   ]
  },
  {
   "cell_type": "code",
   "execution_count": 4,
   "metadata": {
    "collapsed": false
   },
   "outputs": [
    {
     "data": {
      "text/html": [
       "<div>\n",
       "<table border=\"1\" class=\"dataframe\">\n",
       "  <thead>\n",
       "    <tr style=\"text-align: right;\">\n",
       "      <th></th>\n",
       "      <th>metapath</th>\n",
       "      <th>length</th>\n",
       "      <th>delta_auroc</th>\n",
       "      <th>mlog10_pval_delta_auroc</th>\n",
       "      <th>coef</th>\n",
       "    </tr>\n",
       "  </thead>\n",
       "  <tbody>\n",
       "    <tr>\n",
       "      <th>0</th>\n",
       "      <td>CbGaD</td>\n",
       "      <td>2</td>\n",
       "      <td>0.145300</td>\n",
       "      <td>6.213675</td>\n",
       "      <td>0.198193</td>\n",
       "    </tr>\n",
       "    <tr>\n",
       "      <th>1</th>\n",
       "      <td>CbGdD</td>\n",
       "      <td>2</td>\n",
       "      <td>-0.003001</td>\n",
       "      <td>1.526966</td>\n",
       "      <td>NaN</td>\n",
       "    </tr>\n",
       "  </tbody>\n",
       "</table>\n",
       "</div>"
      ],
      "text/plain": [
       "  metapath  length  delta_auroc  mlog10_pval_delta_auroc      coef\n",
       "0    CbGaD       2     0.145300                 6.213675  0.198193\n",
       "1    CbGdD       2    -0.003001                 1.526966       NaN"
      ]
     },
     "execution_count": 4,
     "metadata": {},
     "output_type": "execute_result"
    }
   ],
   "source": [
    "coef_df = pandas.read_table('./model/coefficient.tsv')\n",
    "coef_df = coef_df[coef_df.feature.str.startswith('dwpc_')]\n",
    "coef_df['metapath'] = coef_df.feature.str.split('_', expand=True)[1]\n",
    "coef_df = coef_df[['metapath', 'coef']]\n",
    "metapath_df = metapath_df.merge(coef_df, how='left')\n",
    "metapath_df.head(2)"
   ]
  },
  {
   "cell_type": "code",
   "execution_count": 5,
   "metadata": {
    "collapsed": false
   },
   "outputs": [],
   "source": [
    "# Load metagraph for the hetnet\n",
    "config = configparser.ConfigParser()\n",
    "config.read('../config.ini')\n",
    "commit = config['hetnet']['integrate_commit']\n",
    "url = 'https://github.com/dhimmel/integrate/raw/{}/data/metagraph.json'.format(commit)\n",
    "metagraph = hetio.readwrite.read_metagraph(url)"
   ]
  },
  {
   "cell_type": "code",
   "execution_count": 6,
   "metadata": {
    "collapsed": false
   },
   "outputs": [],
   "source": [
    "metapath_df['verbose'] = metapath_df.metapath.map(lambda x: metagraph.metapath_from_abbrev(x).get_unicode_str())"
   ]
  },
  {
   "cell_type": "code",
   "execution_count": 7,
   "metadata": {
    "collapsed": false
   },
   "outputs": [
    {
     "data": {
      "text/html": [
       "<div>\n",
       "<table border=\"1\" class=\"dataframe\">\n",
       "  <thead>\n",
       "    <tr style=\"text-align: right;\">\n",
       "      <th></th>\n",
       "      <th>metapath</th>\n",
       "      <th>length</th>\n",
       "      <th>delta_auroc</th>\n",
       "      <th>mlog10_pval_delta_auroc</th>\n",
       "      <th>coef</th>\n",
       "      <th>verbose</th>\n",
       "    </tr>\n",
       "  </thead>\n",
       "  <tbody>\n",
       "    <tr>\n",
       "      <th>0</th>\n",
       "      <td>CbGaD</td>\n",
       "      <td>2</td>\n",
       "      <td>0.145300</td>\n",
       "      <td>6.213675</td>\n",
       "      <td>0.198193</td>\n",
       "      <td>Compound–binds–Gene–associates–Disease</td>\n",
       "    </tr>\n",
       "    <tr>\n",
       "      <th>1</th>\n",
       "      <td>CbGdD</td>\n",
       "      <td>2</td>\n",
       "      <td>-0.003001</td>\n",
       "      <td>1.526966</td>\n",
       "      <td>NaN</td>\n",
       "      <td>Compound–binds–Gene–downregulates–Disease</td>\n",
       "    </tr>\n",
       "  </tbody>\n",
       "</table>\n",
       "</div>"
      ],
      "text/plain": [
       "  metapath  length  delta_auroc  mlog10_pval_delta_auroc      coef  \\\n",
       "0    CbGaD       2     0.145300                 6.213675  0.198193   \n",
       "1    CbGdD       2    -0.003001                 1.526966       NaN   \n",
       "\n",
       "                                     verbose  \n",
       "0     Compound–binds–Gene–associates–Disease  \n",
       "1  Compound–binds–Gene–downregulates–Disease  "
      ]
     },
     "execution_count": 7,
     "metadata": {},
     "output_type": "execute_result"
    }
   ],
   "source": [
    "metapath_df.head(2)"
   ]
  },
  {
   "cell_type": "code",
   "execution_count": 8,
   "metadata": {
    "collapsed": false
   },
   "outputs": [],
   "source": [
    "path = os.path.join('features', 'metapaths.tsv')\n",
    "metapath_df.to_csv(path, index=False, sep='\\t', float_format='%.5g')"
   ]
  },
  {
   "cell_type": "markdown",
   "metadata": {},
   "source": [
    "## Create a pretty markdown table for select metapaths of interest"
   ]
  },
  {
   "cell_type": "code",
   "execution_count": 9,
   "metadata": {
    "collapsed": false
   },
   "outputs": [],
   "source": [
    "# Manually selected metapaths\n",
    "select = [\n",
    "    'CbGaD',\n",
    "    'CbGiGaD',\n",
    "    'CbGiGiGaD',\n",
    "    'CbGpPWpGaD',\n",
    "    'CbGpBPpGaD',\n",
    "    'CcSEcCtD',\n",
    "    'CtDpSpD',\n",
    "    'CbGeAlD',\n",
    "    'CtDlAlD',\n",
    "    'CuGdD',\n",
    "    'CdGuD',\n",
    "    'CuGuCtD',\n",
    "    'CdGdCtD',\n",
    "    'CuGdCtD',\n",
    "    'CdGuCtD',\n",
    "    'CtDuGuD',\n",
    "    'CtDdGdD',\n",
    "    'CtDdGuD',\n",
    "    'CtDuGdD',\n",
    "]"
   ]
  },
  {
   "cell_type": "code",
   "execution_count": 10,
   "metadata": {
    "collapsed": false
   },
   "outputs": [],
   "source": [
    "def df_to_markdown(df, float_format='%.2g'):\n",
    "    \"\"\"\n",
    "    Export a pandas.DataFrame to markdown-formatted text.\n",
    "    DataFrame should not contain any `|` characters.\n",
    "    \"\"\"\n",
    "    from os import linesep\n",
    "    return linesep.join([\n",
    "        '|'.join(df.columns),\n",
    "        '|'.join(4 * '-' for i in df.columns),\n",
    "        df.to_csv(sep='|', index=False, header=False, float_format=float_format)\n",
    "    ]).replace('|', ' | ')"
   ]
  },
  {
   "cell_type": "code",
   "execution_count": 11,
   "metadata": {
    "collapsed": false
   },
   "outputs": [],
   "source": [
    "table_df = metapath_df.query(\"metapath in @select or coef > 0.05\").copy()\n",
    "\n",
    "formatter = {\n",
    "    'delta_auroc': '{:.1%}'.format,\n",
    "    'mlog10_pval_delta_auroc': '{:.1f}'.format,\n",
    "}\n",
    "\n",
    "renamer = collections.OrderedDict([\n",
    "    ('metapath', 'Abbrev.'),\n",
    "    ('length', 'Len.'),\n",
    "    ('delta_auroc', 'Δ AUROC'),\n",
    "    ('mlog10_pval_delta_auroc', '−log10(*p*)'),\n",
    "    ('coef', 'Coef.'),\n",
    "    ('verbose', 'Metapath'),\n",
    "])\n",
    "for column, fxn in formatter.items():\n",
    "    table_df[column] = table_df[column].map(fxn)\n",
    "table_df = table_df[list(renamer)]\n",
    "table_df = table_df.rename(columns=renamer)\n",
    "table_md = df_to_markdown(table_df, float_format='%.2f')\n",
    "\n",
    "path = 'figure/metapath-table.md'\n",
    "with open(path, 'wt') as write_file:\n",
    "    write_file.write(table_md)"
   ]
  }
 ],
 "metadata": {
  "anaconda-cloud": {},
  "kernelspec": {
   "display_name": "Python [default]",
   "language": "python",
   "name": "python3"
  },
  "language_info": {
   "codemirror_mode": {
    "name": "ipython",
    "version": 3
   },
   "file_extension": ".py",
   "mimetype": "text/x-python",
   "name": "python",
   "nbconvert_exporter": "python",
   "pygments_lexer": "ipython3",
   "version": "3.5.2"
  }
 },
 "nbformat": 4,
 "nbformat_minor": 1
}
