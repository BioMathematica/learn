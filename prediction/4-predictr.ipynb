{
 "cells": [
  {
   "cell_type": "markdown",
   "metadata": {},
   "source": [
    "# Fit the final model and make predictions"
   ]
  },
  {
   "cell_type": "code",
   "execution_count": 1,
   "metadata": {
    "collapsed": true
   },
   "outputs": [],
   "source": [
    "library(dplyr, warn=F)"
   ]
  },
  {
   "cell_type": "code",
   "execution_count": 2,
   "metadata": {
    "collapsed": false
   },
   "outputs": [],
   "source": [
    "selected_df = 'features/selected-features.tsv' %>%\n",
    "  readr::read_tsv()\n",
    "metapaths = dplyr::filter(selected_df, feature_type == 'dwpc')$feature\n",
    "degrees = dplyr::filter(selected_df, feature_type == 'degree')$feature\n",
    "col_types = list()\n",
    "for (metapath in metapaths) {\n",
    "  col_types[[metapath]] = readr::col_number()\n",
    "}"
   ]
  },
  {
   "cell_type": "code",
   "execution_count": 3,
   "metadata": {
    "collapsed": false
   },
   "outputs": [],
   "source": [
    "feature_df = readr::read_tsv('features/features.tsv.bz2', col_types = col_types) %>%\n",
    "  dplyr::mutate(prior_logit = boot::logit(prior_prob))"
   ]
  },
  {
   "cell_type": "code",
   "execution_count": 4,
   "metadata": {
    "collapsed": false
   },
   "outputs": [
    {
     "data": {
      "text/html": [
       "<table>\n",
       "<thead><tr><th></th><th scope=col>compound_id</th><th scope=col>compound_name</th><th scope=col>disease_id</th><th scope=col>disease_name</th><th scope=col>category</th><th scope=col>status</th><th scope=col>prior_prob</th><th scope=col>CbG</th><th scope=col>CcSE</th><th scope=col>CdG</th><th scope=col>ellip.h</th><th scope=col>CtDrDuGaD</th><th scope=col>CtDtCbGaD</th><th scope=col>CtDtCtD</th><th scope=col>CtDtCuGaD</th><th scope=col>CtDuGcGuD</th><th scope=col>CuGaDpCtD</th><th scope=col>CuGiGuCpD</th><th scope=col>CuGuD</th><th scope=col>CuGuDpCtD</th><th scope=col>prior_logit</th></tr></thead>\n",
       "<tbody>\n",
       "\t<tr><th scope=row>1</th><td>DB01048</td><td>Abacavir</td><td>DOID:10652</td><td>Alzheimer's disease</td><td>NA</td><td>0</td><td>0.004753</td><td>3</td><td>136</td><td>0</td><td>⋯</td><td>0</td><td>0.002638</td><td>0</td><td>0.0007788</td><td>0.00739</td><td>0</td><td>0</td><td>0</td><td>0</td><td>-5.344215</td></tr>\n",
       "\t<tr><th scope=row>2</th><td>DB05812</td><td>Abiraterone</td><td>DOID:10652</td><td>Alzheimer's disease</td><td>NA</td><td>0</td><td>0.004753</td><td>8</td><td>71</td><td>0</td><td>⋯</td><td>0</td><td>0.005065</td><td>0</td><td>0.009089</td><td>0.001119</td><td>0</td><td>0</td><td>0</td><td>0</td><td>-5.344215</td></tr>\n",
       "</tbody>\n",
       "</table>\n"
      ],
      "text/latex": [
       "\\begin{tabular}{r|llllllllllllllllllllllllllllllllllllllllllllllllllllllllllllllllllllllllllllllllllllllllll}\n",
       "  & compound_id & compound_name & disease_id & disease_name & category & status & prior_prob & CbG & CcSE & CdG & ellip.h & CtDrDuGaD & CtDtCbGaD & CtDtCtD & CtDtCuGaD & CtDuGcGuD & CuGaDpCtD & CuGiGuCpD & CuGuD & CuGuDpCtD & prior_logit\\\\\n",
       "\\hline\n",
       "\t1 & DB01048 & Abacavir & DOID:10652 & Alzheimer's disease & NA & 0 & 0.004753 & 3 & 136 & 0 & ⋯ & 0 & 0.002638 & 0 & 0.0007788 & 0.00739 & 0 & 0 & 0 & 0 & -5.344215\\\\\n",
       "\t2 & DB05812 & Abiraterone & DOID:10652 & Alzheimer's disease & NA & 0 & 0.004753 & 8 & 71 & 0 & ⋯ & 0 & 0.005065 & 0 & 0.009089 & 0.001119 & 0 & 0 & 0 & 0 & -5.344215\\\\\n",
       "\\end{tabular}\n"
      ],
      "text/plain": [
       "Source: local data frame [2 x 90]\n",
       "\n",
       "  compound_id compound_name disease_id        disease_name category status\n",
       "        (chr)         (chr)      (chr)               (chr)    (chr)  (int)\n",
       "1     DB01048      Abacavir DOID:10652 Alzheimer's disease       NA      0\n",
       "2     DB05812   Abiraterone DOID:10652 Alzheimer's disease       NA      0\n",
       "Variables not shown: prior_prob (dbl), CbG (int), CcSE (int), CdG (int), CiPC\n",
       "  (int), CpD (int), CrC (int), CtD (int), CuG (int), DaG (int), DdG (int), DlA\n",
       "  (int), DpC (int), DpS (int), DrD (int), DtC (int), DuG (int), CbG<rGaD (dbl),\n",
       "  CbG<rGcGdD (dbl), CbG<rGiGaD (dbl), CbG<rGuD (dbl), CbGaD (dbl), CbGbCtD\n",
       "  (dbl), CbGcGcGdD (dbl), CbGcGdCtD (dbl), CbGdCdGaD (dbl), CbGeAlDrD (dbl),\n",
       "  CbGiGbCtD (dbl), CbGiGeAlD (dbl), CbGpCCpGuD (dbl), CbGuAlDrD (dbl),\n",
       "  CbGuCdGaD (dbl), CcSEcCtD (dbl), CdGaDpCtD (dbl), CdGbCrCpD (dbl), CdGdCrCtD\n",
       "  (dbl), CdGdDpCtD (dbl), CiPCiCbGuD (dbl), CiPCiCdGdD (dbl), CiPCiCpDrD (dbl),\n",
       "  CiPCiCtD (dbl), CiPCiCuGuD (dbl), CpDaGdCtD (dbl), CpDaGuCtD (dbl), CpDpCtD\n",
       "  (dbl), CpDpCtDrD (dbl), CpDpCuGdD (dbl), CpDrDpCpD (dbl), CpDrDrD (dbl),\n",
       "  CrCbGaDrD (dbl), CrCbGcGdD (dbl), CrCbGiGaD (dbl), CrCcSEcCtD (dbl),\n",
       "  CrCdGiGaD (dbl), CrCiPCiCtD (dbl), CrCrCrCpD (dbl), CrCrCtD (dbl), CrCtD\n",
       "  (dbl), CrCtDlAlD (dbl), CtDaGiGaD (dbl), CtDaGiGuD (dbl), CtDaGr>GuD (dbl),\n",
       "  CtDdGbCpD (dbl), CtDdGbCtD (dbl), CtDlAeGuD (dbl), CtDlAlDrD (dbl), CtDlAuGuD\n",
       "  (dbl), CtDpCpD (dbl), CtDpSpDrD (dbl), CtDrD (dbl), CtDrDlAlD (dbl),\n",
       "  CtDrDpSpD (dbl), CtDrDrD (dbl), CtDrDrDrD (dbl), CtDrDuGaD (dbl), CtDtCbGaD\n",
       "  (dbl), CtDtCtD (dbl), CtDtCuGaD (dbl), CtDuGcGuD (dbl), CuGaDpCtD (dbl),\n",
       "  CuGiGuCpD (dbl), CuGuD (dbl), CuGuDpCtD (dbl), prior_logit (dbl)"
      ]
     },
     "execution_count": 4,
     "metadata": {},
     "output_type": "execute_result"
    }
   ],
   "source": [
    "head(feature_df, 2)"
   ]
  },
  {
   "cell_type": "code",
   "execution_count": 5,
   "metadata": {
    "collapsed": true
   },
   "outputs": [],
   "source": [
    "for (feature in degrees) {\n",
    "    feature_df[[feature]] = asinh(feature_df[[feature]])\n",
    "}\n",
    "\n",
    "for (feature in metapaths) {\n",
    "    x = feature_df[[feature]]\n",
    "    feature_df[[feature]] = asinh(x / mean(x))\n",
    "}"
   ]
  },
  {
   "cell_type": "code",
   "execution_count": 6,
   "metadata": {
    "collapsed": false
   },
   "outputs": [
    {
     "data": {
      "text/html": [
       "<ol class=list-inline>\n",
       "\t<li>29799</li>\n",
       "\t<li>90</li>\n",
       "</ol>\n"
      ],
      "text/latex": [
       "\\begin{enumerate*}\n",
       "\\item 29799\n",
       "\\item 90\n",
       "\\end{enumerate*}\n"
      ],
      "text/markdown": [
       "1. 29799\n",
       "2. 90\n",
       "\n",
       "\n"
      ],
      "text/plain": [
       "[1] 29799    90"
      ]
     },
     "execution_count": 6,
     "metadata": {},
     "output_type": "execute_result"
    }
   ],
   "source": [
    "train_df = feature_df %>%\n",
    "  dplyr::filter(prior_prob > 0)\n",
    "  #dplyr::filter(!(category %in% 'SYM'))\n",
    "dim(train_df)"
   ]
  },
  {
   "cell_type": "code",
   "execution_count": 7,
   "metadata": {
    "collapsed": false
   },
   "outputs": [
    {
     "data": {
      "text/html": [
       "<ol class=list-inline>\n",
       "\t<li>29799</li>\n",
       "\t<li>75</li>\n",
       "</ol>\n"
      ],
      "text/latex": [
       "\\begin{enumerate*}\n",
       "\\item 29799\n",
       "\\item 75\n",
       "\\end{enumerate*}\n"
      ],
      "text/markdown": [
       "1. 29799\n",
       "2. 75\n",
       "\n",
       "\n"
      ],
      "text/plain": [
       "[1] 29799    75"
      ]
     },
     "execution_count": 7,
     "metadata": {},
     "output_type": "execute_result"
    },
    {
     "data": {
      "text/plain": [
       "y_train\n",
       "    0     1 \n",
       "29044   755 "
      ]
     },
     "execution_count": 7,
     "metadata": {},
     "output_type": "execute_result"
    }
   ],
   "source": [
    "X_train = train_df %>%\n",
    "  dplyr::select(prior_logit, one_of(selected_df$feature)) %>%\n",
    "  as.matrix()\n",
    "dim(X_train)\n",
    "y_train = train_df$status\n",
    "table(y_train)"
   ]
  },
  {
   "cell_type": "code",
   "execution_count": null,
   "metadata": {
    "collapsed": false
   },
   "outputs": [],
   "source": [
    "penalty_factor = as.numeric(colnames(X_train) != 'prior_logit')\n",
    "fit = hetior::glmnet_train(X = X_train, y = y_train, alpha = 0, s = 'lambda.1se', cores = 12, seed = 0,\n",
    "    penalty.factor=penalty_factor, lambda.min.ratio=1e-6, nlambda=200)"
   ]
  },
  {
   "cell_type": "code",
   "execution_count": null,
   "metadata": {
    "collapsed": false
   },
   "outputs": [],
   "source": [
    "par(mfrow = c(2,1), oma = c(5,4,0,0) + 0.1, mar = c(0,0,1,1) + 0.1)\n",
    "plot(fit$cv_model$glmnet.fit, xvar = \"lambda\", label = TRUE)\n",
    "plot(fit$cv_model)\n",
    "fit$cv_model$lambda.1se"
   ]
  },
  {
   "cell_type": "code",
   "execution_count": null,
   "metadata": {
    "collapsed": false
   },
   "outputs": [],
   "source": [
    "train_pred_df = train_df %>%\n",
    "  dplyr::select(compound_id, disease_id) %>%\n",
    "  dplyr::bind_cols(dplyr::data_frame(training_prediction = fit$y_pred))"
   ]
  },
  {
   "cell_type": "code",
   "execution_count": null,
   "metadata": {
    "collapsed": false,
    "scrolled": true
   },
   "outputs": [],
   "source": [
    "fit$coef_df %>% readr::write_tsv('model/coefficient.tsv')"
   ]
  },
  {
   "cell_type": "code",
   "execution_count": null,
   "metadata": {
    "collapsed": false
   },
   "outputs": [],
   "source": [
    "# training performance\n",
    "fit$vtm[c('auroc', 'auprc', 'tjur')]"
   ]
  },
  {
   "cell_type": "code",
   "execution_count": null,
   "metadata": {
    "collapsed": false
   },
   "outputs": [],
   "source": [
    "# prior performance on training\n",
    "vtm = hetior::calc_vtms(y_true = train_df$status, y_pred = train_df$prior_prob, T)\n",
    "vtm[c('auroc', 'auprc', 'tjur')]"
   ]
  },
  {
   "cell_type": "code",
   "execution_count": null,
   "metadata": {
    "collapsed": false
   },
   "outputs": [],
   "source": [
    "# Prevalence of positives as percent\n",
    "y_true = feature_df$status\n",
    "scales::percent(mean(y_true))"
   ]
  },
  {
   "cell_type": "code",
   "execution_count": null,
   "metadata": {
    "collapsed": false
   },
   "outputs": [],
   "source": [
    "# prior performance on all observations\n",
    "vtm = hetior::calc_vtms(y_true = feature_df$status, y_pred = feature_df$prior_prob)\n",
    "vtm[c('auroc', 'auprc')]"
   ]
  },
  {
   "cell_type": "code",
   "execution_count": null,
   "metadata": {
    "collapsed": false
   },
   "outputs": [],
   "source": [
    "sum(feature_df$prior_prob)"
   ]
  },
  {
   "cell_type": "code",
   "execution_count": null,
   "metadata": {
    "collapsed": false
   },
   "outputs": [],
   "source": [
    "X_all = feature_df %>%\n",
    "  dplyr::mutate(prior_logit = boot::logit(mean(y_true))) %>%\n",
    "  dplyr::select(one_of(colnames(X_train))) %>%\n",
    "  as.matrix()\n",
    "y_pred = hetior::glmnet_predict(fit$cv_model, X = X_all, s = 'lambda.1se')"
   ]
  },
  {
   "cell_type": "code",
   "execution_count": null,
   "metadata": {
    "collapsed": false
   },
   "outputs": [],
   "source": [
    "predict_df = feature_df %>%\n",
    "  dplyr::select(compound_id:category, status) %>%\n",
    "  dplyr::mutate(prediction = y_pred) %>%\n",
    "  dplyr::left_join(train_pred_df)"
   ]
  },
  {
   "cell_type": "code",
   "execution_count": null,
   "metadata": {
    "collapsed": false
   },
   "outputs": [],
   "source": [
    "# Prediction performance\n",
    "vtm = hetior::calc_vtms(y_true = predict_df$status, y_pred = predict_df$prediction, T)\n",
    "vtm[c('auroc', 'auprc', 'tjur')]"
   ]
  },
  {
   "cell_type": "code",
   "execution_count": null,
   "metadata": {
    "collapsed": false
   },
   "outputs": [],
   "source": [
    "predict_df %>%\n",
    "  dplyr::arrange(desc(prediction)) %>%\n",
    "  head(5)"
   ]
  },
  {
   "cell_type": "code",
   "execution_count": null,
   "metadata": {
    "collapsed": true
   },
   "outputs": [],
   "source": [
    "predict_df %>% readr::write_tsv('predictions/probabilities.tsv', na = '')"
   ]
  }
 ],
 "metadata": {
  "kernelspec": {
   "display_name": "R",
   "language": "R",
   "name": "ir"
  },
  "language_info": {
   "codemirror_mode": "r",
   "file_extension": ".r",
   "mimetype": "text/x-r-source",
   "name": "R",
   "pygments_lexer": "r",
   "version": "3.2.2"
  }
 },
 "nbformat": 4,
 "nbformat_minor": 0
}
