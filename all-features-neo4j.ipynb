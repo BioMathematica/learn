{
 "cells": [
  {
   "cell_type": "markdown",
   "metadata": {},
   "source": [
    "# Assign positives and negatives "
   ]
  },
  {
   "cell_type": "code",
   "execution_count": null,
   "metadata": {
    "collapsed": true
   },
   "outputs": [],
   "source": [
    "import itertools\n",
    "import random\n",
    "import sys\n",
    "\n",
    "import py2neo\n",
    "import pandas"
   ]
  },
  {
   "cell_type": "markdown",
   "metadata": {},
   "source": [
    "## Startup neo4j and connections"
   ]
  },
  {
   "cell_type": "code",
   "execution_count": null,
   "metadata": {
    "collapsed": false
   },
   "outputs": [],
   "source": [
    "# server.py script in directory containing neo4j instances\n",
    "directory = '../construct/integrate/neo4j/'\n",
    "sys.path.insert(0, directory)\n",
    "import servers\n",
    "instances = servers.get_instances(directory)"
   ]
  },
  {
   "cell_type": "code",
   "execution_count": null,
   "metadata": {
    "collapsed": false
   },
   "outputs": [],
   "source": [
    "servers.start_all(instances)"
   ]
  },
  {
   "cell_type": "code",
   "execution_count": null,
   "metadata": {
    "collapsed": false
   },
   "outputs": [],
   "source": [
    "for instance in instances:\n",
    "    uri = 'http://localhost:{}/db/data/'.format(instance['port'])\n",
    "    instance['py2neo'] = py2neo.Graph(uri)"
   ]
  },
  {
   "cell_type": "markdown",
   "metadata": {},
   "source": [
    "## Create partitions"
   ]
  },
  {
   "cell_type": "code",
   "execution_count": null,
   "metadata": {
    "collapsed": true
   },
   "outputs": [],
   "source": [
    "def to_df(record_list):\n",
    "    \"\"\"Convert a py2neo RecordList to a dataframe\"\"\"\n",
    "    return pandas.DataFrame(record_list.records, columns = record_list.columns)"
   ]
  },
  {
   "cell_type": "code",
   "execution_count": null,
   "metadata": {
    "collapsed": false
   },
   "outputs": [],
   "source": [
    "indication_query = '''\n",
    "MATCH (compound:Compound)-[rel]->(disease:Disease)\n",
    "RETURN\n",
    "  compound.identifier AS compound_id,\n",
    "  compound.name AS compound_name,\n",
    "  disease.identifier AS disease_id,\n",
    "  disease.name AS disease_name,\n",
    "  type(rel) AS rel_type\n",
    "ORDER BY\n",
    "  disease_name, rel_type, compound_name\n",
    "'''\n",
    "\n",
    "def summarize(df):\n",
    "    series = pandas.Series()\n",
    "    series['treats'] = sum(df.rel_type == 'TREATS_CtD')\n",
    "    series['palliates'] = sum(df.rel_type == 'PALLIATES_CpD')\n",
    "    return series\n",
    "\n",
    "def partition(neo):\n",
    "    \"\"\"\n",
    "    Extract negative and positive compound-disease pairs from a py2neo.Graph.\n",
    "    \"\"\"\n",
    "    indication_df = to_df(neo.cypher.execute(indication_query))\n",
    "    compound_df = indication_df.groupby(['compound_id', 'compound_name']).apply(summarize).reset_index().sort_values(['treats', 'palliates'], ascending=False)\n",
    "    disease_df = indication_df.groupby(['disease_id', 'disease_name']).apply(summarize).reset_index().sort_values(['treats', 'palliates'], ascending=False)\n",
    "    compounds = compound_df.query(\"treats > 0\").compound_id\n",
    "    diseases = disease_df.query(\"treats > 0\").disease_id\n",
    "    indication_df = indication_df.query(\"compound_id in @compounds and disease_id in @diseases\")\n",
    "    non_negatives = set(zip(indication_df.compound_id, indication_df.disease_id))\n",
    "    indication_df = indication_df.query(\"rel_type == 'TREATS_CtD'\")\n",
    "    positives = set(zip(indication_df.compound_id, indication_df.disease_id))\n",
    "    negatives = set(itertools.product(compounds, diseases)) - non_negatives\n",
    "    negatives = random.sample(negatives, k=len(positives) * 4)\n",
    "    rows = list()\n",
    "    for status, pairs in (0, negatives), (1, positives):\n",
    "        for drug, disease in pairs:\n",
    "            rows.append((drug, disease, status))\n",
    "    df = pandas.DataFrame(rows, columns=['compound_id', 'compound_name', 'disease_id', 'disease_name', 'status'])\n",
    "    df = df.sort_values(['disease_id', 'status', 'compound_id'])\n",
    "    return df"
   ]
  },
  {
   "cell_type": "code",
   "execution_count": null,
   "metadata": {
    "collapsed": false
   },
   "outputs": [],
   "source": [
    "part_dfs = list()\n",
    "for instance in instances:\n",
    "    random.seed(0, version=2)\n",
    "    part_df = partition(instance['py2neo'])\n",
    "    part_df.insert(0, 'hetnet', instance['name'])\n",
    "    part_df['neo'] = instance['py2neo']\n",
    "    part_dfs.append(part_df)\n",
    "part_df = pandas.concat(part_dfs)\n",
    "part_df = part_df.sort_values(['compound_id', 'disease_id', 'hetnet'])"
   ]
  },
  {
   "cell_type": "code",
   "execution_count": 27,
   "metadata": {
    "collapsed": false
   },
   "outputs": [
    {
     "data": {
      "text/html": [
       "<div>\n",
       "<table border=\"1\" class=\"dataframe\">\n",
       "  <thead>\n",
       "    <tr style=\"text-align: right;\">\n",
       "      <th></th>\n",
       "      <th>drugbank_id</th>\n",
       "      <th>doid_id</th>\n",
       "      <th>status</th>\n",
       "      <th>hetnet</th>\n",
       "      <th>neo</th>\n",
       "    </tr>\n",
       "  </thead>\n",
       "  <tbody>\n",
       "    <tr>\n",
       "      <th>2033</th>\n",
       "      <td>DB00014</td>\n",
       "      <td>DOID:1024</td>\n",
       "      <td>0</td>\n",
       "      <td>hetio-ind_perm-1</td>\n",
       "      <td>&lt;Graph uri='http://localhost:7501/db/data/'&gt;</td>\n",
       "    </tr>\n",
       "    <tr>\n",
       "      <th>3352</th>\n",
       "      <td>DB00014</td>\n",
       "      <td>DOID:10283</td>\n",
       "      <td>1</td>\n",
       "      <td>hetio-ind</td>\n",
       "      <td>&lt;Graph uri='http://localhost:7474/db/data/'&gt;</td>\n",
       "    </tr>\n",
       "    <tr>\n",
       "      <th>3356</th>\n",
       "      <td>DB00014</td>\n",
       "      <td>DOID:10283</td>\n",
       "      <td>1</td>\n",
       "      <td>hetio-ind_perm-1</td>\n",
       "      <td>&lt;Graph uri='http://localhost:7501/db/data/'&gt;</td>\n",
       "    </tr>\n",
       "    <tr>\n",
       "      <th>1937</th>\n",
       "      <td>DB00014</td>\n",
       "      <td>DOID:10652</td>\n",
       "      <td>0</td>\n",
       "      <td>hetio-ind_perm-2</td>\n",
       "      <td>&lt;Graph uri='http://localhost:7502/db/data/'&gt;</td>\n",
       "    </tr>\n",
       "    <tr>\n",
       "      <th>3261</th>\n",
       "      <td>DB00014</td>\n",
       "      <td>DOID:10763</td>\n",
       "      <td>1</td>\n",
       "      <td>hetio-ind_perm-0</td>\n",
       "      <td>&lt;Graph uri='http://localhost:7500/db/data/'&gt;</td>\n",
       "    </tr>\n",
       "  </tbody>\n",
       "</table>\n",
       "</div>"
      ],
      "text/plain": [
       "     drugbank_id     doid_id  status            hetnet  \\\n",
       "2033     DB00014   DOID:1024       0  hetio-ind_perm-1   \n",
       "3352     DB00014  DOID:10283       1         hetio-ind   \n",
       "3356     DB00014  DOID:10283       1  hetio-ind_perm-1   \n",
       "1937     DB00014  DOID:10652       0  hetio-ind_perm-2   \n",
       "3261     DB00014  DOID:10763       1  hetio-ind_perm-0   \n",
       "\n",
       "                                               neo  \n",
       "2033  <Graph uri='http://localhost:7501/db/data/'>  \n",
       "3352  <Graph uri='http://localhost:7474/db/data/'>  \n",
       "3356  <Graph uri='http://localhost:7501/db/data/'>  \n",
       "1937  <Graph uri='http://localhost:7502/db/data/'>  \n",
       "3261  <Graph uri='http://localhost:7500/db/data/'>  "
      ]
     },
     "execution_count": 27,
     "metadata": {},
     "output_type": "execute_result"
    }
   ],
   "source": [
    "part_df.head()"
   ]
  },
  {
   "cell_type": "code",
   "execution_count": null,
   "metadata": {
    "collapsed": true
   },
   "outputs": [],
   "source": [
    "part_df.iloc[:, :4].to_csv('data/all-features/partitions.tsv', sep='\\t', index=False)"
   ]
  },
  {
   "cell_type": "code",
   "execution_count": 26,
   "metadata": {
    "collapsed": false
   },
   "outputs": [
    {
     "data": {
      "text/plain": [
       "22650"
      ]
     },
     "execution_count": 26,
     "metadata": {},
     "output_type": "execute_result"
    }
   ],
   "source": [
    "len(part_df)"
   ]
  },
  {
   "cell_type": "markdown",
   "metadata": {},
   "source": [
    "## Compute features"
   ]
  },
  {
   "cell_type": "code",
   "execution_count": null,
   "metadata": {
    "collapsed": true
   },
   "outputs": [],
   "source": [
    "import threading\n",
    "import concurrent.futures\n",
    "import bz2\n",
    "import csv\n",
    "import time\n",
    "\n",
    "import pandas\n",
    "import py2neo\n",
    "\n",
    "import hetio.readwrite\n",
    "import hetio.neo4j"
   ]
  },
  {
   "cell_type": "code",
   "execution_count": null,
   "metadata": {
    "collapsed": true
   },
   "outputs": [],
   "source": [
    "# Read hetnet metagraph\n",
    "path = 'https://github.com/dhimmel/integrate/raw/d68b823bf2167e7ab7f0e784d1280200c33fb3bf/data/metagraph.json'\n",
    "metagraph = hetio.readwrite.read_metagraph(path)"
   ]
  },
  {
   "cell_type": "code",
   "execution_count": 29,
   "metadata": {
    "collapsed": true
   },
   "outputs": [],
   "source": [
    "# Cypher DWPC query parameters\n",
    "dwpc_query_options = {\n",
    "    'property': 'identifier',\n",
    "    'using': True,\n",
    "    'unique_nodes': 'labeled',\n",
    "}"
   ]
  },
  {
   "cell_type": "code",
   "execution_count": 30,
   "metadata": {
    "collapsed": true
   },
   "outputs": [],
   "source": [
    "## Todo: exclude metapaths with all 4 expression edges"
   ]
  },
  {
   "cell_type": "code",
   "execution_count": 31,
   "metadata": {
    "collapsed": false
   },
   "outputs": [
    {
     "data": {
      "text/plain": [
       "1198"
      ]
     },
     "execution_count": 31,
     "metadata": {},
     "output_type": "execute_result"
    }
   ],
   "source": [
    "# Extract metapaths\n",
    "metapaths = metagraph.extract_metapaths('compound', 'disease', max_length=4)\n",
    "metapaths = [metapath for metapath in metapaths if len(metapath) > 1]\n",
    "metapaths.sort(key=lambda x: [len(x), str(x)])\n",
    "metapath_query_tuples = [(str(metapath), hetio.neo4j.construct_dwpc_query(metapath, **dwpc_query_options)) for metapath in metapaths]\n",
    "len(metapaths)"
   ]
  },
  {
   "cell_type": "code",
   "execution_count": 32,
   "metadata": {
    "collapsed": false
   },
   "outputs": [
    {
     "data": {
      "text/plain": [
       "27134700"
      ]
     },
     "execution_count": 32,
     "metadata": {},
     "output_type": "execute_result"
    }
   ],
   "source": [
    "# Total number of queries\n",
    "total_queries = len(metapaths) * len(part_df)\n",
    "total_queries"
   ]
  },
  {
   "cell_type": "code",
   "execution_count": null,
   "metadata": {
    "collapsed": false
   },
   "outputs": [],
   "source": [
    "part_series = [row for i, row in part_df.iterrows()]\n",
    "\n",
    "def generate_parameters(max_elems=None):\n",
    "    \"\"\"Generate compound, disease, metapath combinations\"\"\"\n",
    "    n = 0\n",
    "    for metapath, query in metapath_query_tuples:\n",
    "        for series in part_series:\n",
    "            if max_elems is not None and n == max_elems:\n",
    "                break\n",
    "            yield {\n",
    "                'neo': series['neo'],\n",
    "                'hetnet': series['hetnet'],\n",
    "                'compound_id': series['compound_id'],\n",
    "                'disease_id': series['disease_id'],\n",
    "                'metapath': metapath,\n",
    "                'query': query,\n",
    "                'w': 0.4,\n",
    "            }\n",
    "            n += 1"
   ]
  },
  {
   "cell_type": "code",
   "execution_count": null,
   "metadata": {
    "collapsed": true
   },
   "outputs": [],
   "source": [
    "def compute_dwpc(neo, hetnet, query, metapath, compound_id, disease_id, w):\n",
    "    \"\"\"Execute the neo4j query and write results to file\"\"\"\n",
    "    start = time.time()\n",
    "    results = neo.cypher.execute(query, source=compound_id, target=disease_id, w=w)\n",
    "    record = results.one\n",
    "    seconds = '{0:.4g}'.format(time.time() - start)\n",
    "    row = hetnet, compound_id, disease_id, metapath, record['PC'], w, '{0:.6g}'.format(record['DWPC']), seconds\n",
    "    with writer_lock:\n",
    "        writer.writerow(row)"
   ]
  },
  {
   "cell_type": "code",
   "execution_count": null,
   "metadata": {
    "collapsed": false,
    "scrolled": false
   },
   "outputs": [],
   "source": [
    "%%time\n",
    "\n",
    "# Parameters\n",
    "workers = 12\n",
    "max_elems = None\n",
    "\n",
    "# Prepare writer\n",
    "path = 'data/all-features/dwpc.tsv.bz2'\n",
    "write_file = bz2.open(path, 'wt')\n",
    "writer = csv.writer(write_file, delimiter='\\t')\n",
    "writer.writerow(['hetnet', 'compound_id', 'disease_id', 'metapath', 'PC', 'w', 'DWPC', 'seconds'])\n",
    "\n",
    "# Create ThreadPoolExecutor\n",
    "executor = concurrent.futures.ThreadPoolExecutor(max_workers=workers)\n",
    "writer_lock = threading.Lock()\n",
    "\n",
    "# Submit jobs\n",
    "n_queries = 0\n",
    "for params in generate_parameters(max_elems):\n",
    "    while executor._work_queue.qsize() > 10000:\n",
    "        print('Submitted queries: {} ({:.4%})'.format(n_queries, n_queries / total_queries), end='\\r')\n",
    "        time.sleep(1)\n",
    "    executor.submit(compute_dwpc, **params)\n",
    "    n_queries += 1\n",
    "\n",
    "# Shutdown and close\n",
    "executor.shutdown()\n",
    "write_file.close()\n",
    "\n",
    "n_queries"
   ]
  },
  {
   "cell_type": "code",
   "execution_count": null,
   "metadata": {
    "collapsed": false
   },
   "outputs": [],
   "source": [
    "servers.stop_all(instances)"
   ]
  },
  {
   "cell_type": "code",
   "execution_count": 25,
   "metadata": {
    "collapsed": false
   },
   "outputs": [
    {
     "data": {
      "text/plain": [
       "13790205"
      ]
     },
     "execution_count": 25,
     "metadata": {},
     "output_type": "execute_result"
    }
   ],
   "source": [
    "n_queries"
   ]
  }
 ],
 "metadata": {
  "kernelspec": {
   "display_name": "Python 3",
   "language": "python",
   "name": "python3"
  },
  "language_info": {
   "codemirror_mode": {
    "name": "ipython",
    "version": 3
   },
   "file_extension": ".py",
   "mimetype": "text/x-python",
   "name": "python",
   "nbconvert_exporter": "python",
   "pygments_lexer": "ipython3",
   "version": "3.5.1"
  }
 },
 "nbformat": 4,
 "nbformat_minor": 0
}
