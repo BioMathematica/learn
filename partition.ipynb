{
 "cells": [
  {
   "cell_type": "markdown",
   "metadata": {},
   "source": [
    "# Partition compound--disease pairs"
   ]
  },
  {
   "cell_type": "code",
   "execution_count": 21,
   "metadata": {
    "collapsed": true
   },
   "outputs": [],
   "source": [
    "import itertools\n",
    "import random\n",
    "import gzip\n",
    "\n",
    "import pandas\n",
    "\n",
    "import hetio.readwrite"
   ]
  },
  {
   "cell_type": "code",
   "execution_count": 2,
   "metadata": {
    "collapsed": false
   },
   "outputs": [
    {
     "name": "stdout",
     "output_type": "stream",
     "text": [
      "CPU times: user 2min 16s, sys: 12.6 s, total: 2min 28s\n",
      "Wall time: 2min 28s\n"
     ]
    }
   ],
   "source": [
    "%%time\n",
    "graph = hetio.readwrite.read_json('download/graph.json.gz')\n",
    "metagraph = graph.metagraph"
   ]
  },
  {
   "cell_type": "code",
   "execution_count": 5,
   "metadata": {
    "collapsed": true
   },
   "outputs": [],
   "source": [
    "compound = metagraph.get_node('compound')\n",
    "disease = metagraph.get_node('disease')\n",
    "\n",
    "metanode_to_nodes = graph.get_metanode_to_nodes()\n",
    "compounds = metanode_to_nodes[compound]\n",
    "diseases = metanode_to_nodes[disease]"
   ]
  },
  {
   "cell_type": "code",
   "execution_count": 6,
   "metadata": {
    "collapsed": false
   },
   "outputs": [],
   "source": [
    "rows = list()\n",
    "for compound, disease in itertools.product(compounds, diseases):\n",
    "    \n",
    "    compound_id = compound.get_id()\n",
    "    disease_id = disease.get_id()\n",
    "    edge_id = compound_id, disease_id, 'indication', 'both'\n",
    "    indication_edge = graph.edge_dict.get(edge_id)\n",
    "\n",
    "    row = pandas.Series()\n",
    "    row['compound_id'] = compound.identifier\n",
    "    row['compound_name'] = compound.name\n",
    "    row['disease_id'] = disease.identifier\n",
    "    row['disease_name'] = disease.name\n",
    "    row['indication'] = int(bool(indication_edge))\n",
    "    \n",
    "    rows.append(row)\n",
    "\n",
    "pair_df = pandas.DataFrame(rows)\n",
    "pair_df = pair_df.sort(['compound_id', 'disease_id'])"
   ]
  },
  {
   "cell_type": "code",
   "execution_count": 18,
   "metadata": {
    "collapsed": false
   },
   "outputs": [],
   "source": [
    "def add_percentile(df):\n",
    "    k = len(df)\n",
    "    df['percentile'] = random.sample(range(k), k)\n",
    "    df['percentile'] /= k\n",
    "    return df\n",
    "\n",
    "random.seed(0)\n",
    "pair_df = pair_df.groupby('indication').apply(add_percentile)\n",
    "pair_df = pair_df.sort(['compound_id', 'disease_id'])"
   ]
  },
  {
   "cell_type": "code",
   "execution_count": 19,
   "metadata": {
    "collapsed": false
   },
   "outputs": [
    {
     "data": {
      "text/html": [
       "<div>\n",
       "<table border=\"1\" class=\"dataframe\">\n",
       "  <thead>\n",
       "    <tr style=\"text-align: right;\">\n",
       "      <th></th>\n",
       "      <th>compound_id</th>\n",
       "      <th>compound_name</th>\n",
       "      <th>disease_id</th>\n",
       "      <th>disease_name</th>\n",
       "      <th>indication</th>\n",
       "      <th>percentile</th>\n",
       "    </tr>\n",
       "  </thead>\n",
       "  <tbody>\n",
       "    <tr>\n",
       "      <th>75917</th>\n",
       "      <td>DB00014</td>\n",
       "      <td>Goserelin</td>\n",
       "      <td>DOID:0050156</td>\n",
       "      <td>idiopathic pulmonary fibrosis</td>\n",
       "      <td>0</td>\n",
       "      <td>0.441142</td>\n",
       "    </tr>\n",
       "    <tr>\n",
       "      <th>75955</th>\n",
       "      <td>DB00014</td>\n",
       "      <td>Goserelin</td>\n",
       "      <td>DOID:0050425</td>\n",
       "      <td>restless legs syndrome</td>\n",
       "      <td>0</td>\n",
       "      <td>0.555469</td>\n",
       "    </tr>\n",
       "    <tr>\n",
       "      <th>75919</th>\n",
       "      <td>DB00014</td>\n",
       "      <td>Goserelin</td>\n",
       "      <td>DOID:0050741</td>\n",
       "      <td>alcohol dependence</td>\n",
       "      <td>0</td>\n",
       "      <td>0.070334</td>\n",
       "    </tr>\n",
       "    <tr>\n",
       "      <th>75922</th>\n",
       "      <td>DB00014</td>\n",
       "      <td>Goserelin</td>\n",
       "      <td>DOID:0050742</td>\n",
       "      <td>nicotine dependence</td>\n",
       "      <td>0</td>\n",
       "      <td>0.779067</td>\n",
       "    </tr>\n",
       "    <tr>\n",
       "      <th>75930</th>\n",
       "      <td>DB00014</td>\n",
       "      <td>Goserelin</td>\n",
       "      <td>DOID:0060073</td>\n",
       "      <td>Lymphatic system cancer</td>\n",
       "      <td>0</td>\n",
       "      <td>0.937534</td>\n",
       "    </tr>\n",
       "  </tbody>\n",
       "</table>\n",
       "</div>"
      ],
      "text/plain": [
       "      compound_id compound_name    disease_id                   disease_name  \\\n",
       "75917     DB00014     Goserelin  DOID:0050156  idiopathic pulmonary fibrosis   \n",
       "75955     DB00014     Goserelin  DOID:0050425         restless legs syndrome   \n",
       "75919     DB00014     Goserelin  DOID:0050741             alcohol dependence   \n",
       "75922     DB00014     Goserelin  DOID:0050742            nicotine dependence   \n",
       "75930     DB00014     Goserelin  DOID:0060073        Lymphatic system cancer   \n",
       "\n",
       "       indication  percentile  \n",
       "75917           0    0.441142  \n",
       "75955           0    0.555469  \n",
       "75919           0    0.070334  \n",
       "75922           0    0.779067  \n",
       "75930           0    0.937534  "
      ]
     },
     "execution_count": 19,
     "metadata": {},
     "output_type": "execute_result"
    }
   ],
   "source": [
    "pair_df.head()"
   ]
  },
  {
   "cell_type": "code",
   "execution_count": 13,
   "metadata": {
    "collapsed": false
   },
   "outputs": [
    {
     "data": {
      "text/plain": [
       "0.0065279554518774922"
      ]
     },
     "execution_count": 13,
     "metadata": {},
     "output_type": "execute_result"
    }
   ],
   "source": [
    "# Prevalence of indications\n",
    "pair_df.indication.mean()"
   ]
  },
  {
   "cell_type": "code",
   "execution_count": 14,
   "metadata": {
    "collapsed": false
   },
   "outputs": [
    {
     "data": {
      "text/plain": [
       "0    211236\n",
       "1      1388\n",
       "dtype: int64"
      ]
     },
     "execution_count": 14,
     "metadata": {},
     "output_type": "execute_result"
    }
   ],
   "source": [
    "pair_df.indication.value_counts()"
   ]
  },
  {
   "cell_type": "code",
   "execution_count": 25,
   "metadata": {
    "collapsed": true
   },
   "outputs": [],
   "source": [
    "with gzip.open('data/partition.tsv.gz', 'wt') as write_file:\n",
    "    pair_df.to_csv(write_file, sep='\\t', index=False, float_format='%.8g')"
   ]
  },
  {
   "cell_type": "code",
   "execution_count": null,
   "metadata": {
    "collapsed": true
   },
   "outputs": [],
   "source": []
  }
 ],
 "metadata": {
  "kernelspec": {
   "display_name": "Python 3",
   "language": "python",
   "name": "python3"
  },
  "language_info": {
   "codemirror_mode": {
    "name": "ipython",
    "version": 3
   },
   "file_extension": ".py",
   "mimetype": "text/x-python",
   "name": "python",
   "nbconvert_exporter": "python",
   "pygments_lexer": "ipython3",
   "version": "3.4.3"
  }
 },
 "nbformat": 4,
 "nbformat_minor": 0
}
