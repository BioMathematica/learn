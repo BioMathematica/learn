{
 "cells": [
  {
   "cell_type": "markdown",
   "metadata": {},
   "source": [
    "# Assign positives and negatives "
   ]
  },
  {
   "cell_type": "code",
   "execution_count": 7,
   "metadata": {
    "collapsed": true
   },
   "outputs": [],
   "source": [
    "import itertools\n",
    "import random\n",
    "import sys\n",
    "import json\n",
    "\n",
    "import py2neo\n",
    "import pandas"
   ]
  },
  {
   "cell_type": "markdown",
   "metadata": {},
   "source": [
    "## Startup neo4j and connections"
   ]
  },
  {
   "cell_type": "code",
   "execution_count": 8,
   "metadata": {
    "collapsed": false
   },
   "outputs": [],
   "source": [
    "with open('servers.json') as read_file:\n",
    "    instances = json.load(read_file)\n",
    "\n",
    "for instance in instances:\n",
    "    uri = 'http://localhost:{}/db/data/'.format(instance['port'])\n",
    "    instance['py2neo'] = py2neo.Graph(uri)"
   ]
  },
  {
   "cell_type": "markdown",
   "metadata": {},
   "source": [
    "## Create partitions"
   ]
  },
  {
   "cell_type": "code",
   "execution_count": 9,
   "metadata": {
    "collapsed": true
   },
   "outputs": [],
   "source": [
    "def to_df(record_list):\n",
    "    \"\"\"Convert a py2neo RecordList to a dataframe\"\"\"\n",
    "    return pandas.DataFrame(record_list.records, columns = record_list.columns)"
   ]
  },
  {
   "cell_type": "code",
   "execution_count": 25,
   "metadata": {
    "collapsed": false
   },
   "outputs": [],
   "source": [
    "indication_query = '''\n",
    "MATCH (compound:Compound)-[rel]->(disease:Disease)\n",
    "RETURN\n",
    "  compound.identifier AS compound_id,\n",
    "  compound.name AS compound_name,\n",
    "  disease.identifier AS disease_id,\n",
    "  disease.name AS disease_name,\n",
    "  type(rel) AS rel_type\n",
    "ORDER BY\n",
    "  disease_name, rel_type, compound_name\n",
    "'''\n",
    "\n",
    "def summarize(df, prefix=''):\n",
    "    series = pandas.Series()\n",
    "    series[prefix + 'treats'] = sum(df.rel_type == 'TREATS_CtD')\n",
    "    series[prefix + 'palliates'] = sum(df.rel_type == 'PALLIATES_CpD')\n",
    "    return series\n",
    "\n",
    "def partition(neo):\n",
    "    \"\"\"\n",
    "    Extract negative and positive compound-disease pairs from a py2neo.Graph.\n",
    "    \"\"\"\n",
    "    indication_df = to_df(neo.cypher.execute(indication_query))\n",
    "    compound_df = indication_df.groupby(['compound_id', 'compound_name']).apply(summarize, prefix='compound_').reset_index()\n",
    "    disease_df = indication_df.groupby(['disease_id', 'disease_name']).apply(summarize, prefix='disease_').reset_index()\n",
    "    compounds = compound_df.query(\"compound_treats > 0\").compound_id\n",
    "    diseases = disease_df.query(\"disease_treats > 0\").disease_id\n",
    "    indication_df = indication_df.query(\"compound_id in @compounds and disease_id in @diseases\")\n",
    "    non_negatives = set(zip(indication_df.compound_id, indication_df.disease_id))\n",
    "    indication_df = indication_df.query(\"rel_type == 'TREATS_CtD'\")\n",
    "    positives = set(zip(indication_df.compound_id, indication_df.disease_id))\n",
    "    negatives = set(itertools.product(compounds, diseases)) - non_negatives\n",
    "    negatives = random.sample(negatives, k=len(positives) * 4)\n",
    "    rows = list()\n",
    "    for status, pairs in (0, negatives), (1, positives):\n",
    "        for drug, disease in pairs:\n",
    "            rows.append((drug, disease, status))\n",
    "    df = pandas.DataFrame(rows, columns=['compound_id', 'disease_id', 'status'])\n",
    "    df = df.merge(compound_df).merge(disease_df)\n",
    "    df = df.sort_values(['disease_id', 'status', 'compound_id'])\n",
    "    return df"
   ]
  },
  {
   "cell_type": "code",
   "execution_count": 26,
   "metadata": {
    "collapsed": false,
    "scrolled": true
   },
   "outputs": [],
   "source": [
    "part_dfs = list()\n",
    "for instance in instances:\n",
    "    random.seed(0, version=2)\n",
    "    part_df = partition(instance['py2neo'])\n",
    "    part_df.insert(0, 'hetnet', instance['name'])\n",
    "    part_dfs.append(part_df)\n",
    "part_df = pandas.concat(part_dfs)\n",
    "part_df = part_df.sort_values(['compound_id', 'disease_id', 'hetnet'])"
   ]
  },
  {
   "cell_type": "code",
   "execution_count": 27,
   "metadata": {
    "collapsed": false
   },
   "outputs": [
    {
     "data": {
      "text/html": [
       "<div>\n",
       "<table border=\"1\" class=\"dataframe\">\n",
       "  <thead>\n",
       "    <tr style=\"text-align: right;\">\n",
       "      <th></th>\n",
       "      <th>hetnet</th>\n",
       "      <th>compound_id</th>\n",
       "      <th>disease_id</th>\n",
       "      <th>status</th>\n",
       "      <th>compound_name</th>\n",
       "      <th>compound_treats</th>\n",
       "      <th>compound_palliates</th>\n",
       "      <th>disease_name</th>\n",
       "      <th>disease_treats</th>\n",
       "      <th>disease_palliates</th>\n",
       "    </tr>\n",
       "  </thead>\n",
       "  <tbody>\n",
       "    <tr>\n",
       "      <th>1621</th>\n",
       "      <td>hetio-ind</td>\n",
       "      <td>DB00014</td>\n",
       "      <td>DOID:0050742</td>\n",
       "      <td>0</td>\n",
       "      <td>Goserelin</td>\n",
       "      <td>2</td>\n",
       "      <td>0</td>\n",
       "      <td>nicotine dependence</td>\n",
       "      <td>1</td>\n",
       "      <td>1</td>\n",
       "    </tr>\n",
       "    <tr>\n",
       "      <th>2017</th>\n",
       "      <td>hetio-ind_perm-1</td>\n",
       "      <td>DB00014</td>\n",
       "      <td>DOID:0050742</td>\n",
       "      <td>0</td>\n",
       "      <td>Goserelin</td>\n",
       "      <td>2</td>\n",
       "      <td>0</td>\n",
       "      <td>nicotine dependence</td>\n",
       "      <td>1</td>\n",
       "      <td>1</td>\n",
       "    </tr>\n",
       "    <tr>\n",
       "      <th>1809</th>\n",
       "      <td>hetio-ind</td>\n",
       "      <td>DB00014</td>\n",
       "      <td>DOID:10283</td>\n",
       "      <td>1</td>\n",
       "      <td>Goserelin</td>\n",
       "      <td>2</td>\n",
       "      <td>0</td>\n",
       "      <td>Prostate cancer</td>\n",
       "      <td>21</td>\n",
       "      <td>9</td>\n",
       "    </tr>\n",
       "    <tr>\n",
       "      <th>258</th>\n",
       "      <td>hetio-ind_perm-5</td>\n",
       "      <td>DB00014</td>\n",
       "      <td>DOID:10283</td>\n",
       "      <td>0</td>\n",
       "      <td>Goserelin</td>\n",
       "      <td>1</td>\n",
       "      <td>0</td>\n",
       "      <td>Prostate cancer</td>\n",
       "      <td>10</td>\n",
       "      <td>5</td>\n",
       "    </tr>\n",
       "    <tr>\n",
       "      <th>2995</th>\n",
       "      <td>hetio-ind_perm-2</td>\n",
       "      <td>DB00014</td>\n",
       "      <td>DOID:10652</td>\n",
       "      <td>0</td>\n",
       "      <td>Goserelin</td>\n",
       "      <td>2</td>\n",
       "      <td>0</td>\n",
       "      <td>Alzheimer's disease</td>\n",
       "      <td>4</td>\n",
       "      <td>5</td>\n",
       "    </tr>\n",
       "  </tbody>\n",
       "</table>\n",
       "</div>"
      ],
      "text/plain": [
       "                hetnet compound_id    disease_id  status compound_name  \\\n",
       "1621         hetio-ind     DB00014  DOID:0050742       0     Goserelin   \n",
       "2017  hetio-ind_perm-1     DB00014  DOID:0050742       0     Goserelin   \n",
       "1809         hetio-ind     DB00014    DOID:10283       1     Goserelin   \n",
       "258   hetio-ind_perm-5     DB00014    DOID:10283       0     Goserelin   \n",
       "2995  hetio-ind_perm-2     DB00014    DOID:10652       0     Goserelin   \n",
       "\n",
       "      compound_treats  compound_palliates         disease_name  \\\n",
       "1621                2                   0  nicotine dependence   \n",
       "2017                2                   0  nicotine dependence   \n",
       "1809                2                   0      Prostate cancer   \n",
       "258                 1                   0      Prostate cancer   \n",
       "2995                2                   0  Alzheimer's disease   \n",
       "\n",
       "      disease_treats  disease_palliates  \n",
       "1621               1                  1  \n",
       "2017               1                  1  \n",
       "1809              21                  9  \n",
       "258               10                  5  \n",
       "2995               4                  5  "
      ]
     },
     "execution_count": 27,
     "metadata": {},
     "output_type": "execute_result"
    }
   ],
   "source": [
    "part_df.head()"
   ]
  },
  {
   "cell_type": "code",
   "execution_count": null,
   "metadata": {
    "collapsed": true
   },
   "outputs": [],
   "source": [
    "part_df.to_csv('data/partitions.tsv', sep='\\t', index=False)"
   ]
  },
  {
   "cell_type": "code",
   "execution_count": 30,
   "metadata": {
    "collapsed": false
   },
   "outputs": [
    {
     "data": {
      "text/plain": [
       "16865"
      ]
     },
     "execution_count": 30,
     "metadata": {},
     "output_type": "execute_result"
    }
   ],
   "source": [
    "len(part_df)"
   ]
  },
  {
   "cell_type": "code",
   "execution_count": 28,
   "metadata": {
    "collapsed": false
   },
   "outputs": [
    {
     "data": {
      "text/plain": [
       "387"
      ]
     },
     "execution_count": 28,
     "metadata": {},
     "output_type": "execute_result"
    }
   ],
   "source": [
    "# Number of compounds\n",
    "part_df.compound_id.nunique()"
   ]
  },
  {
   "cell_type": "code",
   "execution_count": 34,
   "metadata": {
    "collapsed": false
   },
   "outputs": [
    {
     "data": {
      "text/plain": [
       "77"
      ]
     },
     "execution_count": 34,
     "metadata": {},
     "output_type": "execute_result"
    }
   ],
   "source": [
    "# Number of diseases\n",
    "part_df.disease_id.nunique()"
   ]
  },
  {
   "cell_type": "code",
   "execution_count": 33,
   "metadata": {
    "collapsed": false
   },
   "outputs": [
    {
     "data": {
      "text/html": [
       "<div>\n",
       "<table border=\"1\" class=\"dataframe\">\n",
       "  <thead>\n",
       "    <tr style=\"text-align: right;\">\n",
       "      <th>status</th>\n",
       "      <th>0</th>\n",
       "      <th>1</th>\n",
       "    </tr>\n",
       "    <tr>\n",
       "      <th>hetnet</th>\n",
       "      <th></th>\n",
       "      <th></th>\n",
       "    </tr>\n",
       "  </thead>\n",
       "  <tbody>\n",
       "    <tr>\n",
       "      <th>hetio-ind</th>\n",
       "      <td>3020</td>\n",
       "      <td>755</td>\n",
       "    </tr>\n",
       "    <tr>\n",
       "      <th>hetio-ind_perm-1</th>\n",
       "      <td>3020</td>\n",
       "      <td>755</td>\n",
       "    </tr>\n",
       "    <tr>\n",
       "      <th>hetio-ind_perm-2</th>\n",
       "      <td>3020</td>\n",
       "      <td>755</td>\n",
       "    </tr>\n",
       "    <tr>\n",
       "      <th>hetio-ind_perm-3</th>\n",
       "      <td>20</td>\n",
       "      <td>5</td>\n",
       "    </tr>\n",
       "    <tr>\n",
       "      <th>hetio-ind_perm-4</th>\n",
       "      <td>3020</td>\n",
       "      <td>755</td>\n",
       "    </tr>\n",
       "    <tr>\n",
       "      <th>hetio-ind_perm-5</th>\n",
       "      <td>1392</td>\n",
       "      <td>348</td>\n",
       "    </tr>\n",
       "  </tbody>\n",
       "</table>\n",
       "</div>"
      ],
      "text/plain": [
       "status               0    1\n",
       "hetnet                     \n",
       "hetio-ind         3020  755\n",
       "hetio-ind_perm-1  3020  755\n",
       "hetio-ind_perm-2  3020  755\n",
       "hetio-ind_perm-3    20    5\n",
       "hetio-ind_perm-4  3020  755\n",
       "hetio-ind_perm-5  1392  348"
      ]
     },
     "execution_count": 33,
     "metadata": {},
     "output_type": "execute_result"
    }
   ],
   "source": [
    "pandas.crosstab(part_df.hetnet, part_df.status)"
   ]
  }
 ],
 "metadata": {
  "kernelspec": {
   "display_name": "Python 3",
   "language": "python",
   "name": "python3"
  },
  "language_info": {
   "codemirror_mode": {
    "name": "ipython",
    "version": 3
   },
   "file_extension": ".py",
   "mimetype": "text/x-python",
   "name": "python",
   "nbconvert_exporter": "python",
   "pygments_lexer": "ipython3",
   "version": "3.5.1"
  }
 },
 "nbformat": 4,
 "nbformat_minor": 0
}
