{
 "cells": [
  {
   "cell_type": "markdown",
   "metadata": {},
   "source": [
    "# Transform and split DWPCs, assess performance"
   ]
  },
  {
   "cell_type": "code",
   "execution_count": 1,
   "metadata": {
    "collapsed": true
   },
   "outputs": [],
   "source": [
    "import itertools\n",
    "import bz2\n",
    "\n",
    "import pandas\n",
    "import numpy\n",
    "import sklearn.metrics"
   ]
  },
  {
   "cell_type": "code",
   "execution_count": 2,
   "metadata": {
    "collapsed": true
   },
   "outputs": [],
   "source": [
    "unperm_name = 'rephetio-v2.0'"
   ]
  },
  {
   "cell_type": "code",
   "execution_count": 3,
   "metadata": {
    "collapsed": true
   },
   "outputs": [],
   "source": [
    "feature_df = pandas.read_table('data/matrix/features.tsv.bz2')\n",
    "feature_type_df = pandas.read_table('data/matrix/feature-type.tsv')"
   ]
  },
  {
   "cell_type": "code",
   "execution_count": 4,
   "metadata": {
    "collapsed": false
   },
   "outputs": [
    {
     "data": {
      "text/html": [
       "<div>\n",
       "<table border=\"1\" class=\"dataframe\">\n",
       "  <thead>\n",
       "    <tr style=\"text-align: right;\">\n",
       "      <th></th>\n",
       "      <th>hetnet</th>\n",
       "      <th>compound_id</th>\n",
       "      <th>disease_id</th>\n",
       "      <th>status</th>\n",
       "      <th>primary</th>\n",
       "      <th>disease_name</th>\n",
       "      <th>compound_name</th>\n",
       "      <th>prior_prob</th>\n",
       "      <th>CbG</th>\n",
       "      <th>CcSE</th>\n",
       "      <th>...</th>\n",
       "      <th>CuGuDpCpD</th>\n",
       "      <th>CuGuDpCtD</th>\n",
       "      <th>CuGuDpSpD</th>\n",
       "      <th>CuGuDrD</th>\n",
       "      <th>CuGuDrDrD</th>\n",
       "      <th>CuGuDtCpD</th>\n",
       "      <th>CuGuDtCtD</th>\n",
       "      <th>CuGuDuGaD</th>\n",
       "      <th>CuGuDuGdD</th>\n",
       "      <th>CuGuDuGuD</th>\n",
       "    </tr>\n",
       "  </thead>\n",
       "  <tbody>\n",
       "    <tr>\n",
       "      <th>0</th>\n",
       "      <td>rephetio-v2.0_perm-5</td>\n",
       "      <td>DB00014</td>\n",
       "      <td>DOID:0060073</td>\n",
       "      <td>0</td>\n",
       "      <td>1</td>\n",
       "      <td>lymphatic system cancer</td>\n",
       "      <td>Goserelin</td>\n",
       "      <td>0.022675</td>\n",
       "      <td>2</td>\n",
       "      <td>249</td>\n",
       "      <td>...</td>\n",
       "      <td>0.0</td>\n",
       "      <td>0.0</td>\n",
       "      <td>0.0</td>\n",
       "      <td>0.0</td>\n",
       "      <td>0.0</td>\n",
       "      <td>0.0</td>\n",
       "      <td>0.000000</td>\n",
       "      <td>0.000000</td>\n",
       "      <td>0.0</td>\n",
       "      <td>0.0</td>\n",
       "    </tr>\n",
       "    <tr>\n",
       "      <th>1</th>\n",
       "      <td>rephetio-v2.0</td>\n",
       "      <td>DB00091</td>\n",
       "      <td>DOID:0060073</td>\n",
       "      <td>0</td>\n",
       "      <td>1</td>\n",
       "      <td>lymphatic system cancer</td>\n",
       "      <td>Cyclosporine</td>\n",
       "      <td>0.047417</td>\n",
       "      <td>30</td>\n",
       "      <td>344</td>\n",
       "      <td>...</td>\n",
       "      <td>0.0</td>\n",
       "      <td>0.0</td>\n",
       "      <td>0.0</td>\n",
       "      <td>0.0</td>\n",
       "      <td>0.0</td>\n",
       "      <td>0.0</td>\n",
       "      <td>0.028591</td>\n",
       "      <td>0.004754</td>\n",
       "      <td>0.0</td>\n",
       "      <td>0.0</td>\n",
       "    </tr>\n",
       "  </tbody>\n",
       "</table>\n",
       "<p>2 rows × 1230 columns</p>\n",
       "</div>"
      ],
      "text/plain": [
       "                 hetnet compound_id    disease_id  status  primary  \\\n",
       "0  rephetio-v2.0_perm-5     DB00014  DOID:0060073       0        1   \n",
       "1         rephetio-v2.0     DB00091  DOID:0060073       0        1   \n",
       "\n",
       "              disease_name compound_name  prior_prob  CbG  CcSE    ...      \\\n",
       "0  lymphatic system cancer     Goserelin    0.022675    2   249    ...       \n",
       "1  lymphatic system cancer  Cyclosporine    0.047417   30   344    ...       \n",
       "\n",
       "   CuGuDpCpD  CuGuDpCtD  CuGuDpSpD  CuGuDrD  CuGuDrDrD  CuGuDtCpD  CuGuDtCtD  \\\n",
       "0        0.0        0.0        0.0      0.0        0.0        0.0   0.000000   \n",
       "1        0.0        0.0        0.0      0.0        0.0        0.0   0.028591   \n",
       "\n",
       "   CuGuDuGaD  CuGuDuGdD  CuGuDuGuD  \n",
       "0   0.000000        0.0        0.0  \n",
       "1   0.004754        0.0        0.0  \n",
       "\n",
       "[2 rows x 1230 columns]"
      ]
     },
     "execution_count": 4,
     "metadata": {},
     "output_type": "execute_result"
    }
   ],
   "source": [
    "feature_df.head(2)"
   ]
  },
  {
   "cell_type": "code",
   "execution_count": 5,
   "metadata": {
    "collapsed": false
   },
   "outputs": [
    {
     "data": {
      "text/html": [
       "<div>\n",
       "<table border=\"1\" class=\"dataframe\">\n",
       "  <thead>\n",
       "    <tr style=\"text-align: right;\">\n",
       "      <th></th>\n",
       "      <th>feature</th>\n",
       "      <th>feature_type</th>\n",
       "      <th>unperm_mean</th>\n",
       "      <th>unperm_sd</th>\n",
       "    </tr>\n",
       "  </thead>\n",
       "  <tbody>\n",
       "    <tr>\n",
       "      <th>0</th>\n",
       "      <td>prior_prob</td>\n",
       "      <td>prior</td>\n",
       "      <td>0.040476</td>\n",
       "      <td>0.073232</td>\n",
       "    </tr>\n",
       "    <tr>\n",
       "      <th>1</th>\n",
       "      <td>CbG</td>\n",
       "      <td>degree</td>\n",
       "      <td>11.311000</td>\n",
       "      <td>12.444000</td>\n",
       "    </tr>\n",
       "  </tbody>\n",
       "</table>\n",
       "</div>"
      ],
      "text/plain": [
       "      feature feature_type  unperm_mean  unperm_sd\n",
       "0  prior_prob        prior     0.040476   0.073232\n",
       "1         CbG       degree    11.311000  12.444000"
      ]
     },
     "execution_count": 5,
     "metadata": {},
     "output_type": "execute_result"
    }
   ],
   "source": [
    "feature_type_df.head(2)"
   ]
  },
  {
   "cell_type": "code",
   "execution_count": 6,
   "metadata": {
    "collapsed": false
   },
   "outputs": [],
   "source": [
    "def transform_dwpcs(x, scaler):\n",
    "    x = numpy.array(x)\n",
    "    return numpy.arcsinh(x / scaler)\n",
    "\n",
    "transformed_df = feature_df.copy()\n",
    "dwpc_features = feature_type_df.query(\"feature_type == 'dwpc'\").feature\n",
    "feature_to_scaler = dict(zip(feature_type_df.feature, feature_type_df.unperm_mean))\n",
    "for column in dwpc_features:\n",
    "    transformed_df[column] = transform_dwpcs(transformed_df[column], feature_to_scaler[column])"
   ]
  },
  {
   "cell_type": "code",
   "execution_count": 7,
   "metadata": {
    "collapsed": false
   },
   "outputs": [],
   "source": [
    "dwpc_columns = list()\n",
    "pdwpc_columns = list()\n",
    "rdwpc_columns = list()\n",
    "for column in dwpc_features:\n",
    "    df = pandas.pivot_table(transformed_df, values=column, index=['compound_id', 'disease_id'], columns='hetnet')\n",
    "    df = df[df['rephetio-v2.0'].notnull()]\n",
    "    dwpc = df.iloc[:, 0]\n",
    "    pdwpc = df.iloc[:, 1:].mean(axis='columns')\n",
    "    rdwpc = dwpc - pdwpc\n",
    "    dwpc_columns.append(dwpc)\n",
    "    pdwpc_columns.append(pdwpc)\n",
    "    rdwpc_columns.append(rdwpc)\n",
    "\n",
    "dwpc_df = pandas.concat(dwpc_columns, axis=1)\n",
    "pdwpc_df = pandas.concat(pdwpc_columns, axis=1)\n",
    "rdwpc_df = pandas.concat(rdwpc_columns, axis=1)\n",
    "\n",
    "for df in dwpc_df, pdwpc_df, rdwpc_df:\n",
    "    df.columns = dwpc_features\n",
    "    df.reset_index(inplace=True)"
   ]
  },
  {
   "cell_type": "code",
   "execution_count": 8,
   "metadata": {
    "collapsed": false
   },
   "outputs": [
    {
     "data": {
      "text/html": [
       "<div>\n",
       "<table border=\"1\" class=\"dataframe\">\n",
       "  <thead>\n",
       "    <tr style=\"text-align: right;\">\n",
       "      <th>feature</th>\n",
       "      <th>compound_id</th>\n",
       "      <th>disease_id</th>\n",
       "      <th>CbG&lt;rG&lt;rGaD</th>\n",
       "      <th>CbG&lt;rG&lt;rGdD</th>\n",
       "      <th>CbG&lt;rG&lt;rGuD</th>\n",
       "      <th>CbG&lt;rGaD</th>\n",
       "      <th>CbG&lt;rGaDrD</th>\n",
       "      <th>CbG&lt;rGbCpD</th>\n",
       "      <th>CbG&lt;rGbCtD</th>\n",
       "      <th>CbG&lt;rGcGaD</th>\n",
       "      <th>...</th>\n",
       "      <th>CuGuDpCpD</th>\n",
       "      <th>CuGuDpCtD</th>\n",
       "      <th>CuGuDpSpD</th>\n",
       "      <th>CuGuDrD</th>\n",
       "      <th>CuGuDrDrD</th>\n",
       "      <th>CuGuDtCpD</th>\n",
       "      <th>CuGuDtCtD</th>\n",
       "      <th>CuGuDuGaD</th>\n",
       "      <th>CuGuDuGdD</th>\n",
       "      <th>CuGuDuGuD</th>\n",
       "    </tr>\n",
       "  </thead>\n",
       "  <tbody>\n",
       "    <tr>\n",
       "      <th>0</th>\n",
       "      <td>DB00014</td>\n",
       "      <td>DOID:10283</td>\n",
       "      <td>0.0</td>\n",
       "      <td>0.0</td>\n",
       "      <td>0.0</td>\n",
       "      <td>0.0</td>\n",
       "      <td>0.0</td>\n",
       "      <td>0.0</td>\n",
       "      <td>0.0</td>\n",
       "      <td>0.0</td>\n",
       "      <td>...</td>\n",
       "      <td>0.0</td>\n",
       "      <td>0.0</td>\n",
       "      <td>0.227154</td>\n",
       "      <td>0.0</td>\n",
       "      <td>0.000000</td>\n",
       "      <td>2.453826</td>\n",
       "      <td>0.142122</td>\n",
       "      <td>0.615617</td>\n",
       "      <td>0.0</td>\n",
       "      <td>0.105593</td>\n",
       "    </tr>\n",
       "    <tr>\n",
       "      <th>1</th>\n",
       "      <td>DB00014</td>\n",
       "      <td>DOID:10534</td>\n",
       "      <td>0.0</td>\n",
       "      <td>0.0</td>\n",
       "      <td>0.0</td>\n",
       "      <td>0.0</td>\n",
       "      <td>0.0</td>\n",
       "      <td>0.0</td>\n",
       "      <td>0.0</td>\n",
       "      <td>0.0</td>\n",
       "      <td>...</td>\n",
       "      <td>0.0</td>\n",
       "      <td>0.0</td>\n",
       "      <td>0.487357</td>\n",
       "      <td>0.0</td>\n",
       "      <td>0.680376</td>\n",
       "      <td>0.000000</td>\n",
       "      <td>0.000000</td>\n",
       "      <td>0.431882</td>\n",
       "      <td>0.0</td>\n",
       "      <td>0.000000</td>\n",
       "    </tr>\n",
       "    <tr>\n",
       "      <th>2</th>\n",
       "      <td>DB00014</td>\n",
       "      <td>DOID:12236</td>\n",
       "      <td>0.0</td>\n",
       "      <td>0.0</td>\n",
       "      <td>0.0</td>\n",
       "      <td>0.0</td>\n",
       "      <td>0.0</td>\n",
       "      <td>0.0</td>\n",
       "      <td>0.0</td>\n",
       "      <td>0.0</td>\n",
       "      <td>...</td>\n",
       "      <td>0.0</td>\n",
       "      <td>0.0</td>\n",
       "      <td>0.207605</td>\n",
       "      <td>0.0</td>\n",
       "      <td>0.852775</td>\n",
       "      <td>0.000000</td>\n",
       "      <td>0.000000</td>\n",
       "      <td>0.164921</td>\n",
       "      <td>0.0</td>\n",
       "      <td>0.000000</td>\n",
       "    </tr>\n",
       "  </tbody>\n",
       "</table>\n",
       "<p>3 rows × 1208 columns</p>\n",
       "</div>"
      ],
      "text/plain": [
       "feature compound_id  disease_id  CbG<rG<rGaD  CbG<rG<rGdD  CbG<rG<rGuD  \\\n",
       "0           DB00014  DOID:10283          0.0          0.0          0.0   \n",
       "1           DB00014  DOID:10534          0.0          0.0          0.0   \n",
       "2           DB00014  DOID:12236          0.0          0.0          0.0   \n",
       "\n",
       "feature  CbG<rGaD  CbG<rGaDrD  CbG<rGbCpD  CbG<rGbCtD  CbG<rGcGaD    ...      \\\n",
       "0             0.0         0.0         0.0         0.0         0.0    ...       \n",
       "1             0.0         0.0         0.0         0.0         0.0    ...       \n",
       "2             0.0         0.0         0.0         0.0         0.0    ...       \n",
       "\n",
       "feature  CuGuDpCpD  CuGuDpCtD  CuGuDpSpD  CuGuDrD  CuGuDrDrD  CuGuDtCpD  \\\n",
       "0              0.0        0.0   0.227154      0.0   0.000000   2.453826   \n",
       "1              0.0        0.0   0.487357      0.0   0.680376   0.000000   \n",
       "2              0.0        0.0   0.207605      0.0   0.852775   0.000000   \n",
       "\n",
       "feature  CuGuDtCtD  CuGuDuGaD  CuGuDuGdD  CuGuDuGuD  \n",
       "0         0.142122   0.615617        0.0   0.105593  \n",
       "1         0.000000   0.431882        0.0   0.000000  \n",
       "2         0.000000   0.164921        0.0   0.000000  \n",
       "\n",
       "[3 rows x 1208 columns]"
      ]
     },
     "execution_count": 8,
     "metadata": {},
     "output_type": "execute_result"
    }
   ],
   "source": [
    "dwpc_df.head(3)"
   ]
  },
  {
   "cell_type": "code",
   "execution_count": 9,
   "metadata": {
    "collapsed": false
   },
   "outputs": [
    {
     "data": {
      "text/html": [
       "<div>\n",
       "<table border=\"1\" class=\"dataframe\">\n",
       "  <thead>\n",
       "    <tr style=\"text-align: right;\">\n",
       "      <th>feature</th>\n",
       "      <th>compound_id</th>\n",
       "      <th>disease_id</th>\n",
       "      <th>CbG&lt;rG&lt;rGaD</th>\n",
       "      <th>CbG&lt;rG&lt;rGdD</th>\n",
       "      <th>CbG&lt;rG&lt;rGuD</th>\n",
       "      <th>CbG&lt;rGaD</th>\n",
       "      <th>CbG&lt;rGaDrD</th>\n",
       "      <th>CbG&lt;rGbCpD</th>\n",
       "      <th>CbG&lt;rGbCtD</th>\n",
       "      <th>CbG&lt;rGcGaD</th>\n",
       "      <th>...</th>\n",
       "      <th>CuGuDpCpD</th>\n",
       "      <th>CuGuDpCtD</th>\n",
       "      <th>CuGuDpSpD</th>\n",
       "      <th>CuGuDrD</th>\n",
       "      <th>CuGuDrDrD</th>\n",
       "      <th>CuGuDtCpD</th>\n",
       "      <th>CuGuDtCtD</th>\n",
       "      <th>CuGuDuGaD</th>\n",
       "      <th>CuGuDuGdD</th>\n",
       "      <th>CuGuDuGuD</th>\n",
       "    </tr>\n",
       "  </thead>\n",
       "  <tbody>\n",
       "    <tr>\n",
       "      <th>0</th>\n",
       "      <td>DB00014</td>\n",
       "      <td>DOID:10283</td>\n",
       "      <td>0.043621</td>\n",
       "      <td>0.028787</td>\n",
       "      <td>0.022707</td>\n",
       "      <td>0.0</td>\n",
       "      <td>0.000000</td>\n",
       "      <td>0.0</td>\n",
       "      <td>0.326014</td>\n",
       "      <td>0.228354</td>\n",
       "      <td>...</td>\n",
       "      <td>0.597241</td>\n",
       "      <td>0.796495</td>\n",
       "      <td>0.165213</td>\n",
       "      <td>0.0</td>\n",
       "      <td>0.000000</td>\n",
       "      <td>0.0</td>\n",
       "      <td>0.000000</td>\n",
       "      <td>0.508843</td>\n",
       "      <td>0.388299</td>\n",
       "      <td>0.209833</td>\n",
       "    </tr>\n",
       "    <tr>\n",
       "      <th>1</th>\n",
       "      <td>DB00014</td>\n",
       "      <td>DOID:10534</td>\n",
       "      <td>0.058666</td>\n",
       "      <td>0.000000</td>\n",
       "      <td>0.000000</td>\n",
       "      <td>0.0</td>\n",
       "      <td>0.052024</td>\n",
       "      <td>0.0</td>\n",
       "      <td>0.000000</td>\n",
       "      <td>0.033004</td>\n",
       "      <td>...</td>\n",
       "      <td>0.000000</td>\n",
       "      <td>0.000000</td>\n",
       "      <td>0.174077</td>\n",
       "      <td>0.0</td>\n",
       "      <td>0.317700</td>\n",
       "      <td>0.0</td>\n",
       "      <td>0.000000</td>\n",
       "      <td>0.342985</td>\n",
       "      <td>0.000000</td>\n",
       "      <td>0.000000</td>\n",
       "    </tr>\n",
       "    <tr>\n",
       "      <th>2</th>\n",
       "      <td>DB00014</td>\n",
       "      <td>DOID:12236</td>\n",
       "      <td>0.025909</td>\n",
       "      <td>0.000000</td>\n",
       "      <td>0.000000</td>\n",
       "      <td>0.0</td>\n",
       "      <td>0.000000</td>\n",
       "      <td>0.0</td>\n",
       "      <td>0.000000</td>\n",
       "      <td>0.000000</td>\n",
       "      <td>...</td>\n",
       "      <td>0.000000</td>\n",
       "      <td>0.000000</td>\n",
       "      <td>0.163024</td>\n",
       "      <td>0.0</td>\n",
       "      <td>0.326497</td>\n",
       "      <td>0.0</td>\n",
       "      <td>0.253883</td>\n",
       "      <td>0.258618</td>\n",
       "      <td>0.000000</td>\n",
       "      <td>0.000000</td>\n",
       "    </tr>\n",
       "  </tbody>\n",
       "</table>\n",
       "<p>3 rows × 1208 columns</p>\n",
       "</div>"
      ],
      "text/plain": [
       "feature compound_id  disease_id  CbG<rG<rGaD  CbG<rG<rGdD  CbG<rG<rGuD  \\\n",
       "0           DB00014  DOID:10283     0.043621     0.028787     0.022707   \n",
       "1           DB00014  DOID:10534     0.058666     0.000000     0.000000   \n",
       "2           DB00014  DOID:12236     0.025909     0.000000     0.000000   \n",
       "\n",
       "feature  CbG<rGaD  CbG<rGaDrD  CbG<rGbCpD  CbG<rGbCtD  CbG<rGcGaD    ...      \\\n",
       "0             0.0    0.000000         0.0    0.326014    0.228354    ...       \n",
       "1             0.0    0.052024         0.0    0.000000    0.033004    ...       \n",
       "2             0.0    0.000000         0.0    0.000000    0.000000    ...       \n",
       "\n",
       "feature  CuGuDpCpD  CuGuDpCtD  CuGuDpSpD  CuGuDrD  CuGuDrDrD  CuGuDtCpD  \\\n",
       "0         0.597241   0.796495   0.165213      0.0   0.000000        0.0   \n",
       "1         0.000000   0.000000   0.174077      0.0   0.317700        0.0   \n",
       "2         0.000000   0.000000   0.163024      0.0   0.326497        0.0   \n",
       "\n",
       "feature  CuGuDtCtD  CuGuDuGaD  CuGuDuGdD  CuGuDuGuD  \n",
       "0         0.000000   0.508843   0.388299   0.209833  \n",
       "1         0.000000   0.342985   0.000000   0.000000  \n",
       "2         0.253883   0.258618   0.000000   0.000000  \n",
       "\n",
       "[3 rows x 1208 columns]"
      ]
     },
     "execution_count": 9,
     "metadata": {},
     "output_type": "execute_result"
    }
   ],
   "source": [
    "pdwpc_df.head(3)"
   ]
  },
  {
   "cell_type": "code",
   "execution_count": 10,
   "metadata": {
    "collapsed": false,
    "scrolled": false
   },
   "outputs": [
    {
     "data": {
      "text/html": [
       "<div>\n",
       "<table border=\"1\" class=\"dataframe\">\n",
       "  <thead>\n",
       "    <tr style=\"text-align: right;\">\n",
       "      <th>feature</th>\n",
       "      <th>compound_id</th>\n",
       "      <th>disease_id</th>\n",
       "      <th>CbG&lt;rG&lt;rGaD</th>\n",
       "      <th>CbG&lt;rG&lt;rGdD</th>\n",
       "      <th>CbG&lt;rG&lt;rGuD</th>\n",
       "      <th>CbG&lt;rGaD</th>\n",
       "      <th>CbG&lt;rGaDrD</th>\n",
       "      <th>CbG&lt;rGbCpD</th>\n",
       "      <th>CbG&lt;rGbCtD</th>\n",
       "      <th>CbG&lt;rGcGaD</th>\n",
       "      <th>...</th>\n",
       "      <th>CuGuDpCpD</th>\n",
       "      <th>CuGuDpCtD</th>\n",
       "      <th>CuGuDpSpD</th>\n",
       "      <th>CuGuDrD</th>\n",
       "      <th>CuGuDrDrD</th>\n",
       "      <th>CuGuDtCpD</th>\n",
       "      <th>CuGuDtCtD</th>\n",
       "      <th>CuGuDuGaD</th>\n",
       "      <th>CuGuDuGdD</th>\n",
       "      <th>CuGuDuGuD</th>\n",
       "    </tr>\n",
       "  </thead>\n",
       "  <tbody>\n",
       "    <tr>\n",
       "      <th>0</th>\n",
       "      <td>DB00014</td>\n",
       "      <td>DOID:10283</td>\n",
       "      <td>-0.043621</td>\n",
       "      <td>-0.028787</td>\n",
       "      <td>-0.022707</td>\n",
       "      <td>0.0</td>\n",
       "      <td>0.000000</td>\n",
       "      <td>0.0</td>\n",
       "      <td>-0.326014</td>\n",
       "      <td>-0.228354</td>\n",
       "      <td>...</td>\n",
       "      <td>-0.597241</td>\n",
       "      <td>-0.796495</td>\n",
       "      <td>0.061940</td>\n",
       "      <td>0.0</td>\n",
       "      <td>0.000000</td>\n",
       "      <td>2.453826</td>\n",
       "      <td>0.142122</td>\n",
       "      <td>0.106774</td>\n",
       "      <td>-0.388299</td>\n",
       "      <td>-0.10424</td>\n",
       "    </tr>\n",
       "    <tr>\n",
       "      <th>1</th>\n",
       "      <td>DB00014</td>\n",
       "      <td>DOID:10534</td>\n",
       "      <td>-0.058666</td>\n",
       "      <td>0.000000</td>\n",
       "      <td>0.000000</td>\n",
       "      <td>0.0</td>\n",
       "      <td>-0.052024</td>\n",
       "      <td>0.0</td>\n",
       "      <td>0.000000</td>\n",
       "      <td>-0.033004</td>\n",
       "      <td>...</td>\n",
       "      <td>0.000000</td>\n",
       "      <td>0.000000</td>\n",
       "      <td>0.313280</td>\n",
       "      <td>0.0</td>\n",
       "      <td>0.362676</td>\n",
       "      <td>0.000000</td>\n",
       "      <td>0.000000</td>\n",
       "      <td>0.088897</td>\n",
       "      <td>0.000000</td>\n",
       "      <td>0.00000</td>\n",
       "    </tr>\n",
       "    <tr>\n",
       "      <th>2</th>\n",
       "      <td>DB00014</td>\n",
       "      <td>DOID:12236</td>\n",
       "      <td>-0.025909</td>\n",
       "      <td>0.000000</td>\n",
       "      <td>0.000000</td>\n",
       "      <td>0.0</td>\n",
       "      <td>0.000000</td>\n",
       "      <td>0.0</td>\n",
       "      <td>0.000000</td>\n",
       "      <td>0.000000</td>\n",
       "      <td>...</td>\n",
       "      <td>0.000000</td>\n",
       "      <td>0.000000</td>\n",
       "      <td>0.044581</td>\n",
       "      <td>0.0</td>\n",
       "      <td>0.526278</td>\n",
       "      <td>0.000000</td>\n",
       "      <td>-0.253883</td>\n",
       "      <td>-0.093697</td>\n",
       "      <td>0.000000</td>\n",
       "      <td>0.00000</td>\n",
       "    </tr>\n",
       "  </tbody>\n",
       "</table>\n",
       "<p>3 rows × 1208 columns</p>\n",
       "</div>"
      ],
      "text/plain": [
       "feature compound_id  disease_id  CbG<rG<rGaD  CbG<rG<rGdD  CbG<rG<rGuD  \\\n",
       "0           DB00014  DOID:10283    -0.043621    -0.028787    -0.022707   \n",
       "1           DB00014  DOID:10534    -0.058666     0.000000     0.000000   \n",
       "2           DB00014  DOID:12236    -0.025909     0.000000     0.000000   \n",
       "\n",
       "feature  CbG<rGaD  CbG<rGaDrD  CbG<rGbCpD  CbG<rGbCtD  CbG<rGcGaD    ...      \\\n",
       "0             0.0    0.000000         0.0   -0.326014   -0.228354    ...       \n",
       "1             0.0   -0.052024         0.0    0.000000   -0.033004    ...       \n",
       "2             0.0    0.000000         0.0    0.000000    0.000000    ...       \n",
       "\n",
       "feature  CuGuDpCpD  CuGuDpCtD  CuGuDpSpD  CuGuDrD  CuGuDrDrD  CuGuDtCpD  \\\n",
       "0        -0.597241  -0.796495   0.061940      0.0   0.000000   2.453826   \n",
       "1         0.000000   0.000000   0.313280      0.0   0.362676   0.000000   \n",
       "2         0.000000   0.000000   0.044581      0.0   0.526278   0.000000   \n",
       "\n",
       "feature  CuGuDtCtD  CuGuDuGaD  CuGuDuGdD  CuGuDuGuD  \n",
       "0         0.142122   0.106774  -0.388299   -0.10424  \n",
       "1         0.000000   0.088897   0.000000    0.00000  \n",
       "2        -0.253883  -0.093697   0.000000    0.00000  \n",
       "\n",
       "[3 rows x 1208 columns]"
      ]
     },
     "execution_count": 10,
     "metadata": {},
     "output_type": "execute_result"
    }
   ],
   "source": [
    "rdwpc_df.head(3)"
   ]
  },
  {
   "cell_type": "code",
   "execution_count": 11,
   "metadata": {
    "collapsed": false
   },
   "outputs": [],
   "source": [
    "part_df = pandas.read_table('data/partitions.tsv')\n",
    "part_df = part_df.query(\"hetnet == @unperm_name\")\n",
    "part_df = part_df[['compound_id', 'disease_id', 'status']]\n",
    "\n",
    "dwpc_df = part_df.merge(dwpc_df)\n",
    "pdwpc_df = part_df.merge(pdwpc_df)\n",
    "rdwpc_df = part_df.merge(rdwpc_df)"
   ]
  },
  {
   "cell_type": "code",
   "execution_count": 21,
   "metadata": {
    "collapsed": false
   },
   "outputs": [],
   "source": [
    "for df, name in (dwpc_df, 't-dwpc'), (pdwpc_df, 'pt-dwpc'), (rdwpc_df, 'rt-dwpc'):\n",
    "    path = 'data/matrix/rephetio-v2.0/{}.tsv.bz2'.format(name)\n",
    "    with bz2.open(path, 'wt') as write_file:\n",
    "        df.to_csv(write_file, sep='\\t', index=False, float_format='%.5g')"
   ]
  },
  {
   "cell_type": "markdown",
   "metadata": {},
   "source": [
    "### Compute performance"
   ]
  },
  {
   "cell_type": "code",
   "execution_count": 13,
   "metadata": {
    "collapsed": false
   },
   "outputs": [],
   "source": [
    "primary_auroc_df = pandas.read_table('data/feature-performance/primary-aurocs.tsv')\n",
    "primary_auroc_df = primary_auroc_df.rename(columns={'auroc': 'dwpc_auroc', 'auroc_permuted': 'pdwpc_primary_auroc', 'pval_auroc': 'pval_delta_auroc'})\n",
    "primary_auroc_df = primary_auroc_df[['feature', 'nonzero', 'dwpc_auroc', 'pdwpc_primary_auroc', 'delta_auroc', 'pval_delta_auroc']]"
   ]
  },
  {
   "cell_type": "code",
   "execution_count": 14,
   "metadata": {
    "collapsed": false,
    "scrolled": true
   },
   "outputs": [
    {
     "data": {
      "text/html": [
       "<div>\n",
       "<table border=\"1\" class=\"dataframe\">\n",
       "  <thead>\n",
       "    <tr style=\"text-align: right;\">\n",
       "      <th></th>\n",
       "      <th>feature</th>\n",
       "      <th>pdwpc_auroc</th>\n",
       "      <th>rdwpc_auroc</th>\n",
       "      <th>nonzero</th>\n",
       "      <th>dwpc_auroc</th>\n",
       "      <th>pdwpc_primary_auroc</th>\n",
       "      <th>delta_auroc</th>\n",
       "      <th>pval_delta_auroc</th>\n",
       "    </tr>\n",
       "  </thead>\n",
       "  <tbody>\n",
       "    <tr>\n",
       "      <th>0</th>\n",
       "      <td>CbG&lt;rG&lt;rGaD</td>\n",
       "      <td>0.613955</td>\n",
       "      <td>0.574447</td>\n",
       "      <td>0.84662</td>\n",
       "      <td>0.63605</td>\n",
       "      <td>0.56577</td>\n",
       "      <td>0.070275</td>\n",
       "      <td>0.000020</td>\n",
       "    </tr>\n",
       "    <tr>\n",
       "      <th>1</th>\n",
       "      <td>CbG&lt;rG&lt;rGdD</td>\n",
       "      <td>0.570848</td>\n",
       "      <td>0.536699</td>\n",
       "      <td>0.38146</td>\n",
       "      <td>0.58014</td>\n",
       "      <td>0.54954</td>\n",
       "      <td>0.030600</td>\n",
       "      <td>0.000103</td>\n",
       "    </tr>\n",
       "  </tbody>\n",
       "</table>\n",
       "</div>"
      ],
      "text/plain": [
       "       feature  pdwpc_auroc  rdwpc_auroc  nonzero  dwpc_auroc  \\\n",
       "0  CbG<rG<rGaD     0.613955     0.574447  0.84662     0.63605   \n",
       "1  CbG<rG<rGdD     0.570848     0.536699  0.38146     0.58014   \n",
       "\n",
       "   pdwpc_primary_auroc  delta_auroc  pval_delta_auroc  \n",
       "0              0.56577     0.070275          0.000020  \n",
       "1              0.54954     0.030600          0.000103  "
      ]
     },
     "execution_count": 14,
     "metadata": {},
     "output_type": "execute_result"
    }
   ],
   "source": [
    "rows  = list()\n",
    "for feature in dwpc_features:\n",
    "    rows.append([\n",
    "        feature,\n",
    "        sklearn.metrics.roc_auc_score(pdwpc_df.status, pdwpc_df[feature]),\n",
    "        sklearn.metrics.roc_auc_score(rdwpc_df.status, rdwpc_df[feature]),\n",
    "    ])\n",
    "auroc_df = pandas.DataFrame(rows, columns=['feature', 'pdwpc_auroc', 'rdwpc_auroc'])\n",
    "auroc_df = auroc_df.merge(primary_auroc_df)\n",
    "\n",
    "auroc_df.head(2)"
   ]
  },
  {
   "cell_type": "code",
   "execution_count": 15,
   "metadata": {
    "collapsed": true
   },
   "outputs": [],
   "source": [
    "auroc_df.to_csv('data/feature-performance/auroc.tsv', sep='\\t', index=False, float_format='%.5g')"
   ]
  },
  {
   "cell_type": "code",
   "execution_count": 16,
   "metadata": {
    "collapsed": false,
    "scrolled": true
   },
   "outputs": [
    {
     "data": {
      "text/html": [
       "<div>\n",
       "<table border=\"1\" class=\"dataframe\">\n",
       "  <thead>\n",
       "    <tr style=\"text-align: right;\">\n",
       "      <th></th>\n",
       "      <th>feature</th>\n",
       "      <th>pdwpc_auroc</th>\n",
       "      <th>rdwpc_auroc</th>\n",
       "      <th>nonzero</th>\n",
       "      <th>dwpc_auroc</th>\n",
       "      <th>pdwpc_primary_auroc</th>\n",
       "      <th>delta_auroc</th>\n",
       "      <th>pval_delta_auroc</th>\n",
       "    </tr>\n",
       "  </thead>\n",
       "  <tbody>\n",
       "    <tr>\n",
       "      <th>27</th>\n",
       "      <td>CbGaD</td>\n",
       "      <td>0.628067</td>\n",
       "      <td>0.669358</td>\n",
       "      <td>0.32238</td>\n",
       "      <td>0.71284</td>\n",
       "      <td>0.56754</td>\n",
       "      <td>0.145300</td>\n",
       "      <td>6.114000e-07</td>\n",
       "    </tr>\n",
       "    <tr>\n",
       "      <th>178</th>\n",
       "      <td>CbGpPWpGaD</td>\n",
       "      <td>0.650548</td>\n",
       "      <td>0.654061</td>\n",
       "      <td>0.97642</td>\n",
       "      <td>0.70155</td>\n",
       "      <td>0.62547</td>\n",
       "      <td>0.076082</td>\n",
       "      <td>1.372500e-08</td>\n",
       "    </tr>\n",
       "    <tr>\n",
       "      <th>679</th>\n",
       "      <td>CrCbGaD</td>\n",
       "      <td>0.589791</td>\n",
       "      <td>0.642535</td>\n",
       "      <td>0.41748</td>\n",
       "      <td>0.64808</td>\n",
       "      <td>0.56589</td>\n",
       "      <td>0.082185</td>\n",
       "      <td>8.079100e-07</td>\n",
       "    </tr>\n",
       "    <tr>\n",
       "      <th>519</th>\n",
       "      <td>CiPCiCbGaD</td>\n",
       "      <td>0.606607</td>\n",
       "      <td>0.639864</td>\n",
       "      <td>0.35576</td>\n",
       "      <td>0.65760</td>\n",
       "      <td>0.56734</td>\n",
       "      <td>0.090258</td>\n",
       "      <td>1.038500e-05</td>\n",
       "    </tr>\n",
       "    <tr>\n",
       "      <th>752</th>\n",
       "      <td>CrCrCbGaD</td>\n",
       "      <td>0.593827</td>\n",
       "      <td>0.639633</td>\n",
       "      <td>0.51709</td>\n",
       "      <td>0.62044</td>\n",
       "      <td>0.58001</td>\n",
       "      <td>0.040433</td>\n",
       "      <td>4.739400e-05</td>\n",
       "    </tr>\n",
       "  </tbody>\n",
       "</table>\n",
       "</div>"
      ],
      "text/plain": [
       "        feature  pdwpc_auroc  rdwpc_auroc  nonzero  dwpc_auroc  \\\n",
       "27        CbGaD     0.628067     0.669358  0.32238     0.71284   \n",
       "178  CbGpPWpGaD     0.650548     0.654061  0.97642     0.70155   \n",
       "679     CrCbGaD     0.589791     0.642535  0.41748     0.64808   \n",
       "519  CiPCiCbGaD     0.606607     0.639864  0.35576     0.65760   \n",
       "752   CrCrCbGaD     0.593827     0.639633  0.51709     0.62044   \n",
       "\n",
       "     pdwpc_primary_auroc  delta_auroc  pval_delta_auroc  \n",
       "27               0.56754     0.145300      6.114000e-07  \n",
       "178              0.62547     0.076082      1.372500e-08  \n",
       "679              0.56589     0.082185      8.079100e-07  \n",
       "519              0.56734     0.090258      1.038500e-05  \n",
       "752              0.58001     0.040433      4.739400e-05  "
      ]
     },
     "execution_count": 16,
     "metadata": {},
     "output_type": "execute_result"
    }
   ],
   "source": [
    "#auroc_df.sort_values('rdwpc_auroc', ascending = False)\n",
    "auroc_df[-auroc_df.feature.str.contains('CtD')].sort_values('rdwpc_auroc', ascending = False).head()"
   ]
  },
  {
   "cell_type": "markdown",
   "metadata": {
    "collapsed": true
   },
   "source": [
    "## Visualization Sandbox"
   ]
  },
  {
   "cell_type": "code",
   "execution_count": 17,
   "metadata": {
    "collapsed": false
   },
   "outputs": [],
   "source": [
    "%matplotlib inline\n",
    "import seaborn"
   ]
  },
  {
   "cell_type": "code",
   "execution_count": 18,
   "metadata": {
    "collapsed": false
   },
   "outputs": [
    {
     "data": {
      "image/png": "[encoded data removed]",
      "text/plain": [
       "<matplotlib.figure.Figure at 0x7fcc0ced25c0>"
      ]
     },
     "metadata": {},
     "output_type": "display_data"
    }
   ],
   "source": [
    "seaborn.jointplot(pdwpc_df['CrCrCbGaD'], rdwpc_df['CrCrCbGaD'], alpha = 0.1);"
   ]
  },
  {
   "cell_type": "code",
   "execution_count": 19,
   "metadata": {
    "collapsed": false,
    "scrolled": false
   },
   "outputs": [
    {
     "data": {
      "image/png": "[encoded data removed]",
      "text/plain": [
       "<matplotlib.figure.Figure at 0x7fcc0ced25f8>"
      ]
     },
     "metadata": {},
     "output_type": "display_data"
    }
   ],
   "source": [
    "seaborn.jointplot(pdwpc_df['CbGpPWpGaD'], rdwpc_df['CbGpPWpGaD'], alpha = 0.1);"
   ]
  }
 ],
 "metadata": {
  "kernelspec": {
   "display_name": "Python 3",
   "language": "python",
   "name": "python3"
  },
  "language_info": {
   "codemirror_mode": {
    "name": "ipython",
    "version": 3
   },
   "file_extension": ".py",
   "mimetype": "text/x-python",
   "name": "python",
   "nbconvert_exporter": "python",
   "pygments_lexer": "ipython3",
   "version": "3.5.1"
  }
 },
 "nbformat": 4,
 "nbformat_minor": 0
}
