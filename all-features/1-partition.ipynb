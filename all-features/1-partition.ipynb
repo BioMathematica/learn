{
 "cells": [
  {
   "cell_type": "markdown",
   "metadata": {},
   "source": [
    "# Assign positives and negatives "
   ]
  },
  {
   "cell_type": "code",
   "execution_count": 1,
   "metadata": {
    "collapsed": true
   },
   "outputs": [],
   "source": [
    "import itertools\n",
    "import random\n",
    "import sys\n",
    "import json\n",
    "\n",
    "import py2neo\n",
    "import pandas"
   ]
  },
  {
   "cell_type": "markdown",
   "metadata": {},
   "source": [
    "## Startup neo4j and connections"
   ]
  },
  {
   "cell_type": "code",
   "execution_count": 2,
   "metadata": {
    "collapsed": false
   },
   "outputs": [],
   "source": [
    "with open('servers.json') as read_file:\n",
    "    instances = json.load(read_file)\n",
    "\n",
    "for instance in instances:\n",
    "    uri = 'http://localhost:{}/db/data/'.format(instance['port'])\n",
    "    instance['py2neo'] = py2neo.Graph(uri)\n",
    "    if instance['name'] == 'rephetio-v2.0':\n",
    "        neo_unperm = instance['py2neo']"
   ]
  },
  {
   "cell_type": "markdown",
   "metadata": {},
   "source": [
    "## Create partitions"
   ]
  },
  {
   "cell_type": "code",
   "execution_count": 3,
   "metadata": {
    "collapsed": true
   },
   "outputs": [],
   "source": [
    "def to_df(record_list):\n",
    "    \"\"\"Convert a py2neo RecordList to a dataframe\"\"\"\n",
    "    return pandas.DataFrame(record_list.records, columns = record_list.columns)"
   ]
  },
  {
   "cell_type": "code",
   "execution_count": 6,
   "metadata": {
    "collapsed": true
   },
   "outputs": [],
   "source": [
    "compound_df = pandas.read_table('../summary/compounds.tsv')\n",
    "disease_df = pandas.read_table('../summary/diseases.tsv')"
   ]
  },
  {
   "cell_type": "code",
   "execution_count": 7,
   "metadata": {
    "collapsed": false
   },
   "outputs": [
    {
     "data": {
      "text/plain": [
       "'136 compounds × 1538 diseases = 209168 pairs'"
      ]
     },
     "execution_count": 7,
     "metadata": {},
     "output_type": "execute_result"
    }
   ],
   "source": [
    "'{} compounds × {} diseases = {} pairs'.format(\n",
    "    len(disease_df), len(compound_df), len(disease_df) * len(compound_df))"
   ]
  },
  {
   "cell_type": "code",
   "execution_count": 8,
   "metadata": {
    "collapsed": true
   },
   "outputs": [],
   "source": [
    "nonzero_prior_pairs = set(itertools.product(\n",
    "    compound_df.query(\"treats > 0\").compound_id,\n",
    "    disease_df.query(\"treats > 0\").disease_id)\n",
    ")"
   ]
  },
  {
   "cell_type": "code",
   "execution_count": 9,
   "metadata": {
    "collapsed": false
   },
   "outputs": [],
   "source": [
    "indication_query = '''\n",
    "MATCH (compound:Compound)-[rel]->(disease:Disease)\n",
    "RETURN\n",
    "  compound.identifier AS compound_id,\n",
    "  disease.identifier AS disease_id,\n",
    "  type(rel) AS rel_type\n",
    "ORDER BY\n",
    "  compound_id, rel_type, disease_id\n",
    "'''\n",
    "\n",
    "def summarize(df, prefix=''):\n",
    "    series = pandas.Series()\n",
    "    series[prefix + 'treats'] = sum(df.rel_type == 'TREATS_CtD')\n",
    "    series[prefix + 'palliates'] = sum(df.rel_type == 'PALLIATES_CpD')\n",
    "    return series\n",
    "\n",
    "def partition(neo):\n",
    "    \"\"\"\n",
    "    Extract negative and positive compound-disease pairs from a py2neo.Graph.\n",
    "    \"\"\"\n",
    "    indication_df = to_df(neo.cypher.execute(indication_query))\n",
    "    # Use TREATS_CtD and PALLIATES_CpD as non-negatives\n",
    "    non_negatives = set(zip(indication_df.compound_id, indication_df.disease_id))\n",
    "    indication_df = indication_df.query(\"rel_type == 'TREATS_CtD'\")\n",
    "    # Use TREATS_CtD as positives\n",
    "    positives = set(zip(indication_df.compound_id, indication_df.disease_id))\n",
    "    # Use nonzero-prior pairs excluding non-negatives as negatives\n",
    "    negatives = nonzero_prior_pairs - non_negatives\n",
    "    negatives = random.sample(negatives, k=len(positives) * 4)\n",
    "    rows = list()\n",
    "    for status, pairs in (0, negatives), (1, positives):\n",
    "        for drug, disease in pairs:\n",
    "            rows.append((drug, disease, status))\n",
    "    df = pandas.DataFrame(rows, columns=['compound_id', 'disease_id', 'status'])\n",
    "    df = df.sort_values(['disease_id', 'status', 'compound_id'])\n",
    "    return df"
   ]
  },
  {
   "cell_type": "code",
   "execution_count": 10,
   "metadata": {
    "collapsed": true
   },
   "outputs": [],
   "source": [
    "part_dfs = list()\n",
    "for instance in instances:\n",
    "    random.seed(0, version=2)\n",
    "    part_df = partition(instance['py2neo'])\n",
    "    part_df.insert(0, 'hetnet', instance['name'])\n",
    "    part_dfs.append(part_df)\n",
    "part_df = pandas.concat(part_dfs)\n",
    "part_df = part_df.sort_values(['compound_id', 'disease_id', 'hetnet'])"
   ]
  },
  {
   "cell_type": "code",
   "execution_count": 11,
   "metadata": {
    "collapsed": false
   },
   "outputs": [
    {
     "data": {
      "text/html": [
       "<div>\n",
       "<table border=\"1\" class=\"dataframe\">\n",
       "  <thead>\n",
       "    <tr style=\"text-align: right;\">\n",
       "      <th></th>\n",
       "      <th>hetnet</th>\n",
       "      <th>compound_id</th>\n",
       "      <th>disease_id</th>\n",
       "      <th>status</th>\n",
       "    </tr>\n",
       "  </thead>\n",
       "  <tbody>\n",
       "    <tr>\n",
       "      <th>2687</th>\n",
       "      <td>rephetio-v2.0</td>\n",
       "      <td>DB00014</td>\n",
       "      <td>DOID:0050741</td>\n",
       "      <td>0</td>\n",
       "    </tr>\n",
       "    <tr>\n",
       "      <th>1759</th>\n",
       "      <td>rephetio-v2.0_perm-5</td>\n",
       "      <td>DB00014</td>\n",
       "      <td>DOID:0050741</td>\n",
       "      <td>0</td>\n",
       "    </tr>\n",
       "  </tbody>\n",
       "</table>\n",
       "</div>"
      ],
      "text/plain": [
       "                    hetnet compound_id    disease_id  status\n",
       "2687         rephetio-v2.0     DB00014  DOID:0050741       0\n",
       "1759  rephetio-v2.0_perm-5     DB00014  DOID:0050741       0"
      ]
     },
     "execution_count": 11,
     "metadata": {},
     "output_type": "execute_result"
    }
   ],
   "source": [
    "part_df.head(2)"
   ]
  },
  {
   "cell_type": "code",
   "execution_count": 12,
   "metadata": {
    "collapsed": true
   },
   "outputs": [],
   "source": [
    "part_df.to_csv('data/partitions.tsv', sep='\\t', index=False)"
   ]
  },
  {
   "cell_type": "code",
   "execution_count": 13,
   "metadata": {
    "collapsed": false
   },
   "outputs": [
    {
     "data": {
      "text/plain": [
       "22650"
      ]
     },
     "execution_count": 13,
     "metadata": {},
     "output_type": "execute_result"
    }
   ],
   "source": [
    "# Number of hetnet-compound-disease pairs\n",
    "len(part_df)"
   ]
  },
  {
   "cell_type": "code",
   "execution_count": 14,
   "metadata": {
    "collapsed": false
   },
   "outputs": [
    {
     "data": {
      "text/html": [
       "<div>\n",
       "<table border=\"1\" class=\"dataframe\">\n",
       "  <thead>\n",
       "    <tr style=\"text-align: right;\">\n",
       "      <th>status</th>\n",
       "      <th>0</th>\n",
       "      <th>1</th>\n",
       "    </tr>\n",
       "    <tr>\n",
       "      <th>hetnet</th>\n",
       "      <th></th>\n",
       "      <th></th>\n",
       "    </tr>\n",
       "  </thead>\n",
       "  <tbody>\n",
       "    <tr>\n",
       "      <th>rephetio-v2.0</th>\n",
       "      <td>3020</td>\n",
       "      <td>755</td>\n",
       "    </tr>\n",
       "    <tr>\n",
       "      <th>rephetio-v2.0_perm-1</th>\n",
       "      <td>3020</td>\n",
       "      <td>755</td>\n",
       "    </tr>\n",
       "    <tr>\n",
       "      <th>rephetio-v2.0_perm-2</th>\n",
       "      <td>3020</td>\n",
       "      <td>755</td>\n",
       "    </tr>\n",
       "    <tr>\n",
       "      <th>rephetio-v2.0_perm-3</th>\n",
       "      <td>3020</td>\n",
       "      <td>755</td>\n",
       "    </tr>\n",
       "    <tr>\n",
       "      <th>rephetio-v2.0_perm-4</th>\n",
       "      <td>3020</td>\n",
       "      <td>755</td>\n",
       "    </tr>\n",
       "    <tr>\n",
       "      <th>rephetio-v2.0_perm-5</th>\n",
       "      <td>3020</td>\n",
       "      <td>755</td>\n",
       "    </tr>\n",
       "  </tbody>\n",
       "</table>\n",
       "</div>"
      ],
      "text/plain": [
       "status                   0    1\n",
       "hetnet                         \n",
       "rephetio-v2.0         3020  755\n",
       "rephetio-v2.0_perm-1  3020  755\n",
       "rephetio-v2.0_perm-2  3020  755\n",
       "rephetio-v2.0_perm-3  3020  755\n",
       "rephetio-v2.0_perm-4  3020  755\n",
       "rephetio-v2.0_perm-5  3020  755"
      ]
     },
     "execution_count": 14,
     "metadata": {},
     "output_type": "execute_result"
    }
   ],
   "source": [
    "# Number of positives and negatives per hetnet\n",
    "pandas.crosstab(part_df.hetnet, part_df.status)"
   ]
  }
 ],
 "metadata": {
  "kernelspec": {
   "display_name": "Python 3",
   "language": "python",
   "name": "python3"
  },
  "language_info": {
   "codemirror_mode": {
    "name": "ipython",
    "version": 3
   },
   "file_extension": ".py",
   "mimetype": "text/x-python",
   "name": "python",
   "nbconvert_exporter": "python",
   "pygments_lexer": "ipython3",
   "version": "3.5.1"
  }
 },
 "nbformat": 4,
 "nbformat_minor": 0
}
