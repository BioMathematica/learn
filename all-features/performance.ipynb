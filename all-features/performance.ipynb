{
 "cells": [
  {
   "cell_type": "markdown",
   "metadata": {},
   "source": [
    "# Calculate the performonce on every feature"
   ]
  },
  {
   "cell_type": "code",
   "execution_count": 1,
   "metadata": {
    "collapsed": false
   },
   "outputs": [],
   "source": [
    "import bz2\n",
    "import os\n",
    "import re\n",
    "import math\n",
    "\n",
    "import pandas\n",
    "import sklearn.metrics\n",
    "import scipy.stats\n",
    "from statsmodels.sandbox.stats.multicomp import multipletests"
   ]
  },
  {
   "cell_type": "markdown",
   "metadata": {},
   "source": [
    "## Read features and partitions"
   ]
  },
  {
   "cell_type": "code",
   "execution_count": 2,
   "metadata": {
    "collapsed": false
   },
   "outputs": [
    {
     "data": {
      "text/html": [
       "<div>\n",
       "<table border=\"1\" class=\"dataframe\">\n",
       "  <thead>\n",
       "    <tr style=\"text-align: right;\">\n",
       "      <th></th>\n",
       "      <th>hetnet</th>\n",
       "      <th>compound_id</th>\n",
       "      <th>disease_id</th>\n",
       "      <th>status</th>\n",
       "    </tr>\n",
       "  </thead>\n",
       "  <tbody>\n",
       "    <tr>\n",
       "      <th>18873</th>\n",
       "      <td>hetio-ind_perm-5</td>\n",
       "      <td>DB09028</td>\n",
       "      <td>DOID:585</td>\n",
       "      <td>0</td>\n",
       "    </tr>\n",
       "    <tr>\n",
       "      <th>18874</th>\n",
       "      <td>hetio-ind_perm-1</td>\n",
       "      <td>DB09028</td>\n",
       "      <td>DOID:9074</td>\n",
       "      <td>0</td>\n",
       "    </tr>\n",
       "  </tbody>\n",
       "</table>\n",
       "</div>"
      ],
      "text/plain": [
       "                 hetnet compound_id disease_id  status\n",
       "18873  hetio-ind_perm-5     DB09028   DOID:585       0\n",
       "18874  hetio-ind_perm-1     DB09028  DOID:9074       0"
      ]
     },
     "execution_count": 2,
     "metadata": {},
     "output_type": "execute_result"
    }
   ],
   "source": [
    "# Read partition information\n",
    "part_df = pandas.read_table('data/partitions.tsv')\n",
    "part_df.tail(2)"
   ]
  },
  {
   "cell_type": "code",
   "execution_count": 3,
   "metadata": {
    "collapsed": false
   },
   "outputs": [
    {
     "data": {
      "text/html": [
       "<div>\n",
       "<table border=\"1\" class=\"dataframe\">\n",
       "  <thead>\n",
       "    <tr style=\"text-align: right;\">\n",
       "      <th></th>\n",
       "      <th>hetnet</th>\n",
       "      <th>compound_id</th>\n",
       "      <th>disease_id</th>\n",
       "      <th>feature</th>\n",
       "      <th>PC</th>\n",
       "      <th>w</th>\n",
       "      <th>value</th>\n",
       "      <th>seconds</th>\n",
       "      <th>feature_type</th>\n",
       "    </tr>\n",
       "  </thead>\n",
       "  <tbody>\n",
       "    <tr>\n",
       "      <th>22933123</th>\n",
       "      <td>hetio-ind_perm-5</td>\n",
       "      <td>DB08912</td>\n",
       "      <td>DOID:9352</td>\n",
       "      <td>CdGeAeGaD</td>\n",
       "      <td>1599374</td>\n",
       "      <td>0.4</td>\n",
       "      <td>0.163162</td>\n",
       "      <td>61.52</td>\n",
       "      <td>DWPC</td>\n",
       "    </tr>\n",
       "    <tr>\n",
       "      <th>22933124</th>\n",
       "      <td>hetio-ind_perm-4</td>\n",
       "      <td>DB09020</td>\n",
       "      <td>DOID:1324</td>\n",
       "      <td>CdGeAeGaD</td>\n",
       "      <td>1451285</td>\n",
       "      <td>0.4</td>\n",
       "      <td>0.154356</td>\n",
       "      <td>44.43</td>\n",
       "      <td>DWPC</td>\n",
       "    </tr>\n",
       "  </tbody>\n",
       "</table>\n",
       "</div>"
      ],
      "text/plain": [
       "                    hetnet compound_id disease_id    feature       PC    w  \\\n",
       "22933123  hetio-ind_perm-5     DB08912  DOID:9352  CdGeAeGaD  1599374  0.4   \n",
       "22933124  hetio-ind_perm-4     DB09020  DOID:1324  CdGeAeGaD  1451285  0.4   \n",
       "\n",
       "             value  seconds feature_type  \n",
       "22933123  0.163162    61.52         DWPC  \n",
       "22933124  0.154356    44.43         DWPC  "
      ]
     },
     "execution_count": 3,
     "metadata": {},
     "output_type": "execute_result"
    }
   ],
   "source": [
    "# Read DWPC results\n",
    "dwpc_df = pandas.read_table('data/dwpc.tsv.bz2')\n",
    "dwpc_df = dwpc_df.rename(columns={'metapath': 'feature', 'DWPC': 'value'})\n",
    "dwpc_df['feature_type'] = 'DWPC'\n",
    "dwpc_df.tail(2)"
   ]
  },
  {
   "cell_type": "code",
   "execution_count": 4,
   "metadata": {
    "collapsed": false,
    "scrolled": true
   },
   "outputs": [],
   "source": [
    "commit = '8f7c90a413b883911db0d8afb3c37775d1370087'\n",
    "\n",
    "url = 'https://github.com/dhimmel/integrate/raw/{}/data/summary/degrees.xlsx'.format(commit)\n",
    "disease_degree_df = pandas.read_excel(url, sheetname='Disease')\n",
    "disease_degree_df = disease_degree_df.rename(columns={'node_id': 'disease_id'}).drop('node_name', axis='columns')\n",
    "compound_degree_df = pandas.read_excel(url, sheetname='Compound')\n",
    "compound_degree_df = compound_degree_df.rename(columns={'node_id': 'compound_id'}).drop('node_name', axis='columns')\n",
    "\n",
    "url = 'https://github.com/dhimmel/integrate/raw/{}/data/summary/metaedge-styles.tsv'.format(commit)\n",
    "metaedge_style_df = pandas.read_table(url)\n",
    "metaedge_to_abbreviation = dict(zip(metaedge_style_df.metaedge, metaedge_style_df.abbreviation))"
   ]
  },
  {
   "cell_type": "code",
   "execution_count": 5,
   "metadata": {
    "collapsed": false,
    "scrolled": true
   },
   "outputs": [
    {
     "data": {
      "text/html": [
       "<div>\n",
       "<table border=\"1\" class=\"dataframe\">\n",
       "  <thead>\n",
       "    <tr style=\"text-align: right;\">\n",
       "      <th></th>\n",
       "      <th>hetnet</th>\n",
       "      <th>compound_id</th>\n",
       "      <th>disease_id</th>\n",
       "      <th>feature</th>\n",
       "      <th>value</th>\n",
       "      <th>feature_type</th>\n",
       "    </tr>\n",
       "  </thead>\n",
       "  <tbody>\n",
       "    <tr>\n",
       "      <th>301998</th>\n",
       "      <td>hetio-ind_perm-3</td>\n",
       "      <td>DB09015</td>\n",
       "      <td>DOID:11555</td>\n",
       "      <td>DuG</td>\n",
       "      <td>0</td>\n",
       "      <td>degree</td>\n",
       "    </tr>\n",
       "    <tr>\n",
       "      <th>301999</th>\n",
       "      <td>hetio-ind_perm-1</td>\n",
       "      <td>DB09018</td>\n",
       "      <td>DOID:11555</td>\n",
       "      <td>DuG</td>\n",
       "      <td>0</td>\n",
       "      <td>degree</td>\n",
       "    </tr>\n",
       "  </tbody>\n",
       "</table>\n",
       "</div>"
      ],
      "text/plain": [
       "                  hetnet compound_id  disease_id feature  value feature_type\n",
       "301998  hetio-ind_perm-3     DB09015  DOID:11555     DuG      0       degree\n",
       "301999  hetio-ind_perm-1     DB09018  DOID:11555     DuG      0       degree"
      ]
     },
     "execution_count": 5,
     "metadata": {},
     "output_type": "execute_result"
    }
   ],
   "source": [
    "degree_df = part_df.merge(compound_degree_df).merge(disease_degree_df)\n",
    "degree_vars = list(compound_degree_df.columns[1:]) + list(disease_degree_df.columns[1:])\n",
    "degree_df = pandas.melt(degree_df, id_vars=['hetnet', 'compound_id', 'disease_id'],\n",
    "    value_vars=degree_vars, var_name='feature')\n",
    "degree_df['feature'] = degree_df['feature'].map(metaedge_to_abbreviation)\n",
    "degree_df['feature_type'] = 'degree'\n",
    "degree_df.tail(2)"
   ]
  },
  {
   "cell_type": "code",
   "execution_count": 6,
   "metadata": {
    "collapsed": false
   },
   "outputs": [
    {
     "data": {
      "text/html": [
       "<div>\n",
       "<table border=\"1\" class=\"dataframe\">\n",
       "  <thead>\n",
       "    <tr style=\"text-align: right;\">\n",
       "      <th></th>\n",
       "      <th>hetnet</th>\n",
       "      <th>compound_id</th>\n",
       "      <th>disease_id</th>\n",
       "      <th>status</th>\n",
       "      <th>PC</th>\n",
       "      <th>feature</th>\n",
       "      <th>feature_type</th>\n",
       "      <th>seconds</th>\n",
       "      <th>value</th>\n",
       "      <th>w</th>\n",
       "    </tr>\n",
       "  </thead>\n",
       "  <tbody>\n",
       "    <tr>\n",
       "      <th>0</th>\n",
       "      <td>hetio-ind_perm-5</td>\n",
       "      <td>DB00014</td>\n",
       "      <td>DOID:0060073</td>\n",
       "      <td>0</td>\n",
       "      <td>NaN</td>\n",
       "      <td>CbG</td>\n",
       "      <td>degree</td>\n",
       "      <td>NaN</td>\n",
       "      <td>2.0</td>\n",
       "      <td>NaN</td>\n",
       "    </tr>\n",
       "    <tr>\n",
       "      <th>1</th>\n",
       "      <td>hetio-ind_perm-5</td>\n",
       "      <td>DB00014</td>\n",
       "      <td>DOID:0060073</td>\n",
       "      <td>0</td>\n",
       "      <td>NaN</td>\n",
       "      <td>CcSE</td>\n",
       "      <td>degree</td>\n",
       "      <td>NaN</td>\n",
       "      <td>249.0</td>\n",
       "      <td>NaN</td>\n",
       "    </tr>\n",
       "  </tbody>\n",
       "</table>\n",
       "</div>"
      ],
      "text/plain": [
       "             hetnet compound_id    disease_id  status  PC feature  \\\n",
       "0  hetio-ind_perm-5     DB00014  DOID:0060073       0 NaN     CbG   \n",
       "1  hetio-ind_perm-5     DB00014  DOID:0060073       0 NaN    CcSE   \n",
       "\n",
       "  feature_type  seconds  value   w  \n",
       "0       degree      NaN    2.0 NaN  \n",
       "1       degree      NaN  249.0 NaN  "
      ]
     },
     "execution_count": 6,
     "metadata": {},
     "output_type": "execute_result"
    }
   ],
   "source": [
    "feature_df = part_df.merge(pandas.concat([degree_df, dwpc_df]))\n",
    "feature_df.head(2)"
   ]
  },
  {
   "cell_type": "markdown",
   "metadata": {},
   "source": [
    "## Compute performance"
   ]
  },
  {
   "cell_type": "code",
   "execution_count": 7,
   "metadata": {
    "collapsed": false
   },
   "outputs": [],
   "source": [
    "def compute_metrics(df):\n",
    "    y_true = df['status']\n",
    "    y_score = df['value']\n",
    "    series = pandas.Series()\n",
    "    series['nonzero'] = (y_score > 0).mean()\n",
    "    series['auroc'] = sklearn.metrics.roc_auc_score(y_true, y_score)\n",
    "    series['auprc'] = sklearn.metrics.average_precision_score(y_true, y_score)\n",
    "    return series\n",
    "\n",
    "auc_df = feature_df.groupby(['hetnet', 'feature_type', 'feature']).apply(compute_metrics).reset_index()\n",
    "auc_df['permuted'] = auc_df.hetnet.str.contains('_perm').astype(int)"
   ]
  },
  {
   "cell_type": "code",
   "execution_count": 8,
   "metadata": {
    "collapsed": false
   },
   "outputs": [
    {
     "data": {
      "text/html": [
       "<div>\n",
       "<table border=\"1\" class=\"dataframe\">\n",
       "  <thead>\n",
       "    <tr style=\"text-align: right;\">\n",
       "      <th></th>\n",
       "      <th>hetnet</th>\n",
       "      <th>feature_type</th>\n",
       "      <th>feature</th>\n",
       "      <th>nonzero</th>\n",
       "      <th>auroc</th>\n",
       "      <th>auprc</th>\n",
       "      <th>permuted</th>\n",
       "    </tr>\n",
       "  </thead>\n",
       "  <tbody>\n",
       "    <tr>\n",
       "      <th>0</th>\n",
       "      <td>hetio-ind</td>\n",
       "      <td>DWPC</td>\n",
       "      <td>CbG&lt;rG&lt;rGaD</td>\n",
       "      <td>0.624636</td>\n",
       "      <td>0.785146</td>\n",
       "      <td>0.494498</td>\n",
       "      <td>0</td>\n",
       "    </tr>\n",
       "    <tr>\n",
       "      <th>1</th>\n",
       "      <td>hetio-ind</td>\n",
       "      <td>DWPC</td>\n",
       "      <td>CbG&lt;rG&lt;rGdD</td>\n",
       "      <td>0.250596</td>\n",
       "      <td>0.663977</td>\n",
       "      <td>0.399786</td>\n",
       "      <td>0</td>\n",
       "    </tr>\n",
       "  </tbody>\n",
       "</table>\n",
       "</div>"
      ],
      "text/plain": [
       "      hetnet feature_type      feature   nonzero     auroc     auprc  permuted\n",
       "0  hetio-ind         DWPC  CbG<rG<rGaD  0.624636  0.785146  0.494498         0\n",
       "1  hetio-ind         DWPC  CbG<rG<rGdD  0.250596  0.663977  0.399786         0"
      ]
     },
     "execution_count": 8,
     "metadata": {},
     "output_type": "execute_result"
    }
   ],
   "source": [
    "auc_df.head(2)"
   ]
  },
  {
   "cell_type": "code",
   "execution_count": 9,
   "metadata": {
    "collapsed": false
   },
   "outputs": [],
   "source": [
    "def compare_permutation(df):\n",
    "    unperm = df.query(\"permuted == 0\").iloc[0, :]\n",
    "    perm_df = df.query(\"permuted == 1\")\n",
    "    series = pandas.Series()\n",
    "    series['nonzero'] = unperm['nonzero']\n",
    "    series['auroc'] = unperm.auroc\n",
    "    series['auroc_permuted'] = perm_df.auroc.mean()\n",
    "    series['delta_auroc'] = series['auroc'] - series['auroc_permuted']\n",
    "    ttest = scipy.stats.ttest_1samp(perm_df.auroc, unperm.auroc)\n",
    "    pvalue = ttest.pvalue\n",
    "    series['pval_auroc'] = pvalue\n",
    "    #series['nlog10_pval_auroc'] = -math.log10(pvalue)\n",
    "    return(series)\n",
    "\n",
    "compare_df = auc_df.groupby(['feature_type', 'feature']).apply(compare_permutation).reset_index()\n",
    "reject, compare_df['fdr_pval_auroc'], alphacSidak, alphacBonf = multipletests(\n",
    "    pvals=compare_df.pval_auroc, method='fdr_bh')\n",
    "compare_df = compare_df.sort_values('feature')"
   ]
  },
  {
   "cell_type": "code",
   "execution_count": 10,
   "metadata": {
    "collapsed": false
   },
   "outputs": [
    {
     "data": {
      "text/html": [
       "<div>\n",
       "<table border=\"1\" class=\"dataframe\">\n",
       "  <thead>\n",
       "    <tr style=\"text-align: right;\">\n",
       "      <th></th>\n",
       "      <th>feature_type</th>\n",
       "      <th>feature</th>\n",
       "      <th>nonzero</th>\n",
       "      <th>auroc</th>\n",
       "      <th>auroc_permuted</th>\n",
       "      <th>delta_auroc</th>\n",
       "      <th>pval_auroc</th>\n",
       "      <th>fdr_pval_auroc</th>\n",
       "    </tr>\n",
       "  </thead>\n",
       "  <tbody>\n",
       "    <tr>\n",
       "      <th>1228</th>\n",
       "      <td>degree</td>\n",
       "      <td>DrD</td>\n",
       "      <td>0.953642</td>\n",
       "      <td>0.463837</td>\n",
       "      <td>0.456494</td>\n",
       "      <td>0.007343</td>\n",
       "      <td>0.009585</td>\n",
       "      <td>0.035966</td>\n",
       "    </tr>\n",
       "    <tr>\n",
       "      <th>1229</th>\n",
       "      <td>degree</td>\n",
       "      <td>DtC</td>\n",
       "      <td>0.646623</td>\n",
       "      <td>0.858216</td>\n",
       "      <td>0.864443</td>\n",
       "      <td>-0.006227</td>\n",
       "      <td>0.018287</td>\n",
       "      <td>0.053079</td>\n",
       "    </tr>\n",
       "    <tr>\n",
       "      <th>1230</th>\n",
       "      <td>degree</td>\n",
       "      <td>DuG</td>\n",
       "      <td>0.388874</td>\n",
       "      <td>0.658492</td>\n",
       "      <td>0.651686</td>\n",
       "      <td>0.006806</td>\n",
       "      <td>0.035766</td>\n",
       "      <td>0.085825</td>\n",
       "    </tr>\n",
       "  </tbody>\n",
       "</table>\n",
       "</div>"
      ],
      "text/plain": [
       "     feature_type feature   nonzero     auroc  auroc_permuted  delta_auroc  \\\n",
       "1228       degree     DrD  0.953642  0.463837        0.456494     0.007343   \n",
       "1229       degree     DtC  0.646623  0.858216        0.864443    -0.006227   \n",
       "1230       degree     DuG  0.388874  0.658492        0.651686     0.006806   \n",
       "\n",
       "      pval_auroc  fdr_pval_auroc  \n",
       "1228    0.009585        0.035966  \n",
       "1229    0.018287        0.053079  \n",
       "1230    0.035766        0.085825  "
      ]
     },
     "execution_count": 10,
     "metadata": {},
     "output_type": "execute_result"
    }
   ],
   "source": [
    "compare_df.tail(3)"
   ]
  },
  {
   "cell_type": "code",
   "execution_count": 11,
   "metadata": {
    "collapsed": false
   },
   "outputs": [
    {
     "data": {
      "text/plain": [
       "1231"
      ]
     },
     "execution_count": 11,
     "metadata": {},
     "output_type": "execute_result"
    }
   ],
   "source": [
    "len(compare_df)"
   ]
  },
  {
   "cell_type": "code",
   "execution_count": 12,
   "metadata": {
    "collapsed": false
   },
   "outputs": [
    {
     "data": {
      "text/html": [
       "<div>\n",
       "<table border=\"1\" class=\"dataframe\">\n",
       "  <thead>\n",
       "    <tr style=\"text-align: right;\">\n",
       "      <th></th>\n",
       "      <th>feature_type</th>\n",
       "      <th>feature</th>\n",
       "      <th>nonzero</th>\n",
       "      <th>auroc</th>\n",
       "      <th>auroc_permuted</th>\n",
       "      <th>delta_auroc</th>\n",
       "      <th>pval_auroc</th>\n",
       "      <th>fdr_pval_auroc</th>\n",
       "    </tr>\n",
       "  </thead>\n",
       "  <tbody>\n",
       "    <tr>\n",
       "      <th>769</th>\n",
       "      <td>DWPC</td>\n",
       "      <td>CrCrCtDrD</td>\n",
       "      <td>0.179868</td>\n",
       "      <td>0.663283</td>\n",
       "      <td>0.474523</td>\n",
       "      <td>0.188760</td>\n",
       "      <td>0.000002</td>\n",
       "      <td>0.001063</td>\n",
       "    </tr>\n",
       "    <tr>\n",
       "      <th>773</th>\n",
       "      <td>DWPC</td>\n",
       "      <td>CrCtD</td>\n",
       "      <td>0.113377</td>\n",
       "      <td>0.754664</td>\n",
       "      <td>0.532202</td>\n",
       "      <td>0.222463</td>\n",
       "      <td>0.000002</td>\n",
       "      <td>0.001063</td>\n",
       "    </tr>\n",
       "    <tr>\n",
       "      <th>528</th>\n",
       "      <td>DWPC</td>\n",
       "      <td>CiPCiCdGaD</td>\n",
       "      <td>0.175099</td>\n",
       "      <td>0.686687</td>\n",
       "      <td>0.622530</td>\n",
       "      <td>0.064158</td>\n",
       "      <td>0.000004</td>\n",
       "      <td>0.001222</td>\n",
       "    </tr>\n",
       "    <tr>\n",
       "      <th>200</th>\n",
       "      <td>DWPC</td>\n",
       "      <td>CbGr&gt;Gr&gt;GaD</td>\n",
       "      <td>0.706225</td>\n",
       "      <td>0.776548</td>\n",
       "      <td>0.734824</td>\n",
       "      <td>0.041724</td>\n",
       "      <td>0.000004</td>\n",
       "      <td>0.001222</td>\n",
       "    </tr>\n",
       "    <tr>\n",
       "      <th>685</th>\n",
       "      <td>DWPC</td>\n",
       "      <td>CrCbGaD</td>\n",
       "      <td>0.338013</td>\n",
       "      <td>0.684673</td>\n",
       "      <td>0.608660</td>\n",
       "      <td>0.076014</td>\n",
       "      <td>0.000006</td>\n",
       "      <td>0.001478</td>\n",
       "    </tr>\n",
       "  </tbody>\n",
       "</table>\n",
       "</div>"
      ],
      "text/plain": [
       "    feature_type      feature   nonzero     auroc  auroc_permuted  \\\n",
       "769         DWPC    CrCrCtDrD  0.179868  0.663283        0.474523   \n",
       "773         DWPC        CrCtD  0.113377  0.754664        0.532202   \n",
       "528         DWPC   CiPCiCdGaD  0.175099  0.686687        0.622530   \n",
       "200         DWPC  CbGr>Gr>GaD  0.706225  0.776548        0.734824   \n",
       "685         DWPC      CrCbGaD  0.338013  0.684673        0.608660   \n",
       "\n",
       "     delta_auroc  pval_auroc  fdr_pval_auroc  \n",
       "769     0.188760    0.000002        0.001063  \n",
       "773     0.222463    0.000002        0.001063  \n",
       "528     0.064158    0.000004        0.001222  \n",
       "200     0.041724    0.000004        0.001222  \n",
       "685     0.076014    0.000006        0.001478  "
      ]
     },
     "execution_count": 12,
     "metadata": {},
     "output_type": "execute_result"
    }
   ],
   "source": [
    "compare_df.sort_values('pval_auroc', ascending=True).head(5)"
   ]
  },
  {
   "cell_type": "code",
   "execution_count": 13,
   "metadata": {
    "collapsed": true
   },
   "outputs": [],
   "source": [
    "# Save datasets\n",
    "auc_df.to_csv('data/auc.tsv', sep='\\t', index=False, float_format='%.5g')\n",
    "compare_df.to_csv('data/auroc.tsv', sep='\\t', index=False, float_format='%.5g')"
   ]
  },
  {
   "cell_type": "markdown",
   "metadata": {},
   "source": [
    "## Create matrix"
   ]
  },
  {
   "cell_type": "code",
   "execution_count": 14,
   "metadata": {
    "collapsed": true
   },
   "outputs": [],
   "source": [
    "# Read compound and disease degrees\n",
    "compound_df = pandas.read_table('../summary/compounds.tsv')\n",
    "compound_df = compound_df.iloc[:, :2]\n",
    "disease_df = pandas.read_table('../summary/diseases.tsv')\n",
    "disease_df = disease_df.iloc[:, :2]"
   ]
  },
  {
   "cell_type": "code",
   "execution_count": 16,
   "metadata": {
    "collapsed": false
   },
   "outputs": [
    {
     "name": "stdout",
     "output_type": "stream",
     "text": [
      "hetio-ind_perm-5\n",
      "hetio-ind\n",
      "hetio-ind_perm-3\n",
      "hetio-ind_perm-4\n",
      "hetio-ind_perm-1\n"
     ]
    }
   ],
   "source": [
    "# Create spread dataframes\n",
    "# compound-disease pairs as rows, metapaths as columns\n",
    "for hetnet in feature_df.hetnet.unique():\n",
    "    print(hetnet)\n",
    "    df = part_df.merge(feature_df.query(\"hetnet == @hetnet\"))\n",
    "    df = pandas.pivot_table(df, values='value', index=['compound_id', 'disease_id', 'status'], columns='feature')\n",
    "    df = df.reset_index()\n",
    "    df = compound_df.merge(disease_df.merge(df))\n",
    "    for feature in compare_df.query(\"feature_type == 'degree'\").feature:\n",
    "        df[feature] = df[feature].astype(int)\n",
    "    directory = 'data/matrix/{}'.format(hetnet)\n",
    "    if not os.path.exists(directory):\n",
    "        os.mkdir(directory)\n",
    "    filename = 'features.tsv.bz2'\n",
    "    path = os.path.join(directory, filename)\n",
    "    with bz2.open(path, 'wt') as wf:\n",
    "        df.to_csv(wf, index=False, sep='\\t')"
   ]
  },
  {
   "cell_type": "code",
   "execution_count": 18,
   "metadata": {
    "collapsed": false
   },
   "outputs": [
    {
     "data": {
      "text/html": [
       "<div>\n",
       "<table border=\"1\" class=\"dataframe\">\n",
       "  <thead>\n",
       "    <tr style=\"text-align: right;\">\n",
       "      <th></th>\n",
       "      <th>compound_id</th>\n",
       "      <th>compound_name</th>\n",
       "      <th>disease_id</th>\n",
       "      <th>disease_name</th>\n",
       "      <th>status</th>\n",
       "      <th>CbG</th>\n",
       "      <th>CbG&lt;rG&lt;rGaD</th>\n",
       "      <th>CbG&lt;rG&lt;rGdD</th>\n",
       "      <th>CbG&lt;rG&lt;rGuD</th>\n",
       "      <th>CbG&lt;rGaD</th>\n",
       "      <th>...</th>\n",
       "      <th>CuGuDuGdD</th>\n",
       "      <th>CuGuDuGuD</th>\n",
       "      <th>DaG</th>\n",
       "      <th>DdG</th>\n",
       "      <th>DlA</th>\n",
       "      <th>DpC</th>\n",
       "      <th>DpS</th>\n",
       "      <th>DrD</th>\n",
       "      <th>DtC</th>\n",
       "      <th>DuG</th>\n",
       "    </tr>\n",
       "  </thead>\n",
       "  <tbody>\n",
       "    <tr>\n",
       "      <th>0</th>\n",
       "      <td>DB01048</td>\n",
       "      <td>Abacavir</td>\n",
       "      <td>DOID:1319</td>\n",
       "      <td>brain cancer</td>\n",
       "      <td>0</td>\n",
       "      <td>3</td>\n",
       "      <td>0.002806</td>\n",
       "      <td>0.0</td>\n",
       "      <td>0.0</td>\n",
       "      <td>0.001683</td>\n",
       "      <td>...</td>\n",
       "      <td>0.0</td>\n",
       "      <td>0.0</td>\n",
       "      <td>111</td>\n",
       "      <td>0</td>\n",
       "      <td>66</td>\n",
       "      <td>4</td>\n",
       "      <td>88</td>\n",
       "      <td>8</td>\n",
       "      <td>7</td>\n",
       "      <td>0</td>\n",
       "    </tr>\n",
       "    <tr>\n",
       "      <th>1</th>\n",
       "      <td>DB01048</td>\n",
       "      <td>Abacavir</td>\n",
       "      <td>DOID:10941</td>\n",
       "      <td>intracranial aneurysm</td>\n",
       "      <td>0</td>\n",
       "      <td>3</td>\n",
       "      <td>0.000952</td>\n",
       "      <td>0.0</td>\n",
       "      <td>0.0</td>\n",
       "      <td>0.001578</td>\n",
       "      <td>...</td>\n",
       "      <td>0.0</td>\n",
       "      <td>0.0</td>\n",
       "      <td>23</td>\n",
       "      <td>0</td>\n",
       "      <td>49</td>\n",
       "      <td>0</td>\n",
       "      <td>50</td>\n",
       "      <td>2</td>\n",
       "      <td>0</td>\n",
       "      <td>0</td>\n",
       "    </tr>\n",
       "  </tbody>\n",
       "</table>\n",
       "<p>2 rows × 1236 columns</p>\n",
       "</div>"
      ],
      "text/plain": [
       "  compound_id compound_name  disease_id           disease_name  status  CbG  \\\n",
       "0     DB01048      Abacavir   DOID:1319           brain cancer       0    3   \n",
       "1     DB01048      Abacavir  DOID:10941  intracranial aneurysm       0    3   \n",
       "\n",
       "   CbG<rG<rGaD  CbG<rG<rGdD  CbG<rG<rGuD  CbG<rGaD ...   CuGuDuGdD  CuGuDuGuD  \\\n",
       "0     0.002806          0.0          0.0  0.001683 ...         0.0        0.0   \n",
       "1     0.000952          0.0          0.0  0.001578 ...         0.0        0.0   \n",
       "\n",
       "   DaG  DdG  DlA  DpC  DpS  DrD  DtC  DuG  \n",
       "0  111    0   66    4   88    8    7    0  \n",
       "1   23    0   49    0   50    2    0    0  \n",
       "\n",
       "[2 rows x 1236 columns]"
      ]
     },
     "execution_count": 18,
     "metadata": {},
     "output_type": "execute_result"
    }
   ],
   "source": [
    "df.head(2)"
   ]
  }
 ],
 "metadata": {
  "kernelspec": {
   "display_name": "Python 3",
   "language": "python",
   "name": "python3"
  },
  "language_info": {
   "codemirror_mode": {
    "name": "ipython",
    "version": 3
   },
   "file_extension": ".py",
   "mimetype": "text/x-python",
   "name": "python",
   "nbconvert_exporter": "python",
   "pygments_lexer": "ipython3",
   "version": "3.5.1"
  }
 },
 "nbformat": 4,
 "nbformat_minor": 0
}
