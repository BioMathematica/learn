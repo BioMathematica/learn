{
 "cells": [
  {
   "cell_type": "markdown",
   "metadata": {},
   "source": [
    "# Calculate the performonce on every feature"
   ]
  },
  {
   "cell_type": "code",
   "execution_count": 1,
   "metadata": {
    "collapsed": false
   },
   "outputs": [],
   "source": [
    "import bz2\n",
    "import os\n",
    "import re\n",
    "\n",
    "import pandas\n",
    "import sklearn.metrics\n",
    "import scipy.stats\n",
    "import math"
   ]
  },
  {
   "cell_type": "markdown",
   "metadata": {},
   "source": [
    "## Read features and partitions"
   ]
  },
  {
   "cell_type": "code",
   "execution_count": 2,
   "metadata": {
    "collapsed": false
   },
   "outputs": [
    {
     "data": {
      "text/html": [
       "<div>\n",
       "<table border=\"1\" class=\"dataframe\">\n",
       "  <thead>\n",
       "    <tr style=\"text-align: right;\">\n",
       "      <th></th>\n",
       "      <th>hetnet</th>\n",
       "      <th>compound_id</th>\n",
       "      <th>disease_id</th>\n",
       "      <th>status</th>\n",
       "    </tr>\n",
       "  </thead>\n",
       "  <tbody>\n",
       "    <tr>\n",
       "      <th>18873</th>\n",
       "      <td>hetio-ind_perm-5</td>\n",
       "      <td>DB09028</td>\n",
       "      <td>DOID:585</td>\n",
       "      <td>0</td>\n",
       "    </tr>\n",
       "    <tr>\n",
       "      <th>18874</th>\n",
       "      <td>hetio-ind_perm-1</td>\n",
       "      <td>DB09028</td>\n",
       "      <td>DOID:9074</td>\n",
       "      <td>0</td>\n",
       "    </tr>\n",
       "  </tbody>\n",
       "</table>\n",
       "</div>"
      ],
      "text/plain": [
       "                 hetnet compound_id disease_id  status\n",
       "18873  hetio-ind_perm-5     DB09028   DOID:585       0\n",
       "18874  hetio-ind_perm-1     DB09028  DOID:9074       0"
      ]
     },
     "execution_count": 2,
     "metadata": {},
     "output_type": "execute_result"
    }
   ],
   "source": [
    "part_df = pandas.read_table('data/partitions.tsv')\n",
    "part_df.tail(2)"
   ]
  },
  {
   "cell_type": "code",
   "execution_count": 3,
   "metadata": {
    "collapsed": false
   },
   "outputs": [],
   "source": [
    "dwpc_df = pandas.read_table('data/dwpc.tsv.bz2')"
   ]
  },
  {
   "cell_type": "code",
   "execution_count": 4,
   "metadata": {
    "collapsed": false
   },
   "outputs": [
    {
     "data": {
      "text/html": [
       "<div>\n",
       "<table border=\"1\" class=\"dataframe\">\n",
       "  <thead>\n",
       "    <tr style=\"text-align: right;\">\n",
       "      <th></th>\n",
       "      <th>hetnet</th>\n",
       "      <th>compound_id</th>\n",
       "      <th>disease_id</th>\n",
       "      <th>status</th>\n",
       "      <th>metapath</th>\n",
       "      <th>PC</th>\n",
       "      <th>w</th>\n",
       "      <th>DWPC</th>\n",
       "      <th>seconds</th>\n",
       "    </tr>\n",
       "  </thead>\n",
       "  <tbody>\n",
       "    <tr>\n",
       "      <th>22933123</th>\n",
       "      <td>hetio-ind_perm-1</td>\n",
       "      <td>DB09028</td>\n",
       "      <td>DOID:9074</td>\n",
       "      <td>0</td>\n",
       "      <td>CuGeAeGaD</td>\n",
       "      <td>0</td>\n",
       "      <td>0.4</td>\n",
       "      <td>0.0</td>\n",
       "      <td>0.001614</td>\n",
       "    </tr>\n",
       "    <tr>\n",
       "      <th>22933124</th>\n",
       "      <td>hetio-ind_perm-1</td>\n",
       "      <td>DB09028</td>\n",
       "      <td>DOID:9074</td>\n",
       "      <td>0</td>\n",
       "      <td>CdGeAeGaD</td>\n",
       "      <td>0</td>\n",
       "      <td>0.4</td>\n",
       "      <td>0.0</td>\n",
       "      <td>0.002203</td>\n",
       "    </tr>\n",
       "  </tbody>\n",
       "</table>\n",
       "</div>"
      ],
      "text/plain": [
       "                    hetnet compound_id disease_id  status   metapath  PC    w  \\\n",
       "22933123  hetio-ind_perm-1     DB09028  DOID:9074       0  CuGeAeGaD   0  0.4   \n",
       "22933124  hetio-ind_perm-1     DB09028  DOID:9074       0  CdGeAeGaD   0  0.4   \n",
       "\n",
       "          DWPC   seconds  \n",
       "22933123   0.0  0.001614  \n",
       "22933124   0.0  0.002203  "
      ]
     },
     "execution_count": 4,
     "metadata": {},
     "output_type": "execute_result"
    }
   ],
   "source": [
    "dwpc_df = part_df.merge(dwpc_df)\n",
    "dwpc_df.tail(2)"
   ]
  },
  {
   "cell_type": "markdown",
   "metadata": {},
   "source": [
    "## Compute performance"
   ]
  },
  {
   "cell_type": "code",
   "execution_count": 5,
   "metadata": {
    "collapsed": false
   },
   "outputs": [],
   "source": [
    "def compute_metrics(df):\n",
    "    y_true = df['status']\n",
    "    y_score = df.DWPC\n",
    "    series = pandas.Series()\n",
    "    series['nonzero'] = (y_score > 0).mean()\n",
    "    series['auroc'] = sklearn.metrics.roc_auc_score(y_true, y_score)\n",
    "    series['auprc'] = sklearn.metrics.average_precision_score(y_true, y_score)\n",
    "    series['mean_PC'] = df['PC'].mean()\n",
    "    series['seconds_per_query'] = df['seconds'].mean()\n",
    "    return series\n",
    "\n",
    "auc_df = dwpc_df.groupby(['hetnet', 'metapath']).apply(compute_metrics).reset_index()\n",
    "auc_df['permuted'] = auc_df.hetnet.str.contains('_perm').astype(int)"
   ]
  },
  {
   "cell_type": "code",
   "execution_count": 6,
   "metadata": {
    "collapsed": false
   },
   "outputs": [
    {
     "data": {
      "text/html": [
       "<div>\n",
       "<table border=\"1\" class=\"dataframe\">\n",
       "  <thead>\n",
       "    <tr style=\"text-align: right;\">\n",
       "      <th></th>\n",
       "      <th>hetnet</th>\n",
       "      <th>metapath</th>\n",
       "      <th>nonzero</th>\n",
       "      <th>auroc</th>\n",
       "      <th>auprc</th>\n",
       "      <th>mean_PC</th>\n",
       "      <th>seconds_per_query</th>\n",
       "      <th>permuted</th>\n",
       "    </tr>\n",
       "  </thead>\n",
       "  <tbody>\n",
       "    <tr>\n",
       "      <th>0</th>\n",
       "      <td>hetio-ind</td>\n",
       "      <td>CbG&lt;rG&lt;rGaD</td>\n",
       "      <td>0.624636</td>\n",
       "      <td>0.785146</td>\n",
       "      <td>0.494498</td>\n",
       "      <td>203.201060</td>\n",
       "      <td>0.217884</td>\n",
       "      <td>0</td>\n",
       "    </tr>\n",
       "    <tr>\n",
       "      <th>1</th>\n",
       "      <td>hetio-ind</td>\n",
       "      <td>CbG&lt;rG&lt;rGdD</td>\n",
       "      <td>0.250596</td>\n",
       "      <td>0.663977</td>\n",
       "      <td>0.399786</td>\n",
       "      <td>52.062781</td>\n",
       "      <td>0.127356</td>\n",
       "      <td>0</td>\n",
       "    </tr>\n",
       "  </tbody>\n",
       "</table>\n",
       "</div>"
      ],
      "text/plain": [
       "      hetnet     metapath   nonzero     auroc     auprc     mean_PC  \\\n",
       "0  hetio-ind  CbG<rG<rGaD  0.624636  0.785146  0.494498  203.201060   \n",
       "1  hetio-ind  CbG<rG<rGdD  0.250596  0.663977  0.399786   52.062781   \n",
       "\n",
       "   seconds_per_query  permuted  \n",
       "0           0.217884         0  \n",
       "1           0.127356         0  "
      ]
     },
     "execution_count": 6,
     "metadata": {},
     "output_type": "execute_result"
    }
   ],
   "source": [
    "auc_df.head(2)"
   ]
  },
  {
   "cell_type": "code",
   "execution_count": 7,
   "metadata": {
    "collapsed": false
   },
   "outputs": [],
   "source": [
    "def compare_permutation(df):\n",
    "    unperm = df.query(\"permuted == 0\").iloc[0, :]\n",
    "    perm_df = df.query(\"permuted == 1\")\n",
    "    series = pandas.Series()\n",
    "    series['nonzero'] = unperm['nonzero']\n",
    "    series['seconds_per_query'] = unperm['seconds_per_query']\n",
    "    series['auroc'] = unperm.auroc\n",
    "    series['auroc_permuted'] = perm_df.auroc.mean()\n",
    "    series['delta_auroc'] = series['auroc'] - series['auroc_permuted']\n",
    "    # One tailed p-value testing whether the unpermuted AUROC\n",
    "    # is greater than the permuted AUROCs\n",
    "    ttest = scipy.stats.ttest_1samp(perm_df.auroc, unperm.auroc)\n",
    "    pvalue = ttest.pvalue / 2 if ttest.statistic < 0 else 1 - ttest.pvalue / 2\n",
    "    series['pval_auroc'] = pvalue\n",
    "    #series['nlog10_pval_auroc'] = -math.log10(pvalue)\n",
    "    return(series)\n",
    "\n",
    "compare_df = auc_df.groupby('metapath').apply(compare_permutation).reset_index()\n",
    "compare_df['length'] = compare_df.metapath.map(lambda x: len(re.split(r'[a-z<>]+', x)) - 1)\n",
    "compare_df = compare_df.sort_values(['length', 'metapath'])"
   ]
  },
  {
   "cell_type": "code",
   "execution_count": 8,
   "metadata": {
    "collapsed": false
   },
   "outputs": [
    {
     "data": {
      "text/html": [
       "<div>\n",
       "<table border=\"1\" class=\"dataframe\">\n",
       "  <thead>\n",
       "    <tr style=\"text-align: right;\">\n",
       "      <th></th>\n",
       "      <th>metapath</th>\n",
       "      <th>nonzero</th>\n",
       "      <th>seconds_per_query</th>\n",
       "      <th>auroc</th>\n",
       "      <th>auroc_permuted</th>\n",
       "      <th>delta_auroc</th>\n",
       "      <th>pval_auroc</th>\n",
       "      <th>length</th>\n",
       "    </tr>\n",
       "  </thead>\n",
       "  <tbody>\n",
       "    <tr>\n",
       "      <th>27</th>\n",
       "      <td>CbGaD</td>\n",
       "      <td>0.233113</td>\n",
       "      <td>0.010829</td>\n",
       "      <td>0.751725</td>\n",
       "      <td>0.642282</td>\n",
       "      <td>0.109443</td>\n",
       "      <td>0.000004</td>\n",
       "      <td>2</td>\n",
       "    </tr>\n",
       "    <tr>\n",
       "      <th>113</th>\n",
       "      <td>CbGdD</td>\n",
       "      <td>0.027550</td>\n",
       "      <td>0.010916</td>\n",
       "      <td>0.523197</td>\n",
       "      <td>0.522938</td>\n",
       "      <td>0.000259</td>\n",
       "      <td>0.473782</td>\n",
       "      <td>2</td>\n",
       "    </tr>\n",
       "    <tr>\n",
       "      <th>237</th>\n",
       "      <td>CbGuD</td>\n",
       "      <td>0.025430</td>\n",
       "      <td>0.010817</td>\n",
       "      <td>0.530414</td>\n",
       "      <td>0.520551</td>\n",
       "      <td>0.009863</td>\n",
       "      <td>0.006674</td>\n",
       "      <td>2</td>\n",
       "    </tr>\n",
       "  </tbody>\n",
       "</table>\n",
       "</div>"
      ],
      "text/plain": [
       "    metapath   nonzero  seconds_per_query     auroc  auroc_permuted  \\\n",
       "27     CbGaD  0.233113           0.010829  0.751725        0.642282   \n",
       "113    CbGdD  0.027550           0.010916  0.523197        0.522938   \n",
       "237    CbGuD  0.025430           0.010817  0.530414        0.520551   \n",
       "\n",
       "     delta_auroc  pval_auroc  length  \n",
       "27      0.109443    0.000004       2  \n",
       "113     0.000259    0.473782       2  \n",
       "237     0.009863    0.006674       2  "
      ]
     },
     "execution_count": 8,
     "metadata": {},
     "output_type": "execute_result"
    }
   ],
   "source": [
    "compare_df.head(3)"
   ]
  },
  {
   "cell_type": "code",
   "execution_count": 9,
   "metadata": {
    "collapsed": false
   },
   "outputs": [
    {
     "data": {
      "text/plain": [
       "1215"
      ]
     },
     "execution_count": 9,
     "metadata": {},
     "output_type": "execute_result"
    }
   ],
   "source": [
    "len(compare_df)"
   ]
  },
  {
   "cell_type": "code",
   "execution_count": 10,
   "metadata": {
    "collapsed": false
   },
   "outputs": [
    {
     "data": {
      "text/html": [
       "<div>\n",
       "<table border=\"1\" class=\"dataframe\">\n",
       "  <thead>\n",
       "    <tr style=\"text-align: right;\">\n",
       "      <th></th>\n",
       "      <th>metapath</th>\n",
       "      <th>nonzero</th>\n",
       "      <th>seconds_per_query</th>\n",
       "      <th>auroc</th>\n",
       "      <th>auroc_permuted</th>\n",
       "      <th>delta_auroc</th>\n",
       "      <th>pval_auroc</th>\n",
       "      <th>length</th>\n",
       "    </tr>\n",
       "  </thead>\n",
       "  <tbody>\n",
       "    <tr>\n",
       "      <th>769</th>\n",
       "      <td>CrCrCtDrD</td>\n",
       "      <td>0.179868</td>\n",
       "      <td>0.012836</td>\n",
       "      <td>0.663283</td>\n",
       "      <td>0.474523</td>\n",
       "      <td>0.188760</td>\n",
       "      <td>7.718345e-07</td>\n",
       "      <td>4</td>\n",
       "    </tr>\n",
       "    <tr>\n",
       "      <th>773</th>\n",
       "      <td>CrCtD</td>\n",
       "      <td>0.113377</td>\n",
       "      <td>0.011495</td>\n",
       "      <td>0.754664</td>\n",
       "      <td>0.532202</td>\n",
       "      <td>0.222463</td>\n",
       "      <td>8.633755e-07</td>\n",
       "      <td>2</td>\n",
       "    </tr>\n",
       "    <tr>\n",
       "      <th>528</th>\n",
       "      <td>CiPCiCdGaD</td>\n",
       "      <td>0.175099</td>\n",
       "      <td>0.012468</td>\n",
       "      <td>0.686687</td>\n",
       "      <td>0.622530</td>\n",
       "      <td>0.064158</td>\n",
       "      <td>1.963615e-06</td>\n",
       "      <td>4</td>\n",
       "    </tr>\n",
       "    <tr>\n",
       "      <th>200</th>\n",
       "      <td>CbGr&gt;Gr&gt;GaD</td>\n",
       "      <td>0.706225</td>\n",
       "      <td>0.246924</td>\n",
       "      <td>0.776548</td>\n",
       "      <td>0.734824</td>\n",
       "      <td>0.041724</td>\n",
       "      <td>1.984732e-06</td>\n",
       "      <td>4</td>\n",
       "    </tr>\n",
       "    <tr>\n",
       "      <th>685</th>\n",
       "      <td>CrCbGaD</td>\n",
       "      <td>0.338013</td>\n",
       "      <td>0.012536</td>\n",
       "      <td>0.684673</td>\n",
       "      <td>0.608660</td>\n",
       "      <td>0.076014</td>\n",
       "      <td>3.002558e-06</td>\n",
       "      <td>3</td>\n",
       "    </tr>\n",
       "  </tbody>\n",
       "</table>\n",
       "</div>"
      ],
      "text/plain": [
       "        metapath   nonzero  seconds_per_query     auroc  auroc_permuted  \\\n",
       "769    CrCrCtDrD  0.179868           0.012836  0.663283        0.474523   \n",
       "773        CrCtD  0.113377           0.011495  0.754664        0.532202   \n",
       "528   CiPCiCdGaD  0.175099           0.012468  0.686687        0.622530   \n",
       "200  CbGr>Gr>GaD  0.706225           0.246924  0.776548        0.734824   \n",
       "685      CrCbGaD  0.338013           0.012536  0.684673        0.608660   \n",
       "\n",
       "     delta_auroc    pval_auroc  length  \n",
       "769     0.188760  7.718345e-07       4  \n",
       "773     0.222463  8.633755e-07       2  \n",
       "528     0.064158  1.963615e-06       4  \n",
       "200     0.041724  1.984732e-06       4  \n",
       "685     0.076014  3.002558e-06       3  "
      ]
     },
     "execution_count": 10,
     "metadata": {},
     "output_type": "execute_result"
    }
   ],
   "source": [
    "compare_df.sort_values('pval_auroc', ascending=True).head(5)"
   ]
  },
  {
   "cell_type": "code",
   "execution_count": 22,
   "metadata": {
    "collapsed": false
   },
   "outputs": [],
   "source": [
    "auc_df.to_csv('data/auc.tsv', sep='\\t', index=False, float_format='%.5g')\n",
    "compare_df.to_csv('data/auroc.tsv', sep='\\t', index=False, float_format='%.5g')"
   ]
  },
  {
   "cell_type": "code",
   "execution_count": 12,
   "metadata": {
    "collapsed": false,
    "scrolled": true
   },
   "outputs": [
    {
     "data": {
      "text/html": [
       "<div>\n",
       "<table border=\"1\" class=\"dataframe\">\n",
       "  <thead>\n",
       "    <tr style=\"text-align: right;\">\n",
       "      <th></th>\n",
       "      <th>metapath</th>\n",
       "      <th>nonzero</th>\n",
       "      <th>seconds_per_query</th>\n",
       "      <th>auroc</th>\n",
       "      <th>auroc_permuted</th>\n",
       "      <th>delta_auroc</th>\n",
       "      <th>pval_auroc</th>\n",
       "      <th>length</th>\n",
       "    </tr>\n",
       "  </thead>\n",
       "  <tbody>\n",
       "    <tr>\n",
       "      <th>528</th>\n",
       "      <td>CiPCiCdGaD</td>\n",
       "      <td>0.175099</td>\n",
       "      <td>0.012468</td>\n",
       "      <td>0.686687</td>\n",
       "      <td>0.622530</td>\n",
       "      <td>0.064158</td>\n",
       "      <td>0.000002</td>\n",
       "      <td>4</td>\n",
       "    </tr>\n",
       "    <tr>\n",
       "      <th>739</th>\n",
       "      <td>CrCiPCiCtD</td>\n",
       "      <td>0.114967</td>\n",
       "      <td>0.015172</td>\n",
       "      <td>0.735578</td>\n",
       "      <td>0.589265</td>\n",
       "      <td>0.146313</td>\n",
       "      <td>0.000004</td>\n",
       "      <td>4</td>\n",
       "    </tr>\n",
       "    <tr>\n",
       "      <th>535</th>\n",
       "      <td>CiPCiCtD</td>\n",
       "      <td>0.111788</td>\n",
       "      <td>0.011370</td>\n",
       "      <td>0.764842</td>\n",
       "      <td>0.542268</td>\n",
       "      <td>0.222574</td>\n",
       "      <td>0.000005</td>\n",
       "      <td>3</td>\n",
       "    </tr>\n",
       "    <tr>\n",
       "      <th>536</th>\n",
       "      <td>CiPCiCtDrD</td>\n",
       "      <td>0.121060</td>\n",
       "      <td>0.010579</td>\n",
       "      <td>0.712278</td>\n",
       "      <td>0.520669</td>\n",
       "      <td>0.191609</td>\n",
       "      <td>0.000006</td>\n",
       "      <td>4</td>\n",
       "    </tr>\n",
       "    <tr>\n",
       "      <th>534</th>\n",
       "      <td>CiPCiCrCtD</td>\n",
       "      <td>0.108609</td>\n",
       "      <td>0.011366</td>\n",
       "      <td>0.733578</td>\n",
       "      <td>0.608648</td>\n",
       "      <td>0.124930</td>\n",
       "      <td>0.000007</td>\n",
       "      <td>4</td>\n",
       "    </tr>\n",
       "  </tbody>\n",
       "</table>\n",
       "</div>"
      ],
      "text/plain": [
       "       metapath   nonzero  seconds_per_query     auroc  auroc_permuted  \\\n",
       "528  CiPCiCdGaD  0.175099           0.012468  0.686687        0.622530   \n",
       "739  CrCiPCiCtD  0.114967           0.015172  0.735578        0.589265   \n",
       "535    CiPCiCtD  0.111788           0.011370  0.764842        0.542268   \n",
       "536  CiPCiCtDrD  0.121060           0.010579  0.712278        0.520669   \n",
       "534  CiPCiCrCtD  0.108609           0.011366  0.733578        0.608648   \n",
       "\n",
       "     delta_auroc  pval_auroc  length  \n",
       "528     0.064158    0.000002       4  \n",
       "739     0.146313    0.000004       4  \n",
       "535     0.222574    0.000005       3  \n",
       "536     0.191609    0.000006       4  \n",
       "534     0.124930    0.000007       4  "
      ]
     },
     "execution_count": 12,
     "metadata": {},
     "output_type": "execute_result"
    }
   ],
   "source": [
    "compare_df[compare_df.metapath.str.contains('CiPC|PCiC')].sort_values('pval_auroc', ascending=True).head(5)"
   ]
  },
  {
   "cell_type": "markdown",
   "metadata": {},
   "source": [
    "## Create matrix"
   ]
  },
  {
   "cell_type": "code",
   "execution_count": 19,
   "metadata": {
    "collapsed": false
   },
   "outputs": [],
   "source": [
    "# Read compound and disease info\n",
    "compound_df = pandas.read_table('../summary/compounds.tsv')\n",
    "compound_df = compound_df.iloc[:, :3].rename(columns={'treats': 'compound_treats'})\n",
    "disease_df = pandas.read_table('../summary/diseases.tsv')\n",
    "disease_df = disease_df.iloc[:, :3].rename(columns={'treats': 'disease_treats'})"
   ]
  },
  {
   "cell_type": "code",
   "execution_count": 21,
   "metadata": {
    "collapsed": false
   },
   "outputs": [
    {
     "name": "stdout",
     "output_type": "stream",
     "text": [
      "hetio-ind_perm-5 PC\n",
      "hetio-ind_perm-5 DWPC\n",
      "hetio-ind_perm-5 seconds\n",
      "hetio-ind PC\n",
      "hetio-ind DWPC\n",
      "hetio-ind seconds\n",
      "hetio-ind_perm-3 PC\n",
      "hetio-ind_perm-3 DWPC\n",
      "hetio-ind_perm-3 seconds\n",
      "hetio-ind_perm-4 PC\n",
      "hetio-ind_perm-4 DWPC\n",
      "hetio-ind_perm-4 seconds\n",
      "hetio-ind_perm-1 PC\n",
      "hetio-ind_perm-1 DWPC\n",
      "hetio-ind_perm-1 seconds\n"
     ]
    }
   ],
   "source": [
    "# Create spread dataframes\n",
    "# compound-disease pairs as rows, metapaths as columns\n",
    "\n",
    "## TODO: saves PC columns as floats rather than ints\n",
    "pivoted = dict()\n",
    "for hetnet in dwpc_df.hetnet.unique():\n",
    "    for value in 'PC', 'DWPC', 'seconds':\n",
    "        print(hetnet, value)\n",
    "        df = dwpc_df.query(\"hetnet == @hetnet\")\n",
    "        df = pandas.pivot_table(df, values=value, index=['compound_id', 'disease_id', 'status'], columns='metapath')\n",
    "        #part_df.query(\"hetnet == @hetnet\")[['compound_id', 'disease_id', 'compound_name', 'disease_name']]\n",
    "        df = df = df.reset_index()\n",
    "        df = compound_df.merge(disease_df.merge(df))\n",
    "        directory = 'data/matrix/{}'.format(hetnet)\n",
    "        if not os.path.exists(directory):\n",
    "            os.mkdir(directory)\n",
    "        filename = '{}-spread.tsv.bz2'.format(value)\n",
    "        path = os.path.join(directory, filename)\n",
    "        with bz2.open(path, 'wt') as wf:\n",
    "            df.to_csv(wf, index=False, sep='\\t')\n",
    "        pivoted[(hetnet, value)] = df"
   ]
  }
 ],
 "metadata": {
  "kernelspec": {
   "display_name": "Python 3",
   "language": "python",
   "name": "python3"
  },
  "language_info": {
   "codemirror_mode": {
    "name": "ipython",
    "version": 3
   },
   "file_extension": ".py",
   "mimetype": "text/x-python",
   "name": "python",
   "nbconvert_exporter": "python",
   "pygments_lexer": "ipython3",
   "version": "3.5.1"
  }
 },
 "nbformat": 4,
 "nbformat_minor": 0
}
