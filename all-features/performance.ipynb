{
 "cells": [
  {
   "cell_type": "markdown",
   "metadata": {},
   "source": [
    "# Calculate the performonce on every feature"
   ]
  },
  {
   "cell_type": "code",
   "execution_count": 1,
   "metadata": {
    "collapsed": false
   },
   "outputs": [],
   "source": [
    "import bz2\n",
    "import os\n",
    "import re\n",
    "import math\n",
    "\n",
    "import pandas\n",
    "import sklearn.metrics\n",
    "import scipy.stats\n",
    "from statsmodels.sandbox.stats.multicomp import multipletests"
   ]
  },
  {
   "cell_type": "markdown",
   "metadata": {},
   "source": [
    "## Read features and partitions"
   ]
  },
  {
   "cell_type": "code",
   "execution_count": 2,
   "metadata": {
    "collapsed": false
   },
   "outputs": [
    {
     "data": {
      "text/html": [
       "<div>\n",
       "<table border=\"1\" class=\"dataframe\">\n",
       "  <thead>\n",
       "    <tr style=\"text-align: right;\">\n",
       "      <th></th>\n",
       "      <th>hetnet</th>\n",
       "      <th>compound_id</th>\n",
       "      <th>disease_id</th>\n",
       "      <th>status</th>\n",
       "    </tr>\n",
       "  </thead>\n",
       "  <tbody>\n",
       "    <tr>\n",
       "      <th>18873</th>\n",
       "      <td>hetio-ind_perm-5</td>\n",
       "      <td>DB09028</td>\n",
       "      <td>DOID:585</td>\n",
       "      <td>0</td>\n",
       "    </tr>\n",
       "    <tr>\n",
       "      <th>18874</th>\n",
       "      <td>hetio-ind_perm-1</td>\n",
       "      <td>DB09028</td>\n",
       "      <td>DOID:9074</td>\n",
       "      <td>0</td>\n",
       "    </tr>\n",
       "  </tbody>\n",
       "</table>\n",
       "</div>"
      ],
      "text/plain": [
       "                 hetnet compound_id disease_id  status\n",
       "18873  hetio-ind_perm-5     DB09028   DOID:585       0\n",
       "18874  hetio-ind_perm-1     DB09028  DOID:9074       0"
      ]
     },
     "execution_count": 2,
     "metadata": {},
     "output_type": "execute_result"
    }
   ],
   "source": [
    "# Read partition information\n",
    "part_df = pandas.read_table('data/partitions.tsv')\n",
    "part_df.tail(2)"
   ]
  },
  {
   "cell_type": "code",
   "execution_count": 3,
   "metadata": {
    "collapsed": false
   },
   "outputs": [
    {
     "data": {
      "text/html": [
       "<div>\n",
       "<table border=\"1\" class=\"dataframe\">\n",
       "  <thead>\n",
       "    <tr style=\"text-align: right;\">\n",
       "      <th></th>\n",
       "      <th>hetnet</th>\n",
       "      <th>compound_id</th>\n",
       "      <th>disease_id</th>\n",
       "      <th>feature</th>\n",
       "      <th>PC</th>\n",
       "      <th>w</th>\n",
       "      <th>value</th>\n",
       "      <th>seconds</th>\n",
       "      <th>feature_type</th>\n",
       "    </tr>\n",
       "  </thead>\n",
       "  <tbody>\n",
       "    <tr>\n",
       "      <th>22933123</th>\n",
       "      <td>hetio-ind_perm-5</td>\n",
       "      <td>DB08912</td>\n",
       "      <td>DOID:9352</td>\n",
       "      <td>CdGeAeGaD</td>\n",
       "      <td>1599374</td>\n",
       "      <td>0.4</td>\n",
       "      <td>0.163162</td>\n",
       "      <td>61.52</td>\n",
       "      <td>DWPC</td>\n",
       "    </tr>\n",
       "    <tr>\n",
       "      <th>22933124</th>\n",
       "      <td>hetio-ind_perm-4</td>\n",
       "      <td>DB09020</td>\n",
       "      <td>DOID:1324</td>\n",
       "      <td>CdGeAeGaD</td>\n",
       "      <td>1451285</td>\n",
       "      <td>0.4</td>\n",
       "      <td>0.154356</td>\n",
       "      <td>44.43</td>\n",
       "      <td>DWPC</td>\n",
       "    </tr>\n",
       "  </tbody>\n",
       "</table>\n",
       "</div>"
      ],
      "text/plain": [
       "                    hetnet compound_id disease_id    feature       PC    w  \\\n",
       "22933123  hetio-ind_perm-5     DB08912  DOID:9352  CdGeAeGaD  1599374  0.4   \n",
       "22933124  hetio-ind_perm-4     DB09020  DOID:1324  CdGeAeGaD  1451285  0.4   \n",
       "\n",
       "             value  seconds feature_type  \n",
       "22933123  0.163162    61.52         DWPC  \n",
       "22933124  0.154356    44.43         DWPC  "
      ]
     },
     "execution_count": 3,
     "metadata": {},
     "output_type": "execute_result"
    }
   ],
   "source": [
    "# Read DWPC results\n",
    "dwpc_df = pandas.read_table('data/dwpc.tsv.bz2')\n",
    "dwpc_df = dwpc_df.rename(columns={'metapath': 'feature', 'DWPC': 'value'})\n",
    "dwpc_df['feature_type'] = 'DWPC'\n",
    "dwpc_df.tail(2)"
   ]
  },
  {
   "cell_type": "code",
   "execution_count": 4,
   "metadata": {
    "collapsed": false
   },
   "outputs": [],
   "source": [
    "#     if df.feature_type.iloc[0] == 'DWPC':\n",
    "#         series['mean_PC'] = df['PC'].mean()\n",
    "#         series['seconds_per_query'] = df['seconds'].mean()\n",
    "#compare_df['length'] = compare_df.feature.map(lambda x: len(re.split(r'[a-z<>]+', x)) - 1)"
   ]
  },
  {
   "cell_type": "code",
   "execution_count": 5,
   "metadata": {
    "collapsed": true
   },
   "outputs": [],
   "source": [
    "# Read compound and disease degrees\n",
    "compound_df = pandas.read_table('../summary/compounds.tsv')\n",
    "compound_df = compound_df.iloc[:, :3].rename(columns={'treats': 'compound_treats'})\n",
    "disease_df = pandas.read_table('../summary/diseases.tsv')\n",
    "disease_df = disease_df.iloc[:, :3].rename(columns={'treats': 'disease_treats'})"
   ]
  },
  {
   "cell_type": "code",
   "execution_count": 6,
   "metadata": {
    "collapsed": false
   },
   "outputs": [
    {
     "data": {
      "text/html": [
       "<div>\n",
       "<table border=\"1\" class=\"dataframe\">\n",
       "  <thead>\n",
       "    <tr style=\"text-align: right;\">\n",
       "      <th></th>\n",
       "      <th>hetnet</th>\n",
       "      <th>compound_id</th>\n",
       "      <th>disease_id</th>\n",
       "      <th>feature</th>\n",
       "      <th>value</th>\n",
       "      <th>feature_type</th>\n",
       "    </tr>\n",
       "  </thead>\n",
       "  <tbody>\n",
       "    <tr>\n",
       "      <th>37748</th>\n",
       "      <td>hetio-ind_perm-3</td>\n",
       "      <td>DB09015</td>\n",
       "      <td>DOID:11555</td>\n",
       "      <td>disease_treats</td>\n",
       "      <td>0</td>\n",
       "      <td>degree</td>\n",
       "    </tr>\n",
       "    <tr>\n",
       "      <th>37749</th>\n",
       "      <td>hetio-ind_perm-1</td>\n",
       "      <td>DB09018</td>\n",
       "      <td>DOID:11555</td>\n",
       "      <td>disease_treats</td>\n",
       "      <td>0</td>\n",
       "      <td>degree</td>\n",
       "    </tr>\n",
       "  </tbody>\n",
       "</table>\n",
       "</div>"
      ],
      "text/plain": [
       "                 hetnet compound_id  disease_id         feature  value  \\\n",
       "37748  hetio-ind_perm-3     DB09015  DOID:11555  disease_treats      0   \n",
       "37749  hetio-ind_perm-1     DB09018  DOID:11555  disease_treats      0   \n",
       "\n",
       "      feature_type  \n",
       "37748       degree  \n",
       "37749       degree  "
      ]
     },
     "execution_count": 6,
     "metadata": {},
     "output_type": "execute_result"
    }
   ],
   "source": [
    "degree_df = part_df.merge(compound_df).merge(disease_df)\n",
    "degree_df = pandas.melt(degree_df, id_vars=['hetnet', 'compound_id', 'disease_id'],\n",
    "    value_vars=['compound_treats', 'disease_treats'], var_name='feature')\n",
    "degree_df['feature_type'] = 'degree'\n",
    "degree_df.tail(2)"
   ]
  },
  {
   "cell_type": "code",
   "execution_count": 7,
   "metadata": {
    "collapsed": false
   },
   "outputs": [
    {
     "data": {
      "text/html": [
       "<div>\n",
       "<table border=\"1\" class=\"dataframe\">\n",
       "  <thead>\n",
       "    <tr style=\"text-align: right;\">\n",
       "      <th></th>\n",
       "      <th>hetnet</th>\n",
       "      <th>compound_id</th>\n",
       "      <th>disease_id</th>\n",
       "      <th>status</th>\n",
       "      <th>PC</th>\n",
       "      <th>feature</th>\n",
       "      <th>feature_type</th>\n",
       "      <th>seconds</th>\n",
       "      <th>value</th>\n",
       "      <th>w</th>\n",
       "    </tr>\n",
       "  </thead>\n",
       "  <tbody>\n",
       "    <tr>\n",
       "      <th>0</th>\n",
       "      <td>hetio-ind_perm-5</td>\n",
       "      <td>DB00014</td>\n",
       "      <td>DOID:0060073</td>\n",
       "      <td>0</td>\n",
       "      <td>NaN</td>\n",
       "      <td>compound_treats</td>\n",
       "      <td>degree</td>\n",
       "      <td>NaN</td>\n",
       "      <td>2.0</td>\n",
       "      <td>NaN</td>\n",
       "    </tr>\n",
       "    <tr>\n",
       "      <th>1</th>\n",
       "      <td>hetio-ind_perm-5</td>\n",
       "      <td>DB00014</td>\n",
       "      <td>DOID:0060073</td>\n",
       "      <td>0</td>\n",
       "      <td>NaN</td>\n",
       "      <td>disease_treats</td>\n",
       "      <td>degree</td>\n",
       "      <td>NaN</td>\n",
       "      <td>9.0</td>\n",
       "      <td>NaN</td>\n",
       "    </tr>\n",
       "  </tbody>\n",
       "</table>\n",
       "</div>"
      ],
      "text/plain": [
       "             hetnet compound_id    disease_id  status  PC          feature  \\\n",
       "0  hetio-ind_perm-5     DB00014  DOID:0060073       0 NaN  compound_treats   \n",
       "1  hetio-ind_perm-5     DB00014  DOID:0060073       0 NaN   disease_treats   \n",
       "\n",
       "  feature_type  seconds  value   w  \n",
       "0       degree      NaN    2.0 NaN  \n",
       "1       degree      NaN    9.0 NaN  "
      ]
     },
     "execution_count": 7,
     "metadata": {},
     "output_type": "execute_result"
    }
   ],
   "source": [
    "feature_df = part_df.merge(pandas.concat([degree_df, dwpc_df]))\n",
    "feature_df.head(2)"
   ]
  },
  {
   "cell_type": "markdown",
   "metadata": {},
   "source": [
    "## Compute performance"
   ]
  },
  {
   "cell_type": "code",
   "execution_count": 8,
   "metadata": {
    "collapsed": false
   },
   "outputs": [],
   "source": [
    "def compute_metrics(df):\n",
    "    y_true = df['status']\n",
    "    y_score = df['value']\n",
    "    series = pandas.Series()\n",
    "    series['nonzero'] = (y_score > 0).mean()\n",
    "    series['auroc'] = sklearn.metrics.roc_auc_score(y_true, y_score)\n",
    "    series['auprc'] = sklearn.metrics.average_precision_score(y_true, y_score)\n",
    "    return series\n",
    "\n",
    "auc_df = feature_df.groupby(['hetnet', 'feature_type', 'feature']).apply(compute_metrics).reset_index()\n",
    "auc_df['permuted'] = auc_df.hetnet.str.contains('_perm').astype(int)"
   ]
  },
  {
   "cell_type": "code",
   "execution_count": 9,
   "metadata": {
    "collapsed": false
   },
   "outputs": [
    {
     "data": {
      "text/html": [
       "<div>\n",
       "<table border=\"1\" class=\"dataframe\">\n",
       "  <thead>\n",
       "    <tr style=\"text-align: right;\">\n",
       "      <th></th>\n",
       "      <th>hetnet</th>\n",
       "      <th>feature_type</th>\n",
       "      <th>feature</th>\n",
       "      <th>nonzero</th>\n",
       "      <th>auroc</th>\n",
       "      <th>auprc</th>\n",
       "      <th>permuted</th>\n",
       "    </tr>\n",
       "  </thead>\n",
       "  <tbody>\n",
       "    <tr>\n",
       "      <th>0</th>\n",
       "      <td>hetio-ind</td>\n",
       "      <td>DWPC</td>\n",
       "      <td>CbG&lt;rG&lt;rGaD</td>\n",
       "      <td>0.624636</td>\n",
       "      <td>0.785146</td>\n",
       "      <td>0.494498</td>\n",
       "      <td>0</td>\n",
       "    </tr>\n",
       "    <tr>\n",
       "      <th>1</th>\n",
       "      <td>hetio-ind</td>\n",
       "      <td>DWPC</td>\n",
       "      <td>CbG&lt;rG&lt;rGdD</td>\n",
       "      <td>0.250596</td>\n",
       "      <td>0.663977</td>\n",
       "      <td>0.399786</td>\n",
       "      <td>0</td>\n",
       "    </tr>\n",
       "  </tbody>\n",
       "</table>\n",
       "</div>"
      ],
      "text/plain": [
       "      hetnet feature_type      feature   nonzero     auroc     auprc  permuted\n",
       "0  hetio-ind         DWPC  CbG<rG<rGaD  0.624636  0.785146  0.494498         0\n",
       "1  hetio-ind         DWPC  CbG<rG<rGdD  0.250596  0.663977  0.399786         0"
      ]
     },
     "execution_count": 9,
     "metadata": {},
     "output_type": "execute_result"
    }
   ],
   "source": [
    "auc_df.head(2)"
   ]
  },
  {
   "cell_type": "code",
   "execution_count": 10,
   "metadata": {
    "collapsed": false
   },
   "outputs": [],
   "source": [
    "def compare_permutation(df):\n",
    "    unperm = df.query(\"permuted == 0\").iloc[0, :]\n",
    "    perm_df = df.query(\"permuted == 1\")\n",
    "    series = pandas.Series()\n",
    "    series['nonzero'] = unperm['nonzero']\n",
    "    series['auroc'] = unperm.auroc\n",
    "    series['auroc_permuted'] = perm_df.auroc.mean()\n",
    "    series['delta_auroc'] = series['auroc'] - series['auroc_permuted']\n",
    "    ttest = scipy.stats.ttest_1samp(perm_df.auroc, unperm.auroc)\n",
    "    pvalue = ttest.pvalue\n",
    "    series['pval_auroc'] = pvalue\n",
    "    #series['nlog10_pval_auroc'] = -math.log10(pvalue)\n",
    "    return(series)\n",
    "\n",
    "compare_df = auc_df.groupby(['feature_type', 'feature']).apply(compare_permutation).reset_index()\n",
    "reject, compare_df['fdr_pval_auroc'], alphacSidak, alphacBonf = multipletests(\n",
    "    pvals=compare_df.pval_auroc, method='fdr_bh')\n",
    "compare_df = compare_df.sort_values('feature')"
   ]
  },
  {
   "cell_type": "code",
   "execution_count": 11,
   "metadata": {
    "collapsed": false
   },
   "outputs": [
    {
     "data": {
      "text/html": [
       "<div>\n",
       "<table border=\"1\" class=\"dataframe\">\n",
       "  <thead>\n",
       "    <tr style=\"text-align: right;\">\n",
       "      <th></th>\n",
       "      <th>feature_type</th>\n",
       "      <th>feature</th>\n",
       "      <th>nonzero</th>\n",
       "      <th>auroc</th>\n",
       "      <th>auroc_permuted</th>\n",
       "      <th>delta_auroc</th>\n",
       "      <th>pval_auroc</th>\n",
       "      <th>fdr_pval_auroc</th>\n",
       "    </tr>\n",
       "  </thead>\n",
       "  <tbody>\n",
       "    <tr>\n",
       "      <th>1214</th>\n",
       "      <td>DWPC</td>\n",
       "      <td>CuGuDuGuD</td>\n",
       "      <td>0.157881</td>\n",
       "      <td>0.638287</td>\n",
       "      <td>0.642103</td>\n",
       "      <td>-0.003816</td>\n",
       "      <td>0.131198</td>\n",
       "      <td>0.215186</td>\n",
       "    </tr>\n",
       "    <tr>\n",
       "      <th>1215</th>\n",
       "      <td>degree</td>\n",
       "      <td>compound_treats</td>\n",
       "      <td>0.399735</td>\n",
       "      <td>0.926446</td>\n",
       "      <td>0.925125</td>\n",
       "      <td>0.001321</td>\n",
       "      <td>0.377265</td>\n",
       "      <td>0.482081</td>\n",
       "    </tr>\n",
       "    <tr>\n",
       "      <th>1216</th>\n",
       "      <td>degree</td>\n",
       "      <td>disease_treats</td>\n",
       "      <td>0.646623</td>\n",
       "      <td>0.858216</td>\n",
       "      <td>0.864443</td>\n",
       "      <td>-0.006227</td>\n",
       "      <td>0.018287</td>\n",
       "      <td>0.052848</td>\n",
       "    </tr>\n",
       "  </tbody>\n",
       "</table>\n",
       "</div>"
      ],
      "text/plain": [
       "     feature_type          feature   nonzero     auroc  auroc_permuted  \\\n",
       "1214         DWPC        CuGuDuGuD  0.157881  0.638287        0.642103   \n",
       "1215       degree  compound_treats  0.399735  0.926446        0.925125   \n",
       "1216       degree   disease_treats  0.646623  0.858216        0.864443   \n",
       "\n",
       "      delta_auroc  pval_auroc  fdr_pval_auroc  \n",
       "1214    -0.003816    0.131198        0.215186  \n",
       "1215     0.001321    0.377265        0.482081  \n",
       "1216    -0.006227    0.018287        0.052848  "
      ]
     },
     "execution_count": 11,
     "metadata": {},
     "output_type": "execute_result"
    }
   ],
   "source": [
    "compare_df.tail(3)"
   ]
  },
  {
   "cell_type": "code",
   "execution_count": 12,
   "metadata": {
    "collapsed": false
   },
   "outputs": [
    {
     "data": {
      "text/plain": [
       "1217"
      ]
     },
     "execution_count": 12,
     "metadata": {},
     "output_type": "execute_result"
    }
   ],
   "source": [
    "len(compare_df)"
   ]
  },
  {
   "cell_type": "code",
   "execution_count": 13,
   "metadata": {
    "collapsed": false
   },
   "outputs": [
    {
     "data": {
      "text/html": [
       "<div>\n",
       "<table border=\"1\" class=\"dataframe\">\n",
       "  <thead>\n",
       "    <tr style=\"text-align: right;\">\n",
       "      <th></th>\n",
       "      <th>feature_type</th>\n",
       "      <th>feature</th>\n",
       "      <th>nonzero</th>\n",
       "      <th>auroc</th>\n",
       "      <th>auroc_permuted</th>\n",
       "      <th>delta_auroc</th>\n",
       "      <th>pval_auroc</th>\n",
       "      <th>fdr_pval_auroc</th>\n",
       "    </tr>\n",
       "  </thead>\n",
       "  <tbody>\n",
       "    <tr>\n",
       "      <th>769</th>\n",
       "      <td>DWPC</td>\n",
       "      <td>CrCrCtDrD</td>\n",
       "      <td>0.179868</td>\n",
       "      <td>0.663283</td>\n",
       "      <td>0.474523</td>\n",
       "      <td>0.188760</td>\n",
       "      <td>0.000002</td>\n",
       "      <td>0.001051</td>\n",
       "    </tr>\n",
       "    <tr>\n",
       "      <th>773</th>\n",
       "      <td>DWPC</td>\n",
       "      <td>CrCtD</td>\n",
       "      <td>0.113377</td>\n",
       "      <td>0.754664</td>\n",
       "      <td>0.532202</td>\n",
       "      <td>0.222463</td>\n",
       "      <td>0.000002</td>\n",
       "      <td>0.001051</td>\n",
       "    </tr>\n",
       "    <tr>\n",
       "      <th>528</th>\n",
       "      <td>DWPC</td>\n",
       "      <td>CiPCiCdGaD</td>\n",
       "      <td>0.175099</td>\n",
       "      <td>0.686687</td>\n",
       "      <td>0.622530</td>\n",
       "      <td>0.064158</td>\n",
       "      <td>0.000004</td>\n",
       "      <td>0.001208</td>\n",
       "    </tr>\n",
       "    <tr>\n",
       "      <th>200</th>\n",
       "      <td>DWPC</td>\n",
       "      <td>CbGr&gt;Gr&gt;GaD</td>\n",
       "      <td>0.706225</td>\n",
       "      <td>0.776548</td>\n",
       "      <td>0.734824</td>\n",
       "      <td>0.041724</td>\n",
       "      <td>0.000004</td>\n",
       "      <td>0.001208</td>\n",
       "    </tr>\n",
       "    <tr>\n",
       "      <th>685</th>\n",
       "      <td>DWPC</td>\n",
       "      <td>CrCbGaD</td>\n",
       "      <td>0.338013</td>\n",
       "      <td>0.684673</td>\n",
       "      <td>0.608660</td>\n",
       "      <td>0.076014</td>\n",
       "      <td>0.000006</td>\n",
       "      <td>0.001462</td>\n",
       "    </tr>\n",
       "  </tbody>\n",
       "</table>\n",
       "</div>"
      ],
      "text/plain": [
       "    feature_type      feature   nonzero     auroc  auroc_permuted  \\\n",
       "769         DWPC    CrCrCtDrD  0.179868  0.663283        0.474523   \n",
       "773         DWPC        CrCtD  0.113377  0.754664        0.532202   \n",
       "528         DWPC   CiPCiCdGaD  0.175099  0.686687        0.622530   \n",
       "200         DWPC  CbGr>Gr>GaD  0.706225  0.776548        0.734824   \n",
       "685         DWPC      CrCbGaD  0.338013  0.684673        0.608660   \n",
       "\n",
       "     delta_auroc  pval_auroc  fdr_pval_auroc  \n",
       "769     0.188760    0.000002        0.001051  \n",
       "773     0.222463    0.000002        0.001051  \n",
       "528     0.064158    0.000004        0.001208  \n",
       "200     0.041724    0.000004        0.001208  \n",
       "685     0.076014    0.000006        0.001462  "
      ]
     },
     "execution_count": 13,
     "metadata": {},
     "output_type": "execute_result"
    }
   ],
   "source": [
    "compare_df.sort_values('pval_auroc', ascending=True).head(5)"
   ]
  },
  {
   "cell_type": "code",
   "execution_count": 14,
   "metadata": {
    "collapsed": true
   },
   "outputs": [],
   "source": [
    "# Save datasets\n",
    "auc_df.to_csv('data/auc.tsv', sep='\\t', index=False, float_format='%.5g')\n",
    "compare_df.to_csv('data/auroc.tsv', sep='\\t', index=False, float_format='%.5g')"
   ]
  },
  {
   "cell_type": "markdown",
   "metadata": {},
   "source": [
    "## Create matrix"
   ]
  },
  {
   "cell_type": "code",
   "execution_count": 16,
   "metadata": {
    "collapsed": false
   },
   "outputs": [
    {
     "data": {
      "text/html": [
       "<div>\n",
       "<table border=\"1\" class=\"dataframe\">\n",
       "  <thead>\n",
       "    <tr style=\"text-align: right;\">\n",
       "      <th></th>\n",
       "      <th>hetnet</th>\n",
       "      <th>compound_id</th>\n",
       "      <th>disease_id</th>\n",
       "      <th>feature</th>\n",
       "      <th>PC</th>\n",
       "      <th>w</th>\n",
       "      <th>value</th>\n",
       "      <th>seconds</th>\n",
       "      <th>feature_type</th>\n",
       "    </tr>\n",
       "  </thead>\n",
       "  <tbody>\n",
       "    <tr>\n",
       "      <th>0</th>\n",
       "      <td>hetio-ind_perm-5</td>\n",
       "      <td>DB00014</td>\n",
       "      <td>DOID:0060073</td>\n",
       "      <td>CpDpCpD</td>\n",
       "      <td>0</td>\n",
       "      <td>0.4</td>\n",
       "      <td>0.0</td>\n",
       "      <td>1.01600</td>\n",
       "      <td>DWPC</td>\n",
       "    </tr>\n",
       "    <tr>\n",
       "      <th>1</th>\n",
       "      <td>hetio-ind</td>\n",
       "      <td>DB00014</td>\n",
       "      <td>DOID:1612</td>\n",
       "      <td>CpDpCpD</td>\n",
       "      <td>0</td>\n",
       "      <td>0.4</td>\n",
       "      <td>0.0</td>\n",
       "      <td>1.06700</td>\n",
       "      <td>DWPC</td>\n",
       "    </tr>\n",
       "    <tr>\n",
       "      <th>2</th>\n",
       "      <td>hetio-ind</td>\n",
       "      <td>DB00014</td>\n",
       "      <td>DOID:10283</td>\n",
       "      <td>CpDpCpD</td>\n",
       "      <td>0</td>\n",
       "      <td>0.4</td>\n",
       "      <td>0.0</td>\n",
       "      <td>1.07700</td>\n",
       "      <td>DWPC</td>\n",
       "    </tr>\n",
       "    <tr>\n",
       "      <th>3</th>\n",
       "      <td>hetio-ind_perm-5</td>\n",
       "      <td>DB00014</td>\n",
       "      <td>DOID:2994</td>\n",
       "      <td>CpDpCpD</td>\n",
       "      <td>0</td>\n",
       "      <td>0.4</td>\n",
       "      <td>0.0</td>\n",
       "      <td>0.01554</td>\n",
       "      <td>DWPC</td>\n",
       "    </tr>\n",
       "    <tr>\n",
       "      <th>4</th>\n",
       "      <td>hetio-ind_perm-5</td>\n",
       "      <td>DB00014</td>\n",
       "      <td>DOID:2998</td>\n",
       "      <td>CpDpCpD</td>\n",
       "      <td>0</td>\n",
       "      <td>0.4</td>\n",
       "      <td>0.0</td>\n",
       "      <td>0.01528</td>\n",
       "      <td>DWPC</td>\n",
       "    </tr>\n",
       "  </tbody>\n",
       "</table>\n",
       "</div>"
      ],
      "text/plain": [
       "             hetnet compound_id    disease_id  feature  PC    w  value  \\\n",
       "0  hetio-ind_perm-5     DB00014  DOID:0060073  CpDpCpD   0  0.4    0.0   \n",
       "1         hetio-ind     DB00014     DOID:1612  CpDpCpD   0  0.4    0.0   \n",
       "2         hetio-ind     DB00014    DOID:10283  CpDpCpD   0  0.4    0.0   \n",
       "3  hetio-ind_perm-5     DB00014     DOID:2994  CpDpCpD   0  0.4    0.0   \n",
       "4  hetio-ind_perm-5     DB00014     DOID:2998  CpDpCpD   0  0.4    0.0   \n",
       "\n",
       "   seconds feature_type  \n",
       "0  1.01600         DWPC  \n",
       "1  1.06700         DWPC  \n",
       "2  1.07700         DWPC  \n",
       "3  0.01554         DWPC  \n",
       "4  0.01528         DWPC  "
      ]
     },
     "execution_count": 16,
     "metadata": {},
     "output_type": "execute_result"
    }
   ],
   "source": [
    "dwpc_df.head()"
   ]
  },
  {
   "cell_type": "code",
   "execution_count": 19,
   "metadata": {
    "collapsed": false
   },
   "outputs": [
    {
     "name": "stdout",
     "output_type": "stream",
     "text": [
      "hetio-ind_perm-5\n",
      "hetio-ind\n",
      "hetio-ind_perm-1\n",
      "hetio-ind_perm-4\n",
      "hetio-ind_perm-3\n"
     ]
    }
   ],
   "source": [
    "# Create spread dataframes\n",
    "# compound-disease pairs as rows, metapaths as columns\n",
    "pivoted = dict()\n",
    "for hetnet in dwpc_df.hetnet.unique():\n",
    "    print(hetnet)\n",
    "    df = part_df.merge(dwpc_df.query(\"hetnet == @hetnet\"))\n",
    "    df = pandas.pivot_table(df, values='value', index=['compound_id', 'disease_id', 'status'], columns='feature')\n",
    "    df = df.reset_index()\n",
    "    df = compound_df.merge(disease_df.merge(df))\n",
    "    directory = 'data/matrix/{}'.format(hetnet)\n",
    "    if not os.path.exists(directory):\n",
    "        os.mkdir(directory)\n",
    "    filename = 'DWPC-spread.tsv.bz2'.format(value)\n",
    "    path = os.path.join(directory, filename)\n",
    "    with bz2.open(path, 'wt') as wf:\n",
    "        df.to_csv(wf, index=False, sep='\\t')\n",
    "    pivoted[(hetnet, value)] = df"
   ]
  }
 ],
 "metadata": {
  "kernelspec": {
   "display_name": "Python 3",
   "language": "python",
   "name": "python3"
  },
  "language_info": {
   "codemirror_mode": {
    "name": "ipython",
    "version": 3
   },
   "file_extension": ".py",
   "mimetype": "text/x-python",
   "name": "python",
   "nbconvert_exporter": "python",
   "pygments_lexer": "ipython3",
   "version": "3.5.1"
  }
 },
 "nbformat": 4,
 "nbformat_minor": 0
}
