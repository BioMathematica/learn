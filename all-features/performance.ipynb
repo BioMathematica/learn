{
 "cells": [
  {
   "cell_type": "markdown",
   "metadata": {},
   "source": [
    "# Calculate the performonce on every feature"
   ]
  },
  {
   "cell_type": "code",
   "execution_count": 1,
   "metadata": {
    "collapsed": false
   },
   "outputs": [],
   "source": [
    "import bz2\n",
    "import os\n",
    "import re\n",
    "\n",
    "import pandas\n",
    "import sklearn.metrics\n",
    "import scipy.stats\n",
    "import math"
   ]
  },
  {
   "cell_type": "markdown",
   "metadata": {},
   "source": [
    "## Read features and partitions"
   ]
  },
  {
   "cell_type": "code",
   "execution_count": 2,
   "metadata": {
    "collapsed": false
   },
   "outputs": [
    {
     "data": {
      "text/html": [
       "<div>\n",
       "<table border=\"1\" class=\"dataframe\">\n",
       "  <thead>\n",
       "    <tr style=\"text-align: right;\">\n",
       "      <th></th>\n",
       "      <th>drugbank_id</th>\n",
       "      <th>doid_id</th>\n",
       "      <th>status</th>\n",
       "      <th>hetnet</th>\n",
       "    </tr>\n",
       "  </thead>\n",
       "  <tbody>\n",
       "    <tr>\n",
       "      <th>22648</th>\n",
       "      <td>DB08906</td>\n",
       "      <td>DOID:9074</td>\n",
       "      <td>0</td>\n",
       "      <td>hetio-ind_perm-2</td>\n",
       "    </tr>\n",
       "    <tr>\n",
       "      <th>22649</th>\n",
       "      <td>DB08906</td>\n",
       "      <td>DOID:986</td>\n",
       "      <td>0</td>\n",
       "      <td>hetio-ind_perm-0</td>\n",
       "    </tr>\n",
       "  </tbody>\n",
       "</table>\n",
       "</div>"
      ],
      "text/plain": [
       "      drugbank_id    doid_id  status            hetnet\n",
       "22648     DB08906  DOID:9074       0  hetio-ind_perm-2\n",
       "22649     DB08906   DOID:986       0  hetio-ind_perm-0"
      ]
     },
     "execution_count": 2,
     "metadata": {},
     "output_type": "execute_result"
    }
   ],
   "source": [
    "part_df = pandas.read_table('data/all-features/partitions.tsv')\n",
    "part_df.tail(2)"
   ]
  },
  {
   "cell_type": "code",
   "execution_count": 3,
   "metadata": {
    "collapsed": false
   },
   "outputs": [],
   "source": [
    "dwpc_df = pandas.read_table('data/all-features/dwpc.tsv.bz2')\n",
    "\n",
    "# Fix `hetnet` omission in header\n",
    "dwpc_df.index.name = 'hetnet'\n",
    "dwpc_df = dwpc_df.reset_index()\n",
    "dwpc_df.tail(2)\n",
    "\n",
    "# Fix column name isuse\n",
    "dwpc_df = dwpc_df.rename(columns={'compound_id': 'drugbank_id', 'disease_id': 'doid_id'})"
   ]
  },
  {
   "cell_type": "code",
   "execution_count": 4,
   "metadata": {
    "collapsed": false
   },
   "outputs": [
    {
     "data": {
      "text/html": [
       "<div>\n",
       "<table border=\"1\" class=\"dataframe\">\n",
       "  <thead>\n",
       "    <tr style=\"text-align: right;\">\n",
       "      <th></th>\n",
       "      <th>drugbank_id</th>\n",
       "      <th>doid_id</th>\n",
       "      <th>status</th>\n",
       "      <th>hetnet</th>\n",
       "      <th>metapath</th>\n",
       "      <th>PC</th>\n",
       "      <th>w</th>\n",
       "      <th>DWPC</th>\n",
       "      <th>seconds</th>\n",
       "    </tr>\n",
       "  </thead>\n",
       "  <tbody>\n",
       "    <tr>\n",
       "      <th>13785654</th>\n",
       "      <td>DB08906</td>\n",
       "      <td>DOID:986</td>\n",
       "      <td>0</td>\n",
       "      <td>hetio-ind_perm-0</td>\n",
       "      <td>CpDaGbCtD</td>\n",
       "      <td>0</td>\n",
       "      <td>0.4</td>\n",
       "      <td>0.0</td>\n",
       "      <td>0.008561</td>\n",
       "    </tr>\n",
       "    <tr>\n",
       "      <th>13785655</th>\n",
       "      <td>DB08906</td>\n",
       "      <td>DOID:986</td>\n",
       "      <td>0</td>\n",
       "      <td>hetio-ind_perm-0</td>\n",
       "      <td>CpDaGcGaD</td>\n",
       "      <td>0</td>\n",
       "      <td>0.4</td>\n",
       "      <td>0.0</td>\n",
       "      <td>0.021220</td>\n",
       "    </tr>\n",
       "  </tbody>\n",
       "</table>\n",
       "</div>"
      ],
      "text/plain": [
       "         drugbank_id   doid_id  status            hetnet   metapath  PC    w  \\\n",
       "13785654     DB08906  DOID:986       0  hetio-ind_perm-0  CpDaGbCtD   0  0.4   \n",
       "13785655     DB08906  DOID:986       0  hetio-ind_perm-0  CpDaGcGaD   0  0.4   \n",
       "\n",
       "          DWPC   seconds  \n",
       "13785654   0.0  0.008561  \n",
       "13785655   0.0  0.021220  "
      ]
     },
     "execution_count": 4,
     "metadata": {},
     "output_type": "execute_result"
    }
   ],
   "source": [
    "dwpc_df = part_df.merge(dwpc_df)\n",
    "dwpc_df.tail(2)"
   ]
  },
  {
   "cell_type": "markdown",
   "metadata": {},
   "source": [
    "## Compute performance"
   ]
  },
  {
   "cell_type": "code",
   "execution_count": 5,
   "metadata": {
    "collapsed": false
   },
   "outputs": [],
   "source": [
    "def compute_metrics(df):\n",
    "    y_true = df['status']\n",
    "    y_score = df.DWPC\n",
    "    series = pandas.Series()\n",
    "    series['nonzero'] = (y_score > 0).mean()\n",
    "    series['auroc'] = sklearn.metrics.roc_auc_score(y_true, y_score)\n",
    "    series['auprc'] = sklearn.metrics.average_precision_score(y_true, y_score)\n",
    "    series['mean_PC'] = df['PC'].mean()\n",
    "    series['seconds_per_query'] = df['seconds'].mean()\n",
    "    return series\n",
    "\n",
    "auc_df = dwpc_df.groupby(['hetnet', 'metapath']).apply(compute_metrics).reset_index()\n",
    "auc_df['permuted'] = auc_df.hetnet.str.contains('_perm').astype(int)"
   ]
  },
  {
   "cell_type": "code",
   "execution_count": 6,
   "metadata": {
    "collapsed": false
   },
   "outputs": [
    {
     "data": {
      "text/html": [
       "<div>\n",
       "<table border=\"1\" class=\"dataframe\">\n",
       "  <thead>\n",
       "    <tr style=\"text-align: right;\">\n",
       "      <th></th>\n",
       "      <th>hetnet</th>\n",
       "      <th>metapath</th>\n",
       "      <th>nonzero</th>\n",
       "      <th>auroc</th>\n",
       "      <th>auprc</th>\n",
       "      <th>mean_PC</th>\n",
       "      <th>seconds_per_query</th>\n",
       "      <th>permuted</th>\n",
       "    </tr>\n",
       "  </thead>\n",
       "  <tbody>\n",
       "    <tr>\n",
       "      <th>0</th>\n",
       "      <td>hetio-ind</td>\n",
       "      <td>CbG&lt;rG&lt;rGaD</td>\n",
       "      <td>0.868609</td>\n",
       "      <td>0.651690</td>\n",
       "      <td>0.353662</td>\n",
       "      <td>566.712053</td>\n",
       "      <td>0.057020</td>\n",
       "      <td>0</td>\n",
       "    </tr>\n",
       "    <tr>\n",
       "      <th>1</th>\n",
       "      <td>hetio-ind</td>\n",
       "      <td>CbG&lt;rG&lt;rGdD</td>\n",
       "      <td>0.416159</td>\n",
       "      <td>0.582549</td>\n",
       "      <td>0.261258</td>\n",
       "      <td>862.403709</td>\n",
       "      <td>0.076651</td>\n",
       "      <td>0</td>\n",
       "    </tr>\n",
       "  </tbody>\n",
       "</table>\n",
       "</div>"
      ],
      "text/plain": [
       "      hetnet     metapath   nonzero     auroc     auprc     mean_PC  \\\n",
       "0  hetio-ind  CbG<rG<rGaD  0.868609  0.651690  0.353662  566.712053   \n",
       "1  hetio-ind  CbG<rG<rGdD  0.416159  0.582549  0.261258  862.403709   \n",
       "\n",
       "   seconds_per_query  permuted  \n",
       "0           0.057020         0  \n",
       "1           0.076651         0  "
      ]
     },
     "execution_count": 6,
     "metadata": {},
     "output_type": "execute_result"
    }
   ],
   "source": [
    "auc_df.head(2)"
   ]
  },
  {
   "cell_type": "code",
   "execution_count": 7,
   "metadata": {
    "collapsed": false
   },
   "outputs": [],
   "source": [
    "def compare_permutation(df):\n",
    "    unperm = df.query(\"permuted == 0\").iloc[0, :]\n",
    "    perm_df = df.query(\"permuted == 1\")\n",
    "    series = pandas.Series()\n",
    "    series['nonzero'] = unperm['nonzero']\n",
    "    series['seconds_per_query'] = unperm['seconds_per_query']\n",
    "    series['auroc'] = unperm.auroc\n",
    "    series['auroc_permuted'] = perm_df.auroc.mean()\n",
    "    series['delta_auroc'] = series['auroc'] - series['auroc_permuted']\n",
    "    # One tailed p-value testing whether the unpermuted AUROC\n",
    "    # is greater than the permuted AUROCs\n",
    "    ttest = scipy.stats.ttest_1samp(perm_df.auroc, unperm.auroc)\n",
    "    pvalue = ttest.pvalue / 2 if ttest.statistic < 0 else 1 - ttest.pvalue / 2\n",
    "    series['pval_auroc'] = pvalue\n",
    "    #series['nlog10_pval_auroc'] = -math.log10(pvalue)\n",
    "    return(series)\n",
    "\n",
    "compare_df = auc_df.groupby('metapath').apply(compare_permutation).reset_index()\n",
    "compare_df['length'] = compare_df.metapath.map(lambda x: len(re.split(r'[a-z<>]+', x)) - 1)\n",
    "compare_df = compare_df.sort_values(['length', 'metapath'])"
   ]
  },
  {
   "cell_type": "code",
   "execution_count": 8,
   "metadata": {
    "collapsed": false
   },
   "outputs": [
    {
     "data": {
      "text/html": [
       "<div>\n",
       "<table border=\"1\" class=\"dataframe\">\n",
       "  <thead>\n",
       "    <tr style=\"text-align: right;\">\n",
       "      <th></th>\n",
       "      <th>metapath</th>\n",
       "      <th>nonzero</th>\n",
       "      <th>seconds_per_query</th>\n",
       "      <th>auroc</th>\n",
       "      <th>auroc_permuted</th>\n",
       "      <th>delta_auroc</th>\n",
       "      <th>pval_auroc</th>\n",
       "      <th>length</th>\n",
       "    </tr>\n",
       "  </thead>\n",
       "  <tbody>\n",
       "    <tr>\n",
       "      <th>27</th>\n",
       "      <td>CbGaD</td>\n",
       "      <td>0.311523</td>\n",
       "      <td>0.014537</td>\n",
       "      <td>0.715374</td>\n",
       "      <td>0.580433</td>\n",
       "      <td>0.134941</td>\n",
       "      <td>0.000003</td>\n",
       "      <td>2</td>\n",
       "    </tr>\n",
       "    <tr>\n",
       "      <th>113</th>\n",
       "      <td>CbGdD</td>\n",
       "      <td>0.149139</td>\n",
       "      <td>0.013583</td>\n",
       "      <td>0.512119</td>\n",
       "      <td>0.515437</td>\n",
       "      <td>-0.003318</td>\n",
       "      <td>0.921172</td>\n",
       "      <td>2</td>\n",
       "    </tr>\n",
       "    <tr>\n",
       "      <th>237</th>\n",
       "      <td>CbGuD</td>\n",
       "      <td>0.134570</td>\n",
       "      <td>0.013051</td>\n",
       "      <td>0.517345</td>\n",
       "      <td>0.514276</td>\n",
       "      <td>0.003068</td>\n",
       "      <td>0.135583</td>\n",
       "      <td>2</td>\n",
       "    </tr>\n",
       "  </tbody>\n",
       "</table>\n",
       "</div>"
      ],
      "text/plain": [
       "    metapath   nonzero  seconds_per_query     auroc  auroc_permuted  \\\n",
       "27     CbGaD  0.311523           0.014537  0.715374        0.580433   \n",
       "113    CbGdD  0.149139           0.013583  0.512119        0.515437   \n",
       "237    CbGuD  0.134570           0.013051  0.517345        0.514276   \n",
       "\n",
       "     delta_auroc  pval_auroc  length  \n",
       "27      0.134941    0.000003       2  \n",
       "113    -0.003318    0.921172       2  \n",
       "237     0.003068    0.135583       2  "
      ]
     },
     "execution_count": 8,
     "metadata": {},
     "output_type": "execute_result"
    }
   ],
   "source": [
    "compare_df.head(3)"
   ]
  },
  {
   "cell_type": "code",
   "execution_count": 9,
   "metadata": {
    "collapsed": false
   },
   "outputs": [
    {
     "data": {
      "text/plain": [
       "609"
      ]
     },
     "execution_count": 9,
     "metadata": {},
     "output_type": "execute_result"
    }
   ],
   "source": [
    "len(compare_df)"
   ]
  },
  {
   "cell_type": "code",
   "execution_count": 10,
   "metadata": {
    "collapsed": false
   },
   "outputs": [
    {
     "data": {
      "text/html": [
       "<div>\n",
       "<table border=\"1\" class=\"dataframe\">\n",
       "  <thead>\n",
       "    <tr style=\"text-align: right;\">\n",
       "      <th></th>\n",
       "      <th>metapath</th>\n",
       "      <th>nonzero</th>\n",
       "      <th>seconds_per_query</th>\n",
       "      <th>auroc</th>\n",
       "      <th>auroc_permuted</th>\n",
       "      <th>delta_auroc</th>\n",
       "      <th>pval_auroc</th>\n",
       "      <th>length</th>\n",
       "    </tr>\n",
       "  </thead>\n",
       "  <tbody>\n",
       "    <tr>\n",
       "      <th>54</th>\n",
       "      <td>CbGbCrCtD</td>\n",
       "      <td>0.743576</td>\n",
       "      <td>0.021744</td>\n",
       "      <td>0.881191</td>\n",
       "      <td>0.702353</td>\n",
       "      <td>0.178838</td>\n",
       "      <td>1.885407e-08</td>\n",
       "      <td>4</td>\n",
       "    </tr>\n",
       "    <tr>\n",
       "      <th>559</th>\n",
       "      <td>CrCrCtD</td>\n",
       "      <td>0.155232</td>\n",
       "      <td>0.011457</td>\n",
       "      <td>0.754342</td>\n",
       "      <td>0.588369</td>\n",
       "      <td>0.165973</td>\n",
       "      <td>2.697382e-08</td>\n",
       "      <td>3</td>\n",
       "    </tr>\n",
       "    <tr>\n",
       "      <th>576</th>\n",
       "      <td>CtDrDrD</td>\n",
       "      <td>0.294570</td>\n",
       "      <td>0.011415</td>\n",
       "      <td>0.684383</td>\n",
       "      <td>0.508899</td>\n",
       "      <td>0.175484</td>\n",
       "      <td>2.909682e-08</td>\n",
       "      <td>3</td>\n",
       "    </tr>\n",
       "    <tr>\n",
       "      <th>561</th>\n",
       "      <td>CrCtDrD</td>\n",
       "      <td>0.136424</td>\n",
       "      <td>0.011195</td>\n",
       "      <td>0.647960</td>\n",
       "      <td>0.502565</td>\n",
       "      <td>0.145395</td>\n",
       "      <td>9.377069e-08</td>\n",
       "      <td>3</td>\n",
       "    </tr>\n",
       "    <tr>\n",
       "      <th>571</th>\n",
       "      <td>CtDlAlD</td>\n",
       "      <td>0.753642</td>\n",
       "      <td>0.012912</td>\n",
       "      <td>0.592044</td>\n",
       "      <td>0.477250</td>\n",
       "      <td>0.114794</td>\n",
       "      <td>4.605347e-07</td>\n",
       "      <td>3</td>\n",
       "    </tr>\n",
       "  </tbody>\n",
       "</table>\n",
       "</div>"
      ],
      "text/plain": [
       "      metapath   nonzero  seconds_per_query     auroc  auroc_permuted  \\\n",
       "54   CbGbCrCtD  0.743576           0.021744  0.881191        0.702353   \n",
       "559    CrCrCtD  0.155232           0.011457  0.754342        0.588369   \n",
       "576    CtDrDrD  0.294570           0.011415  0.684383        0.508899   \n",
       "561    CrCtDrD  0.136424           0.011195  0.647960        0.502565   \n",
       "571    CtDlAlD  0.753642           0.012912  0.592044        0.477250   \n",
       "\n",
       "     delta_auroc    pval_auroc  length  \n",
       "54      0.178838  1.885407e-08       4  \n",
       "559     0.165973  2.697382e-08       3  \n",
       "576     0.175484  2.909682e-08       3  \n",
       "561     0.145395  9.377069e-08       3  \n",
       "571     0.114794  4.605347e-07       3  "
      ]
     },
     "execution_count": 10,
     "metadata": {},
     "output_type": "execute_result"
    }
   ],
   "source": [
    "compare_df.sort_values('pval_auroc', ascending=True).head(5)"
   ]
  },
  {
   "cell_type": "code",
   "execution_count": 11,
   "metadata": {
    "collapsed": true
   },
   "outputs": [],
   "source": [
    "auc_df.to_csv('data/all-features/auc.tsv', sep='\\t', index=False, float_format='%.3g')\n",
    "compare_df.to_csv('data/all-features/auroc.tsv', sep='\\t', index=False, float_format='%.3g')"
   ]
  },
  {
   "cell_type": "code",
   "execution_count": 12,
   "metadata": {
    "collapsed": false,
    "scrolled": true
   },
   "outputs": [
    {
     "data": {
      "text/html": [
       "<div>\n",
       "<table border=\"1\" class=\"dataframe\">\n",
       "  <thead>\n",
       "    <tr style=\"text-align: right;\">\n",
       "      <th></th>\n",
       "      <th>metapath</th>\n",
       "      <th>nonzero</th>\n",
       "      <th>seconds_per_query</th>\n",
       "      <th>auroc</th>\n",
       "      <th>auroc_permuted</th>\n",
       "      <th>delta_auroc</th>\n",
       "      <th>pval_auroc</th>\n",
       "      <th>length</th>\n",
       "    </tr>\n",
       "  </thead>\n",
       "  <tbody>\n",
       "    <tr>\n",
       "      <th>541</th>\n",
       "      <td>CpDpCtD</td>\n",
       "      <td>0.036291</td>\n",
       "      <td>0.010954</td>\n",
       "      <td>0.567074</td>\n",
       "      <td>0.521675</td>\n",
       "      <td>0.045399</td>\n",
       "      <td>0.000018</td>\n",
       "      <td>3</td>\n",
       "    </tr>\n",
       "    <tr>\n",
       "      <th>543</th>\n",
       "      <td>CpDrD</td>\n",
       "      <td>0.014040</td>\n",
       "      <td>0.011533</td>\n",
       "      <td>0.511921</td>\n",
       "      <td>0.501189</td>\n",
       "      <td>0.010732</td>\n",
       "      <td>0.000058</td>\n",
       "      <td>2</td>\n",
       "    </tr>\n",
       "    <tr>\n",
       "      <th>572</th>\n",
       "      <td>CtDpCpD</td>\n",
       "      <td>0.067285</td>\n",
       "      <td>0.011678</td>\n",
       "      <td>0.577253</td>\n",
       "      <td>0.531694</td>\n",
       "      <td>0.045559</td>\n",
       "      <td>0.000117</td>\n",
       "      <td>3</td>\n",
       "    </tr>\n",
       "    <tr>\n",
       "      <th>52</th>\n",
       "      <td>CbGbCpDrD</td>\n",
       "      <td>0.619338</td>\n",
       "      <td>0.015703</td>\n",
       "      <td>0.535126</td>\n",
       "      <td>0.495830</td>\n",
       "      <td>0.039296</td>\n",
       "      <td>0.000176</td>\n",
       "      <td>4</td>\n",
       "    </tr>\n",
       "    <tr>\n",
       "      <th>229</th>\n",
       "      <td>CbGuCpDrD</td>\n",
       "      <td>0.065695</td>\n",
       "      <td>0.011037</td>\n",
       "      <td>0.518041</td>\n",
       "      <td>0.499678</td>\n",
       "      <td>0.018363</td>\n",
       "      <td>0.000604</td>\n",
       "      <td>4</td>\n",
       "    </tr>\n",
       "  </tbody>\n",
       "</table>\n",
       "</div>"
      ],
      "text/plain": [
       "      metapath   nonzero  seconds_per_query     auroc  auroc_permuted  \\\n",
       "541    CpDpCtD  0.036291           0.010954  0.567074        0.521675   \n",
       "543      CpDrD  0.014040           0.011533  0.511921        0.501189   \n",
       "572    CtDpCpD  0.067285           0.011678  0.577253        0.531694   \n",
       "52   CbGbCpDrD  0.619338           0.015703  0.535126        0.495830   \n",
       "229  CbGuCpDrD  0.065695           0.011037  0.518041        0.499678   \n",
       "\n",
       "     delta_auroc  pval_auroc  length  \n",
       "541     0.045399    0.000018       3  \n",
       "543     0.010732    0.000058       2  \n",
       "572     0.045559    0.000117       3  \n",
       "52      0.039296    0.000176       4  \n",
       "229     0.018363    0.000604       4  "
      ]
     },
     "execution_count": 12,
     "metadata": {},
     "output_type": "execute_result"
    }
   ],
   "source": [
    "compare_df[compare_df.metapath.str.contains('CpD|DpC')].sort_values('pval_auroc', ascending=True).head(5)"
   ]
  },
  {
   "cell_type": "markdown",
   "metadata": {},
   "source": [
    "## Create matrix"
   ]
  },
  {
   "cell_type": "code",
   "execution_count": 13,
   "metadata": {
    "collapsed": false
   },
   "outputs": [
    {
     "name": "stdout",
     "output_type": "stream",
     "text": [
      "hetio-ind_perm-1 PC\n",
      "hetio-ind_perm-1 DWPC\n",
      "hetio-ind_perm-1 seconds\n",
      "hetio-ind PC\n",
      "hetio-ind DWPC\n",
      "hetio-ind seconds\n",
      "hetio-ind_perm-2 PC\n",
      "hetio-ind_perm-2 DWPC\n",
      "hetio-ind_perm-2 seconds\n",
      "hetio-ind_perm-0 PC\n",
      "hetio-ind_perm-0 DWPC\n",
      "hetio-ind_perm-0 seconds\n",
      "hetio-ind_perm-3 PC\n",
      "hetio-ind_perm-3 DWPC\n",
      "hetio-ind_perm-3 seconds\n",
      "hetio-ind_perm-4 PC\n",
      "hetio-ind_perm-4 DWPC\n",
      "hetio-ind_perm-4 seconds\n"
     ]
    }
   ],
   "source": [
    "# Create spread dataframes\n",
    "# compound-disease pairs as rows, metapaths as columns\n",
    "\n",
    "## TODO: saves PC columns as floats rather than ints\n",
    "pivoted = dict()\n",
    "for hetnet in dwpc_df.hetnet.unique():\n",
    "    for value in 'PC', 'DWPC', 'seconds':\n",
    "        print(hetnet, value)\n",
    "        df = dwpc_df.query(\"hetnet == @hetnet\")\n",
    "        df = pandas.pivot_table(df, values=value, index=['drugbank_id', 'doid_id', 'status'], columns='metapath')\n",
    "        df = df = df.reset_index()\n",
    "        directory = 'data/all-features/{}'.format(hetnet)\n",
    "        if not os.path.exists(directory):\n",
    "            os.mkdir(directory)\n",
    "        filename = '{}-spread.tsv.bz2'.format(value)\n",
    "        path = os.path.join(directory, filename)\n",
    "        with bz2.open(path, 'wt') as wf:\n",
    "            df.to_csv(wf, index=False, sep='\\t')\n",
    "        pivoted[(hetnet, value)] = df"
   ]
  }
 ],
 "metadata": {
  "kernelspec": {
   "display_name": "Python 3",
   "language": "python",
   "name": "python3"
  },
  "language_info": {
   "codemirror_mode": {
    "name": "ipython",
    "version": 3
   },
   "file_extension": ".py",
   "mimetype": "text/x-python",
   "name": "python",
   "nbconvert_exporter": "python",
   "pygments_lexer": "ipython3",
   "version": "3.5.1"
  }
 },
 "nbformat": 4,
 "nbformat_minor": 0
}
