{
 "cells": [
  {
   "cell_type": "markdown",
   "metadata": {},
   "source": [
    "## LearnR\n",
    "\n",
    "Note that metapath names with `<` are [currently truncated](https://github.com/IRkernel/IRkernel/issues/286) in the notebook, unless they are specially HTML escaped."
   ]
  },
  {
   "cell_type": "code",
   "execution_count": 1,
   "metadata": {
    "collapsed": false
   },
   "outputs": [],
   "source": [
    "library(dplyr, warn=F)"
   ]
  },
  {
   "cell_type": "markdown",
   "metadata": {},
   "source": [
    "## Read datasets"
   ]
  },
  {
   "cell_type": "code",
   "execution_count": 2,
   "metadata": {
    "collapsed": false
   },
   "outputs": [],
   "source": [
    "dwpc_mat_df = readr::read_tsv('data/matrix/hetio-ind/features.tsv.bz2')"
   ]
  },
  {
   "cell_type": "code",
   "execution_count": 3,
   "metadata": {
    "collapsed": false
   },
   "outputs": [
    {
     "data": {
      "text/html": [
       "<table>\n",
       "<thead><tr><th></th><th scope=col>feature_type</th><th scope=col>feature</th><th scope=col>nonzero</th><th scope=col>auroc</th><th scope=col>auroc_permuted</th><th scope=col>delta_auroc</th><th scope=col>pval_auroc</th><th scope=col>fdr_pval_auroc</th></tr></thead>\n",
       "<tbody>\n",
       "\t<tr><th scope=row>1</th><td>degree</td><td>CbG</td><td>0.92238</td><td>0.67508</td><td>0.67481</td><td>0.00027521</td><td>0.92609</td><td>0.94922</td></tr>\n",
       "\t<tr><th scope=row>2</th><td>DWPC</td><td>CbG<rG<rGaD</td><td>0.62464</td><td>0.78515</td><td>0.6887</td><td>0.096447</td><td>0.0017381</td><td>0.015367</td></tr>\n",
       "</tbody>\n",
       "</table>\n"
      ],
      "text/latex": [
       "\\begin{tabular}{r|llllllll}\n",
       "  & feature_type & feature & nonzero & auroc & auroc_permuted & delta_auroc & pval_auroc & fdr_pval_auroc\\\\\n",
       "\\hline\n",
       "\t1 & degree & CbG & 0.92238 & 0.67508 & 0.67481 & 0.00027521 & 0.92609 & 0.94922\\\\\n",
       "\t2 & DWPC & CbG<rG<rGaD & 0.62464 & 0.78515 & 0.6887 & 0.096447 & 0.0017381 & 0.015367\\\\\n",
       "\\end{tabular}\n"
      ],
      "text/plain": [
       "Source: local data frame [2 x 8]\n",
       "\n",
       "  feature_type     feature nonzero   auroc auroc_permuted delta_auroc\n",
       "         (chr)       (chr)   (dbl)   (dbl)          (dbl)       (dbl)\n",
       "1       degree         CbG 0.92238 0.67508        0.67481  0.00027521\n",
       "2         DWPC CbG<rG<rGaD 0.62464 0.78515        0.68870  0.09644700\n",
       "Variables not shown: pval_auroc (dbl), fdr_pval_auroc (dbl)"
      ]
     },
     "execution_count": 3,
     "metadata": {},
     "output_type": "execute_result"
    }
   ],
   "source": [
    "auroc_df = readr::read_tsv('data/auroc.tsv')\n",
    "perm_affected = dplyr::filter(auroc_df, feature_type == 'degree' | fdr_pval_auroc <= 0.05)$feature\n",
    "head(auroc_df, 2)"
   ]
  },
  {
   "cell_type": "code",
   "execution_count": 4,
   "metadata": {
    "collapsed": false
   },
   "outputs": [
    {
     "data": {
      "text/html": [
       "417"
      ],
      "text/latex": [
       "417"
      ],
      "text/markdown": [
       "417"
      ],
      "text/plain": [
       "[1] 417"
      ]
     },
     "execution_count": 4,
     "metadata": {},
     "output_type": "execute_result"
    }
   ],
   "source": [
    "length(perm_affected)"
   ]
  },
  {
   "cell_type": "markdown",
   "metadata": {},
   "source": [
    "## Weighting\n",
    "\n",
    "Weights are currently not working due to an error thrown by `glmnet::cv.glmnet` (presumably [this line](https://github.com/cran/glmnet/blob/b8b39029eae71958e9c7c382240b7696fde3eff1/R/cv.lognet.R#L53)):\n",
    "\n",
    "```\n",
    "Error in predmat[which, seq(nlami)] = preds: replacement has length zero\n",
    "```\n",
    "\n",
    "Thus logistic regression models are fit without weights."
   ]
  },
  {
   "cell_type": "code",
   "execution_count": 5,
   "metadata": {
    "collapsed": false
   },
   "outputs": [
    {
     "data": {
      "text/html": [
       "<ol class=list-inline>\n",
       "\t<li>209168</li>\n",
       "\t<li>755</li>\n",
       "\t<li>3020</li>\n",
       "</ol>\n"
      ],
      "text/latex": [
       "\\begin{enumerate*}\n",
       "\\item 209168\n",
       "\\item 755\n",
       "\\item 3020\n",
       "\\end{enumerate*}\n"
      ],
      "text/markdown": [
       "1. 209168\n",
       "2. 755\n",
       "3. 3020\n",
       "\n",
       "\n"
      ],
      "text/plain": [
       "[1] 209168    755   3020"
      ]
     },
     "execution_count": 5,
     "metadata": {},
     "output_type": "execute_result"
    }
   ],
   "source": [
    "n_compounds = readr::read_tsv('../summary/compounds.tsv') %>% nrow()\n",
    "n_diseases = readr::read_tsv('../summary/diseases.tsv') %>% nrow()\n",
    "n_pairs = n_compounds * n_diseases\n",
    "n_positives = sum(dwpc_mat_df$status == 1)\n",
    "n_negatives = sum(dwpc_mat_df$status == 0)\n",
    "c(n_pairs, n_positives, n_negatives)"
   ]
  },
  {
   "cell_type": "code",
   "execution_count": 6,
   "metadata": {
    "collapsed": false
   },
   "outputs": [
    {
     "data": {
      "text/html": [
       "<dl>\n",
       "\t<dt>$0</dt>\n",
       "\t\t<dd>69.0109271523179</dd>\n",
       "\t<dt>$1</dt>\n",
       "\t\t<dd>1</dd>\n",
       "</dl>\n"
      ],
      "text/latex": [
       "\\begin{description}\n",
       "\\item[\\$0] 69.0109271523179\n",
       "\\item[\\$1] 1\n",
       "\\end{description}\n"
      ],
      "text/markdown": [
       "$0\n",
       ":   69.0109271523179\n",
       "$1\n",
       ":   1\n",
       "\n",
       "\n"
      ],
      "text/plain": [
       "$`0`\n",
       "[1] 69.01093\n",
       "\n",
       "$`1`\n",
       "[1] 1\n"
      ]
     },
     "execution_count": 6,
     "metadata": {},
     "output_type": "execute_result"
    }
   ],
   "source": [
    "positive_weight = 1\n",
    "negative_weight = (n_pairs - n_positives) / n_negatives\n",
    "weight_map = list('0' = negative_weight, '1' = positive_weight)\n",
    "weight_map"
   ]
  },
  {
   "cell_type": "markdown",
   "metadata": {},
   "source": [
    "## Dataset preparation"
   ]
  },
  {
   "cell_type": "code",
   "execution_count": 7,
   "metadata": {
    "collapsed": false
   },
   "outputs": [
    {
     "data": {
      "text/html": [
       "<table>\n",
       "<thead><tr><th></th><th scope=col>compound_id</th><th scope=col>compound_name</th><th scope=col>disease_id</th><th scope=col>disease_name</th><th scope=col>status</th><th scope=col>CbG</th><th scope=col>CbG<rG<rGaD</th><th scope=col>CbG<rG<rGdD</th><th scope=col>CbG<rG<rGuD</th><th scope=col>CbG<rGaD</th><th scope=col>ellip.h</th><th scope=col>CuGuDuGdD</th><th scope=col>CuGuDuGuD</th><th scope=col>DaG</th><th scope=col>DdG</th><th scope=col>DlA</th><th scope=col>DpC</th><th scope=col>DpS</th><th scope=col>DrD</th><th scope=col>DtC</th><th scope=col>DuG</th></tr></thead>\n",
       "<tbody>\n",
       "\t<tr><th scope=row>1</th><td>DB01048</td><td>Abacavir</td><td>DOID:635</td><td>acquired immunodeficiency syndrome</td><td>1</td><td>3</td><td>4.95115e-05</td><td>0.000673428</td><td>0.000678888</td><td>0</td><td>⋯</td><td>0</td><td>0</td><td>40</td><td>250</td><td>25</td><td>0</td><td>24</td><td>2</td><td>14</td><td>250</td></tr>\n",
       "\t<tr><th scope=row>2</th><td>DB01048</td><td>Abacavir</td><td>DOID:1459</td><td>hypothyroidism</td><td>0</td><td>3</td><td>9.89203e-05</td><td>0</td><td>0</td><td>0</td><td>⋯</td><td>0</td><td>0</td><td>44</td><td>0</td><td>24</td><td>0</td><td>34</td><td>3</td><td>4</td><td>0</td></tr>\n",
       "</tbody>\n",
       "</table>\n"
      ],
      "text/latex": [
       "\\begin{tabular}{r|llllllllllllllllllllllllllllllllllllllllllllllllllllllllllllllllllllllllllllllllllllllllllllllllllllllllllllllllllllllllllllllllllllllllllllllllllllllllllllllllllllllllllllllllllllllllllllllllllllllllllllllllllllllllllllllllllllllllllllllllllllllllllllllllllllllllllllllllllllllllllllllllllllllllllllllllllllllllllllllllllllllllllllllllllllllllllllllllllllllllllllllllllllllllllllllllllllllllllllllllllllllllllllllllllllllllllllllllllllllllllllllllllllllllllllllllllllllllllllllllllllllllllllllllllllllllllllllllllllllllllllllllllllllllllllllllllllllllllllllllllllllllllllllllllllllllllllllllllllllllllllllllllllllllllllllllllllllllllllllllllllllllllllllllllllllllllllllllllllllllllllllllllllllllllllllllllllllllllllllllllllllllllllllllllllllllllllllllllllllllllllllllllllllllllllllllllllllllllllllllllllllllllllllllllllllllllllllllllllllllllllllllllllllllllllllllllllllllllllllllllllllllllllllllllllllllllllllllllllllllllllllllllllllllllllllllllllllllllllllllllllllllllllllllllllllllllllllllllllllllllllllllllllllllllllllllllllllllllllllllllllllllllllllllllllllllllllllllllllllllllllllllllllllllllllllllllllllllllllllllllllllllllllllllllllllllllllllllllllllllllllllllllllllllllllllllllllllllllllllllllllllllllllllllllllllllllllllllllll}\n",
       "  & compound_id & compound_name & disease_id & disease_name & status & CbG & CbG<rG<rGaD & CbG<rG<rGdD & CbG<rG<rGuD & CbG<rGaD & ellip.h & CuGuDuGdD & CuGuDuGuD & DaG & DdG & DlA & DpC & DpS & DrD & DtC & DuG\\\\\n",
       "\\hline\n",
       "\t1 & DB01048 & Abacavir & DOID:635 & acquired immunodeficiency syndrome & 1 & 3 & 4.95115e-05 & 0.000673428 & 0.000678888 & 0 & ⋯ & 0 & 0 & 40 & 250 & 25 & 0 & 24 & 2 & 14 & 250\\\\\n",
       "\t2 & DB01048 & Abacavir & DOID:1459 & hypothyroidism & 0 & 3 & 9.89203e-05 & 0 & 0 & 0 & ⋯ & 0 & 0 & 44 & 0 & 24 & 0 & 34 & 3 & 4 & 0\\\\\n",
       "\\end{tabular}\n"
      ],
      "text/plain": [
       "Source: local data frame [2 x 1,236]\n",
       "\n",
       "  compound_id compound_name disease_id                       disease_name\n",
       "        (chr)         (chr)      (chr)                              (chr)\n",
       "1     DB01048      Abacavir   DOID:635 acquired immunodeficiency syndrome\n",
       "2     DB01048      Abacavir  DOID:1459                     hypothyroidism\n",
       "Variables not shown: status (int), CbG (int), CbG<rG<rGaD (dbl), CbG<rG<rGdD\n",
       "  (dbl), CbG<rG<rGuD (dbl), CbG<rGaD (dbl), CbG<rGaDrD (dbl), CbG<rGbCpD (dbl),\n",
       "  CbG<rGbCtD (dbl), CbG<rGcGaD (dbl), CbG<rGcGdD (dbl), CbG<rGcGuD (dbl),\n",
       "  CbG<rGdAlD (dbl), CbG<rGdCpD (dbl), CbG<rGdCtD (dbl), CbG<rGdD (dbl),\n",
       "  CbG<rGdDrD (dbl), CbG<rGeAlD (dbl), CbG<rGiGaD (dbl), CbG<rGiGdD (dbl),\n",
       "  CbG<rGiGuD (dbl), CbG<rGr>GaD (dbl), CbG<rGr>GdD (dbl), CbG<rGr>GuD (dbl),\n",
       "  CbG<rGuAlD (dbl), CbG<rGuCpD (dbl), CbG<rGuCtD (dbl), CbG<rGuD (dbl),\n",
       "  CbG<rGuDrD (dbl), CbGaD (dbl), CbGaDaGaD (dbl), CbGaDaGdD (dbl), CbGaDaGuD\n",
       "  (dbl), CbGaDdGaD (dbl), CbGaDdGdD (dbl), CbGaDdGuD (dbl), CbGaDlAlD (dbl),\n",
       "  CbGaDpCpD (dbl), CbGaDpCtD (dbl), CbGaDpSpD (dbl), CbGaDrD (dbl), CbGaDrDrD\n",
       "  (dbl), CbGaDtCpD (dbl), CbGaDtCtD (dbl), CbGaDuGaD (dbl), CbGaDuGdD (dbl),\n",
       "  CbGaDuGuD (dbl), CbGbCbGaD (dbl), CbGbCbGdD (dbl), CbGbCbGuD (dbl), CbGbCdGaD\n",
       "  (dbl), CbGbCdGdD (dbl), CbGbCdGuD (dbl), CbGbCpD (dbl), CbGbCpDrD (dbl),\n",
       "  CbGbCrCpD (dbl), CbGbCrCtD (dbl), CbGbCtD (dbl), CbGbCtDrD (dbl), CbGbCuGaD\n",
       "  (dbl), CbGbCuGdD (dbl), CbGbCuGuD (dbl), CbGcG<rGaD (dbl), CbGcG<rGdD (dbl),\n",
       "  CbGcG<rGuD (dbl), CbGcGaD (dbl), CbGcGaDrD (dbl), CbGcGbCpD (dbl), CbGcGbCtD\n",
       "  (dbl), CbGcGcGaD (dbl), CbGcGcGdD (dbl), CbGcGcGuD (dbl), CbGcGdAlD (dbl),\n",
       "  CbGcGdCpD (dbl), CbGcGdCtD (dbl), CbGcGdD (dbl), CbGcGdDrD (dbl), CbGcGeAlD\n",
       "  (dbl), CbGcGiGaD (dbl), CbGcGiGdD (dbl), CbGcGiGuD (dbl), CbGcGr>GaD (dbl),\n",
       "  CbGcGr>GdD (dbl), CbGcGr>GuD (dbl), CbGcGuAlD (dbl), CbGcGuCpD (dbl),\n",
       "  CbGcGuCtD (dbl), CbGcGuD (dbl), CbGcGuDrD (dbl), CbGdAdGaD (dbl), CbGdAdGdD\n",
       "  (dbl), CbGdAdGuD (dbl), CbGdAeGaD (dbl), CbGdAeGdD (dbl), CbGdAeGuD (dbl),\n",
       "  CbGdAlD (dbl), CbGdAlDrD (dbl), CbGdAuGaD (dbl), CbGdAuGdD (dbl), CbGdAuGuD\n",
       "  (dbl), CbGdCbGaD (dbl), CbGdCbGdD (dbl), CbGdCbGuD (dbl), CbGdCdGaD (dbl),\n",
       "  CbGdCdGdD (dbl), CbGdCdGuD (dbl), CbGdCpD (dbl), CbGdCpDrD (dbl), CbGdCrCpD\n",
       "  (dbl), CbGdCrCtD (dbl), CbGdCtD (dbl), CbGdCtDrD (dbl), CbGdCuGaD (dbl),\n",
       "  CbGdCuGdD (dbl), CbGdCuGuD (dbl), CbGdD (dbl), CbGdDaGaD (dbl), CbGdDaGdD\n",
       "  (dbl), CbGdDaGuD (dbl), CbGdDdGaD (dbl), CbGdDdGdD (dbl), CbGdDdGuD (dbl),\n",
       "  CbGdDlAlD (dbl), CbGdDpCpD (dbl), CbGdDpCtD (dbl), CbGdDpSpD (dbl), CbGdDrD\n",
       "  (dbl), CbGdDrDrD (dbl), CbGdDtCpD (dbl), CbGdDtCtD (dbl), CbGdDuGaD (dbl),\n",
       "  CbGdDuGdD (dbl), CbGdDuGuD (dbl), CbGeAdGaD (dbl), CbGeAdGdD (dbl), CbGeAdGuD\n",
       "  (dbl), CbGeAeGaD (dbl), CbGeAeGdD (dbl), CbGeAeGuD (dbl), CbGeAlD (dbl),\n",
       "  CbGeAlDrD (dbl), CbGeAuGaD (dbl), CbGeAuGdD (dbl), CbGeAuGuD (dbl),\n",
       "  CbGiG<rGaD (dbl), CbGiG<rGdD (dbl), CbGiG<rGuD (dbl), CbGiGaD (dbl),\n",
       "  CbGiGaDrD (dbl), CbGiGbCpD (dbl), CbGiGbCtD (dbl), CbGiGcGaD (dbl), CbGiGcGdD\n",
       "  (dbl), CbGiGcGuD (dbl), CbGiGdAlD (dbl), CbGiGdCpD (dbl), CbGiGdCtD (dbl),\n",
       "  CbGiGdD (dbl), CbGiGdDrD (dbl), CbGiGeAlD (dbl), CbGiGiGaD (dbl), CbGiGiGdD\n",
       "  (dbl), CbGiGiGuD (dbl), CbGiGr>GaD (dbl), CbGiGr>GdD (dbl), CbGiGr>GuD (dbl),\n",
       "  CbGiGuAlD (dbl), CbGiGuCpD (dbl), CbGiGuCtD (dbl), CbGiGuD (dbl), CbGiGuDrD\n",
       "  (dbl), CbGpBPpGaD (dbl), CbGpBPpGdD (dbl), CbGpBPpGuD (dbl), CbGpCCpGaD\n",
       "  (dbl), CbGpCCpGdD (dbl), CbGpCCpGuD (dbl), CbGpMFpGaD (dbl), CbGpMFpGdD\n",
       "  (dbl), CbGpMFpGuD (dbl), CbGpPWpGaD (dbl), CbGpPWpGdD (dbl), CbGpPWpGuD\n",
       "  (dbl), CbGr>G<rGaD (dbl), CbGr>G<rGdD (dbl), CbGr>G<rGuD (dbl), CbGr>GaD\n",
       "  (dbl), CbGr>GaDrD (dbl), CbGr>GbCpD (dbl), CbGr>GbCtD (dbl), CbGr>GcGaD\n",
       "  (dbl), CbGr>GcGdD (dbl), CbGr>GcGuD (dbl), CbGr>GdAlD (dbl), CbGr>GdCpD\n",
       "  (dbl), CbGr>GdCtD (dbl), CbGr>GdD (dbl), CbGr>GdDrD (dbl), CbGr>GeAlD (dbl),\n",
       "  CbGr>GiGaD (dbl), CbGr>GiGdD (dbl), CbGr>GiGuD (dbl), CbGr>Gr>GaD (dbl),\n",
       "  CbGr>Gr>GdD (dbl), CbGr>Gr>GuD (dbl), CbGr>GuAlD (dbl), CbGr>GuCpD (dbl),\n",
       "  CbGr>GuCtD (dbl), CbGr>GuD (dbl), CbGr>GuDrD (dbl), CbGrPBrGaD (dbl),\n",
       "  CbGrPBrGdD (dbl), CbGrPBrGuD (dbl), CbGuAdGaD (dbl), CbGuAdGdD (dbl),\n",
       "  CbGuAdGuD (dbl), CbGuAeGaD (dbl), CbGuAeGdD (dbl), CbGuAeGuD (dbl), CbGuAlD\n",
       "  (dbl), CbGuAlDrD (dbl), CbGuAuGaD (dbl), CbGuAuGdD (dbl), CbGuAuGuD (dbl),\n",
       "  CbGuCbGaD (dbl), CbGuCbGdD (dbl), CbGuCbGuD (dbl), CbGuCdGaD (dbl), CbGuCdGdD\n",
       "  (dbl), CbGuCdGuD (dbl), CbGuCpD (dbl), CbGuCpDrD (dbl), CbGuCrCpD (dbl),\n",
       "  CbGuCrCtD (dbl), CbGuCtD (dbl), CbGuCtDrD (dbl), CbGuCuGaD (dbl), CbGuCuGdD\n",
       "  (dbl), CbGuCuGuD (dbl), CbGuD (dbl), CbGuDaGaD (dbl), CbGuDaGdD (dbl),\n",
       "  CbGuDaGuD (dbl), CbGuDdGaD (dbl), CbGuDdGdD (dbl), CbGuDdGuD (dbl), CbGuDlAlD\n",
       "  (dbl), CbGuDpCpD (dbl), CbGuDpCtD (dbl), CbGuDpSpD (dbl), CbGuDrD (dbl),\n",
       "  CbGuDrDrD (dbl), CbGuDtCpD (dbl), CbGuDtCtD (dbl), CbGuDuGaD (dbl), CbGuDuGdD\n",
       "  (dbl), CbGuDuGuD (dbl), CcSE (int), CcSEcCbGaD (dbl), CcSEcCbGdD (dbl),\n",
       "  CcSEcCbGuD (dbl), CcSEcCdGaD (dbl), CcSEcCdGdD (dbl), CcSEcCdGuD (dbl),\n",
       "  CcSEcCpD (dbl), CcSEcCpDrD (dbl), CcSEcCrCpD (dbl), CcSEcCrCtD (dbl),\n",
       "  CcSEcCtD (dbl), CcSEcCtDrD (dbl), CcSEcCuGaD (dbl), CcSEcCuGdD (dbl),\n",
       "  CcSEcCuGuD (dbl), CdG (int), CdG<rG<rGaD (dbl), CdG<rG<rGdD (dbl),\n",
       "  CdG<rG<rGuD (dbl), CdG<rGaD (dbl), CdG<rGaDrD (dbl), CdG<rGbCpD (dbl),\n",
       "  CdG<rGbCtD (dbl), CdG<rGcGaD (dbl), CdG<rGcGdD (dbl), CdG<rGcGuD (dbl),\n",
       "  CdG<rGdAlD (dbl), CdG<rGdCpD (dbl), CdG<rGdCtD (dbl), CdG<rGdD (dbl),\n",
       "  CdG<rGdDrD (dbl), CdG<rGeAlD (dbl), CdG<rGiGaD (dbl), CdG<rGiGdD (dbl),\n",
       "  CdG<rGiGuD (dbl), CdG<rGr>GaD (dbl), CdG<rGr>GdD (dbl), CdG<rGr>GuD (dbl),\n",
       "  CdG<rGuAlD (dbl), CdG<rGuCpD (dbl), CdG<rGuCtD (dbl), CdG<rGuD (dbl),\n",
       "  CdG<rGuDrD (dbl), CdGaD (dbl), CdGaDaGaD (dbl), CdGaDaGdD (dbl), CdGaDaGuD\n",
       "  (dbl), CdGaDdGaD (dbl), CdGaDdGdD (dbl), CdGaDdGuD (dbl), CdGaDlAlD (dbl),\n",
       "  CdGaDpCpD (dbl), CdGaDpCtD (dbl), CdGaDpSpD (dbl), CdGaDrD (dbl), CdGaDrDrD\n",
       "  (dbl), CdGaDtCpD (dbl), CdGaDtCtD (dbl), CdGaDuGaD (dbl), CdGaDuGdD (dbl),\n",
       "  CdGaDuGuD (dbl), CdGbCbGaD (dbl), CdGbCbGdD (dbl), CdGbCbGuD (dbl), CdGbCdGaD\n",
       "  (dbl), CdGbCdGdD (dbl), CdGbCdGuD (dbl), CdGbCpD (dbl), CdGbCpDrD (dbl),\n",
       "  CdGbCrCpD (dbl), CdGbCrCtD (dbl), CdGbCtD (dbl), CdGbCtDrD (dbl), CdGbCuGaD\n",
       "  (dbl), CdGbCuGdD (dbl), CdGbCuGuD (dbl), CdGcG<rGaD (dbl), CdGcG<rGdD (dbl),\n",
       "  CdGcG<rGuD (dbl), CdGcGaD (dbl), CdGcGaDrD (dbl), CdGcGbCpD (dbl), CdGcGbCtD\n",
       "  (dbl), CdGcGcGaD (dbl), CdGcGcGdD (dbl), CdGcGcGuD (dbl), CdGcGdAlD (dbl),\n",
       "  CdGcGdCpD (dbl), CdGcGdCtD (dbl), CdGcGdD (dbl), CdGcGdDrD (dbl), CdGcGeAlD\n",
       "  (dbl), CdGcGiGaD (dbl), CdGcGiGdD (dbl), CdGcGiGuD (dbl), CdGcGr>GaD (dbl),\n",
       "  CdGcGr>GdD (dbl), CdGcGr>GuD (dbl), CdGcGuAlD (dbl), CdGcGuCpD (dbl),\n",
       "  CdGcGuCtD (dbl), CdGcGuD (dbl), CdGcGuDrD (dbl), CdGdAdGaD (dbl), CdGdAdGdD\n",
       "  (dbl), CdGdAdGuD (dbl), CdGdAeGaD (dbl), CdGdAeGdD (dbl), CdGdAeGuD (dbl),\n",
       "  CdGdAlD (dbl), CdGdAlDrD (dbl), CdGdAuGaD (dbl), CdGdAuGdD (dbl), CdGdAuGuD\n",
       "  (dbl), CdGdCbGaD (dbl), CdGdCbGdD (dbl), CdGdCbGuD (dbl), CdGdCdGaD (dbl),\n",
       "  CdGdCdGdD (dbl), CdGdCdGuD (dbl), CdGdCpD (dbl), CdGdCpDrD (dbl), CdGdCrCpD\n",
       "  (dbl), CdGdCrCtD (dbl), CdGdCtD (dbl), CdGdCtDrD (dbl), CdGdCuGaD (dbl),\n",
       "  CdGdCuGdD (dbl), CdGdCuGuD (dbl), CdGdD (dbl), CdGdDaGaD (dbl), CdGdDaGdD\n",
       "  (dbl), CdGdDaGuD (dbl), CdGdDdGaD (dbl), CdGdDdGdD (dbl), CdGdDdGuD (dbl),\n",
       "  CdGdDlAlD (dbl), CdGdDpCpD (dbl), CdGdDpCtD (dbl), CdGdDpSpD (dbl), CdGdDrD\n",
       "  (dbl), CdGdDrDrD (dbl), CdGdDtCpD (dbl), CdGdDtCtD (dbl), CdGdDuGaD (dbl),\n",
       "  CdGdDuGdD (dbl), CdGdDuGuD (dbl), CdGeAdGaD (dbl), CdGeAdGdD (dbl), CdGeAdGuD\n",
       "  (dbl), CdGeAeGaD (dbl), CdGeAeGdD (dbl), CdGeAeGuD (dbl), CdGeAlD (dbl),\n",
       "  CdGeAlDrD (dbl), CdGeAuGaD (dbl), CdGeAuGdD (dbl), CdGeAuGuD (dbl),\n",
       "  CdGiG<rGaD (dbl), CdGiG<rGdD (dbl), CdGiG<rGuD (dbl), CdGiGaD (dbl),\n",
       "  CdGiGaDrD (dbl), CdGiGbCpD (dbl), CdGiGbCtD (dbl), CdGiGcGaD (dbl), CdGiGcGdD\n",
       "  (dbl), CdGiGcGuD (dbl), CdGiGdAlD (dbl), CdGiGdCpD (dbl), CdGiGdCtD (dbl),\n",
       "  CdGiGdD (dbl), CdGiGdDrD (dbl), CdGiGeAlD (dbl), CdGiGiGaD (dbl), CdGiGiGdD\n",
       "  (dbl), CdGiGiGuD (dbl), CdGiGr>GaD (dbl), CdGiGr>GdD (dbl), CdGiGr>GuD (dbl),\n",
       "  CdGiGuAlD (dbl), CdGiGuCpD (dbl), CdGiGuCtD (dbl), CdGiGuD (dbl), CdGiGuDrD\n",
       "  (dbl), CdGpBPpGaD (dbl), CdGpBPpGdD (dbl), CdGpBPpGuD (dbl), CdGpCCpGaD\n",
       "  (dbl), CdGpCCpGdD (dbl), CdGpCCpGuD (dbl), CdGpMFpGaD (dbl), CdGpMFpGdD\n",
       "  (dbl), CdGpMFpGuD (dbl), CdGpPWpGaD (dbl), CdGpPWpGdD (dbl), CdGpPWpGuD\n",
       "  (dbl), CdGr>G<rGaD (dbl), CdGr>G<rGdD (dbl), CdGr>G<rGuD (dbl), CdGr>GaD\n",
       "  (dbl), CdGr>GaDrD (dbl), CdGr>GbCpD (dbl), CdGr>GbCtD (dbl), CdGr>GcGaD\n",
       "  (dbl), CdGr>GcGdD (dbl), CdGr>GcGuD (dbl), CdGr>GdAlD (dbl), CdGr>GdCpD\n",
       "  (dbl), CdGr>GdCtD (dbl), CdGr>GdD (dbl), CdGr>GdDrD (dbl), CdGr>GeAlD (dbl),\n",
       "  CdGr>GiGaD (dbl), CdGr>GiGdD (dbl), CdGr>GiGuD (dbl), CdGr>Gr>GaD (dbl),\n",
       "  CdGr>Gr>GdD (dbl), CdGr>Gr>GuD (dbl), CdGr>GuAlD (dbl), CdGr>GuCpD (dbl),\n",
       "  CdGr>GuCtD (dbl), CdGr>GuD (dbl), CdGr>GuDrD (dbl), CdGrPBrGaD (dbl),\n",
       "  CdGrPBrGdD (dbl), CdGrPBrGuD (dbl), CdGuAdGaD (dbl), CdGuAdGdD (dbl),\n",
       "  CdGuAdGuD (dbl), CdGuAeGaD (dbl), CdGuAeGdD (dbl), CdGuAeGuD (dbl), CdGuAlD\n",
       "  (dbl), CdGuAlDrD (dbl), CdGuAuGaD (dbl), CdGuAuGdD (dbl), CdGuAuGuD (dbl),\n",
       "  CdGuCbGaD (dbl), CdGuCbGdD (dbl), CdGuCbGuD (dbl), CdGuCdGaD (dbl), CdGuCdGdD\n",
       "  (dbl), CdGuCdGuD (dbl), CdGuCpD (dbl), CdGuCpDrD (dbl), CdGuCrCpD (dbl),\n",
       "  CdGuCrCtD (dbl), CdGuCtD (dbl), CdGuCtDrD (dbl), CdGuCuGaD (dbl), CdGuCuGdD\n",
       "  (dbl), CdGuCuGuD (dbl), CdGuD (dbl), CdGuDaGaD (dbl), CdGuDaGdD (dbl),\n",
       "  CdGuDaGuD (dbl), CdGuDdGaD (dbl), CdGuDdGdD (dbl), CdGuDdGuD (dbl), CdGuDlAlD\n",
       "  (dbl), CdGuDpCpD (dbl), CdGuDpCtD (dbl), CdGuDpSpD (dbl), CdGuDrD (dbl),\n",
       "  CdGuDrDrD (dbl), CdGuDtCpD (dbl), CdGuDtCtD (dbl), CdGuDuGaD (dbl), CdGuDuGdD\n",
       "  (dbl), CdGuDuGuD (dbl), CiPC (int), CiPCiCbGaD (dbl), CiPCiCbGdD (dbl),\n",
       "  CiPCiCbGuD (dbl), CiPCiCdGaD (dbl), CiPCiCdGdD (dbl), CiPCiCdGuD (dbl),\n",
       "  CiPCiCpD (dbl), CiPCiCpDrD (dbl), CiPCiCrCpD (dbl), CiPCiCrCtD (dbl),\n",
       "  CiPCiCtD (dbl), CiPCiCtDrD (dbl), CiPCiCuGaD (dbl), CiPCiCuGdD (dbl),\n",
       "  CiPCiCuGuD (dbl), CpD (int), CpDaG<rGaD (dbl), CpDaG<rGdD (dbl), CpDaG<rGuD\n",
       "  (dbl), CpDaGaD (dbl), CpDaGaDrD (dbl), CpDaGbCpD (dbl), CpDaGbCtD (dbl),\n",
       "  CpDaGcGaD (dbl), CpDaGcGdD (dbl), CpDaGcGuD (dbl), CpDaGdAlD (dbl), CpDaGdCpD\n",
       "  (dbl), CpDaGdCtD (dbl), CpDaGdD (dbl), CpDaGdDrD (dbl), CpDaGeAlD (dbl),\n",
       "  CpDaGiGaD (dbl), CpDaGiGdD (dbl), CpDaGiGuD (dbl), CpDaGr>GaD (dbl),\n",
       "  CpDaGr>GdD (dbl), CpDaGr>GuD (dbl), CpDaGuAlD (dbl), CpDaGuCpD (dbl),\n",
       "  CpDaGuCtD (dbl), CpDaGuD (dbl), CpDaGuDrD (dbl), CpDdG<rGaD (dbl), CpDdG<rGdD\n",
       "  (dbl), CpDdG<rGuD (dbl), CpDdGaD (dbl), CpDdGaDrD (dbl), CpDdGbCpD (dbl),\n",
       "  CpDdGbCtD (dbl), CpDdGcGaD (dbl), CpDdGcGdD (dbl), CpDdGcGuD (dbl), CpDdGdAlD\n",
       "  (dbl), CpDdGdCpD (dbl), CpDdGdCtD (dbl), CpDdGdD (dbl), CpDdGdDrD (dbl),\n",
       "  CpDdGeAlD (dbl), CpDdGiGaD (dbl), CpDdGiGdD (dbl), CpDdGiGuD (dbl),\n",
       "  CpDdGr>GaD (dbl), CpDdGr>GdD (dbl), CpDdGr>GuD (dbl), CpDdGuAlD (dbl),\n",
       "  CpDdGuCpD (dbl), CpDdGuCtD (dbl), CpDdGuD (dbl), CpDdGuDrD (dbl), CpDlAdGaD\n",
       "  (dbl), CpDlAdGdD (dbl), CpDlAdGuD (dbl), CpDlAeGaD (dbl), CpDlAeGdD (dbl),\n",
       "  CpDlAeGuD (dbl), CpDlAlD (dbl), CpDlAlDrD (dbl), CpDlAuGaD (dbl), CpDlAuGdD\n",
       "  (dbl), CpDlAuGuD (dbl), CpDpCbGaD (dbl), CpDpCbGdD (dbl), CpDpCbGuD (dbl),\n",
       "  CpDpCdGaD (dbl), CpDpCdGdD (dbl), CpDpCdGuD (dbl), CpDpCpD (dbl), CpDpCpDrD\n",
       "  (dbl), CpDpCrCpD (dbl), CpDpCrCtD (dbl), CpDpCtD (dbl), CpDpCtDrD (dbl),\n",
       "  CpDpCuGaD (dbl), CpDpCuGdD (dbl), CpDpCuGuD (dbl), CpDpSpD (dbl), CpDpSpDrD\n",
       "  (dbl), CpDrD (dbl), CpDrDaGaD (dbl), CpDrDaGdD (dbl), CpDrDaGuD (dbl),\n",
       "  CpDrDdGaD (dbl), CpDrDdGdD (dbl), CpDrDdGuD (dbl), CpDrDlAlD (dbl), CpDrDpCpD\n",
       "  (dbl), CpDrDpCtD (dbl), CpDrDpSpD (dbl), CpDrDrD (dbl), CpDrDrDrD (dbl),\n",
       "  CpDrDtCpD (dbl), CpDrDtCtD (dbl), CpDrDuGaD (dbl), CpDrDuGdD (dbl), CpDrDuGuD\n",
       "  (dbl), CpDtCbGaD (dbl), CpDtCbGdD (dbl), CpDtCbGuD (dbl), CpDtCdGaD (dbl),\n",
       "  CpDtCdGdD (dbl), CpDtCdGuD (dbl), CpDtCpD (dbl), CpDtCpDrD (dbl), CpDtCrCpD\n",
       "  (dbl), CpDtCrCtD (dbl), CpDtCtD (dbl), CpDtCtDrD (dbl), CpDtCuGaD (dbl),\n",
       "  CpDtCuGdD (dbl), CpDtCuGuD (dbl), CpDuG<rGaD (dbl), CpDuG<rGdD (dbl),\n",
       "  CpDuG<rGuD (dbl), CpDuGaD (dbl), CpDuGaDrD (dbl), CpDuGbCpD (dbl), CpDuGbCtD\n",
       "  (dbl), CpDuGcGaD (dbl), CpDuGcGdD (dbl), CpDuGcGuD (dbl), CpDuGdAlD (dbl),\n",
       "  CpDuGdCpD (dbl), CpDuGdCtD (dbl), CpDuGdD (dbl), CpDuGdDrD (dbl), CpDuGeAlD\n",
       "  (dbl), CpDuGiGaD (dbl), CpDuGiGdD (dbl), CpDuGiGuD (dbl), CpDuGr>GaD (dbl),\n",
       "  CpDuGr>GdD (dbl), CpDuGr>GuD (dbl), CpDuGuAlD (dbl), CpDuGuCpD (dbl),\n",
       "  CpDuGuCtD (dbl), CpDuGuD (dbl), CpDuGuDrD (dbl), CrC (int), CrCbG<rGaD (dbl),\n",
       "  CrCbG<rGdD (dbl), CrCbG<rGuD (dbl), CrCbGaD (dbl), CrCbGaDrD (dbl), CrCbGbCpD\n",
       "  (dbl), CrCbGbCtD (dbl), CrCbGcGaD (dbl), CrCbGcGdD (dbl), CrCbGcGuD (dbl),\n",
       "  CrCbGdAlD (dbl), CrCbGdCpD (dbl), CrCbGdCtD (dbl), CrCbGdD (dbl), CrCbGdDrD\n",
       "  (dbl), CrCbGeAlD (dbl), CrCbGiGaD (dbl), CrCbGiGdD (dbl), CrCbGiGuD (dbl),\n",
       "  CrCbGr>GaD (dbl), CrCbGr>GdD (dbl), CrCbGr>GuD (dbl), CrCbGuAlD (dbl),\n",
       "  CrCbGuCpD (dbl), CrCbGuCtD (dbl), CrCbGuD (dbl), CrCbGuDrD (dbl), CrCcSEcCpD\n",
       "  (dbl), CrCcSEcCtD (dbl), CrCdG<rGaD (dbl), CrCdG<rGdD (dbl), CrCdG<rGuD\n",
       "  (dbl), CrCdGaD (dbl), CrCdGaDrD (dbl), CrCdGbCpD (dbl), CrCdGbCtD (dbl),\n",
       "  CrCdGcGaD (dbl), CrCdGcGdD (dbl), CrCdGcGuD (dbl), CrCdGdAlD (dbl), CrCdGdCpD\n",
       "  (dbl), CrCdGdCtD (dbl), CrCdGdD (dbl), CrCdGdDrD (dbl), CrCdGeAlD (dbl),\n",
       "  CrCdGiGaD (dbl), CrCdGiGdD (dbl), CrCdGiGuD (dbl), CrCdGr>GaD (dbl),\n",
       "  CrCdGr>GdD (dbl), CrCdGr>GuD (dbl), CrCdGuAlD (dbl), CrCdGuCpD (dbl),\n",
       "  CrCdGuCtD (dbl), CrCdGuD (dbl), CrCdGuDrD (dbl), CrCiPCiCpD (dbl), CrCiPCiCtD\n",
       "  (dbl), CrCpD (dbl), CrCpDaGaD (dbl), CrCpDaGdD (dbl), CrCpDaGuD (dbl),\n",
       "  CrCpDdGaD (dbl), CrCpDdGdD (dbl), CrCpDdGuD (dbl), CrCpDlAlD (dbl), CrCpDpCpD\n",
       "  (dbl), CrCpDpCtD (dbl), CrCpDpSpD (dbl), CrCpDrD (dbl), CrCpDrDrD (dbl),\n",
       "  CrCpDtCpD (dbl), CrCpDtCtD (dbl), CrCpDuGaD (dbl), CrCpDuGdD (dbl), CrCpDuGuD\n",
       "  (dbl), CrCrCbGaD (dbl), CrCrCbGdD (dbl), CrCrCbGuD (dbl), CrCrCdGaD (dbl),\n",
       "  CrCrCdGdD (dbl), CrCrCdGuD (dbl), CrCrCpD (dbl), CrCrCpDrD (dbl), CrCrCrCpD\n",
       "  (dbl), CrCrCrCtD (dbl), CrCrCtD (dbl), CrCrCtDrD (dbl), CrCrCuGaD (dbl),\n",
       "  CrCrCuGdD (dbl), CrCrCuGuD (dbl), CrCtD (dbl), CrCtDaGaD (dbl), CrCtDaGdD\n",
       "  (dbl), CrCtDaGuD (dbl), CrCtDdGaD (dbl), CrCtDdGdD (dbl), CrCtDdGuD (dbl),\n",
       "  CrCtDlAlD (dbl), CrCtDpCpD (dbl), CrCtDpCtD (dbl), CrCtDpSpD (dbl), CrCtDrD\n",
       "  (dbl), CrCtDrDrD (dbl), CrCtDtCpD (dbl), CrCtDtCtD (dbl), CrCtDuGaD (dbl),\n",
       "  CrCtDuGdD (dbl), CrCtDuGuD (dbl), CrCuG<rGaD (dbl), CrCuG<rGdD (dbl),\n",
       "  CrCuG<rGuD (dbl), CrCuGaD (dbl), CrCuGaDrD (dbl), CrCuGbCpD (dbl), CrCuGbCtD\n",
       "  (dbl), CrCuGcGaD (dbl), CrCuGcGdD (dbl), CrCuGcGuD (dbl), CrCuGdAlD (dbl),\n",
       "  CrCuGdCpD (dbl), CrCuGdCtD (dbl), CrCuGdD (dbl), CrCuGdDrD (dbl), CrCuGeAlD\n",
       "  (dbl), CrCuGiGaD (dbl), CrCuGiGdD (dbl), CrCuGiGuD (dbl), CrCuGr>GaD (dbl),\n",
       "  CrCuGr>GdD (dbl), CrCuGr>GuD (dbl), CrCuGuAlD (dbl), CrCuGuCpD (dbl),\n",
       "  CrCuGuCtD (dbl), CrCuGuD (dbl), CrCuGuDrD (dbl), CtD (int), CtDaG<rGaD (dbl),\n",
       "  CtDaG<rGdD (dbl), CtDaG<rGuD (dbl), CtDaGaD (dbl), CtDaGaDrD (dbl), CtDaGbCpD\n",
       "  (dbl), CtDaGbCtD (dbl), CtDaGcGaD (dbl), CtDaGcGdD (dbl), CtDaGcGuD (dbl),\n",
       "  CtDaGdAlD (dbl), CtDaGdCpD (dbl), CtDaGdCtD (dbl), CtDaGdD (dbl), CtDaGdDrD\n",
       "  (dbl), CtDaGeAlD (dbl), CtDaGiGaD (dbl), CtDaGiGdD (dbl), CtDaGiGuD (dbl),\n",
       "  CtDaGr>GaD (dbl), CtDaGr>GdD (dbl), CtDaGr>GuD (dbl), CtDaGuAlD (dbl),\n",
       "  CtDaGuCpD (dbl), CtDaGuCtD (dbl), CtDaGuD (dbl), CtDaGuDrD (dbl), CtDdG<rGaD\n",
       "  (dbl), CtDdG<rGdD (dbl), CtDdG<rGuD (dbl), CtDdGaD (dbl), CtDdGaDrD (dbl),\n",
       "  CtDdGbCpD (dbl), CtDdGbCtD (dbl), CtDdGcGaD (dbl), CtDdGcGdD (dbl), CtDdGcGuD\n",
       "  (dbl), CtDdGdAlD (dbl), CtDdGdCpD (dbl), CtDdGdCtD (dbl), CtDdGdD (dbl),\n",
       "  CtDdGdDrD (dbl), CtDdGeAlD (dbl), CtDdGiGaD (dbl), CtDdGiGdD (dbl), CtDdGiGuD\n",
       "  (dbl), CtDdGr>GaD (dbl), CtDdGr>GdD (dbl), CtDdGr>GuD (dbl), CtDdGuAlD (dbl),\n",
       "  CtDdGuCpD (dbl), CtDdGuCtD (dbl), CtDdGuD (dbl), CtDdGuDrD (dbl), CtDlAdGaD\n",
       "  (dbl), CtDlAdGdD (dbl), CtDlAdGuD (dbl), CtDlAeGaD (dbl), CtDlAeGdD (dbl),\n",
       "  CtDlAeGuD (dbl), CtDlAlD (dbl), CtDlAlDrD (dbl), CtDlAuGaD (dbl), CtDlAuGdD\n",
       "  (dbl), CtDlAuGuD (dbl), CtDpCbGaD (dbl), CtDpCbGdD (dbl), CtDpCbGuD (dbl),\n",
       "  CtDpCdGaD (dbl), CtDpCdGdD (dbl), CtDpCdGuD (dbl), CtDpCpD (dbl), CtDpCpDrD\n",
       "  (dbl), CtDpCrCpD (dbl), CtDpCrCtD (dbl), CtDpCtD (dbl), CtDpCtDrD (dbl),\n",
       "  CtDpCuGaD (dbl), CtDpCuGdD (dbl), CtDpCuGuD (dbl), CtDpSpD (dbl), CtDpSpDrD\n",
       "  (dbl), CtDrD (dbl), CtDrDaGaD (dbl), CtDrDaGdD (dbl), CtDrDaGuD (dbl),\n",
       "  CtDrDdGaD (dbl), CtDrDdGdD (dbl), CtDrDdGuD (dbl), CtDrDlAlD (dbl), CtDrDpCpD\n",
       "  (dbl), CtDrDpCtD (dbl), CtDrDpSpD (dbl), CtDrDrD (dbl), CtDrDrDrD (dbl),\n",
       "  CtDrDtCpD (dbl), CtDrDtCtD (dbl), CtDrDuGaD (dbl), CtDrDuGdD (dbl), CtDrDuGuD\n",
       "  (dbl), CtDtCbGaD (dbl), CtDtCbGdD (dbl), CtDtCbGuD (dbl), CtDtCdGaD (dbl),\n",
       "  CtDtCdGdD (dbl), CtDtCdGuD (dbl), CtDtCpD (dbl), CtDtCpDrD (dbl), CtDtCrCpD\n",
       "  (dbl), CtDtCrCtD (dbl), CtDtCtD (dbl), CtDtCtDrD (dbl), CtDtCuGaD (dbl),\n",
       "  CtDtCuGdD (dbl), CtDtCuGuD (dbl), CtDuG<rGaD (dbl), CtDuG<rGdD (dbl),\n",
       "  CtDuG<rGuD (dbl), CtDuGaD (dbl), CtDuGaDrD (dbl), CtDuGbCpD (dbl), CtDuGbCtD\n",
       "  (dbl), CtDuGcGaD (dbl), CtDuGcGdD (dbl), CtDuGcGuD (dbl), CtDuGdAlD (dbl),\n",
       "  CtDuGdCpD (dbl), CtDuGdCtD (dbl), CtDuGdD (dbl), CtDuGdDrD (dbl), CtDuGeAlD\n",
       "  (dbl), CtDuGiGaD (dbl), CtDuGiGdD (dbl), CtDuGiGuD (dbl), CtDuGr>GaD (dbl),\n",
       "  CtDuGr>GdD (dbl), CtDuGr>GuD (dbl), CtDuGuAlD (dbl), CtDuGuCpD (dbl),\n",
       "  CtDuGuCtD (dbl), CtDuGuD (dbl), CtDuGuDrD (dbl), CuG (int), CuG<rG<rGaD\n",
       "  (dbl), CuG<rG<rGdD (dbl), CuG<rG<rGuD (dbl), CuG<rGaD (dbl), CuG<rGaDrD\n",
       "  (dbl), CuG<rGbCpD (dbl), CuG<rGbCtD (dbl), CuG<rGcGaD (dbl), CuG<rGcGdD\n",
       "  (dbl), CuG<rGcGuD (dbl), CuG<rGdAlD (dbl), CuG<rGdCpD (dbl), CuG<rGdCtD\n",
       "  (dbl), CuG<rGdD (dbl), CuG<rGdDrD (dbl), CuG<rGeAlD (dbl), CuG<rGiGaD (dbl),\n",
       "  CuG<rGiGdD (dbl), CuG<rGiGuD (dbl), CuG<rGr>GaD (dbl), CuG<rGr>GdD (dbl),\n",
       "  CuG<rGr>GuD (dbl), CuG<rGuAlD (dbl), CuG<rGuCpD (dbl), CuG<rGuCtD (dbl),\n",
       "  CuG<rGuD (dbl), CuG<rGuDrD (dbl), CuGaD (dbl), CuGaDaGaD (dbl), CuGaDaGdD\n",
       "  (dbl), CuGaDaGuD (dbl), CuGaDdGaD (dbl), CuGaDdGdD (dbl), CuGaDdGuD (dbl),\n",
       "  CuGaDlAlD (dbl), CuGaDpCpD (dbl), CuGaDpCtD (dbl), CuGaDpSpD (dbl), CuGaDrD\n",
       "  (dbl), CuGaDrDrD (dbl), CuGaDtCpD (dbl), CuGaDtCtD (dbl), CuGaDuGaD (dbl),\n",
       "  CuGaDuGdD (dbl), CuGaDuGuD (dbl), CuGbCbGaD (dbl), CuGbCbGdD (dbl), CuGbCbGuD\n",
       "  (dbl), CuGbCdGaD (dbl), CuGbCdGdD (dbl), CuGbCdGuD (dbl), CuGbCpD (dbl),\n",
       "  CuGbCpDrD (dbl), CuGbCrCpD (dbl), CuGbCrCtD (dbl), CuGbCtD (dbl), CuGbCtDrD\n",
       "  (dbl), CuGbCuGaD (dbl), CuGbCuGdD (dbl), CuGbCuGuD (dbl), CuGcG<rGaD (dbl),\n",
       "  CuGcG<rGdD (dbl), CuGcG<rGuD (dbl), CuGcGaD (dbl), CuGcGaDrD (dbl), CuGcGbCpD\n",
       "  (dbl), CuGcGbCtD (dbl), CuGcGcGaD (dbl), CuGcGcGdD (dbl), CuGcGcGuD (dbl),\n",
       "  CuGcGdAlD (dbl), CuGcGdCpD (dbl), CuGcGdCtD (dbl), CuGcGdD (dbl), CuGcGdDrD\n",
       "  (dbl), CuGcGeAlD (dbl), CuGcGiGaD (dbl), CuGcGiGdD (dbl), CuGcGiGuD (dbl),\n",
       "  CuGcGr>GaD (dbl), CuGcGr>GdD (dbl), CuGcGr>GuD (dbl), CuGcGuAlD (dbl),\n",
       "  CuGcGuCpD (dbl), CuGcGuCtD (dbl), CuGcGuD (dbl), CuGcGuDrD (dbl), CuGdAdGaD\n",
       "  (dbl), CuGdAdGdD (dbl), CuGdAdGuD (dbl), CuGdAeGaD (dbl), CuGdAeGdD (dbl),\n",
       "  CuGdAeGuD (dbl), CuGdAlD (dbl), CuGdAlDrD (dbl), CuGdAuGaD (dbl), CuGdAuGdD\n",
       "  (dbl), CuGdAuGuD (dbl), CuGdCbGaD (dbl), CuGdCbGdD (dbl), CuGdCbGuD (dbl),\n",
       "  CuGdCdGaD (dbl), CuGdCdGdD (dbl), CuGdCdGuD (dbl), CuGdCpD (dbl), CuGdCpDrD\n",
       "  (dbl), CuGdCrCpD (dbl), CuGdCrCtD (dbl), CuGdCtD (dbl), CuGdCtDrD (dbl),\n",
       "  CuGdCuGaD (dbl), CuGdCuGdD (dbl), CuGdCuGuD (dbl), CuGdD (dbl), CuGdDaGaD\n",
       "  (dbl), CuGdDaGdD (dbl), CuGdDaGuD (dbl), CuGdDdGaD (dbl), CuGdDdGdD (dbl),\n",
       "  CuGdDdGuD (dbl), CuGdDlAlD (dbl), CuGdDpCpD (dbl), CuGdDpCtD (dbl), CuGdDpSpD\n",
       "  (dbl), CuGdDrD (dbl), CuGdDrDrD (dbl), CuGdDtCpD (dbl), CuGdDtCtD (dbl),\n",
       "  CuGdDuGaD (dbl), CuGdDuGdD (dbl), CuGdDuGuD (dbl), CuGeAdGaD (dbl), CuGeAdGdD\n",
       "  (dbl), CuGeAdGuD (dbl), CuGeAeGaD (dbl), CuGeAeGdD (dbl), CuGeAeGuD (dbl),\n",
       "  CuGeAlD (dbl), CuGeAlDrD (dbl), CuGeAuGaD (dbl), CuGeAuGdD (dbl), CuGeAuGuD\n",
       "  (dbl), CuGiG<rGaD (dbl), CuGiG<rGdD (dbl), CuGiG<rGuD (dbl), CuGiGaD (dbl),\n",
       "  CuGiGaDrD (dbl), CuGiGbCpD (dbl), CuGiGbCtD (dbl), CuGiGcGaD (dbl), CuGiGcGdD\n",
       "  (dbl), CuGiGcGuD (dbl), CuGiGdAlD (dbl), CuGiGdCpD (dbl), CuGiGdCtD (dbl),\n",
       "  CuGiGdD (dbl), CuGiGdDrD (dbl), CuGiGeAlD (dbl), CuGiGiGaD (dbl), CuGiGiGdD\n",
       "  (dbl), CuGiGiGuD (dbl), CuGiGr>GaD (dbl), CuGiGr>GdD (dbl), CuGiGr>GuD (dbl),\n",
       "  CuGiGuAlD (dbl), CuGiGuCpD (dbl), CuGiGuCtD (dbl), CuGiGuD (dbl), CuGiGuDrD\n",
       "  (dbl), CuGpBPpGaD (dbl), CuGpBPpGdD (dbl), CuGpBPpGuD (dbl), CuGpCCpGaD\n",
       "  (dbl), CuGpCCpGdD (dbl), CuGpCCpGuD (dbl), CuGpMFpGaD (dbl), CuGpMFpGdD\n",
       "  (dbl), CuGpMFpGuD (dbl), CuGpPWpGaD (dbl), CuGpPWpGdD (dbl), CuGpPWpGuD\n",
       "  (dbl), CuGr>G<rGaD (dbl), CuGr>G<rGdD (dbl), CuGr>G<rGuD (dbl), CuGr>GaD\n",
       "  (dbl), CuGr>GaDrD (dbl), CuGr>GbCpD (dbl), CuGr>GbCtD (dbl), CuGr>GcGaD\n",
       "  (dbl), CuGr>GcGdD (dbl), CuGr>GcGuD (dbl), CuGr>GdAlD (dbl), CuGr>GdCpD\n",
       "  (dbl), CuGr>GdCtD (dbl), CuGr>GdD (dbl), CuGr>GdDrD (dbl), CuGr>GeAlD (dbl),\n",
       "  CuGr>GiGaD (dbl), CuGr>GiGdD (dbl), CuGr>GiGuD (dbl), CuGr>Gr>GaD (dbl),\n",
       "  CuGr>Gr>GdD (dbl), CuGr>Gr>GuD (dbl), CuGr>GuAlD (dbl), CuGr>GuCpD (dbl),\n",
       "  CuGr>GuCtD (dbl), CuGr>GuD (dbl), CuGr>GuDrD (dbl), CuGrPBrGaD (dbl),\n",
       "  CuGrPBrGdD (dbl), CuGrPBrGuD (dbl), CuGuAdGaD (dbl), CuGuAdGdD (dbl),\n",
       "  CuGuAdGuD (dbl), CuGuAeGaD (dbl), CuGuAeGdD (dbl), CuGuAeGuD (dbl), CuGuAlD\n",
       "  (dbl), CuGuAlDrD (dbl), CuGuAuGaD (dbl), CuGuAuGdD (dbl), CuGuAuGuD (dbl),\n",
       "  CuGuCbGaD (dbl), CuGuCbGdD (dbl), CuGuCbGuD (dbl), CuGuCdGaD (dbl), CuGuCdGdD\n",
       "  (dbl), CuGuCdGuD (dbl), CuGuCpD (dbl), CuGuCpDrD (dbl), CuGuCrCpD (dbl),\n",
       "  CuGuCrCtD (dbl), CuGuCtD (dbl), CuGuCtDrD (dbl), CuGuCuGaD (dbl), CuGuCuGdD\n",
       "  (dbl), CuGuCuGuD (dbl), CuGuD (dbl), CuGuDaGaD (dbl), CuGuDaGdD (dbl),\n",
       "  CuGuDaGuD (dbl), CuGuDdGaD (dbl), CuGuDdGdD (dbl), CuGuDdGuD (dbl), CuGuDlAlD\n",
       "  (dbl), CuGuDpCpD (dbl), CuGuDpCtD (dbl), CuGuDpSpD (dbl), CuGuDrD (dbl),\n",
       "  CuGuDrDrD (dbl), CuGuDtCpD (dbl), CuGuDtCtD (dbl), CuGuDuGaD (dbl), CuGuDuGdD\n",
       "  (dbl), CuGuDuGuD (dbl), DaG (int), DdG (int), DlA (int), DpC (int), DpS\n",
       "  (int), DrD (int), DtC (int), DuG (int)"
      ]
     },
     "execution_count": 7,
     "metadata": {},
     "output_type": "execute_result"
    }
   ],
   "source": [
    "head(dwpc_mat_df, 2)"
   ]
  },
  {
   "cell_type": "code",
   "execution_count": 8,
   "metadata": {
    "collapsed": false
   },
   "outputs": [
    {
     "data": {
      "text/html": [
       "'3775 compound–disease pairs × 1231 features'"
      ],
      "text/latex": [
       "'3775 compound–disease pairs × 1231 features'"
      ],
      "text/markdown": [
       "'3775 compound–disease pairs × 1231 features'"
      ],
      "text/plain": [
       "[1] \"3775 compound–disease pairs × 1231 features\""
      ]
     },
     "execution_count": 8,
     "metadata": {},
     "output_type": "execute_result"
    }
   ],
   "source": [
    "features = auroc_df$feature\n",
    "X_list = list()\n",
    "X_list$all_features = X = dwpc_mat_df %>%\n",
    "  dplyr::select(one_of(features)) %>%\n",
    "  as.matrix()\n",
    "X_list$perm_affected = dwpc_mat_df %>%\n",
    "  dplyr::select(one_of(perm_affected)) %>%\n",
    "  as.matrix()\n",
    "y = dwpc_mat_df$status\n",
    "w = as.numeric(weight_map[as.character(y)])\n",
    "sprintf(\"%s compound–disease pairs × %s features\", nrow(X), ncol(X))"
   ]
  },
  {
   "cell_type": "markdown",
   "metadata": {},
   "source": [
    "## Parameter Sweep"
   ]
  },
  {
   "cell_type": "code",
   "execution_count": 9,
   "metadata": {
    "collapsed": true
   },
   "outputs": [],
   "source": [
    "n_runs = 50"
   ]
  },
  {
   "cell_type": "code",
   "execution_count": 10,
   "metadata": {
    "collapsed": false
   },
   "outputs": [
    {
     "name": "stderr",
     "output_type": "stream",
     "text": [
      "Loading required package: Matrix\n",
      "Loading required package: foreach\n",
      "Loaded glmnet 2.0-5\n",
      "\n"
     ]
    },
    {
     "data": {
      "text/html": [
       "100"
      ],
      "text/latex": [
       "100"
      ],
      "text/markdown": [
       "100"
      ],
      "text/plain": [
       "[1] 100"
      ]
     },
     "execution_count": 10,
     "metadata": {},
     "output_type": "execute_result"
    }
   ],
   "source": [
    "results = list()\n",
    "i = 1\n",
    "for (feature_set in names(X_list)) {\n",
    "  for (seed in 1:n_runs) {\n",
    "    elem = list(seed = seed, feature_set = feature_set)\n",
    "    elem$fit = hetior::glmnet_train(X = X_list[[feature_set]], y = y, alpha = 1, cores=12, seed=seed)\n",
    "    elem$coef_df = elem$fit$coef_df %>%\n",
    "      dplyr::filter(zcoef != 0) %>%\n",
    "      dplyr::mutate(seed = seed, feature_set = feature_set)\n",
    "    elem$pos_coefs = sum(elem$coef_df$zcoef > 0)\n",
    "    elem$neg_coefs = sum(elem$coef_df$zcoef < 0)\n",
    "    results[[i]] = elem\n",
    "    i = i + 1\n",
    "  }\n",
    "}\n",
    "length(results)"
   ]
  },
  {
   "cell_type": "code",
   "execution_count": 11,
   "metadata": {
    "collapsed": false
   },
   "outputs": [
    {
     "data": {
      "text/html": [
       "<table>\n",
       "<thead><tr><th></th><th scope=col>seed</th><th scope=col>feature_set</th><th scope=col>auroc</th><th scope=col>pos_coefs</th><th scope=col>neg_coefs</th></tr></thead>\n",
       "<tbody>\n",
       "\t<tr><th scope=row>1</th><td>1</td><td>all_features</td><td>0.989614929169766</td><td>35</td><td>19</td></tr>\n",
       "\t<tr><th scope=row>2</th><td>2</td><td>all_features</td><td>0.988926362878815</td><td>32</td><td>17</td></tr>\n",
       "\t<tr><th scope=row>3</th><td>3</td><td>all_features</td><td>0.990268847857543</td><td>36</td><td>24</td></tr>\n",
       "\t<tr><th scope=row>4</th><td>4</td><td>all_features</td><td>0.988254023946315</td><td>28</td><td>13</td></tr>\n",
       "\t<tr><th scope=row>5</th><td>5</td><td>all_features</td><td>0.988926362878815</td><td>32</td><td>17</td></tr>\n",
       "\t<tr><th scope=row>6</th><td>6</td><td>all_features</td><td>0.988926362878815</td><td>32</td><td>17</td></tr>\n",
       "\t<tr><th scope=row>7</th><td>7</td><td>all_features</td><td>0.990268847857543</td><td>36</td><td>24</td></tr>\n",
       "\t<tr><th scope=row>8</th><td>8</td><td>all_features</td><td>0.989614929169766</td><td>35</td><td>19</td></tr>\n",
       "\t<tr><th scope=row>9</th><td>9</td><td>all_features</td><td>0.990883294592336</td><td>36</td><td>27</td></tr>\n",
       "\t<tr><th scope=row>10</th><td>10</td><td>all_features</td><td>0.989614929169766</td><td>35</td><td>19</td></tr>\n",
       "\t<tr><th scope=row>11</th><td>11</td><td>all_features</td><td>0.990883294592336</td><td>36</td><td>27</td></tr>\n",
       "\t<tr><th scope=row>12</th><td>12</td><td>all_features</td><td>0.990268847857543</td><td>36</td><td>24</td></tr>\n",
       "\t<tr><th scope=row>13</th><td>13</td><td>all_features</td><td>0.989614929169766</td><td>35</td><td>19</td></tr>\n",
       "\t<tr><th scope=row>14</th><td>14</td><td>all_features</td><td>0.989614929169766</td><td>35</td><td>19</td></tr>\n",
       "\t<tr><th scope=row>15</th><td>15</td><td>all_features</td><td>0.988254023946315</td><td>28</td><td>13</td></tr>\n",
       "\t<tr><th scope=row>16</th><td>16</td><td>all_features</td><td>0.989614929169766</td><td>35</td><td>19</td></tr>\n",
       "\t<tr><th scope=row>17</th><td>17</td><td>all_features</td><td>0.990883294592336</td><td>36</td><td>27</td></tr>\n",
       "\t<tr><th scope=row>18</th><td>18</td><td>all_features</td><td>0.989614929169766</td><td>35</td><td>19</td></tr>\n",
       "\t<tr><th scope=row>19</th><td>19</td><td>all_features</td><td>0.988926362878815</td><td>32</td><td>17</td></tr>\n",
       "\t<tr><th scope=row>20</th><td>20</td><td>all_features</td><td>0.988254023946315</td><td>28</td><td>13</td></tr>\n",
       "\t<tr><th scope=row>21</th><td>21</td><td>all_features</td><td>0.988926362878815</td><td>32</td><td>17</td></tr>\n",
       "\t<tr><th scope=row>22</th><td>22</td><td>all_features</td><td>0.990268847857543</td><td>36</td><td>24</td></tr>\n",
       "\t<tr><th scope=row>23</th><td>23</td><td>all_features</td><td>0.989614929169766</td><td>35</td><td>19</td></tr>\n",
       "\t<tr><th scope=row>24</th><td>24</td><td>all_features</td><td>0.990883294592336</td><td>36</td><td>27</td></tr>\n",
       "\t<tr><th scope=row>25</th><td>25</td><td>all_features</td><td>0.990268847857543</td><td>36</td><td>24</td></tr>\n",
       "\t<tr><th scope=row>26</th><td>26</td><td>all_features</td><td>0.991437217665888</td><td>39</td><td>28</td></tr>\n",
       "\t<tr><th scope=row>27</th><td>27</td><td>all_features</td><td>0.989614929169766</td><td>35</td><td>19</td></tr>\n",
       "\t<tr><th scope=row>28</th><td>28</td><td>all_features</td><td>0.989614929169766</td><td>35</td><td>19</td></tr>\n",
       "\t<tr><th scope=row>29</th><td>29</td><td>all_features</td><td>0.989614929169766</td><td>35</td><td>19</td></tr>\n",
       "\t<tr><th scope=row>30</th><td>30</td><td>all_features</td><td>0.990883294592336</td><td>36</td><td>27</td></tr>\n",
       "\t<tr><th scope=row>31</th><td>⋮</td><td>⋮</td><td>⋮</td><td>⋮</td><td>⋮</td></tr>\n",
       "\t<tr><th scope=row>32</th><td>21</td><td>perm_affected</td><td>0.987493530985488</td><td>30</td><td>9</td></tr>\n",
       "\t<tr><th scope=row>33</th><td>22</td><td>perm_affected</td><td>0.989404412087184</td><td>33</td><td>13</td></tr>\n",
       "\t<tr><th scope=row>34</th><td>23</td><td>perm_affected</td><td>0.987493530985488</td><td>30</td><td>9</td></tr>\n",
       "\t<tr><th scope=row>35</th><td>24</td><td>perm_affected</td><td>0.988545677821146</td><td>31</td><td>11</td></tr>\n",
       "\t<tr><th scope=row>36</th><td>25</td><td>perm_affected</td><td>0.98899916670321</td><td>32</td><td>12</td></tr>\n",
       "\t<tr><th scope=row>37</th><td>26</td><td>perm_affected</td><td>0.98899916670321</td><td>32</td><td>12</td></tr>\n",
       "\t<tr><th scope=row>38</th><td>27</td><td>perm_affected</td><td>0.988545677821146</td><td>31</td><td>11</td></tr>\n",
       "\t<tr><th scope=row>39</th><td>28</td><td>perm_affected</td><td>0.988545677821146</td><td>31</td><td>11</td></tr>\n",
       "\t<tr><th scope=row>40</th><td>29</td><td>perm_affected</td><td>0.987493530985488</td><td>30</td><td>9</td></tr>\n",
       "\t<tr><th scope=row>41</th><td>30</td><td>perm_affected</td><td>0.98899916670321</td><td>32</td><td>12</td></tr>\n",
       "\t<tr><th scope=row>42</th><td>31</td><td>perm_affected</td><td>0.986950572343326</td><td>27</td><td>8</td></tr>\n",
       "\t<tr><th scope=row>43</th><td>32</td><td>perm_affected</td><td>0.988011052146835</td><td>31</td><td>11</td></tr>\n",
       "\t<tr><th scope=row>44</th><td>33</td><td>perm_affected</td><td>0.98899916670321</td><td>32</td><td>12</td></tr>\n",
       "\t<tr><th scope=row>45</th><td>34</td><td>perm_affected</td><td>0.989404412087184</td><td>33</td><td>13</td></tr>\n",
       "\t<tr><th scope=row>46</th><td>35</td><td>perm_affected</td><td>0.988011052146835</td><td>31</td><td>11</td></tr>\n",
       "\t<tr><th scope=row>47</th><td>36</td><td>perm_affected</td><td>0.988011052146835</td><td>31</td><td>11</td></tr>\n",
       "\t<tr><th scope=row>48</th><td>37</td><td>perm_affected</td><td>0.98899916670321</td><td>32</td><td>12</td></tr>\n",
       "\t<tr><th scope=row>49</th><td>38</td><td>perm_affected</td><td>0.989404412087184</td><td>33</td><td>13</td></tr>\n",
       "\t<tr><th scope=row>50</th><td>39</td><td>perm_affected</td><td>0.98564185781326</td><td>21</td><td>2</td></tr>\n",
       "\t<tr><th scope=row>51</th><td>40</td><td>perm_affected</td><td>0.989404412087184</td><td>33</td><td>13</td></tr>\n",
       "\t<tr><th scope=row>52</th><td>41</td><td>perm_affected</td><td>0.988011052146835</td><td>31</td><td>11</td></tr>\n",
       "\t<tr><th scope=row>53</th><td>42</td><td>perm_affected</td><td>0.988545677821146</td><td>31</td><td>11</td></tr>\n",
       "\t<tr><th scope=row>54</th><td>43</td><td>perm_affected</td><td>0.987493530985488</td><td>30</td><td>9</td></tr>\n",
       "\t<tr><th scope=row>55</th><td>44</td><td>perm_affected</td><td>0.988545677821146</td><td>31</td><td>11</td></tr>\n",
       "\t<tr><th scope=row>56</th><td>45</td><td>perm_affected</td><td>0.988545677821146</td><td>31</td><td>11</td></tr>\n",
       "\t<tr><th scope=row>57</th><td>46</td><td>perm_affected</td><td>0.986950572343326</td><td>27</td><td>8</td></tr>\n",
       "\t<tr><th scope=row>58</th><td>47</td><td>perm_affected</td><td>0.988011052146835</td><td>31</td><td>11</td></tr>\n",
       "\t<tr><th scope=row>59</th><td>48</td><td>perm_affected</td><td>0.988011052146835</td><td>31</td><td>11</td></tr>\n",
       "\t<tr><th scope=row>60</th><td>49</td><td>perm_affected</td><td>0.988545677821146</td><td>31</td><td>11</td></tr>\n",
       "\t<tr><th scope=row>61</th><td>50</td><td>perm_affected</td><td>0.988545677821146</td><td>31</td><td>11</td></tr>\n",
       "</tbody>\n",
       "</table>\n"
      ],
      "text/latex": [
       "\\begin{tabular}{r|lllll}\n",
       "  & seed & feature_set & auroc & pos_coefs & neg_coefs\\\\\n",
       "\\hline\n",
       "\t1 & 1 & all_features & 0.989614929169766 & 35 & 19\\\\\n",
       "\t2 & 2 & all_features & 0.988926362878815 & 32 & 17\\\\\n",
       "\t3 & 3 & all_features & 0.990268847857543 & 36 & 24\\\\\n",
       "\t4 & 4 & all_features & 0.988254023946315 & 28 & 13\\\\\n",
       "\t5 & 5 & all_features & 0.988926362878815 & 32 & 17\\\\\n",
       "\t6 & 6 & all_features & 0.988926362878815 & 32 & 17\\\\\n",
       "\t7 & 7 & all_features & 0.990268847857543 & 36 & 24\\\\\n",
       "\t8 & 8 & all_features & 0.989614929169766 & 35 & 19\\\\\n",
       "\t9 & 9 & all_features & 0.990883294592336 & 36 & 27\\\\\n",
       "\t10 & 10 & all_features & 0.989614929169766 & 35 & 19\\\\\n",
       "\t11 & 11 & all_features & 0.990883294592336 & 36 & 27\\\\\n",
       "\t12 & 12 & all_features & 0.990268847857543 & 36 & 24\\\\\n",
       "\t13 & 13 & all_features & 0.989614929169766 & 35 & 19\\\\\n",
       "\t14 & 14 & all_features & 0.989614929169766 & 35 & 19\\\\\n",
       "\t15 & 15 & all_features & 0.988254023946315 & 28 & 13\\\\\n",
       "\t16 & 16 & all_features & 0.989614929169766 & 35 & 19\\\\\n",
       "\t17 & 17 & all_features & 0.990883294592336 & 36 & 27\\\\\n",
       "\t18 & 18 & all_features & 0.989614929169766 & 35 & 19\\\\\n",
       "\t19 & 19 & all_features & 0.988926362878815 & 32 & 17\\\\\n",
       "\t20 & 20 & all_features & 0.988254023946315 & 28 & 13\\\\\n",
       "\t21 & 21 & all_features & 0.988926362878815 & 32 & 17\\\\\n",
       "\t22 & 22 & all_features & 0.990268847857543 & 36 & 24\\\\\n",
       "\t23 & 23 & all_features & 0.989614929169766 & 35 & 19\\\\\n",
       "\t24 & 24 & all_features & 0.990883294592336 & 36 & 27\\\\\n",
       "\t25 & 25 & all_features & 0.990268847857543 & 36 & 24\\\\\n",
       "\t26 & 26 & all_features & 0.991437217665888 & 39 & 28\\\\\n",
       "\t27 & 27 & all_features & 0.989614929169766 & 35 & 19\\\\\n",
       "\t28 & 28 & all_features & 0.989614929169766 & 35 & 19\\\\\n",
       "\t29 & 29 & all_features & 0.989614929169766 & 35 & 19\\\\\n",
       "\t30 & 30 & all_features & 0.990883294592336 & 36 & 27\\\\\n",
       "\t31 & ⋮ & ⋮ & ⋮ & ⋮ & ⋮\\\\\n",
       "\t32 & 21 & perm_affected & 0.987493530985488 & 30 & 9\\\\\n",
       "\t33 & 22 & perm_affected & 0.989404412087184 & 33 & 13\\\\\n",
       "\t34 & 23 & perm_affected & 0.987493530985488 & 30 & 9\\\\\n",
       "\t35 & 24 & perm_affected & 0.988545677821146 & 31 & 11\\\\\n",
       "\t36 & 25 & perm_affected & 0.98899916670321 & 32 & 12\\\\\n",
       "\t37 & 26 & perm_affected & 0.98899916670321 & 32 & 12\\\\\n",
       "\t38 & 27 & perm_affected & 0.988545677821146 & 31 & 11\\\\\n",
       "\t39 & 28 & perm_affected & 0.988545677821146 & 31 & 11\\\\\n",
       "\t40 & 29 & perm_affected & 0.987493530985488 & 30 & 9\\\\\n",
       "\t41 & 30 & perm_affected & 0.98899916670321 & 32 & 12\\\\\n",
       "\t42 & 31 & perm_affected & 0.986950572343326 & 27 & 8\\\\\n",
       "\t43 & 32 & perm_affected & 0.988011052146835 & 31 & 11\\\\\n",
       "\t44 & 33 & perm_affected & 0.98899916670321 & 32 & 12\\\\\n",
       "\t45 & 34 & perm_affected & 0.989404412087184 & 33 & 13\\\\\n",
       "\t46 & 35 & perm_affected & 0.988011052146835 & 31 & 11\\\\\n",
       "\t47 & 36 & perm_affected & 0.988011052146835 & 31 & 11\\\\\n",
       "\t48 & 37 & perm_affected & 0.98899916670321 & 32 & 12\\\\\n",
       "\t49 & 38 & perm_affected & 0.989404412087184 & 33 & 13\\\\\n",
       "\t50 & 39 & perm_affected & 0.98564185781326 & 21 & 2\\\\\n",
       "\t51 & 40 & perm_affected & 0.989404412087184 & 33 & 13\\\\\n",
       "\t52 & 41 & perm_affected & 0.988011052146835 & 31 & 11\\\\\n",
       "\t53 & 42 & perm_affected & 0.988545677821146 & 31 & 11\\\\\n",
       "\t54 & 43 & perm_affected & 0.987493530985488 & 30 & 9\\\\\n",
       "\t55 & 44 & perm_affected & 0.988545677821146 & 31 & 11\\\\\n",
       "\t56 & 45 & perm_affected & 0.988545677821146 & 31 & 11\\\\\n",
       "\t57 & 46 & perm_affected & 0.986950572343326 & 27 & 8\\\\\n",
       "\t58 & 47 & perm_affected & 0.988011052146835 & 31 & 11\\\\\n",
       "\t59 & 48 & perm_affected & 0.988011052146835 & 31 & 11\\\\\n",
       "\t60 & 49 & perm_affected & 0.988545677821146 & 31 & 11\\\\\n",
       "\t61 & 50 & perm_affected & 0.988545677821146 & 31 & 11\\\\\n",
       "\\end{tabular}\n"
      ],
      "text/plain": [
       "Source: local data frame [100 x 5]\n",
       "\n",
       "    seed  feature_set     auroc pos_coefs neg_coefs\n",
       "   (int)        (chr)     (dbl)     (int)     (int)\n",
       "1      1 all_features 0.9896149        35        19\n",
       "2      2 all_features 0.9889264        32        17\n",
       "3      3 all_features 0.9902688        36        24\n",
       "4      4 all_features 0.9882540        28        13\n",
       "5      5 all_features 0.9889264        32        17\n",
       "6      6 all_features 0.9889264        32        17\n",
       "7      7 all_features 0.9902688        36        24\n",
       "8      8 all_features 0.9896149        35        19\n",
       "9      9 all_features 0.9908833        36        27\n",
       "10    10 all_features 0.9896149        35        19\n",
       "..   ...          ...       ...       ...       ..."
      ]
     },
     "execution_count": 11,
     "metadata": {},
     "output_type": "execute_result"
    }
   ],
   "source": [
    "sweep_summary_df = do.call(rbind, lapply(results, function(x) {dplyr::data_frame(\n",
    "    seed = x$seed,\n",
    "    feature_set = x$feature_set,\n",
    "    auroc = x$fit$vtm$auroc,\n",
    "    pos_coefs = x$pos_coefs,\n",
    "    neg_coefs = x$neg_coefs\n",
    ")}))\n",
    "sweep_summary_df"
   ]
  },
  {
   "cell_type": "code",
   "execution_count": 12,
   "metadata": {
    "collapsed": false
   },
   "outputs": [
    {
     "data": {
      "text/html": [
       "<table>\n",
       "<thead><tr><th></th><th scope=col>feature_set</th><th scope=col>mean</th><th scope=col>sd</th></tr></thead>\n",
       "<tbody>\n",
       "\t<tr><th scope=row>1</th><td>all_features</td><td>0.9896413</td><td>0.001066166</td></tr>\n",
       "\t<tr><th scope=row>2</th><td>perm_affected</td><td>0.9881841</td><td>0.0007751641</td></tr>\n",
       "</tbody>\n",
       "</table>\n"
      ],
      "text/latex": [
       "\\begin{tabular}{r|lll}\n",
       "  & feature_set & mean & sd\\\\\n",
       "\\hline\n",
       "\t1 & all_features & 0.9896413 & 0.001066166\\\\\n",
       "\t2 & perm_affected & 0.9881841 & 0.0007751641\\\\\n",
       "\\end{tabular}\n"
      ],
      "text/plain": [
       "Source: local data frame [2 x 3]\n",
       "\n",
       "    feature_set      mean           sd\n",
       "          (chr)     (dbl)        (dbl)\n",
       "1  all_features 0.9896413 0.0010661660\n",
       "2 perm_affected 0.9881841 0.0007751641"
      ]
     },
     "execution_count": 12,
     "metadata": {},
     "output_type": "execute_result"
    }
   ],
   "source": [
    "sweep_summary_df %>%\n",
    "  dplyr::group_by(feature_set) %>%\n",
    "  dplyr::summarize(\n",
    "    mean = mean(auroc),\n",
    "    sd = sd(auroc)\n",
    "  )"
   ]
  },
  {
   "cell_type": "code",
   "execution_count": 13,
   "metadata": {
    "collapsed": false
   },
   "outputs": [
    {
     "data": {
      "text/plain": [
       "\n",
       "\tWelch Two Sample t-test\n",
       "\n",
       "data:  p_all_features and p_perm_affected\n",
       "t = 7.8172, df = 89.49, p-value = 9.992e-12\n",
       "alternative hypothesis: true difference in means is not equal to 0\n",
       "95 percent confidence interval:\n",
       " 0.001086879 0.001827642\n",
       "sample estimates:\n",
       "mean of x mean of y \n",
       "0.9896413 0.9881841 \n"
      ]
     },
     "execution_count": 13,
     "metadata": {},
     "output_type": "execute_result"
    }
   ],
   "source": [
    "p_all_features = subset(sweep_summary_df, feature_set == 'all_features')$auroc\n",
    "p_perm_affected = subset(sweep_summary_df, feature_set == 'perm_affected')$auroc\n",
    "t.test(p_all_features, p_perm_affected)"
   ]
  },
  {
   "cell_type": "code",
   "execution_count": 14,
   "metadata": {
    "collapsed": false
   },
   "outputs": [
    {
     "data": {
      "text/html": [
       "<table>\n",
       "<thead><tr><th></th><th scope=col>feature</th><th scope=col>coef</th><th scope=col>zcoef</th><th scope=col>seed</th><th scope=col>feature_set</th></tr></thead>\n",
       "<tbody>\n",
       "\t<tr><th scope=row>1</th><td>CbGaD</td><td>23.34766</td><td>0.7210349</td><td>1</td><td>all_features</td></tr>\n",
       "\t<tr><th scope=row>2</th><td>CbGaDdGuD</td><td>48.43551</td><td>0.2136418</td><td>1</td><td>all_features</td></tr>\n",
       "</tbody>\n",
       "</table>\n"
      ],
      "text/latex": [
       "\\begin{tabular}{r|lllll}\n",
       "  & feature & coef & zcoef & seed & feature_set\\\\\n",
       "\\hline\n",
       "\t1 & CbGaD & 23.34766 & 0.7210349 & 1 & all_features\\\\\n",
       "\t2 & CbGaDdGuD & 48.43551 & 0.2136418 & 1 & all_features\\\\\n",
       "\\end{tabular}\n"
      ],
      "text/plain": [
       "    feature     coef     zcoef seed  feature_set\n",
       "1     CbGaD 23.34766 0.7210349    1 all_features\n",
       "2 CbGaDdGuD 48.43551 0.2136418    1 all_features"
      ]
     },
     "execution_count": 14,
     "metadata": {},
     "output_type": "execute_result"
    }
   ],
   "source": [
    "sweep_coef_df = do.call(rbind, lapply(results, function(x) {x$coef_df}))\n",
    "head(sweep_coef_df, 2)"
   ]
  },
  {
   "cell_type": "code",
   "execution_count": 15,
   "metadata": {
    "collapsed": false
   },
   "outputs": [
    {
     "name": "stderr",
     "output_type": "stream",
     "text": [
      "Joining by: \"feature\"\n"
     ]
    },
    {
     "data": {
      "text/html": [
       "<table>\n",
       "<thead><tr><th></th><th scope=col>feature</th><th scope=col>all_features</th><th scope=col>perm_affected</th><th scope=col>total</th><th scope=col>feature_type</th><th scope=col>nonzero</th><th scope=col>auroc</th><th scope=col>auroc_permuted</th><th scope=col>delta_auroc</th><th scope=col>pval_auroc</th><th scope=col>fdr_pval_auroc</th></tr></thead>\n",
       "<tbody>\n",
       "\t<tr><th scope=row>1</th><td>CbGaD</td><td>50</td><td>50</td><td>100</td><td>DWPC</td><td>0.23311</td><td>0.75173</td><td>0.64228</td><td>0.10944</td><td>8.416e-06</td><td>0.001514</td></tr>\n",
       "\t<tr><th scope=row>2</th><td>CbGaDdGuD</td><td>50</td><td>0</td><td>50</td><td>DWPC</td><td>0.27709</td><td>0.65788</td><td>0.6515</td><td>0.0063834</td><td>0.31739</td><td>0.42561</td></tr>\n",
       "</tbody>\n",
       "</table>\n"
      ],
      "text/latex": [
       "\\begin{tabular}{r|lllllllllll}\n",
       "  & feature & all_features & perm_affected & total & feature_type & nonzero & auroc & auroc_permuted & delta_auroc & pval_auroc & fdr_pval_auroc\\\\\n",
       "\\hline\n",
       "\t1 & CbGaD & 50 & 50 & 100 & DWPC & 0.23311 & 0.75173 & 0.64228 & 0.10944 & 8.416e-06 & 0.001514\\\\\n",
       "\t2 & CbGaDdGuD & 50 & 0 & 50 & DWPC & 0.27709 & 0.65788 & 0.6515 & 0.0063834 & 0.31739 & 0.42561\\\\\n",
       "\\end{tabular}\n"
      ],
      "text/plain": [
       "Source: local data frame [2 x 11]\n",
       "\n",
       "    feature all_features perm_affected total feature_type nonzero   auroc\n",
       "      (chr)        (dbl)         (dbl) (dbl)        (chr)   (dbl)   (dbl)\n",
       "1     CbGaD           50            50   100         DWPC 0.23311 0.75173\n",
       "2 CbGaDdGuD           50             0    50         DWPC 0.27709 0.65788\n",
       "Variables not shown: auroc_permuted (dbl), delta_auroc (dbl), pval_auroc (dbl),\n",
       "  fdr_pval_auroc (dbl)"
      ]
     },
     "execution_count": 15,
     "metadata": {},
     "output_type": "execute_result"
    }
   ],
   "source": [
    "sweep_feature_df = sweep_coef_df %>%\n",
    "  dplyr::group_by(feature, feature_set) %>%\n",
    "  dplyr::summarize(\n",
    "    count = n()\n",
    "  ) %>%\n",
    "  dplyr::ungroup() %>%\n",
    "  tidyr::spread(feature_set, count, fill=0) %>%\n",
    "  dplyr::mutate(total = all_features + perm_affected) %>%\n",
    "  dplyr::arrange(desc(all_features)) %>%\n",
    "  dplyr::left_join(auroc_df)\n",
    "head(sweep_feature_df, 2)"
   ]
  },
  {
   "cell_type": "code",
   "execution_count": 16,
   "metadata": {
    "collapsed": false
   },
   "outputs": [
    {
     "data": {
      "text/html": [
       "85"
      ],
      "text/latex": [
       "85"
      ],
      "text/markdown": [
       "85"
      ],
      "text/plain": [
       "[1] 85"
      ]
     },
     "execution_count": 16,
     "metadata": {},
     "output_type": "execute_result"
    }
   ],
   "source": [
    "# Unique features\n",
    "nrow(sweep_feature_df)"
   ]
  },
  {
   "cell_type": "code",
   "execution_count": 17,
   "metadata": {
    "collapsed": false
   },
   "outputs": [],
   "source": [
    "sweep_feature_df %>% readr::write_tsv('selection/sweep-features.tsv')\n",
    "sweep_coef_df %>% readr::write_tsv('selection/sweep-coefficients.tsv')\n",
    "sweep_summary_df %>% readr::write_tsv('selection/sweep-model-summaries.tsv')"
   ]
  }
 ],
 "metadata": {
  "kernelspec": {
   "display_name": "R",
   "language": "R",
   "name": "ir"
  },
  "language_info": {
   "codemirror_mode": "r",
   "file_extension": ".r",
   "mimetype": "text/x-r-source",
   "name": "R",
   "pygments_lexer": "r",
   "version": "3.2.2"
  }
 },
 "nbformat": 4,
 "nbformat_minor": 0
}
