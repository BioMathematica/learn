{
 "cells": [
  {
   "cell_type": "markdown",
   "metadata": {},
   "source": [
    "## LearnR\n",
    "\n",
    "Note that metapath names with `<` are [currently truncated](https://github.com/IRkernel/IRkernel/issues/286) in the notebook, unless they are specially HTML escaped."
   ]
  },
  {
   "cell_type": "code",
   "execution_count": 1,
   "metadata": {
    "collapsed": false
   },
   "outputs": [],
   "source": [
    "library(dplyr, warn=F)"
   ]
  },
  {
   "cell_type": "code",
   "execution_count": 2,
   "metadata": {
    "collapsed": true
   },
   "outputs": [],
   "source": [
    "set.seed(0)"
   ]
  },
  {
   "cell_type": "markdown",
   "metadata": {},
   "source": [
    "## Read datasets"
   ]
  },
  {
   "cell_type": "code",
   "execution_count": 3,
   "metadata": {
    "collapsed": false
   },
   "outputs": [],
   "source": [
    "dwpc_mat_df = readr::read_tsv('data/matrix/hetio-ind/DWPC-spread.tsv.bz2')"
   ]
  },
  {
   "cell_type": "code",
   "execution_count": 4,
   "metadata": {
    "collapsed": false
   },
   "outputs": [
    {
     "data": {
      "text/html": [
       "<table>\n",
       "<thead><tr><th></th><th scope=col>feature_type</th><th scope=col>feature</th><th scope=col>nonzero</th><th scope=col>auroc</th><th scope=col>auroc_permuted</th><th scope=col>delta_auroc</th><th scope=col>pval_auroc</th><th scope=col>fdr_pval_auroc</th></tr></thead>\n",
       "<tbody>\n",
       "\t<tr><th scope=row>1</th><td>DWPC</td><td>CbG<rG<rGaD</td><td>0.62464</td><td>0.78515</td><td>0.6887</td><td>0.096447</td><td>0.0017381</td><td>0.015193</td></tr>\n",
       "\t<tr><th scope=row>2</th><td>DWPC</td><td>CbG<rG<rGdD</td><td>0.2506</td><td>0.66398</td><td>0.62906</td><td>0.034919</td><td>0.008788</td><td>0.034389</td></tr>\n",
       "</tbody>\n",
       "</table>\n"
      ],
      "text/latex": [
       "\\begin{tabular}{r|llllllll}\n",
       "  & feature_type & feature & nonzero & auroc & auroc_permuted & delta_auroc & pval_auroc & fdr_pval_auroc\\\\\n",
       "\\hline\n",
       "\t1 & DWPC & CbG<rG<rGaD & 0.62464 & 0.78515 & 0.6887 & 0.096447 & 0.0017381 & 0.015193\\\\\n",
       "\t2 & DWPC & CbG<rG<rGdD & 0.2506 & 0.66398 & 0.62906 & 0.034919 & 0.008788 & 0.034389\\\\\n",
       "\\end{tabular}\n"
      ],
      "text/plain": [
       "Source: local data frame [2 x 8]\n",
       "\n",
       "  feature_type     feature nonzero   auroc auroc_permuted delta_auroc\n",
       "         (chr)       (chr)   (dbl)   (dbl)          (dbl)       (dbl)\n",
       "1         DWPC CbG<rG<rGaD 0.62464 0.78515        0.68870    0.096447\n",
       "2         DWPC CbG<rG<rGdD 0.25060 0.66398        0.62906    0.034919\n",
       "Variables not shown: pval_auroc (dbl), fdr_pval_auroc (dbl)"
      ]
     },
     "execution_count": 4,
     "metadata": {},
     "output_type": "execute_result"
    }
   ],
   "source": [
    "auroc_df = readr::read_tsv('data/auroc.tsv')\n",
    "perm_affected = dplyr::filter(auroc_df, fdr_pval_auroc <= 0.05)$feature\n",
    "head(auroc_df, 2)"
   ]
  },
  {
   "cell_type": "code",
   "execution_count": 5,
   "metadata": {
    "collapsed": false
   },
   "outputs": [
    {
     "data": {
      "text/html": [
       "401"
      ],
      "text/latex": [
       "401"
      ],
      "text/markdown": [
       "401"
      ],
      "text/plain": [
       "[1] 401"
      ]
     },
     "execution_count": 5,
     "metadata": {},
     "output_type": "execute_result"
    }
   ],
   "source": [
    "length(perm_affected)"
   ]
  },
  {
   "cell_type": "markdown",
   "metadata": {},
   "source": [
    "## Weighting"
   ]
  },
  {
   "cell_type": "code",
   "execution_count": 6,
   "metadata": {
    "collapsed": false
   },
   "outputs": [
    {
     "data": {
      "text/html": [
       "<ol class=list-inline>\n",
       "\t<li>209168</li>\n",
       "\t<li>755</li>\n",
       "\t<li>3020</li>\n",
       "</ol>\n"
      ],
      "text/latex": [
       "\\begin{enumerate*}\n",
       "\\item 209168\n",
       "\\item 755\n",
       "\\item 3020\n",
       "\\end{enumerate*}\n"
      ],
      "text/markdown": [
       "1. 209168\n",
       "2. 755\n",
       "3. 3020\n",
       "\n",
       "\n"
      ],
      "text/plain": [
       "[1] 209168    755   3020"
      ]
     },
     "execution_count": 6,
     "metadata": {},
     "output_type": "execute_result"
    }
   ],
   "source": [
    "n_compounds = readr::read_tsv('../summary/compounds.tsv') %>% nrow()\n",
    "n_diseases = readr::read_tsv('../summary/diseases.tsv') %>% nrow()\n",
    "n_pairs = n_compounds * n_diseases\n",
    "n_positives = sum(dwpc_mat_df$status == 1)\n",
    "n_negatives = sum(dwpc_mat_df$status == 0)\n",
    "c(n_pairs, n_positives, n_negatives)"
   ]
  },
  {
   "cell_type": "code",
   "execution_count": 7,
   "metadata": {
    "collapsed": false
   },
   "outputs": [
    {
     "data": {
      "text/html": [
       "<dl>\n",
       "\t<dt>$0</dt>\n",
       "\t\t<dd>69.0109271523179</dd>\n",
       "\t<dt>$1</dt>\n",
       "\t\t<dd>1</dd>\n",
       "</dl>\n"
      ],
      "text/latex": [
       "\\begin{description}\n",
       "\\item[\\$0] 69.0109271523179\n",
       "\\item[\\$1] 1\n",
       "\\end{description}\n"
      ],
      "text/markdown": [
       "$0\n",
       ":   69.0109271523179\n",
       "$1\n",
       ":   1\n",
       "\n",
       "\n"
      ],
      "text/plain": [
       "$`0`\n",
       "[1] 69.01093\n",
       "\n",
       "$`1`\n",
       "[1] 1\n"
      ]
     },
     "execution_count": 7,
     "metadata": {},
     "output_type": "execute_result"
    }
   ],
   "source": [
    "positive_weight = 1\n",
    "negative_weight = (n_pairs - n_positives) / n_negatives\n",
    "weight_map = list('0' = negative_weight, '1' = positive_weight)\n",
    "weight_map"
   ]
  },
  {
   "cell_type": "markdown",
   "metadata": {},
   "source": [
    "## Dataset preparation"
   ]
  },
  {
   "cell_type": "code",
   "execution_count": 8,
   "metadata": {
    "collapsed": false
   },
   "outputs": [
    {
     "data": {
      "text/html": [
       "<table>\n",
       "<thead><tr><th></th><th scope=col>compound_id</th><th scope=col>compound_name</th><th scope=col>compound_treats</th><th scope=col>disease_id</th><th scope=col>disease_name</th><th scope=col>disease_treats</th><th scope=col>status</th><th scope=col>CbG<rG<rGaD</th><th scope=col>CbG<rG<rGdD</th><th scope=col>CbG<rG<rGuD</th><th scope=col>ellip.h</th><th scope=col>CuGuDpCpD</th><th scope=col>CuGuDpCtD</th><th scope=col>CuGuDpSpD</th><th scope=col>CuGuDrD</th><th scope=col>CuGuDrDrD</th><th scope=col>CuGuDtCpD</th><th scope=col>CuGuDtCtD</th><th scope=col>CuGuDuGaD</th><th scope=col>CuGuDuGdD</th><th scope=col>CuGuDuGuD</th></tr></thead>\n",
       "<tbody>\n",
       "\t<tr><th scope=row>1</th><td>DB01048</td><td>Abacavir</td><td>1</td><td>DOID:635</td><td>acquired immunodeficiency syndrome</td><td>14</td><td>1</td><td>4.95115e-05</td><td>0.000673428</td><td>0.000678888</td><td>⋯</td><td>0</td><td>0</td><td>0</td><td>0</td><td>0</td><td>0</td><td>0</td><td>0</td><td>0</td><td>0</td></tr>\n",
       "\t<tr><th scope=row>2</th><td>DB01048</td><td>Abacavir</td><td>1</td><td>DOID:1459</td><td>hypothyroidism</td><td>4</td><td>0</td><td>9.89203e-05</td><td>0</td><td>0</td><td>⋯</td><td>0</td><td>0</td><td>0</td><td>0</td><td>0</td><td>0</td><td>0</td><td>0</td><td>0</td><td>0</td></tr>\n",
       "</tbody>\n",
       "</table>\n"
      ],
      "text/latex": [
       "\\begin{tabular}{r|llllllllllllllllllllllllllllllllllllllllllllllllllllllllllllllllllllllllllllllllllllllllllllllllllllllllllllllllllllllllllllllllllllllllllllllllllllllllllllllllllllllllllllllllllllllllllllllllllllllllllllllllllllllllllllllllllllllllllllllllllllllllllllllllllllllllllllllllllllllllllllllllllllllllllllllllllllllllllllllllllllllllllllllllllllllllllllllllllllllllllllllllllllllllllllllllllllllllllllllllllllllllllllllllllllllllllllllllllllllllllllllllllllllllllllllllllllllllllllllllllllllllllllllllllllllllllllllllllllllllllllllllllllllllllllllllllllllllllllllllllllllllllllllllllllllllllllllllllllllllllllllllllllllllllllllllllllllllllllllllllllllllllllllllllllllllllllllllllllllllllllllllllllllllllllllllllllllllllllllllllllllllllllllllllllllllllllllllllllllllllllllllllllllllllllllllllllllllllllllllllllllllllllllllllllllllllllllllllllllllllllllllllllllllllllllllllllllllllllllllllllllllllllllllllllllllllllllllllllllllllllllllllllllllllllllllllllllllllllllllllllllllllllllllllllllllllllllllllllllllllllllllllllllllllllllllllllllllllllllllllllllllllllllllllllllllllllllllllllllllllllllllllllllllllllllllllllllllllllllllllllllllllllllllllllllllllllllllllllllllllllllllllllllllllllllllllllllllllllllllllllllllllllllllllllll}\n",
       "  & compound_id & compound_name & compound_treats & disease_id & disease_name & disease_treats & status & CbG<rG<rGaD & CbG<rG<rGdD & CbG<rG<rGuD & ellip.h & CuGuDpCpD & CuGuDpCtD & CuGuDpSpD & CuGuDrD & CuGuDrDrD & CuGuDtCpD & CuGuDtCtD & CuGuDuGaD & CuGuDuGdD & CuGuDuGuD\\\\\n",
       "\\hline\n",
       "\t1 & DB01048 & Abacavir & 1 & DOID:635 & acquired immunodeficiency syndrome & 14 & 1 & 4.95115e-05 & 0.000673428 & 0.000678888 & ⋯ & 0 & 0 & 0 & 0 & 0 & 0 & 0 & 0 & 0 & 0\\\\\n",
       "\t2 & DB01048 & Abacavir & 1 & DOID:1459 & hypothyroidism & 4 & 0 & 9.89203e-05 & 0 & 0 & ⋯ & 0 & 0 & 0 & 0 & 0 & 0 & 0 & 0 & 0 & 0\\\\\n",
       "\\end{tabular}\n"
      ],
      "text/plain": [
       "Source: local data frame [2 x 1,222]\n",
       "\n",
       "  compound_id compound_name compound_treats disease_id\n",
       "        (chr)         (chr)           (int)      (chr)\n",
       "1     DB01048      Abacavir               1   DOID:635\n",
       "2     DB01048      Abacavir               1  DOID:1459\n",
       "Variables not shown: disease_name (chr), disease_treats (int), status (int),\n",
       "  CbG<rG<rGaD (dbl), CbG<rG<rGdD (dbl), CbG<rG<rGuD (dbl), CbG<rGaD (dbl),\n",
       "  CbG<rGaDrD (dbl), CbG<rGbCpD (dbl), CbG<rGbCtD (dbl), CbG<rGcGaD (dbl),\n",
       "  CbG<rGcGdD (dbl), CbG<rGcGuD (dbl), CbG<rGdAlD (dbl), CbG<rGdCpD (dbl),\n",
       "  CbG<rGdCtD (dbl), CbG<rGdD (dbl), CbG<rGdDrD (dbl), CbG<rGeAlD (dbl),\n",
       "  CbG<rGiGaD (dbl), CbG<rGiGdD (dbl), CbG<rGiGuD (dbl), CbG<rGr>GaD (dbl),\n",
       "  CbG<rGr>GdD (dbl), CbG<rGr>GuD (dbl), CbG<rGuAlD (dbl), CbG<rGuCpD (dbl),\n",
       "  CbG<rGuCtD (dbl), CbG<rGuD (dbl), CbG<rGuDrD (dbl), CbGaD (dbl), CbGaDaGaD\n",
       "  (dbl), CbGaDaGdD (dbl), CbGaDaGuD (dbl), CbGaDdGaD (dbl), CbGaDdGdD (dbl),\n",
       "  CbGaDdGuD (dbl), CbGaDlAlD (dbl), CbGaDpCpD (dbl), CbGaDpCtD (dbl), CbGaDpSpD\n",
       "  (dbl), CbGaDrD (dbl), CbGaDrDrD (dbl), CbGaDtCpD (dbl), CbGaDtCtD (dbl),\n",
       "  CbGaDuGaD (dbl), CbGaDuGdD (dbl), CbGaDuGuD (dbl), CbGbCbGaD (dbl), CbGbCbGdD\n",
       "  (dbl), CbGbCbGuD (dbl), CbGbCdGaD (dbl), CbGbCdGdD (dbl), CbGbCdGuD (dbl),\n",
       "  CbGbCpD (dbl), CbGbCpDrD (dbl), CbGbCrCpD (dbl), CbGbCrCtD (dbl), CbGbCtD\n",
       "  (dbl), CbGbCtDrD (dbl), CbGbCuGaD (dbl), CbGbCuGdD (dbl), CbGbCuGuD (dbl),\n",
       "  CbGcG<rGaD (dbl), CbGcG<rGdD (dbl), CbGcG<rGuD (dbl), CbGcGaD (dbl),\n",
       "  CbGcGaDrD (dbl), CbGcGbCpD (dbl), CbGcGbCtD (dbl), CbGcGcGaD (dbl), CbGcGcGdD\n",
       "  (dbl), CbGcGcGuD (dbl), CbGcGdAlD (dbl), CbGcGdCpD (dbl), CbGcGdCtD (dbl),\n",
       "  CbGcGdD (dbl), CbGcGdDrD (dbl), CbGcGeAlD (dbl), CbGcGiGaD (dbl), CbGcGiGdD\n",
       "  (dbl), CbGcGiGuD (dbl), CbGcGr>GaD (dbl), CbGcGr>GdD (dbl), CbGcGr>GuD (dbl),\n",
       "  CbGcGuAlD (dbl), CbGcGuCpD (dbl), CbGcGuCtD (dbl), CbGcGuD (dbl), CbGcGuDrD\n",
       "  (dbl), CbGdAdGaD (dbl), CbGdAdGdD (dbl), CbGdAdGuD (dbl), CbGdAeGaD (dbl),\n",
       "  CbGdAeGdD (dbl), CbGdAeGuD (dbl), CbGdAlD (dbl), CbGdAlDrD (dbl), CbGdAuGaD\n",
       "  (dbl), CbGdAuGdD (dbl), CbGdAuGuD (dbl), CbGdCbGaD (dbl), CbGdCbGdD (dbl),\n",
       "  CbGdCbGuD (dbl), CbGdCdGaD (dbl), CbGdCdGdD (dbl), CbGdCdGuD (dbl), CbGdCpD\n",
       "  (dbl), CbGdCpDrD (dbl), CbGdCrCpD (dbl), CbGdCrCtD (dbl), CbGdCtD (dbl),\n",
       "  CbGdCtDrD (dbl), CbGdCuGaD (dbl), CbGdCuGdD (dbl), CbGdCuGuD (dbl), CbGdD\n",
       "  (dbl), CbGdDaGaD (dbl), CbGdDaGdD (dbl), CbGdDaGuD (dbl), CbGdDdGaD (dbl),\n",
       "  CbGdDdGdD (dbl), CbGdDdGuD (dbl), CbGdDlAlD (dbl), CbGdDpCpD (dbl), CbGdDpCtD\n",
       "  (dbl), CbGdDpSpD (dbl), CbGdDrD (dbl), CbGdDrDrD (dbl), CbGdDtCpD (dbl),\n",
       "  CbGdDtCtD (dbl), CbGdDuGaD (dbl), CbGdDuGdD (dbl), CbGdDuGuD (dbl), CbGeAdGaD\n",
       "  (dbl), CbGeAdGdD (dbl), CbGeAdGuD (dbl), CbGeAeGaD (dbl), CbGeAeGdD (dbl),\n",
       "  CbGeAeGuD (dbl), CbGeAlD (dbl), CbGeAlDrD (dbl), CbGeAuGaD (dbl), CbGeAuGdD\n",
       "  (dbl), CbGeAuGuD (dbl), CbGiG<rGaD (dbl), CbGiG<rGdD (dbl), CbGiG<rGuD (dbl),\n",
       "  CbGiGaD (dbl), CbGiGaDrD (dbl), CbGiGbCpD (dbl), CbGiGbCtD (dbl), CbGiGcGaD\n",
       "  (dbl), CbGiGcGdD (dbl), CbGiGcGuD (dbl), CbGiGdAlD (dbl), CbGiGdCpD (dbl),\n",
       "  CbGiGdCtD (dbl), CbGiGdD (dbl), CbGiGdDrD (dbl), CbGiGeAlD (dbl), CbGiGiGaD\n",
       "  (dbl), CbGiGiGdD (dbl), CbGiGiGuD (dbl), CbGiGr>GaD (dbl), CbGiGr>GdD (dbl),\n",
       "  CbGiGr>GuD (dbl), CbGiGuAlD (dbl), CbGiGuCpD (dbl), CbGiGuCtD (dbl), CbGiGuD\n",
       "  (dbl), CbGiGuDrD (dbl), CbGpBPpGaD (dbl), CbGpBPpGdD (dbl), CbGpBPpGuD (dbl),\n",
       "  CbGpCCpGaD (dbl), CbGpCCpGdD (dbl), CbGpCCpGuD (dbl), CbGpMFpGaD (dbl),\n",
       "  CbGpMFpGdD (dbl), CbGpMFpGuD (dbl), CbGpPWpGaD (dbl), CbGpPWpGdD (dbl),\n",
       "  CbGpPWpGuD (dbl), CbGr>G<rGaD (dbl), CbGr>G<rGdD (dbl), CbGr>G<rGuD (dbl),\n",
       "  CbGr>GaD (dbl), CbGr>GaDrD (dbl), CbGr>GbCpD (dbl), CbGr>GbCtD (dbl),\n",
       "  CbGr>GcGaD (dbl), CbGr>GcGdD (dbl), CbGr>GcGuD (dbl), CbGr>GdAlD (dbl),\n",
       "  CbGr>GdCpD (dbl), CbGr>GdCtD (dbl), CbGr>GdD (dbl), CbGr>GdDrD (dbl),\n",
       "  CbGr>GeAlD (dbl), CbGr>GiGaD (dbl), CbGr>GiGdD (dbl), CbGr>GiGuD (dbl),\n",
       "  CbGr>Gr>GaD (dbl), CbGr>Gr>GdD (dbl), CbGr>Gr>GuD (dbl), CbGr>GuAlD (dbl),\n",
       "  CbGr>GuCpD (dbl), CbGr>GuCtD (dbl), CbGr>GuD (dbl), CbGr>GuDrD (dbl),\n",
       "  CbGrPBrGaD (dbl), CbGrPBrGdD (dbl), CbGrPBrGuD (dbl), CbGuAdGaD (dbl),\n",
       "  CbGuAdGdD (dbl), CbGuAdGuD (dbl), CbGuAeGaD (dbl), CbGuAeGdD (dbl), CbGuAeGuD\n",
       "  (dbl), CbGuAlD (dbl), CbGuAlDrD (dbl), CbGuAuGaD (dbl), CbGuAuGdD (dbl),\n",
       "  CbGuAuGuD (dbl), CbGuCbGaD (dbl), CbGuCbGdD (dbl), CbGuCbGuD (dbl), CbGuCdGaD\n",
       "  (dbl), CbGuCdGdD (dbl), CbGuCdGuD (dbl), CbGuCpD (dbl), CbGuCpDrD (dbl),\n",
       "  CbGuCrCpD (dbl), CbGuCrCtD (dbl), CbGuCtD (dbl), CbGuCtDrD (dbl), CbGuCuGaD\n",
       "  (dbl), CbGuCuGdD (dbl), CbGuCuGuD (dbl), CbGuD (dbl), CbGuDaGaD (dbl),\n",
       "  CbGuDaGdD (dbl), CbGuDaGuD (dbl), CbGuDdGaD (dbl), CbGuDdGdD (dbl), CbGuDdGuD\n",
       "  (dbl), CbGuDlAlD (dbl), CbGuDpCpD (dbl), CbGuDpCtD (dbl), CbGuDpSpD (dbl),\n",
       "  CbGuDrD (dbl), CbGuDrDrD (dbl), CbGuDtCpD (dbl), CbGuDtCtD (dbl), CbGuDuGaD\n",
       "  (dbl), CbGuDuGdD (dbl), CbGuDuGuD (dbl), CcSEcCbGaD (dbl), CcSEcCbGdD (dbl),\n",
       "  CcSEcCbGuD (dbl), CcSEcCdGaD (dbl), CcSEcCdGdD (dbl), CcSEcCdGuD (dbl),\n",
       "  CcSEcCpD (dbl), CcSEcCpDrD (dbl), CcSEcCrCpD (dbl), CcSEcCrCtD (dbl),\n",
       "  CcSEcCtD (dbl), CcSEcCtDrD (dbl), CcSEcCuGaD (dbl), CcSEcCuGdD (dbl),\n",
       "  CcSEcCuGuD (dbl), CdG<rG<rGaD (dbl), CdG<rG<rGdD (dbl), CdG<rG<rGuD (dbl),\n",
       "  CdG<rGaD (dbl), CdG<rGaDrD (dbl), CdG<rGbCpD (dbl), CdG<rGbCtD (dbl),\n",
       "  CdG<rGcGaD (dbl), CdG<rGcGdD (dbl), CdG<rGcGuD (dbl), CdG<rGdAlD (dbl),\n",
       "  CdG<rGdCpD (dbl), CdG<rGdCtD (dbl), CdG<rGdD (dbl), CdG<rGdDrD (dbl),\n",
       "  CdG<rGeAlD (dbl), CdG<rGiGaD (dbl), CdG<rGiGdD (dbl), CdG<rGiGuD (dbl),\n",
       "  CdG<rGr>GaD (dbl), CdG<rGr>GdD (dbl), CdG<rGr>GuD (dbl), CdG<rGuAlD (dbl),\n",
       "  CdG<rGuCpD (dbl), CdG<rGuCtD (dbl), CdG<rGuD (dbl), CdG<rGuDrD (dbl), CdGaD\n",
       "  (dbl), CdGaDaGaD (dbl), CdGaDaGdD (dbl), CdGaDaGuD (dbl), CdGaDdGaD (dbl),\n",
       "  CdGaDdGdD (dbl), CdGaDdGuD (dbl), CdGaDlAlD (dbl), CdGaDpCpD (dbl), CdGaDpCtD\n",
       "  (dbl), CdGaDpSpD (dbl), CdGaDrD (dbl), CdGaDrDrD (dbl), CdGaDtCpD (dbl),\n",
       "  CdGaDtCtD (dbl), CdGaDuGaD (dbl), CdGaDuGdD (dbl), CdGaDuGuD (dbl), CdGbCbGaD\n",
       "  (dbl), CdGbCbGdD (dbl), CdGbCbGuD (dbl), CdGbCdGaD (dbl), CdGbCdGdD (dbl),\n",
       "  CdGbCdGuD (dbl), CdGbCpD (dbl), CdGbCpDrD (dbl), CdGbCrCpD (dbl), CdGbCrCtD\n",
       "  (dbl), CdGbCtD (dbl), CdGbCtDrD (dbl), CdGbCuGaD (dbl), CdGbCuGdD (dbl),\n",
       "  CdGbCuGuD (dbl), CdGcG<rGaD (dbl), CdGcG<rGdD (dbl), CdGcG<rGuD (dbl),\n",
       "  CdGcGaD (dbl), CdGcGaDrD (dbl), CdGcGbCpD (dbl), CdGcGbCtD (dbl), CdGcGcGaD\n",
       "  (dbl), CdGcGcGdD (dbl), CdGcGcGuD (dbl), CdGcGdAlD (dbl), CdGcGdCpD (dbl),\n",
       "  CdGcGdCtD (dbl), CdGcGdD (dbl), CdGcGdDrD (dbl), CdGcGeAlD (dbl), CdGcGiGaD\n",
       "  (dbl), CdGcGiGdD (dbl), CdGcGiGuD (dbl), CdGcGr>GaD (dbl), CdGcGr>GdD (dbl),\n",
       "  CdGcGr>GuD (dbl), CdGcGuAlD (dbl), CdGcGuCpD (dbl), CdGcGuCtD (dbl), CdGcGuD\n",
       "  (dbl), CdGcGuDrD (dbl), CdGdAdGaD (dbl), CdGdAdGdD (dbl), CdGdAdGuD (dbl),\n",
       "  CdGdAeGaD (dbl), CdGdAeGdD (dbl), CdGdAeGuD (dbl), CdGdAlD (dbl), CdGdAlDrD\n",
       "  (dbl), CdGdAuGaD (dbl), CdGdAuGdD (dbl), CdGdAuGuD (dbl), CdGdCbGaD (dbl),\n",
       "  CdGdCbGdD (dbl), CdGdCbGuD (dbl), CdGdCdGaD (dbl), CdGdCdGdD (dbl), CdGdCdGuD\n",
       "  (dbl), CdGdCpD (dbl), CdGdCpDrD (dbl), CdGdCrCpD (dbl), CdGdCrCtD (dbl),\n",
       "  CdGdCtD (dbl), CdGdCtDrD (dbl), CdGdCuGaD (dbl), CdGdCuGdD (dbl), CdGdCuGuD\n",
       "  (dbl), CdGdD (dbl), CdGdDaGaD (dbl), CdGdDaGdD (dbl), CdGdDaGuD (dbl),\n",
       "  CdGdDdGaD (dbl), CdGdDdGdD (dbl), CdGdDdGuD (dbl), CdGdDlAlD (dbl), CdGdDpCpD\n",
       "  (dbl), CdGdDpCtD (dbl), CdGdDpSpD (dbl), CdGdDrD (dbl), CdGdDrDrD (dbl),\n",
       "  CdGdDtCpD (dbl), CdGdDtCtD (dbl), CdGdDuGaD (dbl), CdGdDuGdD (dbl), CdGdDuGuD\n",
       "  (dbl), CdGeAdGaD (dbl), CdGeAdGdD (dbl), CdGeAdGuD (dbl), CdGeAeGaD (dbl),\n",
       "  CdGeAeGdD (dbl), CdGeAeGuD (dbl), CdGeAlD (dbl), CdGeAlDrD (dbl), CdGeAuGaD\n",
       "  (dbl), CdGeAuGdD (dbl), CdGeAuGuD (dbl), CdGiG<rGaD (dbl), CdGiG<rGdD (dbl),\n",
       "  CdGiG<rGuD (dbl), CdGiGaD (dbl), CdGiGaDrD (dbl), CdGiGbCpD (dbl), CdGiGbCtD\n",
       "  (dbl), CdGiGcGaD (dbl), CdGiGcGdD (dbl), CdGiGcGuD (dbl), CdGiGdAlD (dbl),\n",
       "  CdGiGdCpD (dbl), CdGiGdCtD (dbl), CdGiGdD (dbl), CdGiGdDrD (dbl), CdGiGeAlD\n",
       "  (dbl), CdGiGiGaD (dbl), CdGiGiGdD (dbl), CdGiGiGuD (dbl), CdGiGr>GaD (dbl),\n",
       "  CdGiGr>GdD (dbl), CdGiGr>GuD (dbl), CdGiGuAlD (dbl), CdGiGuCpD (dbl),\n",
       "  CdGiGuCtD (dbl), CdGiGuD (dbl), CdGiGuDrD (dbl), CdGpBPpGaD (dbl), CdGpBPpGdD\n",
       "  (dbl), CdGpBPpGuD (dbl), CdGpCCpGaD (dbl), CdGpCCpGdD (dbl), CdGpCCpGuD\n",
       "  (dbl), CdGpMFpGaD (dbl), CdGpMFpGdD (dbl), CdGpMFpGuD (dbl), CdGpPWpGaD\n",
       "  (dbl), CdGpPWpGdD (dbl), CdGpPWpGuD (dbl), CdGr>G<rGaD (dbl), CdGr>G<rGdD\n",
       "  (dbl), CdGr>G<rGuD (dbl), CdGr>GaD (dbl), CdGr>GaDrD (dbl), CdGr>GbCpD (dbl),\n",
       "  CdGr>GbCtD (dbl), CdGr>GcGaD (dbl), CdGr>GcGdD (dbl), CdGr>GcGuD (dbl),\n",
       "  CdGr>GdAlD (dbl), CdGr>GdCpD (dbl), CdGr>GdCtD (dbl), CdGr>GdD (dbl),\n",
       "  CdGr>GdDrD (dbl), CdGr>GeAlD (dbl), CdGr>GiGaD (dbl), CdGr>GiGdD (dbl),\n",
       "  CdGr>GiGuD (dbl), CdGr>Gr>GaD (dbl), CdGr>Gr>GdD (dbl), CdGr>Gr>GuD (dbl),\n",
       "  CdGr>GuAlD (dbl), CdGr>GuCpD (dbl), CdGr>GuCtD (dbl), CdGr>GuD (dbl),\n",
       "  CdGr>GuDrD (dbl), CdGrPBrGaD (dbl), CdGrPBrGdD (dbl), CdGrPBrGuD (dbl),\n",
       "  CdGuAdGaD (dbl), CdGuAdGdD (dbl), CdGuAdGuD (dbl), CdGuAeGaD (dbl), CdGuAeGdD\n",
       "  (dbl), CdGuAeGuD (dbl), CdGuAlD (dbl), CdGuAlDrD (dbl), CdGuAuGaD (dbl),\n",
       "  CdGuAuGdD (dbl), CdGuAuGuD (dbl), CdGuCbGaD (dbl), CdGuCbGdD (dbl), CdGuCbGuD\n",
       "  (dbl), CdGuCdGaD (dbl), CdGuCdGdD (dbl), CdGuCdGuD (dbl), CdGuCpD (dbl),\n",
       "  CdGuCpDrD (dbl), CdGuCrCpD (dbl), CdGuCrCtD (dbl), CdGuCtD (dbl), CdGuCtDrD\n",
       "  (dbl), CdGuCuGaD (dbl), CdGuCuGdD (dbl), CdGuCuGuD (dbl), CdGuD (dbl),\n",
       "  CdGuDaGaD (dbl), CdGuDaGdD (dbl), CdGuDaGuD (dbl), CdGuDdGaD (dbl), CdGuDdGdD\n",
       "  (dbl), CdGuDdGuD (dbl), CdGuDlAlD (dbl), CdGuDpCpD (dbl), CdGuDpCtD (dbl),\n",
       "  CdGuDpSpD (dbl), CdGuDrD (dbl), CdGuDrDrD (dbl), CdGuDtCpD (dbl), CdGuDtCtD\n",
       "  (dbl), CdGuDuGaD (dbl), CdGuDuGdD (dbl), CdGuDuGuD (dbl), CiPCiCbGaD (dbl),\n",
       "  CiPCiCbGdD (dbl), CiPCiCbGuD (dbl), CiPCiCdGaD (dbl), CiPCiCdGdD (dbl),\n",
       "  CiPCiCdGuD (dbl), CiPCiCpD (dbl), CiPCiCpDrD (dbl), CiPCiCrCpD (dbl),\n",
       "  CiPCiCrCtD (dbl), CiPCiCtD (dbl), CiPCiCtDrD (dbl), CiPCiCuGaD (dbl),\n",
       "  CiPCiCuGdD (dbl), CiPCiCuGuD (dbl), CpDaG<rGaD (dbl), CpDaG<rGdD (dbl),\n",
       "  CpDaG<rGuD (dbl), CpDaGaD (dbl), CpDaGaDrD (dbl), CpDaGbCpD (dbl), CpDaGbCtD\n",
       "  (dbl), CpDaGcGaD (dbl), CpDaGcGdD (dbl), CpDaGcGuD (dbl), CpDaGdAlD (dbl),\n",
       "  CpDaGdCpD (dbl), CpDaGdCtD (dbl), CpDaGdD (dbl), CpDaGdDrD (dbl), CpDaGeAlD\n",
       "  (dbl), CpDaGiGaD (dbl), CpDaGiGdD (dbl), CpDaGiGuD (dbl), CpDaGr>GaD (dbl),\n",
       "  CpDaGr>GdD (dbl), CpDaGr>GuD (dbl), CpDaGuAlD (dbl), CpDaGuCpD (dbl),\n",
       "  CpDaGuCtD (dbl), CpDaGuD (dbl), CpDaGuDrD (dbl), CpDdG<rGaD (dbl), CpDdG<rGdD\n",
       "  (dbl), CpDdG<rGuD (dbl), CpDdGaD (dbl), CpDdGaDrD (dbl), CpDdGbCpD (dbl),\n",
       "  CpDdGbCtD (dbl), CpDdGcGaD (dbl), CpDdGcGdD (dbl), CpDdGcGuD (dbl), CpDdGdAlD\n",
       "  (dbl), CpDdGdCpD (dbl), CpDdGdCtD (dbl), CpDdGdD (dbl), CpDdGdDrD (dbl),\n",
       "  CpDdGeAlD (dbl), CpDdGiGaD (dbl), CpDdGiGdD (dbl), CpDdGiGuD (dbl),\n",
       "  CpDdGr>GaD (dbl), CpDdGr>GdD (dbl), CpDdGr>GuD (dbl), CpDdGuAlD (dbl),\n",
       "  CpDdGuCpD (dbl), CpDdGuCtD (dbl), CpDdGuD (dbl), CpDdGuDrD (dbl), CpDlAdGaD\n",
       "  (dbl), CpDlAdGdD (dbl), CpDlAdGuD (dbl), CpDlAeGaD (dbl), CpDlAeGdD (dbl),\n",
       "  CpDlAeGuD (dbl), CpDlAlD (dbl), CpDlAlDrD (dbl), CpDlAuGaD (dbl), CpDlAuGdD\n",
       "  (dbl), CpDlAuGuD (dbl), CpDpCbGaD (dbl), CpDpCbGdD (dbl), CpDpCbGuD (dbl),\n",
       "  CpDpCdGaD (dbl), CpDpCdGdD (dbl), CpDpCdGuD (dbl), CpDpCpD (dbl), CpDpCpDrD\n",
       "  (dbl), CpDpCrCpD (dbl), CpDpCrCtD (dbl), CpDpCtD (dbl), CpDpCtDrD (dbl),\n",
       "  CpDpCuGaD (dbl), CpDpCuGdD (dbl), CpDpCuGuD (dbl), CpDpSpD (dbl), CpDpSpDrD\n",
       "  (dbl), CpDrD (dbl), CpDrDaGaD (dbl), CpDrDaGdD (dbl), CpDrDaGuD (dbl),\n",
       "  CpDrDdGaD (dbl), CpDrDdGdD (dbl), CpDrDdGuD (dbl), CpDrDlAlD (dbl), CpDrDpCpD\n",
       "  (dbl), CpDrDpCtD (dbl), CpDrDpSpD (dbl), CpDrDrD (dbl), CpDrDrDrD (dbl),\n",
       "  CpDrDtCpD (dbl), CpDrDtCtD (dbl), CpDrDuGaD (dbl), CpDrDuGdD (dbl), CpDrDuGuD\n",
       "  (dbl), CpDtCbGaD (dbl), CpDtCbGdD (dbl), CpDtCbGuD (dbl), CpDtCdGaD (dbl),\n",
       "  CpDtCdGdD (dbl), CpDtCdGuD (dbl), CpDtCpD (dbl), CpDtCpDrD (dbl), CpDtCrCpD\n",
       "  (dbl), CpDtCrCtD (dbl), CpDtCtD (dbl), CpDtCtDrD (dbl), CpDtCuGaD (dbl),\n",
       "  CpDtCuGdD (dbl), CpDtCuGuD (dbl), CpDuG<rGaD (dbl), CpDuG<rGdD (dbl),\n",
       "  CpDuG<rGuD (dbl), CpDuGaD (dbl), CpDuGaDrD (dbl), CpDuGbCpD (dbl), CpDuGbCtD\n",
       "  (dbl), CpDuGcGaD (dbl), CpDuGcGdD (dbl), CpDuGcGuD (dbl), CpDuGdAlD (dbl),\n",
       "  CpDuGdCpD (dbl), CpDuGdCtD (dbl), CpDuGdD (dbl), CpDuGdDrD (dbl), CpDuGeAlD\n",
       "  (dbl), CpDuGiGaD (dbl), CpDuGiGdD (dbl), CpDuGiGuD (dbl), CpDuGr>GaD (dbl),\n",
       "  CpDuGr>GdD (dbl), CpDuGr>GuD (dbl), CpDuGuAlD (dbl), CpDuGuCpD (dbl),\n",
       "  CpDuGuCtD (dbl), CpDuGuD (dbl), CpDuGuDrD (dbl), CrCbG<rGaD (dbl), CrCbG<rGdD\n",
       "  (dbl), CrCbG<rGuD (dbl), CrCbGaD (dbl), CrCbGaDrD (dbl), CrCbGbCpD (dbl),\n",
       "  CrCbGbCtD (dbl), CrCbGcGaD (dbl), CrCbGcGdD (dbl), CrCbGcGuD (dbl), CrCbGdAlD\n",
       "  (dbl), CrCbGdCpD (dbl), CrCbGdCtD (dbl), CrCbGdD (dbl), CrCbGdDrD (dbl),\n",
       "  CrCbGeAlD (dbl), CrCbGiGaD (dbl), CrCbGiGdD (dbl), CrCbGiGuD (dbl),\n",
       "  CrCbGr>GaD (dbl), CrCbGr>GdD (dbl), CrCbGr>GuD (dbl), CrCbGuAlD (dbl),\n",
       "  CrCbGuCpD (dbl), CrCbGuCtD (dbl), CrCbGuD (dbl), CrCbGuDrD (dbl), CrCcSEcCpD\n",
       "  (dbl), CrCcSEcCtD (dbl), CrCdG<rGaD (dbl), CrCdG<rGdD (dbl), CrCdG<rGuD\n",
       "  (dbl), CrCdGaD (dbl), CrCdGaDrD (dbl), CrCdGbCpD (dbl), CrCdGbCtD (dbl),\n",
       "  CrCdGcGaD (dbl), CrCdGcGdD (dbl), CrCdGcGuD (dbl), CrCdGdAlD (dbl), CrCdGdCpD\n",
       "  (dbl), CrCdGdCtD (dbl), CrCdGdD (dbl), CrCdGdDrD (dbl), CrCdGeAlD (dbl),\n",
       "  CrCdGiGaD (dbl), CrCdGiGdD (dbl), CrCdGiGuD (dbl), CrCdGr>GaD (dbl),\n",
       "  CrCdGr>GdD (dbl), CrCdGr>GuD (dbl), CrCdGuAlD (dbl), CrCdGuCpD (dbl),\n",
       "  CrCdGuCtD (dbl), CrCdGuD (dbl), CrCdGuDrD (dbl), CrCiPCiCpD (dbl), CrCiPCiCtD\n",
       "  (dbl), CrCpD (dbl), CrCpDaGaD (dbl), CrCpDaGdD (dbl), CrCpDaGuD (dbl),\n",
       "  CrCpDdGaD (dbl), CrCpDdGdD (dbl), CrCpDdGuD (dbl), CrCpDlAlD (dbl), CrCpDpCpD\n",
       "  (dbl), CrCpDpCtD (dbl), CrCpDpSpD (dbl), CrCpDrD (dbl), CrCpDrDrD (dbl),\n",
       "  CrCpDtCpD (dbl), CrCpDtCtD (dbl), CrCpDuGaD (dbl), CrCpDuGdD (dbl), CrCpDuGuD\n",
       "  (dbl), CrCrCbGaD (dbl), CrCrCbGdD (dbl), CrCrCbGuD (dbl), CrCrCdGaD (dbl),\n",
       "  CrCrCdGdD (dbl), CrCrCdGuD (dbl), CrCrCpD (dbl), CrCrCpDrD (dbl), CrCrCrCpD\n",
       "  (dbl), CrCrCrCtD (dbl), CrCrCtD (dbl), CrCrCtDrD (dbl), CrCrCuGaD (dbl),\n",
       "  CrCrCuGdD (dbl), CrCrCuGuD (dbl), CrCtD (dbl), CrCtDaGaD (dbl), CrCtDaGdD\n",
       "  (dbl), CrCtDaGuD (dbl), CrCtDdGaD (dbl), CrCtDdGdD (dbl), CrCtDdGuD (dbl),\n",
       "  CrCtDlAlD (dbl), CrCtDpCpD (dbl), CrCtDpCtD (dbl), CrCtDpSpD (dbl), CrCtDrD\n",
       "  (dbl), CrCtDrDrD (dbl), CrCtDtCpD (dbl), CrCtDtCtD (dbl), CrCtDuGaD (dbl),\n",
       "  CrCtDuGdD (dbl), CrCtDuGuD (dbl), CrCuG<rGaD (dbl), CrCuG<rGdD (dbl),\n",
       "  CrCuG<rGuD (dbl), CrCuGaD (dbl), CrCuGaDrD (dbl), CrCuGbCpD (dbl), CrCuGbCtD\n",
       "  (dbl), CrCuGcGaD (dbl), CrCuGcGdD (dbl), CrCuGcGuD (dbl), CrCuGdAlD (dbl),\n",
       "  CrCuGdCpD (dbl), CrCuGdCtD (dbl), CrCuGdD (dbl), CrCuGdDrD (dbl), CrCuGeAlD\n",
       "  (dbl), CrCuGiGaD (dbl), CrCuGiGdD (dbl), CrCuGiGuD (dbl), CrCuGr>GaD (dbl),\n",
       "  CrCuGr>GdD (dbl), CrCuGr>GuD (dbl), CrCuGuAlD (dbl), CrCuGuCpD (dbl),\n",
       "  CrCuGuCtD (dbl), CrCuGuD (dbl), CrCuGuDrD (dbl), CtDaG<rGaD (dbl), CtDaG<rGdD\n",
       "  (dbl), CtDaG<rGuD (dbl), CtDaGaD (dbl), CtDaGaDrD (dbl), CtDaGbCpD (dbl),\n",
       "  CtDaGbCtD (dbl), CtDaGcGaD (dbl), CtDaGcGdD (dbl), CtDaGcGuD (dbl), CtDaGdAlD\n",
       "  (dbl), CtDaGdCpD (dbl), CtDaGdCtD (dbl), CtDaGdD (dbl), CtDaGdDrD (dbl),\n",
       "  CtDaGeAlD (dbl), CtDaGiGaD (dbl), CtDaGiGdD (dbl), CtDaGiGuD (dbl),\n",
       "  CtDaGr>GaD (dbl), CtDaGr>GdD (dbl), CtDaGr>GuD (dbl), CtDaGuAlD (dbl),\n",
       "  CtDaGuCpD (dbl), CtDaGuCtD (dbl), CtDaGuD (dbl), CtDaGuDrD (dbl), CtDdG<rGaD\n",
       "  (dbl), CtDdG<rGdD (dbl), CtDdG<rGuD (dbl), CtDdGaD (dbl), CtDdGaDrD (dbl),\n",
       "  CtDdGbCpD (dbl), CtDdGbCtD (dbl), CtDdGcGaD (dbl), CtDdGcGdD (dbl), CtDdGcGuD\n",
       "  (dbl), CtDdGdAlD (dbl), CtDdGdCpD (dbl), CtDdGdCtD (dbl), CtDdGdD (dbl),\n",
       "  CtDdGdDrD (dbl), CtDdGeAlD (dbl), CtDdGiGaD (dbl), CtDdGiGdD (dbl), CtDdGiGuD\n",
       "  (dbl), CtDdGr>GaD (dbl), CtDdGr>GdD (dbl), CtDdGr>GuD (dbl), CtDdGuAlD (dbl),\n",
       "  CtDdGuCpD (dbl), CtDdGuCtD (dbl), CtDdGuD (dbl), CtDdGuDrD (dbl), CtDlAdGaD\n",
       "  (dbl), CtDlAdGdD (dbl), CtDlAdGuD (dbl), CtDlAeGaD (dbl), CtDlAeGdD (dbl),\n",
       "  CtDlAeGuD (dbl), CtDlAlD (dbl), CtDlAlDrD (dbl), CtDlAuGaD (dbl), CtDlAuGdD\n",
       "  (dbl), CtDlAuGuD (dbl), CtDpCbGaD (dbl), CtDpCbGdD (dbl), CtDpCbGuD (dbl),\n",
       "  CtDpCdGaD (dbl), CtDpCdGdD (dbl), CtDpCdGuD (dbl), CtDpCpD (dbl), CtDpCpDrD\n",
       "  (dbl), CtDpCrCpD (dbl), CtDpCrCtD (dbl), CtDpCtD (dbl), CtDpCtDrD (dbl),\n",
       "  CtDpCuGaD (dbl), CtDpCuGdD (dbl), CtDpCuGuD (dbl), CtDpSpD (dbl), CtDpSpDrD\n",
       "  (dbl), CtDrD (dbl), CtDrDaGaD (dbl), CtDrDaGdD (dbl), CtDrDaGuD (dbl),\n",
       "  CtDrDdGaD (dbl), CtDrDdGdD (dbl), CtDrDdGuD (dbl), CtDrDlAlD (dbl), CtDrDpCpD\n",
       "  (dbl), CtDrDpCtD (dbl), CtDrDpSpD (dbl), CtDrDrD (dbl), CtDrDrDrD (dbl),\n",
       "  CtDrDtCpD (dbl), CtDrDtCtD (dbl), CtDrDuGaD (dbl), CtDrDuGdD (dbl), CtDrDuGuD\n",
       "  (dbl), CtDtCbGaD (dbl), CtDtCbGdD (dbl), CtDtCbGuD (dbl), CtDtCdGaD (dbl),\n",
       "  CtDtCdGdD (dbl), CtDtCdGuD (dbl), CtDtCpD (dbl), CtDtCpDrD (dbl), CtDtCrCpD\n",
       "  (dbl), CtDtCrCtD (dbl), CtDtCtD (dbl), CtDtCtDrD (dbl), CtDtCuGaD (dbl),\n",
       "  CtDtCuGdD (dbl), CtDtCuGuD (dbl), CtDuG<rGaD (dbl), CtDuG<rGdD (dbl),\n",
       "  CtDuG<rGuD (dbl), CtDuGaD (dbl), CtDuGaDrD (dbl), CtDuGbCpD (dbl), CtDuGbCtD\n",
       "  (dbl), CtDuGcGaD (dbl), CtDuGcGdD (dbl), CtDuGcGuD (dbl), CtDuGdAlD (dbl),\n",
       "  CtDuGdCpD (dbl), CtDuGdCtD (dbl), CtDuGdD (dbl), CtDuGdDrD (dbl), CtDuGeAlD\n",
       "  (dbl), CtDuGiGaD (dbl), CtDuGiGdD (dbl), CtDuGiGuD (dbl), CtDuGr>GaD (dbl),\n",
       "  CtDuGr>GdD (dbl), CtDuGr>GuD (dbl), CtDuGuAlD (dbl), CtDuGuCpD (dbl),\n",
       "  CtDuGuCtD (dbl), CtDuGuD (dbl), CtDuGuDrD (dbl), CuG<rG<rGaD (dbl),\n",
       "  CuG<rG<rGdD (dbl), CuG<rG<rGuD (dbl), CuG<rGaD (dbl), CuG<rGaDrD (dbl),\n",
       "  CuG<rGbCpD (dbl), CuG<rGbCtD (dbl), CuG<rGcGaD (dbl), CuG<rGcGdD (dbl),\n",
       "  CuG<rGcGuD (dbl), CuG<rGdAlD (dbl), CuG<rGdCpD (dbl), CuG<rGdCtD (dbl),\n",
       "  CuG<rGdD (dbl), CuG<rGdDrD (dbl), CuG<rGeAlD (dbl), CuG<rGiGaD (dbl),\n",
       "  CuG<rGiGdD (dbl), CuG<rGiGuD (dbl), CuG<rGr>GaD (dbl), CuG<rGr>GdD (dbl),\n",
       "  CuG<rGr>GuD (dbl), CuG<rGuAlD (dbl), CuG<rGuCpD (dbl), CuG<rGuCtD (dbl),\n",
       "  CuG<rGuD (dbl), CuG<rGuDrD (dbl), CuGaD (dbl), CuGaDaGaD (dbl), CuGaDaGdD\n",
       "  (dbl), CuGaDaGuD (dbl), CuGaDdGaD (dbl), CuGaDdGdD (dbl), CuGaDdGuD (dbl),\n",
       "  CuGaDlAlD (dbl), CuGaDpCpD (dbl), CuGaDpCtD (dbl), CuGaDpSpD (dbl), CuGaDrD\n",
       "  (dbl), CuGaDrDrD (dbl), CuGaDtCpD (dbl), CuGaDtCtD (dbl), CuGaDuGaD (dbl),\n",
       "  CuGaDuGdD (dbl), CuGaDuGuD (dbl), CuGbCbGaD (dbl), CuGbCbGdD (dbl), CuGbCbGuD\n",
       "  (dbl), CuGbCdGaD (dbl), CuGbCdGdD (dbl), CuGbCdGuD (dbl), CuGbCpD (dbl),\n",
       "  CuGbCpDrD (dbl), CuGbCrCpD (dbl), CuGbCrCtD (dbl), CuGbCtD (dbl), CuGbCtDrD\n",
       "  (dbl), CuGbCuGaD (dbl), CuGbCuGdD (dbl), CuGbCuGuD (dbl), CuGcG<rGaD (dbl),\n",
       "  CuGcG<rGdD (dbl), CuGcG<rGuD (dbl), CuGcGaD (dbl), CuGcGaDrD (dbl), CuGcGbCpD\n",
       "  (dbl), CuGcGbCtD (dbl), CuGcGcGaD (dbl), CuGcGcGdD (dbl), CuGcGcGuD (dbl),\n",
       "  CuGcGdAlD (dbl), CuGcGdCpD (dbl), CuGcGdCtD (dbl), CuGcGdD (dbl), CuGcGdDrD\n",
       "  (dbl), CuGcGeAlD (dbl), CuGcGiGaD (dbl), CuGcGiGdD (dbl), CuGcGiGuD (dbl),\n",
       "  CuGcGr>GaD (dbl), CuGcGr>GdD (dbl), CuGcGr>GuD (dbl), CuGcGuAlD (dbl),\n",
       "  CuGcGuCpD (dbl), CuGcGuCtD (dbl), CuGcGuD (dbl), CuGcGuDrD (dbl), CuGdAdGaD\n",
       "  (dbl), CuGdAdGdD (dbl), CuGdAdGuD (dbl), CuGdAeGaD (dbl), CuGdAeGdD (dbl),\n",
       "  CuGdAeGuD (dbl), CuGdAlD (dbl), CuGdAlDrD (dbl), CuGdAuGaD (dbl), CuGdAuGdD\n",
       "  (dbl), CuGdAuGuD (dbl), CuGdCbGaD (dbl), CuGdCbGdD (dbl), CuGdCbGuD (dbl),\n",
       "  CuGdCdGaD (dbl), CuGdCdGdD (dbl), CuGdCdGuD (dbl), CuGdCpD (dbl), CuGdCpDrD\n",
       "  (dbl), CuGdCrCpD (dbl), CuGdCrCtD (dbl), CuGdCtD (dbl), CuGdCtDrD (dbl),\n",
       "  CuGdCuGaD (dbl), CuGdCuGdD (dbl), CuGdCuGuD (dbl), CuGdD (dbl), CuGdDaGaD\n",
       "  (dbl), CuGdDaGdD (dbl), CuGdDaGuD (dbl), CuGdDdGaD (dbl), CuGdDdGdD (dbl),\n",
       "  CuGdDdGuD (dbl), CuGdDlAlD (dbl), CuGdDpCpD (dbl), CuGdDpCtD (dbl), CuGdDpSpD\n",
       "  (dbl), CuGdDrD (dbl), CuGdDrDrD (dbl), CuGdDtCpD (dbl), CuGdDtCtD (dbl),\n",
       "  CuGdDuGaD (dbl), CuGdDuGdD (dbl), CuGdDuGuD (dbl), CuGeAdGaD (dbl), CuGeAdGdD\n",
       "  (dbl), CuGeAdGuD (dbl), CuGeAeGaD (dbl), CuGeAeGdD (dbl), CuGeAeGuD (dbl),\n",
       "  CuGeAlD (dbl), CuGeAlDrD (dbl), CuGeAuGaD (dbl), CuGeAuGdD (dbl), CuGeAuGuD\n",
       "  (dbl), CuGiG<rGaD (dbl), CuGiG<rGdD (dbl), CuGiG<rGuD (dbl), CuGiGaD (dbl),\n",
       "  CuGiGaDrD (dbl), CuGiGbCpD (dbl), CuGiGbCtD (dbl), CuGiGcGaD (dbl), CuGiGcGdD\n",
       "  (dbl), CuGiGcGuD (dbl), CuGiGdAlD (dbl), CuGiGdCpD (dbl), CuGiGdCtD (dbl),\n",
       "  CuGiGdD (dbl), CuGiGdDrD (dbl), CuGiGeAlD (dbl), CuGiGiGaD (dbl), CuGiGiGdD\n",
       "  (dbl), CuGiGiGuD (dbl), CuGiGr>GaD (dbl), CuGiGr>GdD (dbl), CuGiGr>GuD (dbl),\n",
       "  CuGiGuAlD (dbl), CuGiGuCpD (dbl), CuGiGuCtD (dbl), CuGiGuD (dbl), CuGiGuDrD\n",
       "  (dbl), CuGpBPpGaD (dbl), CuGpBPpGdD (dbl), CuGpBPpGuD (dbl), CuGpCCpGaD\n",
       "  (dbl), CuGpCCpGdD (dbl), CuGpCCpGuD (dbl), CuGpMFpGaD (dbl), CuGpMFpGdD\n",
       "  (dbl), CuGpMFpGuD (dbl), CuGpPWpGaD (dbl), CuGpPWpGdD (dbl), CuGpPWpGuD\n",
       "  (dbl), CuGr>G<rGaD (dbl), CuGr>G<rGdD (dbl), CuGr>G<rGuD (dbl), CuGr>GaD\n",
       "  (dbl), CuGr>GaDrD (dbl), CuGr>GbCpD (dbl), CuGr>GbCtD (dbl), CuGr>GcGaD\n",
       "  (dbl), CuGr>GcGdD (dbl), CuGr>GcGuD (dbl), CuGr>GdAlD (dbl), CuGr>GdCpD\n",
       "  (dbl), CuGr>GdCtD (dbl), CuGr>GdD (dbl), CuGr>GdDrD (dbl), CuGr>GeAlD (dbl),\n",
       "  CuGr>GiGaD (dbl), CuGr>GiGdD (dbl), CuGr>GiGuD (dbl), CuGr>Gr>GaD (dbl),\n",
       "  CuGr>Gr>GdD (dbl), CuGr>Gr>GuD (dbl), CuGr>GuAlD (dbl), CuGr>GuCpD (dbl),\n",
       "  CuGr>GuCtD (dbl), CuGr>GuD (dbl), CuGr>GuDrD (dbl), CuGrPBrGaD (dbl),\n",
       "  CuGrPBrGdD (dbl), CuGrPBrGuD (dbl), CuGuAdGaD (dbl), CuGuAdGdD (dbl),\n",
       "  CuGuAdGuD (dbl), CuGuAeGaD (dbl), CuGuAeGdD (dbl), CuGuAeGuD (dbl), CuGuAlD\n",
       "  (dbl), CuGuAlDrD (dbl), CuGuAuGaD (dbl), CuGuAuGdD (dbl), CuGuAuGuD (dbl),\n",
       "  CuGuCbGaD (dbl), CuGuCbGdD (dbl), CuGuCbGuD (dbl), CuGuCdGaD (dbl), CuGuCdGdD\n",
       "  (dbl), CuGuCdGuD (dbl), CuGuCpD (dbl), CuGuCpDrD (dbl), CuGuCrCpD (dbl),\n",
       "  CuGuCrCtD (dbl), CuGuCtD (dbl), CuGuCtDrD (dbl), CuGuCuGaD (dbl), CuGuCuGdD\n",
       "  (dbl), CuGuCuGuD (dbl), CuGuD (dbl), CuGuDaGaD (dbl), CuGuDaGdD (dbl),\n",
       "  CuGuDaGuD (dbl), CuGuDdGaD (dbl), CuGuDdGdD (dbl), CuGuDdGuD (dbl), CuGuDlAlD\n",
       "  (dbl), CuGuDpCpD (dbl), CuGuDpCtD (dbl), CuGuDpSpD (dbl), CuGuDrD (dbl),\n",
       "  CuGuDrDrD (dbl), CuGuDtCpD (dbl), CuGuDtCtD (dbl), CuGuDuGaD (dbl), CuGuDuGdD\n",
       "  (dbl), CuGuDuGuD (dbl)"
      ]
     },
     "execution_count": 8,
     "metadata": {},
     "output_type": "execute_result"
    }
   ],
   "source": [
    "head(dwpc_mat_df, 2)"
   ]
  },
  {
   "cell_type": "code",
   "execution_count": 15,
   "metadata": {
    "collapsed": false
   },
   "outputs": [
    {
     "data": {
      "text/html": [
       "'3775 compound–disease pairs × 1217 features'"
      ],
      "text/latex": [
       "'3775 compound–disease pairs × 1217 features'"
      ],
      "text/markdown": [
       "'3775 compound–disease pairs × 1217 features'"
      ],
      "text/plain": [
       "[1] \"3775 compound–disease pairs × 1217 features\""
      ]
     },
     "execution_count": 15,
     "metadata": {},
     "output_type": "execute_result"
    }
   ],
   "source": [
    "features = auroc_df$feature\n",
    "X_list = list()\n",
    "X_list$all_features = X = dwpc_mat_df %>%\n",
    "  dplyr::select(one_of(features)) %>%\n",
    "  as.matrix()\n",
    "X_list$perm_affected = dwpc_mat_df %>%\n",
    "  dplyr::select(one_of(unique(c('compound_treats', 'disease_treats', perm_affected)))) %>%\n",
    "  as.matrix()\n",
    "y = dwpc_mat_df$status\n",
    "w = as.numeric(weight_map[as.character(y)])\n",
    "sprintf(\"%s compound–disease pairs × %s features\", nrow(X), ncol(X))"
   ]
  },
  {
   "cell_type": "markdown",
   "metadata": {},
   "source": [
    "## Train model\n",
    "\n",
    "Weights are currently not working due to an error thrown by `glmnet::cv.glmnet` (presumably [this line](https://github.com/cran/glmnet/blob/b8b39029eae71958e9c7c382240b7696fde3eff1/R/cv.lognet.R#L53)):\n",
    "\n",
    "```\n",
    "Error in predmat[which, seq(nlami)] = preds: replacement has length zero\n",
    "```\n",
    "\n",
    "Thus logistic regression model is fit without weights."
   ]
  },
  {
   "cell_type": "markdown",
   "metadata": {},
   "source": [
    "## Parameter Sweep"
   ]
  },
  {
   "cell_type": "code",
   "execution_count": 18,
   "metadata": {
    "collapsed": false
   },
   "outputs": [
    {
     "data": {
      "text/html": [
       "20"
      ],
      "text/latex": [
       "20"
      ],
      "text/markdown": [
       "20"
      ],
      "text/plain": [
       "[1] 20"
      ]
     },
     "execution_count": 18,
     "metadata": {},
     "output_type": "execute_result"
    }
   ],
   "source": [
    "results = list()\n",
    "i = 1\n",
    "for (feature_set in names(X_list)) {\n",
    "  for (seed in 1:10) {\n",
    "    elem = list(seed = seed, feature_set = feature_set)\n",
    "    elem$fit = hetior::glmnet_train(X = X_list[[feature_set]], y = y, alpha = 1, cores=12, seed=seed)\n",
    "    elem$coef_df = elem$fit$coef_df %>%\n",
    "      dplyr::filter(zcoef != 0) %>%\n",
    "      dplyr::mutate(seed = seed, feature_set = feature_set)\n",
    "    elem$pos_coefs = sum(elem$coef_df$zcoef > 0)\n",
    "    elem$neg_coefs = sum(elem$coef_df$zcoef < 0)\n",
    "    results[[i]] = elem\n",
    "    i = i + 1\n",
    "  }\n",
    "}\n",
    "length(results)"
   ]
  },
  {
   "cell_type": "code",
   "execution_count": 19,
   "metadata": {
    "collapsed": false
   },
   "outputs": [
    {
     "data": {
      "text/html": [
       "<table>\n",
       "<thead><tr><th></th><th scope=col>seed</th><th scope=col>feature_set</th><th scope=col>auroc</th><th scope=col>pos_coefs</th><th scope=col>neg_coefs</th></tr></thead>\n",
       "<tbody>\n",
       "\t<tr><th scope=row>1</th><td>1</td><td>all_features</td><td>0.9893193</td><td>35</td><td>21</td></tr>\n",
       "\t<tr><th scope=row>2</th><td>2</td><td>all_features</td><td>0.9880339</td><td>28</td><td>14</td></tr>\n",
       "\t<tr><th scope=row>3</th><td>3</td><td>all_features</td><td>0.9893193</td><td>35</td><td>21</td></tr>\n",
       "\t<tr><th scope=row>4</th><td>4</td><td>all_features</td><td>0.9874387</td><td>25</td><td>12</td></tr>\n",
       "\t<tr><th scope=row>5</th><td>5</td><td>all_features</td><td>0.9886527</td><td>32</td><td>16</td></tr>\n",
       "\t<tr><th scope=row>6</th><td>6</td><td>all_features</td><td>0.9886527</td><td>32</td><td>16</td></tr>\n",
       "\t<tr><th scope=row>7</th><td>7</td><td>all_features</td><td>0.9900276</td><td>35</td><td>24</td></tr>\n",
       "\t<tr><th scope=row>8</th><td>8</td><td>all_features</td><td>0.9893193</td><td>35</td><td>21</td></tr>\n",
       "\t<tr><th scope=row>9</th><td>9</td><td>all_features</td><td>0.9906956</td><td>37</td><td>26</td></tr>\n",
       "\t<tr><th scope=row>10</th><td>10</td><td>all_features</td><td>0.9886527</td><td>32</td><td>16</td></tr>\n",
       "\t<tr><th scope=row>11</th><td>1</td><td>perm_affected</td><td>0.9878589</td><td>29</td><td>9</td></tr>\n",
       "\t<tr><th scope=row>12</th><td>2</td><td>perm_affected</td><td>0.9872506</td><td>27</td><td>7</td></tr>\n",
       "\t<tr><th scope=row>13</th><td>3</td><td>perm_affected</td><td>0.9878589</td><td>29</td><td>9</td></tr>\n",
       "\t<tr><th scope=row>14</th><td>4</td><td>perm_affected</td><td>0.9861905</td><td>24</td><td>6</td></tr>\n",
       "\t<tr><th scope=row>15</th><td>5</td><td>perm_affected</td><td>0.9878589</td><td>29</td><td>9</td></tr>\n",
       "\t<tr><th scope=row>16</th><td>6</td><td>perm_affected</td><td>0.986694</td><td>26</td><td>6</td></tr>\n",
       "\t<tr><th scope=row>17</th><td>7</td><td>perm_affected</td><td>0.988372</td><td>30</td><td>10</td></tr>\n",
       "\t<tr><th scope=row>18</th><td>8</td><td>perm_affected</td><td>0.9878589</td><td>29</td><td>9</td></tr>\n",
       "\t<tr><th scope=row>19</th><td>9</td><td>perm_affected</td><td>0.9887996</td><td>31</td><td>10</td></tr>\n",
       "\t<tr><th scope=row>20</th><td>10</td><td>perm_affected</td><td>0.9872506</td><td>27</td><td>7</td></tr>\n",
       "</tbody>\n",
       "</table>\n"
      ],
      "text/latex": [
       "\\begin{tabular}{r|lllll}\n",
       "  & seed & feature_set & auroc & pos_coefs & neg_coefs\\\\\n",
       "\\hline\n",
       "\t1 & 1 & all_features & 0.9893193 & 35 & 21\\\\\n",
       "\t2 & 2 & all_features & 0.9880339 & 28 & 14\\\\\n",
       "\t3 & 3 & all_features & 0.9893193 & 35 & 21\\\\\n",
       "\t4 & 4 & all_features & 0.9874387 & 25 & 12\\\\\n",
       "\t5 & 5 & all_features & 0.9886527 & 32 & 16\\\\\n",
       "\t6 & 6 & all_features & 0.9886527 & 32 & 16\\\\\n",
       "\t7 & 7 & all_features & 0.9900276 & 35 & 24\\\\\n",
       "\t8 & 8 & all_features & 0.9893193 & 35 & 21\\\\\n",
       "\t9 & 9 & all_features & 0.9906956 & 37 & 26\\\\\n",
       "\t10 & 10 & all_features & 0.9886527 & 32 & 16\\\\\n",
       "\t11 & 1 & perm_affected & 0.9878589 & 29 & 9\\\\\n",
       "\t12 & 2 & perm_affected & 0.9872506 & 27 & 7\\\\\n",
       "\t13 & 3 & perm_affected & 0.9878589 & 29 & 9\\\\\n",
       "\t14 & 4 & perm_affected & 0.9861905 & 24 & 6\\\\\n",
       "\t15 & 5 & perm_affected & 0.9878589 & 29 & 9\\\\\n",
       "\t16 & 6 & perm_affected & 0.986694 & 26 & 6\\\\\n",
       "\t17 & 7 & perm_affected & 0.988372 & 30 & 10\\\\\n",
       "\t18 & 8 & perm_affected & 0.9878589 & 29 & 9\\\\\n",
       "\t19 & 9 & perm_affected & 0.9887996 & 31 & 10\\\\\n",
       "\t20 & 10 & perm_affected & 0.9872506 & 27 & 7\\\\\n",
       "\\end{tabular}\n"
      ],
      "text/plain": [
       "Source: local data frame [20 x 5]\n",
       "\n",
       "    seed   feature_set     auroc pos_coefs neg_coefs\n",
       "   (int)         (chr)     (dbl)     (int)     (int)\n",
       "1      1  all_features 0.9893193        35        21\n",
       "2      2  all_features 0.9880339        28        14\n",
       "3      3  all_features 0.9893193        35        21\n",
       "4      4  all_features 0.9874387        25        12\n",
       "5      5  all_features 0.9886527        32        16\n",
       "6      6  all_features 0.9886527        32        16\n",
       "7      7  all_features 0.9900276        35        24\n",
       "8      8  all_features 0.9893193        35        21\n",
       "9      9  all_features 0.9906956        37        26\n",
       "10    10  all_features 0.9886527        32        16\n",
       "11     1 perm_affected 0.9878589        29         9\n",
       "12     2 perm_affected 0.9872506        27         7\n",
       "13     3 perm_affected 0.9878589        29         9\n",
       "14     4 perm_affected 0.9861905        24         6\n",
       "15     5 perm_affected 0.9878589        29         9\n",
       "16     6 perm_affected 0.9866940        26         6\n",
       "17     7 perm_affected 0.9883720        30        10\n",
       "18     8 perm_affected 0.9878589        29         9\n",
       "19     9 perm_affected 0.9887996        31        10\n",
       "20    10 perm_affected 0.9872506        27         7"
      ]
     },
     "execution_count": 19,
     "metadata": {},
     "output_type": "execute_result"
    }
   ],
   "source": [
    "sweep_summary_df = do.call(rbind, lapply(results, function(x) {dplyr::data_frame(\n",
    "    seed = x$seed,\n",
    "    feature_set = x$feature_set,\n",
    "    auroc = x$fit$vtm$auroc,\n",
    "    pos_coefs = x$pos_coefs,\n",
    "    neg_coefs = x$neg_coefs\n",
    ")}))\n",
    "sweep_summary_df"
   ]
  },
  {
   "cell_type": "code",
   "execution_count": 23,
   "metadata": {
    "collapsed": false
   },
   "outputs": [
    {
     "data": {
      "text/html": [
       "<table>\n",
       "<thead><tr><th></th><th scope=col>feature_set</th><th scope=col>mean</th><th scope=col>sd</th></tr></thead>\n",
       "<tbody>\n",
       "\t<tr><th scope=row>1</th><td>all_features</td><td>0.9890112</td><td>0.0009409581</td></tr>\n",
       "\t<tr><th scope=row>2</th><td>perm_affected</td><td>0.9875993</td><td>0.000771347</td></tr>\n",
       "</tbody>\n",
       "</table>\n"
      ],
      "text/latex": [
       "\\begin{tabular}{r|lll}\n",
       "  & feature_set & mean & sd\\\\\n",
       "\\hline\n",
       "\t1 & all_features & 0.9890112 & 0.0009409581\\\\\n",
       "\t2 & perm_affected & 0.9875993 & 0.000771347\\\\\n",
       "\\end{tabular}\n"
      ],
      "text/plain": [
       "Source: local data frame [2 x 3]\n",
       "\n",
       "    feature_set      mean           sd\n",
       "          (chr)     (dbl)        (dbl)\n",
       "1  all_features 0.9890112 0.0009409581\n",
       "2 perm_affected 0.9875993 0.0007713470"
      ]
     },
     "execution_count": 23,
     "metadata": {},
     "output_type": "execute_result"
    }
   ],
   "source": [
    "sweep_summary_df %>%\n",
    "  dplyr::group_by(feature_set) %>%\n",
    "  dplyr::summarize(\n",
    "    mean = mean(auroc),\n",
    "    sd = sd(auroc)\n",
    "  )"
   ]
  },
  {
   "cell_type": "code",
   "execution_count": 25,
   "metadata": {
    "collapsed": false
   },
   "outputs": [
    {
     "name": "stderr",
     "output_type": "stream",
     "text": [
      "Joining by: \"feature\"\n"
     ]
    },
    {
     "data": {
      "text/html": [
       "<table>\n",
       "<thead><tr><th></th><th scope=col>feature</th><th scope=col>all_features</th><th scope=col>perm_affected</th><th scope=col>total</th><th scope=col>feature_type</th><th scope=col>nonzero</th><th scope=col>auroc</th><th scope=col>auroc_permuted</th><th scope=col>delta_auroc</th><th scope=col>pval_auroc</th><th scope=col>fdr_pval_auroc</th></tr></thead>\n",
       "<tbody>\n",
       "\t<tr><th scope=row>1</th><td>CbGaD</td><td>10</td><td>10</td><td>20</td><td>DWPC</td><td>0.23311</td><td>0.75173</td><td>0.64228</td><td>0.10944</td><td>8.416e-06</td><td>0.0014968</td></tr>\n",
       "\t<tr><th scope=row>2</th><td>CbGaDdGuD</td><td>10</td><td>0</td><td>10</td><td>DWPC</td><td>0.27709</td><td>0.65788</td><td>0.6515</td><td>0.0063834</td><td>0.31739</td><td>0.42494</td></tr>\n",
       "</tbody>\n",
       "</table>\n"
      ],
      "text/latex": [
       "\\begin{tabular}{r|lllllllllll}\n",
       "  & feature & all_features & perm_affected & total & feature_type & nonzero & auroc & auroc_permuted & delta_auroc & pval_auroc & fdr_pval_auroc\\\\\n",
       "\\hline\n",
       "\t1 & CbGaD & 10 & 10 & 20 & DWPC & 0.23311 & 0.75173 & 0.64228 & 0.10944 & 8.416e-06 & 0.0014968\\\\\n",
       "\t2 & CbGaDdGuD & 10 & 0 & 10 & DWPC & 0.27709 & 0.65788 & 0.6515 & 0.0063834 & 0.31739 & 0.42494\\\\\n",
       "\\end{tabular}\n"
      ],
      "text/plain": [
       "Source: local data frame [2 x 11]\n",
       "\n",
       "    feature all_features perm_affected total feature_type nonzero   auroc\n",
       "      (chr)        (dbl)         (dbl) (dbl)        (chr)   (dbl)   (dbl)\n",
       "1     CbGaD           10            10    20         DWPC 0.23311 0.75173\n",
       "2 CbGaDdGuD           10             0    10         DWPC 0.27709 0.65788\n",
       "Variables not shown: auroc_permuted (dbl), delta_auroc (dbl), pval_auroc (dbl),\n",
       "  fdr_pval_auroc (dbl)"
      ]
     },
     "execution_count": 25,
     "metadata": {},
     "output_type": "execute_result"
    }
   ],
   "source": [
    "sweep_coef_df = do.call(rbind, lapply(results, function(x) {x$coef_df}))\n",
    "sweep_feature_df = sweep_coef_df %>%\n",
    "  dplyr::group_by(feature, feature_set) %>%\n",
    "  dplyr::summarize(\n",
    "    count = n()\n",
    "  ) %>%\n",
    "  dplyr::ungroup() %>%\n",
    "  tidyr::spread(feature_set, count, fill=0) %>%\n",
    "  dplyr::mutate(total = all_features + perm_affected) %>%\n",
    "  dplyr::arrange(desc(all_features)) %>%\n",
    "  dplyr::left_join(auroc_df)\n",
    "head(sweep_feature_df, 2)"
   ]
  },
  {
   "cell_type": "code",
   "execution_count": 26,
   "metadata": {
    "collapsed": false
   },
   "outputs": [],
   "source": [
    "sweep_feature_df %>% readr::write_tsv('selection/sweep-features.tsv')\n",
    "sweep_coef_df %>% readr::write_tsv('selection/sweep-coefficients.tsv')\n",
    "sweep_summary_df %>% readr::write_tsv('selection/sweep-model-summaries.tsv')"
   ]
  },
  {
   "cell_type": "code",
   "execution_count": 27,
   "metadata": {
    "collapsed": false
   },
   "outputs": [
    {
     "data": {
      "text/html": [
       "76"
      ],
      "text/latex": [
       "76"
      ],
      "text/markdown": [
       "76"
      ],
      "text/plain": [
       "[1] 76"
      ]
     },
     "execution_count": 27,
     "metadata": {},
     "output_type": "execute_result"
    }
   ],
   "source": [
    "# Unique features\n",
    "nrow(sweep_feature_df)"
   ]
  },
  {
   "cell_type": "markdown",
   "metadata": {},
   "source": [
    "## Fit single model"
   ]
  },
  {
   "cell_type": "code",
   "execution_count": null,
   "metadata": {
    "collapsed": false
   },
   "outputs": [],
   "source": [
    "fit = hetior::glmnet_train(X = X, y = y, alpha = 1, cores=12)"
   ]
  },
  {
   "cell_type": "code",
   "execution_count": null,
   "metadata": {
    "collapsed": false
   },
   "outputs": [],
   "source": [
    "# coef_df = fit$coef_df %>%\n",
    "#   dplyr::filter(coef != 0) %>%\n",
    "#   dplyr::left_join(auroc_df)"
   ]
  },
  {
   "cell_type": "code",
   "execution_count": null,
   "metadata": {
    "collapsed": false
   },
   "outputs": [],
   "source": [
    "# table(coef_df$zcoef %>% sign())"
   ]
  },
  {
   "cell_type": "code",
   "execution_count": null,
   "metadata": {
    "collapsed": false,
    "scrolled": false
   },
   "outputs": [],
   "source": [
    "# coef_df %>%\n",
    "#   dplyr::mutate(feature = htmltools::htmlEscape(feature)) %>%\n",
    "#   dplyr::arrange(zcoef)"
   ]
  },
  {
   "cell_type": "code",
   "execution_count": null,
   "metadata": {
    "collapsed": false
   },
   "outputs": [],
   "source": [
    "fit$vtm$auroc"
   ]
  },
  {
   "cell_type": "code",
   "execution_count": null,
   "metadata": {
    "collapsed": false
   },
   "outputs": [],
   "source": [
    "fit$vtm$auprc"
   ]
  },
  {
   "cell_type": "code",
   "execution_count": null,
   "metadata": {
    "collapsed": false
   },
   "outputs": [],
   "source": [
    "hetior::get_tjur(y_true = fit$y, y_pred = fit$y_pred)"
   ]
  },
  {
   "cell_type": "code",
   "execution_count": null,
   "metadata": {
    "collapsed": false
   },
   "outputs": [],
   "source": [
    "pred_df = dwpc_mat_df[1:7]\n",
    "pred_df$prediction = fit$y_pred\n",
    "head(pred_df)"
   ]
  },
  {
   "cell_type": "code",
   "execution_count": null,
   "metadata": {
    "collapsed": true
   },
   "outputs": [],
   "source": []
  },
  {
   "cell_type": "code",
   "execution_count": null,
   "metadata": {
    "collapsed": false
   },
   "outputs": [],
   "source": [
    "pred_df %>%\n",
    "  ggplot2::ggplot(ggplot2::aes(prediction)) +\n",
    "  ggplot2::geom_histogram(binwidth=0.01)"
   ]
  },
  {
   "cell_type": "code",
   "execution_count": null,
   "metadata": {
    "collapsed": true
   },
   "outputs": [],
   "source": []
  },
  {
   "cell_type": "code",
   "execution_count": null,
   "metadata": {
    "collapsed": true
   },
   "outputs": [],
   "source": []
  },
  {
   "cell_type": "code",
   "execution_count": null,
   "metadata": {
    "collapsed": true
   },
   "outputs": [],
   "source": [
    "pred_df %>%\n",
    "  readr::write_tsv('data/predictions.tsv')"
   ]
  },
  {
   "cell_type": "code",
   "execution_count": null,
   "metadata": {
    "collapsed": false,
    "scrolled": true
   },
   "outputs": [],
   "source": [
    "tail(arrange(pred_df, prediction), 50)"
   ]
  },
  {
   "cell_type": "code",
   "execution_count": null,
   "metadata": {
    "collapsed": false
   },
   "outputs": [],
   "source": []
  },
  {
   "cell_type": "code",
   "execution_count": null,
   "metadata": {
    "collapsed": true
   },
   "outputs": [],
   "source": []
  }
 ],
 "metadata": {
  "kernelspec": {
   "display_name": "R",
   "language": "R",
   "name": "ir"
  },
  "language_info": {
   "codemirror_mode": "r",
   "file_extension": ".r",
   "mimetype": "text/x-r-source",
   "name": "R",
   "pygments_lexer": "r",
   "version": "3.2.2"
  }
 },
 "nbformat": 4,
 "nbformat_minor": 0
}
