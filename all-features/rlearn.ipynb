{
 "cells": [
  {
   "cell_type": "markdown",
   "metadata": {},
   "source": [
    "## LearnR\n",
    "\n",
    "Note that metapath names with `<` are [currently truncated](https://github.com/IRkernel/IRkernel/issues/286) in the notebook, unless they are specially HTML escaped."
   ]
  },
  {
   "cell_type": "code",
   "execution_count": null,
   "metadata": {
    "collapsed": false
   },
   "outputs": [],
   "source": [
    "library(dplyr, warn=F)"
   ]
  },
  {
   "cell_type": "code",
   "execution_count": null,
   "metadata": {
    "collapsed": true
   },
   "outputs": [],
   "source": [
    "set.seed(0)"
   ]
  },
  {
   "cell_type": "markdown",
   "metadata": {},
   "source": [
    "## Read datasets"
   ]
  },
  {
   "cell_type": "code",
   "execution_count": null,
   "metadata": {
    "collapsed": false
   },
   "outputs": [],
   "source": [
    "dwpc_mat_df = readr::read_tsv('data/matrix/hetio-ind/DWPC-spread.tsv.bz2')"
   ]
  },
  {
   "cell_type": "code",
   "execution_count": null,
   "metadata": {
    "collapsed": false
   },
   "outputs": [],
   "source": [
    "auroc_df = readr::read_tsv('data/auroc.tsv')\n",
    "#auroc_df = auroc_df %>% dplyr::filter(fdr_pval_auroc <= 0.05)\n",
    "head(auroc_df, 2)"
   ]
  },
  {
   "cell_type": "markdown",
   "metadata": {},
   "source": [
    "## Weighting"
   ]
  },
  {
   "cell_type": "code",
   "execution_count": null,
   "metadata": {
    "collapsed": false
   },
   "outputs": [],
   "source": [
    "n_compounds = readr::read_tsv('../summary/compounds.tsv') %>% nrow()\n",
    "n_diseases = readr::read_tsv('../summary/diseases.tsv') %>% nrow()\n",
    "n_pairs = n_compounds * n_diseases\n",
    "n_positives = sum(dwpc_mat_df$status == 1)\n",
    "n_negatives = sum(dwpc_mat_df$status == 0)\n",
    "c(n_pairs, n_positives, n_negatives)"
   ]
  },
  {
   "cell_type": "code",
   "execution_count": null,
   "metadata": {
    "collapsed": false
   },
   "outputs": [],
   "source": [
    "positive_weight = 1\n",
    "negative_weight = (n_pairs - n_positives) / n_negatives\n",
    "weight_map = list('0' = negative_weight, '1' = positive_weight)\n",
    "#weight_map = list('0' = 5, '1' = positive_weight)\n",
    "weight_map"
   ]
  },
  {
   "cell_type": "code",
   "execution_count": null,
   "metadata": {
    "collapsed": false
   },
   "outputs": [],
   "source": [
    "head(dwpc_mat_df, 2)"
   ]
  },
  {
   "cell_type": "code",
   "execution_count": null,
   "metadata": {
    "collapsed": false
   },
   "outputs": [],
   "source": [
    "features = auroc_df$feature\n",
    "X = dwpc_mat_df %>%\n",
    "  dplyr::select(one_of(features)) %>%\n",
    "  as.matrix()\n",
    "y = dwpc_mat_df$status\n",
    "w = as.numeric(weight_map[as.character(y)])\n",
    "sprintf(\"%s compound–disease pairs × %s features\", nrow(X), ncol(X))"
   ]
  },
  {
   "cell_type": "markdown",
   "metadata": {},
   "source": [
    "## Train model\n",
    "\n",
    "Weights are currently not working due to an error thrown by `glmnet::cv.glmnet` (presumably [this line](https://github.com/cran/glmnet/blob/b8b39029eae71958e9c7c382240b7696fde3eff1/R/cv.lognet.R#L53)):\n",
    "\n",
    "```\n",
    "Error in predmat[which, seq(nlami)] = preds: replacement has length zero\n",
    "```\n",
    "\n",
    "Thus logistic regression model is fit without weights."
   ]
  },
  {
   "cell_type": "markdown",
   "metadata": {},
   "source": [
    "## Parameter Sweep"
   ]
  },
  {
   "cell_type": "code",
   "execution_count": null,
   "metadata": {
    "collapsed": false
   },
   "outputs": [],
   "source": [
    "# param_df = dplyr::data_frame(seed = rep(1:10, each=2), measure = rep(c('deviance', 'auc'), 10))\n",
    "# param_df %>%\n",
    "#   dplyr::do()"
   ]
  },
  {
   "cell_type": "code",
   "execution_count": null,
   "metadata": {
    "collapsed": false
   },
   "outputs": [],
   "source": [
    "results = list()\n",
    "i = 1\n",
    "for (measure in c('deviance', 'auc')) {\n",
    "  for (seed in 1:10) {\n",
    "    elem = list(seed = seed, measure = measure)\n",
    "    elem$fit = hetior::glmnet_train(X = X, y = y, alpha = 1, cores=12, type.measure=measure, seed=seed)\n",
    "    elem$coef_df = elem$fit$coef_df %>%\n",
    "      dplyr::filter(zcoef != 0) %>%\n",
    "      dplyr::mutate(seed = seed, measure = measure)\n",
    "    elem$pos_coefs = sum(elem$coef_df$zcoef > 0)\n",
    "    elem$neg_coefs = sum(elem$coef_df$zcoef < 0)\n",
    "    results[[i]] = elem\n",
    "    i = i + 1\n",
    "  }\n",
    "}\n",
    "length(results)"
   ]
  },
  {
   "cell_type": "code",
   "execution_count": null,
   "metadata": {
    "collapsed": false
   },
   "outputs": [],
   "source": [
    "sweep_summary_df = do.call(rbind, lapply(results, function(x) {dplyr::data_frame(\n",
    "    seed = x$seed,\n",
    "    measure = x$measure,\n",
    "    auroc = x$fit$vtm$auroc,\n",
    "    pos_coefs = x$pos_coefs,\n",
    "    neg_coefs = x$neg_coefs\n",
    ")}))\n",
    "sweep_summary_df"
   ]
  },
  {
   "cell_type": "code",
   "execution_count": null,
   "metadata": {
    "collapsed": false
   },
   "outputs": [],
   "source": [
    "sweep_summary_df %>%\n",
    "  dplyr::group_by(measure) %>%\n",
    "  dplyr::summarize(mean(auroc))"
   ]
  },
  {
   "cell_type": "code",
   "execution_count": null,
   "metadata": {
    "collapsed": false
   },
   "outputs": [],
   "source": [
    "sweep_coef_df = do.call(rbind, lapply(results, function(x) {x$coef_df}))\n",
    "sweep_feature_df = sweep_coef_df %>%\n",
    "  dplyr::group_by(feature, measure) %>%\n",
    "  dplyr::summarize(\n",
    "    count = n()\n",
    "  ) %>%\n",
    "  dplyr::ungroup() %>%\n",
    "  tidyr::spread(measure, count, fill=0) %>%\n",
    "  dplyr::mutate(total = auc + deviance) %>%\n",
    "  dplyr::arrange(desc(deviance)) %>%\n",
    "  dplyr::left_join(auroc_df)\n",
    "head(sweep_feature_df, 2)"
   ]
  },
  {
   "cell_type": "code",
   "execution_count": null,
   "metadata": {
    "collapsed": false
   },
   "outputs": [],
   "source": [
    "sweep_feature_df %>% readr::write_tsv('selection/sweep-features.tsv')\n",
    "sweep_coef_df %>% readr::write_tsv('selection/sweep-coefficients.tsv')\n",
    "sweep_summary_df %>% readr::write_tsv('selection/sweep-model-summaries.tsv')"
   ]
  },
  {
   "cell_type": "code",
   "execution_count": null,
   "metadata": {
    "collapsed": false
   },
   "outputs": [],
   "source": [
    "# Unique features\n",
    "nrow(sweep_feature_df)"
   ]
  },
  {
   "cell_type": "markdown",
   "metadata": {},
   "source": [
    "## Fit single model"
   ]
  },
  {
   "cell_type": "code",
   "execution_count": null,
   "metadata": {
    "collapsed": false
   },
   "outputs": [],
   "source": [
    "fit = hetior::glmnet_train(X = X, y = y, alpha = 1, cores=12)"
   ]
  },
  {
   "cell_type": "code",
   "execution_count": null,
   "metadata": {
    "collapsed": false
   },
   "outputs": [],
   "source": [
    "# coef_df = fit$coef_df %>%\n",
    "#   dplyr::filter(coef != 0) %>%\n",
    "#   dplyr::left_join(auroc_df)"
   ]
  },
  {
   "cell_type": "code",
   "execution_count": null,
   "metadata": {
    "collapsed": false
   },
   "outputs": [],
   "source": [
    "# table(coef_df$zcoef %>% sign())"
   ]
  },
  {
   "cell_type": "code",
   "execution_count": null,
   "metadata": {
    "collapsed": false,
    "scrolled": false
   },
   "outputs": [],
   "source": [
    "# coef_df %>%\n",
    "#   dplyr::mutate(feature = htmltools::htmlEscape(feature)) %>%\n",
    "#   dplyr::arrange(zcoef)"
   ]
  },
  {
   "cell_type": "code",
   "execution_count": null,
   "metadata": {
    "collapsed": false
   },
   "outputs": [],
   "source": [
    "fit$vtm$auroc"
   ]
  },
  {
   "cell_type": "code",
   "execution_count": null,
   "metadata": {
    "collapsed": false
   },
   "outputs": [],
   "source": [
    "fit$vtm$auprc"
   ]
  },
  {
   "cell_type": "code",
   "execution_count": null,
   "metadata": {
    "collapsed": false
   },
   "outputs": [],
   "source": [
    "hetior::get_tjur(y_true = fit$y, y_pred = fit$y_pred)"
   ]
  },
  {
   "cell_type": "code",
   "execution_count": null,
   "metadata": {
    "collapsed": false
   },
   "outputs": [],
   "source": [
    "pred_df = dwpc_mat_df[1:7]\n",
    "pred_df$prediction = fit$y_pred\n",
    "head(pred_df)"
   ]
  },
  {
   "cell_type": "code",
   "execution_count": null,
   "metadata": {
    "collapsed": true
   },
   "outputs": [],
   "source": []
  },
  {
   "cell_type": "code",
   "execution_count": null,
   "metadata": {
    "collapsed": false
   },
   "outputs": [],
   "source": [
    "pred_df %>%\n",
    "  ggplot2::ggplot(ggplot2::aes(prediction)) +\n",
    "  ggplot2::geom_histogram(binwidth=0.01)"
   ]
  },
  {
   "cell_type": "code",
   "execution_count": null,
   "metadata": {
    "collapsed": true
   },
   "outputs": [],
   "source": []
  },
  {
   "cell_type": "code",
   "execution_count": null,
   "metadata": {
    "collapsed": true
   },
   "outputs": [],
   "source": []
  },
  {
   "cell_type": "code",
   "execution_count": null,
   "metadata": {
    "collapsed": true
   },
   "outputs": [],
   "source": [
    "pred_df %>%\n",
    "  readr::write_tsv('data/predictions.tsv')"
   ]
  },
  {
   "cell_type": "code",
   "execution_count": null,
   "metadata": {
    "collapsed": false,
    "scrolled": true
   },
   "outputs": [],
   "source": [
    "tail(arrange(pred_df, prediction), 50)"
   ]
  },
  {
   "cell_type": "code",
   "execution_count": null,
   "metadata": {
    "collapsed": false
   },
   "outputs": [],
   "source": []
  },
  {
   "cell_type": "code",
   "execution_count": null,
   "metadata": {
    "collapsed": true
   },
   "outputs": [],
   "source": []
  }
 ],
 "metadata": {
  "kernelspec": {
   "display_name": "R",
   "language": "R",
   "name": "ir"
  },
  "language_info": {
   "codemirror_mode": "r",
   "file_extension": ".r",
   "mimetype": "text/x-r-source",
   "name": "R",
   "pygments_lexer": "r",
   "version": "3.2.2"
  }
 },
 "nbformat": 4,
 "nbformat_minor": 0
}
