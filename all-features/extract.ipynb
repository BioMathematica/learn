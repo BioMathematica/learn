{
 "cells": [
  {
   "cell_type": "markdown",
   "metadata": {},
   "source": [
    "# Assign positives and negatives "
   ]
  },
  {
   "cell_type": "code",
   "execution_count": 1,
   "metadata": {
    "collapsed": true
   },
   "outputs": [],
   "source": [
    "import itertools\n",
    "import random\n",
    "import sys\n",
    "\n",
    "import py2neo\n",
    "import pandas"
   ]
  },
  {
   "cell_type": "markdown",
   "metadata": {},
   "source": [
    "## Startup neo4j and connections"
   ]
  },
  {
   "cell_type": "code",
   "execution_count": 4,
   "metadata": {
    "collapsed": false
   },
   "outputs": [],
   "source": [
    "# server.py script in directory containing neo4j instances\n",
    "directory = '../../construct/integrate/neo4j/'\n",
    "sys.path.insert(0, directory)\n",
    "import servers\n",
    "instances = servers.get_instances(directory)"
   ]
  },
  {
   "cell_type": "code",
   "execution_count": null,
   "metadata": {
    "collapsed": false
   },
   "outputs": [],
   "source": [
    "servers.start_all(instances)"
   ]
  },
  {
   "cell_type": "code",
   "execution_count": null,
   "metadata": {
    "collapsed": false
   },
   "outputs": [],
   "source": [
    "for instance in instances:\n",
    "    uri = 'http://localhost:{}/db/data/'.format(instance['port'])\n",
    "    instance['py2neo'] = py2neo.Graph(uri)"
   ]
  },
  {
   "cell_type": "markdown",
   "metadata": {},
   "source": [
    "## Compute features"
   ]
  },
  {
   "cell_type": "code",
   "execution_count": null,
   "metadata": {
    "collapsed": true
   },
   "outputs": [],
   "source": [
    "import threading\n",
    "import concurrent.futures\n",
    "import bz2\n",
    "import csv\n",
    "import time\n",
    "\n",
    "import pandas\n",
    "import py2neo\n",
    "\n",
    "import hetio.readwrite\n",
    "import hetio.neo4j"
   ]
  },
  {
   "cell_type": "code",
   "execution_count": null,
   "metadata": {
    "collapsed": true
   },
   "outputs": [],
   "source": [
    "# Read hetnet metagraph\n",
    "path = 'https://github.com/dhimmel/integrate/raw/d68b823bf2167e7ab7f0e784d1280200c33fb3bf/data/metagraph.json'\n",
    "metagraph = hetio.readwrite.read_metagraph(path)"
   ]
  },
  {
   "cell_type": "code",
   "execution_count": 29,
   "metadata": {
    "collapsed": true
   },
   "outputs": [],
   "source": [
    "# Cypher DWPC query parameters\n",
    "dwpc_query_options = {\n",
    "    'property': 'identifier',\n",
    "    'using': True,\n",
    "    'unique_nodes': 'labeled',\n",
    "}"
   ]
  },
  {
   "cell_type": "code",
   "execution_count": 30,
   "metadata": {
    "collapsed": true
   },
   "outputs": [],
   "source": [
    "## Todo: exclude metapaths with all 4 expression edges"
   ]
  },
  {
   "cell_type": "code",
   "execution_count": 31,
   "metadata": {
    "collapsed": false
   },
   "outputs": [
    {
     "data": {
      "text/plain": [
       "1198"
      ]
     },
     "execution_count": 31,
     "metadata": {},
     "output_type": "execute_result"
    }
   ],
   "source": [
    "# Extract metapaths\n",
    "metapaths = metagraph.extract_metapaths('compound', 'disease', max_length=4)\n",
    "metapaths = [metapath for metapath in metapaths if len(metapath) > 1]\n",
    "metapaths.sort(key=lambda x: [len(x), str(x)])\n",
    "metapath_query_tuples = [(str(metapath), hetio.neo4j.construct_dwpc_query(metapath, **dwpc_query_options)) for metapath in metapaths]\n",
    "len(metapaths)"
   ]
  },
  {
   "cell_type": "code",
   "execution_count": 32,
   "metadata": {
    "collapsed": false
   },
   "outputs": [
    {
     "data": {
      "text/plain": [
       "27134700"
      ]
     },
     "execution_count": 32,
     "metadata": {},
     "output_type": "execute_result"
    }
   ],
   "source": [
    "# Total number of queries\n",
    "total_queries = len(metapaths) * len(part_df)\n",
    "total_queries"
   ]
  },
  {
   "cell_type": "code",
   "execution_count": null,
   "metadata": {
    "collapsed": false
   },
   "outputs": [],
   "source": [
    "part_series = [row for i, row in part_df.iterrows()]\n",
    "\n",
    "def generate_parameters(max_elems=None):\n",
    "    \"\"\"Generate compound, disease, metapath combinations\"\"\"\n",
    "    n = 0\n",
    "    for metapath, query in metapath_query_tuples:\n",
    "        for series in part_series:\n",
    "            if max_elems is not None and n == max_elems:\n",
    "                break\n",
    "            yield {\n",
    "                'neo': series['neo'],\n",
    "                'hetnet': series['hetnet'],\n",
    "                'compound_id': series['compound_id'],\n",
    "                'disease_id': series['disease_id'],\n",
    "                'metapath': metapath,\n",
    "                'query': query,\n",
    "                'w': 0.4,\n",
    "            }\n",
    "            n += 1"
   ]
  },
  {
   "cell_type": "code",
   "execution_count": null,
   "metadata": {
    "collapsed": true
   },
   "outputs": [],
   "source": [
    "def compute_dwpc(neo, hetnet, query, metapath, compound_id, disease_id, w):\n",
    "    \"\"\"Execute the neo4j query and write results to file\"\"\"\n",
    "    start = time.time()\n",
    "    results = neo.cypher.execute(query, source=compound_id, target=disease_id, w=w)\n",
    "    record = results.one\n",
    "    seconds = '{0:.4g}'.format(time.time() - start)\n",
    "    row = hetnet, compound_id, disease_id, metapath, record['PC'], w, '{0:.6g}'.format(record['DWPC']), seconds\n",
    "    with writer_lock:\n",
    "        writer.writerow(row)"
   ]
  },
  {
   "cell_type": "code",
   "execution_count": null,
   "metadata": {
    "collapsed": false,
    "scrolled": false
   },
   "outputs": [],
   "source": [
    "%%time\n",
    "\n",
    "# Parameters\n",
    "workers = 12\n",
    "max_elems = None\n",
    "\n",
    "# Prepare writer\n",
    "path = 'data/all-features/dwpc.tsv.bz2'\n",
    "write_file = bz2.open(path, 'wt')\n",
    "writer = csv.writer(write_file, delimiter='\\t')\n",
    "writer.writerow(['hetnet', 'compound_id', 'disease_id', 'metapath', 'PC', 'w', 'DWPC', 'seconds'])\n",
    "\n",
    "# Create ThreadPoolExecutor\n",
    "executor = concurrent.futures.ThreadPoolExecutor(max_workers=workers)\n",
    "writer_lock = threading.Lock()\n",
    "\n",
    "# Submit jobs\n",
    "n_queries = 0\n",
    "for params in generate_parameters(max_elems):\n",
    "    while executor._work_queue.qsize() > 10000:\n",
    "        print('Submitted queries: {} ({:.4%})'.format(n_queries, n_queries / total_queries), end='\\r')\n",
    "        time.sleep(1)\n",
    "    executor.submit(compute_dwpc, **params)\n",
    "    n_queries += 1\n",
    "\n",
    "# Shutdown and close\n",
    "executor.shutdown()\n",
    "write_file.close()\n",
    "\n",
    "n_queries"
   ]
  },
  {
   "cell_type": "code",
   "execution_count": null,
   "metadata": {
    "collapsed": false
   },
   "outputs": [],
   "source": [
    "servers.stop_all(instances)"
   ]
  },
  {
   "cell_type": "code",
   "execution_count": 25,
   "metadata": {
    "collapsed": false
   },
   "outputs": [
    {
     "data": {
      "text/plain": [
       "13790205"
      ]
     },
     "execution_count": 25,
     "metadata": {},
     "output_type": "execute_result"
    }
   ],
   "source": [
    "n_queries"
   ]
  }
 ],
 "metadata": {
  "kernelspec": {
   "display_name": "Python 3",
   "language": "python",
   "name": "python3"
  },
  "language_info": {
   "codemirror_mode": {
    "name": "ipython",
    "version": 3
   },
   "file_extension": ".py",
   "mimetype": "text/x-python",
   "name": "python",
   "nbconvert_exporter": "python",
   "pygments_lexer": "ipython3",
   "version": "3.5.1"
  }
 },
 "nbformat": 4,
 "nbformat_minor": 0
}
