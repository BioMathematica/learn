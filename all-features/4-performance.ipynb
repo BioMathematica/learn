{
 "cells": [
  {
   "cell_type": "markdown",
   "metadata": {},
   "source": [
    "# Calculate the performonce on every feature"
   ]
  },
  {
   "cell_type": "code",
   "execution_count": 1,
   "metadata": {
    "collapsed": false
   },
   "outputs": [],
   "source": [
    "import bz2\n",
    "import os\n",
    "import re\n",
    "import math\n",
    "import configparser\n",
    "\n",
    "import pandas\n",
    "import sklearn.metrics\n",
    "import scipy.stats\n",
    "from statsmodels.sandbox.stats.multicomp import multipletests"
   ]
  },
  {
   "cell_type": "markdown",
   "metadata": {},
   "source": [
    "## Read features and partitions"
   ]
  },
  {
   "cell_type": "code",
   "execution_count": 2,
   "metadata": {
    "collapsed": false
   },
   "outputs": [
    {
     "data": {
      "text/html": [
       "<div>\n",
       "<table border=\"1\" class=\"dataframe\">\n",
       "  <thead>\n",
       "    <tr style=\"text-align: right;\">\n",
       "      <th></th>\n",
       "      <th>hetnet</th>\n",
       "      <th>compound_id</th>\n",
       "      <th>disease_id</th>\n",
       "      <th>status</th>\n",
       "    </tr>\n",
       "  </thead>\n",
       "  <tbody>\n",
       "    <tr>\n",
       "      <th>22648</th>\n",
       "      <td>rephetio-v2.0</td>\n",
       "      <td>DB08906</td>\n",
       "      <td>DOID:9970</td>\n",
       "      <td>0</td>\n",
       "    </tr>\n",
       "    <tr>\n",
       "      <th>22649</th>\n",
       "      <td>rephetio-v2.0_perm-2</td>\n",
       "      <td>DB08906</td>\n",
       "      <td>DOID:9970</td>\n",
       "      <td>0</td>\n",
       "    </tr>\n",
       "  </tbody>\n",
       "</table>\n",
       "</div>"
      ],
      "text/plain": [
       "                     hetnet compound_id disease_id  status\n",
       "22648         rephetio-v2.0     DB08906  DOID:9970       0\n",
       "22649  rephetio-v2.0_perm-2     DB08906  DOID:9970       0"
      ]
     },
     "execution_count": 2,
     "metadata": {},
     "output_type": "execute_result"
    }
   ],
   "source": [
    "# Read partition information\n",
    "part_df = pandas.read_table('data/partitions.tsv')\n",
    "part_df.tail(2)"
   ]
  },
  {
   "cell_type": "code",
   "execution_count": 3,
   "metadata": {
    "collapsed": false
   },
   "outputs": [
    {
     "data": {
      "text/html": [
       "<div>\n",
       "<table border=\"1\" class=\"dataframe\">\n",
       "  <thead>\n",
       "    <tr style=\"text-align: right;\">\n",
       "      <th></th>\n",
       "      <th>hetnet</th>\n",
       "      <th>compound_id</th>\n",
       "      <th>disease_id</th>\n",
       "      <th>feature</th>\n",
       "      <th>PC</th>\n",
       "      <th>w</th>\n",
       "      <th>value</th>\n",
       "      <th>seconds</th>\n",
       "      <th>feature_type</th>\n",
       "    </tr>\n",
       "  </thead>\n",
       "  <tbody>\n",
       "    <tr>\n",
       "      <th>27308956</th>\n",
       "      <td>rephetio-v2.0</td>\n",
       "      <td>DB08906</td>\n",
       "      <td>DOID:9970</td>\n",
       "      <td>CdGeAeGaD</td>\n",
       "      <td>0</td>\n",
       "      <td>0.4</td>\n",
       "      <td>0.0</td>\n",
       "      <td>0.004798</td>\n",
       "      <td>DWPC</td>\n",
       "    </tr>\n",
       "    <tr>\n",
       "      <th>27308957</th>\n",
       "      <td>rephetio-v2.0_perm-2</td>\n",
       "      <td>DB08906</td>\n",
       "      <td>DOID:9970</td>\n",
       "      <td>CdGeAeGaD</td>\n",
       "      <td>0</td>\n",
       "      <td>0.4</td>\n",
       "      <td>0.0</td>\n",
       "      <td>0.252900</td>\n",
       "      <td>DWPC</td>\n",
       "    </tr>\n",
       "  </tbody>\n",
       "</table>\n",
       "</div>"
      ],
      "text/plain": [
       "                        hetnet compound_id disease_id    feature  PC    w  \\\n",
       "27308956         rephetio-v2.0     DB08906  DOID:9970  CdGeAeGaD   0  0.4   \n",
       "27308957  rephetio-v2.0_perm-2     DB08906  DOID:9970  CdGeAeGaD   0  0.4   \n",
       "\n",
       "          value   seconds feature_type  \n",
       "27308956    0.0  0.004798         DWPC  \n",
       "27308957    0.0  0.252900         DWPC  "
      ]
     },
     "execution_count": 3,
     "metadata": {},
     "output_type": "execute_result"
    }
   ],
   "source": [
    "# Read DWPC results\n",
    "dwpc_df = pandas.read_table('data/dwpc.tsv.bz2')\n",
    "dwpc_df = dwpc_df.rename(columns={'metapath': 'feature', 'DWPC': 'value'})\n",
    "dwpc_df['feature_type'] = 'DWPC'\n",
    "dwpc_df.tail(2)"
   ]
  },
  {
   "cell_type": "code",
   "execution_count": 4,
   "metadata": {
    "collapsed": false,
    "scrolled": true
   },
   "outputs": [],
   "source": [
    "config = configparser.ConfigParser()\n",
    "config.read('../config.ini')\n",
    "commit = config['hetnet']['integrate_commit']\n",
    "\n",
    "url = 'https://github.com/dhimmel/integrate/raw/{}/data/summary/degrees.xlsx'.format(commit)\n",
    "disease_degree_df = pandas.read_excel(url, sheetname='Disease')\n",
    "disease_degree_df = disease_degree_df.rename(columns={'node_id': 'disease_id'}).drop('node_name', axis='columns')\n",
    "compound_degree_df = pandas.read_excel(url, sheetname='Compound')\n",
    "compound_degree_df = compound_degree_df.rename(columns={'node_id': 'compound_id'}).drop('node_name', axis='columns')\n",
    "\n",
    "url = 'https://github.com/dhimmel/integrate/raw/{}/data/summary/metaedge-styles.tsv'.format(commit)\n",
    "metaedge_style_df = pandas.read_table(url)\n",
    "metaedge_to_abbreviation = dict(zip(metaedge_style_df.metaedge, metaedge_style_df.abbreviation))"
   ]
  },
  {
   "cell_type": "code",
   "execution_count": 5,
   "metadata": {
    "collapsed": false,
    "scrolled": true
   },
   "outputs": [
    {
     "data": {
      "text/html": [
       "<div>\n",
       "<table border=\"1\" class=\"dataframe\">\n",
       "  <thead>\n",
       "    <tr style=\"text-align: right;\">\n",
       "      <th></th>\n",
       "      <th>hetnet</th>\n",
       "      <th>compound_id</th>\n",
       "      <th>disease_id</th>\n",
       "      <th>feature</th>\n",
       "      <th>value</th>\n",
       "      <th>feature_type</th>\n",
       "    </tr>\n",
       "  </thead>\n",
       "  <tbody>\n",
       "    <tr>\n",
       "      <th>362398</th>\n",
       "      <td>rephetio-v2.0_perm-4</td>\n",
       "      <td>DB08882</td>\n",
       "      <td>DOID:8778</td>\n",
       "      <td>DuG</td>\n",
       "      <td>250</td>\n",
       "      <td>degree</td>\n",
       "    </tr>\n",
       "    <tr>\n",
       "      <th>362399</th>\n",
       "      <td>rephetio-v2.0_perm-5</td>\n",
       "      <td>DB08906</td>\n",
       "      <td>DOID:8778</td>\n",
       "      <td>DuG</td>\n",
       "      <td>250</td>\n",
       "      <td>degree</td>\n",
       "    </tr>\n",
       "  </tbody>\n",
       "</table>\n",
       "</div>"
      ],
      "text/plain": [
       "                      hetnet compound_id disease_id feature  value  \\\n",
       "362398  rephetio-v2.0_perm-4     DB08882  DOID:8778     DuG    250   \n",
       "362399  rephetio-v2.0_perm-5     DB08906  DOID:8778     DuG    250   \n",
       "\n",
       "       feature_type  \n",
       "362398       degree  \n",
       "362399       degree  "
      ]
     },
     "execution_count": 5,
     "metadata": {},
     "output_type": "execute_result"
    }
   ],
   "source": [
    "degree_df = part_df.merge(compound_degree_df).merge(disease_degree_df)\n",
    "degree_vars = list(compound_degree_df.columns[1:]) + list(disease_degree_df.columns[1:])\n",
    "degree_df = pandas.melt(degree_df, id_vars=['hetnet', 'compound_id', 'disease_id'],\n",
    "    value_vars=degree_vars, var_name='feature')\n",
    "degree_df['feature'] = degree_df['feature'].map(metaedge_to_abbreviation)\n",
    "degree_df['feature_type'] = 'degree'\n",
    "degree_df.tail(2)"
   ]
  },
  {
   "cell_type": "code",
   "execution_count": 6,
   "metadata": {
    "collapsed": false
   },
   "outputs": [
    {
     "data": {
      "text/html": [
       "<div>\n",
       "<table border=\"1\" class=\"dataframe\">\n",
       "  <thead>\n",
       "    <tr style=\"text-align: right;\">\n",
       "      <th></th>\n",
       "      <th>hetnet</th>\n",
       "      <th>compound_id</th>\n",
       "      <th>disease_id</th>\n",
       "      <th>status</th>\n",
       "      <th>PC</th>\n",
       "      <th>feature</th>\n",
       "      <th>feature_type</th>\n",
       "      <th>seconds</th>\n",
       "      <th>value</th>\n",
       "      <th>w</th>\n",
       "    </tr>\n",
       "  </thead>\n",
       "  <tbody>\n",
       "    <tr>\n",
       "      <th>0</th>\n",
       "      <td>rephetio-v2.0</td>\n",
       "      <td>DB00014</td>\n",
       "      <td>DOID:0050741</td>\n",
       "      <td>0</td>\n",
       "      <td>NaN</td>\n",
       "      <td>CbG</td>\n",
       "      <td>degree</td>\n",
       "      <td>NaN</td>\n",
       "      <td>2.0</td>\n",
       "      <td>NaN</td>\n",
       "    </tr>\n",
       "    <tr>\n",
       "      <th>1</th>\n",
       "      <td>rephetio-v2.0</td>\n",
       "      <td>DB00014</td>\n",
       "      <td>DOID:0050741</td>\n",
       "      <td>0</td>\n",
       "      <td>NaN</td>\n",
       "      <td>CcSE</td>\n",
       "      <td>degree</td>\n",
       "      <td>NaN</td>\n",
       "      <td>249.0</td>\n",
       "      <td>NaN</td>\n",
       "    </tr>\n",
       "  </tbody>\n",
       "</table>\n",
       "</div>"
      ],
      "text/plain": [
       "          hetnet compound_id    disease_id  status  PC feature feature_type  \\\n",
       "0  rephetio-v2.0     DB00014  DOID:0050741       0 NaN     CbG       degree   \n",
       "1  rephetio-v2.0     DB00014  DOID:0050741       0 NaN    CcSE       degree   \n",
       "\n",
       "   seconds  value   w  \n",
       "0      NaN    2.0 NaN  \n",
       "1      NaN  249.0 NaN  "
      ]
     },
     "execution_count": 6,
     "metadata": {},
     "output_type": "execute_result"
    }
   ],
   "source": [
    "feature_df = part_df.merge(pandas.concat([degree_df, dwpc_df]))\n",
    "feature_df.head(2)"
   ]
  },
  {
   "cell_type": "markdown",
   "metadata": {},
   "source": [
    "## Compute performance"
   ]
  },
  {
   "cell_type": "code",
   "execution_count": 7,
   "metadata": {
    "collapsed": false
   },
   "outputs": [],
   "source": [
    "def compute_metrics(df):\n",
    "    y_true = df['status']\n",
    "    y_score = df['value']\n",
    "    series = pandas.Series()\n",
    "    series['nonzero'] = (y_score > 0).mean()\n",
    "    series['auroc'] = sklearn.metrics.roc_auc_score(y_true, y_score)\n",
    "    series['auprc'] = sklearn.metrics.average_precision_score(y_true, y_score)\n",
    "    return series\n",
    "\n",
    "auc_df = feature_df.groupby(['hetnet', 'feature_type', 'feature']).apply(compute_metrics).reset_index()\n",
    "auc_df['permuted'] = auc_df.hetnet.str.contains('_perm').astype(int)"
   ]
  },
  {
   "cell_type": "code",
   "execution_count": 8,
   "metadata": {
    "collapsed": false
   },
   "outputs": [
    {
     "data": {
      "text/html": [
       "<div>\n",
       "<table border=\"1\" class=\"dataframe\">\n",
       "  <thead>\n",
       "    <tr style=\"text-align: right;\">\n",
       "      <th></th>\n",
       "      <th>hetnet</th>\n",
       "      <th>feature_type</th>\n",
       "      <th>feature</th>\n",
       "      <th>nonzero</th>\n",
       "      <th>auroc</th>\n",
       "      <th>auprc</th>\n",
       "      <th>permuted</th>\n",
       "    </tr>\n",
       "  </thead>\n",
       "  <tbody>\n",
       "    <tr>\n",
       "      <th>0</th>\n",
       "      <td>rephetio-v2.0</td>\n",
       "      <td>DWPC</td>\n",
       "      <td>CbG&lt;rG&lt;rGaD</td>\n",
       "      <td>0.841854</td>\n",
       "      <td>0.641607</td>\n",
       "      <td>0.329948</td>\n",
       "      <td>0</td>\n",
       "    </tr>\n",
       "    <tr>\n",
       "      <th>1</th>\n",
       "      <td>rephetio-v2.0</td>\n",
       "      <td>DWPC</td>\n",
       "      <td>CbG&lt;rG&lt;rGdD</td>\n",
       "      <td>0.379073</td>\n",
       "      <td>0.582892</td>\n",
       "      <td>0.280091</td>\n",
       "      <td>0</td>\n",
       "    </tr>\n",
       "  </tbody>\n",
       "</table>\n",
       "</div>"
      ],
      "text/plain": [
       "          hetnet feature_type      feature   nonzero     auroc     auprc  \\\n",
       "0  rephetio-v2.0         DWPC  CbG<rG<rGaD  0.841854  0.641607  0.329948   \n",
       "1  rephetio-v2.0         DWPC  CbG<rG<rGdD  0.379073  0.582892  0.280091   \n",
       "\n",
       "   permuted  \n",
       "0         0  \n",
       "1         0  "
      ]
     },
     "execution_count": 8,
     "metadata": {},
     "output_type": "execute_result"
    }
   ],
   "source": [
    "auc_df.head(2)"
   ]
  },
  {
   "cell_type": "code",
   "execution_count": 9,
   "metadata": {
    "collapsed": false
   },
   "outputs": [],
   "source": [
    "def compare_permutation(df):\n",
    "    unperm = df.query(\"permuted == 0\").iloc[0, :]\n",
    "    perm_df = df.query(\"permuted == 1\")\n",
    "    series = pandas.Series()\n",
    "    series['nonzero'] = unperm['nonzero']\n",
    "    series['auroc'] = unperm.auroc\n",
    "    series['auroc_permuted'] = perm_df.auroc.mean()\n",
    "    series['delta_auroc'] = series['auroc'] - series['auroc_permuted']\n",
    "    ttest = scipy.stats.ttest_1samp(perm_df.auroc, unperm.auroc)\n",
    "    pvalue = ttest.pvalue\n",
    "    series['pval_auroc'] = pvalue\n",
    "    #series['nlog10_pval_auroc'] = -math.log10(pvalue)\n",
    "    return(series)\n",
    "\n",
    "compare_df = auc_df.groupby(['feature_type', 'feature']).apply(compare_permutation).reset_index()\n",
    "reject, compare_df['fdr_pval_auroc'], alphacSidak, alphacBonf = multipletests(\n",
    "    pvals=compare_df.pval_auroc, method='fdr_bh')\n",
    "compare_df = compare_df.sort_values('feature')"
   ]
  },
  {
   "cell_type": "code",
   "execution_count": 10,
   "metadata": {
    "collapsed": false
   },
   "outputs": [
    {
     "data": {
      "text/html": [
       "<div>\n",
       "<table border=\"1\" class=\"dataframe\">\n",
       "  <thead>\n",
       "    <tr style=\"text-align: right;\">\n",
       "      <th></th>\n",
       "      <th>feature_type</th>\n",
       "      <th>feature</th>\n",
       "      <th>nonzero</th>\n",
       "      <th>auroc</th>\n",
       "      <th>auroc_permuted</th>\n",
       "      <th>delta_auroc</th>\n",
       "      <th>pval_auroc</th>\n",
       "      <th>fdr_pval_auroc</th>\n",
       "    </tr>\n",
       "  </thead>\n",
       "  <tbody>\n",
       "    <tr>\n",
       "      <th>1219</th>\n",
       "      <td>degree</td>\n",
       "      <td>DrD</td>\n",
       "      <td>0.964238</td>\n",
       "      <td>0.478469</td>\n",
       "      <td>0.467968</td>\n",
       "      <td>0.010501</td>\n",
       "      <td>0.001071</td>\n",
       "      <td>0.007565</td>\n",
       "    </tr>\n",
       "    <tr>\n",
       "      <th>1220</th>\n",
       "      <td>degree</td>\n",
       "      <td>DtC</td>\n",
       "      <td>1.000000</td>\n",
       "      <td>0.755264</td>\n",
       "      <td>0.764825</td>\n",
       "      <td>-0.009561</td>\n",
       "      <td>0.008591</td>\n",
       "      <td>0.030343</td>\n",
       "    </tr>\n",
       "    <tr>\n",
       "      <th>1221</th>\n",
       "      <td>degree</td>\n",
       "      <td>DuG</td>\n",
       "      <td>0.500397</td>\n",
       "      <td>0.578677</td>\n",
       "      <td>0.581485</td>\n",
       "      <td>-0.002808</td>\n",
       "      <td>0.095563</td>\n",
       "      <td>0.168269</td>\n",
       "    </tr>\n",
       "  </tbody>\n",
       "</table>\n",
       "</div>"
      ],
      "text/plain": [
       "     feature_type feature   nonzero     auroc  auroc_permuted  delta_auroc  \\\n",
       "1219       degree     DrD  0.964238  0.478469        0.467968     0.010501   \n",
       "1220       degree     DtC  1.000000  0.755264        0.764825    -0.009561   \n",
       "1221       degree     DuG  0.500397  0.578677        0.581485    -0.002808   \n",
       "\n",
       "      pval_auroc  fdr_pval_auroc  \n",
       "1219    0.001071        0.007565  \n",
       "1220    0.008591        0.030343  \n",
       "1221    0.095563        0.168269  "
      ]
     },
     "execution_count": 10,
     "metadata": {},
     "output_type": "execute_result"
    }
   ],
   "source": [
    "compare_df.tail(3)"
   ]
  },
  {
   "cell_type": "code",
   "execution_count": 11,
   "metadata": {
    "collapsed": false
   },
   "outputs": [
    {
     "data": {
      "text/plain": [
       "1222"
      ]
     },
     "execution_count": 11,
     "metadata": {},
     "output_type": "execute_result"
    }
   ],
   "source": [
    "len(compare_df)"
   ]
  },
  {
   "cell_type": "code",
   "execution_count": 12,
   "metadata": {
    "collapsed": false
   },
   "outputs": [
    {
     "data": {
      "text/html": [
       "<div>\n",
       "<table border=\"1\" class=\"dataframe\">\n",
       "  <thead>\n",
       "    <tr style=\"text-align: right;\">\n",
       "      <th></th>\n",
       "      <th>feature_type</th>\n",
       "      <th>feature</th>\n",
       "      <th>nonzero</th>\n",
       "      <th>auroc</th>\n",
       "      <th>auroc_permuted</th>\n",
       "      <th>delta_auroc</th>\n",
       "      <th>pval_auroc</th>\n",
       "      <th>fdr_pval_auroc</th>\n",
       "    </tr>\n",
       "  </thead>\n",
       "  <tbody>\n",
       "    <tr>\n",
       "      <th>529</th>\n",
       "      <td>DWPC</td>\n",
       "      <td>CiPCiCtD</td>\n",
       "      <td>0.133510</td>\n",
       "      <td>0.755451</td>\n",
       "      <td>0.524214</td>\n",
       "      <td>0.231238</td>\n",
       "      <td>1.746641e-08</td>\n",
       "      <td>0.000021</td>\n",
       "    </tr>\n",
       "    <tr>\n",
       "      <th>815</th>\n",
       "      <td>DWPC</td>\n",
       "      <td>CtDaGaD</td>\n",
       "      <td>0.855629</td>\n",
       "      <td>0.610896</td>\n",
       "      <td>0.494765</td>\n",
       "      <td>0.116132</td>\n",
       "      <td>9.921392e-08</td>\n",
       "      <td>0.000045</td>\n",
       "    </tr>\n",
       "    <tr>\n",
       "      <th>779</th>\n",
       "      <td>DWPC</td>\n",
       "      <td>CrCtDrDrD</td>\n",
       "      <td>0.278940</td>\n",
       "      <td>0.634317</td>\n",
       "      <td>0.499921</td>\n",
       "      <td>0.134396</td>\n",
       "      <td>1.093963e-07</td>\n",
       "      <td>0.000045</td>\n",
       "    </tr>\n",
       "    <tr>\n",
       "      <th>767</th>\n",
       "      <td>DWPC</td>\n",
       "      <td>CrCtD</td>\n",
       "      <td>0.123974</td>\n",
       "      <td>0.749600</td>\n",
       "      <td>0.524350</td>\n",
       "      <td>0.225250</td>\n",
       "      <td>2.356989e-07</td>\n",
       "      <td>0.000072</td>\n",
       "    </tr>\n",
       "    <tr>\n",
       "      <th>55</th>\n",
       "      <td>DWPC</td>\n",
       "      <td>CbGbCtD</td>\n",
       "      <td>0.729801</td>\n",
       "      <td>0.866665</td>\n",
       "      <td>0.667216</td>\n",
       "      <td>0.199448</td>\n",
       "      <td>2.998519e-07</td>\n",
       "      <td>0.000073</td>\n",
       "    </tr>\n",
       "  </tbody>\n",
       "</table>\n",
       "</div>"
      ],
      "text/plain": [
       "    feature_type    feature   nonzero     auroc  auroc_permuted  delta_auroc  \\\n",
       "529         DWPC   CiPCiCtD  0.133510  0.755451        0.524214     0.231238   \n",
       "815         DWPC    CtDaGaD  0.855629  0.610896        0.494765     0.116132   \n",
       "779         DWPC  CrCtDrDrD  0.278940  0.634317        0.499921     0.134396   \n",
       "767         DWPC      CrCtD  0.123974  0.749600        0.524350     0.225250   \n",
       "55          DWPC    CbGbCtD  0.729801  0.866665        0.667216     0.199448   \n",
       "\n",
       "       pval_auroc  fdr_pval_auroc  \n",
       "529  1.746641e-08        0.000021  \n",
       "815  9.921392e-08        0.000045  \n",
       "779  1.093963e-07        0.000045  \n",
       "767  2.356989e-07        0.000072  \n",
       "55   2.998519e-07        0.000073  "
      ]
     },
     "execution_count": 12,
     "metadata": {},
     "output_type": "execute_result"
    }
   ],
   "source": [
    "compare_df.sort_values('pval_auroc', ascending=True).head(5)"
   ]
  },
  {
   "cell_type": "code",
   "execution_count": 13,
   "metadata": {
    "collapsed": true
   },
   "outputs": [],
   "source": [
    "# Save datasets\n",
    "auc_df.to_csv('data/auc.tsv', sep='\\t', index=False, float_format='%.5g')\n",
    "compare_df.to_csv('data/auroc.tsv', sep='\\t', index=False, float_format='%.5g')"
   ]
  },
  {
   "cell_type": "markdown",
   "metadata": {},
   "source": [
    "## Create matrix"
   ]
  },
  {
   "cell_type": "code",
   "execution_count": 14,
   "metadata": {
    "collapsed": true
   },
   "outputs": [],
   "source": [
    "# Read compound and disease degrees\n",
    "compound_df = pandas.read_table('../summary/compounds.tsv')\n",
    "compound_df = compound_df.iloc[:, :2]\n",
    "disease_df = pandas.read_table('../summary/diseases.tsv')\n",
    "disease_df = disease_df.iloc[:, :2]"
   ]
  },
  {
   "cell_type": "code",
   "execution_count": 15,
   "metadata": {
    "collapsed": false
   },
   "outputs": [
    {
     "name": "stdout",
     "output_type": "stream",
     "text": [
      "rephetio-v2.0\n",
      "rephetio-v2.0_perm-5\n",
      "rephetio-v2.0_perm-1\n",
      "rephetio-v2.0_perm-3\n",
      "rephetio-v2.0_perm-2\n",
      "rephetio-v2.0_perm-4\n"
     ]
    }
   ],
   "source": [
    "# Create spread dataframes\n",
    "# compound-disease pairs as rows, metapaths as columns\n",
    "for hetnet in feature_df.hetnet.unique():\n",
    "    print(hetnet)\n",
    "    df = part_df.merge(feature_df.query(\"hetnet == @hetnet\"))\n",
    "    df = pandas.pivot_table(df, values='value', index=['compound_id', 'disease_id', 'status'], columns='feature')\n",
    "    df = df.reset_index()\n",
    "    df = compound_df.merge(disease_df.merge(df))\n",
    "    for feature in compare_df.query(\"feature_type == 'degree'\").feature:\n",
    "        df[feature] = df[feature].astype(int)\n",
    "    directory = 'data/matrix/{}'.format(hetnet)\n",
    "    if not os.path.exists(directory):\n",
    "        os.mkdir(directory)\n",
    "    filename = 'features.tsv.bz2'\n",
    "    path = os.path.join(directory, filename)\n",
    "    with bz2.open(path, 'wt') as wf:\n",
    "        df.to_csv(wf, index=False, sep='\\t')"
   ]
  },
  {
   "cell_type": "code",
   "execution_count": 16,
   "metadata": {
    "collapsed": false
   },
   "outputs": [
    {
     "data": {
      "text/html": [
       "<div>\n",
       "<table border=\"1\" class=\"dataframe\">\n",
       "  <thead>\n",
       "    <tr style=\"text-align: right;\">\n",
       "      <th></th>\n",
       "      <th>compound_id</th>\n",
       "      <th>compound_name</th>\n",
       "      <th>disease_id</th>\n",
       "      <th>disease_name</th>\n",
       "      <th>status</th>\n",
       "      <th>CbG</th>\n",
       "      <th>CbG&lt;rG&lt;rGaD</th>\n",
       "      <th>CbG&lt;rG&lt;rGdD</th>\n",
       "      <th>CbG&lt;rG&lt;rGuD</th>\n",
       "      <th>CbG&lt;rGaD</th>\n",
       "      <th>...</th>\n",
       "      <th>CuGuDuGdD</th>\n",
       "      <th>CuGuDuGuD</th>\n",
       "      <th>DaG</th>\n",
       "      <th>DdG</th>\n",
       "      <th>DlA</th>\n",
       "      <th>DpC</th>\n",
       "      <th>DpS</th>\n",
       "      <th>DrD</th>\n",
       "      <th>DtC</th>\n",
       "      <th>DuG</th>\n",
       "    </tr>\n",
       "  </thead>\n",
       "  <tbody>\n",
       "    <tr>\n",
       "      <th>0</th>\n",
       "      <td>DB01048</td>\n",
       "      <td>Abacavir</td>\n",
       "      <td>DOID:5408</td>\n",
       "      <td>Paget's disease of bone</td>\n",
       "      <td>0</td>\n",
       "      <td>3</td>\n",
       "      <td>0.0</td>\n",
       "      <td>0.0</td>\n",
       "      <td>0.0</td>\n",
       "      <td>0.0</td>\n",
       "      <td>...</td>\n",
       "      <td>0.0</td>\n",
       "      <td>0.0</td>\n",
       "      <td>16</td>\n",
       "      <td>0</td>\n",
       "      <td>26</td>\n",
       "      <td>0</td>\n",
       "      <td>22</td>\n",
       "      <td>6</td>\n",
       "      <td>6</td>\n",
       "      <td>0</td>\n",
       "    </tr>\n",
       "    <tr>\n",
       "      <th>1</th>\n",
       "      <td>DB01048</td>\n",
       "      <td>Abacavir</td>\n",
       "      <td>DOID:2841</td>\n",
       "      <td>asthma</td>\n",
       "      <td>0</td>\n",
       "      <td>3</td>\n",
       "      <td>0.0</td>\n",
       "      <td>0.0</td>\n",
       "      <td>0.0</td>\n",
       "      <td>0.0</td>\n",
       "      <td>...</td>\n",
       "      <td>0.0</td>\n",
       "      <td>0.0</td>\n",
       "      <td>222</td>\n",
       "      <td>0</td>\n",
       "      <td>23</td>\n",
       "      <td>3</td>\n",
       "      <td>26</td>\n",
       "      <td>3</td>\n",
       "      <td>37</td>\n",
       "      <td>4</td>\n",
       "    </tr>\n",
       "  </tbody>\n",
       "</table>\n",
       "<p>2 rows × 1227 columns</p>\n",
       "</div>"
      ],
      "text/plain": [
       "  compound_id compound_name disease_id             disease_name  status  CbG  \\\n",
       "0     DB01048      Abacavir  DOID:5408  Paget's disease of bone       0    3   \n",
       "1     DB01048      Abacavir  DOID:2841                   asthma       0    3   \n",
       "\n",
       "   CbG<rG<rGaD  CbG<rG<rGdD  CbG<rG<rGuD  CbG<rGaD ...   CuGuDuGdD  CuGuDuGuD  \\\n",
       "0          0.0          0.0          0.0       0.0 ...         0.0        0.0   \n",
       "1          0.0          0.0          0.0       0.0 ...         0.0        0.0   \n",
       "\n",
       "   DaG  DdG  DlA  DpC  DpS  DrD  DtC  DuG  \n",
       "0   16    0   26    0   22    6    6    0  \n",
       "1  222    0   23    3   26    3   37    4  \n",
       "\n",
       "[2 rows x 1227 columns]"
      ]
     },
     "execution_count": 16,
     "metadata": {},
     "output_type": "execute_result"
    }
   ],
   "source": [
    "df.head(2)"
   ]
  }
 ],
 "metadata": {
  "kernelspec": {
   "display_name": "Python 3",
   "language": "python",
   "name": "python3"
  },
  "language_info": {
   "codemirror_mode": {
    "name": "ipython",
    "version": 3
   },
   "file_extension": ".py",
   "mimetype": "text/x-python",
   "name": "python",
   "nbconvert_exporter": "python",
   "pygments_lexer": "ipython3",
   "version": "3.5.1"
  }
 },
 "nbformat": 4,
 "nbformat_minor": 0
}
