{
 "cells": [
  {
   "cell_type": "markdown",
   "metadata": {},
   "source": [
    "# Convenience notebook for creating a table of select interesting features"
   ]
  },
  {
   "cell_type": "code",
   "execution_count": 13,
   "metadata": {
    "collapsed": true
   },
   "outputs": [],
   "source": [
    "import pandas\n",
    "import numpy"
   ]
  },
  {
   "cell_type": "code",
   "execution_count": 37,
   "metadata": {
    "collapsed": false
   },
   "outputs": [],
   "source": [
    "auroc_df = pandas.read_table('./data/feature-performance/auroc.tsv')\n",
    "auroc_df.set_index('metapath', drop=False, inplace=True)\n",
    "auroc_df['nlog10_pval_delta_auroc'] = -numpy.log10(auroc_df['pval_delta_auroc'])"
   ]
  },
  {
   "cell_type": "code",
   "execution_count": 47,
   "metadata": {
    "collapsed": false
   },
   "outputs": [
    {
     "data": {
      "text/html": [
       "<div>\n",
       "<table border=\"1\" class=\"dataframe\">\n",
       "  <thead>\n",
       "    <tr style=\"text-align: right;\">\n",
       "      <th></th>\n",
       "      <th>Metapath</th>\n",
       "      <th>Δ AUROC</th>\n",
       "      <th>−log10(p)</th>\n",
       "    </tr>\n",
       "    <tr>\n",
       "      <th>metapath</th>\n",
       "      <th></th>\n",
       "      <th></th>\n",
       "      <th></th>\n",
       "    </tr>\n",
       "  </thead>\n",
       "  <tbody>\n",
       "    <tr>\n",
       "      <th>CbGaD</th>\n",
       "      <td>CbGaD</td>\n",
       "      <td>14.5%</td>\n",
       "      <td>6.2</td>\n",
       "    </tr>\n",
       "    <tr>\n",
       "      <th>CbGiGaD</th>\n",
       "      <td>CbGiGaD</td>\n",
       "      <td>9.0%</td>\n",
       "      <td>4.4</td>\n",
       "    </tr>\n",
       "    <tr>\n",
       "      <th>CbGiGiGaD</th>\n",
       "      <td>CbGiGiGaD</td>\n",
       "      <td>7.0%</td>\n",
       "      <td>5.1</td>\n",
       "    </tr>\n",
       "    <tr>\n",
       "      <th>CbGpPWpGaD</th>\n",
       "      <td>CbGpPWpGaD</td>\n",
       "      <td>7.6%</td>\n",
       "      <td>7.9</td>\n",
       "    </tr>\n",
       "    <tr>\n",
       "      <th>CbGpBPpGaD</th>\n",
       "      <td>CbGpBPpGaD</td>\n",
       "      <td>4.9%</td>\n",
       "      <td>3.8</td>\n",
       "    </tr>\n",
       "    <tr>\n",
       "      <th>CcSEcCtD</th>\n",
       "      <td>CcSEcCtD</td>\n",
       "      <td>14.0%</td>\n",
       "      <td>6.8</td>\n",
       "    </tr>\n",
       "    <tr>\n",
       "      <th>CtDpSpD</th>\n",
       "      <td>CtDpSpD</td>\n",
       "      <td>13.9%</td>\n",
       "      <td>6.1</td>\n",
       "    </tr>\n",
       "    <tr>\n",
       "      <th>CbGeAlD</th>\n",
       "      <td>CbGeAlD</td>\n",
       "      <td>8.4%</td>\n",
       "      <td>5.2</td>\n",
       "    </tr>\n",
       "    <tr>\n",
       "      <th>CtDlAlD</th>\n",
       "      <td>CtDlAlD</td>\n",
       "      <td>12.4%</td>\n",
       "      <td>6.0</td>\n",
       "    </tr>\n",
       "    <tr>\n",
       "      <th>CuGdD</th>\n",
       "      <td>CuGdD</td>\n",
       "      <td>1.1%</td>\n",
       "      <td>2.6</td>\n",
       "    </tr>\n",
       "    <tr>\n",
       "      <th>CdGuD</th>\n",
       "      <td>CdGuD</td>\n",
       "      <td>1.7%</td>\n",
       "      <td>4.5</td>\n",
       "    </tr>\n",
       "    <tr>\n",
       "      <th>CuGuCtD</th>\n",
       "      <td>CuGuCtD</td>\n",
       "      <td>4.4%</td>\n",
       "      <td>3.5</td>\n",
       "    </tr>\n",
       "    <tr>\n",
       "      <th>CdGdCtD</th>\n",
       "      <td>CdGdCtD</td>\n",
       "      <td>3.8%</td>\n",
       "      <td>4.6</td>\n",
       "    </tr>\n",
       "    <tr>\n",
       "      <th>CuGdCtD</th>\n",
       "      <td>CuGdCtD</td>\n",
       "      <td>-1.6%</td>\n",
       "      <td>2.9</td>\n",
       "    </tr>\n",
       "    <tr>\n",
       "      <th>CdGuCtD</th>\n",
       "      <td>CdGuCtD</td>\n",
       "      <td>-2.1%</td>\n",
       "      <td>2.4</td>\n",
       "    </tr>\n",
       "    <tr>\n",
       "      <th>CtDuGuD</th>\n",
       "      <td>CtDuGuD</td>\n",
       "      <td>1.1%</td>\n",
       "      <td>1.4</td>\n",
       "    </tr>\n",
       "    <tr>\n",
       "      <th>CtDdGdD</th>\n",
       "      <td>CtDdGdD</td>\n",
       "      <td>4.2%</td>\n",
       "      <td>3.9</td>\n",
       "    </tr>\n",
       "    <tr>\n",
       "      <th>CtDdGuD</th>\n",
       "      <td>CtDdGuD</td>\n",
       "      <td>0.5%</td>\n",
       "      <td>1.0</td>\n",
       "    </tr>\n",
       "    <tr>\n",
       "      <th>CtDuGdD</th>\n",
       "      <td>CtDuGdD</td>\n",
       "      <td>0.7%</td>\n",
       "      <td>1.3</td>\n",
       "    </tr>\n",
       "  </tbody>\n",
       "</table>\n",
       "</div>"
      ],
      "text/plain": [
       "              Metapath Δ AUROC −log10(p)\n",
       "metapath                                \n",
       "CbGaD            CbGaD   14.5%       6.2\n",
       "CbGiGaD        CbGiGaD    9.0%       4.4\n",
       "CbGiGiGaD    CbGiGiGaD    7.0%       5.1\n",
       "CbGpPWpGaD  CbGpPWpGaD    7.6%       7.9\n",
       "CbGpBPpGaD  CbGpBPpGaD    4.9%       3.8\n",
       "CcSEcCtD      CcSEcCtD   14.0%       6.8\n",
       "CtDpSpD        CtDpSpD   13.9%       6.1\n",
       "CbGeAlD        CbGeAlD    8.4%       5.2\n",
       "CtDlAlD        CtDlAlD   12.4%       6.0\n",
       "CuGdD            CuGdD    1.1%       2.6\n",
       "CdGuD            CdGuD    1.7%       4.5\n",
       "CuGuCtD        CuGuCtD    4.4%       3.5\n",
       "CdGdCtD        CdGdCtD    3.8%       4.6\n",
       "CuGdCtD        CuGdCtD   -1.6%       2.9\n",
       "CdGuCtD        CdGuCtD   -2.1%       2.4\n",
       "CtDuGuD        CtDuGuD    1.1%       1.4\n",
       "CtDdGdD        CtDdGdD    4.2%       3.9\n",
       "CtDdGuD        CtDdGuD    0.5%       1.0\n",
       "CtDuGdD        CtDuGdD    0.7%       1.3"
      ]
     },
     "execution_count": 47,
     "metadata": {},
     "output_type": "execute_result"
    }
   ],
   "source": [
    "metapaths = [\n",
    "    'CbGaD',\n",
    "    'CbGiGaD',\n",
    "    'CbGiGiGaD',\n",
    "    'CbGpPWpGaD',\n",
    "    'CbGpBPpGaD',\n",
    "    'CcSEcCtD',\n",
    "    'CtDpSpD',\n",
    "    'CbGeAlD',\n",
    "    'CtDlAlD',\n",
    "    'CuGdD',\n",
    "    'CdGuD',\n",
    "    'CuGuCtD',\n",
    "    'CdGdCtD',\n",
    "    'CuGdCtD',\n",
    "    'CdGuCtD',\n",
    "    'CtDuGuD',\n",
    "    'CtDdGdD',\n",
    "    'CtDdGuD',\n",
    "    'CtDuGdD',\n",
    "]\n",
    "\n",
    "interest_df = auroc_df.loc[metapaths, :]\n",
    "interest_df = interest_df[['metapath', 'delta_auroc', 'nlog10_pval_delta_auroc']]\n",
    "interest_df.nlog10_pval_delta_auroc = interest_df.nlog10_pval_delta_auroc.map('{:.1f}'.format)\n",
    "interest_df.delta_auroc = interest_df.delta_auroc.map('{:.1%}'.format)\n",
    "interest_df.columns = ['Metapath', 'Δ AUROC', '−log10(p)']\n",
    "interest_df.to_csv('data/feature-performance/interesting-features.tsv', sep='\\t', index=False)\n",
    "interest_df"
   ]
  },
  {
   "cell_type": "code",
   "execution_count": 33,
   "metadata": {
    "collapsed": false
   },
   "outputs": [
    {
     "data": {
      "text/plain": [
       "1.3010299956639813"
      ]
     },
     "execution_count": 33,
     "metadata": {},
     "output_type": "execute_result"
    }
   ],
   "source": [
    "-numpy.log10(0.05)"
   ]
  }
 ],
 "metadata": {
  "kernelspec": {
   "display_name": "Python [default]",
   "language": "python",
   "name": "python3"
  },
  "language_info": {
   "codemirror_mode": {
    "name": "ipython",
    "version": 3
   },
   "file_extension": ".py",
   "mimetype": "text/x-python",
   "name": "python",
   "nbconvert_exporter": "python",
   "pygments_lexer": "ipython3",
   "version": "3.5.2"
  }
 },
 "nbformat": 4,
 "nbformat_minor": 0
}
