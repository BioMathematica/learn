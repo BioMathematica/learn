{
 "cells": [
  {
   "cell_type": "markdown",
   "metadata": {},
   "source": [
    "# Assess the marginal performance of every feature"
   ]
  },
  {
   "cell_type": "code",
   "execution_count": 1,
   "metadata": {
    "collapsed": true
   },
   "outputs": [],
   "source": [
    "import math\n",
    "\n",
    "import pandas\n",
    "import sklearn.metrics\n",
    "import scipy.stats\n",
    "from statsmodels.sandbox.stats.multicomp import multipletests"
   ]
  },
  {
   "cell_type": "code",
   "execution_count": 2,
   "metadata": {
    "collapsed": false
   },
   "outputs": [],
   "source": [
    "feature_type_df = pandas.read_table('data/matrix/feature-type.tsv')\n",
    "feature_df = pandas.read_table('data/matrix/features.tsv.bz2')\n",
    "features = list(feature_type_df['feature'])"
   ]
  },
  {
   "cell_type": "code",
   "execution_count": 3,
   "metadata": {
    "collapsed": false
   },
   "outputs": [
    {
     "data": {
      "text/html": [
       "<div>\n",
       "<table border=\"1\" class=\"dataframe\">\n",
       "  <thead>\n",
       "    <tr style=\"text-align: right;\">\n",
       "      <th></th>\n",
       "      <th>hetnet</th>\n",
       "      <th>compound_id</th>\n",
       "      <th>disease_id</th>\n",
       "      <th>status</th>\n",
       "      <th>disease_name</th>\n",
       "      <th>compound_name</th>\n",
       "      <th>prior_prob</th>\n",
       "      <th>CbG</th>\n",
       "      <th>CcSE</th>\n",
       "      <th>CdG</th>\n",
       "      <th>...</th>\n",
       "      <th>CuGuDpCpD</th>\n",
       "      <th>CuGuDpCtD</th>\n",
       "      <th>CuGuDpSpD</th>\n",
       "      <th>CuGuDrD</th>\n",
       "      <th>CuGuDrDrD</th>\n",
       "      <th>CuGuDtCpD</th>\n",
       "      <th>CuGuDtCtD</th>\n",
       "      <th>CuGuDuGaD</th>\n",
       "      <th>CuGuDuGdD</th>\n",
       "      <th>CuGuDuGuD</th>\n",
       "    </tr>\n",
       "  </thead>\n",
       "  <tbody>\n",
       "    <tr>\n",
       "      <th>0</th>\n",
       "      <td>rephetio-v2.0</td>\n",
       "      <td>DB00014</td>\n",
       "      <td>DOID:0050741</td>\n",
       "      <td>0</td>\n",
       "      <td>alcohol dependence</td>\n",
       "      <td>Goserelin</td>\n",
       "      <td>0.000038</td>\n",
       "      <td>2</td>\n",
       "      <td>249</td>\n",
       "      <td>0</td>\n",
       "      <td>...</td>\n",
       "      <td>0.0</td>\n",
       "      <td>0.0</td>\n",
       "      <td>0.000413</td>\n",
       "      <td>0.0</td>\n",
       "      <td>0.0</td>\n",
       "      <td>0.0</td>\n",
       "      <td>0.0</td>\n",
       "      <td>0.0</td>\n",
       "      <td>0.000212</td>\n",
       "      <td>0.001160</td>\n",
       "    </tr>\n",
       "    <tr>\n",
       "      <th>1</th>\n",
       "      <td>rephetio-v2.0_perm-5</td>\n",
       "      <td>DB00014</td>\n",
       "      <td>DOID:0050741</td>\n",
       "      <td>0</td>\n",
       "      <td>alcohol dependence</td>\n",
       "      <td>Goserelin</td>\n",
       "      <td>0.000038</td>\n",
       "      <td>2</td>\n",
       "      <td>249</td>\n",
       "      <td>0</td>\n",
       "      <td>...</td>\n",
       "      <td>0.0</td>\n",
       "      <td>0.0</td>\n",
       "      <td>0.000000</td>\n",
       "      <td>0.0</td>\n",
       "      <td>0.0</td>\n",
       "      <td>0.0</td>\n",
       "      <td>0.0</td>\n",
       "      <td>0.0</td>\n",
       "      <td>0.001268</td>\n",
       "      <td>0.003163</td>\n",
       "    </tr>\n",
       "  </tbody>\n",
       "</table>\n",
       "<p>2 rows × 1219 columns</p>\n",
       "</div>"
      ],
      "text/plain": [
       "                 hetnet compound_id    disease_id  status        disease_name  \\\n",
       "0         rephetio-v2.0     DB00014  DOID:0050741       0  alcohol dependence   \n",
       "1  rephetio-v2.0_perm-5     DB00014  DOID:0050741       0  alcohol dependence   \n",
       "\n",
       "  compound_name  prior_prob  CbG  CcSE  CdG    ...      CuGuDpCpD  CuGuDpCtD  \\\n",
       "0     Goserelin    0.000038    2   249    0    ...            0.0        0.0   \n",
       "1     Goserelin    0.000038    2   249    0    ...            0.0        0.0   \n",
       "\n",
       "   CuGuDpSpD  CuGuDrD  CuGuDrDrD  CuGuDtCpD  CuGuDtCtD  CuGuDuGaD  CuGuDuGdD  \\\n",
       "0   0.000413      0.0        0.0        0.0        0.0        0.0   0.000212   \n",
       "1   0.000000      0.0        0.0        0.0        0.0        0.0   0.001268   \n",
       "\n",
       "   CuGuDuGuD  \n",
       "0   0.001160  \n",
       "1   0.003163  \n",
       "\n",
       "[2 rows x 1219 columns]"
      ]
     },
     "execution_count": 3,
     "metadata": {},
     "output_type": "execute_result"
    }
   ],
   "source": [
    "feature_df.head(2)"
   ]
  },
  {
   "cell_type": "code",
   "execution_count": 4,
   "metadata": {
    "collapsed": false
   },
   "outputs": [],
   "source": [
    "def compute_metrics(y_true, y_score):\n",
    "    series = pandas.Series()\n",
    "    series['nonzero'] = (y_score > 0).mean()\n",
    "    series['auroc'] = sklearn.metrics.roc_auc_score(y_true, y_score)\n",
    "    series['auprc'] = sklearn.metrics.average_precision_score(y_true, y_score)\n",
    "    return series\n",
    "\n",
    "def columnar_performance(df):\n",
    "    y_true = df['status']\n",
    "    perf_df = df[features].apply(lambda x: compute_metrics(y_true, x), axis='index')\n",
    "    perf_df = perf_df.T\n",
    "    perf_df.index.name = 'feature'\n",
    "    return perf_df.reset_index()\n",
    "\n",
    "perf_df = feature_df.groupby('hetnet').apply(columnar_performance).reset_index(level='hetnet')\n",
    "perf_df = perf_df.merge(feature_type_df)\n",
    "perf_df['permuted'] = perf_df.hetnet.str.contains('_perm').astype(int)"
   ]
  },
  {
   "cell_type": "code",
   "execution_count": 5,
   "metadata": {
    "collapsed": false
   },
   "outputs": [
    {
     "data": {
      "text/html": [
       "<div>\n",
       "<table border=\"1\" class=\"dataframe\">\n",
       "  <thead>\n",
       "    <tr style=\"text-align: right;\">\n",
       "      <th></th>\n",
       "      <th>hetnet</th>\n",
       "      <th>feature</th>\n",
       "      <th>nonzero</th>\n",
       "      <th>auroc</th>\n",
       "      <th>auprc</th>\n",
       "      <th>feature_type</th>\n",
       "      <th>permuted</th>\n",
       "    </tr>\n",
       "  </thead>\n",
       "  <tbody>\n",
       "    <tr>\n",
       "      <th>0</th>\n",
       "      <td>rephetio-v2.0</td>\n",
       "      <td>prior_prob</td>\n",
       "      <td>1.0</td>\n",
       "      <td>0.847956</td>\n",
       "      <td>0.595182</td>\n",
       "      <td>prior</td>\n",
       "      <td>0</td>\n",
       "    </tr>\n",
       "    <tr>\n",
       "      <th>1</th>\n",
       "      <td>rephetio-v2.0_perm-1</td>\n",
       "      <td>prior_prob</td>\n",
       "      <td>1.0</td>\n",
       "      <td>0.830787</td>\n",
       "      <td>0.602504</td>\n",
       "      <td>prior</td>\n",
       "      <td>1</td>\n",
       "    </tr>\n",
       "    <tr>\n",
       "      <th>2</th>\n",
       "      <td>rephetio-v2.0_perm-2</td>\n",
       "      <td>prior_prob</td>\n",
       "      <td>1.0</td>\n",
       "      <td>0.838287</td>\n",
       "      <td>0.629588</td>\n",
       "      <td>prior</td>\n",
       "      <td>1</td>\n",
       "    </tr>\n",
       "  </tbody>\n",
       "</table>\n",
       "</div>"
      ],
      "text/plain": [
       "                 hetnet     feature  nonzero     auroc     auprc feature_type  \\\n",
       "0         rephetio-v2.0  prior_prob      1.0  0.847956  0.595182        prior   \n",
       "1  rephetio-v2.0_perm-1  prior_prob      1.0  0.830787  0.602504        prior   \n",
       "2  rephetio-v2.0_perm-2  prior_prob      1.0  0.838287  0.629588        prior   \n",
       "\n",
       "   permuted  \n",
       "0         0  \n",
       "1         1  \n",
       "2         1  "
      ]
     },
     "execution_count": 5,
     "metadata": {},
     "output_type": "execute_result"
    }
   ],
   "source": [
    "perf_df.merge(feature_type_df).head(3)"
   ]
  },
  {
   "cell_type": "code",
   "execution_count": 6,
   "metadata": {
    "collapsed": false
   },
   "outputs": [],
   "source": [
    "def compare_permutation(df):\n",
    "    unperm = df.query(\"permuted == 0\").iloc[0, :]\n",
    "    perm_df = df.query(\"permuted == 1\")\n",
    "    series = pandas.Series()\n",
    "    series['nonzero'] = unperm['nonzero']\n",
    "    series['auroc'] = unperm.auroc\n",
    "    series['auroc_permuted'] = perm_df.auroc.mean()\n",
    "    series['delta_auroc'] = series['auroc'] - series['auroc_permuted']\n",
    "    ttest = scipy.stats.ttest_1samp(perm_df.auroc, unperm.auroc)\n",
    "    pvalue = ttest.pvalue\n",
    "    series['pval_auroc'] = pvalue\n",
    "    #series['nlog10_pval_auroc'] = -math.log10(pvalue)\n",
    "    return(series)\n",
    "\n",
    "compare_df = perf_df.groupby(['feature_type', 'feature']).apply(compare_permutation).reset_index()\n",
    "reject, compare_df['fdr_pval_auroc'], alphacSidak, alphacBonf = multipletests(\n",
    "    pvals=compare_df.pval_auroc, method='fdr_bh')\n",
    "compare_df = compare_df.sort_values(['feature_type', 'feature'])"
   ]
  },
  {
   "cell_type": "code",
   "execution_count": 7,
   "metadata": {
    "collapsed": false
   },
   "outputs": [
    {
     "data": {
      "text/html": [
       "<div>\n",
       "<table border=\"1\" class=\"dataframe\">\n",
       "  <thead>\n",
       "    <tr style=\"text-align: right;\">\n",
       "      <th></th>\n",
       "      <th>feature_type</th>\n",
       "      <th>feature</th>\n",
       "      <th>nonzero</th>\n",
       "      <th>auroc</th>\n",
       "      <th>auroc_permuted</th>\n",
       "      <th>delta_auroc</th>\n",
       "      <th>pval_auroc</th>\n",
       "      <th>fdr_pval_auroc</th>\n",
       "    </tr>\n",
       "  </thead>\n",
       "  <tbody>\n",
       "    <tr>\n",
       "      <th>0</th>\n",
       "      <td>degree</td>\n",
       "      <td>CbG</td>\n",
       "      <td>0.988079</td>\n",
       "      <td>0.547779</td>\n",
       "      <td>0.549037</td>\n",
       "      <td>-0.001257</td>\n",
       "      <td>0.540220</td>\n",
       "      <td>0.646240</td>\n",
       "    </tr>\n",
       "    <tr>\n",
       "      <th>1</th>\n",
       "      <td>degree</td>\n",
       "      <td>CcSE</td>\n",
       "      <td>0.954702</td>\n",
       "      <td>0.564520</td>\n",
       "      <td>0.568342</td>\n",
       "      <td>-0.003822</td>\n",
       "      <td>0.044426</td>\n",
       "      <td>0.091959</td>\n",
       "    </tr>\n",
       "    <tr>\n",
       "      <th>2</th>\n",
       "      <td>degree</td>\n",
       "      <td>CdG</td>\n",
       "      <td>0.671788</td>\n",
       "      <td>0.585467</td>\n",
       "      <td>0.586055</td>\n",
       "      <td>-0.000588</td>\n",
       "      <td>0.799381</td>\n",
       "      <td>0.844642</td>\n",
       "    </tr>\n",
       "  </tbody>\n",
       "</table>\n",
       "</div>"
      ],
      "text/plain": [
       "  feature_type feature   nonzero     auroc  auroc_permuted  delta_auroc  \\\n",
       "0       degree     CbG  0.988079  0.547779        0.549037    -0.001257   \n",
       "1       degree    CcSE  0.954702  0.564520        0.568342    -0.003822   \n",
       "2       degree     CdG  0.671788  0.585467        0.586055    -0.000588   \n",
       "\n",
       "   pval_auroc  fdr_pval_auroc  \n",
       "0    0.540220        0.646240  \n",
       "1    0.044426        0.091959  \n",
       "2    0.799381        0.844642  "
      ]
     },
     "execution_count": 7,
     "metadata": {},
     "output_type": "execute_result"
    }
   ],
   "source": [
    "compare_df.head(3)"
   ]
  },
  {
   "cell_type": "code",
   "execution_count": 8,
   "metadata": {
    "collapsed": true
   },
   "outputs": [],
   "source": [
    "# Save datasets\n",
    "perf_df.to_csv('data/auc.tsv', sep='\\t', index=False, float_format='%.5g')\n",
    "compare_df.to_csv('data/auroc.tsv', sep='\\t', index=False, float_format='%.5g')"
   ]
  }
 ],
 "metadata": {
  "kernelspec": {
   "display_name": "Python 3",
   "language": "python",
   "name": "python3"
  },
  "language_info": {
   "codemirror_mode": {
    "name": "ipython",
    "version": 3
   },
   "file_extension": ".py",
   "mimetype": "text/x-python",
   "name": "python",
   "nbconvert_exporter": "python",
   "pygments_lexer": "ipython3",
   "version": "3.5.1"
  }
 },
 "nbformat": 4,
 "nbformat_minor": 0
}
