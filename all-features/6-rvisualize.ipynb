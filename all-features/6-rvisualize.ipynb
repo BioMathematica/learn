{
 "cells": [
  {
   "cell_type": "markdown",
   "metadata": {},
   "source": [
    "# Visualize metapath performance against permutation"
   ]
  },
  {
   "cell_type": "code",
   "execution_count": 1,
   "metadata": {
    "collapsed": false
   },
   "outputs": [],
   "source": [
    "library(dplyr, warn = FALSE)"
   ]
  },
  {
   "cell_type": "code",
   "execution_count": 2,
   "metadata": {
    "collapsed": false
   },
   "outputs": [
    {
     "name": "stderr",
     "output_type": "stream",
     "text": [
      "Joining by: \"metapath\"\n"
     ]
    }
   ],
   "source": [
    "metaedge_df = readr::read_tsv('data/metaedge-in-metapath.tsv') %>%\n",
    "  dplyr::select(-position) %>%\n",
    "  dplyr::distinct() %>%\n",
    "  dplyr::mutate(length = as.character(length))\n",
    "\n",
    "all_abbrevs = unique(metaedge_df$metaedge_abbrev)\n",
    "\n",
    "fsp_df = readr::read_tsv('data/feature-performance/auroc.tsv') %>%\n",
    "  dplyr::inner_join(metaedge_df)\n",
    "\n",
    "metaedge_df = fsp_df %>%\n",
    "  dplyr::group_by(metaedge_abbrev, metaedge) %>%\n",
    "  dplyr::summarize(\n",
    "    max_dwpc_auroc = max(dwpc_auroc),\n",
    "    max_delta_auroc = max(delta_auroc),\n",
    "    max_rdwpc_auroc = max(rdwpc_auroc)\n",
    "  ) %>%\n",
    "  dplyr::ungroup() %>%\n",
    "  dplyr::arrange(max_delta_auroc, desc(metaedge_abbrev))"
   ]
  },
  {
   "cell_type": "code",
   "execution_count": 3,
   "metadata": {
    "collapsed": false
   },
   "outputs": [],
   "source": [
    "#abbrev_to_metaedge = setNames(metaedge_df$metaedge_abbrev, metaedge_df$metaedge)"
   ]
  },
  {
   "cell_type": "code",
   "execution_count": 4,
   "metadata": {
    "collapsed": true
   },
   "outputs": [],
   "source": [
    "length_to_color = c('1' = '#b2df8a', '2' = '#1f78b4', '3' = '#33a02c', '4' = '#a6cee3')"
   ]
  },
  {
   "cell_type": "code",
   "execution_count": 7,
   "metadata": {
    "collapsed": false
   },
   "outputs": [],
   "source": [
    "w = 7; h = 5.5\n",
    "options(repr.plot.width=w, repr.plot.height=h)\n",
    "set.seed(0)\n",
    "gg_fsp = fsp_df %>%\n",
    "  dplyr::mutate(title = 'Feature Performance by Metaedge') %>%\n",
    "  ggplot2::ggplot(ggplot2::aes(x = delta_auroc, y = metaedge)) +\n",
    "  ggplot2::geom_vline(xintercept = 0, linetype='dashed', color='gray') +\n",
    "  ggplot2::geom_jitter(ggplot2::aes(fill = length), height=0.4, alpha=1, shape = 21, size=2, color= '#6C6C6C', stroke=0.7) +\n",
    "  ggplot2::facet_grid(. ~ title) +\n",
    "  ggplot2::scale_fill_manual(name = 'Length', values=length_to_color) +\n",
    "  ggplot2::scale_x_continuous(labels=scales::percent) +\n",
    "  ggplot2::scale_y_discrete(limits = metaedge_df$metaedge) +\n",
    "  ggplot2::xlab('Δ AUROC of DWPCs Due to Permutation') + ggplot2::ylab(NULL) +\n",
    "  hetior::theme_dhimmel() +\n",
    "  ggplot2::theme(\n",
    "    legend.justification=c(1, 0), legend.position=c(1, 0))\n",
    "\n",
    "ggplot2::ggsave('./data/feature-performance/delta-auroc.png', dpi=300, width = w, height = h)"
   ]
  },
  {
   "cell_type": "code",
   "execution_count": 6,
   "metadata": {
    "collapsed": false
   },
   "outputs": [
    {
     "data": {
      "text/html": [
       "0.0133689839572193"
      ],
      "text/latex": [
       "0.0133689839572193"
      ],
      "text/markdown": [
       "0.0133689839572193"
      ],
      "text/plain": [
       "[1] 0.01336898"
      ]
     },
     "execution_count": 6,
     "metadata": {},
     "output_type": "execute_result"
    },
    {
     "data": {
      "text/html": [
       "0.348322800194458"
      ],
      "text/latex": [
       "0.348322800194458"
      ],
      "text/markdown": [
       "0.348322800194458"
      ],
      "text/plain": [
       "[1] 0.3483228"
      ]
     },
     "execution_count": 6,
     "metadata": {},
     "output_type": "execute_result"
    },
    {
     "data": {
      "text/html": [
       "0.452114730189597"
      ],
      "text/latex": [
       "0.452114730189597"
      ],
      "text/markdown": [
       "0.452114730189597"
      ],
      "text/plain": [
       "[1] 0.4521147"
      ]
     },
     "execution_count": 6,
     "metadata": {},
     "output_type": "execute_result"
    }
   ],
   "source": [
    "# Percent of DWPC features passing bonferroni, FDR, and unadjusted significance thresholds\n",
    "mean(p.adjust(p = fsp_df$pval_delta_auroc, method = 'bonferroni') < 0.01)\n",
    "mean(p.adjust(p = fsp_df$pval_delta_auroc, method = 'fdr') < 0.01)\n",
    "mean(fsp_df$pval_delta_auroc < 0.01)"
   ]
  }
 ],
 "metadata": {
  "kernelspec": {
   "display_name": "R",
   "language": "R",
   "name": "ir"
  },
  "language_info": {
   "codemirror_mode": "r",
   "file_extension": ".r",
   "mimetype": "text/x-r-source",
   "name": "R",
   "pygments_lexer": "r",
   "version": "3.2.3"
  }
 },
 "nbformat": 4,
 "nbformat_minor": 0
}
