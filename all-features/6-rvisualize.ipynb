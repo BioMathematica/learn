{
 "cells": [
  {
   "cell_type": "markdown",
   "metadata": {},
   "source": [
    "# Visualize metapath performance against permutation"
   ]
  },
  {
   "cell_type": "code",
   "execution_count": 1,
   "metadata": {
    "collapsed": false
   },
   "outputs": [],
   "source": [
    "library(magrittr)"
   ]
  },
  {
   "cell_type": "code",
   "execution_count": 2,
   "metadata": {
    "collapsed": false
   },
   "outputs": [
    {
     "name": "stderr",
     "output_type": "stream",
     "text": [
      "Joining by: \"metapath\"\n"
     ]
    }
   ],
   "source": [
    "metaedge_df = readr::read_tsv('data/metaedge-in-metapath.tsv') %>%\n",
    "  dplyr::select(-position) %>%\n",
    "  dplyr::mutate(length = as.character(length))\n",
    "\n",
    "all_abbrevs = unique(metaedge_df$metaedge_abbrev)\n",
    "\n",
    "# Read feature-sepcific performance for DWPC features and correct for multiple testing\n",
    "metapath_df = readr::read_tsv('data/feature-performance/auroc.tsv') %>%\n",
    "  dplyr::mutate(\n",
    "    fwer_delta_auroc = p.adjust(p = pval_delta_auroc, method = 'bonferroni'),\n",
    "    fdr_delta_auroc = p.adjust(p = pval_delta_auroc, method = 'fdr')\n",
    "  ) \n",
    "\n",
    "fsp_df = metapath_df %>%\n",
    "  dplyr::inner_join(metaedge_df)\n",
    "\n",
    "metaedge_df = fsp_df %>%\n",
    "  dplyr::group_by(metaedge_abbrev, metaedge) %>%\n",
    "  dplyr::summarize(\n",
    "    max_dwpc_auroc = max(dwpc_auroc),\n",
    "    max_delta_auroc = max(delta_auroc),\n",
    "    max_rdwpc_auroc = max(rdwpc_auroc)\n",
    "  ) %>%\n",
    "  dplyr::ungroup() %>%\n",
    "  dplyr::arrange(max_delta_auroc, desc(metaedge_abbrev))"
   ]
  },
  {
   "cell_type": "code",
   "execution_count": 3,
   "metadata": {
    "collapsed": false
   },
   "outputs": [
    {
     "data": {
      "text/html": [
       "<table>\n",
       "<thead><tr><th></th><th scope=col>metapath</th><th scope=col>dwpc_auroc</th><th scope=col>pdwpc_auroc</th><th scope=col>rdwpc_auroc</th><th scope=col>nonzero</th><th scope=col>pdwpc_primary_auroc</th><th scope=col>delta_auroc</th><th scope=col>pval_delta_auroc</th><th scope=col>fwer_delta_auroc</th><th scope=col>fdr_delta_auroc</th><th scope=col>metaedge</th><th scope=col>metaedge_abbrev</th><th scope=col>length</th></tr></thead>\n",
       "<tbody>\n",
       "\t<tr><th scope=row>1</th><td>CuGuDuGuD</td><td>0.57805</td><td>0.5969</td><td>0.50265</td><td>0.25748</td><td>0.57503</td><td>0.0030167</td><td>0.19559</td><td>1</td><td>0.2451991</td><td>Disease - upregulates - Gene</td><td>DuG</td><td>4</td></tr>\n",
       "\t<tr><th scope=row>2</th><td>CuGuDuGuD</td><td>0.57805</td><td>0.5969</td><td>0.50265</td><td>0.25748</td><td>0.57503</td><td>0.0030167</td><td>0.19559</td><td>1</td><td>0.2451991</td><td>Disease - upregulates - Gene</td><td>DuG</td><td>4</td></tr>\n",
       "</tbody>\n",
       "</table>\n"
      ],
      "text/latex": [
       "\\begin{tabular}{r|lllllllllllll}\n",
       "  & metapath & dwpc_auroc & pdwpc_auroc & rdwpc_auroc & nonzero & pdwpc_primary_auroc & delta_auroc & pval_delta_auroc & fwer_delta_auroc & fdr_delta_auroc & metaedge & metaedge_abbrev & length\\\\\n",
       "\\hline\n",
       "\t1 & CuGuDuGuD & 0.57805 & 0.5969 & 0.50265 & 0.25748 & 0.57503 & 0.0030167 & 0.19559 & 1 & 0.2451991 & Disease - upregulates - Gene & DuG & 4\\\\\n",
       "\t2 & CuGuDuGuD & 0.57805 & 0.5969 & 0.50265 & 0.25748 & 0.57503 & 0.0030167 & 0.19559 & 1 & 0.2451991 & Disease - upregulates - Gene & DuG & 4\\\\\n",
       "\\end{tabular}\n"
      ],
      "text/plain": [
       "Source: local data frame [2 x 13]\n",
       "\n",
       "   metapath dwpc_auroc pdwpc_auroc rdwpc_auroc nonzero pdwpc_primary_auroc\n",
       "      (chr)      (dbl)       (dbl)       (dbl)   (dbl)               (dbl)\n",
       "1 CuGuDuGuD    0.57805      0.5969     0.50265 0.25748             0.57503\n",
       "2 CuGuDuGuD    0.57805      0.5969     0.50265 0.25748             0.57503\n",
       "Variables not shown: delta_auroc (dbl), pval_delta_auroc (dbl),\n",
       "  fwer_delta_auroc (dbl), fdr_delta_auroc (dbl), metaedge (chr),\n",
       "  metaedge_abbrev (chr), length (chr)"
      ]
     },
     "execution_count": 3,
     "metadata": {},
     "output_type": "execute_result"
    }
   ],
   "source": [
    "fsp_df %>% tail(2) "
   ]
  },
  {
   "cell_type": "code",
   "execution_count": 4,
   "metadata": {
    "collapsed": false
   },
   "outputs": [],
   "source": [
    "#abbrev_to_metaedge = setNames(metaedge_df$metaedge_abbrev, metaedge_df$metaedge)"
   ]
  },
  {
   "cell_type": "code",
   "execution_count": 5,
   "metadata": {
    "collapsed": true
   },
   "outputs": [],
   "source": [
    "length_to_color = c('1' = '#b2df8a', '2' = '#1f78b4', '3' = '#33a02c', '4' = '#a6cee3')"
   ]
  },
  {
   "cell_type": "code",
   "execution_count": 6,
   "metadata": {
    "collapsed": false
   },
   "outputs": [],
   "source": [
    "w = 7; h = 5.5\n",
    "options(repr.plot.width=w, repr.plot.height=h)\n",
    "set.seed(0)\n",
    "gg_fsp = fsp_df %>%\n",
    "  dplyr::distinct(metapath, metaedge) %>%\n",
    "  dplyr::mutate(title = 'Feature Performance by Metaedge') %>%\n",
    "  ggplot2::ggplot(ggplot2::aes(x = delta_auroc, y = metaedge)) +\n",
    "  ggplot2::geom_vline(xintercept = 0, linetype='dashed', color='gray') +\n",
    "  ggplot2::geom_jitter(ggplot2::aes(fill = length), height=0.4, alpha=1, shape = 21, size=2, color= '#6C6C6C', stroke=0.7) +\n",
    "  ggplot2::facet_grid(. ~ title) +\n",
    "  ggplot2::scale_fill_manual(name = 'Length', values=length_to_color) +\n",
    "  ggplot2::scale_x_continuous(labels=scales::percent) +\n",
    "  ggplot2::scale_y_discrete(limits = metaedge_df$metaedge) +\n",
    "  ggplot2::xlab('Δ AUROC of DWPCs Due to Permutation') + ggplot2::ylab(NULL) +\n",
    "  hetior::theme_dhimmel() +\n",
    "  ggplot2::theme(\n",
    "    legend.justification=c(1, 0), legend.position=c(1, 0))\n",
    "\n",
    "ggplot2::ggsave('./data/feature-performance/delta-auroc.png', dpi=300, width = w, height = h)"
   ]
  },
  {
   "cell_type": "markdown",
   "metadata": {},
   "source": [
    "## Percent of DWPC features passing bonferroni, FDR, and unadjusted significance thresholds"
   ]
  },
  {
   "cell_type": "code",
   "execution_count": 7,
   "metadata": {
    "collapsed": false
   },
   "outputs": [
    {
     "data": {
      "text/html": [
       "0.0248756218905473"
      ],
      "text/latex": [
       "0.0248756218905473"
      ],
      "text/markdown": [
       "0.0248756218905473"
      ],
      "text/plain": [
       "[1] 0.02487562"
      ]
     },
     "execution_count": 7,
     "metadata": {},
     "output_type": "execute_result"
    },
    {
     "data": {
      "text/html": [
       "0.368159203980099"
      ],
      "text/latex": [
       "0.368159203980099"
      ],
      "text/markdown": [
       "0.368159203980099"
      ],
      "text/plain": [
       "[1] 0.3681592"
      ]
     },
     "execution_count": 7,
     "metadata": {},
     "output_type": "execute_result"
    },
    {
     "data": {
      "text/html": [
       "0.470149253731343"
      ],
      "text/latex": [
       "0.470149253731343"
      ],
      "text/markdown": [
       "0.470149253731343"
      ],
      "text/plain": [
       "[1] 0.4701493"
      ]
     },
     "execution_count": 7,
     "metadata": {},
     "output_type": "execute_result"
    }
   ],
   "source": [
    "alpha = 0.01\n",
    "\n",
    "metapath_df %$% mean(fwer_delta_auroc < alpha)\n",
    "metapath_df %$% mean(fdr_delta_auroc < alpha)\n",
    "metapath_df %$% mean(metapath_df$pval_delta_auroc < alpha)"
   ]
  },
  {
   "cell_type": "code",
   "execution_count": 8,
   "metadata": {
    "collapsed": false
   },
   "outputs": [
    {
     "data": {
      "text/html": [
       "1206"
      ],
      "text/latex": [
       "1206"
      ],
      "text/markdown": [
       "1206"
      ],
      "text/plain": [
       "[1] 1206"
      ]
     },
     "execution_count": 8,
     "metadata": {},
     "output_type": "execute_result"
    }
   ],
   "source": [
    "nrow(metapath_df)"
   ]
  },
  {
   "cell_type": "markdown",
   "metadata": {},
   "source": [
    "## Metaedges with a sigificant metapath"
   ]
  },
  {
   "cell_type": "code",
   "execution_count": 11,
   "metadata": {
    "collapsed": false
   },
   "outputs": [
    {
     "data": {
      "text/html": [
       "<table>\n",
       "<thead><tr><th></th><th scope=col>metaedge</th><th scope=col>metaedge_abbrev</th><th scope=col>n_occurence</th><th scope=col>n_unique_metapaths</th></tr></thead>\n",
       "<tbody>\n",
       "\t<tr><th scope=row>1</th><td>Compound - binds - Gene</td><td>CbG</td><td>201</td><td>179</td></tr>\n",
       "\t<tr><th scope=row>2</th><td>Disease - associates - Gene</td><td>DaG</td><td>177</td><td>153</td></tr>\n",
       "\t<tr><th scope=row>3</th><td>Disease - downregulates - Gene</td><td>DdG</td><td>143</td><td>133</td></tr>\n",
       "\t<tr><th scope=row>4</th><td>Compound - treats - Disease</td><td>CtD</td><td>162</td><td>129</td></tr>\n",
       "\t<tr><th scope=row>5</th><td>Compound - downregulates - Gene</td><td>CdG</td><td>132</td><td>123</td></tr>\n",
       "\t<tr><th scope=row>6</th><td>Compound - upregulates - Gene</td><td>CuG</td><td>128</td><td>114</td></tr>\n",
       "\t<tr><th scope=row>7</th><td>Disease - upregulates - Gene</td><td>DuG</td><td>95</td><td>89</td></tr>\n",
       "\t<tr><th scope=row>8</th><td>Compound - resembles - Compound</td><td>CrC</td><td>91</td><td>77</td></tr>\n",
       "\t<tr><th scope=row>9</th><td>Gene > regulates > Gene</td><td>GrG</td><td>97</td><td>76</td></tr>\n",
       "\t<tr><th scope=row>10</th><td>Disease - resembles - Disease</td><td>DrD</td><td>70</td><td>58</td></tr>\n",
       "\t<tr><th scope=row>11</th><td>Compound - palliates - Disease</td><td>CpD</td><td>75</td><td>56</td></tr>\n",
       "\t<tr><th scope=row>12</th><td>Anatomy - expresses - Gene</td><td>AeG</td><td>49</td><td>42</td></tr>\n",
       "\t<tr><th scope=row>13</th><td>Anatomy - upregulates - Gene</td><td>AuG</td><td>48</td><td>41</td></tr>\n",
       "\t<tr><th scope=row>14</th><td>Gene - interacts - Gene</td><td>GiG</td><td>47</td><td>40</td></tr>\n",
       "\t<tr><th scope=row>15</th><td>Disease - localizes - Anatomy</td><td>DlA</td><td>46</td><td>33</td></tr>\n",
       "\t<tr><th scope=row>16</th><td>Anatomy - downregulates - Gene</td><td>AdG</td><td>33</td><td>29</td></tr>\n",
       "\t<tr><th scope=row>17</th><td>Gene - covaries - Gene</td><td>GcG</td><td>24</td><td>22</td></tr>\n",
       "\t<tr><th scope=row>18</th><td>Pharmacologic Class - includes - Compound</td><td>PCiC</td><td>26</td><td>13</td></tr>\n",
       "\t<tr><th scope=row>19</th><td>Disease - presents - Symptom</td><td>DpS</td><td>24</td><td>12</td></tr>\n",
       "\t<tr><th scope=row>20</th><td>Compound - causes - Side Effect</td><td>CcSE</td><td>10</td><td>5</td></tr>\n",
       "\t<tr><th scope=row>21</th><td>Gene - participates - Biological Process</td><td>GpBP</td><td>10</td><td>5</td></tr>\n",
       "\t<tr><th scope=row>22</th><td>Gene - participates - Pathway</td><td>GpPW</td><td>8</td><td>4</td></tr>\n",
       "\t<tr><th scope=row>23</th><td>Gene - participates - Molecular Function</td><td>GpMF</td><td>6</td><td>3</td></tr>\n",
       "\t<tr><th scope=row>24</th><td>Gene - participates - Cellular Component</td><td>GpCC</td><td>2</td><td>1</td></tr>\n",
       "</tbody>\n",
       "</table>\n"
      ],
      "text/latex": [
       "\\begin{tabular}{r|llll}\n",
       "  & metaedge & metaedge_abbrev & n_occurence & n_unique_metapaths\\\\\n",
       "\\hline\n",
       "\t1 & Compound - binds - Gene & CbG & 201 & 179\\\\\n",
       "\t2 & Disease - associates - Gene & DaG & 177 & 153\\\\\n",
       "\t3 & Disease - downregulates - Gene & DdG & 143 & 133\\\\\n",
       "\t4 & Compound - treats - Disease & CtD & 162 & 129\\\\\n",
       "\t5 & Compound - downregulates - Gene & CdG & 132 & 123\\\\\n",
       "\t6 & Compound - upregulates - Gene & CuG & 128 & 114\\\\\n",
       "\t7 & Disease - upregulates - Gene & DuG & 95 & 89\\\\\n",
       "\t8 & Compound - resembles - Compound & CrC & 91 & 77\\\\\n",
       "\t9 & Gene > regulates > Gene & GrG & 97 & 76\\\\\n",
       "\t10 & Disease - resembles - Disease & DrD & 70 & 58\\\\\n",
       "\t11 & Compound - palliates - Disease & CpD & 75 & 56\\\\\n",
       "\t12 & Anatomy - expresses - Gene & AeG & 49 & 42\\\\\n",
       "\t13 & Anatomy - upregulates - Gene & AuG & 48 & 41\\\\\n",
       "\t14 & Gene - interacts - Gene & GiG & 47 & 40\\\\\n",
       "\t15 & Disease - localizes - Anatomy & DlA & 46 & 33\\\\\n",
       "\t16 & Anatomy - downregulates - Gene & AdG & 33 & 29\\\\\n",
       "\t17 & Gene - covaries - Gene & GcG & 24 & 22\\\\\n",
       "\t18 & Pharmacologic Class - includes - Compound & PCiC & 26 & 13\\\\\n",
       "\t19 & Disease - presents - Symptom & DpS & 24 & 12\\\\\n",
       "\t20 & Compound - causes - Side Effect & CcSE & 10 & 5\\\\\n",
       "\t21 & Gene - participates - Biological Process & GpBP & 10 & 5\\\\\n",
       "\t22 & Gene - participates - Pathway & GpPW & 8 & 4\\\\\n",
       "\t23 & Gene - participates - Molecular Function & GpMF & 6 & 3\\\\\n",
       "\t24 & Gene - participates - Cellular Component & GpCC & 2 & 1\\\\\n",
       "\\end{tabular}\n"
      ],
      "text/plain": [
       "Source: local data frame [24 x 4]\n",
       "\n",
       "                          metaedge metaedge_abbrev n_occurence\n",
       "                             (chr)           (chr)       (int)\n",
       "1          Compound - binds - Gene             CbG         201\n",
       "2      Disease - associates - Gene             DaG         177\n",
       "3   Disease - downregulates - Gene             DdG         143\n",
       "4      Compound - treats - Disease             CtD         162\n",
       "5  Compound - downregulates - Gene             CdG         132\n",
       "6    Compound - upregulates - Gene             CuG         128\n",
       "7     Disease - upregulates - Gene             DuG          95\n",
       "8  Compound - resembles - Compound             CrC          91\n",
       "9          Gene > regulates > Gene             GrG          97\n",
       "10   Disease - resembles - Disease             DrD          70\n",
       "..                             ...             ...         ...\n",
       "Variables not shown: n_unique_metapaths (int)"
      ]
     },
     "execution_count": 11,
     "metadata": {},
     "output_type": "execute_result"
    }
   ],
   "source": [
    "fsp_df %>%\n",
    "  dplyr::filter(fdr_delta_auroc < alpha) %>%\n",
    "  dplyr::group_by(metaedge, metaedge_abbrev) %>%\n",
    "  dplyr::summarize(\n",
    "    n_occurence = n(),\n",
    "    n_unique_metapaths = n_distinct(metapath)\n",
    "  ) %>%\n",
    "  dplyr::ungroup() %>%\n",
    "  dplyr::arrange(desc(n_unique_metapaths))"
   ]
  }
 ],
 "metadata": {
  "kernelspec": {
   "display_name": "R",
   "language": "R",
   "name": "ir"
  },
  "language_info": {
   "codemirror_mode": "r",
   "file_extension": ".r",
   "mimetype": "text/x-r-source",
   "name": "R",
   "pygments_lexer": "r",
   "version": "3.2.3"
  }
 },
 "nbformat": 4,
 "nbformat_minor": 0
}
