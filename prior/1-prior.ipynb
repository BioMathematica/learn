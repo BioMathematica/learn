{
 "cells": [
  {
   "cell_type": "markdown",
   "metadata": {},
   "source": [
    "# Compute the prior probability of treatment using permutation "
   ]
  },
  {
   "cell_type": "code",
   "execution_count": 1,
   "metadata": {
    "collapsed": true
   },
   "outputs": [],
   "source": [
    "import itertools\n",
    "import statistics\n",
    "\n",
    "import pandas\n",
    "\n",
    "from hetio.permute import permute_pair_list"
   ]
  },
  {
   "cell_type": "code",
   "execution_count": 2,
   "metadata": {
    "collapsed": false
   },
   "outputs": [
    {
     "data": {
      "text/html": [
       "<div>\n",
       "<table border=\"1\" class=\"dataframe\">\n",
       "  <thead>\n",
       "    <tr style=\"text-align: right;\">\n",
       "      <th></th>\n",
       "      <th>compound_id</th>\n",
       "      <th>compound_name</th>\n",
       "      <th>disease_id</th>\n",
       "      <th>disease_name</th>\n",
       "      <th>rel_type</th>\n",
       "    </tr>\n",
       "  </thead>\n",
       "  <tbody>\n",
       "    <tr>\n",
       "      <th>0</th>\n",
       "      <td>DB01048</td>\n",
       "      <td>Abacavir</td>\n",
       "      <td>DOID:635</td>\n",
       "      <td>acquired immunodeficiency syndrome</td>\n",
       "      <td>TREATS_CtD</td>\n",
       "    </tr>\n",
       "    <tr>\n",
       "      <th>1</th>\n",
       "      <td>DB05812</td>\n",
       "      <td>Abiraterone</td>\n",
       "      <td>DOID:10283</td>\n",
       "      <td>prostate cancer</td>\n",
       "      <td>TREATS_CtD</td>\n",
       "    </tr>\n",
       "  </tbody>\n",
       "</table>\n",
       "</div>"
      ],
      "text/plain": [
       "  compound_id compound_name  disease_id                        disease_name  \\\n",
       "0     DB01048      Abacavir    DOID:635  acquired immunodeficiency syndrome   \n",
       "1     DB05812   Abiraterone  DOID:10283                     prostate cancer   \n",
       "\n",
       "     rel_type  \n",
       "0  TREATS_CtD  \n",
       "1  TREATS_CtD  "
      ]
     },
     "execution_count": 2,
     "metadata": {},
     "output_type": "execute_result"
    }
   ],
   "source": [
    "# Read treatments\n",
    "treatment_df = pandas.read_table('../summary/indications.tsv')\n",
    "treatment_df = treatment_df.query(\"rel_type == 'TREATS_CtD'\")\n",
    "treatment_df.head(2)"
   ]
  },
  {
   "cell_type": "code",
   "execution_count": 3,
   "metadata": {
    "collapsed": false
   },
   "outputs": [],
   "source": [
    "# Create node to degree dictionaries\n",
    "compound_to_degree = dict(treatment_df.compound_id.value_counts())\n",
    "disease_to_degree = dict(treatment_df.disease_id.value_counts())"
   ]
  },
  {
   "cell_type": "code",
   "execution_count": 4,
   "metadata": {
    "collapsed": false
   },
   "outputs": [],
   "source": [
    "# A degree (compound_degree, disease_degree) to all potential edges with that degree\n",
    "degree_to_edges = dict()\n",
    "\n",
    "rows = list()\n",
    "for (c, c_deg), (d, d_deg) in itertools.product(compound_to_degree.items(), disease_to_degree.items()):\n",
    "    rows.append((c, d, c_deg, d_deg))\n",
    "    degree = c_deg, d_deg\n",
    "    edge = c, d\n",
    "    degree_to_edges.setdefault(degree, set()).add(edge)\n",
    "\n",
    "pair_df = pandas.DataFrame(rows, columns=['compound_id', 'disease_id', 'compound_treats', 'disease_treats'])\n",
    "pair_df = pair_df.sort_values(['compound_id', 'disease_id'])"
   ]
  },
  {
   "cell_type": "code",
   "execution_count": 5,
   "metadata": {
    "collapsed": true
   },
   "outputs": [],
   "source": [
    "treatments = list(zip(treatment_df.compound_id, treatment_df.disease_id))"
   ]
  },
  {
   "cell_type": "code",
   "execution_count": 6,
   "metadata": {
    "collapsed": false
   },
   "outputs": [
    {
     "data": {
      "text/html": [
       "<div>\n",
       "<table border=\"1\" class=\"dataframe\">\n",
       "  <thead>\n",
       "    <tr style=\"text-align: right;\">\n",
       "      <th></th>\n",
       "      <th>attempts</th>\n",
       "      <th>complete</th>\n",
       "      <th>cumulative_attempts</th>\n",
       "      <th>duplicate</th>\n",
       "      <th>excluded</th>\n",
       "      <th>same_edge</th>\n",
       "      <th>self_loop</th>\n",
       "      <th>unchanged</th>\n",
       "      <th>undirected_duplicate</th>\n",
       "    </tr>\n",
       "  </thead>\n",
       "  <tbody>\n",
       "    <tr>\n",
       "      <th>0</th>\n",
       "      <td>756</td>\n",
       "      <td>0.100132</td>\n",
       "      <td>755</td>\n",
       "      <td>0.191799</td>\n",
       "      <td>0.0</td>\n",
       "      <td>0.001323</td>\n",
       "      <td>0.0</td>\n",
       "      <td>0.254305</td>\n",
       "      <td>0.0</td>\n",
       "    </tr>\n",
       "    <tr>\n",
       "      <th>1</th>\n",
       "      <td>755</td>\n",
       "      <td>0.200132</td>\n",
       "      <td>1510</td>\n",
       "      <td>0.229139</td>\n",
       "      <td>0.0</td>\n",
       "      <td>0.001325</td>\n",
       "      <td>0.0</td>\n",
       "      <td>0.144371</td>\n",
       "      <td>0.0</td>\n",
       "    </tr>\n",
       "    <tr>\n",
       "      <th>2</th>\n",
       "      <td>755</td>\n",
       "      <td>0.300132</td>\n",
       "      <td>2265</td>\n",
       "      <td>0.201325</td>\n",
       "      <td>0.0</td>\n",
       "      <td>0.002649</td>\n",
       "      <td>0.0</td>\n",
       "      <td>0.115232</td>\n",
       "      <td>0.0</td>\n",
       "    </tr>\n",
       "    <tr>\n",
       "      <th>3</th>\n",
       "      <td>755</td>\n",
       "      <td>0.400132</td>\n",
       "      <td>3020</td>\n",
       "      <td>0.210596</td>\n",
       "      <td>0.0</td>\n",
       "      <td>0.001325</td>\n",
       "      <td>0.0</td>\n",
       "      <td>0.094040</td>\n",
       "      <td>0.0</td>\n",
       "    </tr>\n",
       "    <tr>\n",
       "      <th>4</th>\n",
       "      <td>755</td>\n",
       "      <td>0.500132</td>\n",
       "      <td>3775</td>\n",
       "      <td>0.239735</td>\n",
       "      <td>0.0</td>\n",
       "      <td>0.000000</td>\n",
       "      <td>0.0</td>\n",
       "      <td>0.103311</td>\n",
       "      <td>0.0</td>\n",
       "    </tr>\n",
       "    <tr>\n",
       "      <th>5</th>\n",
       "      <td>755</td>\n",
       "      <td>0.600132</td>\n",
       "      <td>4530</td>\n",
       "      <td>0.215894</td>\n",
       "      <td>0.0</td>\n",
       "      <td>0.000000</td>\n",
       "      <td>0.0</td>\n",
       "      <td>0.112583</td>\n",
       "      <td>0.0</td>\n",
       "    </tr>\n",
       "    <tr>\n",
       "      <th>6</th>\n",
       "      <td>755</td>\n",
       "      <td>0.700132</td>\n",
       "      <td>5285</td>\n",
       "      <td>0.231788</td>\n",
       "      <td>0.0</td>\n",
       "      <td>0.002649</td>\n",
       "      <td>0.0</td>\n",
       "      <td>0.127152</td>\n",
       "      <td>0.0</td>\n",
       "    </tr>\n",
       "    <tr>\n",
       "      <th>7</th>\n",
       "      <td>755</td>\n",
       "      <td>0.800132</td>\n",
       "      <td>6040</td>\n",
       "      <td>0.225166</td>\n",
       "      <td>0.0</td>\n",
       "      <td>0.001325</td>\n",
       "      <td>0.0</td>\n",
       "      <td>0.112583</td>\n",
       "      <td>0.0</td>\n",
       "    </tr>\n",
       "    <tr>\n",
       "      <th>8</th>\n",
       "      <td>755</td>\n",
       "      <td>0.900132</td>\n",
       "      <td>6795</td>\n",
       "      <td>0.200000</td>\n",
       "      <td>0.0</td>\n",
       "      <td>0.001325</td>\n",
       "      <td>0.0</td>\n",
       "      <td>0.101987</td>\n",
       "      <td>0.0</td>\n",
       "    </tr>\n",
       "    <tr>\n",
       "      <th>9</th>\n",
       "      <td>754</td>\n",
       "      <td>1.000000</td>\n",
       "      <td>7549</td>\n",
       "      <td>0.238727</td>\n",
       "      <td>0.0</td>\n",
       "      <td>0.001326</td>\n",
       "      <td>0.0</td>\n",
       "      <td>0.107285</td>\n",
       "      <td>0.0</td>\n",
       "    </tr>\n",
       "  </tbody>\n",
       "</table>\n",
       "</div>"
      ],
      "text/plain": [
       "   attempts  complete  cumulative_attempts  duplicate  excluded  same_edge  \\\n",
       "0       756  0.100132                  755   0.191799       0.0   0.001323   \n",
       "1       755  0.200132                 1510   0.229139       0.0   0.001325   \n",
       "2       755  0.300132                 2265   0.201325       0.0   0.002649   \n",
       "3       755  0.400132                 3020   0.210596       0.0   0.001325   \n",
       "4       755  0.500132                 3775   0.239735       0.0   0.000000   \n",
       "5       755  0.600132                 4530   0.215894       0.0   0.000000   \n",
       "6       755  0.700132                 5285   0.231788       0.0   0.002649   \n",
       "7       755  0.800132                 6040   0.225166       0.0   0.001325   \n",
       "8       755  0.900132                 6795   0.200000       0.0   0.001325   \n",
       "9       754  1.000000                 7549   0.238727       0.0   0.001326   \n",
       "\n",
       "   self_loop  unchanged  undirected_duplicate  \n",
       "0        0.0   0.254305                   0.0  \n",
       "1        0.0   0.144371                   0.0  \n",
       "2        0.0   0.115232                   0.0  \n",
       "3        0.0   0.094040                   0.0  \n",
       "4        0.0   0.103311                   0.0  \n",
       "5        0.0   0.112583                   0.0  \n",
       "6        0.0   0.127152                   0.0  \n",
       "7        0.0   0.112583                   0.0  \n",
       "8        0.0   0.101987                   0.0  \n",
       "9        0.0   0.107285                   0.0  "
      ]
     },
     "execution_count": 6,
     "metadata": {},
     "output_type": "execute_result"
    }
   ],
   "source": [
    "# Burn In\n",
    "pair_list, stats = permute_pair_list(treatments, multiplier=10)\n",
    "pandas.DataFrame(stats)"
   ]
  },
  {
   "cell_type": "code",
   "execution_count": 7,
   "metadata": {
    "collapsed": true
   },
   "outputs": [],
   "source": [
    "# Set the multiplier based on the burn in stats\n",
    "multiplier = 3"
   ]
  },
  {
   "cell_type": "code",
   "execution_count": 8,
   "metadata": {
    "collapsed": false
   },
   "outputs": [
    {
     "data": {
      "text/plain": [
       "744975"
      ]
     },
     "execution_count": 8,
     "metadata": {},
     "output_type": "execute_result"
    }
   ],
   "source": [
    "# Calculate the number of perms\n",
    "n_perm = treatment_df.compound_id.nunique() * treatment_df.disease_id.nunique()\n",
    "n_perm = int(n_perm * 25)\n",
    "n_perm"
   ]
  },
  {
   "cell_type": "code",
   "execution_count": 9,
   "metadata": {
    "collapsed": false
   },
   "outputs": [
    {
     "name": "stdout",
     "output_type": "stream",
     "text": [
      "CPU times: user 3h 54min 20s, sys: 18.7 s, total: 3h 54min 39s\n",
      "Wall time: 3h 54min 42s\n"
     ]
    }
   ],
   "source": [
    "%%time\n",
    "\n",
    "# Initialize a dictionary of degree to empirical probability list\n",
    "degree_to_probs = {x: list() for x in degree_to_edges}\n",
    "\n",
    "# Perform n_perm permutations\n",
    "for i in range(n_perm):\n",
    "    # Permute\n",
    "    pair_list, stats = permute_pair_list(pair_list, multiplier=multiplier, seed=i)\n",
    "    \n",
    "    # Update\n",
    "    pair_set = set(pair_list)\n",
    "    for degree, probs in degree_to_probs.items():\n",
    "        edges = degree_to_edges[degree]\n",
    "        probs.append(len(edges & pair_set) / len(edges))"
   ]
  },
  {
   "cell_type": "code",
   "execution_count": 25,
   "metadata": {
    "collapsed": false
   },
   "outputs": [
    {
     "name": "stdout",
     "output_type": "stream",
     "text": [
      "CPU times: user 59min 23s, sys: 15.7 s, total: 59min 39s\n",
      "Wall time: 59min 39s\n"
     ]
    }
   ],
   "source": [
    "%%time\n",
    "rows = list()\n",
    "for (c_deg, d_deg), probs in degree_to_probs.items():\n",
    "    mean = statistics.mean(probs)\n",
    "    std_error = statistics.stdev(probs) / len(probs) ** 0.5\n",
    "    rows.append((c_deg, d_deg, mean, std_error))\n",
    "perm_df = pandas.DataFrame(rows, columns=['compound_treats', 'disease_treats', 'prior_perm', 'prior_perm_stderr'])\n",
    "perm_df = perm_df.sort_values(['compound_treats', 'disease_treats'])"
   ]
  },
  {
   "cell_type": "code",
   "execution_count": 26,
   "metadata": {
    "collapsed": false
   },
   "outputs": [],
   "source": [
    "# Add unpermuted treatment prevalence columns\n",
    "rows = list()\n",
    "treatment_set = set(treatments)\n",
    "for (c_deg, d_deg), edges in degree_to_edges.items():\n",
    "    n_treatments = len(edges & treatment_set)\n",
    "    rows.append((c_deg, d_deg, n_treatments, len(edges)))\n",
    "degree_prior_df = pandas.DataFrame(rows, columns=['compound_treats', 'disease_treats', 'n_treatments', 'n_possible'])\n",
    "degree_prior_df = perm_df.merge(degree_prior_df)\n",
    "degree_prior_df = degree_prior_df.sort_values(['compound_treats', 'disease_treats'])"
   ]
  },
  {
   "cell_type": "code",
   "execution_count": 27,
   "metadata": {
    "collapsed": false
   },
   "outputs": [
    {
     "data": {
      "text/html": [
       "<div>\n",
       "<table border=\"1\" class=\"dataframe\">\n",
       "  <thead>\n",
       "    <tr style=\"text-align: right;\">\n",
       "      <th></th>\n",
       "      <th>compound_treats</th>\n",
       "      <th>disease_treats</th>\n",
       "      <th>prior_perm</th>\n",
       "      <th>prior_perm_stderr</th>\n",
       "      <th>n_treatments</th>\n",
       "      <th>n_possible</th>\n",
       "    </tr>\n",
       "  </thead>\n",
       "  <tbody>\n",
       "    <tr>\n",
       "      <th>406</th>\n",
       "      <td>19</td>\n",
       "      <td>51</td>\n",
       "      <td>0.733662</td>\n",
       "      <td>0.000512</td>\n",
       "      <td>0</td>\n",
       "      <td>1</td>\n",
       "    </tr>\n",
       "    <tr>\n",
       "      <th>407</th>\n",
       "      <td>19</td>\n",
       "      <td>68</td>\n",
       "      <td>0.795997</td>\n",
       "      <td>0.000467</td>\n",
       "      <td>1</td>\n",
       "      <td>1</td>\n",
       "    </tr>\n",
       "  </tbody>\n",
       "</table>\n",
       "</div>"
      ],
      "text/plain": [
       "     compound_treats  disease_treats  prior_perm  prior_perm_stderr  \\\n",
       "406               19              51    0.733662           0.000512   \n",
       "407               19              68    0.795997           0.000467   \n",
       "\n",
       "     n_treatments  n_possible  \n",
       "406             0           1  \n",
       "407             1           1  "
      ]
     },
     "execution_count": 27,
     "metadata": {},
     "output_type": "execute_result"
    }
   ],
   "source": [
    "degree_prior_df.tail(2)"
   ]
  },
  {
   "cell_type": "code",
   "execution_count": 28,
   "metadata": {
    "collapsed": true
   },
   "outputs": [],
   "source": [
    "degree_prior_df.to_csv('data/degree-prior.tsv', sep='\\t', index=False, float_format='%.6g')"
   ]
  },
  {
   "cell_type": "code",
   "execution_count": 29,
   "metadata": {
    "collapsed": false
   },
   "outputs": [],
   "source": [
    "obs_prior_df = pair_df.merge(perm_df)"
   ]
  },
  {
   "cell_type": "code",
   "execution_count": 30,
   "metadata": {
    "collapsed": false
   },
   "outputs": [
    {
     "data": {
      "text/html": [
       "<div>\n",
       "<table border=\"1\" class=\"dataframe\">\n",
       "  <thead>\n",
       "    <tr style=\"text-align: right;\">\n",
       "      <th></th>\n",
       "      <th>compound_id</th>\n",
       "      <th>disease_id</th>\n",
       "      <th>compound_treats</th>\n",
       "      <th>disease_treats</th>\n",
       "      <th>prior_perm</th>\n",
       "      <th>prior_perm_stderr</th>\n",
       "    </tr>\n",
       "  </thead>\n",
       "  <tbody>\n",
       "    <tr>\n",
       "      <th>0</th>\n",
       "      <td>DB00014</td>\n",
       "      <td>DOID:0050741</td>\n",
       "      <td>2</td>\n",
       "      <td>4</td>\n",
       "      <td>0.009801</td>\n",
       "      <td>0.000005</td>\n",
       "    </tr>\n",
       "    <tr>\n",
       "      <th>1</th>\n",
       "      <td>DB00014</td>\n",
       "      <td>DOID:10652</td>\n",
       "      <td>2</td>\n",
       "      <td>4</td>\n",
       "      <td>0.009801</td>\n",
       "      <td>0.000005</td>\n",
       "    </tr>\n",
       "  </tbody>\n",
       "</table>\n",
       "</div>"
      ],
      "text/plain": [
       "  compound_id    disease_id  compound_treats  disease_treats  prior_perm  \\\n",
       "0     DB00014  DOID:0050741                2               4    0.009801   \n",
       "1     DB00014    DOID:10652                2               4    0.009801   \n",
       "\n",
       "   prior_perm_stderr  \n",
       "0           0.000005  \n",
       "1           0.000005  "
      ]
     },
     "execution_count": 30,
     "metadata": {},
     "output_type": "execute_result"
    }
   ],
   "source": [
    "obs_prior_df.head(2)"
   ]
  },
  {
   "cell_type": "code",
   "execution_count": 31,
   "metadata": {
    "collapsed": false
   },
   "outputs": [
    {
     "data": {
      "text/plain": [
       "29799"
      ]
     },
     "execution_count": 31,
     "metadata": {},
     "output_type": "execute_result"
    }
   ],
   "source": [
    "len(obs_prior_df)"
   ]
  },
  {
   "cell_type": "code",
   "execution_count": 32,
   "metadata": {
    "collapsed": true
   },
   "outputs": [],
   "source": [
    "obs_prior_df.to_csv('data/observation-prior.tsv', sep='\\t', index=False, float_format='%.6g')"
   ]
  }
 ],
 "metadata": {
  "kernelspec": {
   "display_name": "Python 3",
   "language": "python",
   "name": "python3"
  },
  "language_info": {
   "codemirror_mode": {
    "name": "ipython",
    "version": 3
   },
   "file_extension": ".py",
   "mimetype": "text/x-python",
   "name": "python",
   "nbconvert_exporter": "python",
   "pygments_lexer": "ipython3",
   "version": "3.5.1"
  }
 },
 "nbformat": 4,
 "nbformat_minor": 0
}
