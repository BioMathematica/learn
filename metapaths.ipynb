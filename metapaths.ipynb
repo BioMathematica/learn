{
 "cells": [
  {
   "cell_type": "markdown",
   "metadata": {},
   "source": [
    "# Create metapaths for analysis"
   ]
  },
  {
   "cell_type": "code",
   "execution_count": 109,
   "metadata": {
    "collapsed": true
   },
   "outputs": [],
   "source": [
    "import json\n",
    "import collections\n",
    "import math\n",
    "import numpy\n",
    "\n",
    "import hetio.readwrite\n",
    "import hetio.neo4j"
   ]
  },
  {
   "cell_type": "code",
   "execution_count": 93,
   "metadata": {
    "collapsed": true
   },
   "outputs": [],
   "source": [
    "# Load metagraph for the hetnet\n",
    "commit = 'f076854ac2b9f785cb080f37ce7d186d7fcb7d0d'\n",
    "url = 'https://github.com/dhimmel/integrate/raw/{}/data/metagraph.json'.format(commit)\n",
    "metagraph = hetio.readwrite.read_metagraph(url)"
   ]
  },
  {
   "cell_type": "markdown",
   "metadata": {},
   "source": [
    "## Construct list of metapaths"
   ]
  },
  {
   "cell_type": "code",
   "execution_count": 94,
   "metadata": {
    "collapsed": false
   },
   "outputs": [],
   "source": [
    "def remove(metapath):\n",
    "    \"\"\"\n",
    "    Return True if metpath should be removed, so features\n",
    "    are not computed for it.\n",
    "    \"\"\"\n",
    "    if len(metapath) == 1:\n",
    "        return True\n",
    "    return False"
   ]
  },
  {
   "cell_type": "code",
   "execution_count": 95,
   "metadata": {
    "collapsed": true
   },
   "outputs": [],
   "source": [
    "# Cypher DWPC query parameters\n",
    "dwpc_query_options = {\n",
    "    'property': 'identifier',\n",
    "    'using': True,\n",
    "    'unique_nodes': 'labeled',\n",
    "}"
   ]
  },
  {
   "cell_type": "code",
   "execution_count": 96,
   "metadata": {
    "collapsed": false
   },
   "outputs": [
    {
     "name": "stdout",
     "output_type": "stream",
     "text": [
      "Removed 2 metapaths\n"
     ]
    }
   ],
   "source": [
    "metapaths = metagraph.extract_metapaths('compound', 'disease', max_length=4)\n",
    "obj = list()\n",
    "removed = list()\n",
    "for metapath in metapaths:\n",
    "    if remove(metapath):\n",
    "        removed.append(metapath)\n",
    "        continue\n",
    "    item = collections.OrderedDict()\n",
    "    item['length'] = len(metapath)\n",
    "    item['abbreviation'] = str(metapath)\n",
    "    item['edges'] = [str(x) for x in metapath.edges]\n",
    "    item['standard_edges'] = [str(x.inverse if x.inverted else x) for x in metapath.edges]\n",
    "    item['edge_abbreviations'] = [x.get_abbrev() for x in metapath.edges]\n",
    "    item['standard_edge_abbreviations'] = [x.get_standard_abbrev() for x in metapath.edges]\n",
    "    item['dwpc_query'] = hetio.neo4j.construct_dwpc_query(metapath, **dwpc_query_options)\n",
    "    obj.append(item)\n",
    "\n",
    "obj.sort(key=lambda x: (x['length'], x['abbreviation']))\n",
    "print('Removed {} metapaths'.format(len(removed)))"
   ]
  },
  {
   "cell_type": "markdown",
   "metadata": {},
   "source": [
    "## Calculate metpath complexity (mean/max degree products)"
   ]
  },
  {
   "cell_type": "code",
   "execution_count": 50,
   "metadata": {
    "collapsed": true
   },
   "outputs": [],
   "source": [
    "import pandas"
   ]
  },
  {
   "cell_type": "code",
   "execution_count": 58,
   "metadata": {
    "collapsed": false
   },
   "outputs": [],
   "source": [
    "url = 'https://github.com/dhimmel/integrate/raw/{}/data/summary/degrees.xlsx'.format(commit)\n",
    "degree_dfs = dict()\n",
    "for metanode in metagraph.get_nodes():\n",
    "    metanode_name = str(metanode)\n",
    "    degree_dfs[metanode_name] = pandas.read_excel(url, sheetname=metanode_name)"
   ]
  },
  {
   "cell_type": "code",
   "execution_count": 74,
   "metadata": {
    "collapsed": false
   },
   "outputs": [],
   "source": [
    "metaedge_to_max_degree = dict()\n",
    "metaedge_to_mean_degree = dict()\n",
    "for degree_df in degree_dfs.values():\n",
    "    for metaedge, degree in degree_df.iloc[:, 2:].max().items():\n",
    "        metaedge_to_max_degree[metaedge] = degree\n",
    "    for metaedge, degree in degree_df.iloc[:, 2:].mean().items():\n",
    "        metaedge_to_mean_degree[metaedge] = degree"
   ]
  },
  {
   "cell_type": "code",
   "execution_count": 127,
   "metadata": {
    "collapsed": false
   },
   "outputs": [],
   "source": [
    "def get_optimal_join_index(degrees):\n",
    "    \"\"\"\n",
    "    Returns `(join_index, complexity)` where join_index is the optimal\n",
    "    join index for path traversal based on `degrees` (a list of degrees)\n",
    "    and complexity is a log10 measure of the estimated computational complexity.\n",
    "    \"\"\"\n",
    "    log10_degrees = numpy.log10(degrees)\n",
    "    complexity = list()\n",
    "    for i in range(len(log10_degrees) + 1):\n",
    "        head = sum(log10_degrees[:i])\n",
    "        tail = sum(log10_degrees[i:])\n",
    "        complexity.append(math.log10(10 ** head + 10 ** tail))\n",
    "    i = numpy.argmin(complexity)\n",
    "    return i, complexity[i]"
   ]
  },
  {
   "cell_type": "code",
   "execution_count": 119,
   "metadata": {
    "collapsed": true
   },
   "outputs": [],
   "source": [
    "for item in obj:\n",
    "    max_degrees = [metaedge_to_max_degree[x] for x in item['edges']]\n",
    "    mean_degrees = [metaedge_to_mean_degree[x] for x in item['edges']]\n",
    "#     item['join_index_max'], item['complexity_max'] = get_optimal_join_index(max_degrees)\n",
    "#     item['join_index_mean'], item['complexity_mean'] = get_optimal_join_index(mean_degrees)\n",
    "    item['complexity_max'] = sum(numpy.log10(max_degrees))\n",
    "    item['complexity_mean'] = sum(numpy.log10(max_degrees))"
   ]
  },
  {
   "cell_type": "markdown",
   "metadata": {},
   "source": [
    "## Save metapaths as a JSON file "
   ]
  },
  {
   "cell_type": "code",
   "execution_count": 99,
   "metadata": {
    "collapsed": false
   },
   "outputs": [],
   "source": [
    "path = 'data/all-features/metapaths.json'\n",
    "with open(path, 'w') as fp:\n",
    "    json.dump(obj, fp, indent=2)"
   ]
  }
 ],
 "metadata": {
  "kernelspec": {
   "display_name": "Python 3",
   "language": "python",
   "name": "python3"
  },
  "language_info": {
   "codemirror_mode": {
    "name": "ipython",
    "version": 3
   },
   "file_extension": ".py",
   "mimetype": "text/x-python",
   "name": "python",
   "nbconvert_exporter": "python",
   "pygments_lexer": "ipython3",
   "version": "3.5.1"
  }
 },
 "nbformat": 4,
 "nbformat_minor": 0
}
