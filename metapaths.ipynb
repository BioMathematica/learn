{
 "cells": [
  {
   "cell_type": "markdown",
   "metadata": {},
   "source": [
    "# Create metapaths for analysis"
   ]
  },
  {
   "cell_type": "code",
   "execution_count": 109,
   "metadata": {
    "collapsed": true
   },
   "outputs": [],
   "source": [
    "import json\n",
    "import collections\n",
    "import math\n",
    "import numpy\n",
    "\n",
    "import hetio.readwrite\n",
    "import hetio.neo4j"
   ]
  },
  {
   "cell_type": "code",
   "execution_count": 93,
   "metadata": {
    "collapsed": true
   },
   "outputs": [],
   "source": [
    "# Load metagraph for the hetnet\n",
    "commit = 'f076854ac2b9f785cb080f37ce7d186d7fcb7d0d'\n",
    "url = 'https://github.com/dhimmel/integrate/raw/{}/data/metagraph.json'.format(commit)\n",
    "metagraph = hetio.readwrite.read_metagraph(url)"
   ]
  },
  {
   "cell_type": "markdown",
   "metadata": {},
   "source": [
    "## Construct list of metapaths"
   ]
  },
  {
   "cell_type": "code",
   "execution_count": 94,
   "metadata": {
    "collapsed": false
   },
   "outputs": [],
   "source": [
    "def remove(metapath):\n",
    "    \"\"\"\n",
    "    Return True if metpath should be removed, so features\n",
    "    are not computed for it.\n",
    "    \"\"\"\n",
    "    if len(metapath) == 1:\n",
    "        return True\n",
    "    return False"
   ]
  },
  {
   "cell_type": "code",
   "execution_count": 95,
   "metadata": {
    "collapsed": true
   },
   "outputs": [],
   "source": [
    "# Cypher DWPC query parameters\n",
    "dwpc_query_options = {\n",
    "    'property': 'identifier',\n",
    "    'using': True,\n",
    "    'unique_nodes': 'labeled',\n",
    "}"
   ]
  },
  {
   "cell_type": "code",
   "execution_count": 96,
   "metadata": {
    "collapsed": false
   },
   "outputs": [
    {
     "name": "stdout",
     "output_type": "stream",
     "text": [
      "Removed 2 metapaths\n"
     ]
    }
   ],
   "source": [
    "metapaths = metagraph.extract_metapaths('compound', 'disease', max_length=4)\n",
    "obj = list()\n",
    "removed = list()\n",
    "for metapath in metapaths:\n",
    "    if remove(metapath):\n",
    "        removed.append(metapath)\n",
    "        continue\n",
    "    item = collections.OrderedDict()\n",
    "    item['length'] = len(metapath)\n",
    "    item['abbreviation'] = str(metapath)\n",
    "    item['edges'] = [str(x) for x in metapath.edges]\n",
    "    item['standard_edges'] = [str(x.inverse if x.inverted else x) for x in metapath.edges]\n",
    "    item['edge_abbreviations'] = [x.get_abbrev() for x in metapath.edges]\n",
    "    item['standard_edge_abbreviations'] = [x.get_standard_abbrev() for x in metapath.edges]\n",
    "    item['dwpc_query'] = hetio.neo4j.construct_dwpc_query(metapath, **dwpc_query_options)\n",
    "    obj.append(item)\n",
    "\n",
    "obj.sort(key=lambda x: (x['length'], x['abbreviation']))\n",
    "print('Removed {} metapaths'.format(len(removed)))"
   ]
  },
  {
   "cell_type": "markdown",
   "metadata": {},
   "source": [
    "## Calculate metpath complexity (mean/max degree products)"
   ]
  },
  {
   "cell_type": "code",
   "execution_count": 50,
   "metadata": {
    "collapsed": true
   },
   "outputs": [],
   "source": [
    "import pandas"
   ]
  },
  {
   "cell_type": "code",
   "execution_count": 58,
   "metadata": {
    "collapsed": false
   },
   "outputs": [],
   "source": [
    "url = 'https://github.com/dhimmel/integrate/raw/{}/data/summary/degrees.xlsx'.format(commit)\n",
    "degree_dfs = dict()\n",
    "for metanode in metagraph.get_nodes():\n",
    "    metanode_name = str(metanode)\n",
    "    degree_dfs[metanode_name] = pandas.read_excel(url, sheetname=metanode_name)"
   ]
  },
  {
   "cell_type": "code",
   "execution_count": 163,
   "metadata": {
    "collapsed": false
   },
   "outputs": [],
   "source": [
    "metaedge_to_max_degree = dict()\n",
    "metaedge_to_mean_degree = dict()\n",
    "for degree_df in degree_dfs.values():\n",
    "    for metaedge, degree in degree_df.iloc[:, 2:].max().items():\n",
    "        metaedge_to_max_degree[metaedge] = degree\n",
    "#     for metaedge, degree in degree_df.iloc[:, 2:].mean().items():\n",
    "#         metaedge_to_mean_degree[metaedge] = degree\n",
    "    degrees = degree_df.iloc[:, 2:].apply(lambda x: numpy.average(x, weights=x), axis='rows')\n",
    "    for metaedge, degree in degrees.items():\n",
    "        metaedge_to_mean_degree[metaedge] = degree"
   ]
  },
  {
   "cell_type": "code",
   "execution_count": 164,
   "metadata": {
    "collapsed": false
   },
   "outputs": [],
   "source": [
    "def get_optimal_join_index(degrees, midpoint=False):\n",
    "    \"\"\"\n",
    "    Returns `(join_index, complexity)` where join_index is the optimal\n",
    "    join index for path traversal based on `degrees` (a list of degrees)\n",
    "    and complexity is a log10 measure of the estimated computational complexity.\n",
    "    \"\"\"\n",
    "    log10_degrees = numpy.log10(degrees)\n",
    "    complexity = list()\n",
    "    for i in range(len(degrees) + 1):\n",
    "        head = sum(log10_degrees[:i])\n",
    "        tail = sum(log10_degrees[i:])\n",
    "        complexity.append(math.log10(10 ** head + 10 ** tail))\n",
    "    i = numpy.argmin(complexity)\n",
    "    if midpoint:\n",
    "        i = len(degrees) // 2\n",
    "    return int(i), float(complexity[i])"
   ]
  },
  {
   "cell_type": "code",
   "execution_count": 165,
   "metadata": {
    "collapsed": false
   },
   "outputs": [],
   "source": [
    "for item in obj:\n",
    "    max_degrees = [metaedge_to_max_degree[x] for x in item['edges']]\n",
    "    mean_degrees = [metaedge_to_mean_degree[x] for x in item['edges']]\n",
    "    item['join_index_max'], item['complexity_max'] = get_optimal_join_index(max_degrees)\n",
    "    item['join_index_mean'], item['complexity_mean'] = get_optimal_join_index(mean_degrees)\n",
    "    item['midpoint'], item['midpoint_complexity_mean'] = get_optimal_join_index(mean_degrees, midpoint=True)\n",
    "    item['midpoint'], item['midpoint_complexity_max'] = get_optimal_join_index(max_degrees, midpoint=True)\n"
   ]
  },
  {
   "cell_type": "code",
   "execution_count": 166,
   "metadata": {
    "collapsed": false
   },
   "outputs": [
    {
     "data": {
      "text/plain": [
       "0.93071786310517535"
      ]
     },
     "execution_count": 166,
     "metadata": {},
     "output_type": "execute_result"
    }
   ],
   "source": [
    "# Percent of time the max complexity join index is the midpoint\n",
    "numpy.mean([item['midpoint'] == item['join_index_max'] for item in obj])"
   ]
  },
  {
   "cell_type": "code",
   "execution_count": 167,
   "metadata": {
    "collapsed": false
   },
   "outputs": [
    {
     "data": {
      "text/plain": [
       "0.81302170283806341"
      ]
     },
     "execution_count": 167,
     "metadata": {},
     "output_type": "execute_result"
    }
   ],
   "source": [
    "# Percent of time the mean complexity join index is the midpoint\n",
    "numpy.mean([item['midpoint'] == item['join_index_mean'] for item in obj])"
   ]
  },
  {
   "cell_type": "markdown",
   "metadata": {},
   "source": [
    "## Save metapaths as a JSON file "
   ]
  },
  {
   "cell_type": "code",
   "execution_count": 168,
   "metadata": {
    "collapsed": false
   },
   "outputs": [],
   "source": [
    "path = 'data/all-features/metapaths.json'\n",
    "with open(path, 'w') as fp:\n",
    "    json.dump(obj, fp, indent=2)"
   ]
  },
  {
   "cell_type": "code",
   "execution_count": 169,
   "metadata": {
    "collapsed": false
   },
   "outputs": [
    {
     "data": {
      "text/plain": [
       "OrderedDict([('length', 2),\n",
       "             ('abbreviation', 'CbGaD'),\n",
       "             ('edges',\n",
       "              ['compound - binds - gene', 'gene - associates - disease']),\n",
       "             ('standard_edges',\n",
       "              ['compound - binds - gene', 'disease - associates - gene']),\n",
       "             ('edge_abbreviations', ['CbG', 'GaD']),\n",
       "             ('standard_edge_abbreviations', ['CbG', 'DaG']),\n",
       "             ('dwpc_query',\n",
       "              'MATCH path = (n0:Compound)-[:BINDS_CbG]-(n1)-[:ASSOCIATES_DaG]-(n2:Disease)\\nUSING INDEX n0:Compound(identifier)\\nUSING INDEX n2:Disease(identifier)\\nUSING JOIN ON n1\\nWHERE n0.identifier = { source }\\nAND n2.identifier = { target }\\nAND \\nWITH\\n[\\nsize((n0)-[:BINDS_CbG]-()),\\nsize(()-[:BINDS_CbG]-(n1)),\\nsize((n1)-[:ASSOCIATES_DaG]-()),\\nsize(()-[:ASSOCIATES_DaG]-(n2))\\n] AS degrees, path\\nRETURN\\ncount(path) AS PC,\\nsum(reduce(pdp = 1.0, d in degrees| pdp * d ^ -{ w })) AS DWPC'),\n",
       "             ('complexity_max', 2.2528530309798933),\n",
       "             ('complexity_mean', 1.3959087280383646),\n",
       "             ('join_index_max', 1),\n",
       "             ('join_index_mean', 1),\n",
       "             ('midpoint', 1),\n",
       "             ('midpoint_complexity_mean', 1.3959087280383646),\n",
       "             ('midpoint_complexity_max', 2.2528530309798933)])"
      ]
     },
     "execution_count": 169,
     "metadata": {},
     "output_type": "execute_result"
    }
   ],
   "source": [
    "obj[0]"
   ]
  },
  {
   "cell_type": "code",
   "execution_count": null,
   "metadata": {
    "collapsed": true
   },
   "outputs": [],
   "source": []
  }
 ],
 "metadata": {
  "kernelspec": {
   "display_name": "Python 3",
   "language": "python",
   "name": "python3"
  },
  "language_info": {
   "codemirror_mode": {
    "name": "ipython",
    "version": 3
   },
   "file_extension": ".py",
   "mimetype": "text/x-python",
   "name": "python",
   "nbconvert_exporter": "python",
   "pygments_lexer": "ipython3",
   "version": "3.5.1"
  }
 },
 "nbformat": 4,
 "nbformat_minor": 0
}
