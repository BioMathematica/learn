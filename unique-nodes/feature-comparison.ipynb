{
 "cells": [
  {
   "cell_type": "markdown",
   "metadata": {},
   "source": [
    "# Feature comparisons between allowing and excluding paths with duplicate nodes"
   ]
  },
  {
   "cell_type": "code",
   "execution_count": 1,
   "metadata": {
    "collapsed": false
   },
   "outputs": [
    {
     "name": "stderr",
     "output_type": "stream",
     "text": [
      "/home/dhimmels/anaconda3/lib/python3.5/site-packages/matplotlib/__init__.py:872: UserWarning: axes.color_cycle is deprecated and replaced with axes.prop_cycle; please use the latter.\n",
      "  warnings.warn(self.msg_depr % (key, alt_key))\n"
     ]
    }
   ],
   "source": [
    "import pandas\n",
    "import matplotlib.pyplot\n",
    "import seaborn\n",
    "import numpy\n",
    "import sklearn.metrics\n",
    "import qgrid"
   ]
  },
  {
   "cell_type": "code",
   "execution_count": 2,
   "metadata": {
    "collapsed": true
   },
   "outputs": [],
   "source": [
    "seaborn.set_style('whitegrid')\n",
    "%matplotlib inline"
   ]
  },
  {
   "cell_type": "code",
   "execution_count": 3,
   "metadata": {
    "collapsed": false
   },
   "outputs": [],
   "source": [
    "# Read feature and partition data\n",
    "feature_df = pandas.read_table('features.tsv.gz', nrows=None)\n",
    "part_df = pandas.read_table('../data/partition.tsv.gz')"
   ]
  },
  {
   "cell_type": "code",
   "execution_count": 4,
   "metadata": {
    "collapsed": false
   },
   "outputs": [],
   "source": [
    "dfs = {}\n",
    "for key in 'PC', 'DWPC':\n",
    "    # Create spread dataframe\n",
    "    df = feature_df.pivot_table(values=key, index=['compound_id', 'disease_id', 'metapath'], columns='unique_nodes')\n",
    "    df = df.dropna() # use if only reading a part of `dwpc.tsv.gz`\n",
    "    \n",
    "    # Check that the two methods of duplicate node exclusion produce the same results\n",
    "    assert all(numpy.isclose(df.nested, df.expanded) & numpy.isclose(df.expanded, df.labeled))\n",
    "    \n",
    "    # Remove duplicate columns and rename columns\n",
    "    df = df.drop(['nested', 'expanded'], axis=1)\n",
    "    df = df.rename(columns={'False': key + '_dupl', 'labeled': key + '_nodupl'})\n",
    "    dfs[key] = df\n",
    "\n",
    "# Create a spread dataframe of Path Counts\n",
    "spread_df = pandas.concat(dfs.values(), axis=1).reset_index()"
   ]
  },
  {
   "cell_type": "code",
   "execution_count": 5,
   "metadata": {
    "collapsed": false
   },
   "outputs": [
    {
     "data": {
      "text/html": [
       "<div>\n",
       "<table border=\"1\" class=\"dataframe\">\n",
       "  <thead>\n",
       "    <tr style=\"text-align: right;\">\n",
       "      <th>unique_nodes</th>\n",
       "      <th>compound_id</th>\n",
       "      <th>disease_id</th>\n",
       "      <th>metapath</th>\n",
       "      <th>PC_dupl</th>\n",
       "      <th>PC_nodupl</th>\n",
       "      <th>DWPC_dupl</th>\n",
       "      <th>DWPC_nodupl</th>\n",
       "    </tr>\n",
       "  </thead>\n",
       "  <tbody>\n",
       "    <tr>\n",
       "      <th>0</th>\n",
       "      <td>DB00091</td>\n",
       "      <td>DOID:1312</td>\n",
       "      <td>CbG&lt;kdG&lt;kdGaD</td>\n",
       "      <td>18</td>\n",
       "      <td>18</td>\n",
       "      <td>0.000601</td>\n",
       "      <td>0.000601</td>\n",
       "    </tr>\n",
       "    <tr>\n",
       "      <th>1</th>\n",
       "      <td>DB00091</td>\n",
       "      <td>DOID:1312</td>\n",
       "      <td>CbG&lt;kdG&lt;kdGdD</td>\n",
       "      <td>0</td>\n",
       "      <td>0</td>\n",
       "      <td>0.000000</td>\n",
       "      <td>0.000000</td>\n",
       "    </tr>\n",
       "  </tbody>\n",
       "</table>\n",
       "</div>"
      ],
      "text/plain": [
       "unique_nodes compound_id disease_id       metapath  PC_dupl  PC_nodupl  \\\n",
       "0                DB00091  DOID:1312  CbG<kdG<kdGaD       18         18   \n",
       "1                DB00091  DOID:1312  CbG<kdG<kdGdD        0          0   \n",
       "\n",
       "unique_nodes  DWPC_dupl  DWPC_nodupl  \n",
       "0              0.000601     0.000601  \n",
       "1              0.000000     0.000000  "
      ]
     },
     "execution_count": 5,
     "metadata": {},
     "output_type": "execute_result"
    }
   ],
   "source": [
    "spread_df.head(2)"
   ]
  },
  {
   "cell_type": "markdown",
   "metadata": {},
   "source": [
    "# PC differences"
   ]
  },
  {
   "cell_type": "code",
   "execution_count": 6,
   "metadata": {
    "collapsed": false
   },
   "outputs": [
    {
     "data": {
      "text/plain": [
       "'2.76% of path counts were affected by the unique node constraint'"
      ]
     },
     "execution_count": 6,
     "metadata": {},
     "output_type": "execute_result"
    }
   ],
   "source": [
    "# Filter for differing rows\n",
    "pct_disagree = 100 * (spread_df['PC_nodupl'] != spread_df['PC_dupl']).mean()\n",
    "'{:.02f}% of path counts were affected by the unique node constraint'.format(pct_disagree)"
   ]
  },
  {
   "cell_type": "code",
   "execution_count": 7,
   "metadata": {
    "collapsed": false
   },
   "outputs": [],
   "source": [
    "def metapath_summarize(df):\n",
    "    \"\"\"\n",
    "    Summarize a feature dataframe for a single metapath.\n",
    "    \"\"\"\n",
    "    row = pandas.Series()\n",
    "    \n",
    "    # Find instances were path counts are affected by duplicate node exlusion\n",
    "    disagree = df['PC_nodupl'] != df['PC_dupl']\n",
    "    \n",
    "    # Percent of compound-disease pairs (instances) that the unique node constraint has an effect\n",
    "    row['pct_affected'] = 100 * sum(disagree) / len(df)\n",
    "    \n",
    "    # Compare average path counts when allowing and excluding duplicate nodes\n",
    "    row['mean_PC_dupl'] = df['PC_dupl'].mean()\n",
    "    row['mean_PC_nodupl'] = df['PC_nodupl'].mean()\n",
    "    row['mean_pct_PC_increase'] = 100 * row['mean_PC_dupl'] / row['mean_PC_nodupl'] - 100\n",
    "    \n",
    "    # Calculate PC increases caused by allowing duplicate nodes seperately for indications and non-indications\n",
    "    neg_df = df[df.indication == 0]\n",
    "    pos_df = df[df.indication == 1]\n",
    "    row['mean_pct_PC_increase_nonind'] = 100 * neg_df['PC_dupl'].mean() / neg_df['PC_nodupl'].mean() - 100\n",
    "    row['mean_pct_PC_increase_ind'] = 100 * pos_df['PC_dupl'].mean() / pos_df['PC_nodupl'].mean() - 100\n",
    "    \n",
    "    # Calculate AUROCs of DWPCs when allowing and excluding duplicate nodes\n",
    "    row['auroc_dupl'] = sklearn.metrics.roc_auc_score(df['indication'], df['DWPC_dupl'])\n",
    "    row['auroc_nodupl'] = sklearn.metrics.roc_auc_score(df['indication'], df['DWPC_nodupl'])\n",
    "    row['auroc_diff'] = row['auroc_dupl'] - row['auroc_nodupl']\n",
    "    \n",
    "    return row"
   ]
  },
  {
   "cell_type": "code",
   "execution_count": 8,
   "metadata": {
    "collapsed": true
   },
   "outputs": [],
   "source": [
    "# Summarize features by metapath\n",
    "merged_df = part_df.merge(spread_df)\n",
    "metapath_df = merged_df.groupby('metapath').apply(metapath_summarize).fillna(0)\n",
    "metapath_df = metapath_df.sort_values('pct_affected', ascending=False)\n",
    "metapath_df['indication_metaedge'] = metapath_df.index.str.contains(r'CiD|DiC')\n",
    "metapath_df.reset_index().to_csv('metapaths.tsv', sep='\\t', index=False)"
   ]
  },
  {
   "cell_type": "code",
   "execution_count": 9,
   "metadata": {
    "collapsed": false
   },
   "outputs": [],
   "source": [
    "grid_options = {\n",
    "    'forceFitColumns': False,\n",
    "    'defaultColumnWidth': 200,\n",
    "    'editable': False,\n",
    "    'syncColumnCellResize': True,\n",
    "    'rowHeight': 28,\n",
    "}\n",
    "qgrid.show_grid(metapath_df, grid_options=grid_options, precision=2)"
   ]
  },
  {
   "cell_type": "code",
   "execution_count": 10,
   "metadata": {
    "collapsed": false
   },
   "outputs": [
    {
     "data": {
      "text/plain": [
       "'21.42% of metapaths had diminished AUROCs when exlcuding duplicate nodes.'"
      ]
     },
     "execution_count": 10,
     "metadata": {},
     "output_type": "execute_result"
    }
   ],
   "source": [
    "'{:.02f}% of metapaths had diminished AUROCs when exlcuding duplicate nodes.'.format(100 * (metapath_df.auroc_diff > 0).mean())"
   ]
  },
  {
   "cell_type": "code",
   "execution_count": 11,
   "metadata": {
    "collapsed": false
   },
   "outputs": [
    {
     "data": {
      "text/plain": [
       "'100.00% of AUROC-suffering (> 0.005) metapaths contained an indication metaedge.'"
      ]
     },
     "execution_count": 11,
     "metadata": {},
     "output_type": "execute_result"
    }
   ],
   "source": [
    "pct_suffer = metapath_df.query('auroc_diff > 0.005').indication_metaedge.mean() * 100\n",
    "'{:.02f}% of AUROC-suffering (> 0.005) metapaths contained an indication metaedge.'.format(pct_suffer)"
   ]
  },
  {
   "cell_type": "code",
   "execution_count": 12,
   "metadata": {
    "collapsed": false
   },
   "outputs": [
    {
     "name": "stderr",
     "output_type": "stream",
     "text": [
      "/home/dhimmels/anaconda3/lib/python3.5/site-packages/matplotlib/__init__.py:892: UserWarning: axes.color_cycle is deprecated and replaced with axes.prop_cycle; please use the latter.\n",
      "  warnings.warn(self.msg_depr % (key, alt_key))\n"
     ]
    },
    {
     "data": {
      "image/png": "[encoded data removed]",
      "text/plain": [
       "<matplotlib.figure.Figure at 0x7fccdb17eda0>"
      ]
     },
     "metadata": {},
     "output_type": "display_data"
    }
   ],
   "source": [
    "# Plot distributions of decline in metapath AUROC from excluding duplicate-node paths\n",
    "ax = seaborn.violinplot('auroc_diff', 'indication_metaedge', data=metapath_df, orient='h',\n",
    "                        scale='width', cut=0, inner='quartile', linewidth=0.4)\n",
    "matplotlib.pyplot.xlabel('Decline in AUROC from excluding paths with duplicate nodes');\n",
    "matplotlib.pyplot.ylabel('Contains an indication metaedge');\n",
    "matplotlib.pyplot.savefig('AUROC-violins.png', dpi=200, bbox_inches='tight', pad_inches=0.03)"
   ]
  }
 ],
 "metadata": {
  "kernelspec": {
   "display_name": "Python 3",
   "language": "python",
   "name": "python3"
  },
  "language_info": {
   "codemirror_mode": {
    "name": "ipython",
    "version": 3
   },
   "file_extension": ".py",
   "mimetype": "text/x-python",
   "name": "python",
   "nbconvert_exporter": "python",
   "pygments_lexer": "ipython3",
   "version": "3.5.0"
  }
 },
 "nbformat": 4,
 "nbformat_minor": 0
}
