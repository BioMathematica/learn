{
 "cells": [
  {
   "cell_type": "markdown",
   "metadata": {},
   "source": [
    "# Feature computation for various node uniqueness constraints"
   ]
  },
  {
   "cell_type": "code",
   "execution_count": 1,
   "metadata": {
    "collapsed": true
   },
   "outputs": [],
   "source": [
    "import threading\n",
    "import concurrent.futures\n",
    "import gzip\n",
    "import csv\n",
    "import time\n",
    "import functools\n",
    "import random\n",
    "\n",
    "import pandas\n",
    "import py2neo\n",
    "\n",
    "import hetio.readwrite\n",
    "import hetio.neo4j"
   ]
  },
  {
   "cell_type": "code",
   "execution_count": 2,
   "metadata": {
    "collapsed": true
   },
   "outputs": [],
   "source": [
    "# Read hetnet metagraph\n",
    "path = 'https://raw.githubusercontent.com/dhimmel/integrate/c56d312a53e351d26016d5fd4751a9715cc3f0c3/data/metagraph.json'\n",
    "metagraph = hetio.readwrite.read_metagraph(path)"
   ]
  },
  {
   "cell_type": "code",
   "execution_count": 3,
   "metadata": {
    "collapsed": false
   },
   "outputs": [
    {
     "data": {
      "text/plain": [
       "1979"
      ]
     },
     "execution_count": 3,
     "metadata": {},
     "output_type": "execute_result"
    }
   ],
   "source": [
    "# Extract metapaths\n",
    "metapaths = metagraph.extract_metapaths('compound', 'disease', max_length=4)\n",
    "metapaths.pop(0)\n",
    "len(metapaths)"
   ]
  },
  {
   "cell_type": "code",
   "execution_count": 4,
   "metadata": {
    "collapsed": false
   },
   "outputs": [
    {
     "data": {
      "text/plain": [
       "1    347\n",
       "0    317\n",
       "Name: indication, dtype: int64"
      ]
     },
     "execution_count": 4,
     "metadata": {},
     "output_type": "execute_result"
    }
   ],
   "source": [
    "# Read drug-compound disease pairs\n",
    "part_df = pandas.read_table('../data/partition.tsv.gz')\n",
    "part_df = part_df.query('(indication == 1 and percentile < 0.25) or (indication == 0 and percentile < 0.0015)')\n",
    "part_df.indication.value_counts()"
   ]
  },
  {
   "cell_type": "code",
   "execution_count": 5,
   "metadata": {
    "collapsed": false
   },
   "outputs": [],
   "source": [
    "# Create a cached DWPC query constructor\n",
    "construct_dwpc_query = functools.lru_cache(maxsize=None)(hetio.neo4j.construct_dwpc_query)"
   ]
  },
  {
   "cell_type": "code",
   "execution_count": 6,
   "metadata": {
    "collapsed": true
   },
   "outputs": [],
   "source": [
    "# Open neo4j connection\n",
    "uri = 'http://localhost:7474/db/data/'\n",
    "neo = py2neo.Graph(uri)"
   ]
  },
  {
   "cell_type": "code",
   "execution_count": 7,
   "metadata": {
    "collapsed": true
   },
   "outputs": [],
   "source": [
    "def generate_parameters(max_elems=None):\n",
    "    \"\"\"Generate compound, disease, metapath combinations\"\"\"\n",
    "    n = 0\n",
    "    for i, row in part_df.iterrows():\n",
    "        for metapath in metapaths:\n",
    "            for unique_nodes in random.sample(unique_nodes_options, len(unique_nodes_options)):\n",
    "                if max_elems is not None and n == max_elems:\n",
    "                    break\n",
    "                query = construct_dwpc_query(\n",
    "                    metarels = metapath,\n",
    "                    property = 'identifier',\n",
    "                    using = True,\n",
    "                    unique_nodes = unique_nodes)\n",
    "                yield {\n",
    "                    'compound_id': row['compound_id'],\n",
    "                    'disease_id': row['disease_id'],\n",
    "                    'metapath': metapath,\n",
    "                    'query': query,\n",
    "                    'w': 0.4,\n",
    "                    'unique_nodes': unique_nodes,\n",
    "                }\n",
    "                n += 1\n",
    "\n",
    "def compute_dwpc(query, metapath, compound_id, disease_id, w, unique_nodes):\n",
    "    \"\"\"Execute the neo4j query and write results to file\"\"\"\n",
    "    start = time.time()\n",
    "    results = neo.cypher.execute(query, source=compound_id, target=disease_id, w=w)\n",
    "    record = results.one\n",
    "    seconds = '{0:.4g}'.format(time.time() - start)\n",
    "    row = compound_id, disease_id, metapath, unique_nodes, record['PC'], w, record['DWPC'], seconds\n",
    "    with writer_lock:\n",
    "        writer.writerow(row)\n"
   ]
  },
  {
   "cell_type": "code",
   "execution_count": 8,
   "metadata": {
    "collapsed": false
   },
   "outputs": [
    {
     "name": "stdout",
     "output_type": "stream",
     "text": [
      "CPU times: user 3h 19s, sys: 10min 49s, total: 3h 11min 9s\n",
      "Wall time: 22h 52min 53s\n"
     ]
    }
   ],
   "source": [
    "%%time\n",
    "\n",
    "# Parameters\n",
    "workers = 10\n",
    "max_elems = None\n",
    "unique_nodes_options = False, 'nested', 'expanded', 'labeled'\n",
    "\n",
    "# Prepare writer\n",
    "path = 'features.tsv.gz'\n",
    "write_file = gzip.open(path, 'wt')\n",
    "writer = csv.writer(write_file, delimiter='\\t')\n",
    "writer.writerow(['compound_id', 'disease_id', 'metapath', 'unique_nodes', 'PC', 'w', 'DWPC', 'seconds'])\n",
    "\n",
    "# Create ThreadPoolExecutor\n",
    "executor = concurrent.futures.ThreadPoolExecutor(max_workers=workers)\n",
    "writer_lock = threading.Lock()\n",
    "\n",
    "# Submit jobs\n",
    "for params in generate_parameters(max_elems):\n",
    "    while executor._work_queue.qsize() > 5000:\n",
    "        time.sleep(1)\n",
    "    executor.submit(compute_dwpc, **params)\n",
    "\n",
    "# Shutdown and close\n",
    "executor.shutdown()\n",
    "write_file.close()"
   ]
  },
  {
   "cell_type": "code",
   "execution_count": null,
   "metadata": {
    "collapsed": true
   },
   "outputs": [],
   "source": []
  }
 ],
 "metadata": {
  "kernelspec": {
   "display_name": "Python 3",
   "language": "python",
   "name": "python3"
  },
  "language_info": {
   "codemirror_mode": {
    "name": "ipython",
    "version": 3
   },
   "file_extension": ".py",
   "mimetype": "text/x-python",
   "name": "python",
   "nbconvert_exporter": "python",
   "pygments_lexer": "ipython3",
   "version": "3.5.0"
  }
 },
 "nbformat": 4,
 "nbformat_minor": 0
}
