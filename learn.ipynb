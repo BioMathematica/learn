{
 "cells": [
  {
   "cell_type": "markdown",
   "metadata": {},
   "source": [
    "## hetnet machine learning"
   ]
  },
  {
   "cell_type": "code",
   "execution_count": 7,
   "metadata": {
    "collapsed": false
   },
   "outputs": [],
   "source": [
    "import itertools\n",
    "import collections\n",
    "import csv\n",
    "import gzip\n",
    "\n",
    "import pandas\n",
    "import sklearn.metrics\n",
    "\n",
    "import hetio.readwrite\n",
    "import hetio.pathtools"
   ]
  },
  {
   "cell_type": "markdown",
   "metadata": {},
   "source": [
    "## Download and load hetnet"
   ]
  },
  {
   "cell_type": "code",
   "execution_count": 2,
   "metadata": {
    "collapsed": false
   },
   "outputs": [],
   "source": [
    "# # Download network\n",
    "# url = 'https://raw.githubusercontent.com/dhimmel/integrate/f72d32ce09b8884b6ec7e000ec261c116b340198/data/graph.json.gz'\n",
    "# ! wget --no-verbose --directory-prefix download/ {url}"
   ]
  },
  {
   "cell_type": "code",
   "execution_count": 3,
   "metadata": {
    "collapsed": false
   },
   "outputs": [
    {
     "name": "stdout",
     "output_type": "stream",
     "text": [
      "CPU times: user 2min 24s, sys: 17.7 s, total: 2min 41s\n",
      "Wall time: 2min 41s\n"
     ]
    }
   ],
   "source": [
    "%%time\n",
    "graph = hetio.readwrite.read_json('download/graph.json.gz')\n",
    "metagraph = graph.metagraph"
   ]
  },
  {
   "cell_type": "code",
   "execution_count": 4,
   "metadata": {
    "collapsed": false
   },
   "outputs": [
    {
     "data": {
      "text/plain": [
       "18"
      ]
     },
     "execution_count": 4,
     "metadata": {},
     "output_type": "execute_result"
    }
   ],
   "source": [
    "metapaths = metagraph.extract_metapaths('compound', 'disease', max_length=2)\n",
    "metapaths.pop(0)\n",
    "len(metapaths)"
   ]
  },
  {
   "cell_type": "markdown",
   "metadata": {},
   "source": [
    "## Helper functions"
   ]
  },
  {
   "cell_type": "code",
   "execution_count": 9,
   "metadata": {
    "collapsed": true
   },
   "outputs": [],
   "source": [
    "def compute_dwpc(graph, compound_id, disease_id, metapath):\n",
    "    # Compute edge exclusions\n",
    "    exclude_edges = set()\n",
    "    edge_id = compound_id, disease_id, 'indication', 'both'\n",
    "    indication = graph.edge_dict.get(edge_id)\n",
    "    if indication:\n",
    "        exclude_edges.add(indication)\n",
    "        exclude_edges.add(indication.inverse)\n",
    "\n",
    "    compound = graph.get_node(('compound', compound_id))\n",
    "    disease = graph.get_node(('disease', disease_id))\n",
    "\n",
    "    paths = hetio.pathtools.paths_between(graph, compound, disease, metapath, exclude_edges=exclude_edges)\n",
    "    dwpc = hetio.pathtools.DWPC(paths, damping_exponent=0.4, exclude_edges=exclude_edges)\n",
    "    \n",
    "    row = collections.OrderedDict()\n",
    "    row['compound_id'] = compound_id\n",
    "    row['disease_id'] = disease_id\n",
    "    row['metapath'] = str(metapath)\n",
    "    row['path_count'] = len(paths)\n",
    "    row['dwpc'] = dwpc\n",
    "    \n",
    "    return row"
   ]
  },
  {
   "cell_type": "markdown",
   "metadata": {},
   "source": [
    "## Read part_df"
   ]
  },
  {
   "cell_type": "code",
   "execution_count": 10,
   "metadata": {
    "collapsed": false
   },
   "outputs": [
    {
     "data": {
      "text/html": [
       "<div>\n",
       "<table border=\"1\" class=\"dataframe\">\n",
       "  <thead>\n",
       "    <tr style=\"text-align: right;\">\n",
       "      <th></th>\n",
       "      <th>compound_id</th>\n",
       "      <th>compound_name</th>\n",
       "      <th>disease_id</th>\n",
       "      <th>disease_name</th>\n",
       "      <th>indication</th>\n",
       "      <th>percentile</th>\n",
       "    </tr>\n",
       "  </thead>\n",
       "  <tbody>\n",
       "    <tr>\n",
       "      <th>9</th>\n",
       "      <td>DB00014</td>\n",
       "      <td>Goserelin</td>\n",
       "      <td>DOID:10283</td>\n",
       "      <td>Prostate cancer</td>\n",
       "      <td>1</td>\n",
       "      <td>0.705331</td>\n",
       "    </tr>\n",
       "    <tr>\n",
       "      <th>20</th>\n",
       "      <td>DB00014</td>\n",
       "      <td>Goserelin</td>\n",
       "      <td>DOID:11119</td>\n",
       "      <td>Gilles de la Tourette syndrome</td>\n",
       "      <td>0</td>\n",
       "      <td>0.007863</td>\n",
       "    </tr>\n",
       "    <tr>\n",
       "      <th>54</th>\n",
       "      <td>DB00014</td>\n",
       "      <td>Goserelin</td>\n",
       "      <td>DOID:14268</td>\n",
       "      <td>sclerosing cholangitis</td>\n",
       "      <td>0</td>\n",
       "      <td>0.011764</td>\n",
       "    </tr>\n",
       "    <tr>\n",
       "      <th>58</th>\n",
       "      <td>DB00014</td>\n",
       "      <td>Goserelin</td>\n",
       "      <td>DOID:1612</td>\n",
       "      <td>Breast cancer</td>\n",
       "      <td>1</td>\n",
       "      <td>0.522334</td>\n",
       "    </tr>\n",
       "    <tr>\n",
       "      <th>82</th>\n",
       "      <td>DB00014</td>\n",
       "      <td>Goserelin</td>\n",
       "      <td>DOID:2986</td>\n",
       "      <td>IgA glomerulonephritis</td>\n",
       "      <td>0</td>\n",
       "      <td>0.013587</td>\n",
       "    </tr>\n",
       "  </tbody>\n",
       "</table>\n",
       "</div>"
      ],
      "text/plain": [
       "   compound_id compound_name  disease_id                    disease_name  \\\n",
       "9      DB00014     Goserelin  DOID:10283                 Prostate cancer   \n",
       "20     DB00014     Goserelin  DOID:11119  Gilles de la Tourette syndrome   \n",
       "54     DB00014     Goserelin  DOID:14268          sclerosing cholangitis   \n",
       "58     DB00014     Goserelin   DOID:1612                   Breast cancer   \n",
       "82     DB00014     Goserelin   DOID:2986          IgA glomerulonephritis   \n",
       "\n",
       "    indication  percentile  \n",
       "9            1    0.705331  \n",
       "20           0    0.007863  \n",
       "54           0    0.011764  \n",
       "58           1    0.522334  \n",
       "82           0    0.013587  "
      ]
     },
     "execution_count": 10,
     "metadata": {},
     "output_type": "execute_result"
    }
   ],
   "source": [
    "part_df = pandas.read_table('data/partition.tsv.gz')\n",
    "part_df = part_df.query('indication == 1 or percentile <= 0.02')\n",
    "part_df.head()"
   ]
  },
  {
   "cell_type": "code",
   "execution_count": 11,
   "metadata": {
    "collapsed": false
   },
   "outputs": [
    {
     "data": {
      "text/plain": [
       "5613"
      ]
     },
     "execution_count": 11,
     "metadata": {},
     "output_type": "execute_result"
    }
   ],
   "source": [
    "len(part_df)"
   ]
  },
  {
   "cell_type": "code",
   "execution_count": 12,
   "metadata": {
    "collapsed": false
   },
   "outputs": [],
   "source": [
    "metanode_to_nodes = graph.get_metanode_to_nodes()"
   ]
  },
  {
   "cell_type": "code",
   "execution_count": 13,
   "metadata": {
    "collapsed": true
   },
   "outputs": [],
   "source": [
    "#compounds = metanode_to_nodes[metagraph.get_node('compound')]\n",
    "#diseases = metanode_to_nodes[metagraph.get_node('disease')]\n",
    "#MS = graph.get_node(('disease', 'DOID:2377'))"
   ]
  },
  {
   "cell_type": "code",
   "execution_count": 15,
   "metadata": {
    "collapsed": false
   },
   "outputs": [
    {
     "name": "stdout",
     "output_type": "stream",
     "text": []
    }
   ],
   "source": [
    "write_file = gzip.open('data/dwpc.tsv.gz', 'wt')\n",
    "header = ['compound_id', 'disease_id', 'metapath', 'path_count', 'dwpc']\n",
    "writer = csv.DictWriter(write_file, delimiter='\\t', fieldnames=header)\n",
    "writer.writeheader()\n",
    "for i, row in part_df.iterrows():\n",
    "    print('Computing DWPCs for {} and {}'.format(row.compound_name, row.disease_name), end='\\r')\n",
    "    for metapath in metapaths:\n",
    "        compound_id = row['compound_id']\n",
    "        disease_id = row['disease_id']\n",
    "        row = compute_dwpc(graph, compound_id, disease_id, metapath)\n",
    "        writer.writerow(row)\n",
    "\n",
    "write_file.close()"
   ]
  },
  {
   "cell_type": "markdown",
   "metadata": {},
   "source": [
    "# Performance"
   ]
  },
  {
   "cell_type": "code",
   "execution_count": 16,
   "metadata": {
    "collapsed": false
   },
   "outputs": [
    {
     "data": {
      "text/html": [
       "<div>\n",
       "<table border=\"1\" class=\"dataframe\">\n",
       "  <thead>\n",
       "    <tr style=\"text-align: right;\">\n",
       "      <th></th>\n",
       "      <th>compound_id</th>\n",
       "      <th>disease_id</th>\n",
       "      <th>metapath</th>\n",
       "      <th>path_count</th>\n",
       "      <th>dwpc</th>\n",
       "    </tr>\n",
       "  </thead>\n",
       "  <tbody>\n",
       "    <tr>\n",
       "      <th>101029</th>\n",
       "      <td>DB09028</td>\n",
       "      <td>DOID:8986</td>\n",
       "      <td>CuGdD</td>\n",
       "      <td>0</td>\n",
       "      <td>0</td>\n",
       "    </tr>\n",
       "    <tr>\n",
       "      <th>101030</th>\n",
       "      <td>DB09028</td>\n",
       "      <td>DOID:8986</td>\n",
       "      <td>CtGvD</td>\n",
       "      <td>0</td>\n",
       "      <td>0</td>\n",
       "    </tr>\n",
       "    <tr>\n",
       "      <th>101031</th>\n",
       "      <td>DB09028</td>\n",
       "      <td>DOID:8986</td>\n",
       "      <td>CtGaD</td>\n",
       "      <td>0</td>\n",
       "      <td>0</td>\n",
       "    </tr>\n",
       "    <tr>\n",
       "      <th>101032</th>\n",
       "      <td>DB09028</td>\n",
       "      <td>DOID:8986</td>\n",
       "      <td>CtGuD</td>\n",
       "      <td>0</td>\n",
       "      <td>0</td>\n",
       "    </tr>\n",
       "    <tr>\n",
       "      <th>101033</th>\n",
       "      <td>DB09028</td>\n",
       "      <td>DOID:8986</td>\n",
       "      <td>CtGdD</td>\n",
       "      <td>0</td>\n",
       "      <td>0</td>\n",
       "    </tr>\n",
       "  </tbody>\n",
       "</table>\n",
       "</div>"
      ],
      "text/plain": [
       "       compound_id disease_id metapath  path_count  dwpc\n",
       "101029     DB09028  DOID:8986    CuGdD           0     0\n",
       "101030     DB09028  DOID:8986    CtGvD           0     0\n",
       "101031     DB09028  DOID:8986    CtGaD           0     0\n",
       "101032     DB09028  DOID:8986    CtGuD           0     0\n",
       "101033     DB09028  DOID:8986    CtGdD           0     0"
      ]
     },
     "execution_count": 16,
     "metadata": {},
     "output_type": "execute_result"
    }
   ],
   "source": [
    "dwpc_df = pandas.read_table('data/dwpc.tsv.gz')\n",
    "dwpc_df.tail()"
   ]
  },
  {
   "cell_type": "code",
   "execution_count": 28,
   "metadata": {
    "collapsed": true
   },
   "outputs": [],
   "source": [
    "def compute_metrics(df):\n",
    "    y_true = df.indication\n",
    "    y_score = df.dwpc\n",
    "    series = pandas.Series()\n",
    "    series['nonzero'] = (y_score > 0).mean()\n",
    "    series['auroc'] = sklearn.metrics.roc_auc_score(y_true, y_score)\n",
    "    series['auprc'] = sklearn.metrics.average_precision_score(y_true, y_score)\n",
    "    return series\n",
    "\n",
    "merged_df = part_df.merge(dwpc_df)\n",
    "auc_df = merged_df.groupby('metapath').apply(compute_metrics).reset_index()"
   ]
  },
  {
   "cell_type": "code",
   "execution_count": 29,
   "metadata": {
    "collapsed": false
   },
   "outputs": [
    {
     "data": {
      "text/html": [
       "<div>\n",
       "<table border=\"1\" class=\"dataframe\">\n",
       "  <thead>\n",
       "    <tr style=\"text-align: right;\">\n",
       "      <th></th>\n",
       "      <th>metapath</th>\n",
       "      <th>nonzero</th>\n",
       "      <th>auroc</th>\n",
       "      <th>auprc</th>\n",
       "    </tr>\n",
       "  </thead>\n",
       "  <tbody>\n",
       "    <tr>\n",
       "      <th>9</th>\n",
       "      <td>CsCiD</td>\n",
       "      <td>0.148762</td>\n",
       "      <td>0.741553</td>\n",
       "      <td>0.732153</td>\n",
       "    </tr>\n",
       "    <tr>\n",
       "      <th>8</th>\n",
       "      <td>CiDsD</td>\n",
       "      <td>0.131480</td>\n",
       "      <td>0.712503</td>\n",
       "      <td>0.699054</td>\n",
       "    </tr>\n",
       "    <tr>\n",
       "      <th>10</th>\n",
       "      <td>CtGaD</td>\n",
       "      <td>0.149653</td>\n",
       "      <td>0.692850</td>\n",
       "      <td>0.616763</td>\n",
       "    </tr>\n",
       "    <tr>\n",
       "      <th>0</th>\n",
       "      <td>CbGaD</td>\n",
       "      <td>0.090682</td>\n",
       "      <td>0.630475</td>\n",
       "      <td>0.597622</td>\n",
       "    </tr>\n",
       "    <tr>\n",
       "      <th>14</th>\n",
       "      <td>CuGaD</td>\n",
       "      <td>0.112061</td>\n",
       "      <td>0.604035</td>\n",
       "      <td>0.489858</td>\n",
       "    </tr>\n",
       "    <tr>\n",
       "      <th>4</th>\n",
       "      <td>CdGaD</td>\n",
       "      <td>0.100481</td>\n",
       "      <td>0.591247</td>\n",
       "      <td>0.465220</td>\n",
       "    </tr>\n",
       "    <tr>\n",
       "      <th>7</th>\n",
       "      <td>CdGvD</td>\n",
       "      <td>0.024229</td>\n",
       "      <td>0.532679</td>\n",
       "      <td>0.515344</td>\n",
       "    </tr>\n",
       "    <tr>\n",
       "      <th>17</th>\n",
       "      <td>CuGvD</td>\n",
       "      <td>0.022448</td>\n",
       "      <td>0.529108</td>\n",
       "      <td>0.503470</td>\n",
       "    </tr>\n",
       "    <tr>\n",
       "      <th>16</th>\n",
       "      <td>CuGuD</td>\n",
       "      <td>0.013006</td>\n",
       "      <td>0.522472</td>\n",
       "      <td>0.585561</td>\n",
       "    </tr>\n",
       "    <tr>\n",
       "      <th>6</th>\n",
       "      <td>CdGuD</td>\n",
       "      <td>0.013184</td>\n",
       "      <td>0.521893</td>\n",
       "      <td>0.573895</td>\n",
       "    </tr>\n",
       "    <tr>\n",
       "      <th>5</th>\n",
       "      <td>CdGdD</td>\n",
       "      <td>0.012827</td>\n",
       "      <td>0.521166</td>\n",
       "      <td>0.570945</td>\n",
       "    </tr>\n",
       "    <tr>\n",
       "      <th>15</th>\n",
       "      <td>CuGdD</td>\n",
       "      <td>0.009977</td>\n",
       "      <td>0.517303</td>\n",
       "      <td>0.582755</td>\n",
       "    </tr>\n",
       "    <tr>\n",
       "      <th>13</th>\n",
       "      <td>CtGvD</td>\n",
       "      <td>0.009442</td>\n",
       "      <td>0.514302</td>\n",
       "      <td>0.537003</td>\n",
       "    </tr>\n",
       "    <tr>\n",
       "      <th>12</th>\n",
       "      <td>CtGuD</td>\n",
       "      <td>0.005701</td>\n",
       "      <td>0.509611</td>\n",
       "      <td>0.566094</td>\n",
       "    </tr>\n",
       "    <tr>\n",
       "      <th>3</th>\n",
       "      <td>CbGvD</td>\n",
       "      <td>0.004988</td>\n",
       "      <td>0.508171</td>\n",
       "      <td>0.556769</td>\n",
       "    </tr>\n",
       "    <tr>\n",
       "      <th>2</th>\n",
       "      <td>CbGuD</td>\n",
       "      <td>0.003563</td>\n",
       "      <td>0.506248</td>\n",
       "      <td>0.578510</td>\n",
       "    </tr>\n",
       "    <tr>\n",
       "      <th>1</th>\n",
       "      <td>CbGdD</td>\n",
       "      <td>0.001960</td>\n",
       "      <td>0.503483</td>\n",
       "      <td>0.579420</td>\n",
       "    </tr>\n",
       "    <tr>\n",
       "      <th>11</th>\n",
       "      <td>CtGdD</td>\n",
       "      <td>0.001247</td>\n",
       "      <td>0.501564</td>\n",
       "      <td>0.481190</td>\n",
       "    </tr>\n",
       "  </tbody>\n",
       "</table>\n",
       "</div>"
      ],
      "text/plain": [
       "   metapath   nonzero     auroc     auprc\n",
       "9     CsCiD  0.148762  0.741553  0.732153\n",
       "8     CiDsD  0.131480  0.712503  0.699054\n",
       "10    CtGaD  0.149653  0.692850  0.616763\n",
       "0     CbGaD  0.090682  0.630475  0.597622\n",
       "14    CuGaD  0.112061  0.604035  0.489858\n",
       "4     CdGaD  0.100481  0.591247  0.465220\n",
       "7     CdGvD  0.024229  0.532679  0.515344\n",
       "17    CuGvD  0.022448  0.529108  0.503470\n",
       "16    CuGuD  0.013006  0.522472  0.585561\n",
       "6     CdGuD  0.013184  0.521893  0.573895\n",
       "5     CdGdD  0.012827  0.521166  0.570945\n",
       "15    CuGdD  0.009977  0.517303  0.582755\n",
       "13    CtGvD  0.009442  0.514302  0.537003\n",
       "12    CtGuD  0.005701  0.509611  0.566094\n",
       "3     CbGvD  0.004988  0.508171  0.556769\n",
       "2     CbGuD  0.003563  0.506248  0.578510\n",
       "1     CbGdD  0.001960  0.503483  0.579420\n",
       "11    CtGdD  0.001247  0.501564  0.481190"
      ]
     },
     "execution_count": 29,
     "metadata": {},
     "output_type": "execute_result"
    }
   ],
   "source": [
    "auc_df = auc_df.sort('auroc', ascending=False)\n",
    "auc_df.to_csv('data/auc.tsv', sep='\\t', index=False, float_format='%.3f')\n",
    "auc_df"
   ]
  },
  {
   "cell_type": "code",
   "execution_count": 30,
   "metadata": {
    "collapsed": false
   },
   "outputs": [
    {
     "data": {
      "text/plain": [
       "{'anatomy': 'A',\n",
       " 'association': 'a',\n",
       " 'binding': 'b',\n",
       " 'biological process': 'BP',\n",
       " 'causation': 'c',\n",
       " 'cellular component': 'CC',\n",
       " 'compound': 'C',\n",
       " 'disease': 'D',\n",
       " 'downregulation': 'd',\n",
       " 'evolution': 'e',\n",
       " 'expression': 'e',\n",
       " 'function': 'f',\n",
       " 'gene': 'G',\n",
       " 'indication': 'i',\n",
       " 'interaction': 'i',\n",
       " 'knockdown downregulation': 'kd',\n",
       " 'knockdown upregulation': 'ku',\n",
       " 'localization': 'l',\n",
       " 'molecular function': 'MF',\n",
       " 'overexpression downregulation': 'od',\n",
       " 'overexpression upregulation': 'up',\n",
       " 'participation': 'p',\n",
       " 'pathway': 'PW',\n",
       " 'perturbation': 'PB',\n",
       " 'presense': 'p',\n",
       " 'regulation': 'r',\n",
       " 'side effect': 'SE',\n",
       " 'similarity': 's',\n",
       " 'symptom': 'S',\n",
       " 'target': 't',\n",
       " 'upregulation': 'u',\n",
       " 'variation': 'v'}"
      ]
     },
     "execution_count": 30,
     "metadata": {},
     "output_type": "execute_result"
    }
   ],
   "source": [
    "metagraph.kind_to_abbrev"
   ]
  }
 ],
 "metadata": {
  "kernelspec": {
   "display_name": "Python 3",
   "language": "python",
   "name": "python3"
  },
  "language_info": {
   "codemirror_mode": {
    "name": "ipython",
    "version": 3
   },
   "file_extension": ".py",
   "mimetype": "text/x-python",
   "name": "python",
   "nbconvert_exporter": "python",
   "pygments_lexer": "ipython3",
   "version": "3.4.3"
  }
 },
 "nbformat": 4,
 "nbformat_minor": 0
}
