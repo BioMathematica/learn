{
 "cells": [
  {
   "cell_type": "markdown",
   "metadata": {},
   "source": [
    "## hetnet machine learning"
   ]
  },
  {
   "cell_type": "code",
   "execution_count": 1,
   "metadata": {
    "collapsed": false
   },
   "outputs": [],
   "source": [
    "import itertools\n",
    "import collections\n",
    "import csv\n",
    "import gzip\n",
    "\n",
    "import pandas\n",
    "import sklearn.metrics\n",
    "\n",
    "import hetio.readwrite\n",
    "import hetio.pathtools"
   ]
  },
  {
   "cell_type": "markdown",
   "metadata": {},
   "source": [
    "## Download and load hetnet"
   ]
  },
  {
   "cell_type": "code",
   "execution_count": 2,
   "metadata": {
    "collapsed": false
   },
   "outputs": [],
   "source": [
    "# # Download network\n",
    "# url = 'https://raw.githubusercontent.com/dhimmel/integrate/7ef64533f0822fb5728ab4c1d88dc39f3345dcc8/data/hetnet.json.gz'\n",
    "# ! wget --no-verbose --directory-prefix download/ {url}"
   ]
  },
  {
   "cell_type": "code",
   "execution_count": 3,
   "metadata": {
    "collapsed": false
   },
   "outputs": [
    {
     "name": "stdout",
     "output_type": "stream",
     "text": [
      "CPU times: user 2min 21s, sys: 14.9 s, total: 2min 35s\n",
      "Wall time: 2min 35s\n"
     ]
    }
   ],
   "source": [
    "%%time\n",
    "graph = hetio.readwrite.read_json('download/hetnet.json.gz')\n",
    "metagraph = graph.metagraph"
   ]
  },
  {
   "cell_type": "code",
   "execution_count": 4,
   "metadata": {
    "collapsed": false
   },
   "outputs": [
    {
     "data": {
      "text/plain": [
       "261"
      ]
     },
     "execution_count": 4,
     "metadata": {},
     "output_type": "execute_result"
    }
   ],
   "source": [
    "metapaths = metagraph.extract_metapaths('compound', 'disease', max_length=3)\n",
    "metapaths.pop(0)\n",
    "len(metapaths)"
   ]
  },
  {
   "cell_type": "code",
   "execution_count": 5,
   "metadata": {
    "collapsed": false
   },
   "outputs": [],
   "source": [
    "weights = [x / 50 for x in range(51)]"
   ]
  },
  {
   "cell_type": "markdown",
   "metadata": {},
   "source": [
    "## Helper functions"
   ]
  },
  {
   "cell_type": "code",
   "execution_count": 6,
   "metadata": {
    "collapsed": true
   },
   "outputs": [],
   "source": [
    "def compute_dwpcs(graph, compound_id, disease_id, metapath):\n",
    "    # Compute edge exclusions\n",
    "    exclude_edges = set()\n",
    "    edge_id = compound_id, disease_id, 'indication', 'both'\n",
    "    indication = graph.edge_dict.get(edge_id)\n",
    "    if indication:\n",
    "        exclude_edges.add(indication)\n",
    "        exclude_edges.add(indication.inverse)\n",
    "\n",
    "    compound = graph.get_node(('compound', compound_id))\n",
    "    disease = graph.get_node(('disease', disease_id))\n",
    "\n",
    "    paths = hetio.pathtools.paths_between(graph, compound, disease, metapath, exclude_edges=exclude_edges)\n",
    "    \n",
    "    for w in weights:\n",
    "        dwpc = hetio.pathtools.DWPC(paths, damping_exponent=w, exclude_edges=exclude_edges)\n",
    "\n",
    "        row = collections.OrderedDict()\n",
    "        row['compound_id'] = compound_id\n",
    "        row['disease_id'] = disease_id\n",
    "        row['metapath'] = str(metapath)\n",
    "        row['path_count'] = len(paths)\n",
    "        row['w'] = w\n",
    "        row['dwpc'] = dwpc\n",
    "    \n",
    "        yield row"
   ]
  },
  {
   "cell_type": "markdown",
   "metadata": {},
   "source": [
    "## Read part_df"
   ]
  },
  {
   "cell_type": "code",
   "execution_count": 7,
   "metadata": {
    "collapsed": false
   },
   "outputs": [
    {
     "data": {
      "text/html": [
       "<div>\n",
       "<table border=\"1\" class=\"dataframe\">\n",
       "  <thead>\n",
       "    <tr style=\"text-align: right;\">\n",
       "      <th></th>\n",
       "      <th>compound_id</th>\n",
       "      <th>compound_name</th>\n",
       "      <th>disease_id</th>\n",
       "      <th>disease_name</th>\n",
       "      <th>indication</th>\n",
       "      <th>percentile</th>\n",
       "    </tr>\n",
       "  </thead>\n",
       "  <tbody>\n",
       "    <tr>\n",
       "      <th>9</th>\n",
       "      <td>DB00014</td>\n",
       "      <td>Goserelin</td>\n",
       "      <td>DOID:10283</td>\n",
       "      <td>Prostate cancer</td>\n",
       "      <td>1</td>\n",
       "      <td>0.705331</td>\n",
       "    </tr>\n",
       "    <tr>\n",
       "      <th>20</th>\n",
       "      <td>DB00014</td>\n",
       "      <td>Goserelin</td>\n",
       "      <td>DOID:11119</td>\n",
       "      <td>Gilles de la Tourette syndrome</td>\n",
       "      <td>0</td>\n",
       "      <td>0.007863</td>\n",
       "    </tr>\n",
       "    <tr>\n",
       "      <th>54</th>\n",
       "      <td>DB00014</td>\n",
       "      <td>Goserelin</td>\n",
       "      <td>DOID:14268</td>\n",
       "      <td>sclerosing cholangitis</td>\n",
       "      <td>0</td>\n",
       "      <td>0.011764</td>\n",
       "    </tr>\n",
       "    <tr>\n",
       "      <th>58</th>\n",
       "      <td>DB00014</td>\n",
       "      <td>Goserelin</td>\n",
       "      <td>DOID:1612</td>\n",
       "      <td>Breast cancer</td>\n",
       "      <td>1</td>\n",
       "      <td>0.522334</td>\n",
       "    </tr>\n",
       "    <tr>\n",
       "      <th>82</th>\n",
       "      <td>DB00014</td>\n",
       "      <td>Goserelin</td>\n",
       "      <td>DOID:2986</td>\n",
       "      <td>IgA glomerulonephritis</td>\n",
       "      <td>0</td>\n",
       "      <td>0.013587</td>\n",
       "    </tr>\n",
       "  </tbody>\n",
       "</table>\n",
       "</div>"
      ],
      "text/plain": [
       "   compound_id compound_name  disease_id                    disease_name  \\\n",
       "9      DB00014     Goserelin  DOID:10283                 Prostate cancer   \n",
       "20     DB00014     Goserelin  DOID:11119  Gilles de la Tourette syndrome   \n",
       "54     DB00014     Goserelin  DOID:14268          sclerosing cholangitis   \n",
       "58     DB00014     Goserelin   DOID:1612                   Breast cancer   \n",
       "82     DB00014     Goserelin   DOID:2986          IgA glomerulonephritis   \n",
       "\n",
       "    indication  percentile  \n",
       "9            1    0.705331  \n",
       "20           0    0.007863  \n",
       "54           0    0.011764  \n",
       "58           1    0.522334  \n",
       "82           0    0.013587  "
      ]
     },
     "execution_count": 7,
     "metadata": {},
     "output_type": "execute_result"
    }
   ],
   "source": [
    "part_df = pandas.read_table('data/partition.tsv.gz')\n",
    "part_df = part_df.query('indication == 1 or percentile <= 0.02')\n",
    "part_df.head()"
   ]
  },
  {
   "cell_type": "code",
   "execution_count": 9,
   "metadata": {
    "collapsed": false
   },
   "outputs": [
    {
     "data": {
      "text/plain": [
       "0    4225\n",
       "1    1388\n",
       "dtype: int64"
      ]
     },
     "execution_count": 9,
     "metadata": {},
     "output_type": "execute_result"
    }
   ],
   "source": [
    "part_df.indication.value_counts()"
   ]
  },
  {
   "cell_type": "code",
   "execution_count": 10,
   "metadata": {
    "collapsed": false
   },
   "outputs": [],
   "source": [
    "metanode_to_nodes = graph.get_metanode_to_nodes()"
   ]
  },
  {
   "cell_type": "code",
   "execution_count": 11,
   "metadata": {
    "collapsed": true
   },
   "outputs": [],
   "source": [
    "#compounds = metanode_to_nodes[metagraph.get_node('compound')]\n",
    "#diseases = metanode_to_nodes[metagraph.get_node('disease')]\n",
    "#MS = graph.get_node(('disease', 'DOID:2377'))"
   ]
  },
  {
   "cell_type": "code",
   "execution_count": null,
   "metadata": {
    "collapsed": false
   },
   "outputs": [],
   "source": [
    "%%time\n",
    "write_file = gzip.open('data/dwpc.tsv.gz', 'wt')\n",
    "header = ['compound_id', 'disease_id', 'metapath', 'path_count', 'w', 'dwpc']\n",
    "writer = csv.DictWriter(write_file, delimiter='\\t', fieldnames=header)\n",
    "writer.writeheader()\n",
    "for i, row in part_df.iterrows():\n",
    "    print('Computing DWPCs for {} and {}'.format(row.compound_name, row.disease_name), end='\\r')\n",
    "    for metapath in metapaths:\n",
    "        compound_id = row['compound_id']\n",
    "        disease_id = row['disease_id']\n",
    "        rows = compute_dwpcs(graph, compound_id, disease_id, metapath)\n",
    "        writer.writerows(rows)\n",
    "\n",
    "write_file.close()"
   ]
  },
  {
   "cell_type": "markdown",
   "metadata": {},
   "source": [
    "# Performance"
   ]
  },
  {
   "cell_type": "code",
   "execution_count": null,
   "metadata": {
    "collapsed": false
   },
   "outputs": [],
   "source": [
    "dwpc_df = pandas.read_table('data/dwpc.tsv.gz')\n",
    "dwpc_df.tail()"
   ]
  },
  {
   "cell_type": "code",
   "execution_count": null,
   "metadata": {
    "collapsed": true
   },
   "outputs": [],
   "source": [
    "def compute_metrics(df):\n",
    "    y_true = df.indication\n",
    "    y_score = df.dwpc\n",
    "    series = pandas.Series()\n",
    "    series['nonzero'] = (y_score > 0).mean()\n",
    "    series['auroc'] = sklearn.metrics.roc_auc_score(y_true, y_score)\n",
    "    series['auprc'] = sklearn.metrics.average_precision_score(y_true, y_score)\n",
    "    return series\n",
    "\n",
    "merged_df = part_df.merge(dwpc_df)\n",
    "auc_df = merged_df.groupby(['metapath', 'w']).apply(compute_metrics).reset_index()"
   ]
  },
  {
   "cell_type": "code",
   "execution_count": null,
   "metadata": {
    "collapsed": false
   },
   "outputs": [],
   "source": [
    "#auc_df = auc_df.sort('auroc', ascending=False)\n",
    "auc_df.to_csv('data/auc.tsv', sep='\\t', index=False, float_format='%.3f')\n",
    "auc_df.head()"
   ]
  },
  {
   "cell_type": "code",
   "execution_count": null,
   "metadata": {
    "collapsed": false
   },
   "outputs": [],
   "source": [
    "metagraph.kind_to_abbrev"
   ]
  }
 ],
 "metadata": {
  "kernelspec": {
   "display_name": "Python 3",
   "language": "python",
   "name": "python3"
  },
  "language_info": {
   "codemirror_mode": {
    "name": "ipython",
    "version": 3
   },
   "file_extension": ".py",
   "mimetype": "text/x-python",
   "name": "python",
   "nbconvert_exporter": "python",
   "pygments_lexer": "ipython3",
   "version": "3.4.3"
  }
 },
 "nbformat": 4,
 "nbformat_minor": 0
}
