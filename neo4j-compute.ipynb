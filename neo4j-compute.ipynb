{
 "cells": [
  {
   "cell_type": "markdown",
   "metadata": {},
   "source": [
    "# DWPC computation using neo4j"
   ]
  },
  {
   "cell_type": "code",
   "execution_count": null,
   "metadata": {
    "collapsed": false
   },
   "outputs": [],
   "source": [
    "import threading\n",
    "import concurrent.futures\n",
    "import gzip\n",
    "import csv\n",
    "import time\n",
    "\n",
    "import pandas\n",
    "import py2neo\n",
    "\n",
    "import hetio.readwrite\n",
    "import hetio.neo4j"
   ]
  },
  {
   "cell_type": "code",
   "execution_count": null,
   "metadata": {
    "collapsed": false
   },
   "outputs": [],
   "source": [
    "# Read hetnet metagraph\n",
    "path = 'https://raw.githubusercontent.com/dhimmel/integrate/c56d312a53e351d26016d5fd4751a9715cc3f0c3/data/metagraph.json'\n",
    "metagraph = hetio.readwrite.read_metagraph(path)"
   ]
  },
  {
   "cell_type": "code",
   "execution_count": null,
   "metadata": {
    "collapsed": false
   },
   "outputs": [],
   "source": [
    "# Extract metapaths\n",
    "metapaths = metagraph.extract_metapaths('compound', 'disease', max_length=4)\n",
    "metapaths.pop(0)\n",
    "metapath_to_query = {str(metapath): hetio.neo4j.construct_dwpc_query(metapath, 'identifier')\n",
    "                     for metapath in metapaths}\n",
    "len(metapaths)"
   ]
  },
  {
   "cell_type": "code",
   "execution_count": null,
   "metadata": {
    "collapsed": false
   },
   "outputs": [],
   "source": [
    "# Read drug-compound disease pairs\n",
    "part_df = pandas.read_table('data/partition.tsv.gz')\n",
    "part_df.tail()"
   ]
  },
  {
   "cell_type": "code",
   "execution_count": null,
   "metadata": {
    "collapsed": false
   },
   "outputs": [],
   "source": [
    "# Take a subset of compounds and diseases to reduce runtime\n",
    "disease_df = part_df.groupby(['disease_id', 'disease_name']).indication.sum().reset_index()\n",
    "compound_df = part_df.groupby(['compound_id', 'compound_name']).indication.sum().reset_index()\n",
    "disease_df = disease_df.query('indication >= 10')\n",
    "compound_df = compound_df.query('indication >= 3')\n",
    "part_df = part_df[part_df.compound_id.isin(compound_df.compound_id) & part_df.disease_id.isin(disease_df.disease_id)]\n",
    "len(disease_df), len(compound_df), len(part_df)"
   ]
  },
  {
   "cell_type": "code",
   "execution_count": null,
   "metadata": {
    "collapsed": false
   },
   "outputs": [],
   "source": [
    "# Open neo4j connection\n",
    "uri = 'http://localhost:7474/db/data/'\n",
    "neo = py2neo.Graph(uri)"
   ]
  },
  {
   "cell_type": "code",
   "execution_count": null,
   "metadata": {
    "collapsed": false
   },
   "outputs": [],
   "source": [
    "def generate_parameters(max_elems=None):\n",
    "    \"\"\"Generate compound, disease, metapath combinations\"\"\"\n",
    "    n = 0\n",
    "    for i, row in part_df.iterrows():\n",
    "        for metapath, query in metapath_to_query.items():\n",
    "            if max_elems is not None and n == max_elems:\n",
    "                break\n",
    "            yield {\n",
    "                'compound_id': row['compound_id'],\n",
    "                'disease_id': row['disease_id'],\n",
    "                'metapath': metapath,\n",
    "                'query': query,\n",
    "                'w': 0.4,\n",
    "            }\n",
    "            n += 1"
   ]
  },
  {
   "cell_type": "code",
   "execution_count": null,
   "metadata": {
    "collapsed": false
   },
   "outputs": [],
   "source": [
    "def compute_dwpc(query, metapath, compound_id, disease_id, w):\n",
    "    \"\"\"Execute the neo4j query and write results to file\"\"\"\n",
    "    start = time.time()\n",
    "    results = neo.cypher.execute(query, source=compound_id, target=disease_id, w=w)\n",
    "    record = results.one\n",
    "    seconds = '{0:.4g}'.format(time.time() - start)\n",
    "    row = compound_id, disease_id, metapath, record['PC'], w, record['DWPC'], seconds\n",
    "    with writer_lock:\n",
    "        writer.writerow(row)"
   ]
  },
  {
   "cell_type": "code",
   "execution_count": null,
   "metadata": {
    "collapsed": false
   },
   "outputs": [],
   "source": [
    "%%time\n",
    "\n",
    "# Parameters\n",
    "workers = 16\n",
    "max_elems = None\n",
    "\n",
    "# Prepare writer\n",
    "path = 'data/dwpc.tsv.gz'\n",
    "write_file = gzip.open(path, 'wt')\n",
    "writer = csv.writer(write_file, delimiter='\\t')\n",
    "writer.writerow(['compound_id', 'disease_id', 'metapath', 'PC', 'w', 'DWPC', 'seconds'])\n",
    "\n",
    "# Create ThreadPoolExecutor\n",
    "executor = concurrent.futures.ThreadPoolExecutor(max_workers=workers)\n",
    "writer_lock = threading.Lock()\n",
    "\n",
    "# Submit jobs\n",
    "for params in generate_parameters(max_elems):\n",
    "    while executor._work_queue.qsize() > 5000:\n",
    "        time.sleep(1)\n",
    "    executor.submit(compute_dwpc, **params)\n",
    "\n",
    "# Shutdown and close\n",
    "executor.shutdown()\n",
    "write_file.close()"
   ]
  },
  {
   "cell_type": "code",
   "execution_count": null,
   "metadata": {
    "collapsed": true
   },
   "outputs": [],
   "source": []
  }
 ],
 "metadata": {
  "kernelspec": {
   "display_name": "Python 3",
   "language": "python",
   "name": "python3"
  },
  "language_info": {
   "codemirror_mode": {
    "name": "ipython",
    "version": 3
   },
   "file_extension": ".py",
   "mimetype": "text/x-python",
   "name": "python",
   "nbconvert_exporter": "python",
   "pygments_lexer": "ipython3",
   "version": "3.5.0"
  }
 },
 "nbformat": 4,
 "nbformat_minor": 0
}
