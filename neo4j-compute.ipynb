{
 "cells": [
  {
   "cell_type": "markdown",
   "metadata": {},
   "source": [
    "# DWPC computation using neo4j"
   ]
  },
  {
   "cell_type": "code",
   "execution_count": 1,
   "metadata": {
    "collapsed": false
   },
   "outputs": [],
   "source": [
    "import threading\n",
    "import concurrent.futures\n",
    "import gzip\n",
    "import csv\n",
    "import time\n",
    "\n",
    "import pandas\n",
    "import py2neo\n",
    "\n",
    "import hetio.readwrite\n",
    "import hetio.neo4j"
   ]
  },
  {
   "cell_type": "code",
   "execution_count": 2,
   "metadata": {
    "collapsed": false
   },
   "outputs": [],
   "source": [
    "# Read hetnet metagraph\n",
    "path = 'https://raw.githubusercontent.com/dhimmel/integrate/c56d312a53e351d26016d5fd4751a9715cc3f0c3/data/metagraph.json'\n",
    "metagraph = hetio.readwrite.read_metagraph(path)"
   ]
  },
  {
   "cell_type": "code",
   "execution_count": 3,
   "metadata": {
    "collapsed": false
   },
   "outputs": [
    {
     "data": {
      "text/plain": [
       "1979"
      ]
     },
     "execution_count": 3,
     "metadata": {},
     "output_type": "execute_result"
    }
   ],
   "source": [
    "# Extract metapaths\n",
    "metapaths = metagraph.extract_metapaths('compound', 'disease', max_length=4)\n",
    "metapaths.pop(0)\n",
    "metapath_to_query = {str(metapath): hetio.neo4j.construct_dwpc_query(metapath, 'identifier')\n",
    "                     for metapath in metapaths}\n",
    "len(metapaths)"
   ]
  },
  {
   "cell_type": "code",
   "execution_count": 4,
   "metadata": {
    "collapsed": false
   },
   "outputs": [
    {
     "data": {
      "text/html": [
       "<div>\n",
       "<table border=\"1\" class=\"dataframe\">\n",
       "  <thead>\n",
       "    <tr style=\"text-align: right;\">\n",
       "      <th></th>\n",
       "      <th>compound_id</th>\n",
       "      <th>compound_name</th>\n",
       "      <th>disease_id</th>\n",
       "      <th>disease_name</th>\n",
       "      <th>indication</th>\n",
       "      <th>percentile</th>\n",
       "    </tr>\n",
       "  </thead>\n",
       "  <tbody>\n",
       "    <tr>\n",
       "      <th>212619</th>\n",
       "      <td>DB09028</td>\n",
       "      <td>Cytisine</td>\n",
       "      <td>DOID:9744</td>\n",
       "      <td>type 1 diabetes mellitus</td>\n",
       "      <td>0</td>\n",
       "      <td>0.849434</td>\n",
       "    </tr>\n",
       "    <tr>\n",
       "      <th>212620</th>\n",
       "      <td>DB09028</td>\n",
       "      <td>Cytisine</td>\n",
       "      <td>DOID:9835</td>\n",
       "      <td>refractive error</td>\n",
       "      <td>0</td>\n",
       "      <td>0.262252</td>\n",
       "    </tr>\n",
       "    <tr>\n",
       "      <th>212621</th>\n",
       "      <td>DB09028</td>\n",
       "      <td>Cytisine</td>\n",
       "      <td>DOID:986</td>\n",
       "      <td>alopecia areata</td>\n",
       "      <td>0</td>\n",
       "      <td>0.584285</td>\n",
       "    </tr>\n",
       "    <tr>\n",
       "      <th>212622</th>\n",
       "      <td>DB09028</td>\n",
       "      <td>Cytisine</td>\n",
       "      <td>DOID:9917</td>\n",
       "      <td>Pleural cancer</td>\n",
       "      <td>0</td>\n",
       "      <td>0.032494</td>\n",
       "    </tr>\n",
       "    <tr>\n",
       "      <th>212623</th>\n",
       "      <td>DB09028</td>\n",
       "      <td>Cytisine</td>\n",
       "      <td>DOID:9970</td>\n",
       "      <td>obesity</td>\n",
       "      <td>0</td>\n",
       "      <td>0.733156</td>\n",
       "    </tr>\n",
       "  </tbody>\n",
       "</table>\n",
       "</div>"
      ],
      "text/plain": [
       "       compound_id compound_name disease_id              disease_name  \\\n",
       "212619     DB09028      Cytisine  DOID:9744  type 1 diabetes mellitus   \n",
       "212620     DB09028      Cytisine  DOID:9835          refractive error   \n",
       "212621     DB09028      Cytisine   DOID:986           alopecia areata   \n",
       "212622     DB09028      Cytisine  DOID:9917            Pleural cancer   \n",
       "212623     DB09028      Cytisine  DOID:9970                   obesity   \n",
       "\n",
       "        indication  percentile  \n",
       "212619           0    0.849434  \n",
       "212620           0    0.262252  \n",
       "212621           0    0.584285  \n",
       "212622           0    0.032494  \n",
       "212623           0    0.733156  "
      ]
     },
     "execution_count": 4,
     "metadata": {},
     "output_type": "execute_result"
    }
   ],
   "source": [
    "# Read drug-compound disease pairs\n",
    "part_df = pandas.read_table('data/partition.tsv.gz')\n",
    "part_df.tail()"
   ]
  },
  {
   "cell_type": "code",
   "execution_count": 5,
   "metadata": {
    "collapsed": false
   },
   "outputs": [],
   "source": [
    "# Open neo4j connection\n",
    "uri = 'http://localhost:7474/db/data/'\n",
    "neo = py2neo.Graph(uri)"
   ]
  },
  {
   "cell_type": "code",
   "execution_count": 6,
   "metadata": {
    "collapsed": false
   },
   "outputs": [],
   "source": [
    "def generate_parameters(max_elems=None):\n",
    "    \"\"\"Generate compound, disease, metapath combinations\"\"\"\n",
    "    n = 0\n",
    "    for i, row in part_df.iterrows():\n",
    "        for metapath, query in metapath_to_query.items():\n",
    "            if max_elems is not None and n == max_elems:\n",
    "                break\n",
    "            yield {\n",
    "                'compound_id': row['compound_id'],\n",
    "                'disease_id': row['disease_id'],\n",
    "                'metapath': metapath,\n",
    "                'query': query,\n",
    "                'w': 0.4,\n",
    "            }\n",
    "            n += 1"
   ]
  },
  {
   "cell_type": "code",
   "execution_count": null,
   "metadata": {
    "collapsed": false
   },
   "outputs": [],
   "source": [
    "def compute_dwpc(query, metapath, compound_id, disease_id, w):\n",
    "    \"\"\"Execute the neo4j query and write results to file\"\"\"\n",
    "    start = time.time()\n",
    "    results = neo.cypher.execute(query, source=compound_id, target=disease_id, w=w)\n",
    "    record = results.one\n",
    "    seconds = '{0:.4g}'.format(time.time() - start)\n",
    "    row = compound_id, disease_id, metapath, record['PC'], w, record['DWPC'], seconds\n",
    "    with writer_lock:\n",
    "        writer.writerow(row)"
   ]
  },
  {
   "cell_type": "code",
   "execution_count": null,
   "metadata": {
    "collapsed": false
   },
   "outputs": [],
   "source": [
    "%%time\n",
    "\n",
    "# Parameters\n",
    "workers = 16\n",
    "max_elems = 1e5\n",
    "\n",
    "# Prepare writer\n",
    "path = 'data/dwpc-neo.tsv.gz'\n",
    "write_file = gzip.open(path, 'wt')\n",
    "writer = csv.writer(write_file, delimiter='\\t')\n",
    "writer.writerow(['compound_id', 'disease_id', 'metapath', 'PC', 'w', 'DWPC', 'seconds'])\n",
    "\n",
    "# Create ThreadPoolExecutor\n",
    "executor = concurrent.futures.ThreadPoolExecutor(max_workers=workers)\n",
    "writer_lock = threading.Lock()\n",
    "\n",
    "# Submit jobs\n",
    "for params in generate_parameters(max_elems):\n",
    "    while executor._work_queue.qsize() > 5000:\n",
    "        time.sleep(1)\n",
    "    executor.submit(compute_dwpc, **params)\n",
    "\n",
    "# Shutdown and close\n",
    "executor.shutdown()\n",
    "write_file.close()"
   ]
  },
  {
   "cell_type": "code",
   "execution_count": null,
   "metadata": {
    "collapsed": true
   },
   "outputs": [],
   "source": []
  },
  {
   "cell_type": "code",
   "execution_count": null,
   "metadata": {
    "collapsed": false
   },
   "outputs": [],
   "source": [
    "# dwpc_df = pandas.read_table('data/dwpc-neo-TEST.tsv.gz')\n",
    "# dwpc_df.sort_values('seconds', ascending=False)"
   ]
  }
 ],
 "metadata": {
  "kernelspec": {
   "display_name": "Python 3",
   "language": "python",
   "name": "python3"
  },
  "language_info": {
   "codemirror_mode": {
    "name": "ipython",
    "version": 3
   },
   "file_extension": ".py",
   "mimetype": "text/x-python",
   "name": "python",
   "nbconvert_exporter": "python",
   "pygments_lexer": "ipython3",
   "version": "3.5.0"
  }
 },
 "nbformat": 4,
 "nbformat_minor": 0
}
